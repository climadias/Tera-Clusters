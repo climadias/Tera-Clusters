{
 "cells": [
  {
   "cell_type": "markdown",
   "metadata": {},
   "source": [
    "# senadores - EDA e modelo produção parlamentar"
   ]
  },
  {
   "cell_type": "code",
   "execution_count": 1,
   "metadata": {},
   "outputs": [],
   "source": [
    "import pandas as pd\n",
    "import numpy as np\n",
    "import seaborn as sns\n",
    "import matplotlib.pyplot as plt\n",
    "plt.rc('figure', figsize=(12, 8))\n",
    "import janitor\n",
    "\n",
    "import datetime\n",
    "\n",
    "import sqlite3 as sql\n",
    "\n",
    "from sklearn.cluster import KMeans\n",
    "from numpy import unique\n",
    "from numpy import where\n",
    "\n",
    "#nomalizing data to its std (x_new= x/std(x))\n",
    "from scipy.cluster.vq import whiten\n",
    "\n",
    "from IPython.core.interactiveshell import InteractiveShell \n",
    "InteractiveShell.ast_node_interactivity=\"all\""
   ]
  },
  {
   "cell_type": "markdown",
   "metadata": {},
   "source": [
    "## EDA Básico"
   ]
  },
  {
   "cell_type": "code",
   "execution_count": 2,
   "metadata": {},
   "outputs": [
    {
     "name": "stdout",
     "output_type": "stream",
     "text": [
      "base_completa.db  Normalização_03.ipynb\n"
     ]
    }
   ],
   "source": [
    "!ls ../../dados/sql"
   ]
  },
  {
   "cell_type": "code",
   "execution_count": 3,
   "metadata": {},
   "outputs": [],
   "source": [
    "#Dados de parlamentares\n",
    "con = sql.connect(\"../../dados/sql/base_completa.db\")\n",
    "df_sen=pd.read_sql(\"select * from senadores_cadastro\",con)\n",
    "df_sen_prop=pd.read_sql(\"select * from senadores_propostas\",con)\n",
    "df_sen_sess=pd.read_sql(\"select * from senadores_sessoes\",con)\n",
    "df_sen_vot=pd.read_sql(\"select * from senadores_votacoes\",con)\n",
    "df_diap=pd.read_sql(\"select * from diap\",con)\n",
    "con.close()"
   ]
  },
  {
   "cell_type": "code",
   "execution_count": 4,
   "metadata": {},
   "outputs": [
    {
     "name": "stdout",
     "output_type": "stream",
     "text": [
      "<class 'pandas.core.frame.DataFrame'>\n",
      "RangeIndex: 79 entries, 0 to 78\n",
      "Data columns (total 30 columns):\n",
      " #   Column                   Non-Null Count  Dtype  \n",
      "---  ------                   --------------  -----  \n",
      " 0   CPF                      79 non-null     object \n",
      " 1   NM_CANDIDATO_x           79 non-null     object \n",
      " 2   DT_NASCIMENTO            79 non-null     object \n",
      " 3   SG_UF_NASCIMENTO         79 non-null     object \n",
      " 4   NM_MUNICIPIO_NASCIMENTO  79 non-null     object \n",
      " 5   DS_GENERO                79 non-null     object \n",
      " 6   DS_GRAU_INSTRUCAO        79 non-null     object \n",
      " 7   DS_ESTADO_CIVIL          79 non-null     object \n",
      " 8   DS_COR_RACA              79 non-null     object \n",
      " 9   DS_OCUPACAO              79 non-null     object \n",
      " 10  VL_BENS                  79 non-null     float64\n",
      " 11  ANO_ELEICAO              79 non-null     int64  \n",
      " 12  DS_CARGO                 79 non-null     object \n",
      " 13  SG_PARTIDO               79 non-null     object \n",
      " 14  SG_UE                    79 non-null     object \n",
      " 15  SQ_CANDIDATO             79 non-null     int64  \n",
      " 16  NM_URNA_CANDIDATO        79 non-null     object \n",
      " 17  IDADE                    79 non-null     float64\n",
      " 18  NM_EMAIL                 79 non-null     object \n",
      " 19  VR_DESPESA_CONTRATADA    79 non-null     float64\n",
      " 20  followers_count          68 non-null     float64\n",
      " 21  tweets                   68 non-null     float64\n",
      " 22  NM_CANDIDATO_y           79 non-null     object \n",
      " 23  ID_SENADO                76 non-null     object \n",
      " 24  ID_PUB                   76 non-null     object \n",
      " 25  FOTO_URI                 76 non-null     object \n",
      " 26  URL_SENADO               76 non-null     object \n",
      " 27  URL_PARTICULAR           0 non-null      object \n",
      " 28  MESA                     76 non-null     object \n",
      " 29  LIDERANCA                76 non-null     object \n",
      "dtypes: float64(5), int64(2), object(23)\n",
      "memory usage: 18.6+ KB\n",
      "<class 'pandas.core.frame.DataFrame'>\n",
      "RangeIndex: 101 entries, 0 to 100\n",
      "Data columns (total 7 columns):\n",
      " #   Column       Non-Null Count  Dtype  \n",
      "---  ------       --------------  -----  \n",
      " 0   CPF          100 non-null    object \n",
      " 1   mandatos     101 non-null    int64  \n",
      " 2   cabeças      101 non-null    float64\n",
      " 3   debatedor    101 non-null    int64  \n",
      " 4   articulador  101 non-null    int64  \n",
      " 5   formulador   101 non-null    int64  \n",
      " 6   negociador   101 non-null    int64  \n",
      "dtypes: float64(1), int64(5), object(1)\n",
      "memory usage: 5.6+ KB\n"
     ]
    }
   ],
   "source": [
    "df_sen.info()\n",
    "df_diap.info()"
   ]
  },
  {
   "cell_type": "code",
   "execution_count": 5,
   "metadata": {},
   "outputs": [],
   "source": [
    "df_sen.drop(columns=[\"NM_CANDIDATO_y\",\"NM_CANDIDATO_x\",\"NM_MUNICIPIO_NASCIMENTO\",\"SQ_CANDIDATO\",\n",
    "                           \"IDADE\",\"NM_EMAIL\",\"URL_SENADO\",\"FOTO_URI\",\"URL_PARTICULAR\"], inplace=True)"
   ]
  },
  {
   "cell_type": "code",
   "execution_count": 6,
   "metadata": {},
   "outputs": [
    {
     "data": {
      "text/html": [
       "<div>\n",
       "<style scoped>\n",
       "    .dataframe tbody tr th:only-of-type {\n",
       "        vertical-align: middle;\n",
       "    }\n",
       "\n",
       "    .dataframe tbody tr th {\n",
       "        vertical-align: top;\n",
       "    }\n",
       "\n",
       "    .dataframe thead th {\n",
       "        text-align: right;\n",
       "    }\n",
       "</style>\n",
       "<table border=\"1\" class=\"dataframe\">\n",
       "  <thead>\n",
       "    <tr style=\"text-align: right;\">\n",
       "      <th></th>\n",
       "      <th>CPF</th>\n",
       "      <th>DT_NASCIMENTO</th>\n",
       "      <th>SG_UF_NASCIMENTO</th>\n",
       "      <th>DS_GENERO</th>\n",
       "      <th>DS_GRAU_INSTRUCAO</th>\n",
       "      <th>DS_ESTADO_CIVIL</th>\n",
       "      <th>DS_COR_RACA</th>\n",
       "      <th>DS_OCUPACAO</th>\n",
       "      <th>VL_BENS</th>\n",
       "      <th>ANO_ELEICAO</th>\n",
       "      <th>...</th>\n",
       "      <th>SG_PARTIDO</th>\n",
       "      <th>SG_UE</th>\n",
       "      <th>NM_URNA_CANDIDATO</th>\n",
       "      <th>VR_DESPESA_CONTRATADA</th>\n",
       "      <th>followers_count</th>\n",
       "      <th>tweets</th>\n",
       "      <th>ID_SENADO</th>\n",
       "      <th>ID_PUB</th>\n",
       "      <th>MESA</th>\n",
       "      <th>LIDERANCA</th>\n",
       "    </tr>\n",
       "  </thead>\n",
       "  <tbody>\n",
       "    <tr>\n",
       "      <th>15</th>\n",
       "      <td>00135968372</td>\n",
       "      <td>01/08/1942</td>\n",
       "      <td>CE</td>\n",
       "      <td>MASCULINO</td>\n",
       "      <td>SUPERIOR COMPLETO</td>\n",
       "      <td>CASADO(A)</td>\n",
       "      <td>BRANCA</td>\n",
       "      <td>ADVOGADO</td>\n",
       "      <td>1256546.67</td>\n",
       "      <td>2014</td>\n",
       "      <td>...</td>\n",
       "      <td>PTB</td>\n",
       "      <td>PI</td>\n",
       "      <td>ELMANO - O VEIN TRABALHADOR</td>\n",
       "      <td>2472971.60</td>\n",
       "      <td>NaN</td>\n",
       "      <td>NaN</td>\n",
       "      <td>5531</td>\n",
       "      <td>810</td>\n",
       "      <td>Não</td>\n",
       "      <td>Sim</td>\n",
       "    </tr>\n",
       "    <tr>\n",
       "      <th>38</th>\n",
       "      <td>07654871449</td>\n",
       "      <td>23/04/1951</td>\n",
       "      <td>PE</td>\n",
       "      <td>MASCULINO</td>\n",
       "      <td>SUPERIOR COMPLETO</td>\n",
       "      <td>CASADO(A)</td>\n",
       "      <td>PARDA</td>\n",
       "      <td>ENGENHEIRO</td>\n",
       "      <td>1999315.15</td>\n",
       "      <td>2018</td>\n",
       "      <td>...</td>\n",
       "      <td>DEM</td>\n",
       "      <td>RR</td>\n",
       "      <td>CHICO RODRIGUES</td>\n",
       "      <td>845119.85</td>\n",
       "      <td>467.0</td>\n",
       "      <td>163.0</td>\n",
       "      <td>470</td>\n",
       "      <td>815</td>\n",
       "      <td>Não</td>\n",
       "      <td>Sim</td>\n",
       "    </tr>\n",
       "    <tr>\n",
       "      <th>51</th>\n",
       "      <td>21840571187</td>\n",
       "      <td>20/01/1961</td>\n",
       "      <td>SP</td>\n",
       "      <td>MASCULINO</td>\n",
       "      <td>ENSINO FUNDAMENTAL INCOMPLETO</td>\n",
       "      <td>DIVORCIADO(A)</td>\n",
       "      <td>BRANCA</td>\n",
       "      <td>JORNALEIRO</td>\n",
       "      <td>95000.00</td>\n",
       "      <td>2018</td>\n",
       "      <td>...</td>\n",
       "      <td>PRP</td>\n",
       "      <td>GO</td>\n",
       "      <td>JORGE KAJURU</td>\n",
       "      <td>209591.06</td>\n",
       "      <td>274458.0</td>\n",
       "      <td>59703.0</td>\n",
       "      <td>5895</td>\n",
       "      <td>863</td>\n",
       "      <td>Não</td>\n",
       "      <td>Não</td>\n",
       "    </tr>\n",
       "    <tr>\n",
       "      <th>11</th>\n",
       "      <td>07588615249</td>\n",
       "      <td>13/08/1958</td>\n",
       "      <td>SP</td>\n",
       "      <td>MASCULINO</td>\n",
       "      <td>SUPERIOR COMPLETO</td>\n",
       "      <td>CASADO(A)</td>\n",
       "      <td>BRANCA</td>\n",
       "      <td>ENGENHEIRO</td>\n",
       "      <td>1650485.60</td>\n",
       "      <td>2014</td>\n",
       "      <td>...</td>\n",
       "      <td>PSD</td>\n",
       "      <td>AM</td>\n",
       "      <td>OMAR AZIZ</td>\n",
       "      <td>4412079.43</td>\n",
       "      <td>56545.0</td>\n",
       "      <td>2186.0</td>\n",
       "      <td>5525</td>\n",
       "      <td>803</td>\n",
       "      <td>Não</td>\n",
       "      <td>Não</td>\n",
       "    </tr>\n",
       "    <tr>\n",
       "      <th>26</th>\n",
       "      <td>47555882604</td>\n",
       "      <td>09/05/1961</td>\n",
       "      <td>MG</td>\n",
       "      <td>MASCULINO</td>\n",
       "      <td>SUPERIOR COMPLETO</td>\n",
       "      <td>SOLTEIRO(A)</td>\n",
       "      <td>BRANCA</td>\n",
       "      <td>SERVIDOR PÚBLICO ESTADUAL</td>\n",
       "      <td>562000.00</td>\n",
       "      <td>2014</td>\n",
       "      <td>...</td>\n",
       "      <td>PSDB</td>\n",
       "      <td>MG</td>\n",
       "      <td>ANTONIO ANASTASIA</td>\n",
       "      <td>18083083.27</td>\n",
       "      <td>63838.0</td>\n",
       "      <td>6516.0</td>\n",
       "      <td>5529</td>\n",
       "      <td>898</td>\n",
       "      <td>Sim</td>\n",
       "      <td>Não</td>\n",
       "    </tr>\n",
       "  </tbody>\n",
       "</table>\n",
       "<p>5 rows × 21 columns</p>\n",
       "</div>"
      ],
      "text/plain": [
       "            CPF DT_NASCIMENTO SG_UF_NASCIMENTO  DS_GENERO  \\\n",
       "15  00135968372    01/08/1942               CE  MASCULINO   \n",
       "38  07654871449    23/04/1951               PE  MASCULINO   \n",
       "51  21840571187    20/01/1961               SP  MASCULINO   \n",
       "11  07588615249    13/08/1958               SP  MASCULINO   \n",
       "26  47555882604    09/05/1961               MG  MASCULINO   \n",
       "\n",
       "                DS_GRAU_INSTRUCAO DS_ESTADO_CIVIL DS_COR_RACA  \\\n",
       "15              SUPERIOR COMPLETO       CASADO(A)      BRANCA   \n",
       "38              SUPERIOR COMPLETO       CASADO(A)       PARDA   \n",
       "51  ENSINO FUNDAMENTAL INCOMPLETO   DIVORCIADO(A)      BRANCA   \n",
       "11              SUPERIOR COMPLETO       CASADO(A)      BRANCA   \n",
       "26              SUPERIOR COMPLETO     SOLTEIRO(A)      BRANCA   \n",
       "\n",
       "                  DS_OCUPACAO     VL_BENS  ANO_ELEICAO  ... SG_PARTIDO SG_UE  \\\n",
       "15                   ADVOGADO  1256546.67         2014  ...        PTB    PI   \n",
       "38                 ENGENHEIRO  1999315.15         2018  ...        DEM    RR   \n",
       "51                 JORNALEIRO    95000.00         2018  ...        PRP    GO   \n",
       "11                 ENGENHEIRO  1650485.60         2014  ...        PSD    AM   \n",
       "26  SERVIDOR PÚBLICO ESTADUAL   562000.00         2014  ...       PSDB    MG   \n",
       "\n",
       "              NM_URNA_CANDIDATO VR_DESPESA_CONTRATADA  followers_count  \\\n",
       "15  ELMANO - O VEIN TRABALHADOR            2472971.60              NaN   \n",
       "38              CHICO RODRIGUES             845119.85            467.0   \n",
       "51                 JORGE KAJURU             209591.06         274458.0   \n",
       "11                    OMAR AZIZ            4412079.43          56545.0   \n",
       "26            ANTONIO ANASTASIA           18083083.27          63838.0   \n",
       "\n",
       "     tweets  ID_SENADO ID_PUB MESA LIDERANCA  \n",
       "15      NaN       5531    810  Não       Sim  \n",
       "38    163.0        470    815  Não       Sim  \n",
       "51  59703.0       5895    863  Não       Não  \n",
       "11   2186.0       5525    803  Não       Não  \n",
       "26   6516.0       5529    898  Sim       Não  \n",
       "\n",
       "[5 rows x 21 columns]"
      ]
     },
     "execution_count": 6,
     "metadata": {},
     "output_type": "execute_result"
    }
   ],
   "source": [
    "df_sen.sample(5)"
   ]
  },
  {
   "cell_type": "code",
   "execution_count": 7,
   "metadata": {},
   "outputs": [
    {
     "data": {
      "text/plain": [
       "(2061, 10)"
      ]
     },
     "execution_count": 7,
     "metadata": {},
     "output_type": "execute_result"
    },
    {
     "name": "stdout",
     "output_type": "stream",
     "text": [
      "<class 'pandas.core.frame.DataFrame'>\n",
      "RangeIndex: 2061 entries, 0 to 2060\n",
      "Data columns (total 10 columns):\n",
      " #   Column            Non-Null Count  Dtype \n",
      "---  ------            --------------  ----- \n",
      " 0   PROP_ID           2061 non-null   object\n",
      " 1   ID_SENADO         2061 non-null   object\n",
      " 2   TIPO              2061 non-null   object\n",
      " 3   TIPO_DESC         2061 non-null   object\n",
      " 4   PROP_ANO          2061 non-null   int64 \n",
      " 5   PROP_DATA         2061 non-null   object\n",
      " 6   PROP_DS_MATERIA   2061 non-null   object\n",
      " 7   PROP_NATUREZA     2061 non-null   object\n",
      " 8   PROP_STATUS_DATA  1966 non-null   object\n",
      " 9   PROP_STATUS       1966 non-null   object\n",
      "dtypes: int64(1), object(9)\n",
      "memory usage: 161.1+ KB\n"
     ]
    },
    {
     "data": {
      "text/html": [
       "<div>\n",
       "<style scoped>\n",
       "    .dataframe tbody tr th:only-of-type {\n",
       "        vertical-align: middle;\n",
       "    }\n",
       "\n",
       "    .dataframe tbody tr th {\n",
       "        vertical-align: top;\n",
       "    }\n",
       "\n",
       "    .dataframe thead th {\n",
       "        text-align: right;\n",
       "    }\n",
       "</style>\n",
       "<table border=\"1\" class=\"dataframe\">\n",
       "  <thead>\n",
       "    <tr style=\"text-align: right;\">\n",
       "      <th></th>\n",
       "      <th>PROP_ID</th>\n",
       "      <th>ID_SENADO</th>\n",
       "      <th>TIPO</th>\n",
       "      <th>TIPO_DESC</th>\n",
       "      <th>PROP_ANO</th>\n",
       "      <th>PROP_DATA</th>\n",
       "      <th>PROP_DS_MATERIA</th>\n",
       "      <th>PROP_NATUREZA</th>\n",
       "      <th>PROP_STATUS_DATA</th>\n",
       "      <th>PROP_STATUS</th>\n",
       "    </tr>\n",
       "  </thead>\n",
       "  <tbody>\n",
       "    <tr>\n",
       "      <th>0</th>\n",
       "      <td>135084</td>\n",
       "      <td>5929</td>\n",
       "      <td>RQS</td>\n",
       "      <td>REQUERIMENTO</td>\n",
       "      <td>2019</td>\n",
       "      <td>2019-02-02</td>\n",
       "      <td>RQS 1/2019</td>\n",
       "      <td>NAOCAT_CONTEUDO_NATUREZA_ESPECIFICA</td>\n",
       "      <td>2019-02-02</td>\n",
       "      <td>PRJDA</td>\n",
       "    </tr>\n",
       "    <tr>\n",
       "      <th>1</th>\n",
       "      <td>135085</td>\n",
       "      <td>5012</td>\n",
       "      <td>RQS</td>\n",
       "      <td>REQUERIMENTO</td>\n",
       "      <td>2019</td>\n",
       "      <td>2019-02-02</td>\n",
       "      <td>RQS 2/2019</td>\n",
       "      <td>NAOCAT_CONTEUDO_NATUREZA_ESPECIFICA</td>\n",
       "      <td>2019-02-02</td>\n",
       "      <td>PRJDA</td>\n",
       "    </tr>\n",
       "    <tr>\n",
       "      <th>2</th>\n",
       "      <td>135104</td>\n",
       "      <td>5008</td>\n",
       "      <td>RQS</td>\n",
       "      <td>REQUERIMENTO</td>\n",
       "      <td>2019</td>\n",
       "      <td>2019-02-06</td>\n",
       "      <td>RQS 4/2019</td>\n",
       "      <td>MISSAO</td>\n",
       "      <td>2019-02-12</td>\n",
       "      <td>APRVD</td>\n",
       "    </tr>\n",
       "    <tr>\n",
       "      <th>3</th>\n",
       "      <td>135106</td>\n",
       "      <td>90</td>\n",
       "      <td>RQS</td>\n",
       "      <td>REQUERIMENTO</td>\n",
       "      <td>2019</td>\n",
       "      <td>2019-02-07</td>\n",
       "      <td>RQS 5/2019</td>\n",
       "      <td>MISSAO</td>\n",
       "      <td>2019-02-07</td>\n",
       "      <td>DEFERD</td>\n",
       "    </tr>\n",
       "    <tr>\n",
       "      <th>4</th>\n",
       "      <td>135107</td>\n",
       "      <td>374</td>\n",
       "      <td>PDL</td>\n",
       "      <td>PROJETO DE DECRETO LEGISLATIVO</td>\n",
       "      <td>2019</td>\n",
       "      <td>2019-01-04</td>\n",
       "      <td>PDL 16/2019</td>\n",
       "      <td>SUSTACAO_ATO_PODER_EXECUTIVO</td>\n",
       "      <td>2019-03-12</td>\n",
       "      <td>RELATOR</td>\n",
       "    </tr>\n",
       "  </tbody>\n",
       "</table>\n",
       "</div>"
      ],
      "text/plain": [
       "  PROP_ID ID_SENADO TIPO                       TIPO_DESC  PROP_ANO  \\\n",
       "0  135084      5929  RQS                    REQUERIMENTO      2019   \n",
       "1  135085      5012  RQS                    REQUERIMENTO      2019   \n",
       "2  135104      5008  RQS                    REQUERIMENTO      2019   \n",
       "3  135106        90  RQS                    REQUERIMENTO      2019   \n",
       "4  135107       374  PDL  PROJETO DE DECRETO LEGISLATIVO      2019   \n",
       "\n",
       "    PROP_DATA PROP_DS_MATERIA                        PROP_NATUREZA  \\\n",
       "0  2019-02-02      RQS 1/2019  NAOCAT_CONTEUDO_NATUREZA_ESPECIFICA   \n",
       "1  2019-02-02      RQS 2/2019  NAOCAT_CONTEUDO_NATUREZA_ESPECIFICA   \n",
       "2  2019-02-06      RQS 4/2019                               MISSAO   \n",
       "3  2019-02-07      RQS 5/2019                               MISSAO   \n",
       "4  2019-01-04     PDL 16/2019         SUSTACAO_ATO_PODER_EXECUTIVO   \n",
       "\n",
       "  PROP_STATUS_DATA PROP_STATUS  \n",
       "0       2019-02-02       PRJDA  \n",
       "1       2019-02-02       PRJDA  \n",
       "2       2019-02-12       APRVD  \n",
       "3       2019-02-07      DEFERD  \n",
       "4       2019-03-12     RELATOR  "
      ]
     },
     "execution_count": 7,
     "metadata": {},
     "output_type": "execute_result"
    }
   ],
   "source": [
    "df_sen_prop.shape\n",
    "df_sen_prop.info()\n",
    "df_sen_prop.head()"
   ]
  },
  {
   "cell_type": "markdown",
   "metadata": {},
   "source": [
    "## Percentual de cada tipo"
   ]
  },
  {
   "cell_type": "code",
   "execution_count": 8,
   "metadata": {},
   "outputs": [
    {
     "data": {
      "text/html": [
       "<div>\n",
       "<style scoped>\n",
       "    .dataframe tbody tr th:only-of-type {\n",
       "        vertical-align: middle;\n",
       "    }\n",
       "\n",
       "    .dataframe tbody tr th {\n",
       "        vertical-align: top;\n",
       "    }\n",
       "\n",
       "    .dataframe thead th {\n",
       "        text-align: right;\n",
       "    }\n",
       "</style>\n",
       "<table border=\"1\" class=\"dataframe\">\n",
       "  <thead>\n",
       "    <tr style=\"text-align: right;\">\n",
       "      <th></th>\n",
       "      <th>QUANT</th>\n",
       "    </tr>\n",
       "    <tr>\n",
       "      <th>TIPO_DESC</th>\n",
       "      <th></th>\n",
       "    </tr>\n",
       "  </thead>\n",
       "  <tbody>\n",
       "    <tr>\n",
       "      <th>REQUERIMENTO</th>\n",
       "      <td>1138</td>\n",
       "    </tr>\n",
       "    <tr>\n",
       "      <th>PROJETO DE LEI</th>\n",
       "      <td>703</td>\n",
       "    </tr>\n",
       "    <tr>\n",
       "      <th>PROPOSTA DE EMENDA À CONSTITUIÇÃO</th>\n",
       "      <td>71</td>\n",
       "    </tr>\n",
       "    <tr>\n",
       "      <th>PROJETO DE RESOLUÇÃO DO SENADO</th>\n",
       "      <td>56</td>\n",
       "    </tr>\n",
       "    <tr>\n",
       "      <th>PROJETO DE LEI COMPLEMENTAR</th>\n",
       "      <td>51</td>\n",
       "    </tr>\n",
       "    <tr>\n",
       "      <th>PROJETO DE DECRETO LEGISLATIVO</th>\n",
       "      <td>34</td>\n",
       "    </tr>\n",
       "    <tr>\n",
       "      <th>OFICIO \"S\"</th>\n",
       "      <td>2</td>\n",
       "    </tr>\n",
       "    <tr>\n",
       "      <th>PROPOSTA DE FISCALIZAÇÃO E CONTROLE</th>\n",
       "      <td>2</td>\n",
       "    </tr>\n",
       "    <tr>\n",
       "      <th>INDICAÇÃO</th>\n",
       "      <td>1</td>\n",
       "    </tr>\n",
       "    <tr>\n",
       "      <th>RECURSO (SF)</th>\n",
       "      <td>1</td>\n",
       "    </tr>\n",
       "    <tr>\n",
       "      <th>PETIÇÃO (SF)</th>\n",
       "      <td>1</td>\n",
       "    </tr>\n",
       "    <tr>\n",
       "      <th>ATO DO PRESIDENTE DO SENADO FEDERAL</th>\n",
       "      <td>1</td>\n",
       "    </tr>\n",
       "  </tbody>\n",
       "</table>\n",
       "</div>"
      ],
      "text/plain": [
       "                                     QUANT\n",
       "TIPO_DESC                                 \n",
       "REQUERIMENTO                          1138\n",
       "PROJETO DE LEI                         703\n",
       "PROPOSTA DE EMENDA À CONSTITUIÇÃO       71\n",
       "PROJETO DE RESOLUÇÃO DO SENADO          56\n",
       "PROJETO DE LEI COMPLEMENTAR             51\n",
       "PROJETO DE DECRETO LEGISLATIVO          34\n",
       "OFICIO \"S\"                               2\n",
       "PROPOSTA DE FISCALIZAÇÃO E CONTROLE      2\n",
       "INDICAÇÃO                                1\n",
       "RECURSO (SF)                             1\n",
       "PETIÇÃO (SF)                             1\n",
       "ATO DO PRESIDENTE DO SENADO FEDERAL      1"
      ]
     },
     "execution_count": 8,
     "metadata": {},
     "output_type": "execute_result"
    }
   ],
   "source": [
    "df_prop_tipos=pd.DataFrame(df_sen_prop[\"TIPO_DESC\"].value_counts())\n",
    "df_prop_tipos.rename(columns={\"TIPO_DESC\":\"QUANT\"}, inplace=True)\n",
    "df_prop_tipos.index.name=\"TIPO_DESC\"\n",
    "df_prop_tipos"
   ]
  },
  {
   "cell_type": "code",
   "execution_count": 9,
   "metadata": {},
   "outputs": [
    {
     "data": {
      "text/plain": [
       "<matplotlib.axes._subplots.AxesSubplot at 0x7f8b98be3f50>"
      ]
     },
     "execution_count": 9,
     "metadata": {},
     "output_type": "execute_result"
    },
    {
     "data": {
      "image/png": "[encoded data removed]",
      "text/plain": [
       "<Figure size 864x576 with 1 Axes>"
      ]
     },
     "metadata": {
      "needs_background": "light"
     },
     "output_type": "display_data"
    }
   ],
   "source": [
    "f = lambda x: x/x.sum()\n",
    "df_prop_tipos[\"PERC\"]=df_prop_tipos.apply(f)\n",
    "df_prop_tipos[\"QUANT\"].plot(kind=\"bar\")"
   ]
  },
  {
   "cell_type": "markdown",
   "metadata": {},
   "source": [
    "## Para cada senador"
   ]
  },
  {
   "cell_type": "markdown",
   "metadata": {},
   "source": [
    "### Total de propostas"
   ]
  },
  {
   "cell_type": "code",
   "execution_count": 10,
   "metadata": {},
   "outputs": [
    {
     "data": {
      "text/plain": [
       "pandas.core.series.Series"
      ]
     },
     "execution_count": 10,
     "metadata": {},
     "output_type": "execute_result"
    },
    {
     "data": {
      "text/html": [
       "<div>\n",
       "<style scoped>\n",
       "    .dataframe tbody tr th:only-of-type {\n",
       "        vertical-align: middle;\n",
       "    }\n",
       "\n",
       "    .dataframe tbody tr th {\n",
       "        vertical-align: top;\n",
       "    }\n",
       "\n",
       "    .dataframe thead th {\n",
       "        text-align: right;\n",
       "    }\n",
       "</style>\n",
       "<table border=\"1\" class=\"dataframe\">\n",
       "  <thead>\n",
       "    <tr style=\"text-align: right;\">\n",
       "      <th>TIPO</th>\n",
       "      <th>ATS</th>\n",
       "      <th>INS</th>\n",
       "      <th>OFS</th>\n",
       "      <th>PDL</th>\n",
       "      <th>PEC</th>\n",
       "      <th>PET</th>\n",
       "      <th>PFS</th>\n",
       "      <th>PL</th>\n",
       "      <th>PLP</th>\n",
       "      <th>PRS</th>\n",
       "      <th>R.S</th>\n",
       "      <th>REQ</th>\n",
       "      <th>RQS</th>\n",
       "      <th>PROP_TOTAL</th>\n",
       "    </tr>\n",
       "    <tr>\n",
       "      <th>ID_SENADO</th>\n",
       "      <th></th>\n",
       "      <th></th>\n",
       "      <th></th>\n",
       "      <th></th>\n",
       "      <th></th>\n",
       "      <th></th>\n",
       "      <th></th>\n",
       "      <th></th>\n",
       "      <th></th>\n",
       "      <th></th>\n",
       "      <th></th>\n",
       "      <th></th>\n",
       "      <th></th>\n",
       "      <th></th>\n",
       "    </tr>\n",
       "  </thead>\n",
       "  <tbody>\n",
       "    <tr>\n",
       "      <th>825</th>\n",
       "      <td>0.0</td>\n",
       "      <td>0.0</td>\n",
       "      <td>0.0</td>\n",
       "      <td>0.0</td>\n",
       "      <td>1.0</td>\n",
       "      <td>0.0</td>\n",
       "      <td>0.0</td>\n",
       "      <td>12.0</td>\n",
       "      <td>0.0</td>\n",
       "      <td>0.0</td>\n",
       "      <td>0.0</td>\n",
       "      <td>48.0</td>\n",
       "      <td>23.0</td>\n",
       "      <td>84.0</td>\n",
       "    </tr>\n",
       "    <tr>\n",
       "      <th>5012</th>\n",
       "      <td>0.0</td>\n",
       "      <td>0.0</td>\n",
       "      <td>0.0</td>\n",
       "      <td>5.0</td>\n",
       "      <td>2.0</td>\n",
       "      <td>0.0</td>\n",
       "      <td>0.0</td>\n",
       "      <td>12.0</td>\n",
       "      <td>2.0</td>\n",
       "      <td>3.0</td>\n",
       "      <td>0.0</td>\n",
       "      <td>23.0</td>\n",
       "      <td>24.0</td>\n",
       "      <td>71.0</td>\n",
       "    </tr>\n",
       "    <tr>\n",
       "      <th>4770</th>\n",
       "      <td>0.0</td>\n",
       "      <td>0.0</td>\n",
       "      <td>0.0</td>\n",
       "      <td>0.0</td>\n",
       "      <td>2.0</td>\n",
       "      <td>0.0</td>\n",
       "      <td>0.0</td>\n",
       "      <td>11.0</td>\n",
       "      <td>1.0</td>\n",
       "      <td>3.0</td>\n",
       "      <td>0.0</td>\n",
       "      <td>30.0</td>\n",
       "      <td>21.0</td>\n",
       "      <td>68.0</td>\n",
       "    </tr>\n",
       "    <tr>\n",
       "      <th>5953</th>\n",
       "      <td>0.0</td>\n",
       "      <td>0.0</td>\n",
       "      <td>0.0</td>\n",
       "      <td>3.0</td>\n",
       "      <td>3.0</td>\n",
       "      <td>0.0</td>\n",
       "      <td>0.0</td>\n",
       "      <td>28.0</td>\n",
       "      <td>0.0</td>\n",
       "      <td>1.0</td>\n",
       "      <td>0.0</td>\n",
       "      <td>21.0</td>\n",
       "      <td>8.0</td>\n",
       "      <td>64.0</td>\n",
       "    </tr>\n",
       "    <tr>\n",
       "      <th>5748</th>\n",
       "      <td>0.0</td>\n",
       "      <td>0.0</td>\n",
       "      <td>0.0</td>\n",
       "      <td>0.0</td>\n",
       "      <td>4.0</td>\n",
       "      <td>0.0</td>\n",
       "      <td>0.0</td>\n",
       "      <td>41.0</td>\n",
       "      <td>2.0</td>\n",
       "      <td>0.0</td>\n",
       "      <td>0.0</td>\n",
       "      <td>9.0</td>\n",
       "      <td>8.0</td>\n",
       "      <td>64.0</td>\n",
       "    </tr>\n",
       "  </tbody>\n",
       "</table>\n",
       "</div>"
      ],
      "text/plain": [
       "TIPO       ATS  INS  OFS  PDL  PEC  PET  PFS    PL  PLP  PRS  R.S   REQ   RQS  \\\n",
       "ID_SENADO                                                                       \n",
       "825        0.0  0.0  0.0  0.0  1.0  0.0  0.0  12.0  0.0  0.0  0.0  48.0  23.0   \n",
       "5012       0.0  0.0  0.0  5.0  2.0  0.0  0.0  12.0  2.0  3.0  0.0  23.0  24.0   \n",
       "4770       0.0  0.0  0.0  0.0  2.0  0.0  0.0  11.0  1.0  3.0  0.0  30.0  21.0   \n",
       "5953       0.0  0.0  0.0  3.0  3.0  0.0  0.0  28.0  0.0  1.0  0.0  21.0   8.0   \n",
       "5748       0.0  0.0  0.0  0.0  4.0  0.0  0.0  41.0  2.0  0.0  0.0   9.0   8.0   \n",
       "\n",
       "TIPO       PROP_TOTAL  \n",
       "ID_SENADO              \n",
       "825              84.0  \n",
       "5012             71.0  \n",
       "4770             68.0  \n",
       "5953             64.0  \n",
       "5748             64.0  "
      ]
     },
     "execution_count": 10,
     "metadata": {},
     "output_type": "execute_result"
    },
    {
     "data": {
      "text/plain": [
       "<matplotlib.axes._subplots.AxesSubplot at 0x7f8b984c9190>"
      ]
     },
     "execution_count": 10,
     "metadata": {},
     "output_type": "execute_result"
    },
    {
     "data": {
      "image/png": "[encoded data removed]",
      "text/plain": [
       "<Figure size 864x576 with 1 Axes>"
      ]
     },
     "metadata": {
      "needs_background": "light"
     },
     "output_type": "display_data"
    }
   ],
   "source": [
    "x=df_sen_prop.groupby(\"ID_SENADO\")[\"TIPO\"].value_counts()\n",
    "type(x)\n",
    "df_sen_prop_tipos=x.unstack().fillna(0)\n",
    "df_sen_prop_tipos[\"PROP_TOTAL\"]=df_sen_prop_tipos.sum(axis=1)\n",
    "\n",
    "df_sen_prop_tipos.sort_values(\"PROP_TOTAL\", inplace=True, ascending=False)\n",
    "df_sen_prop_tipos.head()\n",
    "df_sen_prop_tipos[\"PROP_TOTAL\"].iloc[1:10].plot(kind=\"bar\")"
   ]
  },
  {
   "cell_type": "code",
   "execution_count": 11,
   "metadata": {},
   "outputs": [],
   "source": [
    "df_sen_prop_tipos=df_sen_prop_tipos[[\"REQ\",\"PEC\",\"PL\"]]"
   ]
  },
  {
   "cell_type": "code",
   "execution_count": 12,
   "metadata": {},
   "outputs": [
    {
     "name": "stdout",
     "output_type": "stream",
     "text": [
      "<class 'pandas.core.frame.DataFrame'>\n",
      "Int64Index: 79 entries, 0 to 78\n",
      "Data columns (total 24 columns):\n",
      " #   Column                 Non-Null Count  Dtype  \n",
      "---  ------                 --------------  -----  \n",
      " 0   CPF                    79 non-null     object \n",
      " 1   DT_NASCIMENTO          79 non-null     object \n",
      " 2   SG_UF_NASCIMENTO       79 non-null     object \n",
      " 3   DS_GENERO              79 non-null     object \n",
      " 4   DS_GRAU_INSTRUCAO      79 non-null     object \n",
      " 5   DS_ESTADO_CIVIL        79 non-null     object \n",
      " 6   DS_COR_RACA            79 non-null     object \n",
      " 7   DS_OCUPACAO            79 non-null     object \n",
      " 8   VL_BENS                79 non-null     float64\n",
      " 9   ANO_ELEICAO            79 non-null     int64  \n",
      " 10  DS_CARGO               79 non-null     object \n",
      " 11  SG_PARTIDO             79 non-null     object \n",
      " 12  SG_UE                  79 non-null     object \n",
      " 13  NM_URNA_CANDIDATO      79 non-null     object \n",
      " 14  VR_DESPESA_CONTRATADA  79 non-null     float64\n",
      " 15  followers_count        68 non-null     float64\n",
      " 16  tweets                 68 non-null     float64\n",
      " 17  ID_SENADO              76 non-null     object \n",
      " 18  ID_PUB                 76 non-null     object \n",
      " 19  MESA                   76 non-null     object \n",
      " 20  LIDERANCA              76 non-null     object \n",
      " 21  REQ                    74 non-null     float64\n",
      " 22  PEC                    74 non-null     float64\n",
      " 23  PL                     74 non-null     float64\n",
      "dtypes: float64(7), int64(1), object(16)\n",
      "memory usage: 15.4+ KB\n"
     ]
    }
   ],
   "source": [
    "df_sen_prod=pd.merge(df_sen,df_sen_prop_tipos, how=\"left\", on=\"ID_SENADO\")\n",
    "df_sen_prod.info()"
   ]
  },
  {
   "cell_type": "code",
   "execution_count": 13,
   "metadata": {},
   "outputs": [],
   "source": [
    "df=pd.merge(df_sen_prod,df_diap, how=\"left\", on=\"CPF\")\n",
    "#df=df_sen_prod"
   ]
  },
  {
   "cell_type": "code",
   "execution_count": 14,
   "metadata": {},
   "outputs": [
    {
     "name": "stdout",
     "output_type": "stream",
     "text": [
      "<class 'pandas.core.frame.DataFrame'>\n",
      "Int64Index: 79 entries, 0 to 78\n",
      "Data columns (total 30 columns):\n",
      " #   Column                 Non-Null Count  Dtype  \n",
      "---  ------                 --------------  -----  \n",
      " 0   CPF                    79 non-null     object \n",
      " 1   DT_NASCIMENTO          79 non-null     object \n",
      " 2   SG_UF_NASCIMENTO       79 non-null     object \n",
      " 3   DS_GENERO              79 non-null     object \n",
      " 4   DS_GRAU_INSTRUCAO      79 non-null     object \n",
      " 5   DS_ESTADO_CIVIL        79 non-null     object \n",
      " 6   DS_COR_RACA            79 non-null     object \n",
      " 7   DS_OCUPACAO            79 non-null     object \n",
      " 8   VL_BENS                79 non-null     float64\n",
      " 9   ANO_ELEICAO            79 non-null     int64  \n",
      " 10  DS_CARGO               79 non-null     object \n",
      " 11  SG_PARTIDO             79 non-null     object \n",
      " 12  SG_UE                  79 non-null     object \n",
      " 13  NM_URNA_CANDIDATO      79 non-null     object \n",
      " 14  VR_DESPESA_CONTRATADA  79 non-null     float64\n",
      " 15  followers_count        68 non-null     float64\n",
      " 16  tweets                 68 non-null     float64\n",
      " 17  ID_SENADO              76 non-null     object \n",
      " 18  ID_PUB                 76 non-null     object \n",
      " 19  MESA                   76 non-null     object \n",
      " 20  LIDERANCA              76 non-null     object \n",
      " 21  REQ                    74 non-null     float64\n",
      " 22  PEC                    74 non-null     float64\n",
      " 23  PL                     74 non-null     float64\n",
      " 24  mandatos               29 non-null     float64\n",
      " 25  cabeças                29 non-null     float64\n",
      " 26  debatedor              29 non-null     float64\n",
      " 27  articulador            29 non-null     float64\n",
      " 28  formulador             29 non-null     float64\n",
      " 29  negociador             29 non-null     float64\n",
      "dtypes: float64(13), int64(1), object(16)\n",
      "memory usage: 19.1+ KB\n"
     ]
    }
   ],
   "source": [
    "df.info()\n",
    "df.fillna(0, inplace=True)"
   ]
  },
  {
   "cell_type": "raw",
   "metadata": {},
   "source": [
    "df[[\"CPF\",\"NM_URNA_CANDIDATO\",\"MESA\",\"LIDERANCA\",\"cabeças\",\"REQ\",\"PEC\",\"PROP_TOTAL\"]][df[\"PROP_TOTAL\"]>10]"
   ]
  },
  {
   "cell_type": "code",
   "execution_count": 15,
   "metadata": {},
   "outputs": [],
   "source": [
    "hoje=datetime.datetime.now()\n",
    "df[\"IDADE\"]=df[\"DT_NASCIMENTO\"].apply(lambda x:(hoje-datetime.datetime.strptime(x, '%d/%m/%Y')).days//(365.25))"
   ]
  },
  {
   "cell_type": "code",
   "execution_count": 16,
   "metadata": {},
   "outputs": [
    {
     "data": {
      "text/html": [
       "<div>\n",
       "<style scoped>\n",
       "    .dataframe tbody tr th:only-of-type {\n",
       "        vertical-align: middle;\n",
       "    }\n",
       "\n",
       "    .dataframe tbody tr th {\n",
       "        vertical-align: top;\n",
       "    }\n",
       "\n",
       "    .dataframe thead th {\n",
       "        text-align: right;\n",
       "    }\n",
       "</style>\n",
       "<table border=\"1\" class=\"dataframe\">\n",
       "  <thead>\n",
       "    <tr style=\"text-align: right;\">\n",
       "      <th></th>\n",
       "      <th>CPF</th>\n",
       "      <th>DT_NASCIMENTO</th>\n",
       "      <th>SG_UF_NASCIMENTO</th>\n",
       "      <th>DS_GENERO</th>\n",
       "      <th>DS_GRAU_INSTRUCAO</th>\n",
       "      <th>DS_ESTADO_CIVIL</th>\n",
       "      <th>DS_COR_RACA</th>\n",
       "      <th>DS_OCUPACAO</th>\n",
       "      <th>VL_BENS</th>\n",
       "      <th>ANO_ELEICAO</th>\n",
       "      <th>...</th>\n",
       "      <th>REQ</th>\n",
       "      <th>PEC</th>\n",
       "      <th>PL</th>\n",
       "      <th>mandatos</th>\n",
       "      <th>cabeças</th>\n",
       "      <th>debatedor</th>\n",
       "      <th>articulador</th>\n",
       "      <th>formulador</th>\n",
       "      <th>negociador</th>\n",
       "      <th>IDADE</th>\n",
       "    </tr>\n",
       "  </thead>\n",
       "  <tbody>\n",
       "    <tr>\n",
       "      <th>32</th>\n",
       "      <td>40448118149</td>\n",
       "      <td>05/09/1961</td>\n",
       "      <td>MS</td>\n",
       "      <td>MASCULINO</td>\n",
       "      <td>SUPERIOR COMPLETO</td>\n",
       "      <td>CASADO(A)</td>\n",
       "      <td>BRANCA</td>\n",
       "      <td>MÉDICO</td>\n",
       "      <td>3225570.89</td>\n",
       "      <td>2018</td>\n",
       "      <td>...</td>\n",
       "      <td>20.0</td>\n",
       "      <td>0.0</td>\n",
       "      <td>6.0</td>\n",
       "      <td>0.0</td>\n",
       "      <td>0.0</td>\n",
       "      <td>0.0</td>\n",
       "      <td>0.0</td>\n",
       "      <td>0.0</td>\n",
       "      <td>0.0</td>\n",
       "      <td>58.0</td>\n",
       "    </tr>\n",
       "    <tr>\n",
       "      <th>8</th>\n",
       "      <td>34195491991</td>\n",
       "      <td>07/12/1956</td>\n",
       "      <td>SC</td>\n",
       "      <td>MASCULINO</td>\n",
       "      <td>SUPERIOR COMPLETO</td>\n",
       "      <td>DIVORCIADO(A)</td>\n",
       "      <td>BRANCA</td>\n",
       "      <td>ADMINISTRADOR</td>\n",
       "      <td>1095874.10</td>\n",
       "      <td>2014</td>\n",
       "      <td>...</td>\n",
       "      <td>13.0</td>\n",
       "      <td>0.0</td>\n",
       "      <td>2.0</td>\n",
       "      <td>0.0</td>\n",
       "      <td>0.0</td>\n",
       "      <td>0.0</td>\n",
       "      <td>0.0</td>\n",
       "      <td>0.0</td>\n",
       "      <td>0.0</td>\n",
       "      <td>63.0</td>\n",
       "    </tr>\n",
       "    <tr>\n",
       "      <th>36</th>\n",
       "      <td>31966810334</td>\n",
       "      <td>25/09/1972</td>\n",
       "      <td>CE</td>\n",
       "      <td>MASCULINO</td>\n",
       "      <td>ENSINO MÉDIO COMPLETO</td>\n",
       "      <td>CASADO(A)</td>\n",
       "      <td>PARDA</td>\n",
       "      <td>EMPRESÁRIO</td>\n",
       "      <td>36397417.26</td>\n",
       "      <td>2018</td>\n",
       "      <td>...</td>\n",
       "      <td>17.0</td>\n",
       "      <td>1.0</td>\n",
       "      <td>10.0</td>\n",
       "      <td>0.0</td>\n",
       "      <td>0.0</td>\n",
       "      <td>0.0</td>\n",
       "      <td>0.0</td>\n",
       "      <td>0.0</td>\n",
       "      <td>0.0</td>\n",
       "      <td>47.0</td>\n",
       "    </tr>\n",
       "    <tr>\n",
       "      <th>18</th>\n",
       "      <td>61330345134</td>\n",
       "      <td>02/02/1962</td>\n",
       "      <td>GO</td>\n",
       "      <td>FEMININO</td>\n",
       "      <td>SUPERIOR COMPLETO</td>\n",
       "      <td>VIÚVO(A)</td>\n",
       "      <td>BRANCA</td>\n",
       "      <td>SENADOR</td>\n",
       "      <td>4131891.79</td>\n",
       "      <td>2014</td>\n",
       "      <td>...</td>\n",
       "      <td>12.0</td>\n",
       "      <td>0.0</td>\n",
       "      <td>1.0</td>\n",
       "      <td>0.0</td>\n",
       "      <td>0.0</td>\n",
       "      <td>0.0</td>\n",
       "      <td>0.0</td>\n",
       "      <td>0.0</td>\n",
       "      <td>0.0</td>\n",
       "      <td>58.0</td>\n",
       "    </tr>\n",
       "    <tr>\n",
       "      <th>16</th>\n",
       "      <td>43461107204</td>\n",
       "      <td>26/03/1978</td>\n",
       "      <td>AC</td>\n",
       "      <td>MASCULINO</td>\n",
       "      <td>SUPERIOR COMPLETO</td>\n",
       "      <td>CASADO(A)</td>\n",
       "      <td>PARDA</td>\n",
       "      <td>DEPUTADO</td>\n",
       "      <td>514392.07</td>\n",
       "      <td>2014</td>\n",
       "      <td>...</td>\n",
       "      <td>0.0</td>\n",
       "      <td>0.0</td>\n",
       "      <td>0.0</td>\n",
       "      <td>0.0</td>\n",
       "      <td>0.0</td>\n",
       "      <td>0.0</td>\n",
       "      <td>0.0</td>\n",
       "      <td>0.0</td>\n",
       "      <td>0.0</td>\n",
       "      <td>42.0</td>\n",
       "    </tr>\n",
       "  </tbody>\n",
       "</table>\n",
       "<p>5 rows × 31 columns</p>\n",
       "</div>"
      ],
      "text/plain": [
       "            CPF DT_NASCIMENTO SG_UF_NASCIMENTO  DS_GENERO  \\\n",
       "32  40448118149    05/09/1961               MS  MASCULINO   \n",
       "8   34195491991    07/12/1956               SC  MASCULINO   \n",
       "36  31966810334    25/09/1972               CE  MASCULINO   \n",
       "18  61330345134    02/02/1962               GO   FEMININO   \n",
       "16  43461107204    26/03/1978               AC  MASCULINO   \n",
       "\n",
       "        DS_GRAU_INSTRUCAO DS_ESTADO_CIVIL DS_COR_RACA    DS_OCUPACAO  \\\n",
       "32      SUPERIOR COMPLETO       CASADO(A)      BRANCA         MÉDICO   \n",
       "8       SUPERIOR COMPLETO   DIVORCIADO(A)      BRANCA  ADMINISTRADOR   \n",
       "36  ENSINO MÉDIO COMPLETO       CASADO(A)       PARDA     EMPRESÁRIO   \n",
       "18      SUPERIOR COMPLETO        VIÚVO(A)      BRANCA        SENADOR   \n",
       "16      SUPERIOR COMPLETO       CASADO(A)       PARDA       DEPUTADO   \n",
       "\n",
       "        VL_BENS  ANO_ELEICAO  ...   REQ  PEC    PL mandatos  cabeças  \\\n",
       "32   3225570.89         2018  ...  20.0  0.0   6.0      0.0      0.0   \n",
       "8    1095874.10         2014  ...  13.0  0.0   2.0      0.0      0.0   \n",
       "36  36397417.26         2018  ...  17.0  1.0  10.0      0.0      0.0   \n",
       "18   4131891.79         2014  ...  12.0  0.0   1.0      0.0      0.0   \n",
       "16    514392.07         2014  ...   0.0  0.0   0.0      0.0      0.0   \n",
       "\n",
       "    debatedor  articulador formulador negociador IDADE  \n",
       "32        0.0          0.0        0.0        0.0  58.0  \n",
       "8         0.0          0.0        0.0        0.0  63.0  \n",
       "36        0.0          0.0        0.0        0.0  47.0  \n",
       "18        0.0          0.0        0.0        0.0  58.0  \n",
       "16        0.0          0.0        0.0        0.0  42.0  \n",
       "\n",
       "[5 rows x 31 columns]"
      ]
     },
     "execution_count": 16,
     "metadata": {},
     "output_type": "execute_result"
    }
   ],
   "source": [
    "df.sample(5)"
   ]
  },
  {
   "cell_type": "code",
   "execution_count": 17,
   "metadata": {},
   "outputs": [
    {
     "data": {
      "text/plain": [
       "Index(['CPF', 'DT_NASCIMENTO', 'SG_UF_NASCIMENTO', 'DS_GENERO',\n",
       "       'DS_GRAU_INSTRUCAO', 'DS_ESTADO_CIVIL', 'DS_COR_RACA', 'DS_OCUPACAO',\n",
       "       'VL_BENS', 'ANO_ELEICAO', 'DS_CARGO', 'SG_PARTIDO', 'SG_UE',\n",
       "       'NM_URNA_CANDIDATO', 'VR_DESPESA_CONTRATADA', 'followers_count',\n",
       "       'tweets', 'ID_SENADO', 'ID_PUB', 'MESA', 'LIDERANCA', 'REQ', 'PEC',\n",
       "       'PL', 'mandatos', 'cabeças', 'debatedor', 'articulador', 'formulador',\n",
       "       'negociador', 'IDADE'],\n",
       "      dtype='object')"
      ]
     },
     "execution_count": 17,
     "metadata": {},
     "output_type": "execute_result"
    }
   ],
   "source": [
    "df.columns"
   ]
  },
  {
   "cell_type": "code",
   "execution_count": 18,
   "metadata": {},
   "outputs": [
    {
     "data": {
      "text/plain": [
       "Index(['CPF', 'DT_NASCIMENTO', 'SG_UF_NASCIMENTO', 'DS_GENERO',\n",
       "       'DS_GRAU_INSTRUCAO', 'DS_ESTADO_CIVIL', 'DS_COR_RACA', 'DS_OCUPACAO',\n",
       "       'VL_BENS', 'ANO_ELEICAO', 'DS_CARGO', 'SG_PARTIDO', 'SG_UE',\n",
       "       'NM_URNA_CANDIDATO', 'VR_DESPESA_CONTRATADA', 'followers_count',\n",
       "       'tweets', 'ID_SENADO', 'ID_PUB', 'MESA', 'LIDERANCA', 'REQ', 'PEC',\n",
       "       'PL', 'mandatos', 'cabeças', 'debatedor', 'articulador', 'formulador',\n",
       "       'negociador', 'IDADE'],\n",
       "      dtype='object')"
      ]
     },
     "execution_count": 18,
     "metadata": {},
     "output_type": "execute_result"
    }
   ],
   "source": [
    "df.columns\n",
    "df.drop(columns=\"DS_CARGO\", axis=1, inplace=True)"
   ]
  },
  {
   "cell_type": "code",
   "execution_count": 19,
   "metadata": {},
   "outputs": [
    {
     "data": {
      "text/plain": [
       "(79, 30)"
      ]
     },
     "execution_count": 19,
     "metadata": {},
     "output_type": "execute_result"
    },
    {
     "name": "stdout",
     "output_type": "stream",
     "text": [
      "<class 'pandas.core.frame.DataFrame'>\n",
      "Int64Index: 79 entries, 0 to 78\n",
      "Data columns (total 30 columns):\n",
      " #   Column                 Non-Null Count  Dtype  \n",
      "---  ------                 --------------  -----  \n",
      " 0   CPF                    79 non-null     object \n",
      " 1   DT_NASCIMENTO          79 non-null     object \n",
      " 2   SG_UF_NASCIMENTO       79 non-null     object \n",
      " 3   DS_GENERO              79 non-null     object \n",
      " 4   DS_GRAU_INSTRUCAO      79 non-null     object \n",
      " 5   DS_ESTADO_CIVIL        79 non-null     object \n",
      " 6   DS_COR_RACA            79 non-null     object \n",
      " 7   DS_OCUPACAO            79 non-null     object \n",
      " 8   VL_BENS                79 non-null     float64\n",
      " 9   ANO_ELEICAO            79 non-null     int64  \n",
      " 10  SG_PARTIDO             79 non-null     object \n",
      " 11  SG_UE                  79 non-null     object \n",
      " 12  NM_URNA_CANDIDATO      79 non-null     object \n",
      " 13  VR_DESPESA_CONTRATADA  79 non-null     float64\n",
      " 14  followers_count        79 non-null     float64\n",
      " 15  tweets                 79 non-null     float64\n",
      " 16  ID_SENADO              79 non-null     object \n",
      " 17  ID_PUB                 79 non-null     object \n",
      " 18  MESA                   79 non-null     object \n",
      " 19  LIDERANCA              79 non-null     object \n",
      " 20  REQ                    79 non-null     float64\n",
      " 21  PEC                    79 non-null     float64\n",
      " 22  PL                     79 non-null     float64\n",
      " 23  mandatos               79 non-null     float64\n",
      " 24  cabeças                79 non-null     float64\n",
      " 25  debatedor              79 non-null     float64\n",
      " 26  articulador            79 non-null     float64\n",
      " 27  formulador             79 non-null     float64\n",
      " 28  negociador             79 non-null     float64\n",
      " 29  IDADE                  79 non-null     float64\n",
      "dtypes: float64(14), int64(1), object(15)\n",
      "memory usage: 19.1+ KB\n"
     ]
    },
    {
     "data": {
      "text/html": [
       "<div>\n",
       "<style scoped>\n",
       "    .dataframe tbody tr th:only-of-type {\n",
       "        vertical-align: middle;\n",
       "    }\n",
       "\n",
       "    .dataframe tbody tr th {\n",
       "        vertical-align: top;\n",
       "    }\n",
       "\n",
       "    .dataframe thead th {\n",
       "        text-align: right;\n",
       "    }\n",
       "</style>\n",
       "<table border=\"1\" class=\"dataframe\">\n",
       "  <thead>\n",
       "    <tr style=\"text-align: right;\">\n",
       "      <th></th>\n",
       "      <th>CPF</th>\n",
       "      <th>DT_NASCIMENTO</th>\n",
       "      <th>SG_UF_NASCIMENTO</th>\n",
       "      <th>DS_GENERO</th>\n",
       "      <th>DS_GRAU_INSTRUCAO</th>\n",
       "      <th>DS_ESTADO_CIVIL</th>\n",
       "      <th>DS_COR_RACA</th>\n",
       "      <th>DS_OCUPACAO</th>\n",
       "      <th>VL_BENS</th>\n",
       "      <th>ANO_ELEICAO</th>\n",
       "      <th>...</th>\n",
       "      <th>REQ</th>\n",
       "      <th>PEC</th>\n",
       "      <th>PL</th>\n",
       "      <th>mandatos</th>\n",
       "      <th>cabeças</th>\n",
       "      <th>debatedor</th>\n",
       "      <th>articulador</th>\n",
       "      <th>formulador</th>\n",
       "      <th>negociador</th>\n",
       "      <th>IDADE</th>\n",
       "    </tr>\n",
       "  </thead>\n",
       "  <tbody>\n",
       "    <tr>\n",
       "      <th>5</th>\n",
       "      <td>90671953753</td>\n",
       "      <td>29/01/1966</td>\n",
       "      <td>RJ</td>\n",
       "      <td>MASCULINO</td>\n",
       "      <td>SUPERIOR INCOMPLETO</td>\n",
       "      <td>SEPARADO(A) JUDICIALMENTE</td>\n",
       "      <td>PARDA</td>\n",
       "      <td>DEPUTADO</td>\n",
       "      <td>1311189.82</td>\n",
       "      <td>2014</td>\n",
       "      <td>...</td>\n",
       "      <td>22.0</td>\n",
       "      <td>0.0</td>\n",
       "      <td>7.0</td>\n",
       "      <td>0.0</td>\n",
       "      <td>0.0</td>\n",
       "      <td>0.0</td>\n",
       "      <td>0.0</td>\n",
       "      <td>0.0</td>\n",
       "      <td>0.0</td>\n",
       "      <td>54.0</td>\n",
       "    </tr>\n",
       "    <tr>\n",
       "      <th>77</th>\n",
       "      <td>01720486727</td>\n",
       "      <td>15/06/1971</td>\n",
       "      <td>ES</td>\n",
       "      <td>MASCULINO</td>\n",
       "      <td>ENSINO MÉDIO COMPLETO</td>\n",
       "      <td>CASADO(A)</td>\n",
       "      <td>BRANCA</td>\n",
       "      <td>OUTROS</td>\n",
       "      <td>737934.91</td>\n",
       "      <td>2018</td>\n",
       "      <td>...</td>\n",
       "      <td>11.0</td>\n",
       "      <td>1.0</td>\n",
       "      <td>21.0</td>\n",
       "      <td>0.0</td>\n",
       "      <td>0.0</td>\n",
       "      <td>0.0</td>\n",
       "      <td>0.0</td>\n",
       "      <td>0.0</td>\n",
       "      <td>0.0</td>\n",
       "      <td>49.0</td>\n",
       "    </tr>\n",
       "    <tr>\n",
       "      <th>45</th>\n",
       "      <td>11078685487</td>\n",
       "      <td>16/09/1955</td>\n",
       "      <td>AL</td>\n",
       "      <td>MASCULINO</td>\n",
       "      <td>SUPERIOR COMPLETO</td>\n",
       "      <td>CASADO(A)</td>\n",
       "      <td>BRANCA</td>\n",
       "      <td>SENADOR</td>\n",
       "      <td>1865778.62</td>\n",
       "      <td>2018</td>\n",
       "      <td>...</td>\n",
       "      <td>0.0</td>\n",
       "      <td>0.0</td>\n",
       "      <td>0.0</td>\n",
       "      <td>4.0</td>\n",
       "      <td>23.0</td>\n",
       "      <td>0.0</td>\n",
       "      <td>1.0</td>\n",
       "      <td>0.0</td>\n",
       "      <td>0.0</td>\n",
       "      <td>64.0</td>\n",
       "    </tr>\n",
       "    <tr>\n",
       "      <th>23</th>\n",
       "      <td>05985234568</td>\n",
       "      <td>28/08/1947</td>\n",
       "      <td>BA</td>\n",
       "      <td>MASCULINO</td>\n",
       "      <td>SUPERIOR COMPLETO</td>\n",
       "      <td>CASADO(A)</td>\n",
       "      <td>BRANCA</td>\n",
       "      <td>MÉDICO</td>\n",
       "      <td>2481575.01</td>\n",
       "      <td>2014</td>\n",
       "      <td>...</td>\n",
       "      <td>4.0</td>\n",
       "      <td>0.0</td>\n",
       "      <td>1.0</td>\n",
       "      <td>1.0</td>\n",
       "      <td>3.0</td>\n",
       "      <td>0.0</td>\n",
       "      <td>0.0</td>\n",
       "      <td>1.0</td>\n",
       "      <td>0.0</td>\n",
       "      <td>73.0</td>\n",
       "    </tr>\n",
       "    <tr>\n",
       "      <th>29</th>\n",
       "      <td>86364561772</td>\n",
       "      <td>20/06/1966</td>\n",
       "      <td>ES</td>\n",
       "      <td>MASCULINO</td>\n",
       "      <td>SUPERIOR COMPLETO</td>\n",
       "      <td>CASADO(A)</td>\n",
       "      <td>BRANCA</td>\n",
       "      <td>POLICIAL CIVIL</td>\n",
       "      <td>1134302.04</td>\n",
       "      <td>2018</td>\n",
       "      <td>...</td>\n",
       "      <td>21.0</td>\n",
       "      <td>3.0</td>\n",
       "      <td>28.0</td>\n",
       "      <td>0.0</td>\n",
       "      <td>0.0</td>\n",
       "      <td>0.0</td>\n",
       "      <td>0.0</td>\n",
       "      <td>0.0</td>\n",
       "      <td>0.0</td>\n",
       "      <td>54.0</td>\n",
       "    </tr>\n",
       "    <tr>\n",
       "      <th>50</th>\n",
       "      <td>20912340282</td>\n",
       "      <td>10/11/1964</td>\n",
       "      <td>AP</td>\n",
       "      <td>MASCULINO</td>\n",
       "      <td>ENSINO MÉDIO COMPLETO</td>\n",
       "      <td>CASADO(A)</td>\n",
       "      <td>BRANCA</td>\n",
       "      <td>TÉCNICO DE ELETRICIDADE, ELETRÔNICA E TELECOMU...</td>\n",
       "      <td>159860.00</td>\n",
       "      <td>2018</td>\n",
       "      <td>...</td>\n",
       "      <td>2.0</td>\n",
       "      <td>1.0</td>\n",
       "      <td>5.0</td>\n",
       "      <td>0.0</td>\n",
       "      <td>0.0</td>\n",
       "      <td>0.0</td>\n",
       "      <td>0.0</td>\n",
       "      <td>0.0</td>\n",
       "      <td>0.0</td>\n",
       "      <td>55.0</td>\n",
       "    </tr>\n",
       "    <tr>\n",
       "      <th>68</th>\n",
       "      <td>31340261120</td>\n",
       "      <td>28/04/1966</td>\n",
       "      <td>TO</td>\n",
       "      <td>MASCULINO</td>\n",
       "      <td>ENSINO MÉDIO COMPLETO</td>\n",
       "      <td>CASADO(A)</td>\n",
       "      <td>BRANCA</td>\n",
       "      <td>OUTROS</td>\n",
       "      <td>0.00</td>\n",
       "      <td>2018</td>\n",
       "      <td>...</td>\n",
       "      <td>8.0</td>\n",
       "      <td>1.0</td>\n",
       "      <td>4.0</td>\n",
       "      <td>1.0</td>\n",
       "      <td>6.0</td>\n",
       "      <td>0.0</td>\n",
       "      <td>1.0</td>\n",
       "      <td>0.0</td>\n",
       "      <td>0.0</td>\n",
       "      <td>54.0</td>\n",
       "    </tr>\n",
       "    <tr>\n",
       "      <th>36</th>\n",
       "      <td>31966810334</td>\n",
       "      <td>25/09/1972</td>\n",
       "      <td>CE</td>\n",
       "      <td>MASCULINO</td>\n",
       "      <td>ENSINO MÉDIO COMPLETO</td>\n",
       "      <td>CASADO(A)</td>\n",
       "      <td>PARDA</td>\n",
       "      <td>EMPRESÁRIO</td>\n",
       "      <td>36397417.26</td>\n",
       "      <td>2018</td>\n",
       "      <td>...</td>\n",
       "      <td>17.0</td>\n",
       "      <td>1.0</td>\n",
       "      <td>10.0</td>\n",
       "      <td>0.0</td>\n",
       "      <td>0.0</td>\n",
       "      <td>0.0</td>\n",
       "      <td>0.0</td>\n",
       "      <td>0.0</td>\n",
       "      <td>0.0</td>\n",
       "      <td>47.0</td>\n",
       "    </tr>\n",
       "    <tr>\n",
       "      <th>72</th>\n",
       "      <td>14272954091</td>\n",
       "      <td>14/09/1950</td>\n",
       "      <td>RS</td>\n",
       "      <td>MASCULINO</td>\n",
       "      <td>SUPERIOR COMPLETO</td>\n",
       "      <td>CASADO(A)</td>\n",
       "      <td>BRANCA</td>\n",
       "      <td>DEPUTADO</td>\n",
       "      <td>8390578.91</td>\n",
       "      <td>2018</td>\n",
       "      <td>...</td>\n",
       "      <td>8.0</td>\n",
       "      <td>0.0</td>\n",
       "      <td>16.0</td>\n",
       "      <td>0.0</td>\n",
       "      <td>0.0</td>\n",
       "      <td>0.0</td>\n",
       "      <td>0.0</td>\n",
       "      <td>0.0</td>\n",
       "      <td>0.0</td>\n",
       "      <td>69.0</td>\n",
       "    </tr>\n",
       "    <tr>\n",
       "      <th>66</th>\n",
       "      <td>11268786934</td>\n",
       "      <td>21/12/1947</td>\n",
       "      <td>SC</td>\n",
       "      <td>MASCULINO</td>\n",
       "      <td>SUPERIOR COMPLETO</td>\n",
       "      <td>CASADO(A)</td>\n",
       "      <td>BRANCA</td>\n",
       "      <td>DEPUTADO</td>\n",
       "      <td>3113478.01</td>\n",
       "      <td>2018</td>\n",
       "      <td>...</td>\n",
       "      <td>8.0</td>\n",
       "      <td>0.0</td>\n",
       "      <td>3.0</td>\n",
       "      <td>2.0</td>\n",
       "      <td>8.0</td>\n",
       "      <td>0.0</td>\n",
       "      <td>0.0</td>\n",
       "      <td>0.0</td>\n",
       "      <td>1.0</td>\n",
       "      <td>72.0</td>\n",
       "    </tr>\n",
       "  </tbody>\n",
       "</table>\n",
       "<p>10 rows × 30 columns</p>\n",
       "</div>"
      ],
      "text/plain": [
       "            CPF DT_NASCIMENTO SG_UF_NASCIMENTO  DS_GENERO  \\\n",
       "5   90671953753    29/01/1966               RJ  MASCULINO   \n",
       "77  01720486727    15/06/1971               ES  MASCULINO   \n",
       "45  11078685487    16/09/1955               AL  MASCULINO   \n",
       "23  05985234568    28/08/1947               BA  MASCULINO   \n",
       "29  86364561772    20/06/1966               ES  MASCULINO   \n",
       "50  20912340282    10/11/1964               AP  MASCULINO   \n",
       "68  31340261120    28/04/1966               TO  MASCULINO   \n",
       "36  31966810334    25/09/1972               CE  MASCULINO   \n",
       "72  14272954091    14/09/1950               RS  MASCULINO   \n",
       "66  11268786934    21/12/1947               SC  MASCULINO   \n",
       "\n",
       "        DS_GRAU_INSTRUCAO            DS_ESTADO_CIVIL DS_COR_RACA  \\\n",
       "5     SUPERIOR INCOMPLETO  SEPARADO(A) JUDICIALMENTE       PARDA   \n",
       "77  ENSINO MÉDIO COMPLETO                  CASADO(A)      BRANCA   \n",
       "45      SUPERIOR COMPLETO                  CASADO(A)      BRANCA   \n",
       "23      SUPERIOR COMPLETO                  CASADO(A)      BRANCA   \n",
       "29      SUPERIOR COMPLETO                  CASADO(A)      BRANCA   \n",
       "50  ENSINO MÉDIO COMPLETO                  CASADO(A)      BRANCA   \n",
       "68  ENSINO MÉDIO COMPLETO                  CASADO(A)      BRANCA   \n",
       "36  ENSINO MÉDIO COMPLETO                  CASADO(A)       PARDA   \n",
       "72      SUPERIOR COMPLETO                  CASADO(A)      BRANCA   \n",
       "66      SUPERIOR COMPLETO                  CASADO(A)      BRANCA   \n",
       "\n",
       "                                          DS_OCUPACAO      VL_BENS  \\\n",
       "5                                            DEPUTADO   1311189.82   \n",
       "77                                             OUTROS    737934.91   \n",
       "45                                            SENADOR   1865778.62   \n",
       "23                                             MÉDICO   2481575.01   \n",
       "29                                     POLICIAL CIVIL   1134302.04   \n",
       "50  TÉCNICO DE ELETRICIDADE, ELETRÔNICA E TELECOMU...    159860.00   \n",
       "68                                             OUTROS         0.00   \n",
       "36                                         EMPRESÁRIO  36397417.26   \n",
       "72                                           DEPUTADO   8390578.91   \n",
       "66                                           DEPUTADO   3113478.01   \n",
       "\n",
       "    ANO_ELEICAO  ...   REQ  PEC    PL  mandatos  cabeças  debatedor  \\\n",
       "5          2014  ...  22.0  0.0   7.0       0.0      0.0        0.0   \n",
       "77         2018  ...  11.0  1.0  21.0       0.0      0.0        0.0   \n",
       "45         2018  ...   0.0  0.0   0.0       4.0     23.0        0.0   \n",
       "23         2014  ...   4.0  0.0   1.0       1.0      3.0        0.0   \n",
       "29         2018  ...  21.0  3.0  28.0       0.0      0.0        0.0   \n",
       "50         2018  ...   2.0  1.0   5.0       0.0      0.0        0.0   \n",
       "68         2018  ...   8.0  1.0   4.0       1.0      6.0        0.0   \n",
       "36         2018  ...  17.0  1.0  10.0       0.0      0.0        0.0   \n",
       "72         2018  ...   8.0  0.0  16.0       0.0      0.0        0.0   \n",
       "66         2018  ...   8.0  0.0   3.0       2.0      8.0        0.0   \n",
       "\n",
       "   articulador formulador negociador IDADE  \n",
       "5          0.0        0.0        0.0  54.0  \n",
       "77         0.0        0.0        0.0  49.0  \n",
       "45         1.0        0.0        0.0  64.0  \n",
       "23         0.0        1.0        0.0  73.0  \n",
       "29         0.0        0.0        0.0  54.0  \n",
       "50         0.0        0.0        0.0  55.0  \n",
       "68         1.0        0.0        0.0  54.0  \n",
       "36         0.0        0.0        0.0  47.0  \n",
       "72         0.0        0.0        0.0  69.0  \n",
       "66         0.0        0.0        1.0  72.0  \n",
       "\n",
       "[10 rows x 30 columns]"
      ]
     },
     "execution_count": 19,
     "metadata": {},
     "output_type": "execute_result"
    }
   ],
   "source": [
    "df.shape\n",
    "df.info()\n",
    "df.sample(10)"
   ]
  },
  {
   "cell_type": "code",
   "execution_count": 20,
   "metadata": {},
   "outputs": [
    {
     "name": "stdout",
     "output_type": "stream",
     "text": [
      "<class 'pandas.core.frame.DataFrame'>\n",
      "Int64Index: 79 entries, 0 to 78\n",
      "Data columns (total 30 columns):\n",
      " #   Column                 Non-Null Count  Dtype  \n",
      "---  ------                 --------------  -----  \n",
      " 0   CPF                    79 non-null     object \n",
      " 1   DT_NASCIMENTO          79 non-null     object \n",
      " 2   SG_UF_NASCIMENTO       79 non-null     object \n",
      " 3   DS_GENERO              79 non-null     object \n",
      " 4   DS_GRAU_INSTRUCAO      79 non-null     object \n",
      " 5   DS_ESTADO_CIVIL        79 non-null     object \n",
      " 6   DS_COR_RACA            79 non-null     object \n",
      " 7   DS_OCUPACAO            79 non-null     object \n",
      " 8   VL_BENS                79 non-null     float64\n",
      " 9   ANO_ELEICAO            79 non-null     int64  \n",
      " 10  SG_PARTIDO             79 non-null     object \n",
      " 11  SG_UE                  79 non-null     object \n",
      " 12  NM_URNA_CANDIDATO      79 non-null     object \n",
      " 13  VR_DESPESA_CONTRATADA  79 non-null     float64\n",
      " 14  followers_count        79 non-null     float64\n",
      " 15  tweets                 79 non-null     float64\n",
      " 16  ID_SENADO              79 non-null     object \n",
      " 17  ID_PUB                 79 non-null     object \n",
      " 18  MESA                   79 non-null     object \n",
      " 19  LIDERANCA              79 non-null     object \n",
      " 20  REQ                    79 non-null     float64\n",
      " 21  PEC                    79 non-null     float64\n",
      " 22  PL                     79 non-null     float64\n",
      " 23  mandatos               79 non-null     float64\n",
      " 24  cabeças                79 non-null     float64\n",
      " 25  debatedor              79 non-null     float64\n",
      " 26  articulador            79 non-null     float64\n",
      " 27  formulador             79 non-null     float64\n",
      " 28  negociador             79 non-null     float64\n",
      " 29  IDADE                  79 non-null     float64\n",
      "dtypes: float64(14), int64(1), object(15)\n",
      "memory usage: 19.1+ KB\n"
     ]
    },
    {
     "data": {
      "text/html": [
       "<div>\n",
       "<style scoped>\n",
       "    .dataframe tbody tr th:only-of-type {\n",
       "        vertical-align: middle;\n",
       "    }\n",
       "\n",
       "    .dataframe tbody tr th {\n",
       "        vertical-align: top;\n",
       "    }\n",
       "\n",
       "    .dataframe thead th {\n",
       "        text-align: right;\n",
       "    }\n",
       "</style>\n",
       "<table border=\"1\" class=\"dataframe\">\n",
       "  <thead>\n",
       "    <tr style=\"text-align: right;\">\n",
       "      <th></th>\n",
       "      <th>VL_BENS</th>\n",
       "      <th>ANO_ELEICAO</th>\n",
       "      <th>VR_DESPESA_CONTRATADA</th>\n",
       "      <th>followers_count</th>\n",
       "      <th>tweets</th>\n",
       "      <th>REQ</th>\n",
       "      <th>PEC</th>\n",
       "      <th>PL</th>\n",
       "      <th>mandatos</th>\n",
       "      <th>cabeças</th>\n",
       "      <th>debatedor</th>\n",
       "      <th>articulador</th>\n",
       "      <th>formulador</th>\n",
       "      <th>negociador</th>\n",
       "      <th>IDADE</th>\n",
       "    </tr>\n",
       "  </thead>\n",
       "  <tbody>\n",
       "    <tr>\n",
       "      <th>count</th>\n",
       "      <td>7.900000e+01</td>\n",
       "      <td>79.00</td>\n",
       "      <td>79.00</td>\n",
       "      <td>79.00</td>\n",
       "      <td>79.00</td>\n",
       "      <td>79.00</td>\n",
       "      <td>79.00</td>\n",
       "      <td>79.00</td>\n",
       "      <td>79.00</td>\n",
       "      <td>79.00</td>\n",
       "      <td>79.00</td>\n",
       "      <td>79.00</td>\n",
       "      <td>79.00</td>\n",
       "      <td>79.00</td>\n",
       "      <td>79.00</td>\n",
       "    </tr>\n",
       "    <tr>\n",
       "      <th>mean</th>\n",
       "      <td>1.230221e+07</td>\n",
       "      <td>2016.63</td>\n",
       "      <td>2786541.03</td>\n",
       "      <td>131545.58</td>\n",
       "      <td>9020.23</td>\n",
       "      <td>7.99</td>\n",
       "      <td>0.90</td>\n",
       "      <td>8.53</td>\n",
       "      <td>0.52</td>\n",
       "      <td>2.00</td>\n",
       "      <td>0.08</td>\n",
       "      <td>0.11</td>\n",
       "      <td>0.11</td>\n",
       "      <td>0.06</td>\n",
       "      <td>59.81</td>\n",
       "    </tr>\n",
       "    <tr>\n",
       "      <th>std</th>\n",
       "      <td>5.093624e+07</td>\n",
       "      <td>1.91</td>\n",
       "      <td>2828442.88</td>\n",
       "      <td>373706.20</td>\n",
       "      <td>16998.39</td>\n",
       "      <td>8.69</td>\n",
       "      <td>1.07</td>\n",
       "      <td>9.02</td>\n",
       "      <td>0.81</td>\n",
       "      <td>4.61</td>\n",
       "      <td>0.27</td>\n",
       "      <td>0.32</td>\n",
       "      <td>0.32</td>\n",
       "      <td>0.25</td>\n",
       "      <td>11.75</td>\n",
       "    </tr>\n",
       "    <tr>\n",
       "      <th>min</th>\n",
       "      <td>0.000000e+00</td>\n",
       "      <td>2014.00</td>\n",
       "      <td>35585.77</td>\n",
       "      <td>0.00</td>\n",
       "      <td>0.00</td>\n",
       "      <td>0.00</td>\n",
       "      <td>0.00</td>\n",
       "      <td>0.00</td>\n",
       "      <td>0.00</td>\n",
       "      <td>0.00</td>\n",
       "      <td>0.00</td>\n",
       "      <td>0.00</td>\n",
       "      <td>0.00</td>\n",
       "      <td>0.00</td>\n",
       "      <td>37.00</td>\n",
       "    </tr>\n",
       "    <tr>\n",
       "      <th>25%</th>\n",
       "      <td>6.673189e+05</td>\n",
       "      <td>2014.00</td>\n",
       "      <td>1053250.96</td>\n",
       "      <td>5840.00</td>\n",
       "      <td>1013.00</td>\n",
       "      <td>2.00</td>\n",
       "      <td>0.00</td>\n",
       "      <td>2.00</td>\n",
       "      <td>0.00</td>\n",
       "      <td>0.00</td>\n",
       "      <td>0.00</td>\n",
       "      <td>0.00</td>\n",
       "      <td>0.00</td>\n",
       "      <td>0.00</td>\n",
       "      <td>50.50</td>\n",
       "    </tr>\n",
       "    <tr>\n",
       "      <th>50%</th>\n",
       "      <td>1.865779e+06</td>\n",
       "      <td>2018.00</td>\n",
       "      <td>2253475.38</td>\n",
       "      <td>16750.00</td>\n",
       "      <td>4160.00</td>\n",
       "      <td>5.00</td>\n",
       "      <td>1.00</td>\n",
       "      <td>5.00</td>\n",
       "      <td>0.00</td>\n",
       "      <td>0.00</td>\n",
       "      <td>0.00</td>\n",
       "      <td>0.00</td>\n",
       "      <td>0.00</td>\n",
       "      <td>0.00</td>\n",
       "      <td>59.00</td>\n",
       "    </tr>\n",
       "    <tr>\n",
       "      <th>75%</th>\n",
       "      <td>4.310509e+06</td>\n",
       "      <td>2018.00</td>\n",
       "      <td>3270782.83</td>\n",
       "      <td>83371.50</td>\n",
       "      <td>10653.50</td>\n",
       "      <td>11.00</td>\n",
       "      <td>1.00</td>\n",
       "      <td>11.00</td>\n",
       "      <td>1.00</td>\n",
       "      <td>1.00</td>\n",
       "      <td>0.00</td>\n",
       "      <td>0.00</td>\n",
       "      <td>0.00</td>\n",
       "      <td>0.00</td>\n",
       "      <td>69.00</td>\n",
       "    </tr>\n",
       "    <tr>\n",
       "      <th>max</th>\n",
       "      <td>3.890197e+08</td>\n",
       "      <td>2018.00</td>\n",
       "      <td>18083083.27</td>\n",
       "      <td>2541590.00</td>\n",
       "      <td>119551.00</td>\n",
       "      <td>48.00</td>\n",
       "      <td>4.00</td>\n",
       "      <td>41.00</td>\n",
       "      <td>4.00</td>\n",
       "      <td>26.00</td>\n",
       "      <td>1.00</td>\n",
       "      <td>1.00</td>\n",
       "      <td>1.00</td>\n",
       "      <td>1.00</td>\n",
       "      <td>86.00</td>\n",
       "    </tr>\n",
       "  </tbody>\n",
       "</table>\n",
       "</div>"
      ],
      "text/plain": [
       "            VL_BENS  ANO_ELEICAO  VR_DESPESA_CONTRATADA  followers_count  \\\n",
       "count  7.900000e+01        79.00                  79.00            79.00   \n",
       "mean   1.230221e+07      2016.63             2786541.03        131545.58   \n",
       "std    5.093624e+07         1.91             2828442.88        373706.20   \n",
       "min    0.000000e+00      2014.00               35585.77             0.00   \n",
       "25%    6.673189e+05      2014.00             1053250.96          5840.00   \n",
       "50%    1.865779e+06      2018.00             2253475.38         16750.00   \n",
       "75%    4.310509e+06      2018.00             3270782.83         83371.50   \n",
       "max    3.890197e+08      2018.00            18083083.27       2541590.00   \n",
       "\n",
       "          tweets    REQ    PEC     PL  mandatos  cabeças  debatedor  \\\n",
       "count      79.00  79.00  79.00  79.00     79.00    79.00      79.00   \n",
       "mean     9020.23   7.99   0.90   8.53      0.52     2.00       0.08   \n",
       "std     16998.39   8.69   1.07   9.02      0.81     4.61       0.27   \n",
       "min         0.00   0.00   0.00   0.00      0.00     0.00       0.00   \n",
       "25%      1013.00   2.00   0.00   2.00      0.00     0.00       0.00   \n",
       "50%      4160.00   5.00   1.00   5.00      0.00     0.00       0.00   \n",
       "75%     10653.50  11.00   1.00  11.00      1.00     1.00       0.00   \n",
       "max    119551.00  48.00   4.00  41.00      4.00    26.00       1.00   \n",
       "\n",
       "       articulador  formulador  negociador  IDADE  \n",
       "count        79.00       79.00       79.00  79.00  \n",
       "mean          0.11        0.11        0.06  59.81  \n",
       "std           0.32        0.32        0.25  11.75  \n",
       "min           0.00        0.00        0.00  37.00  \n",
       "25%           0.00        0.00        0.00  50.50  \n",
       "50%           0.00        0.00        0.00  59.00  \n",
       "75%           0.00        0.00        0.00  69.00  \n",
       "max           1.00        1.00        1.00  86.00  "
      ]
     },
     "execution_count": 20,
     "metadata": {},
     "output_type": "execute_result"
    }
   ],
   "source": [
    "df.info()\n",
    "df.describe().round(2)"
   ]
  },
  {
   "cell_type": "code",
   "execution_count": 21,
   "metadata": {},
   "outputs": [],
   "source": [
    "#df.fillna(0, inplace=True)\n",
    "#df.info()"
   ]
  },
  {
   "cell_type": "code",
   "execution_count": 22,
   "metadata": {},
   "outputs": [
    {
     "data": {
      "text/html": [
       "<div>\n",
       "<style scoped>\n",
       "    .dataframe tbody tr th:only-of-type {\n",
       "        vertical-align: middle;\n",
       "    }\n",
       "\n",
       "    .dataframe tbody tr th {\n",
       "        vertical-align: top;\n",
       "    }\n",
       "\n",
       "    .dataframe thead th {\n",
       "        text-align: right;\n",
       "    }\n",
       "</style>\n",
       "<table border=\"1\" class=\"dataframe\">\n",
       "  <thead>\n",
       "    <tr style=\"text-align: right;\">\n",
       "      <th></th>\n",
       "      <th>CPF</th>\n",
       "      <th>DT_NASCIMENTO</th>\n",
       "      <th>SG_UF_NASCIMENTO</th>\n",
       "      <th>DS_GENERO</th>\n",
       "      <th>DS_GRAU_INSTRUCAO</th>\n",
       "      <th>DS_ESTADO_CIVIL</th>\n",
       "      <th>DS_COR_RACA</th>\n",
       "      <th>DS_OCUPACAO</th>\n",
       "      <th>SG_PARTIDO</th>\n",
       "      <th>SG_UE</th>\n",
       "      <th>NM_URNA_CANDIDATO</th>\n",
       "      <th>ID_SENADO</th>\n",
       "      <th>ID_PUB</th>\n",
       "      <th>MESA</th>\n",
       "      <th>LIDERANCA</th>\n",
       "    </tr>\n",
       "  </thead>\n",
       "  <tbody>\n",
       "    <tr>\n",
       "      <th>count</th>\n",
       "      <td>79</td>\n",
       "      <td>79</td>\n",
       "      <td>79</td>\n",
       "      <td>79</td>\n",
       "      <td>79</td>\n",
       "      <td>79</td>\n",
       "      <td>79</td>\n",
       "      <td>79</td>\n",
       "      <td>79</td>\n",
       "      <td>79</td>\n",
       "      <td>79</td>\n",
       "      <td>79</td>\n",
       "      <td>79</td>\n",
       "      <td>79</td>\n",
       "      <td>79</td>\n",
       "    </tr>\n",
       "    <tr>\n",
       "      <th>unique</th>\n",
       "      <td>79</td>\n",
       "      <td>79</td>\n",
       "      <td>26</td>\n",
       "      <td>2</td>\n",
       "      <td>4</td>\n",
       "      <td>5</td>\n",
       "      <td>3</td>\n",
       "      <td>24</td>\n",
       "      <td>21</td>\n",
       "      <td>27</td>\n",
       "      <td>79</td>\n",
       "      <td>77</td>\n",
       "      <td>77</td>\n",
       "      <td>3</td>\n",
       "      <td>3</td>\n",
       "    </tr>\n",
       "    <tr>\n",
       "      <th>top</th>\n",
       "      <td>06651127268</td>\n",
       "      <td>23/04/1951</td>\n",
       "      <td>SP</td>\n",
       "      <td>MASCULINO</td>\n",
       "      <td>SUPERIOR COMPLETO</td>\n",
       "      <td>CASADO(A)</td>\n",
       "      <td>BRANCA</td>\n",
       "      <td>DEPUTADO</td>\n",
       "      <td>PSDB</td>\n",
       "      <td>AP</td>\n",
       "      <td>RANDOLFE</td>\n",
       "      <td>0</td>\n",
       "      <td>0</td>\n",
       "      <td>Não</td>\n",
       "      <td>Não</td>\n",
       "    </tr>\n",
       "    <tr>\n",
       "      <th>freq</th>\n",
       "      <td>1</td>\n",
       "      <td>1</td>\n",
       "      <td>9</td>\n",
       "      <td>68</td>\n",
       "      <td>64</td>\n",
       "      <td>59</td>\n",
       "      <td>61</td>\n",
       "      <td>21</td>\n",
       "      <td>8</td>\n",
       "      <td>3</td>\n",
       "      <td>1</td>\n",
       "      <td>3</td>\n",
       "      <td>3</td>\n",
       "      <td>65</td>\n",
       "      <td>39</td>\n",
       "    </tr>\n",
       "  </tbody>\n",
       "</table>\n",
       "</div>"
      ],
      "text/plain": [
       "                CPF DT_NASCIMENTO SG_UF_NASCIMENTO  DS_GENERO  \\\n",
       "count            79            79               79         79   \n",
       "unique           79            79               26          2   \n",
       "top     06651127268    23/04/1951               SP  MASCULINO   \n",
       "freq              1             1                9         68   \n",
       "\n",
       "        DS_GRAU_INSTRUCAO DS_ESTADO_CIVIL DS_COR_RACA DS_OCUPACAO SG_PARTIDO  \\\n",
       "count                  79              79          79          79         79   \n",
       "unique                  4               5           3          24         21   \n",
       "top     SUPERIOR COMPLETO       CASADO(A)      BRANCA    DEPUTADO       PSDB   \n",
       "freq                   64              59          61          21          8   \n",
       "\n",
       "       SG_UE NM_URNA_CANDIDATO  ID_SENADO  ID_PUB MESA LIDERANCA  \n",
       "count     79                79         79      79   79        79  \n",
       "unique    27                79         77      77    3         3  \n",
       "top       AP         RANDOLFE           0       0  Não       Não  \n",
       "freq       3                 1          3       3   65        39  "
      ]
     },
     "execution_count": 22,
     "metadata": {},
     "output_type": "execute_result"
    }
   ],
   "source": [
    "df.describe(include=np.object)"
   ]
  },
  {
   "cell_type": "raw",
   "metadata": {},
   "source": [
    "plt.clf()\n",
    "df.hist(figsize=(10,7))\n",
    "plt.tight_layout()\n",
    "plt.show"
   ]
  },
  {
   "cell_type": "code",
   "execution_count": 23,
   "metadata": {},
   "outputs": [
    {
     "name": "stdout",
     "output_type": "stream",
     "text": [
      "<class 'pandas.core.frame.DataFrame'>\n",
      "Int64Index: 79 entries, 0 to 78\n",
      "Data columns (total 30 columns):\n",
      " #   Column                 Non-Null Count  Dtype  \n",
      "---  ------                 --------------  -----  \n",
      " 0   CPF                    79 non-null     object \n",
      " 1   DT_NASCIMENTO          79 non-null     object \n",
      " 2   SG_UF_NASCIMENTO       79 non-null     object \n",
      " 3   DS_GENERO              79 non-null     object \n",
      " 4   DS_GRAU_INSTRUCAO      79 non-null     object \n",
      " 5   DS_ESTADO_CIVIL        79 non-null     object \n",
      " 6   DS_COR_RACA            79 non-null     object \n",
      " 7   DS_OCUPACAO            79 non-null     object \n",
      " 8   VL_BENS                79 non-null     float64\n",
      " 9   ANO_ELEICAO            79 non-null     int64  \n",
      " 10  SG_PARTIDO             79 non-null     object \n",
      " 11  SG_UE                  79 non-null     object \n",
      " 12  NM_URNA_CANDIDATO      79 non-null     object \n",
      " 13  VR_DESPESA_CONTRATADA  79 non-null     float64\n",
      " 14  followers_count        79 non-null     float64\n",
      " 15  tweets                 79 non-null     float64\n",
      " 16  ID_SENADO              79 non-null     object \n",
      " 17  ID_PUB                 79 non-null     object \n",
      " 18  MESA                   79 non-null     object \n",
      " 19  LIDERANCA              79 non-null     object \n",
      " 20  REQ                    79 non-null     float64\n",
      " 21  PEC                    79 non-null     float64\n",
      " 22  PL                     79 non-null     float64\n",
      " 23  mandatos               79 non-null     float64\n",
      " 24  cabeças                79 non-null     float64\n",
      " 25  debatedor              79 non-null     float64\n",
      " 26  articulador            79 non-null     float64\n",
      " 27  formulador             79 non-null     float64\n",
      " 28  negociador             79 non-null     float64\n",
      " 29  IDADE                  79 non-null     float64\n",
      "dtypes: float64(14), int64(1), object(15)\n",
      "memory usage: 19.1+ KB\n"
     ]
    },
    {
     "data": {
      "text/plain": [
       "CPF                      79\n",
       "DT_NASCIMENTO            79\n",
       "SG_UF_NASCIMENTO         26\n",
       "DS_GENERO                 2\n",
       "DS_GRAU_INSTRUCAO         4\n",
       "DS_ESTADO_CIVIL           5\n",
       "DS_COR_RACA               3\n",
       "DS_OCUPACAO              24\n",
       "VL_BENS                  79\n",
       "ANO_ELEICAO               2\n",
       "SG_PARTIDO               21\n",
       "SG_UE                    27\n",
       "NM_URNA_CANDIDATO        79\n",
       "VR_DESPESA_CONTRATADA    79\n",
       "followers_count          69\n",
       "tweets                   69\n",
       "ID_SENADO                77\n",
       "ID_PUB                   77\n",
       "MESA                      3\n",
       "LIDERANCA                 3\n",
       "REQ                      27\n",
       "PEC                       5\n",
       "PL                       28\n",
       "mandatos                  5\n",
       "cabeças                  13\n",
       "debatedor                 2\n",
       "articulador               2\n",
       "formulador                2\n",
       "negociador                2\n",
       "IDADE                    32\n",
       "dtype: int64"
      ]
     },
     "execution_count": 23,
     "metadata": {},
     "output_type": "execute_result"
    }
   ],
   "source": [
    "df.info()\n",
    "unicos=df.nunique()\n",
    "unicos"
   ]
  },
  {
   "cell_type": "markdown",
   "metadata": {},
   "source": [
    "## Defindo variaveis categóricas numericas"
   ]
  },
  {
   "cell_type": "code",
   "execution_count": 24,
   "metadata": {},
   "outputs": [],
   "source": [
    "def analisa_variaveis(df,variaveis,nunicas):\n",
    "    lista=[]\n",
    "    unicos=df[variaveis].nunique()\n",
    "    for variavel in unicos.index:\n",
    "        quant=unicos.loc[variavel]\n",
    "        if quant <= nunicas:\n",
    "            lista.append(variavel)\n",
    "            print(\"Variavel {}, {} ocorrências únicas\".format(variavel,quant))\n",
    "            print(df[variavel].sort_values().unique())\n",
    "    return lista"
   ]
  },
  {
   "cell_type": "code",
   "execution_count": 25,
   "metadata": {},
   "outputs": [
    {
     "data": {
      "text/plain": [
       "VL_BENS                  79\n",
       "ANO_ELEICAO               2\n",
       "VR_DESPESA_CONTRATADA    79\n",
       "followers_count          69\n",
       "tweets                   69\n",
       "REQ                      27\n",
       "PEC                       5\n",
       "PL                       28\n",
       "mandatos                  5\n",
       "cabeças                  13\n",
       "debatedor                 2\n",
       "articulador               2\n",
       "formulador                2\n",
       "negociador                2\n",
       "IDADE                    32\n",
       "dtype: int64"
      ]
     },
     "execution_count": 25,
     "metadata": {},
     "output_type": "execute_result"
    }
   ],
   "source": [
    "variaveis_numericas= df.select_dtypes(include=[np.number]).columns\n",
    "df[variaveis_numericas].nunique()"
   ]
  },
  {
   "cell_type": "code",
   "execution_count": 26,
   "metadata": {},
   "outputs": [
    {
     "name": "stdout",
     "output_type": "stream",
     "text": [
      "Variavel ANO_ELEICAO, 2 ocorrências únicas\n",
      "[2014 2018]\n",
      "Variavel debatedor, 2 ocorrências únicas\n",
      "[0. 1.]\n",
      "Variavel articulador, 2 ocorrências únicas\n",
      "[0. 1.]\n",
      "Variavel formulador, 2 ocorrências únicas\n",
      "[0. 1.]\n",
      "Variavel negociador, 2 ocorrências únicas\n",
      "[0. 1.]\n"
     ]
    },
    {
     "data": {
      "text/plain": [
       "['ANO_ELEICAO', 'debatedor', 'articulador', 'formulador', 'negociador']"
      ]
     },
     "execution_count": 26,
     "metadata": {},
     "output_type": "execute_result"
    }
   ],
   "source": [
    "cat_numericas=analisa_variaveis(df,variaveis_numericas,2)\n",
    "cat_numericas"
   ]
  },
  {
   "cell_type": "raw",
   "metadata": {},
   "source": [
    "#variaveis_categoricas.remove(\"time_spend_company\")\n",
    "cat_numericas.remove(\"ATS\")\n",
    "cat_numericas.remove(\"INS\")\n",
    "cat_numericas.remove(\"OFS\")\n",
    "cat_numericas.remove(\"PET\")\n",
    "cat_numericas.remove(\"PFS\")\n",
    "cat_numericas.remove(\"R.S\")\n"
   ]
  },
  {
   "cell_type": "code",
   "execution_count": 27,
   "metadata": {},
   "outputs": [
    {
     "name": "stdout",
     "output_type": "stream",
     "text": [
      "<class 'pandas.core.frame.DataFrame'>\n",
      "Int64Index: 79 entries, 0 to 78\n",
      "Data columns (total 5 columns):\n",
      " #   Column       Non-Null Count  Dtype  \n",
      "---  ------       --------------  -----  \n",
      " 0   ANO_ELEICAO  79 non-null     int64  \n",
      " 1   debatedor    79 non-null     float64\n",
      " 2   articulador  79 non-null     float64\n",
      " 3   formulador   79 non-null     float64\n",
      " 4   negociador   79 non-null     float64\n",
      "dtypes: float64(4), int64(1)\n",
      "memory usage: 3.7 KB\n"
     ]
    }
   ],
   "source": [
    "df[cat_numericas].info()\n"
   ]
  },
  {
   "cell_type": "code",
   "execution_count": 28,
   "metadata": {},
   "outputs": [
    {
     "data": {
      "text/plain": [
       "CPF                  79\n",
       "DT_NASCIMENTO        79\n",
       "SG_UF_NASCIMENTO     26\n",
       "DS_GENERO             2\n",
       "DS_GRAU_INSTRUCAO     4\n",
       "DS_ESTADO_CIVIL       5\n",
       "DS_COR_RACA           3\n",
       "DS_OCUPACAO          24\n",
       "SG_PARTIDO           21\n",
       "SG_UE                27\n",
       "NM_URNA_CANDIDATO    79\n",
       "ID_SENADO            77\n",
       "ID_PUB               77\n",
       "MESA                  3\n",
       "LIDERANCA             3\n",
       "dtype: int64"
      ]
     },
     "execution_count": 28,
     "metadata": {},
     "output_type": "execute_result"
    }
   ],
   "source": [
    "variaveis_objeto=df.select_dtypes(include=\"object\").columns\n",
    "df[variaveis_objeto].nunique()"
   ]
  },
  {
   "cell_type": "code",
   "execution_count": 29,
   "metadata": {},
   "outputs": [
    {
     "data": {
      "text/plain": [
       "array(['Não', 0, 'Sim'], dtype=object)"
      ]
     },
     "execution_count": 29,
     "metadata": {},
     "output_type": "execute_result"
    },
    {
     "data": {
      "text/plain": [
       "4     RONALDO CAIADO\n",
       "14            FATIMA\n",
       "16    GLADSON CAMELI\n",
       "Name: NM_URNA_CANDIDATO, dtype: object"
      ]
     },
     "execution_count": 29,
     "metadata": {},
     "output_type": "execute_result"
    },
    {
     "data": {
      "text/plain": [
       "(79, 30)"
      ]
     },
     "execution_count": 29,
     "metadata": {},
     "output_type": "execute_result"
    },
    {
     "data": {
      "text/plain": [
       "(76, 30)"
      ]
     },
     "execution_count": 29,
     "metadata": {},
     "output_type": "execute_result"
    }
   ],
   "source": [
    "# Retirandos os senadores eleitos que não estão ativos\n",
    "df[\"MESA\"].unique()\n",
    "df[\"NM_URNA_CANDIDATO\"][df[\"MESA\"]==0]\n",
    "df.shape\n",
    "df=df[df[\"MESA\"]!=0]\n",
    "\n",
    "df.shape\n"
   ]
  },
  {
   "cell_type": "code",
   "execution_count": 30,
   "metadata": {},
   "outputs": [
    {
     "name": "stdout",
     "output_type": "stream",
     "text": [
      "Variavel SG_UF_NASCIMENTO, 26 ocorrências únicas\n",
      "['AC' 'AL' 'AM' 'AP' 'BA' 'CE' 'DF' 'ES' 'GO' 'MA' 'MG' 'MS' 'MT' 'PA'\n",
      " 'PB' 'PE' 'PI' 'PR' 'RJ' 'RO' 'RR' 'RS' 'SC' 'SE' 'SP' 'TO']\n",
      "Variavel DS_GENERO, 2 ocorrências únicas\n",
      "['FEMININO' 'MASCULINO']\n",
      "Variavel DS_GRAU_INSTRUCAO, 4 ocorrências únicas\n",
      "['ENSINO FUNDAMENTAL INCOMPLETO' 'ENSINO MÉDIO COMPLETO'\n",
      " 'SUPERIOR COMPLETO' 'SUPERIOR INCOMPLETO']\n",
      "Variavel DS_ESTADO_CIVIL, 5 ocorrências únicas\n",
      "['CASADO(A)' 'DIVORCIADO(A)' 'SEPARADO(A) JUDICIALMENTE' 'SOLTEIRO(A)'\n",
      " 'VIÚVO(A)']\n",
      "Variavel DS_COR_RACA, 3 ocorrências únicas\n",
      "['BRANCA' 'PARDA' 'PRETA']\n",
      "Variavel DS_OCUPACAO, 24 ocorrências únicas\n",
      "['ADMINISTRADOR' 'ADVOGADO' 'APOSENTADO (EXCETO SERVIDOR PÚBLICO)'\n",
      " 'ATLETA PROFISSIONAL E TÉCNICO EM DESPORTOS' 'COMERCIANTE' 'CONTADOR'\n",
      " 'DEPUTADO' 'ECONOMISTA' 'EMPRESÁRIO' 'ENGENHEIRO' 'HISTORIADOR'\n",
      " 'INDUSTRIAL' 'JORNALEIRO' 'JORNALISTA E REDATOR' 'MÉDICO' 'OUTROS'\n",
      " 'PEDAGOGO' 'POLICIAL CIVIL' 'POLICIAL MILITAR'\n",
      " 'PROFESSOR DE ENSINO SUPERIOR' 'SENADOR' 'SERVIDOR PÚBLICO ESTADUAL'\n",
      " 'TÉCNICO DE ELETRICIDADE, ELETRÔNICA E TELECOMUNICAÇÕES' 'VEREADOR']\n",
      "Variavel SG_PARTIDO, 21 ocorrências únicas\n",
      "['DEM' 'MDB' 'PDT' 'PHS' 'PMDB' 'PODE' 'PP' 'PPS' 'PR' 'PRB' 'PROS' 'PRP'\n",
      " 'PSB' 'PSC' 'PSD' 'PSDB' 'PSL' 'PT' 'PTB' 'REDE' 'SOLIDARIEDADE']\n",
      "Variavel SG_UE, 27 ocorrências únicas\n",
      "['AC' 'AL' 'AM' 'AP' 'BA' 'CE' 'DF' 'ES' 'GO' 'MA' 'MG' 'MS' 'MT' 'PA'\n",
      " 'PB' 'PE' 'PI' 'PR' 'RJ' 'RN' 'RO' 'RR' 'RS' 'SC' 'SE' 'SP' 'TO']\n",
      "Variavel MESA, 2 ocorrências únicas\n",
      "['Não' 'Sim']\n",
      "Variavel LIDERANCA, 2 ocorrências únicas\n",
      "['Não' 'Sim']\n"
     ]
    },
    {
     "data": {
      "text/plain": [
       "['SG_UF_NASCIMENTO',\n",
       " 'DS_GENERO',\n",
       " 'DS_GRAU_INSTRUCAO',\n",
       " 'DS_ESTADO_CIVIL',\n",
       " 'DS_COR_RACA',\n",
       " 'DS_OCUPACAO',\n",
       " 'SG_PARTIDO',\n",
       " 'SG_UE',\n",
       " 'MESA',\n",
       " 'LIDERANCA']"
      ]
     },
     "execution_count": 30,
     "metadata": {},
     "output_type": "execute_result"
    }
   ],
   "source": [
    "cat_objeto=analisa_variaveis(df,variaveis_objeto,27)\n",
    "cat_objeto"
   ]
  },
  {
   "cell_type": "code",
   "execution_count": 31,
   "metadata": {},
   "outputs": [
    {
     "data": {
      "text/plain": [
       "['ANO_ELEICAO',\n",
       " 'debatedor',\n",
       " 'articulador',\n",
       " 'formulador',\n",
       " 'negociador',\n",
       " 'SG_UF_NASCIMENTO',\n",
       " 'DS_GENERO',\n",
       " 'DS_GRAU_INSTRUCAO',\n",
       " 'DS_ESTADO_CIVIL',\n",
       " 'DS_COR_RACA',\n",
       " 'DS_OCUPACAO',\n",
       " 'SG_PARTIDO',\n",
       " 'SG_UE',\n",
       " 'MESA',\n",
       " 'LIDERANCA']"
      ]
     },
     "execution_count": 31,
     "metadata": {},
     "output_type": "execute_result"
    }
   ],
   "source": [
    "#variaveis_dummy=variaveis_categoricas[0:3]\n",
    "variaveis_categoricas=cat_numericas+cat_objeto\n",
    "variaveis_categoricas"
   ]
  },
  {
   "cell_type": "code",
   "execution_count": 32,
   "metadata": {},
   "outputs": [
    {
     "name": "stdout",
     "output_type": "stream",
     "text": [
      "<class 'pandas.core.frame.DataFrame'>\n",
      "Int64Index: 76 entries, 0 to 78\n",
      "Data columns (total 30 columns):\n",
      " #   Column                 Non-Null Count  Dtype   \n",
      "---  ------                 --------------  -----   \n",
      " 0   CPF                    76 non-null     object  \n",
      " 1   DT_NASCIMENTO          76 non-null     object  \n",
      " 2   SG_UF_NASCIMENTO       76 non-null     category\n",
      " 3   DS_GENERO              76 non-null     category\n",
      " 4   DS_GRAU_INSTRUCAO      76 non-null     category\n",
      " 5   DS_ESTADO_CIVIL        76 non-null     category\n",
      " 6   DS_COR_RACA            76 non-null     category\n",
      " 7   DS_OCUPACAO            76 non-null     category\n",
      " 8   VL_BENS                76 non-null     float64 \n",
      " 9   ANO_ELEICAO            76 non-null     category\n",
      " 10  SG_PARTIDO             76 non-null     category\n",
      " 11  SG_UE                  76 non-null     category\n",
      " 12  NM_URNA_CANDIDATO      76 non-null     object  \n",
      " 13  VR_DESPESA_CONTRATADA  76 non-null     float64 \n",
      " 14  followers_count        76 non-null     float64 \n",
      " 15  tweets                 76 non-null     float64 \n",
      " 16  ID_SENADO              76 non-null     object  \n",
      " 17  ID_PUB                 76 non-null     object  \n",
      " 18  MESA                   76 non-null     category\n",
      " 19  LIDERANCA              76 non-null     category\n",
      " 20  REQ                    76 non-null     float64 \n",
      " 21  PEC                    76 non-null     float64 \n",
      " 22  PL                     76 non-null     float64 \n",
      " 23  mandatos               76 non-null     float64 \n",
      " 24  cabeças                76 non-null     float64 \n",
      " 25  debatedor              76 non-null     category\n",
      " 26  articulador            76 non-null     category\n",
      " 27  formulador             76 non-null     category\n",
      " 28  negociador             76 non-null     category\n",
      " 29  IDADE                  76 non-null     float64 \n",
      "dtypes: category(15), float64(10), object(5)\n",
      "memory usage: 16.4+ KB\n"
     ]
    }
   ],
   "source": [
    "for variavel in variaveis_categoricas:\n",
    "    df[variavel]=df[variavel].astype(\"category\")\n",
    "df.info()\n",
    "#df.describe(include=np.object)"
   ]
  },
  {
   "cell_type": "code",
   "execution_count": 33,
   "metadata": {},
   "outputs": [
    {
     "data": {
      "text/plain": [
       "['VL_BENS',\n",
       " 'VR_DESPESA_CONTRATADA',\n",
       " 'followers_count',\n",
       " 'tweets',\n",
       " 'REQ',\n",
       " 'PEC',\n",
       " 'PL',\n",
       " 'mandatos',\n",
       " 'cabeças',\n",
       " 'IDADE']"
      ]
     },
     "execution_count": 33,
     "metadata": {},
     "output_type": "execute_result"
    },
    {
     "data": {
      "text/plain": [
       "['ANO_ELEICAO',\n",
       " 'debatedor',\n",
       " 'articulador',\n",
       " 'formulador',\n",
       " 'negociador',\n",
       " 'SG_UF_NASCIMENTO',\n",
       " 'DS_GENERO',\n",
       " 'DS_GRAU_INSTRUCAO',\n",
       " 'DS_ESTADO_CIVIL',\n",
       " 'DS_COR_RACA',\n",
       " 'DS_OCUPACAO',\n",
       " 'SG_PARTIDO',\n",
       " 'SG_UE',\n",
       " 'MESA',\n",
       " 'LIDERANCA']"
      ]
     },
     "execution_count": 33,
     "metadata": {},
     "output_type": "execute_result"
    }
   ],
   "source": [
    "variaveis_numericas= list(df.select_dtypes(include=[np.number]).columns)\n",
    "variaveis_numericas\n",
    "variaveis_categoricas"
   ]
  },
  {
   "cell_type": "markdown",
   "metadata": {},
   "source": [
    "### Histogramas"
   ]
  },
  {
   "cell_type": "raw",
   "metadata": {},
   "source": [
    "for variavel in variaveis_categoricas:\n",
    "    df[variavel].value_counts().plot(kind=\"bar\")\n",
    "    plt.xlabel(variavel)\n",
    "    plt.ylabel(\"Contagem\")\n",
    "    plt.title(variavel)\n",
    "    plt.show()"
   ]
  },
  {
   "cell_type": "markdown",
   "metadata": {},
   "source": [
    "### Boxplots - Identificando, verificando e tratando outliers\n"
   ]
  },
  {
   "cell_type": "raw",
   "metadata": {},
   "source": [
    "for cat in variaveis_categoricas:\n",
    "    for num in variaveis_numericas:\n",
    "        sns.boxplot(x=cat, y=num, data=df)\n",
    "        plt.xlabel(cat)\n",
    "        plt.ylabel(num)\n",
    "        plt.title(cat)\n",
    "        plt.show()\n"
   ]
  },
  {
   "cell_type": "markdown",
   "metadata": {
    "slideshow": {
     "slide_type": "slide"
    }
   },
   "source": [
    "## Criação das variáveis dummies, categoricas e numéricas para modelo"
   ]
  },
  {
   "cell_type": "code",
   "execution_count": 34,
   "metadata": {},
   "outputs": [
    {
     "data": {
      "text/plain": [
       "VL_BENS                  76\n",
       "VR_DESPESA_CONTRATADA    76\n",
       "followers_count          68\n",
       "tweets                   68\n",
       "REQ                      27\n",
       "PEC                       5\n",
       "PL                       28\n",
       "mandatos                  5\n",
       "cabeças                  13\n",
       "IDADE                    32\n",
       "SG_UF_NASCIMENTO         26\n",
       "DS_GENERO                 2\n",
       "DS_GRAU_INSTRUCAO         4\n",
       "DS_ESTADO_CIVIL           5\n",
       "DS_COR_RACA               3\n",
       "DS_OCUPACAO              24\n",
       "ANO_ELEICAO               2\n",
       "SG_PARTIDO               21\n",
       "SG_UE                    27\n",
       "MESA                      2\n",
       "LIDERANCA                 2\n",
       "debatedor                 2\n",
       "articulador               2\n",
       "formulador                2\n",
       "negociador                2\n",
       "dtype: int64"
      ]
     },
     "execution_count": 34,
     "metadata": {},
     "output_type": "execute_result"
    }
   ],
   "source": [
    "variaveis_numericas=variaveis_numericas= list(df.select_dtypes(include=[np.number]).columns)\n",
    "variaveis_categoricas= list(df.select_dtypes(include=\"category\").columns)\n",
    "variaveis_modelo=variaveis_numericas+variaveis_categoricas\n",
    "\n",
    "df[variaveis_modelo].nunique()"
   ]
  },
  {
   "cell_type": "code",
   "execution_count": 35,
   "metadata": {},
   "outputs": [],
   "source": [
    "df.drop(columns=[\"DS_GENERO\",\"DS_GRAU_INSTRUCAO\",\n",
    "                 \"DS_ESTADO_CIVIL\",\"DS_COR_RACA\",\n",
    "                 \"DS_OCUPACAO\",\"ANO_ELEICAO\",\"SG_PARTIDO\",\"SG_UE\",\n",
    "                 \"SG_UF_NASCIMENTO\",\"IDADE\"], inplace=True)"
   ]
  },
  {
   "cell_type": "code",
   "execution_count": 36,
   "metadata": {},
   "outputs": [],
   "source": [
    "variaveis_numericas=variaveis_numericas= list(df.select_dtypes(include=[np.number]).columns)\n",
    "variaveis_categoricas= list(df.select_dtypes(include=\"category\").columns)\n",
    "variaveis_modelo=variaveis_numericas+variaveis_categoricas\n",
    "variaveis_dummy=[]"
   ]
  },
  {
   "cell_type": "code",
   "execution_count": 37,
   "metadata": {},
   "outputs": [
    {
     "data": {
      "text/plain": [
       "['MESA', 'LIDERANCA', 'debatedor', 'articulador', 'formulador', 'negociador']"
      ]
     },
     "execution_count": 37,
     "metadata": {},
     "output_type": "execute_result"
    }
   ],
   "source": [
    "#variaveis_categoricas.remove(target[0])\n",
    "#variaveis_dummy.remove(target[0])\n",
    "hot_encoding=variaveis_categoricas\n",
    "hot_encoding"
   ]
  },
  {
   "cell_type": "code",
   "execution_count": 38,
   "metadata": {},
   "outputs": [
    {
     "data": {
      "text/plain": [
       "['MESA', 'LIDERANCA']"
      ]
     },
     "execution_count": 38,
     "metadata": {},
     "output_type": "execute_result"
    }
   ],
   "source": [
    "hot_encoding.remove(\"debatedor\")\n",
    "hot_encoding.remove(\"articulador\")\n",
    "hot_encoding.remove(\"formulador\")\n",
    "hot_encoding.remove(\"negociador\")\n",
    "hot_encoding"
   ]
  },
  {
   "cell_type": "code",
   "execution_count": 39,
   "metadata": {},
   "outputs": [],
   "source": [
    "df_original=df.copy()\n"
   ]
  },
  {
   "cell_type": "code",
   "execution_count": 40,
   "metadata": {},
   "outputs": [
    {
     "data": {
      "text/html": [
       "<div>\n",
       "<style scoped>\n",
       "    .dataframe tbody tr th:only-of-type {\n",
       "        vertical-align: middle;\n",
       "    }\n",
       "\n",
       "    .dataframe tbody tr th {\n",
       "        vertical-align: top;\n",
       "    }\n",
       "\n",
       "    .dataframe thead th {\n",
       "        text-align: right;\n",
       "    }\n",
       "</style>\n",
       "<table border=\"1\" class=\"dataframe\">\n",
       "  <thead>\n",
       "    <tr style=\"text-align: right;\">\n",
       "      <th></th>\n",
       "      <th>CPF</th>\n",
       "      <th>DT_NASCIMENTO</th>\n",
       "      <th>VL_BENS</th>\n",
       "      <th>NM_URNA_CANDIDATO</th>\n",
       "      <th>VR_DESPESA_CONTRATADA</th>\n",
       "      <th>followers_count</th>\n",
       "      <th>tweets</th>\n",
       "      <th>ID_SENADO</th>\n",
       "      <th>ID_PUB</th>\n",
       "      <th>MESA</th>\n",
       "      <th>LIDERANCA</th>\n",
       "      <th>REQ</th>\n",
       "      <th>PEC</th>\n",
       "      <th>PL</th>\n",
       "      <th>mandatos</th>\n",
       "      <th>cabeças</th>\n",
       "      <th>debatedor</th>\n",
       "      <th>articulador</th>\n",
       "      <th>formulador</th>\n",
       "      <th>negociador</th>\n",
       "    </tr>\n",
       "  </thead>\n",
       "  <tbody>\n",
       "    <tr>\n",
       "      <th>12</th>\n",
       "      <td>01032852372</td>\n",
       "      <td>15/12/1948</td>\n",
       "      <td>3.890197e+08</td>\n",
       "      <td>TASSO JEREISSATI</td>\n",
       "      <td>8709554.18</td>\n",
       "      <td>36678.0</td>\n",
       "      <td>4160.0</td>\n",
       "      <td>3396</td>\n",
       "      <td>812</td>\n",
       "      <td>Não</td>\n",
       "      <td>Não</td>\n",
       "      <td>3.0</td>\n",
       "      <td>0.0</td>\n",
       "      <td>1.0</td>\n",
       "      <td>2.0</td>\n",
       "      <td>13.0</td>\n",
       "      <td>0.0</td>\n",
       "      <td>0.0</td>\n",
       "      <td>1.0</td>\n",
       "      <td>0.0</td>\n",
       "    </tr>\n",
       "    <tr>\n",
       "      <th>69</th>\n",
       "      <td>09604332287</td>\n",
       "      <td>20/04/1960</td>\n",
       "      <td>1.068662e+06</td>\n",
       "      <td>PETECAO</td>\n",
       "      <td>1185020.00</td>\n",
       "      <td>11100.0</td>\n",
       "      <td>4939.0</td>\n",
       "      <td>4560</td>\n",
       "      <td>850</td>\n",
       "      <td>Sim</td>\n",
       "      <td>Não</td>\n",
       "      <td>1.0</td>\n",
       "      <td>0.0</td>\n",
       "      <td>3.0</td>\n",
       "      <td>1.0</td>\n",
       "      <td>1.0</td>\n",
       "      <td>0.0</td>\n",
       "      <td>1.0</td>\n",
       "      <td>0.0</td>\n",
       "      <td>0.0</td>\n",
       "    </tr>\n",
       "    <tr>\n",
       "      <th>77</th>\n",
       "      <td>01720486727</td>\n",
       "      <td>15/06/1971</td>\n",
       "      <td>7.379349e+05</td>\n",
       "      <td>MARCOS DO VAL</td>\n",
       "      <td>90767.34</td>\n",
       "      <td>99857.0</td>\n",
       "      <td>3565.0</td>\n",
       "      <td>5942</td>\n",
       "      <td>862</td>\n",
       "      <td>Sim</td>\n",
       "      <td>Não</td>\n",
       "      <td>11.0</td>\n",
       "      <td>1.0</td>\n",
       "      <td>21.0</td>\n",
       "      <td>0.0</td>\n",
       "      <td>0.0</td>\n",
       "      <td>0.0</td>\n",
       "      <td>0.0</td>\n",
       "      <td>0.0</td>\n",
       "      <td>0.0</td>\n",
       "    </tr>\n",
       "    <tr>\n",
       "      <th>35</th>\n",
       "      <td>06651127268</td>\n",
       "      <td>18/09/1959</td>\n",
       "      <td>6.030696e+05</td>\n",
       "      <td>ZEQUINHA MARINHO</td>\n",
       "      <td>762190.77</td>\n",
       "      <td>1196.0</td>\n",
       "      <td>144.0</td>\n",
       "      <td>3806</td>\n",
       "      <td>836</td>\n",
       "      <td>Não</td>\n",
       "      <td>Sim</td>\n",
       "      <td>7.0</td>\n",
       "      <td>1.0</td>\n",
       "      <td>5.0</td>\n",
       "      <td>0.0</td>\n",
       "      <td>0.0</td>\n",
       "      <td>0.0</td>\n",
       "      <td>0.0</td>\n",
       "      <td>0.0</td>\n",
       "      <td>0.0</td>\n",
       "    </tr>\n",
       "    <tr>\n",
       "      <th>11</th>\n",
       "      <td>07588615249</td>\n",
       "      <td>13/08/1958</td>\n",
       "      <td>1.650486e+06</td>\n",
       "      <td>OMAR AZIZ</td>\n",
       "      <td>4412079.43</td>\n",
       "      <td>56545.0</td>\n",
       "      <td>2186.0</td>\n",
       "      <td>5525</td>\n",
       "      <td>803</td>\n",
       "      <td>Não</td>\n",
       "      <td>Não</td>\n",
       "      <td>2.0</td>\n",
       "      <td>0.0</td>\n",
       "      <td>1.0</td>\n",
       "      <td>1.0</td>\n",
       "      <td>1.0</td>\n",
       "      <td>1.0</td>\n",
       "      <td>0.0</td>\n",
       "      <td>0.0</td>\n",
       "      <td>0.0</td>\n",
       "    </tr>\n",
       "  </tbody>\n",
       "</table>\n",
       "</div>"
      ],
      "text/plain": [
       "            CPF DT_NASCIMENTO       VL_BENS NM_URNA_CANDIDATO  \\\n",
       "12  01032852372    15/12/1948  3.890197e+08  TASSO JEREISSATI   \n",
       "69  09604332287    20/04/1960  1.068662e+06           PETECAO   \n",
       "77  01720486727    15/06/1971  7.379349e+05     MARCOS DO VAL   \n",
       "35  06651127268    18/09/1959  6.030696e+05  ZEQUINHA MARINHO   \n",
       "11  07588615249    13/08/1958  1.650486e+06         OMAR AZIZ   \n",
       "\n",
       "    VR_DESPESA_CONTRATADA  followers_count  tweets ID_SENADO ID_PUB MESA  \\\n",
       "12             8709554.18          36678.0  4160.0      3396    812  Não   \n",
       "69             1185020.00          11100.0  4939.0      4560    850  Sim   \n",
       "77               90767.34          99857.0  3565.0      5942    862  Sim   \n",
       "35              762190.77           1196.0   144.0      3806    836  Não   \n",
       "11             4412079.43          56545.0  2186.0      5525    803  Não   \n",
       "\n",
       "   LIDERANCA   REQ  PEC    PL  mandatos  cabeças debatedor articulador  \\\n",
       "12       Não   3.0  0.0   1.0       2.0     13.0       0.0         0.0   \n",
       "69       Não   1.0  0.0   3.0       1.0      1.0       0.0         1.0   \n",
       "77       Não  11.0  1.0  21.0       0.0      0.0       0.0         0.0   \n",
       "35       Sim   7.0  1.0   5.0       0.0      0.0       0.0         0.0   \n",
       "11       Não   2.0  0.0   1.0       1.0      1.0       1.0         0.0   \n",
       "\n",
       "   formulador negociador  \n",
       "12        1.0        0.0  \n",
       "69        0.0        0.0  \n",
       "77        0.0        0.0  \n",
       "35        0.0        0.0  \n",
       "11        0.0        0.0  "
      ]
     },
     "execution_count": 40,
     "metadata": {},
     "output_type": "execute_result"
    },
    {
     "data": {
      "text/plain": [
       "Index(['CPF', 'DT_NASCIMENTO', 'VL_BENS', 'NM_URNA_CANDIDATO',\n",
       "       'VR_DESPESA_CONTRATADA', 'followers_count', 'tweets', 'ID_SENADO',\n",
       "       'ID_PUB', 'MESA', 'LIDERANCA', 'REQ', 'PEC', 'PL', 'mandatos',\n",
       "       'cabeças', 'debatedor', 'articulador', 'formulador', 'negociador'],\n",
       "      dtype='object')"
      ]
     },
     "execution_count": 40,
     "metadata": {},
     "output_type": "execute_result"
    }
   ],
   "source": [
    "# Trata variaveis binárias (0-1)\n",
    "#df_original=df.copy()\n",
    "for variavel in variaveis_dummy:\n",
    "    df=pd.concat([df, pd.get_dummies(df[variavel].astype(object), prefix=variavel, drop_first=True)], axis=1)\n",
    "    df.drop(columns=[variavel], inplace=True)\n",
    "df.sample(5)\n",
    "df.columns"
   ]
  },
  {
   "cell_type": "code",
   "execution_count": 41,
   "metadata": {},
   "outputs": [
    {
     "data": {
      "text/plain": [
       "Index(['CPF', 'DT_NASCIMENTO', 'VL_BENS', 'NM_URNA_CANDIDATO',\n",
       "       'VR_DESPESA_CONTRATADA', 'followers_count', 'tweets', 'ID_SENADO',\n",
       "       'ID_PUB', 'REQ', 'PEC', 'PL', 'mandatos', 'cabeças', 'debatedor',\n",
       "       'articulador', 'formulador', 'negociador', 'MESA_Sim', 'LIDERANCA_Sim'],\n",
       "      dtype='object')"
      ]
     },
     "execution_count": 41,
     "metadata": {},
     "output_type": "execute_result"
    }
   ],
   "source": [
    "#Trata variaveis \n",
    "#variaveis_categoricas=list(set(variaveis_categoricas)-set(variaveis_dummy))\n",
    "for variavel in hot_encoding:\n",
    "    df=pd.concat([df, pd.get_dummies(df[variavel].astype(object), prefix=variavel,drop_first=True)], axis=1)\n",
    "    df.drop(columns=[variavel], inplace=True)\n",
    "#df.sample(5)\n",
    "df.columns"
   ]
  },
  {
   "cell_type": "markdown",
   "metadata": {},
   "source": [
    "# Variáveis do modelo"
   ]
  },
  {
   "cell_type": "code",
   "execution_count": 42,
   "metadata": {},
   "outputs": [
    {
     "name": "stdout",
     "output_type": "stream",
     "text": [
      "<class 'pandas.core.frame.DataFrame'>\n",
      "Int64Index: 76 entries, 0 to 78\n",
      "Data columns (total 15 columns):\n",
      " #   Column                 Non-Null Count  Dtype   \n",
      "---  ------                 --------------  -----   \n",
      " 0   VL_BENS                76 non-null     float64 \n",
      " 1   VR_DESPESA_CONTRATADA  76 non-null     float64 \n",
      " 2   followers_count        76 non-null     float64 \n",
      " 3   tweets                 76 non-null     float64 \n",
      " 4   REQ                    76 non-null     float64 \n",
      " 5   PEC                    76 non-null     float64 \n",
      " 6   PL                     76 non-null     float64 \n",
      " 7   mandatos               76 non-null     float64 \n",
      " 8   cabeças                76 non-null     float64 \n",
      " 9   MESA_Sim               76 non-null     uint8   \n",
      " 10  LIDERANCA_Sim          76 non-null     uint8   \n",
      " 11  debatedor              76 non-null     category\n",
      " 12  articulador            76 non-null     category\n",
      " 13  formulador             76 non-null     category\n",
      " 14  negociador             76 non-null     category\n",
      "dtypes: category(4), float64(9), uint8(2)\n",
      "memory usage: 6.8 KB\n"
     ]
    }
   ],
   "source": [
    "variaveis_numericas=list(df.select_dtypes(include=[np.number]).columns)\n",
    "variaveis_categoricas= list(df.select_dtypes(include=\"category\").columns)\n",
    "variaveis_modelo=variaveis_numericas+variaveis_categoricas\n",
    "df[variaveis_modelo].info()"
   ]
  },
  {
   "cell_type": "code",
   "execution_count": 43,
   "metadata": {},
   "outputs": [],
   "source": [
    "#df[variaveis_modelo].info()\n",
    "variaveis_modelo.remove(\"mandatos\")\n",
    "variaveis_modelo.remove(\"cabeças\")\n",
    "variaveis_modelo.remove(\"formulador\")\n",
    "variaveis_modelo.remove(\"debatedor\")\n",
    "variaveis_modelo.remove(\"articulador\")\n",
    "variaveis_modelo.remove(\"negociador\")"
   ]
  },
  {
   "cell_type": "raw",
   "metadata": {},
   "source": [
    "df[\"PEC\"]=df[\"PEC\"]**2\n",
    "df[\"PEC\"].describe()"
   ]
  },
  {
   "cell_type": "markdown",
   "metadata": {},
   "source": [
    "## Escala dos preditores"
   ]
  },
  {
   "cell_type": "code",
   "execution_count": 44,
   "metadata": {},
   "outputs": [],
   "source": [
    "def verifica_escala(preditores,df):\n",
    "    x=df[preditores].values\n",
    "    plt.plot(x.min(axis=0),\"o\", label=\"min\")\n",
    "    plt.plot(x.max(axis=0),\"^\", label=\"max\")\n",
    "    plt.legend(loc=\"best\")\n",
    "    plt.xlabel(\"Feature index\")\n",
    "    plt.ylabel(\"Feature magnitude\")\n",
    "    plt.yscale(\"log\")\n",
    "    print(df[preditores].max().round(3))"
   ]
  },
  {
   "cell_type": "code",
   "execution_count": 45,
   "metadata": {},
   "outputs": [
    {
     "name": "stdout",
     "output_type": "stream",
     "text": [
      "VL_BENS                  3.890197e+08\n",
      "VR_DESPESA_CONTRATADA    1.808308e+07\n",
      "followers_count          2.541590e+06\n",
      "tweets                   1.195510e+05\n",
      "REQ                      4.800000e+01\n",
      "PEC                      4.000000e+00\n",
      "PL                       4.100000e+01\n",
      "MESA_Sim                 1.000000e+00\n",
      "LIDERANCA_Sim            1.000000e+00\n",
      "dtype: float64\n"
     ]
    },
    {
     "data": {
      "image/png": "[encoded data removed]",
      "text/plain": [
       "<Figure size 864x576 with 1 Axes>"
      ]
     },
     "metadata": {
      "needs_background": "light"
     },
     "output_type": "display_data"
    }
   ],
   "source": [
    "verifica_escala(variaveis_modelo,df)"
   ]
  },
  {
   "cell_type": "code",
   "execution_count": 46,
   "metadata": {},
   "outputs": [
    {
     "data": {
      "text/plain": [
       "MinMaxScaler()"
      ]
     },
     "execution_count": 46,
     "metadata": {},
     "output_type": "execute_result"
    },
    {
     "data": {
      "text/html": [
       "<div>\n",
       "<style scoped>\n",
       "    .dataframe tbody tr th:only-of-type {\n",
       "        vertical-align: middle;\n",
       "    }\n",
       "\n",
       "    .dataframe tbody tr th {\n",
       "        vertical-align: top;\n",
       "    }\n",
       "\n",
       "    .dataframe thead th {\n",
       "        text-align: right;\n",
       "    }\n",
       "</style>\n",
       "<table border=\"1\" class=\"dataframe\">\n",
       "  <thead>\n",
       "    <tr style=\"text-align: right;\">\n",
       "      <th></th>\n",
       "      <th>VL_BENS</th>\n",
       "      <th>VR_DESPESA_CONTRATADA</th>\n",
       "      <th>followers_count</th>\n",
       "      <th>tweets</th>\n",
       "      <th>REQ</th>\n",
       "      <th>PEC</th>\n",
       "      <th>PL</th>\n",
       "      <th>MESA_Sim</th>\n",
       "      <th>LIDERANCA_Sim</th>\n",
       "    </tr>\n",
       "  </thead>\n",
       "  <tbody>\n",
       "    <tr>\n",
       "      <th>0</th>\n",
       "      <td>0.022278</td>\n",
       "      <td>0.482061</td>\n",
       "      <td>0.002561</td>\n",
       "      <td>0.049669</td>\n",
       "      <td>0.395833</td>\n",
       "      <td>0.25</td>\n",
       "      <td>0.146341</td>\n",
       "      <td>0.0</td>\n",
       "      <td>1.0</td>\n",
       "    </tr>\n",
       "    <tr>\n",
       "      <th>1</th>\n",
       "      <td>0.003994</td>\n",
       "      <td>0.590963</td>\n",
       "      <td>0.567045</td>\n",
       "      <td>0.084516</td>\n",
       "      <td>0.062500</td>\n",
       "      <td>0.25</td>\n",
       "      <td>0.073171</td>\n",
       "      <td>0.0</td>\n",
       "      <td>0.0</td>\n",
       "    </tr>\n",
       "    <tr>\n",
       "      <th>2</th>\n",
       "      <td>0.007181</td>\n",
       "      <td>0.019148</td>\n",
       "      <td>0.053827</td>\n",
       "      <td>0.005454</td>\n",
       "      <td>0.000000</td>\n",
       "      <td>0.00</td>\n",
       "      <td>0.073171</td>\n",
       "      <td>0.0</td>\n",
       "      <td>0.0</td>\n",
       "    </tr>\n",
       "    <tr>\n",
       "      <th>3</th>\n",
       "      <td>0.007485</td>\n",
       "      <td>0.158104</td>\n",
       "      <td>0.165492</td>\n",
       "      <td>1.000000</td>\n",
       "      <td>0.000000</td>\n",
       "      <td>1.00</td>\n",
       "      <td>0.585366</td>\n",
       "      <td>0.0</td>\n",
       "      <td>1.0</td>\n",
       "    </tr>\n",
       "    <tr>\n",
       "      <th>4</th>\n",
       "      <td>0.003370</td>\n",
       "      <td>0.062998</td>\n",
       "      <td>1.000000</td>\n",
       "      <td>0.174101</td>\n",
       "      <td>0.458333</td>\n",
       "      <td>0.00</td>\n",
       "      <td>0.170732</td>\n",
       "      <td>0.0</td>\n",
       "      <td>0.0</td>\n",
       "    </tr>\n",
       "  </tbody>\n",
       "</table>\n",
       "</div>"
      ],
      "text/plain": [
       "    VL_BENS  VR_DESPESA_CONTRATADA  followers_count    tweets       REQ   PEC  \\\n",
       "0  0.022278               0.482061         0.002561  0.049669  0.395833  0.25   \n",
       "1  0.003994               0.590963         0.567045  0.084516  0.062500  0.25   \n",
       "2  0.007181               0.019148         0.053827  0.005454  0.000000  0.00   \n",
       "3  0.007485               0.158104         0.165492  1.000000  0.000000  1.00   \n",
       "4  0.003370               0.062998         1.000000  0.174101  0.458333  0.00   \n",
       "\n",
       "         PL  MESA_Sim  LIDERANCA_Sim  \n",
       "0  0.146341       0.0            1.0  \n",
       "1  0.073171       0.0            0.0  \n",
       "2  0.073171       0.0            0.0  \n",
       "3  0.585366       0.0            1.0  \n",
       "4  0.170732       0.0            0.0  "
      ]
     },
     "execution_count": 46,
     "metadata": {},
     "output_type": "execute_result"
    }
   ],
   "source": [
    "from sklearn.preprocessing import MinMaxScaler\n",
    "scaler = MinMaxScaler()\n",
    "scaler.fit(df[variaveis_modelo].values)\n",
    "x=scaler.transform(df[variaveis_modelo].values)\n",
    "df_scaled=pd.DataFrame(x,columns=variaveis_modelo)\n",
    "df_scaled.head()\n",
    "#df_original=df.copy()\n",
    "df=df_scaled.copy()"
   ]
  },
  {
   "cell_type": "code",
   "execution_count": 47,
   "metadata": {},
   "outputs": [
    {
     "name": "stdout",
     "output_type": "stream",
     "text": [
      "<class 'pandas.core.frame.DataFrame'>\n",
      "RangeIndex: 76 entries, 0 to 75\n",
      "Data columns (total 9 columns):\n",
      " #   Column                 Non-Null Count  Dtype  \n",
      "---  ------                 --------------  -----  \n",
      " 0   VL_BENS                76 non-null     float64\n",
      " 1   VR_DESPESA_CONTRATADA  76 non-null     float64\n",
      " 2   followers_count        76 non-null     float64\n",
      " 3   tweets                 76 non-null     float64\n",
      " 4   REQ                    76 non-null     float64\n",
      " 5   PEC                    76 non-null     float64\n",
      " 6   PL                     76 non-null     float64\n",
      " 7   MESA_Sim               76 non-null     float64\n",
      " 8   LIDERANCA_Sim          76 non-null     float64\n",
      "dtypes: float64(9)\n",
      "memory usage: 5.5 KB\n"
     ]
    }
   ],
   "source": [
    "df.info()"
   ]
  },
  {
   "cell_type": "markdown",
   "metadata": {},
   "source": [
    "## Visualizando com PCA"
   ]
  },
  {
   "cell_type": "code",
   "execution_count": 48,
   "metadata": {},
   "outputs": [],
   "source": [
    "x=df.values\n",
    "variaveis=list(df.columns)"
   ]
  },
  {
   "cell_type": "code",
   "execution_count": 49,
   "metadata": {},
   "outputs": [
    {
     "data": {
      "text/plain": [
       "PCA(n_components=3)"
      ]
     },
     "execution_count": 49,
     "metadata": {},
     "output_type": "execute_result"
    },
    {
     "name": "stdout",
     "output_type": "stream",
     "text": [
      "Original shape: (76, 9)\n",
      "Reduced shape: (76, 3)\n"
     ]
    }
   ],
   "source": [
    "from sklearn.decomposition import PCA\n",
    "# keep the first two principal components of the data\n",
    "pca = PCA(n_components=3)\n",
    "# fit PCA model \n",
    "pca.fit(x)\n",
    "# transform data onto the first two principal components\n",
    "x_pca = pca.transform(x)\n",
    "print(\"Original shape: {}\".format(str(x.shape)))\n",
    "print(\"Reduced shape: {}\".format(str(x_pca.shape)))\n",
    "df_pca=pd.DataFrame(x_pca,columns=[\"PC-1\",\"PC-2\",\"PC-3\"])"
   ]
  },
  {
   "cell_type": "raw",
   "metadata": {},
   "source": [
    "# plot first vs. second principal component, colored by class\n",
    "plt.figure(figsize=(8, 8))\n",
    "plt.scatter(x_pca[:, 0], x_pca[:, 1])\n",
    "#plt.legend(cancer.target_names, loc=\"best\")\n",
    "plt.gca().set_aspect(\"equal\")\n",
    "plt.xlabel(\"First principal component\")\n",
    "plt.ylabel(\"Second principal component\")\n"
   ]
  },
  {
   "cell_type": "code",
   "execution_count": 50,
   "metadata": {},
   "outputs": [
    {
     "data": {
      "text/plain": [
       "<mpl_toolkits.mplot3d.art3d.Path3DCollection at 0x7f8b985e2f50>"
      ]
     },
     "execution_count": 50,
     "metadata": {},
     "output_type": "execute_result"
    },
    {
     "data": {
      "text/plain": [
       "Text(0.5, 0, 'First principal component')"
      ]
     },
     "execution_count": 50,
     "metadata": {},
     "output_type": "execute_result"
    },
    {
     "data": {
      "text/plain": [
       "Text(0.5, 0, 'Second principal component')"
      ]
     },
     "execution_count": 50,
     "metadata": {},
     "output_type": "execute_result"
    },
    {
     "data": {
      "text/plain": [
       "Text(0.5, 0, 'third principal component')"
      ]
     },
     "execution_count": 50,
     "metadata": {},
     "output_type": "execute_result"
    },
    {
     "data": {
      "image/png": "[encoded data removed]",
      "text/plain": [
       "<Figure size 864x576 with 1 Axes>"
      ]
     },
     "metadata": {
      "needs_background": "light"
     },
     "output_type": "display_data"
    }
   ],
   "source": [
    "from mpl_toolkits.mplot3d import Axes3D\n",
    "fig = plt.figure()\n",
    "ax = fig.add_subplot(111, projection='3d')\n",
    "ax.scatter(df_pca['PC-1'], df_pca['PC-2'], df_pca['PC-3'], c='skyblue', s=30)\n",
    "ax.set_xlabel(\"First principal component\")\n",
    "ax.set_ylabel(\"Second principal component\")\n",
    "ax.set_zlabel(\"third principal component\")\n",
    "ax.view_init(20, 130)\n",
    "plt.show()"
   ]
  },
  {
   "cell_type": "code",
   "execution_count": 51,
   "metadata": {},
   "outputs": [
    {
     "name": "stdout",
     "output_type": "stream",
     "text": [
      "PCA component shape: (3, 9)\n"
     ]
    },
    {
     "data": {
      "text/html": [
       "<div>\n",
       "<style scoped>\n",
       "    .dataframe tbody tr th:only-of-type {\n",
       "        vertical-align: middle;\n",
       "    }\n",
       "\n",
       "    .dataframe tbody tr th {\n",
       "        vertical-align: top;\n",
       "    }\n",
       "\n",
       "    .dataframe thead th {\n",
       "        text-align: right;\n",
       "    }\n",
       "</style>\n",
       "<table border=\"1\" class=\"dataframe\">\n",
       "  <thead>\n",
       "    <tr style=\"text-align: right;\">\n",
       "      <th></th>\n",
       "      <th>VL_BENS</th>\n",
       "      <th>VR_DESPESA_CONTRATADA</th>\n",
       "      <th>followers_count</th>\n",
       "      <th>tweets</th>\n",
       "      <th>REQ</th>\n",
       "      <th>PEC</th>\n",
       "      <th>PL</th>\n",
       "      <th>MESA_Sim</th>\n",
       "      <th>LIDERANCA_Sim</th>\n",
       "    </tr>\n",
       "  </thead>\n",
       "  <tbody>\n",
       "    <tr>\n",
       "      <th>0</th>\n",
       "      <td>0.003537</td>\n",
       "      <td>0.025319</td>\n",
       "      <td>0.066384</td>\n",
       "      <td>-0.000379</td>\n",
       "      <td>-0.065075</td>\n",
       "      <td>-0.117420</td>\n",
       "      <td>-0.083544</td>\n",
       "      <td>0.280849</td>\n",
       "      <td>-0.943960</td>\n",
       "    </tr>\n",
       "    <tr>\n",
       "      <th>1</th>\n",
       "      <td>-0.046965</td>\n",
       "      <td>0.024968</td>\n",
       "      <td>0.017074</td>\n",
       "      <td>0.027761</td>\n",
       "      <td>0.014093</td>\n",
       "      <td>0.327243</td>\n",
       "      <td>0.271906</td>\n",
       "      <td>0.880735</td>\n",
       "      <td>0.197979</td>\n",
       "    </tr>\n",
       "    <tr>\n",
       "      <th>2</th>\n",
       "      <td>-0.003132</td>\n",
       "      <td>-0.028009</td>\n",
       "      <td>0.073117</td>\n",
       "      <td>0.229554</td>\n",
       "      <td>0.138850</td>\n",
       "      <td>0.766073</td>\n",
       "      <td>0.384262</td>\n",
       "      <td>-0.359240</td>\n",
       "      <td>-0.241468</td>\n",
       "    </tr>\n",
       "  </tbody>\n",
       "</table>\n",
       "</div>"
      ],
      "text/plain": [
       "    VL_BENS  VR_DESPESA_CONTRATADA  followers_count    tweets       REQ  \\\n",
       "0  0.003537               0.025319         0.066384 -0.000379 -0.065075   \n",
       "1 -0.046965               0.024968         0.017074  0.027761  0.014093   \n",
       "2 -0.003132              -0.028009         0.073117  0.229554  0.138850   \n",
       "\n",
       "        PEC        PL  MESA_Sim  LIDERANCA_Sim  \n",
       "0 -0.117420 -0.083544  0.280849      -0.943960  \n",
       "1  0.327243  0.271906  0.880735       0.197979  \n",
       "2  0.766073  0.384262 -0.359240      -0.241468  "
      ]
     },
     "execution_count": 51,
     "metadata": {},
     "output_type": "execute_result"
    },
    {
     "data": {
      "text/plain": [
       "<Figure size 864x144 with 0 Axes>"
      ]
     },
     "execution_count": 51,
     "metadata": {},
     "output_type": "execute_result"
    },
    {
     "data": {
      "text/plain": [
       "<matplotlib.axes._subplots.AxesSubplot at 0x7f8bc58f5390>"
      ]
     },
     "execution_count": 51,
     "metadata": {},
     "output_type": "execute_result"
    },
    {
     "data": {
      "image/png": "[encoded data removed]",
      "text/plain": [
       "<Figure size 864x144 with 2 Axes>"
      ]
     },
     "metadata": {
      "needs_background": "light"
     },
     "output_type": "display_data"
    }
   ],
   "source": [
    "df_pca_componentes=pd.DataFrame(pca.components_, columns=variaveis)\n",
    "print(\"PCA component shape: {}\".format(df_pca_componentes.shape))\n",
    "df_pca_componentes\n",
    "plt.figure(figsize=(12, 2))\n",
    "sns.heatmap(df_pca_componentes,annot=True, cmap=\"RdBu\")\n",
    "#(correlação,annot=True, vmin=-1, vmax=1)"
   ]
  },
  {
   "cell_type": "code",
   "execution_count": 52,
   "metadata": {},
   "outputs": [],
   "source": [
    "def plot_pca_2d(x,y=True):\n",
    "    plt.figure(figsize=(8, 8))\n",
    "    if y.all():\n",
    "        plt.scatter(x[:, 0], x[:, 1])\n",
    "        plt.gca().set_aspect(\"equal\")\n",
    "    else:\n",
    "        clusters = unique(y)\n",
    "        for cluster in clusters:\n",
    "            row_ix = where(y == cluster)\n",
    "            # create scatter of these samples\n",
    "            plt.scatter(x[row_ix, 0], x[row_ix, 1])\n",
    "    plt.xlabel(\"First principal component\")\n",
    "    plt.ylabel(\"Second principal component\")\n",
    "    plt.legend(clusters, loc=\"best\")\n",
    "    plt.show()\n",
    "    if clusters[0]==-1:\n",
    "        quant=np.bincount(y+1)\n",
    "    else:\n",
    "        quant=np.bincount(y)\n",
    "    frame=pd.DataFrame({\"cluster\":clusters,\"quant\":quant})\n",
    "    print(\"Número de componentes \\n{}\".format(frame))\n",
    "    "
   ]
  },
  {
   "cell_type": "code",
   "execution_count": 53,
   "metadata": {},
   "outputs": [],
   "source": [
    "def plot_pca_3d(x,y=True):\n",
    "    fig = plt.figure()\n",
    "    ax = fig.add_subplot(111, projection='3d')\n",
    "    if y.all():\n",
    "        ax.scatter(x[:, 0], x[:, 1],x[:,2])\n",
    "        ax.gca().set_aspect(\"equal\")\n",
    "    else:\n",
    "        clusters = unique(y)\n",
    "        for cluster in clusters:\n",
    "            row_ix = where(y == cluster)\n",
    "            # create scatter of these samples\n",
    "            ax.scatter(x[row_ix, 0], x[row_ix, 1],x[row_ix, 2], s=20)\n",
    "    ax.set_xlabel(\"PC-1\")\n",
    "    ax.set_ylabel(\"PC-2\")\n",
    "    ax.set_zlabel(\"PC-3\")\n",
    "    ax.legend(clusters, loc='upper left')\n",
    "    ax.view_init(35, 120)\n",
    "    plt.show()\n",
    "    if clusters[0]==-1:\n",
    "        quant=np.bincount(y+1)\n",
    "    else:\n",
    "        quant=np.bincount(y)\n",
    "    frame=pd.DataFrame({\"cluster\":clusters,\"quant\":quant})\n",
    "    print(\"Número de componentes \\n{}\".format(frame))\n",
    "    "
   ]
  },
  {
   "cell_type": "markdown",
   "metadata": {},
   "source": [
    "## ajustando variáveis"
   ]
  },
  {
   "cell_type": "code",
   "execution_count": 54,
   "metadata": {},
   "outputs": [],
   "source": [
    "x=df.values"
   ]
  },
  {
   "cell_type": "markdown",
   "metadata": {},
   "source": [
    "## K-mean\n"
   ]
  },
  {
   "cell_type": "markdown",
   "metadata": {},
   "source": [
    "## Verificando o número de clusters via inércia"
   ]
  },
  {
   "cell_type": "code",
   "execution_count": 55,
   "metadata": {},
   "outputs": [
    {
     "data": {
      "text/plain": [
       "range(1, 50)"
      ]
     },
     "execution_count": 55,
     "metadata": {},
     "output_type": "execute_result"
    },
    {
     "data": {
      "text/plain": [
       "KMeans(n_clusters=1)"
      ]
     },
     "execution_count": 55,
     "metadata": {},
     "output_type": "execute_result"
    },
    {
     "data": {
      "text/plain": [
       "KMeans(n_clusters=2)"
      ]
     },
     "execution_count": 55,
     "metadata": {},
     "output_type": "execute_result"
    },
    {
     "data": {
      "text/plain": [
       "KMeans(n_clusters=3)"
      ]
     },
     "execution_count": 55,
     "metadata": {},
     "output_type": "execute_result"
    },
    {
     "data": {
      "text/plain": [
       "KMeans(n_clusters=4)"
      ]
     },
     "execution_count": 55,
     "metadata": {},
     "output_type": "execute_result"
    },
    {
     "data": {
      "text/plain": [
       "KMeans(n_clusters=5)"
      ]
     },
     "execution_count": 55,
     "metadata": {},
     "output_type": "execute_result"
    },
    {
     "data": {
      "text/plain": [
       "KMeans(n_clusters=6)"
      ]
     },
     "execution_count": 55,
     "metadata": {},
     "output_type": "execute_result"
    },
    {
     "data": {
      "text/plain": [
       "KMeans(n_clusters=7)"
      ]
     },
     "execution_count": 55,
     "metadata": {},
     "output_type": "execute_result"
    },
    {
     "data": {
      "text/plain": [
       "KMeans()"
      ]
     },
     "execution_count": 55,
     "metadata": {},
     "output_type": "execute_result"
    },
    {
     "data": {
      "text/plain": [
       "KMeans(n_clusters=9)"
      ]
     },
     "execution_count": 55,
     "metadata": {},
     "output_type": "execute_result"
    },
    {
     "data": {
      "text/plain": [
       "KMeans(n_clusters=10)"
      ]
     },
     "execution_count": 55,
     "metadata": {},
     "output_type": "execute_result"
    },
    {
     "data": {
      "text/plain": [
       "KMeans(n_clusters=11)"
      ]
     },
     "execution_count": 55,
     "metadata": {},
     "output_type": "execute_result"
    },
    {
     "data": {
      "text/plain": [
       "KMeans(n_clusters=12)"
      ]
     },
     "execution_count": 55,
     "metadata": {},
     "output_type": "execute_result"
    },
    {
     "data": {
      "text/plain": [
       "KMeans(n_clusters=13)"
      ]
     },
     "execution_count": 55,
     "metadata": {},
     "output_type": "execute_result"
    },
    {
     "data": {
      "text/plain": [
       "KMeans(n_clusters=14)"
      ]
     },
     "execution_count": 55,
     "metadata": {},
     "output_type": "execute_result"
    },
    {
     "data": {
      "text/plain": [
       "KMeans(n_clusters=15)"
      ]
     },
     "execution_count": 55,
     "metadata": {},
     "output_type": "execute_result"
    },
    {
     "data": {
      "text/plain": [
       "KMeans(n_clusters=16)"
      ]
     },
     "execution_count": 55,
     "metadata": {},
     "output_type": "execute_result"
    },
    {
     "data": {
      "text/plain": [
       "KMeans(n_clusters=17)"
      ]
     },
     "execution_count": 55,
     "metadata": {},
     "output_type": "execute_result"
    },
    {
     "data": {
      "text/plain": [
       "KMeans(n_clusters=18)"
      ]
     },
     "execution_count": 55,
     "metadata": {},
     "output_type": "execute_result"
    },
    {
     "data": {
      "text/plain": [
       "KMeans(n_clusters=19)"
      ]
     },
     "execution_count": 55,
     "metadata": {},
     "output_type": "execute_result"
    },
    {
     "data": {
      "text/plain": [
       "KMeans(n_clusters=20)"
      ]
     },
     "execution_count": 55,
     "metadata": {},
     "output_type": "execute_result"
    },
    {
     "data": {
      "text/plain": [
       "KMeans(n_clusters=21)"
      ]
     },
     "execution_count": 55,
     "metadata": {},
     "output_type": "execute_result"
    },
    {
     "data": {
      "text/plain": [
       "KMeans(n_clusters=22)"
      ]
     },
     "execution_count": 55,
     "metadata": {},
     "output_type": "execute_result"
    },
    {
     "data": {
      "text/plain": [
       "KMeans(n_clusters=23)"
      ]
     },
     "execution_count": 55,
     "metadata": {},
     "output_type": "execute_result"
    },
    {
     "data": {
      "text/plain": [
       "KMeans(n_clusters=24)"
      ]
     },
     "execution_count": 55,
     "metadata": {},
     "output_type": "execute_result"
    },
    {
     "data": {
      "text/plain": [
       "KMeans(n_clusters=25)"
      ]
     },
     "execution_count": 55,
     "metadata": {},
     "output_type": "execute_result"
    },
    {
     "data": {
      "text/plain": [
       "KMeans(n_clusters=26)"
      ]
     },
     "execution_count": 55,
     "metadata": {},
     "output_type": "execute_result"
    },
    {
     "data": {
      "text/plain": [
       "KMeans(n_clusters=27)"
      ]
     },
     "execution_count": 55,
     "metadata": {},
     "output_type": "execute_result"
    },
    {
     "data": {
      "text/plain": [
       "KMeans(n_clusters=28)"
      ]
     },
     "execution_count": 55,
     "metadata": {},
     "output_type": "execute_result"
    },
    {
     "data": {
      "text/plain": [
       "KMeans(n_clusters=29)"
      ]
     },
     "execution_count": 55,
     "metadata": {},
     "output_type": "execute_result"
    },
    {
     "data": {
      "text/plain": [
       "KMeans(n_clusters=30)"
      ]
     },
     "execution_count": 55,
     "metadata": {},
     "output_type": "execute_result"
    },
    {
     "data": {
      "text/plain": [
       "KMeans(n_clusters=31)"
      ]
     },
     "execution_count": 55,
     "metadata": {},
     "output_type": "execute_result"
    },
    {
     "data": {
      "text/plain": [
       "KMeans(n_clusters=32)"
      ]
     },
     "execution_count": 55,
     "metadata": {},
     "output_type": "execute_result"
    },
    {
     "data": {
      "text/plain": [
       "KMeans(n_clusters=33)"
      ]
     },
     "execution_count": 55,
     "metadata": {},
     "output_type": "execute_result"
    },
    {
     "data": {
      "text/plain": [
       "KMeans(n_clusters=34)"
      ]
     },
     "execution_count": 55,
     "metadata": {},
     "output_type": "execute_result"
    },
    {
     "data": {
      "text/plain": [
       "KMeans(n_clusters=35)"
      ]
     },
     "execution_count": 55,
     "metadata": {},
     "output_type": "execute_result"
    },
    {
     "data": {
      "text/plain": [
       "KMeans(n_clusters=36)"
      ]
     },
     "execution_count": 55,
     "metadata": {},
     "output_type": "execute_result"
    },
    {
     "data": {
      "text/plain": [
       "KMeans(n_clusters=37)"
      ]
     },
     "execution_count": 55,
     "metadata": {},
     "output_type": "execute_result"
    },
    {
     "data": {
      "text/plain": [
       "KMeans(n_clusters=38)"
      ]
     },
     "execution_count": 55,
     "metadata": {},
     "output_type": "execute_result"
    },
    {
     "data": {
      "text/plain": [
       "KMeans(n_clusters=39)"
      ]
     },
     "execution_count": 55,
     "metadata": {},
     "output_type": "execute_result"
    },
    {
     "data": {
      "text/plain": [
       "KMeans(n_clusters=40)"
      ]
     },
     "execution_count": 55,
     "metadata": {},
     "output_type": "execute_result"
    },
    {
     "data": {
      "text/plain": [
       "KMeans(n_clusters=41)"
      ]
     },
     "execution_count": 55,
     "metadata": {},
     "output_type": "execute_result"
    },
    {
     "data": {
      "text/plain": [
       "KMeans(n_clusters=42)"
      ]
     },
     "execution_count": 55,
     "metadata": {},
     "output_type": "execute_result"
    },
    {
     "data": {
      "text/plain": [
       "KMeans(n_clusters=43)"
      ]
     },
     "execution_count": 55,
     "metadata": {},
     "output_type": "execute_result"
    },
    {
     "data": {
      "text/plain": [
       "KMeans(n_clusters=44)"
      ]
     },
     "execution_count": 55,
     "metadata": {},
     "output_type": "execute_result"
    },
    {
     "data": {
      "text/plain": [
       "KMeans(n_clusters=45)"
      ]
     },
     "execution_count": 55,
     "metadata": {},
     "output_type": "execute_result"
    },
    {
     "data": {
      "text/plain": [
       "KMeans(n_clusters=46)"
      ]
     },
     "execution_count": 55,
     "metadata": {},
     "output_type": "execute_result"
    },
    {
     "data": {
      "text/plain": [
       "KMeans(n_clusters=47)"
      ]
     },
     "execution_count": 55,
     "metadata": {},
     "output_type": "execute_result"
    },
    {
     "data": {
      "text/plain": [
       "KMeans(n_clusters=48)"
      ]
     },
     "execution_count": 55,
     "metadata": {},
     "output_type": "execute_result"
    },
    {
     "data": {
      "text/plain": [
       "KMeans(n_clusters=49)"
      ]
     },
     "execution_count": 55,
     "metadata": {},
     "output_type": "execute_result"
    },
    {
     "data": {
      "text/plain": [
       "<matplotlib.axes._subplots.AxesSubplot at 0x7f8b98691190>"
      ]
     },
     "execution_count": 55,
     "metadata": {},
     "output_type": "execute_result"
    },
    {
     "data": {
      "image/png": "[encoded data removed]",
      "text/plain": [
       "<Figure size 864x576 with 1 Axes>"
      ]
     },
     "metadata": {
      "needs_background": "light"
     },
     "output_type": "display_data"
    }
   ],
   "source": [
    "kvalues=range(1,50)\n",
    "kvalues\n",
    "inercia=[]\n",
    "for k in kvalues:\n",
    "    modelo=KMeans(n_clusters=k, init='k-means++')\n",
    "    modelo.fit(x)\n",
    "    inercia.append(modelo.inertia_)\n",
    "df_inercia=pd.DataFrame({\"Inercia\":inercia, \"K\":kvalues}) \n",
    "df_inercia.plot(\"K\",\"Inercia\", marker='o')"
   ]
  },
  {
   "cell_type": "code",
   "execution_count": 56,
   "metadata": {},
   "outputs": [
    {
     "data": {
      "text/plain": [
       "KMeans(n_clusters=6)"
      ]
     },
     "execution_count": 56,
     "metadata": {},
     "output_type": "execute_result"
    }
   ],
   "source": [
    "# defining the kmeans function with initialization as k-means++\n",
    "modelo = KMeans(n_clusters=6, init='k-means++')\n",
    "\n",
    "# fitting the k means algorithm on scaled data\n",
    "modelo.fit(x)\n",
    "yhat = modelo.predict(x)\n",
    "clusters = unique(yhat)\n",
    "#print(variaveis_modelo)\n"
   ]
  },
  {
   "cell_type": "code",
   "execution_count": 57,
   "metadata": {},
   "outputs": [
    {
     "data": {
      "image/png": "[encoded data removed]",
      "text/plain": [
       "<Figure size 576x576 with 1 Axes>"
      ]
     },
     "metadata": {
      "needs_background": "light"
     },
     "output_type": "display_data"
    },
    {
     "name": "stdout",
     "output_type": "stream",
     "text": [
      "Número de componentes \n",
      "   cluster  quant\n",
      "0        0     30\n",
      "1        1     23\n",
      "2        2      9\n",
      "3        3      7\n",
      "4        4      2\n",
      "5        5      5\n"
     ]
    },
    {
     "data": {
      "image/png": "[encoded data removed]",
      "text/plain": [
       "<Figure size 864x576 with 1 Axes>"
      ]
     },
     "metadata": {
      "needs_background": "light"
     },
     "output_type": "display_data"
    },
    {
     "name": "stdout",
     "output_type": "stream",
     "text": [
      "Número de componentes \n",
      "   cluster  quant\n",
      "0        0     30\n",
      "1        1     23\n",
      "2        2      9\n",
      "3        3      7\n",
      "4        4      2\n",
      "5        5      5\n"
     ]
    },
    {
     "data": {
      "text/plain": [
       "<Figure size 864x144 with 0 Axes>"
      ]
     },
     "execution_count": 57,
     "metadata": {},
     "output_type": "execute_result"
    },
    {
     "data": {
      "text/plain": [
       "<matplotlib.axes._subplots.AxesSubplot at 0x7f8b95014d90>"
      ]
     },
     "execution_count": 57,
     "metadata": {},
     "output_type": "execute_result"
    },
    {
     "data": {
      "image/png": "[encoded data removed]",
      "text/plain": [
       "<Figure size 864x144 with 2 Axes>"
      ]
     },
     "metadata": {
      "needs_background": "light"
     },
     "output_type": "display_data"
    }
   ],
   "source": [
    "plot_pca_2d(x_pca,yhat)\n",
    "plot_pca_3d(x_pca,yhat)\n",
    "plt.figure(figsize=(12, 2))\n",
    "sns.heatmap(df_pca_componentes,annot=True, cmap=\"RdBu\")\n"
   ]
  },
  {
   "cell_type": "code",
   "execution_count": 58,
   "metadata": {},
   "outputs": [
    {
     "data": {
      "text/html": [
       "<div>\n",
       "<style scoped>\n",
       "    .dataframe tbody tr th:only-of-type {\n",
       "        vertical-align: middle;\n",
       "    }\n",
       "\n",
       "    .dataframe tbody tr th {\n",
       "        vertical-align: top;\n",
       "    }\n",
       "\n",
       "    .dataframe thead th {\n",
       "        text-align: right;\n",
       "    }\n",
       "</style>\n",
       "<table border=\"1\" class=\"dataframe\">\n",
       "  <thead>\n",
       "    <tr style=\"text-align: right;\">\n",
       "      <th></th>\n",
       "      <th>CPF</th>\n",
       "      <th>DT_NASCIMENTO</th>\n",
       "      <th>VL_BENS</th>\n",
       "      <th>NM_URNA_CANDIDATO</th>\n",
       "      <th>VR_DESPESA_CONTRATADA</th>\n",
       "      <th>followers_count</th>\n",
       "      <th>tweets</th>\n",
       "      <th>ID_SENADO</th>\n",
       "      <th>ID_PUB</th>\n",
       "      <th>MESA</th>\n",
       "      <th>...</th>\n",
       "      <th>REQ</th>\n",
       "      <th>PEC</th>\n",
       "      <th>PL</th>\n",
       "      <th>mandatos</th>\n",
       "      <th>cabeças</th>\n",
       "      <th>debatedor</th>\n",
       "      <th>articulador</th>\n",
       "      <th>formulador</th>\n",
       "      <th>negociador</th>\n",
       "      <th>cluster</th>\n",
       "    </tr>\n",
       "  </thead>\n",
       "  <tbody>\n",
       "    <tr>\n",
       "      <th>15</th>\n",
       "      <td>00135968372</td>\n",
       "      <td>01/08/1942</td>\n",
       "      <td>1256546.67</td>\n",
       "      <td>ELMANO - O VEIN TRABALHADOR</td>\n",
       "      <td>2472971.60</td>\n",
       "      <td>0.0</td>\n",
       "      <td>0.0</td>\n",
       "      <td>5531</td>\n",
       "      <td>810</td>\n",
       "      <td>Não</td>\n",
       "      <td>...</td>\n",
       "      <td>3.0</td>\n",
       "      <td>1.0</td>\n",
       "      <td>3.0</td>\n",
       "      <td>0.0</td>\n",
       "      <td>0.0</td>\n",
       "      <td>0.0</td>\n",
       "      <td>0.0</td>\n",
       "      <td>0.0</td>\n",
       "      <td>0.0</td>\n",
       "      <td>0</td>\n",
       "    </tr>\n",
       "    <tr>\n",
       "      <th>76</th>\n",
       "      <td>60838965172</td>\n",
       "      <td>01/06/1973</td>\n",
       "      <td>10000.00</td>\n",
       "      <td>SORAYA THRONICKE</td>\n",
       "      <td>74879.38</td>\n",
       "      <td>136081.0</td>\n",
       "      <td>3107.0</td>\n",
       "      <td>5988</td>\n",
       "      <td>854</td>\n",
       "      <td>Não</td>\n",
       "      <td>...</td>\n",
       "      <td>25.0</td>\n",
       "      <td>1.0</td>\n",
       "      <td>8.0</td>\n",
       "      <td>0.0</td>\n",
       "      <td>0.0</td>\n",
       "      <td>0.0</td>\n",
       "      <td>0.0</td>\n",
       "      <td>0.0</td>\n",
       "      <td>0.0</td>\n",
       "      <td>0</td>\n",
       "    </tr>\n",
       "    <tr>\n",
       "      <th>71</th>\n",
       "      <td>18516440915</td>\n",
       "      <td>09/11/1950</td>\n",
       "      <td>1032616.41</td>\n",
       "      <td>FLAVIO ARNS</td>\n",
       "      <td>237324.76</td>\n",
       "      <td>9693.0</td>\n",
       "      <td>1027.0</td>\n",
       "      <td>345</td>\n",
       "      <td>856</td>\n",
       "      <td>Não</td>\n",
       "      <td>...</td>\n",
       "      <td>17.0</td>\n",
       "      <td>0.0</td>\n",
       "      <td>18.0</td>\n",
       "      <td>0.0</td>\n",
       "      <td>0.0</td>\n",
       "      <td>0.0</td>\n",
       "      <td>0.0</td>\n",
       "      <td>0.0</td>\n",
       "      <td>0.0</td>\n",
       "      <td>3</td>\n",
       "    </tr>\n",
       "    <tr>\n",
       "      <th>46</th>\n",
       "      <td>60232064253</td>\n",
       "      <td>07/07/1978</td>\n",
       "      <td>1301704.58</td>\n",
       "      <td>MARCOS ROGERIO</td>\n",
       "      <td>2063777.69</td>\n",
       "      <td>5467.0</td>\n",
       "      <td>1222.0</td>\n",
       "      <td>5422</td>\n",
       "      <td>868</td>\n",
       "      <td>Não</td>\n",
       "      <td>...</td>\n",
       "      <td>9.0</td>\n",
       "      <td>0.0</td>\n",
       "      <td>3.0</td>\n",
       "      <td>1.0</td>\n",
       "      <td>1.0</td>\n",
       "      <td>0.0</td>\n",
       "      <td>0.0</td>\n",
       "      <td>1.0</td>\n",
       "      <td>0.0</td>\n",
       "      <td>0</td>\n",
       "    </tr>\n",
       "    <tr>\n",
       "      <th>56</th>\n",
       "      <td>02382091304</td>\n",
       "      <td>09/06/1950</td>\n",
       "      <td>3962985.52</td>\n",
       "      <td>MARCELO CASTRO</td>\n",
       "      <td>1717161.23</td>\n",
       "      <td>3636.0</td>\n",
       "      <td>820.0</td>\n",
       "      <td>742</td>\n",
       "      <td>813</td>\n",
       "      <td>Não</td>\n",
       "      <td>...</td>\n",
       "      <td>6.0</td>\n",
       "      <td>1.0</td>\n",
       "      <td>3.0</td>\n",
       "      <td>1.0</td>\n",
       "      <td>1.0</td>\n",
       "      <td>0.0</td>\n",
       "      <td>0.0</td>\n",
       "      <td>1.0</td>\n",
       "      <td>0.0</td>\n",
       "      <td>1</td>\n",
       "    </tr>\n",
       "  </tbody>\n",
       "</table>\n",
       "<p>5 rows × 21 columns</p>\n",
       "</div>"
      ],
      "text/plain": [
       "            CPF DT_NASCIMENTO     VL_BENS            NM_URNA_CANDIDATO  \\\n",
       "15  00135968372    01/08/1942  1256546.67  ELMANO - O VEIN TRABALHADOR   \n",
       "76  60838965172    01/06/1973    10000.00             SORAYA THRONICKE   \n",
       "71  18516440915    09/11/1950  1032616.41                  FLAVIO ARNS   \n",
       "46  60232064253    07/07/1978  1301704.58               MARCOS ROGERIO   \n",
       "56  02382091304    09/06/1950  3962985.52               MARCELO CASTRO   \n",
       "\n",
       "    VR_DESPESA_CONTRATADA  followers_count  tweets ID_SENADO ID_PUB MESA  ...  \\\n",
       "15             2472971.60              0.0     0.0      5531    810  Não  ...   \n",
       "76               74879.38         136081.0  3107.0      5988    854  Não  ...   \n",
       "71              237324.76           9693.0  1027.0       345    856  Não  ...   \n",
       "46             2063777.69           5467.0  1222.0      5422    868  Não  ...   \n",
       "56             1717161.23           3636.0   820.0       742    813  Não  ...   \n",
       "\n",
       "     REQ  PEC    PL  mandatos  cabeças  debatedor articulador formulador  \\\n",
       "15   3.0  1.0   3.0       0.0      0.0        0.0         0.0        0.0   \n",
       "76  25.0  1.0   8.0       0.0      0.0        0.0         0.0        0.0   \n",
       "71  17.0  0.0  18.0       0.0      0.0        0.0         0.0        0.0   \n",
       "46   9.0  0.0   3.0       1.0      1.0        0.0         0.0        1.0   \n",
       "56   6.0  1.0   3.0       1.0      1.0        0.0         0.0        1.0   \n",
       "\n",
       "   negociador cluster  \n",
       "15        0.0       0  \n",
       "76        0.0       0  \n",
       "71        0.0       3  \n",
       "46        0.0       0  \n",
       "56        0.0       1  \n",
       "\n",
       "[5 rows x 21 columns]"
      ]
     },
     "execution_count": 58,
     "metadata": {},
     "output_type": "execute_result"
    }
   ],
   "source": [
    "df_kmeans=df_original.copy()\n",
    "df_kmeans[\"cluster\"]=yhat\n",
    "df_kmeans.sample(5)"
   ]
  },
  {
   "cell_type": "markdown",
   "metadata": {},
   "source": [
    "## Mean-shift\n"
   ]
  },
  {
   "cell_type": "code",
   "execution_count": 59,
   "metadata": {},
   "outputs": [
    {
     "data": {
      "text/plain": [
       "MeanShift()"
      ]
     },
     "execution_count": 59,
     "metadata": {},
     "output_type": "execute_result"
    },
    {
     "data": {
      "text/plain": [
       "array([0, 1, 2, 3, 4, 5, 6, 7, 8])"
      ]
     },
     "execution_count": 59,
     "metadata": {},
     "output_type": "execute_result"
    }
   ],
   "source": [
    "from sklearn.cluster import MeanShift\n",
    "modelo = MeanShift()\n",
    "# fitting the k means algorithm on scaled data\n",
    "modelo.fit(x)\n",
    "yhat = modelo.predict(x)\n",
    "clusters = unique(yhat)\n",
    "#print(preditores)\n",
    "clusters"
   ]
  },
  {
   "cell_type": "code",
   "execution_count": 60,
   "metadata": {},
   "outputs": [
    {
     "data": {
      "image/png": "[encoded data removed]",
      "text/plain": [
       "<Figure size 576x576 with 1 Axes>"
      ]
     },
     "metadata": {
      "needs_background": "light"
     },
     "output_type": "display_data"
    },
    {
     "name": "stdout",
     "output_type": "stream",
     "text": [
      "Número de componentes \n",
      "   cluster  quant\n",
      "0        0     33\n",
      "1        1     28\n",
      "2        2      8\n",
      "3        3      1\n",
      "4        4      2\n",
      "5        5      1\n",
      "6        6      1\n",
      "7        7      1\n",
      "8        8      1\n"
     ]
    },
    {
     "data": {
      "image/png": "[encoded data removed]",
      "text/plain": [
       "<Figure size 864x576 with 1 Axes>"
      ]
     },
     "metadata": {
      "needs_background": "light"
     },
     "output_type": "display_data"
    },
    {
     "name": "stdout",
     "output_type": "stream",
     "text": [
      "Número de componentes \n",
      "   cluster  quant\n",
      "0        0     33\n",
      "1        1     28\n",
      "2        2      8\n",
      "3        3      1\n",
      "4        4      2\n",
      "5        5      1\n",
      "6        6      1\n",
      "7        7      1\n",
      "8        8      1\n"
     ]
    },
    {
     "data": {
      "text/plain": [
       "<Figure size 864x144 with 0 Axes>"
      ]
     },
     "execution_count": 60,
     "metadata": {},
     "output_type": "execute_result"
    },
    {
     "data": {
      "text/plain": [
       "<matplotlib.axes._subplots.AxesSubplot at 0x7f8b94d90390>"
      ]
     },
     "execution_count": 60,
     "metadata": {},
     "output_type": "execute_result"
    },
    {
     "data": {
      "image/png": "[encoded data removed]",
      "text/plain": [
       "<Figure size 864x144 with 2 Axes>"
      ]
     },
     "metadata": {
      "needs_background": "light"
     },
     "output_type": "display_data"
    }
   ],
   "source": [
    "plot_pca_2d(x_pca,yhat)\n",
    "plot_pca_3d(x_pca,yhat)\n",
    "plt.figure(figsize=(12, 2))\n",
    "sns.heatmap(df_pca_componentes,annot=True, cmap=\"RdBu\")\n"
   ]
  },
  {
   "cell_type": "code",
   "execution_count": 61,
   "metadata": {},
   "outputs": [
    {
     "data": {
      "text/html": [
       "<div>\n",
       "<style scoped>\n",
       "    .dataframe tbody tr th:only-of-type {\n",
       "        vertical-align: middle;\n",
       "    }\n",
       "\n",
       "    .dataframe tbody tr th {\n",
       "        vertical-align: top;\n",
       "    }\n",
       "\n",
       "    .dataframe thead th {\n",
       "        text-align: right;\n",
       "    }\n",
       "</style>\n",
       "<table border=\"1\" class=\"dataframe\">\n",
       "  <thead>\n",
       "    <tr style=\"text-align: right;\">\n",
       "      <th></th>\n",
       "      <th>CPF</th>\n",
       "      <th>DT_NASCIMENTO</th>\n",
       "      <th>VL_BENS</th>\n",
       "      <th>NM_URNA_CANDIDATO</th>\n",
       "      <th>VR_DESPESA_CONTRATADA</th>\n",
       "      <th>followers_count</th>\n",
       "      <th>tweets</th>\n",
       "      <th>ID_SENADO</th>\n",
       "      <th>ID_PUB</th>\n",
       "      <th>MESA</th>\n",
       "      <th>...</th>\n",
       "      <th>REQ</th>\n",
       "      <th>PEC</th>\n",
       "      <th>PL</th>\n",
       "      <th>mandatos</th>\n",
       "      <th>cabeças</th>\n",
       "      <th>debatedor</th>\n",
       "      <th>articulador</th>\n",
       "      <th>formulador</th>\n",
       "      <th>negociador</th>\n",
       "      <th>cluster</th>\n",
       "    </tr>\n",
       "  </thead>\n",
       "  <tbody>\n",
       "    <tr>\n",
       "      <th>48</th>\n",
       "      <td>31662625987</td>\n",
       "      <td>12/08/1945</td>\n",
       "      <td>2.397098e+08</td>\n",
       "      <td>PROFESSOR ORIOVISTO GUIMARAES</td>\n",
       "      <td>3376756.02</td>\n",
       "      <td>0.0</td>\n",
       "      <td>0.0</td>\n",
       "      <td>5924</td>\n",
       "      <td>857</td>\n",
       "      <td>Não</td>\n",
       "      <td>...</td>\n",
       "      <td>2.0</td>\n",
       "      <td>3.0</td>\n",
       "      <td>1.0</td>\n",
       "      <td>0.0</td>\n",
       "      <td>0.0</td>\n",
       "      <td>0.0</td>\n",
       "      <td>0.0</td>\n",
       "      <td>0.0</td>\n",
       "      <td>0.0</td>\n",
       "      <td>0</td>\n",
       "    </tr>\n",
       "    <tr>\n",
       "      <th>70</th>\n",
       "      <td>03733831187</td>\n",
       "      <td>16/05/1948</td>\n",
       "      <td>4.299775e+06</td>\n",
       "      <td>CONFUCIO MOURA</td>\n",
       "      <td>2345022.97</td>\n",
       "      <td>7997.0</td>\n",
       "      <td>11314.0</td>\n",
       "      <td>475</td>\n",
       "      <td>867</td>\n",
       "      <td>Não</td>\n",
       "      <td>...</td>\n",
       "      <td>8.0</td>\n",
       "      <td>1.0</td>\n",
       "      <td>10.0</td>\n",
       "      <td>0.0</td>\n",
       "      <td>0.0</td>\n",
       "      <td>0.0</td>\n",
       "      <td>0.0</td>\n",
       "      <td>0.0</td>\n",
       "      <td>0.0</td>\n",
       "      <td>1</td>\n",
       "    </tr>\n",
       "    <tr>\n",
       "      <th>47</th>\n",
       "      <td>11218789204</td>\n",
       "      <td>08/02/1962</td>\n",
       "      <td>6.446377e+05</td>\n",
       "      <td>MECIAS DE JESUS</td>\n",
       "      <td>2237600.55</td>\n",
       "      <td>2255.0</td>\n",
       "      <td>1864.0</td>\n",
       "      <td>6027</td>\n",
       "      <td>881</td>\n",
       "      <td>Não</td>\n",
       "      <td>...</td>\n",
       "      <td>3.0</td>\n",
       "      <td>0.0</td>\n",
       "      <td>5.0</td>\n",
       "      <td>0.0</td>\n",
       "      <td>0.0</td>\n",
       "      <td>0.0</td>\n",
       "      <td>0.0</td>\n",
       "      <td>0.0</td>\n",
       "      <td>0.0</td>\n",
       "      <td>0</td>\n",
       "    </tr>\n",
       "    <tr>\n",
       "      <th>49</th>\n",
       "      <td>41168720591</td>\n",
       "      <td>02/08/1968</td>\n",
       "      <td>3.500000e+04</td>\n",
       "      <td>ROGERIO CARVALHO SANTOS</td>\n",
       "      <td>1187810.90</td>\n",
       "      <td>0.0</td>\n",
       "      <td>0.0</td>\n",
       "      <td>5352</td>\n",
       "      <td>830</td>\n",
       "      <td>Não</td>\n",
       "      <td>...</td>\n",
       "      <td>31.0</td>\n",
       "      <td>1.0</td>\n",
       "      <td>14.0</td>\n",
       "      <td>1.0</td>\n",
       "      <td>1.0</td>\n",
       "      <td>1.0</td>\n",
       "      <td>0.0</td>\n",
       "      <td>0.0</td>\n",
       "      <td>0.0</td>\n",
       "      <td>0</td>\n",
       "    </tr>\n",
       "    <tr>\n",
       "      <th>27</th>\n",
       "      <td>77865111568</td>\n",
       "      <td>03/05/1958</td>\n",
       "      <td>5.666661e+06</td>\n",
       "      <td>ANGELO CORONEL</td>\n",
       "      <td>1509483.56</td>\n",
       "      <td>7129.0</td>\n",
       "      <td>2908.0</td>\n",
       "      <td>5967</td>\n",
       "      <td>832</td>\n",
       "      <td>Não</td>\n",
       "      <td>...</td>\n",
       "      <td>13.0</td>\n",
       "      <td>2.0</td>\n",
       "      <td>5.0</td>\n",
       "      <td>0.0</td>\n",
       "      <td>0.0</td>\n",
       "      <td>0.0</td>\n",
       "      <td>0.0</td>\n",
       "      <td>0.0</td>\n",
       "      <td>0.0</td>\n",
       "      <td>0</td>\n",
       "    </tr>\n",
       "  </tbody>\n",
       "</table>\n",
       "<p>5 rows × 21 columns</p>\n",
       "</div>"
      ],
      "text/plain": [
       "            CPF DT_NASCIMENTO       VL_BENS              NM_URNA_CANDIDATO  \\\n",
       "48  31662625987    12/08/1945  2.397098e+08  PROFESSOR ORIOVISTO GUIMARAES   \n",
       "70  03733831187    16/05/1948  4.299775e+06                 CONFUCIO MOURA   \n",
       "47  11218789204    08/02/1962  6.446377e+05                MECIAS DE JESUS   \n",
       "49  41168720591    02/08/1968  3.500000e+04        ROGERIO CARVALHO SANTOS   \n",
       "27  77865111568    03/05/1958  5.666661e+06                 ANGELO CORONEL   \n",
       "\n",
       "    VR_DESPESA_CONTRATADA  followers_count   tweets ID_SENADO ID_PUB MESA  \\\n",
       "48             3376756.02              0.0      0.0      5924    857  Não   \n",
       "70             2345022.97           7997.0  11314.0       475    867  Não   \n",
       "47             2237600.55           2255.0   1864.0      6027    881  Não   \n",
       "49             1187810.90              0.0      0.0      5352    830  Não   \n",
       "27             1509483.56           7129.0   2908.0      5967    832  Não   \n",
       "\n",
       "    ...   REQ  PEC    PL  mandatos  cabeças  debatedor articulador formulador  \\\n",
       "48  ...   2.0  3.0   1.0       0.0      0.0        0.0         0.0        0.0   \n",
       "70  ...   8.0  1.0  10.0       0.0      0.0        0.0         0.0        0.0   \n",
       "47  ...   3.0  0.0   5.0       0.0      0.0        0.0         0.0        0.0   \n",
       "49  ...  31.0  1.0  14.0       1.0      1.0        1.0         0.0        0.0   \n",
       "27  ...  13.0  2.0   5.0       0.0      0.0        0.0         0.0        0.0   \n",
       "\n",
       "   negociador cluster  \n",
       "48        0.0       0  \n",
       "70        0.0       1  \n",
       "47        0.0       0  \n",
       "49        0.0       0  \n",
       "27        0.0       0  \n",
       "\n",
       "[5 rows x 21 columns]"
      ]
     },
     "execution_count": 61,
     "metadata": {},
     "output_type": "execute_result"
    }
   ],
   "source": [
    "df_mean_s=df_original.copy()\n",
    "df_mean_s[\"cluster\"]=yhat\n",
    "df_mean_s.sample(5)"
   ]
  },
  {
   "cell_type": "code",
   "execution_count": 62,
   "metadata": {},
   "outputs": [],
   "source": [
    "## DBSCAN"
   ]
  },
  {
   "cell_type": "code",
   "execution_count": 63,
   "metadata": {},
   "outputs": [],
   "source": [
    "from sklearn.cluster import DBSCAN\n",
    "modelo = DBSCAN(eps=0.5, min_samples=3)"
   ]
  },
  {
   "cell_type": "code",
   "execution_count": 64,
   "metadata": {},
   "outputs": [
    {
     "data": {
      "text/plain": [
       "DBSCAN(min_samples=3)"
      ]
     },
     "execution_count": 64,
     "metadata": {},
     "output_type": "execute_result"
    },
    {
     "data": {
      "text/plain": [
       "array([-1,  0,  1,  2])"
      ]
     },
     "execution_count": 64,
     "metadata": {},
     "output_type": "execute_result"
    }
   ],
   "source": [
    "modelo.fit(x)\n",
    "yhat = modelo.fit_predict(x)\n",
    "clusters = unique(yhat)\n",
    "#print(preditores)\n",
    "clusters"
   ]
  },
  {
   "cell_type": "code",
   "execution_count": 65,
   "metadata": {},
   "outputs": [
    {
     "data": {
      "image/png": "[encoded data removed]",
      "text/plain": [
       "<Figure size 576x576 with 1 Axes>"
      ]
     },
     "metadata": {
      "needs_background": "light"
     },
     "output_type": "display_data"
    },
    {
     "name": "stdout",
     "output_type": "stream",
     "text": [
      "Número de componentes \n",
      "   cluster  quant\n",
      "0       -1     11\n",
      "1        0     33\n",
      "2        1     25\n",
      "3        2      7\n"
     ]
    },
    {
     "data": {
      "image/png": "[encoded data removed]",
      "text/plain": [
       "<Figure size 864x576 with 1 Axes>"
      ]
     },
     "metadata": {
      "needs_background": "light"
     },
     "output_type": "display_data"
    },
    {
     "name": "stdout",
     "output_type": "stream",
     "text": [
      "Número de componentes \n",
      "   cluster  quant\n",
      "0       -1     11\n",
      "1        0     33\n",
      "2        1     25\n",
      "3        2      7\n"
     ]
    },
    {
     "data": {
      "text/plain": [
       "<Figure size 864x144 with 0 Axes>"
      ]
     },
     "execution_count": 65,
     "metadata": {},
     "output_type": "execute_result"
    },
    {
     "data": {
      "text/plain": [
       "<matplotlib.axes._subplots.AxesSubplot at 0x7f8b94d9ae90>"
      ]
     },
     "execution_count": 65,
     "metadata": {},
     "output_type": "execute_result"
    },
    {
     "data": {
      "image/png": "[encoded data removed]",
      "text/plain": [
       "<Figure size 864x144 with 2 Axes>"
      ]
     },
     "metadata": {
      "needs_background": "light"
     },
     "output_type": "display_data"
    }
   ],
   "source": [
    "plot_pca_2d(x_pca,yhat)\n",
    "plot_pca_3d(x_pca,yhat)\n",
    "plt.figure(figsize=(12, 2))\n",
    "sns.heatmap(df_pca_componentes,annot=True, cmap=\"RdBu\")\n"
   ]
  },
  {
   "cell_type": "code",
   "execution_count": 66,
   "metadata": {},
   "outputs": [
    {
     "data": {
      "text/html": [
       "<div>\n",
       "<style scoped>\n",
       "    .dataframe tbody tr th:only-of-type {\n",
       "        vertical-align: middle;\n",
       "    }\n",
       "\n",
       "    .dataframe tbody tr th {\n",
       "        vertical-align: top;\n",
       "    }\n",
       "\n",
       "    .dataframe thead th {\n",
       "        text-align: right;\n",
       "    }\n",
       "</style>\n",
       "<table border=\"1\" class=\"dataframe\">\n",
       "  <thead>\n",
       "    <tr style=\"text-align: right;\">\n",
       "      <th></th>\n",
       "      <th>CPF</th>\n",
       "      <th>DT_NASCIMENTO</th>\n",
       "      <th>VL_BENS</th>\n",
       "      <th>NM_URNA_CANDIDATO</th>\n",
       "      <th>VR_DESPESA_CONTRATADA</th>\n",
       "      <th>followers_count</th>\n",
       "      <th>tweets</th>\n",
       "      <th>ID_SENADO</th>\n",
       "      <th>ID_PUB</th>\n",
       "      <th>MESA</th>\n",
       "      <th>...</th>\n",
       "      <th>REQ</th>\n",
       "      <th>PEC</th>\n",
       "      <th>PL</th>\n",
       "      <th>mandatos</th>\n",
       "      <th>cabeças</th>\n",
       "      <th>debatedor</th>\n",
       "      <th>articulador</th>\n",
       "      <th>formulador</th>\n",
       "      <th>negociador</th>\n",
       "      <th>cluster</th>\n",
       "    </tr>\n",
       "  </thead>\n",
       "  <tbody>\n",
       "    <tr>\n",
       "      <th>71</th>\n",
       "      <td>18516440915</td>\n",
       "      <td>09/11/1950</td>\n",
       "      <td>1032616.41</td>\n",
       "      <td>FLAVIO ARNS</td>\n",
       "      <td>237324.76</td>\n",
       "      <td>9693.0</td>\n",
       "      <td>1027.0</td>\n",
       "      <td>345</td>\n",
       "      <td>856</td>\n",
       "      <td>Não</td>\n",
       "      <td>...</td>\n",
       "      <td>17.0</td>\n",
       "      <td>0.0</td>\n",
       "      <td>18.0</td>\n",
       "      <td>0.0</td>\n",
       "      <td>0.0</td>\n",
       "      <td>0.0</td>\n",
       "      <td>0.0</td>\n",
       "      <td>0.0</td>\n",
       "      <td>0.0</td>\n",
       "      <td>1</td>\n",
       "    </tr>\n",
       "    <tr>\n",
       "      <th>64</th>\n",
       "      <td>00445689676</td>\n",
       "      <td>03/11/1976</td>\n",
       "      <td>22834764.00</td>\n",
       "      <td>RODRIGO PACHECO</td>\n",
       "      <td>3704500.34</td>\n",
       "      <td>11765.0</td>\n",
       "      <td>1936.0</td>\n",
       "      <td>5732</td>\n",
       "      <td>844</td>\n",
       "      <td>Não</td>\n",
       "      <td>...</td>\n",
       "      <td>5.0</td>\n",
       "      <td>0.0</td>\n",
       "      <td>11.0</td>\n",
       "      <td>1.0</td>\n",
       "      <td>2.0</td>\n",
       "      <td>0.0</td>\n",
       "      <td>1.0</td>\n",
       "      <td>0.0</td>\n",
       "      <td>0.0</td>\n",
       "      <td>0</td>\n",
       "    </tr>\n",
       "    <tr>\n",
       "      <th>51</th>\n",
       "      <td>21840571187</td>\n",
       "      <td>20/01/1961</td>\n",
       "      <td>95000.00</td>\n",
       "      <td>JORGE KAJURU</td>\n",
       "      <td>209591.06</td>\n",
       "      <td>274458.0</td>\n",
       "      <td>59703.0</td>\n",
       "      <td>5895</td>\n",
       "      <td>863</td>\n",
       "      <td>Não</td>\n",
       "      <td>...</td>\n",
       "      <td>10.0</td>\n",
       "      <td>2.0</td>\n",
       "      <td>17.0</td>\n",
       "      <td>0.0</td>\n",
       "      <td>0.0</td>\n",
       "      <td>0.0</td>\n",
       "      <td>0.0</td>\n",
       "      <td>0.0</td>\n",
       "      <td>0.0</td>\n",
       "      <td>-1</td>\n",
       "    </tr>\n",
       "    <tr>\n",
       "      <th>50</th>\n",
       "      <td>20912340282</td>\n",
       "      <td>10/11/1964</td>\n",
       "      <td>159860.00</td>\n",
       "      <td>LUCAS BARRETO</td>\n",
       "      <td>479925.55</td>\n",
       "      <td>1942.0</td>\n",
       "      <td>53.0</td>\n",
       "      <td>5926</td>\n",
       "      <td>905</td>\n",
       "      <td>Não</td>\n",
       "      <td>...</td>\n",
       "      <td>2.0</td>\n",
       "      <td>1.0</td>\n",
       "      <td>5.0</td>\n",
       "      <td>0.0</td>\n",
       "      <td>0.0</td>\n",
       "      <td>0.0</td>\n",
       "      <td>0.0</td>\n",
       "      <td>0.0</td>\n",
       "      <td>0.0</td>\n",
       "      <td>1</td>\n",
       "    </tr>\n",
       "    <tr>\n",
       "      <th>9</th>\n",
       "      <td>37967517768</td>\n",
       "      <td>23/01/1949</td>\n",
       "      <td>988566.00</td>\n",
       "      <td>ROSE DE FREITAS</td>\n",
       "      <td>4973756.92</td>\n",
       "      <td>20257.0</td>\n",
       "      <td>4611.0</td>\n",
       "      <td>2331</td>\n",
       "      <td>901</td>\n",
       "      <td>Não</td>\n",
       "      <td>...</td>\n",
       "      <td>5.0</td>\n",
       "      <td>4.0</td>\n",
       "      <td>24.0</td>\n",
       "      <td>0.0</td>\n",
       "      <td>0.0</td>\n",
       "      <td>0.0</td>\n",
       "      <td>0.0</td>\n",
       "      <td>0.0</td>\n",
       "      <td>0.0</td>\n",
       "      <td>0</td>\n",
       "    </tr>\n",
       "  </tbody>\n",
       "</table>\n",
       "<p>5 rows × 21 columns</p>\n",
       "</div>"
      ],
      "text/plain": [
       "            CPF DT_NASCIMENTO      VL_BENS NM_URNA_CANDIDATO  \\\n",
       "71  18516440915    09/11/1950   1032616.41       FLAVIO ARNS   \n",
       "64  00445689676    03/11/1976  22834764.00   RODRIGO PACHECO   \n",
       "51  21840571187    20/01/1961     95000.00      JORGE KAJURU   \n",
       "50  20912340282    10/11/1964    159860.00     LUCAS BARRETO   \n",
       "9   37967517768    23/01/1949    988566.00   ROSE DE FREITAS   \n",
       "\n",
       "    VR_DESPESA_CONTRATADA  followers_count   tweets ID_SENADO ID_PUB MESA  \\\n",
       "71              237324.76           9693.0   1027.0       345    856  Não   \n",
       "64             3704500.34          11765.0   1936.0      5732    844  Não   \n",
       "51              209591.06         274458.0  59703.0      5895    863  Não   \n",
       "50              479925.55           1942.0     53.0      5926    905  Não   \n",
       "9              4973756.92          20257.0   4611.0      2331    901  Não   \n",
       "\n",
       "    ...   REQ  PEC    PL  mandatos  cabeças  debatedor articulador formulador  \\\n",
       "71  ...  17.0  0.0  18.0       0.0      0.0        0.0         0.0        0.0   \n",
       "64  ...   5.0  0.0  11.0       1.0      2.0        0.0         1.0        0.0   \n",
       "51  ...  10.0  2.0  17.0       0.0      0.0        0.0         0.0        0.0   \n",
       "50  ...   2.0  1.0   5.0       0.0      0.0        0.0         0.0        0.0   \n",
       "9   ...   5.0  4.0  24.0       0.0      0.0        0.0         0.0        0.0   \n",
       "\n",
       "   negociador cluster  \n",
       "71        0.0       1  \n",
       "64        0.0       0  \n",
       "51        0.0      -1  \n",
       "50        0.0       1  \n",
       "9         0.0       0  \n",
       "\n",
       "[5 rows x 21 columns]"
      ]
     },
     "execution_count": 66,
     "metadata": {},
     "output_type": "execute_result"
    }
   ],
   "source": [
    "df_dbscan=df_original.copy()\n",
    "df_dbscan[\"cluster\"]=yhat\n",
    "df_dbscan.sample(5)"
   ]
  },
  {
   "cell_type": "markdown",
   "metadata": {},
   "source": [
    "## GMM"
   ]
  },
  {
   "cell_type": "code",
   "execution_count": 67,
   "metadata": {},
   "outputs": [
    {
     "data": {
      "text/plain": [
       "GaussianMixture(n_components=5)"
      ]
     },
     "execution_count": 67,
     "metadata": {},
     "output_type": "execute_result"
    }
   ],
   "source": [
    "from sklearn.mixture import GaussianMixture\n",
    "modelo = GaussianMixture(n_components=5)\n",
    "modelo.fit(x)\n",
    "yhat = modelo.predict(x)"
   ]
  },
  {
   "cell_type": "code",
   "execution_count": 68,
   "metadata": {},
   "outputs": [
    {
     "data": {
      "image/png": "[encoded data removed]",
      "text/plain": [
       "<Figure size 576x576 with 1 Axes>"
      ]
     },
     "metadata": {
      "needs_background": "light"
     },
     "output_type": "display_data"
    },
    {
     "name": "stdout",
     "output_type": "stream",
     "text": [
      "Número de componentes \n",
      "   cluster  quant\n",
      "0        0     30\n",
      "1        1      7\n",
      "2        2      9\n",
      "3        3      2\n",
      "4        4     28\n"
     ]
    },
    {
     "data": {
      "image/png": "[encoded data removed]",
      "text/plain": [
       "<Figure size 864x576 with 1 Axes>"
      ]
     },
     "metadata": {
      "needs_background": "light"
     },
     "output_type": "display_data"
    },
    {
     "name": "stdout",
     "output_type": "stream",
     "text": [
      "Número de componentes \n",
      "   cluster  quant\n",
      "0        0     30\n",
      "1        1      7\n",
      "2        2      9\n",
      "3        3      2\n",
      "4        4     28\n"
     ]
    },
    {
     "data": {
      "text/plain": [
       "<Figure size 864x144 with 0 Axes>"
      ]
     },
     "execution_count": 68,
     "metadata": {},
     "output_type": "execute_result"
    },
    {
     "data": {
      "text/plain": [
       "<matplotlib.axes._subplots.AxesSubplot at 0x7f8b95369cd0>"
      ]
     },
     "execution_count": 68,
     "metadata": {},
     "output_type": "execute_result"
    },
    {
     "data": {
      "image/png": "[encoded data removed]",
      "text/plain": [
       "<Figure size 864x144 with 2 Axes>"
      ]
     },
     "metadata": {
      "needs_background": "light"
     },
     "output_type": "display_data"
    }
   ],
   "source": [
    "plot_pca_2d(x_pca,yhat)\n",
    "plot_pca_3d(x_pca,yhat)\n",
    "plt.figure(figsize=(12, 2))\n",
    "sns.heatmap(df_pca_componentes,annot=True, cmap=\"RdBu\")\n"
   ]
  },
  {
   "cell_type": "code",
   "execution_count": null,
   "metadata": {},
   "outputs": [],
   "source": [
    "df_GMM=df_original.copy()\n",
    "df_GMM[\"cluster\"]=yhat\n",
    "df_GMM.sample(5)"
   ]
  },
  {
   "cell_type": "markdown",
   "metadata": {},
   "source": [
    "## Aglomerative H Cluster"
   ]
  },
  {
   "cell_type": "code",
   "execution_count": null,
   "metadata": {},
   "outputs": [],
   "source": [
    "from sklearn.cluster import AgglomerativeClustering\n",
    "modelo = AgglomerativeClustering(n_clusters=5)\n",
    "yhat = modelo.fit_predict(x)\n",
    "clusters = unique(yhat)"
   ]
  },
  {
   "cell_type": "code",
   "execution_count": null,
   "metadata": {},
   "outputs": [],
   "source": [
    "plot_pca_2d(x_pca,yhat)\n",
    "plot_pca_3d(x_pca,yhat)\n",
    "plt.figure(figsize=(12, 2))\n",
    "sns.heatmap(df_pca_componentes,annot=True, cmap=\"RdBu\")\n"
   ]
  },
  {
   "cell_type": "code",
   "execution_count": null,
   "metadata": {},
   "outputs": [],
   "source": [
    "#df_HC=df_original.copy()\n",
    "df_HC=df.copy()\n",
    "df_HC[\"cluster\"]=yhat\n",
    "df_HC.sample(5)"
   ]
  },
  {
   "cell_type": "markdown",
   "metadata": {},
   "source": [
    "## creating a distance matrix using linkage"
   ]
  },
  {
   "cell_type": "code",
   "execution_count": null,
   "metadata": {},
   "outputs": [],
   "source": [
    "# Import the fcluster and linkage functions\n",
    "from scipy.cluster.hierarchy import linkage, fcluster, dendrogram\n",
    "\n",
    "# Use the linkage() function\n",
    "distance_matrix = linkage(x,method = 'ward', metric = 'euclidean') # method = 'single'/'complete'\n",
    "\n",
    "# Assign cluster labels\n",
    "#comic_con['cluster_labels'] = fcluster(distance_matrix, 2, criterion='maxclust')\n",
    "dendrogram(distance_matrix)"
   ]
  },
  {
   "cell_type": "code",
   "execution_count": null,
   "metadata": {},
   "outputs": [],
   "source": [
    "#dendrogram(distance_matrix)\n",
    "# Use fcluster to extract labels: labels\n",
    "clusters = fcluster(distance_matrix, 1.6, criterion='distance' )\n",
    "df_ch=df_original.copy()\n",
    "df_ch[\"cluster\"]=clusters\n",
    "df_ch.head(5)"
   ]
  },
  {
   "cell_type": "raw",
   "metadata": {},
   "source": [
    "\n",
    "\n",
    "# Create a DataFrame with labels and companies as columns: df\n",
    "df = pd.DataFrame({'labels': labels, 'companies': companies})\n",
    "\n",
    "# Create crosstab: ct\n",
    "ct = pd.crosstab(df['labels'], df['companies'])\n",
    "\n",
    "# transformar uma crosstab em um cluster map\n",
    "sns.clustermap(ct, figsize=(15, 8), cbar_pos=None, dendrogram_ratio=0.001)"
   ]
  },
  {
   "cell_type": "markdown",
   "metadata": {},
   "source": [
    "# Avaliação com ARI Adjusted Rand Score Index"
   ]
  },
  {
   "cell_type": "code",
   "execution_count": null,
   "metadata": {},
   "outputs": [],
   "source": [
    "# adjusted rand score is 1, as the clustering is exactly the same\n",
    "# df_kmeans, df_mean_s, df_dbscan, df_GMM, df_HC, df_ch"
   ]
  },
  {
   "cell_type": "code",
   "execution_count": null,
   "metadata": {},
   "outputs": [],
   "source": [
    "from sklearn.metrics import adjusted_rand_score\n",
    "target=df_HC\n",
    "lista=[df_kmeans,df_mean_s,df_dbscan,df_GMM,df_HC,df_ch]\n",
    "\n",
    "for df in lista:\n",
    "    print(\"ARI: {:.2f}\".format(adjusted_rand_score(target[\"cluster\"].values, df[\"cluster\"].values)))\n"
   ]
  },
  {
   "cell_type": "markdown",
   "metadata": {},
   "source": [
    "## EDA com K-mean"
   ]
  },
  {
   "cell_type": "code",
   "execution_count": null,
   "metadata": {},
   "outputs": [],
   "source": [
    "df=df_HC.copy()"
   ]
  },
  {
   "cell_type": "markdown",
   "metadata": {},
   "source": [
    "## EDA Básico"
   ]
  },
  {
   "cell_type": "code",
   "execution_count": null,
   "metadata": {},
   "outputs": [],
   "source": [
    "df.info()\n",
    "df.describe().round(2)"
   ]
  },
  {
   "cell_type": "code",
   "execution_count": null,
   "metadata": {},
   "outputs": [],
   "source": [
    "#df.fillna(0, inplace=True)\n",
    "#df.info()"
   ]
  },
  {
   "cell_type": "code",
   "execution_count": null,
   "metadata": {},
   "outputs": [],
   "source": [
    "df.describe(include=np.object)"
   ]
  },
  {
   "cell_type": "raw",
   "metadata": {},
   "source": [
    "plt.clf()\n",
    "df.hist(figsize=(10,7))\n",
    "plt.tight_layout()\n",
    "plt.show"
   ]
  },
  {
   "cell_type": "code",
   "execution_count": null,
   "metadata": {},
   "outputs": [],
   "source": [
    "df.info()\n",
    "unicos=df.nunique()\n",
    "unicos"
   ]
  },
  {
   "cell_type": "markdown",
   "metadata": {},
   "source": [
    "## Defindo variaveis categóricas numericas"
   ]
  },
  {
   "cell_type": "code",
   "execution_count": null,
   "metadata": {},
   "outputs": [],
   "source": [
    "def analisa_variaveis(df,variaveis,nunicas):\n",
    "    lista=[]\n",
    "    unicos=df[variaveis].nunique()\n",
    "    for variavel in unicos.index:\n",
    "        quant=unicos.loc[variavel]\n",
    "        if quant <= nunicas:\n",
    "            lista.append(variavel)\n",
    "            print(\"Variavel {}, {} ocorrências únicas\".format(variavel,quant))\n",
    "            print(df[variavel].sort_values().unique())\n",
    "    return lista"
   ]
  },
  {
   "cell_type": "code",
   "execution_count": null,
   "metadata": {},
   "outputs": [],
   "source": [
    "variaveis_numericas= df.select_dtypes(include=[np.number]).columns\n",
    "variaveis_categoricas= df.select_dtypes(include=\"category\").columns\n",
    "df[variaveis_numericas].info()\n",
    "df[variaveis_categoricas].info()"
   ]
  },
  {
   "cell_type": "code",
   "execution_count": null,
   "metadata": {},
   "outputs": [],
   "source": [
    "variaveis_objeto=df.select_dtypes(include=\"object\").columns\n",
    "df[variaveis_objeto].info()"
   ]
  },
  {
   "cell_type": "markdown",
   "metadata": {},
   "source": [
    "### Histogramas"
   ]
  },
  {
   "cell_type": "code",
   "execution_count": null,
   "metadata": {},
   "outputs": [],
   "source": [
    "for variavel in variaveis_categoricas:\n",
    "    df[variavel].value_counts().plot(kind=\"bar\")\n",
    "    plt.xlabel(variavel)\n",
    "    plt.ylabel(\"Contagem\")\n",
    "    plt.title(variavel)\n",
    "    plt.show()"
   ]
  },
  {
   "cell_type": "markdown",
   "metadata": {},
   "source": [
    "### Boxplots - Identificando, verificando e tratando outliers\n"
   ]
  },
  {
   "cell_type": "code",
   "execution_count": null,
   "metadata": {},
   "outputs": [],
   "source": [
    "for cat in variaveis_categoricas:\n",
    "    for num in variaveis_numericas:\n",
    "        sns.boxplot(x=cat, y=num, data=df)\n",
    "        plt.xlabel(cat)\n",
    "        plt.ylabel(num)\n",
    "        plt.title(cat)\n",
    "        plt.show()\n"
   ]
  },
  {
   "cell_type": "code",
   "execution_count": null,
   "metadata": {},
   "outputs": [],
   "source": [
    "df.info()"
   ]
  },
  {
   "cell_type": "code",
   "execution_count": null,
   "metadata": {},
   "outputs": [],
   "source": [
    "variaveis=list(variaveis_numericas)+list(variaveis_categoricas)\n",
    "variaveis.remove(\"cluster\")\n",
    "preditores=variaveis\n",
    "target=[\"cluster\"]\n",
    "variaveis=[\"cluster\"]+variaveis\n",
    "variaveis"
   ]
  },
  {
   "cell_type": "code",
   "execution_count": null,
   "metadata": {},
   "outputs": [],
   "source": [
    "\n",
    "df[\"cluster\"]=df[\"cluster\"].astype(\"int\")\n",
    "df[\"cluster\"]=df[\"cluster\"].astype(\"int\")\n",
    "df[\"cluster\"]=df[\"cluster\"].astype(\"int\")\n",
    "df[\"cluster\"]=df[\"cluster\"].astype(\"int\")\n",
    "df[\"cluster\"]=df[\"cluster\"].astype(\"int\")\n",
    "\n",
    "correlação=df[variaveis].corr()\n",
    "correlação\n",
    "plt.rc('figure', figsize=(12, 8))\n",
    "sns.heatmap(correlação,annot=True, vmin=-1, vmax=1)"
   ]
  },
  {
   "cell_type": "code",
   "execution_count": null,
   "metadata": {},
   "outputs": [],
   "source": [
    "sns.pairplot(df[variaveis], kind=\"scatter\")"
   ]
  },
  {
   "cell_type": "code",
   "execution_count": null,
   "metadata": {},
   "outputs": [],
   "source": [
    "sns.pairplot(df, y_vars=target, x_vars=preditores, hue=target[0])"
   ]
  },
  {
   "cell_type": "code",
   "execution_count": null,
   "metadata": {},
   "outputs": [],
   "source": []
  }
 ],
 "metadata": {
  "kernelspec": {
   "display_name": "Python 3",
   "language": "python",
   "name": "python3"
  },
  "language_info": {
   "codemirror_mode": {
    "name": "ipython",
    "version": 3
   },
   "file_extension": ".py",
   "mimetype": "text/x-python",
   "name": "python",
   "nbconvert_exporter": "python",
   "pygments_lexer": "ipython3",
   "version": "3.7.6"
  }
 },
 "nbformat": 4,
 "nbformat_minor": 4
}

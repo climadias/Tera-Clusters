{
 "cells": [
  {
   "cell_type": "markdown",
   "metadata": {},
   "source": [
    "# senadores - EDA e modelo assiduidade"
   ]
  },
  {
   "cell_type": "code",
   "execution_count": 1,
   "metadata": {},
   "outputs": [],
   "source": [
    "import pandas as pd\n",
    "import numpy as np\n",
    "import seaborn as sns\n",
    "import matplotlib.pyplot as plt\n",
    "plt.rc('figure', figsize=(12, 8))\n",
    "import janitor\n",
    "\n",
    "import datetime\n",
    "\n",
    "import sqlite3 as sql\n",
    "\n",
    "from sklearn.cluster import KMeans\n",
    "from numpy import unique\n",
    "from numpy import where\n",
    "\n",
    "#nomalizing data to its std (x_new= x/std(x))\n",
    "from scipy.cluster.vq import whiten\n",
    "\n",
    "from IPython.core.interactiveshell import InteractiveShell \n",
    "InteractiveShell.ast_node_interactivity=\"all\""
   ]
  },
  {
   "cell_type": "markdown",
   "metadata": {},
   "source": [
    "## EDA Básico"
   ]
  },
  {
   "cell_type": "code",
   "execution_count": 2,
   "metadata": {},
   "outputs": [
    {
     "name": "stdout",
     "output_type": "stream",
     "text": [
      "base_completa.db  Normalização_03.ipynb\n"
     ]
    }
   ],
   "source": [
    "!ls ../../dados/sql"
   ]
  },
  {
   "cell_type": "code",
   "execution_count": 3,
   "metadata": {},
   "outputs": [],
   "source": [
    "#Dados de parlamentares\n",
    "con = sql.connect(\"../../dados/sql/base_completa.db\")\n",
    "df_sen=pd.read_sql(\"select * from senadores_cadastro\",con)\n",
    "df_sen_prop=pd.read_sql(\"select * from senadores_propostas\",con)\n",
    "df_sen_sess=pd.read_sql(\"select * from senadores_sessoes\",con)\n",
    "df_sen_voto=pd.read_sql(\"select * from senadores_votacoes\",con)\n",
    "df_diap=pd.read_sql(\"select * from diap\",con)\n",
    "con.close()"
   ]
  },
  {
   "cell_type": "code",
   "execution_count": 4,
   "metadata": {},
   "outputs": [
    {
     "name": "stdout",
     "output_type": "stream",
     "text": [
      "<class 'pandas.core.frame.DataFrame'>\n",
      "RangeIndex: 415 entries, 0 to 414\n",
      "Data columns (total 4 columns):\n",
      " #   Column            Non-Null Count  Dtype \n",
      "---  ------            --------------  ----- \n",
      " 0   SESSAO            415 non-null    int64 \n",
      " 1   SESSAO_TIPO       415 non-null    object\n",
      " 2   SESSAO_DATA       415 non-null    object\n",
      " 3   SESSAO_DESCRICAO  415 non-null    object\n",
      "dtypes: int64(1), object(3)\n",
      "memory usage: 13.1+ KB\n"
     ]
    },
    {
     "data": {
      "text/html": [
       "<div>\n",
       "<style scoped>\n",
       "    .dataframe tbody tr th:only-of-type {\n",
       "        vertical-align: middle;\n",
       "    }\n",
       "\n",
       "    .dataframe tbody tr th {\n",
       "        vertical-align: top;\n",
       "    }\n",
       "\n",
       "    .dataframe thead th {\n",
       "        text-align: right;\n",
       "    }\n",
       "</style>\n",
       "<table border=\"1\" class=\"dataframe\">\n",
       "  <thead>\n",
       "    <tr style=\"text-align: right;\">\n",
       "      <th></th>\n",
       "      <th>SESSAO</th>\n",
       "      <th>SESSAO_TIPO</th>\n",
       "      <th>SESSAO_DATA</th>\n",
       "      <th>SESSAO_DESCRICAO</th>\n",
       "    </tr>\n",
       "  </thead>\n",
       "  <tbody>\n",
       "    <tr>\n",
       "      <th>410</th>\n",
       "      <td>192306</td>\n",
       "      <td>SDR</td>\n",
       "      <td>2020-08-25</td>\n",
       "      <td>Sessão Deliberativa Remota</td>\n",
       "    </tr>\n",
       "    <tr>\n",
       "      <th>411</th>\n",
       "      <td>192306</td>\n",
       "      <td>SDR</td>\n",
       "      <td>2020-08-25</td>\n",
       "      <td>Sessão Deliberativa Remota</td>\n",
       "    </tr>\n",
       "    <tr>\n",
       "      <th>412</th>\n",
       "      <td>192306</td>\n",
       "      <td>SDR</td>\n",
       "      <td>2020-08-25</td>\n",
       "      <td>Sessão Deliberativa Remota</td>\n",
       "    </tr>\n",
       "    <tr>\n",
       "      <th>413</th>\n",
       "      <td>192579</td>\n",
       "      <td>SDR</td>\n",
       "      <td>2020-08-26</td>\n",
       "      <td>Sessão Deliberativa Remota</td>\n",
       "    </tr>\n",
       "    <tr>\n",
       "      <th>414</th>\n",
       "      <td>192579</td>\n",
       "      <td>SDR</td>\n",
       "      <td>2020-08-26</td>\n",
       "      <td>Sessão Deliberativa Remota</td>\n",
       "    </tr>\n",
       "  </tbody>\n",
       "</table>\n",
       "</div>"
      ],
      "text/plain": [
       "     SESSAO SESSAO_TIPO SESSAO_DATA            SESSAO_DESCRICAO\n",
       "410  192306         SDR  2020-08-25  Sessão Deliberativa Remota\n",
       "411  192306         SDR  2020-08-25  Sessão Deliberativa Remota\n",
       "412  192306         SDR  2020-08-25  Sessão Deliberativa Remota\n",
       "413  192579         SDR  2020-08-26  Sessão Deliberativa Remota\n",
       "414  192579         SDR  2020-08-26  Sessão Deliberativa Remota"
      ]
     },
     "execution_count": 4,
     "metadata": {},
     "output_type": "execute_result"
    }
   ],
   "source": [
    "df_sen_sess.info()\n",
    "df_sen_sess.tail()"
   ]
  },
  {
   "cell_type": "code",
   "execution_count": 5,
   "metadata": {},
   "outputs": [],
   "source": [
    "df_sen_sess[\"SESSAO_DATA\"]=df_sen_sess[\"SESSAO_DATA\"].apply(lambda x:datetime.datetime.strptime(x, '%Y-%m-%d'))"
   ]
  },
  {
   "cell_type": "code",
   "execution_count": 6,
   "metadata": {},
   "outputs": [
    {
     "name": "stdout",
     "output_type": "stream",
     "text": [
      "<class 'pandas.core.frame.DataFrame'>\n",
      "RangeIndex: 415 entries, 0 to 414\n",
      "Data columns (total 4 columns):\n",
      " #   Column            Non-Null Count  Dtype         \n",
      "---  ------            --------------  -----         \n",
      " 0   SESSAO            415 non-null    int64         \n",
      " 1   SESSAO_TIPO       415 non-null    object        \n",
      " 2   SESSAO_DATA       415 non-null    datetime64[ns]\n",
      " 3   SESSAO_DESCRICAO  415 non-null    object        \n",
      "dtypes: datetime64[ns](1), int64(1), object(2)\n",
      "memory usage: 13.1+ KB\n"
     ]
    }
   ],
   "source": [
    "df_sen_sess.info()"
   ]
  },
  {
   "cell_type": "code",
   "execution_count": 7,
   "metadata": {},
   "outputs": [
    {
     "data": {
      "text/html": [
       "<div>\n",
       "<style scoped>\n",
       "    .dataframe tbody tr th:only-of-type {\n",
       "        vertical-align: middle;\n",
       "    }\n",
       "\n",
       "    .dataframe tbody tr th {\n",
       "        vertical-align: top;\n",
       "    }\n",
       "\n",
       "    .dataframe thead th {\n",
       "        text-align: right;\n",
       "    }\n",
       "</style>\n",
       "<table border=\"1\" class=\"dataframe\">\n",
       "  <thead>\n",
       "    <tr style=\"text-align: right;\">\n",
       "      <th></th>\n",
       "      <th>SESSAO_DATA</th>\n",
       "      <th>SESSAO</th>\n",
       "      <th>SESSAO_TIPO</th>\n",
       "      <th>SESSAO_DESC</th>\n",
       "    </tr>\n",
       "  </thead>\n",
       "  <tbody>\n",
       "    <tr>\n",
       "      <th>410</th>\n",
       "      <td>2020-08-25</td>\n",
       "      <td>192306</td>\n",
       "      <td>SDR</td>\n",
       "      <td>Sessão Deliberativa Remota</td>\n",
       "    </tr>\n",
       "    <tr>\n",
       "      <th>411</th>\n",
       "      <td>2020-08-25</td>\n",
       "      <td>192306</td>\n",
       "      <td>SDR</td>\n",
       "      <td>Sessão Deliberativa Remota</td>\n",
       "    </tr>\n",
       "    <tr>\n",
       "      <th>412</th>\n",
       "      <td>2020-08-25</td>\n",
       "      <td>192306</td>\n",
       "      <td>SDR</td>\n",
       "      <td>Sessão Deliberativa Remota</td>\n",
       "    </tr>\n",
       "    <tr>\n",
       "      <th>413</th>\n",
       "      <td>2020-08-26</td>\n",
       "      <td>192579</td>\n",
       "      <td>SDR</td>\n",
       "      <td>Sessão Deliberativa Remota</td>\n",
       "    </tr>\n",
       "    <tr>\n",
       "      <th>414</th>\n",
       "      <td>2020-08-26</td>\n",
       "      <td>192579</td>\n",
       "      <td>SDR</td>\n",
       "      <td>Sessão Deliberativa Remota</td>\n",
       "    </tr>\n",
       "  </tbody>\n",
       "</table>\n",
       "</div>"
      ],
      "text/plain": [
       "    SESSAO_DATA  SESSAO SESSAO_TIPO                 SESSAO_DESC\n",
       "410  2020-08-25  192306         SDR  Sessão Deliberativa Remota\n",
       "411  2020-08-25  192306         SDR  Sessão Deliberativa Remota\n",
       "412  2020-08-25  192306         SDR  Sessão Deliberativa Remota\n",
       "413  2020-08-26  192579         SDR  Sessão Deliberativa Remota\n",
       "414  2020-08-26  192579         SDR  Sessão Deliberativa Remota"
      ]
     },
     "execution_count": 7,
     "metadata": {},
     "output_type": "execute_result"
    }
   ],
   "source": [
    "df_sen_sess=df_sen_sess[[\"SESSAO_DATA\",\"SESSAO\",\"SESSAO_TIPO\",\"SESSAO_DESCRICAO\"]]\n",
    "df_sen_sess.rename({\"SESSAO_DESCRICAO\":\"SESSAO_DESC\"}, axis=1, inplace=True)\n",
    "df_sen_sess.tail()"
   ]
  },
  {
   "cell_type": "code",
   "execution_count": 8,
   "metadata": {},
   "outputs": [
    {
     "data": {
      "text/html": [
       "<div>\n",
       "<style scoped>\n",
       "    .dataframe tbody tr th:only-of-type {\n",
       "        vertical-align: middle;\n",
       "    }\n",
       "\n",
       "    .dataframe tbody tr th {\n",
       "        vertical-align: top;\n",
       "    }\n",
       "\n",
       "    .dataframe thead th {\n",
       "        text-align: right;\n",
       "    }\n",
       "</style>\n",
       "<table border=\"1\" class=\"dataframe\">\n",
       "  <thead>\n",
       "    <tr style=\"text-align: right;\">\n",
       "      <th></th>\n",
       "      <th>SESSAO_DATA</th>\n",
       "      <th>SESSAO</th>\n",
       "      <th>SESSAO_TIPO</th>\n",
       "      <th>SESSAO_DESC</th>\n",
       "    </tr>\n",
       "  </thead>\n",
       "  <tbody>\n",
       "    <tr>\n",
       "      <th>0</th>\n",
       "      <td>2019-02-26</td>\n",
       "      <td>86315</td>\n",
       "      <td>DOR</td>\n",
       "      <td>Sessão Deliberativa Ordinária</td>\n",
       "    </tr>\n",
       "    <tr>\n",
       "      <th>1</th>\n",
       "      <td>2019-02-26</td>\n",
       "      <td>86315</td>\n",
       "      <td>DOR</td>\n",
       "      <td>Sessão Deliberativa Ordinária</td>\n",
       "    </tr>\n",
       "    <tr>\n",
       "      <th>2</th>\n",
       "      <td>2019-02-26</td>\n",
       "      <td>86315</td>\n",
       "      <td>DOR</td>\n",
       "      <td>Sessão Deliberativa Ordinária</td>\n",
       "    </tr>\n",
       "    <tr>\n",
       "      <th>3</th>\n",
       "      <td>2019-02-26</td>\n",
       "      <td>86315</td>\n",
       "      <td>DOR</td>\n",
       "      <td>Sessão Deliberativa Ordinária</td>\n",
       "    </tr>\n",
       "    <tr>\n",
       "      <th>4</th>\n",
       "      <td>2019-02-26</td>\n",
       "      <td>86315</td>\n",
       "      <td>DOR</td>\n",
       "      <td>Sessão Deliberativa Ordinária</td>\n",
       "    </tr>\n",
       "    <tr>\n",
       "      <th>5</th>\n",
       "      <td>2019-02-26</td>\n",
       "      <td>86315</td>\n",
       "      <td>DOR</td>\n",
       "      <td>Sessão Deliberativa Ordinária</td>\n",
       "    </tr>\n",
       "    <tr>\n",
       "      <th>6</th>\n",
       "      <td>2019-02-26</td>\n",
       "      <td>86315</td>\n",
       "      <td>DOR</td>\n",
       "      <td>Sessão Deliberativa Ordinária</td>\n",
       "    </tr>\n",
       "    <tr>\n",
       "      <th>7</th>\n",
       "      <td>2019-02-26</td>\n",
       "      <td>86315</td>\n",
       "      <td>DOR</td>\n",
       "      <td>Sessão Deliberativa Ordinária</td>\n",
       "    </tr>\n",
       "  </tbody>\n",
       "</table>\n",
       "</div>"
      ],
      "text/plain": [
       "  SESSAO_DATA  SESSAO SESSAO_TIPO                    SESSAO_DESC\n",
       "0  2019-02-26   86315         DOR  Sessão Deliberativa Ordinária\n",
       "1  2019-02-26   86315         DOR  Sessão Deliberativa Ordinária\n",
       "2  2019-02-26   86315         DOR  Sessão Deliberativa Ordinária\n",
       "3  2019-02-26   86315         DOR  Sessão Deliberativa Ordinária\n",
       "4  2019-02-26   86315         DOR  Sessão Deliberativa Ordinária\n",
       "5  2019-02-26   86315         DOR  Sessão Deliberativa Ordinária\n",
       "6  2019-02-26   86315         DOR  Sessão Deliberativa Ordinária\n",
       "7  2019-02-26   86315         DOR  Sessão Deliberativa Ordinária"
      ]
     },
     "execution_count": 8,
     "metadata": {},
     "output_type": "execute_result"
    }
   ],
   "source": [
    "df_sen_sess[df_sen_sess[\"SESSAO\"]==86315]"
   ]
  },
  {
   "cell_type": "code",
   "execution_count": 9,
   "metadata": {},
   "outputs": [
    {
     "name": "stdout",
     "output_type": "stream",
     "text": [
      "<class 'pandas.core.frame.DataFrame'>\n",
      "RangeIndex: 17034 entries, 0 to 17033\n",
      "Data columns (total 4 columns):\n",
      " #   Column     Non-Null Count  Dtype \n",
      "---  ------     --------------  ----- \n",
      " 0   SESSAO     17034 non-null  object\n",
      " 1   ID_SENADO  17034 non-null  object\n",
      " 2   VOTO       17034 non-null  object\n",
      " 3   VOTO_DESC  2538 non-null   object\n",
      "dtypes: object(4)\n",
      "memory usage: 532.4+ KB\n",
      "<class 'pandas.core.frame.DataFrame'>\n",
      "RangeIndex: 415 entries, 0 to 414\n",
      "Data columns (total 4 columns):\n",
      " #   Column       Non-Null Count  Dtype         \n",
      "---  ------       --------------  -----         \n",
      " 0   SESSAO_DATA  415 non-null    datetime64[ns]\n",
      " 1   SESSAO       415 non-null    object        \n",
      " 2   SESSAO_TIPO  415 non-null    object        \n",
      " 3   SESSAO_DESC  415 non-null    object        \n",
      "dtypes: datetime64[ns](1), object(3)\n",
      "memory usage: 13.1+ KB\n"
     ]
    }
   ],
   "source": [
    "df_sen_voto[\"SESSAO\"]=df_sen_voto[\"SESSAO\"].astype(\"object\")\n",
    "df_sen_sess[\"SESSAO\"]=df_sen_sess[\"SESSAO\"].astype(\"object\")\n",
    "df_sen_voto.info()\n",
    "df_sen_sess.info()\n",
    "                                        "
   ]
  },
  {
   "cell_type": "code",
   "execution_count": 10,
   "metadata": {},
   "outputs": [
    {
     "data": {
      "text/html": [
       "<div>\n",
       "<style scoped>\n",
       "    .dataframe tbody tr th:only-of-type {\n",
       "        vertical-align: middle;\n",
       "    }\n",
       "\n",
       "    .dataframe tbody tr th {\n",
       "        vertical-align: top;\n",
       "    }\n",
       "\n",
       "    .dataframe thead th {\n",
       "        text-align: right;\n",
       "    }\n",
       "</style>\n",
       "<table border=\"1\" class=\"dataframe\">\n",
       "  <thead>\n",
       "    <tr style=\"text-align: right;\">\n",
       "      <th></th>\n",
       "      <th>SESSAO</th>\n",
       "      <th>ID_SENADO</th>\n",
       "      <th>VOTO</th>\n",
       "      <th>VOTO_DESC</th>\n",
       "    </tr>\n",
       "  </thead>\n",
       "  <tbody>\n",
       "    <tr>\n",
       "      <th>16858</th>\n",
       "      <td>192306</td>\n",
       "      <td>1023</td>\n",
       "      <td>Sim</td>\n",
       "      <td>None</td>\n",
       "    </tr>\n",
       "    <tr>\n",
       "      <th>16939</th>\n",
       "      <td>192306</td>\n",
       "      <td>1023</td>\n",
       "      <td>Sim</td>\n",
       "      <td>None</td>\n",
       "    </tr>\n",
       "  </tbody>\n",
       "</table>\n",
       "</div>"
      ],
      "text/plain": [
       "       SESSAO ID_SENADO VOTO VOTO_DESC\n",
       "16858  192306      1023  Sim      None\n",
       "16939  192306      1023  Sim      None"
      ]
     },
     "execution_count": 10,
     "metadata": {},
     "output_type": "execute_result"
    }
   ],
   "source": [
    "sessao=df_sen_voto[\"SESSAO\"]==\"192306\"\n",
    "senador=df_sen_voto[\"ID_SENADO\"]==\"1023\"\n",
    "df_sen_voto[(sessao & senador)]"
   ]
  },
  {
   "cell_type": "markdown",
   "metadata": {},
   "source": [
    "## Percentual de cada tipo"
   ]
  },
  {
   "cell_type": "code",
   "execution_count": 11,
   "metadata": {},
   "outputs": [
    {
     "data": {
      "text/html": [
       "<div>\n",
       "<style scoped>\n",
       "    .dataframe tbody tr th:only-of-type {\n",
       "        vertical-align: middle;\n",
       "    }\n",
       "\n",
       "    .dataframe tbody tr th {\n",
       "        vertical-align: top;\n",
       "    }\n",
       "\n",
       "    .dataframe thead th {\n",
       "        text-align: right;\n",
       "    }\n",
       "</style>\n",
       "<table border=\"1\" class=\"dataframe\">\n",
       "  <thead>\n",
       "    <tr style=\"text-align: right;\">\n",
       "      <th></th>\n",
       "      <th>SESSAO_DESC</th>\n",
       "    </tr>\n",
       "  </thead>\n",
       "  <tbody>\n",
       "    <tr>\n",
       "      <th>Sessão Deliberativa Ordinária</th>\n",
       "      <td>224</td>\n",
       "    </tr>\n",
       "    <tr>\n",
       "      <th>Sessão Deliberativa Remota</th>\n",
       "      <td>182</td>\n",
       "    </tr>\n",
       "    <tr>\n",
       "      <th>Sessão Deliberativa Extraordinária</th>\n",
       "      <td>9</td>\n",
       "    </tr>\n",
       "  </tbody>\n",
       "</table>\n",
       "</div>"
      ],
      "text/plain": [
       "                                    SESSAO_DESC\n",
       "Sessão Deliberativa Ordinária               224\n",
       "Sessão Deliberativa Remota                  182\n",
       "Sessão Deliberativa Extraordinária            9"
      ]
     },
     "execution_count": 11,
     "metadata": {},
     "output_type": "execute_result"
    }
   ],
   "source": [
    "#df_sen_sess.info()\n",
    "#df_sen_sess[\"SESSAO_DESC\"].value_counts()\n",
    "df_sess_tipos=pd.DataFrame(df_sen_sess[\"SESSAO_DESC\"].value_counts())\n",
    "df_sess_tipos"
   ]
  },
  {
   "cell_type": "code",
   "execution_count": 12,
   "metadata": {},
   "outputs": [
    {
     "data": {
      "text/html": [
       "<div>\n",
       "<style scoped>\n",
       "    .dataframe tbody tr th:only-of-type {\n",
       "        vertical-align: middle;\n",
       "    }\n",
       "\n",
       "    .dataframe tbody tr th {\n",
       "        vertical-align: top;\n",
       "    }\n",
       "\n",
       "    .dataframe thead th {\n",
       "        text-align: right;\n",
       "    }\n",
       "</style>\n",
       "<table border=\"1\" class=\"dataframe\">\n",
       "  <thead>\n",
       "    <tr style=\"text-align: right;\">\n",
       "      <th></th>\n",
       "      <th>QUANT</th>\n",
       "    </tr>\n",
       "    <tr>\n",
       "      <th>TIPO_DESC</th>\n",
       "      <th></th>\n",
       "    </tr>\n",
       "  </thead>\n",
       "  <tbody>\n",
       "    <tr>\n",
       "      <th>Sessão Deliberativa Ordinária</th>\n",
       "      <td>224</td>\n",
       "    </tr>\n",
       "    <tr>\n",
       "      <th>Sessão Deliberativa Remota</th>\n",
       "      <td>182</td>\n",
       "    </tr>\n",
       "    <tr>\n",
       "      <th>Sessão Deliberativa Extraordinária</th>\n",
       "      <td>9</td>\n",
       "    </tr>\n",
       "  </tbody>\n",
       "</table>\n",
       "</div>"
      ],
      "text/plain": [
       "                                    QUANT\n",
       "TIPO_DESC                                \n",
       "Sessão Deliberativa Ordinária         224\n",
       "Sessão Deliberativa Remota            182\n",
       "Sessão Deliberativa Extraordinária      9"
      ]
     },
     "execution_count": 12,
     "metadata": {},
     "output_type": "execute_result"
    }
   ],
   "source": [
    "df_sess_tipos.rename(columns={\"SESSAO_DESC\":\"QUANT\"}, inplace=True)\n",
    "df_sess_tipos.index.name=\"TIPO_DESC\"\n",
    "df_sess_tipos"
   ]
  },
  {
   "cell_type": "code",
   "execution_count": 13,
   "metadata": {},
   "outputs": [
    {
     "data": {
      "text/plain": [
       "<matplotlib.axes._subplots.AxesSubplot at 0x7fd93a267e10>"
      ]
     },
     "execution_count": 13,
     "metadata": {},
     "output_type": "execute_result"
    },
    {
     "data": {
      "image/png": "[encoded data removed]",
      "text/plain": [
       "<Figure size 864x576 with 1 Axes>"
      ]
     },
     "metadata": {
      "needs_background": "light"
     },
     "output_type": "display_data"
    }
   ],
   "source": [
    "f = lambda x: x/x.sum()\n",
    "df_sess_tipos[\"PERC\"]=df_sess_tipos.apply(f)\n",
    "df_sess_tipos[\"QUANT\"].plot(kind=\"bar\")"
   ]
  },
  {
   "cell_type": "code",
   "execution_count": 14,
   "metadata": {},
   "outputs": [
    {
     "name": "stdout",
     "output_type": "stream",
     "text": [
      "<class 'pandas.core.frame.DataFrame'>\n",
      "RangeIndex: 415 entries, 0 to 414\n",
      "Data columns (total 4 columns):\n",
      " #   Column       Non-Null Count  Dtype         \n",
      "---  ------       --------------  -----         \n",
      " 0   SESSAO_DATA  415 non-null    datetime64[ns]\n",
      " 1   SESSAO       415 non-null    object        \n",
      " 2   SESSAO_TIPO  415 non-null    object        \n",
      " 3   SESSAO_DESC  415 non-null    object        \n",
      "dtypes: datetime64[ns](1), object(3)\n",
      "memory usage: 13.1+ KB\n",
      "<class 'pandas.core.frame.DataFrame'>\n",
      "RangeIndex: 17034 entries, 0 to 17033\n",
      "Data columns (total 4 columns):\n",
      " #   Column     Non-Null Count  Dtype \n",
      "---  ------     --------------  ----- \n",
      " 0   SESSAO     17034 non-null  object\n",
      " 1   ID_SENADO  17034 non-null  object\n",
      " 2   VOTO       17034 non-null  object\n",
      " 3   VOTO_DESC  2538 non-null   object\n",
      "dtypes: object(4)\n",
      "memory usage: 532.4+ KB\n"
     ]
    }
   ],
   "source": [
    "df_sen_sess.info()\n",
    "df_sen_voto.info()"
   ]
  },
  {
   "cell_type": "markdown",
   "metadata": {},
   "source": [
    "## Para cada senador"
   ]
  },
  {
   "cell_type": "markdown",
   "metadata": {},
   "source": [
    "### Total de votações"
   ]
  },
  {
   "cell_type": "code",
   "execution_count": 16,
   "metadata": {},
   "outputs": [
    {
     "data": {
      "text/plain": [
       "pandas.core.series.Series"
      ]
     },
     "execution_count": 16,
     "metadata": {},
     "output_type": "execute_result"
    },
    {
     "data": {
      "text/plain": [
       "<matplotlib.axes._subplots.AxesSubplot at 0x7fd939c3f750>"
      ]
     },
     "execution_count": 16,
     "metadata": {},
     "output_type": "execute_result"
    },
    {
     "data": {
      "text/html": [
       "<div>\n",
       "<style scoped>\n",
       "    .dataframe tbody tr th:only-of-type {\n",
       "        vertical-align: middle;\n",
       "    }\n",
       "\n",
       "    .dataframe tbody tr th {\n",
       "        vertical-align: top;\n",
       "    }\n",
       "\n",
       "    .dataframe thead th {\n",
       "        text-align: right;\n",
       "    }\n",
       "</style>\n",
       "<table border=\"1\" class=\"dataframe\">\n",
       "  <thead>\n",
       "    <tr style=\"text-align: right;\">\n",
       "      <th>VOTO</th>\n",
       "      <th>AP</th>\n",
       "      <th>Abstenção</th>\n",
       "      <th>Impedido (art.306 RISF)</th>\n",
       "      <th>LG</th>\n",
       "      <th>LN</th>\n",
       "      <th>LP</th>\n",
       "      <th>LS</th>\n",
       "      <th>MIS</th>\n",
       "      <th>NCom</th>\n",
       "      <th>Não</th>\n",
       "      <th>P-NRV</th>\n",
       "      <th>P-OD</th>\n",
       "      <th>Presidente (art. 51 RISF)</th>\n",
       "      <th>Sim</th>\n",
       "      <th>Votou</th>\n",
       "      <th>VOTO_TOTAL</th>\n",
       "      <th>AUSENCIA</th>\n",
       "      <th>PRESENCA</th>\n",
       "    </tr>\n",
       "    <tr>\n",
       "      <th>ID_SENADO</th>\n",
       "      <th></th>\n",
       "      <th></th>\n",
       "      <th></th>\n",
       "      <th></th>\n",
       "      <th></th>\n",
       "      <th></th>\n",
       "      <th></th>\n",
       "      <th></th>\n",
       "      <th></th>\n",
       "      <th></th>\n",
       "      <th></th>\n",
       "      <th></th>\n",
       "      <th></th>\n",
       "      <th></th>\n",
       "      <th></th>\n",
       "      <th></th>\n",
       "      <th></th>\n",
       "      <th></th>\n",
       "    </tr>\n",
       "  </thead>\n",
       "  <tbody>\n",
       "    <tr>\n",
       "      <th>35</th>\n",
       "      <td>69.0</td>\n",
       "      <td>0.0</td>\n",
       "      <td>0.0</td>\n",
       "      <td>0.0</td>\n",
       "      <td>0.0</td>\n",
       "      <td>0.0</td>\n",
       "      <td>23.0</td>\n",
       "      <td>0.0</td>\n",
       "      <td>20.0</td>\n",
       "      <td>10.0</td>\n",
       "      <td>19.0</td>\n",
       "      <td>0.0</td>\n",
       "      <td>0.0</td>\n",
       "      <td>66.0</td>\n",
       "      <td>1.0</td>\n",
       "      <td>208.0</td>\n",
       "      <td>0.096154</td>\n",
       "      <td>0.903846</td>\n",
       "    </tr>\n",
       "    <tr>\n",
       "      <th>5924</th>\n",
       "      <td>0.0</td>\n",
       "      <td>0.0</td>\n",
       "      <td>0.0</td>\n",
       "      <td>0.0</td>\n",
       "      <td>0.0</td>\n",
       "      <td>0.0</td>\n",
       "      <td>0.0</td>\n",
       "      <td>0.0</td>\n",
       "      <td>13.0</td>\n",
       "      <td>24.0</td>\n",
       "      <td>31.0</td>\n",
       "      <td>0.0</td>\n",
       "      <td>0.0</td>\n",
       "      <td>101.0</td>\n",
       "      <td>42.0</td>\n",
       "      <td>211.0</td>\n",
       "      <td>0.061611</td>\n",
       "      <td>0.938389</td>\n",
       "    </tr>\n",
       "    <tr>\n",
       "      <th>5535</th>\n",
       "      <td>18.0</td>\n",
       "      <td>3.0</td>\n",
       "      <td>0.0</td>\n",
       "      <td>0.0</td>\n",
       "      <td>0.0</td>\n",
       "      <td>0.0</td>\n",
       "      <td>0.0</td>\n",
       "      <td>5.0</td>\n",
       "      <td>9.0</td>\n",
       "      <td>19.0</td>\n",
       "      <td>25.0</td>\n",
       "      <td>0.0</td>\n",
       "      <td>0.0</td>\n",
       "      <td>93.0</td>\n",
       "      <td>38.0</td>\n",
       "      <td>210.0</td>\n",
       "      <td>0.042857</td>\n",
       "      <td>0.957143</td>\n",
       "    </tr>\n",
       "    <tr>\n",
       "      <th>581</th>\n",
       "      <td>0.0</td>\n",
       "      <td>0.0</td>\n",
       "      <td>0.0</td>\n",
       "      <td>0.0</td>\n",
       "      <td>0.0</td>\n",
       "      <td>0.0</td>\n",
       "      <td>0.0</td>\n",
       "      <td>5.0</td>\n",
       "      <td>8.0</td>\n",
       "      <td>21.0</td>\n",
       "      <td>13.0</td>\n",
       "      <td>1.0</td>\n",
       "      <td>0.0</td>\n",
       "      <td>110.0</td>\n",
       "      <td>50.0</td>\n",
       "      <td>208.0</td>\n",
       "      <td>0.038462</td>\n",
       "      <td>0.961538</td>\n",
       "    </tr>\n",
       "    <tr>\n",
       "      <th>5718</th>\n",
       "      <td>0.0</td>\n",
       "      <td>1.0</td>\n",
       "      <td>0.0</td>\n",
       "      <td>0.0</td>\n",
       "      <td>0.0</td>\n",
       "      <td>0.0</td>\n",
       "      <td>1.0</td>\n",
       "      <td>0.0</td>\n",
       "      <td>6.0</td>\n",
       "      <td>10.0</td>\n",
       "      <td>21.0</td>\n",
       "      <td>0.0</td>\n",
       "      <td>0.0</td>\n",
       "      <td>123.0</td>\n",
       "      <td>49.0</td>\n",
       "      <td>211.0</td>\n",
       "      <td>0.028436</td>\n",
       "      <td>0.971564</td>\n",
       "    </tr>\n",
       "  </tbody>\n",
       "</table>\n",
       "</div>"
      ],
      "text/plain": [
       "VOTO         AP  Abstenção  Impedido (art.306 RISF)   LG   LN   LP    LS  MIS  \\\n",
       "ID_SENADO                                                                       \n",
       "35         69.0        0.0                      0.0  0.0  0.0  0.0  23.0  0.0   \n",
       "5924        0.0        0.0                      0.0  0.0  0.0  0.0   0.0  0.0   \n",
       "5535       18.0        3.0                      0.0  0.0  0.0  0.0   0.0  5.0   \n",
       "581         0.0        0.0                      0.0  0.0  0.0  0.0   0.0  5.0   \n",
       "5718        0.0        1.0                      0.0  0.0  0.0  0.0   1.0  0.0   \n",
       "\n",
       "VOTO       NCom   Não  P-NRV  P-OD  Presidente (art. 51 RISF)    Sim  Votou  \\\n",
       "ID_SENADO                                                                     \n",
       "35         20.0  10.0   19.0   0.0                        0.0   66.0    1.0   \n",
       "5924       13.0  24.0   31.0   0.0                        0.0  101.0   42.0   \n",
       "5535        9.0  19.0   25.0   0.0                        0.0   93.0   38.0   \n",
       "581         8.0  21.0   13.0   1.0                        0.0  110.0   50.0   \n",
       "5718        6.0  10.0   21.0   0.0                        0.0  123.0   49.0   \n",
       "\n",
       "VOTO       VOTO_TOTAL  AUSENCIA  PRESENCA  \n",
       "ID_SENADO                                  \n",
       "35              208.0  0.096154  0.903846  \n",
       "5924            211.0  0.061611  0.938389  \n",
       "5535            210.0  0.042857  0.957143  \n",
       "581             208.0  0.038462  0.961538  \n",
       "5718            211.0  0.028436  0.971564  "
      ]
     },
     "execution_count": 16,
     "metadata": {},
     "output_type": "execute_result"
    },
    {
     "data": {
      "image/png": "[encoded data removed]",
      "text/plain": [
       "<Figure size 864x576 with 1 Axes>"
      ]
     },
     "metadata": {
      "needs_background": "light"
     },
     "output_type": "display_data"
    }
   ],
   "source": [
    "x=df_sen_voto.groupby(\"ID_SENADO\")[\"VOTO\"].value_counts()\n",
    "type(x)\n",
    "df_sen_voto_tipos=x.unstack().fillna(0)\n",
    "df_sen_voto_tipos[\"VOTO_TOTAL\"]=df_sen_voto_tipos.sum(axis=1)\n",
    "df_sen_voto_tipos=df_sen_voto_tipos.sort_values(\"NCom\", ascending=False)\n",
    "df_sen_voto_tipos[\"NCom\"].iloc[1:10].plot(kind=\"bar\")\n",
    "df_sen_voto_tipos[\"AUSENCIA\"]=df_sen_voto_tipos[\"NCom\"]/df_sen_voto_tipos[\"VOTO_TOTAL\"]\n",
    "df_sen_voto_tipos[\"PRESENCA\"]=1-df_sen_voto_tipos[\"AUSENCIA\"]\n",
    "df_sen_voto_tipos.head()"
   ]
  },
  {
   "cell_type": "code",
   "execution_count": 18,
   "metadata": {},
   "outputs": [],
   "source": [
    "df_sen_assid=df_sen_voto_tipos[[\"PRESENCA\",\"AUSENCIA\"]]"
   ]
  },
  {
   "cell_type": "code",
   "execution_count": 19,
   "metadata": {},
   "outputs": [
    {
     "name": "stdout",
     "output_type": "stream",
     "text": [
      "<class 'pandas.core.frame.DataFrame'>\n",
      "Int64Index: 79 entries, 0 to 78\n",
      "Data columns (total 32 columns):\n",
      " #   Column                   Non-Null Count  Dtype  \n",
      "---  ------                   --------------  -----  \n",
      " 0   CPF                      79 non-null     object \n",
      " 1   NM_CANDIDATO_x           79 non-null     object \n",
      " 2   DT_NASCIMENTO            79 non-null     object \n",
      " 3   SG_UF_NASCIMENTO         79 non-null     object \n",
      " 4   NM_MUNICIPIO_NASCIMENTO  79 non-null     object \n",
      " 5   DS_GENERO                79 non-null     object \n",
      " 6   DS_GRAU_INSTRUCAO        79 non-null     object \n",
      " 7   DS_ESTADO_CIVIL          79 non-null     object \n",
      " 8   DS_COR_RACA              79 non-null     object \n",
      " 9   DS_OCUPACAO              79 non-null     object \n",
      " 10  VL_BENS                  79 non-null     float64\n",
      " 11  ANO_ELEICAO              79 non-null     int64  \n",
      " 12  DS_CARGO                 79 non-null     object \n",
      " 13  SG_PARTIDO               79 non-null     object \n",
      " 14  SG_UE                    79 non-null     object \n",
      " 15  SQ_CANDIDATO             79 non-null     int64  \n",
      " 16  NM_URNA_CANDIDATO        79 non-null     object \n",
      " 17  IDADE                    79 non-null     float64\n",
      " 18  NM_EMAIL                 79 non-null     object \n",
      " 19  VR_DESPESA_CONTRATADA    79 non-null     float64\n",
      " 20  followers_count          68 non-null     float64\n",
      " 21  tweets                   68 non-null     float64\n",
      " 22  NM_CANDIDATO_y           79 non-null     object \n",
      " 23  ID_SENADO                76 non-null     object \n",
      " 24  ID_PUB                   76 non-null     object \n",
      " 25  FOTO_URI                 76 non-null     object \n",
      " 26  URL_SENADO               76 non-null     object \n",
      " 27  URL_PARTICULAR           0 non-null      object \n",
      " 28  MESA                     76 non-null     object \n",
      " 29  LIDERANCA                76 non-null     object \n",
      " 30  PRESENCA                 76 non-null     float64\n",
      " 31  AUSENCIA                 76 non-null     float64\n",
      "dtypes: float64(7), int64(2), object(23)\n",
      "memory usage: 20.4+ KB\n"
     ]
    }
   ],
   "source": [
    "df_sen_prod=pd.merge(df_sen,df_sen_assid, how=\"left\", on=\"ID_SENADO\")\n",
    "df_sen_prod.info()"
   ]
  },
  {
   "cell_type": "code",
   "execution_count": null,
   "metadata": {},
   "outputs": [],
   "source": [
    "df=pd.merge(df_sen_prod,df_diap, how=\"left\", on=\"CPF\")\n",
    "#df=df_sen_prod"
   ]
  },
  {
   "cell_type": "code",
   "execution_count": null,
   "metadata": {},
   "outputs": [],
   "source": [
    "df.info()\n",
    "df.fillna(0, inplace=True)"
   ]
  },
  {
   "cell_type": "raw",
   "metadata": {},
   "source": [
    "df[[\"CPF\",\"NM_URNA_CANDIDATO\",\"MESA\",\"LIDERANCA\",\"cabeças\",\"REQ\",\"PEC\",\"PROP_TOTAL\"]][df[\"PROP_TOTAL\"]>10]"
   ]
  },
  {
   "cell_type": "code",
   "execution_count": null,
   "metadata": {},
   "outputs": [],
   "source": [
    "hoje=datetime.datetime.now()\n",
    "df[\"IDADE\"]=df[\"DT_NASCIMENTO\"].apply(lambda x:(hoje-datetime.datetime.strptime(x, '%d/%m/%Y')).days//(365.25))"
   ]
  },
  {
   "cell_type": "code",
   "execution_count": null,
   "metadata": {},
   "outputs": [],
   "source": [
    "df.sample(5)"
   ]
  },
  {
   "cell_type": "code",
   "execution_count": null,
   "metadata": {},
   "outputs": [],
   "source": [
    "df.columns"
   ]
  },
  {
   "cell_type": "code",
   "execution_count": null,
   "metadata": {},
   "outputs": [],
   "source": [
    "df.columns\n",
    "df.drop(columns=\"DS_CARGO\", axis=1, inplace=True)"
   ]
  },
  {
   "cell_type": "code",
   "execution_count": null,
   "metadata": {},
   "outputs": [],
   "source": [
    "df.shape\n",
    "df.info()\n",
    "df.sample(10)"
   ]
  },
  {
   "cell_type": "code",
   "execution_count": null,
   "metadata": {},
   "outputs": [],
   "source": [
    "df.info()\n",
    "df.describe().round(2)"
   ]
  },
  {
   "cell_type": "code",
   "execution_count": null,
   "metadata": {},
   "outputs": [],
   "source": [
    "#df.fillna(0, inplace=True)\n",
    "#df.info()"
   ]
  },
  {
   "cell_type": "code",
   "execution_count": null,
   "metadata": {},
   "outputs": [],
   "source": [
    "df.describe(include=np.object)"
   ]
  },
  {
   "cell_type": "raw",
   "metadata": {},
   "source": [
    "plt.clf()\n",
    "df.hist(figsize=(10,7))\n",
    "plt.tight_layout()\n",
    "plt.show"
   ]
  },
  {
   "cell_type": "code",
   "execution_count": null,
   "metadata": {},
   "outputs": [],
   "source": [
    "df.info()\n",
    "unicos=df.nunique()\n",
    "unicos"
   ]
  },
  {
   "cell_type": "markdown",
   "metadata": {},
   "source": [
    "## Defindo variaveis categóricas numericas"
   ]
  },
  {
   "cell_type": "code",
   "execution_count": null,
   "metadata": {},
   "outputs": [],
   "source": [
    "def analisa_variaveis(df,variaveis,nunicas):\n",
    "    lista=[]\n",
    "    unicos=df[variaveis].nunique()\n",
    "    for variavel in unicos.index:\n",
    "        quant=unicos.loc[variavel]\n",
    "        if quant <= nunicas:\n",
    "            lista.append(variavel)\n",
    "            print(\"Variavel {}, {} ocorrências únicas\".format(variavel,quant))\n",
    "            print(df[variavel].sort_values().unique())\n",
    "    return lista"
   ]
  },
  {
   "cell_type": "code",
   "execution_count": null,
   "metadata": {},
   "outputs": [],
   "source": [
    "variaveis_numericas= df.select_dtypes(include=[np.number]).columns\n",
    "df[variaveis_numericas].nunique()"
   ]
  },
  {
   "cell_type": "code",
   "execution_count": null,
   "metadata": {},
   "outputs": [],
   "source": [
    "cat_numericas=analisa_variaveis(df,variaveis_numericas,2)\n",
    "cat_numericas"
   ]
  },
  {
   "cell_type": "raw",
   "metadata": {},
   "source": [
    "#variaveis_categoricas.remove(\"time_spend_company\")\n",
    "cat_numericas.remove(\"ATS\")\n",
    "cat_numericas.remove(\"INS\")\n",
    "cat_numericas.remove(\"OFS\")\n",
    "cat_numericas.remove(\"PET\")\n",
    "cat_numericas.remove(\"PFS\")\n",
    "cat_numericas.remove(\"R.S\")\n"
   ]
  },
  {
   "cell_type": "code",
   "execution_count": null,
   "metadata": {},
   "outputs": [],
   "source": [
    "df[cat_numericas].info()\n"
   ]
  },
  {
   "cell_type": "code",
   "execution_count": null,
   "metadata": {},
   "outputs": [],
   "source": [
    "variaveis_objeto=df.select_dtypes(include=\"object\").columns\n",
    "df[variaveis_objeto].nunique()"
   ]
  },
  {
   "cell_type": "code",
   "execution_count": null,
   "metadata": {},
   "outputs": [],
   "source": [
    "# Retirandos os senadores eleitos que não estão ativos\n",
    "df[\"MESA\"].unique()\n",
    "df[\"NM_URNA_CANDIDATO\"][df[\"MESA\"]==0]\n",
    "df.shape\n",
    "df=df[df[\"MESA\"]!=0]\n",
    "\n",
    "df.shape\n"
   ]
  },
  {
   "cell_type": "code",
   "execution_count": null,
   "metadata": {},
   "outputs": [],
   "source": [
    "cat_objeto=analisa_variaveis(df,variaveis_objeto,27)\n",
    "cat_objeto"
   ]
  },
  {
   "cell_type": "code",
   "execution_count": null,
   "metadata": {},
   "outputs": [],
   "source": [
    "#variaveis_dummy=variaveis_categoricas[0:3]\n",
    "variaveis_categoricas=cat_numericas+cat_objeto\n",
    "variaveis_categoricas"
   ]
  },
  {
   "cell_type": "code",
   "execution_count": null,
   "metadata": {},
   "outputs": [],
   "source": [
    "for variavel in variaveis_categoricas:\n",
    "    df[variavel]=df[variavel].astype(\"category\")\n",
    "df.info()\n",
    "#df.describe(include=np.object)"
   ]
  },
  {
   "cell_type": "code",
   "execution_count": null,
   "metadata": {},
   "outputs": [],
   "source": [
    "variaveis_numericas= list(df.select_dtypes(include=[np.number]).columns)\n",
    "variaveis_numericas\n",
    "variaveis_categoricas"
   ]
  },
  {
   "cell_type": "markdown",
   "metadata": {},
   "source": [
    "### Histogramas"
   ]
  },
  {
   "cell_type": "raw",
   "metadata": {},
   "source": [
    "for variavel in variaveis_categoricas:\n",
    "    df[variavel].value_counts().plot(kind=\"bar\")\n",
    "    plt.xlabel(variavel)\n",
    "    plt.ylabel(\"Contagem\")\n",
    "    plt.title(variavel)\n",
    "    plt.show()"
   ]
  },
  {
   "cell_type": "markdown",
   "metadata": {},
   "source": [
    "### Boxplots - Identificando, verificando e tratando outliers\n"
   ]
  },
  {
   "cell_type": "raw",
   "metadata": {},
   "source": [
    "for cat in variaveis_categoricas:\n",
    "    for num in variaveis_numericas:\n",
    "        sns.boxplot(x=cat, y=num, data=df)\n",
    "        plt.xlabel(cat)\n",
    "        plt.ylabel(num)\n",
    "        plt.title(cat)\n",
    "        plt.show()\n"
   ]
  },
  {
   "cell_type": "markdown",
   "metadata": {
    "slideshow": {
     "slide_type": "slide"
    }
   },
   "source": [
    "## Criação das variáveis dummies, categoricas e numéricas para modelo"
   ]
  },
  {
   "cell_type": "code",
   "execution_count": null,
   "metadata": {},
   "outputs": [],
   "source": [
    "variaveis_numericas=variaveis_numericas= list(df.select_dtypes(include=[np.number]).columns)\n",
    "variaveis_categoricas= list(df.select_dtypes(include=\"category\").columns)\n",
    "variaveis_modelo=variaveis_numericas+variaveis_categoricas\n",
    "\n",
    "df[variaveis_modelo].nunique()"
   ]
  },
  {
   "cell_type": "code",
   "execution_count": null,
   "metadata": {},
   "outputs": [],
   "source": [
    "df.drop(columns=[\"DS_GENERO\",\"DS_GRAU_INSTRUCAO\",\n",
    "                 \"DS_ESTADO_CIVIL\",\"DS_COR_RACA\",\n",
    "                 \"DS_OCUPACAO\",\"ANO_ELEICAO\",\"SG_PARTIDO\",\"SG_UE\",\n",
    "                 \"SG_UF_NASCIMENTO\",\"IDADE\"], inplace=True)"
   ]
  },
  {
   "cell_type": "code",
   "execution_count": null,
   "metadata": {},
   "outputs": [],
   "source": [
    "variaveis_numericas=variaveis_numericas= list(df.select_dtypes(include=[np.number]).columns)\n",
    "variaveis_categoricas= list(df.select_dtypes(include=\"category\").columns)\n",
    "variaveis_modelo=variaveis_numericas+variaveis_categoricas\n",
    "variaveis_dummy=[]"
   ]
  },
  {
   "cell_type": "code",
   "execution_count": null,
   "metadata": {},
   "outputs": [],
   "source": [
    "#variaveis_categoricas.remove(target[0])\n",
    "#variaveis_dummy.remove(target[0])\n",
    "hot_encoding=variaveis_categoricas\n",
    "hot_encoding"
   ]
  },
  {
   "cell_type": "code",
   "execution_count": null,
   "metadata": {},
   "outputs": [],
   "source": [
    "hot_encoding.remove(\"debatedor\")\n",
    "hot_encoding.remove(\"articulador\")\n",
    "hot_encoding.remove(\"formulador\")\n",
    "hot_encoding.remove(\"negociador\")\n",
    "hot_encoding"
   ]
  },
  {
   "cell_type": "code",
   "execution_count": null,
   "metadata": {},
   "outputs": [],
   "source": [
    "df_original=df.copy()\n"
   ]
  },
  {
   "cell_type": "code",
   "execution_count": null,
   "metadata": {},
   "outputs": [],
   "source": [
    "# Trata variaveis binárias (0-1)\n",
    "#df_original=df.copy()\n",
    "for variavel in variaveis_dummy:\n",
    "    df=pd.concat([df, pd.get_dummies(df[variavel].astype(object), prefix=variavel, drop_first=True)], axis=1)\n",
    "    df.drop(columns=[variavel], inplace=True)\n",
    "df.sample(5)\n",
    "df.columns"
   ]
  },
  {
   "cell_type": "code",
   "execution_count": null,
   "metadata": {},
   "outputs": [],
   "source": [
    "#Trata variaveis \n",
    "#variaveis_categoricas=list(set(variaveis_categoricas)-set(variaveis_dummy))\n",
    "for variavel in hot_encoding:\n",
    "    df=pd.concat([df, pd.get_dummies(df[variavel].astype(object), prefix=variavel,drop_first=True)], axis=1)\n",
    "    df.drop(columns=[variavel], inplace=True)\n",
    "#df.sample(5)\n",
    "df.columns"
   ]
  },
  {
   "cell_type": "markdown",
   "metadata": {},
   "source": [
    "# Variáveis do modelo"
   ]
  },
  {
   "cell_type": "code",
   "execution_count": null,
   "metadata": {},
   "outputs": [],
   "source": [
    "variaveis_numericas=list(df.select_dtypes(include=[np.number]).columns)\n",
    "variaveis_categoricas= list(df.select_dtypes(include=\"category\").columns)\n",
    "variaveis_modelo=variaveis_numericas+variaveis_categoricas\n",
    "df[variaveis_modelo].info()"
   ]
  },
  {
   "cell_type": "code",
   "execution_count": null,
   "metadata": {},
   "outputs": [],
   "source": [
    "#df[variaveis_modelo].info()\n",
    "variaveis_modelo.remove(\"mandatos\")\n",
    "variaveis_modelo.remove(\"cabeças\")\n",
    "variaveis_modelo.remove(\"formulador\")\n",
    "variaveis_modelo.remove(\"debatedor\")\n",
    "variaveis_modelo.remove(\"articulador\")\n",
    "variaveis_modelo.remove(\"negociador\")"
   ]
  },
  {
   "cell_type": "raw",
   "metadata": {},
   "source": [
    "df[\"PEC\"]=df[\"PEC\"]**2\n",
    "df[\"PEC\"].describe()"
   ]
  },
  {
   "cell_type": "markdown",
   "metadata": {},
   "source": [
    "## Escala dos preditores"
   ]
  },
  {
   "cell_type": "code",
   "execution_count": null,
   "metadata": {},
   "outputs": [],
   "source": [
    "def verifica_escala(preditores,df):\n",
    "    x=df[preditores].values\n",
    "    plt.plot(x.min(axis=0),\"o\", label=\"min\")\n",
    "    plt.plot(x.max(axis=0),\"^\", label=\"max\")\n",
    "    plt.legend(loc=\"best\")\n",
    "    plt.xlabel(\"Feature index\")\n",
    "    plt.ylabel(\"Feature magnitude\")\n",
    "    plt.yscale(\"log\")\n",
    "    print(df[preditores].max().round(3))"
   ]
  },
  {
   "cell_type": "code",
   "execution_count": null,
   "metadata": {},
   "outputs": [],
   "source": [
    "verifica_escala(variaveis_modelo,df)"
   ]
  },
  {
   "cell_type": "code",
   "execution_count": null,
   "metadata": {},
   "outputs": [],
   "source": [
    "from sklearn.preprocessing import MinMaxScaler\n",
    "scaler = MinMaxScaler()\n",
    "scaler.fit(df[variaveis_modelo].values)\n",
    "x=scaler.transform(df[variaveis_modelo].values)\n",
    "df_scaled=pd.DataFrame(x,columns=variaveis_modelo)\n",
    "df_scaled.head()\n",
    "#df_original=df.copy()\n",
    "df=df_scaled.copy()"
   ]
  },
  {
   "cell_type": "code",
   "execution_count": null,
   "metadata": {},
   "outputs": [],
   "source": [
    "df.info()"
   ]
  },
  {
   "cell_type": "markdown",
   "metadata": {},
   "source": [
    "## Visualizando com PCA"
   ]
  },
  {
   "cell_type": "code",
   "execution_count": null,
   "metadata": {},
   "outputs": [],
   "source": [
    "x=df.values\n",
    "variaveis=list(df.columns)"
   ]
  },
  {
   "cell_type": "code",
   "execution_count": null,
   "metadata": {},
   "outputs": [],
   "source": [
    "from sklearn.decomposition import PCA\n",
    "# keep the first two principal components of the data\n",
    "pca = PCA(n_components=3)\n",
    "# fit PCA model \n",
    "pca.fit(x)\n",
    "# transform data onto the first two principal components\n",
    "x_pca = pca.transform(x)\n",
    "print(\"Original shape: {}\".format(str(x.shape)))\n",
    "print(\"Reduced shape: {}\".format(str(x_pca.shape)))\n",
    "df_pca=pd.DataFrame(x_pca,columns=[\"PC-1\",\"PC-2\",\"PC-3\"])"
   ]
  },
  {
   "cell_type": "raw",
   "metadata": {},
   "source": [
    "# plot first vs. second principal component, colored by class\n",
    "plt.figure(figsize=(8, 8))\n",
    "plt.scatter(x_pca[:, 0], x_pca[:, 1])\n",
    "#plt.legend(cancer.target_names, loc=\"best\")\n",
    "plt.gca().set_aspect(\"equal\")\n",
    "plt.xlabel(\"First principal component\")\n",
    "plt.ylabel(\"Second principal component\")\n"
   ]
  },
  {
   "cell_type": "code",
   "execution_count": null,
   "metadata": {},
   "outputs": [],
   "source": [
    "from mpl_toolkits.mplot3d import Axes3D\n",
    "fig = plt.figure()\n",
    "ax = fig.add_subplot(111, projection='3d')\n",
    "ax.scatter(df_pca['PC-1'], df_pca['PC-2'], df_pca['PC-3'], c='skyblue', s=30)\n",
    "ax.set_xlabel(\"First principal component\")\n",
    "ax.set_ylabel(\"Second principal component\")\n",
    "ax.set_zlabel(\"third principal component\")\n",
    "ax.view_init(20, 130)\n",
    "plt.show()"
   ]
  },
  {
   "cell_type": "code",
   "execution_count": null,
   "metadata": {},
   "outputs": [],
   "source": [
    "df_pca_componentes=pd.DataFrame(pca.components_, columns=variaveis)\n",
    "print(\"PCA component shape: {}\".format(df_pca_componentes.shape))\n",
    "df_pca_componentes\n",
    "plt.figure(figsize=(12, 2))\n",
    "sns.heatmap(df_pca_componentes,annot=True, cmap=\"RdBu\")\n",
    "#(correlação,annot=True, vmin=-1, vmax=1)"
   ]
  },
  {
   "cell_type": "code",
   "execution_count": null,
   "metadata": {},
   "outputs": [],
   "source": [
    "def plot_pca_2d(x,y=True):\n",
    "    plt.figure(figsize=(8, 8))\n",
    "    if y.all():\n",
    "        plt.scatter(x[:, 0], x[:, 1])\n",
    "        plt.gca().set_aspect(\"equal\")\n",
    "    else:\n",
    "        clusters = unique(y)\n",
    "        for cluster in clusters:\n",
    "            row_ix = where(y == cluster)\n",
    "            # create scatter of these samples\n",
    "            plt.scatter(x[row_ix, 0], x[row_ix, 1])\n",
    "    plt.xlabel(\"First principal component\")\n",
    "    plt.ylabel(\"Second principal component\")\n",
    "    plt.legend(clusters, loc=\"best\")\n",
    "    plt.show()\n",
    "    if clusters[0]==-1:\n",
    "        quant=np.bincount(y+1)\n",
    "    else:\n",
    "        quant=np.bincount(y)\n",
    "    frame=pd.DataFrame({\"cluster\":clusters,\"quant\":quant})\n",
    "    print(\"Número de componentes \\n{}\".format(frame))\n",
    "    "
   ]
  },
  {
   "cell_type": "code",
   "execution_count": null,
   "metadata": {},
   "outputs": [],
   "source": [
    "def plot_pca_3d(x,y=True):\n",
    "    fig = plt.figure()\n",
    "    ax = fig.add_subplot(111, projection='3d')\n",
    "    if y.all():\n",
    "        ax.scatter(x[:, 0], x[:, 1],x[:,2])\n",
    "        ax.gca().set_aspect(\"equal\")\n",
    "    else:\n",
    "        clusters = unique(y)\n",
    "        for cluster in clusters:\n",
    "            row_ix = where(y == cluster)\n",
    "            # create scatter of these samples\n",
    "            ax.scatter(x[row_ix, 0], x[row_ix, 1],x[row_ix, 2], s=20)\n",
    "    ax.set_xlabel(\"PC-1\")\n",
    "    ax.set_ylabel(\"PC-2\")\n",
    "    ax.set_zlabel(\"PC-3\")\n",
    "    ax.legend(clusters, loc='upper left')\n",
    "    ax.view_init(35, 120)\n",
    "    plt.show()\n",
    "    if clusters[0]==-1:\n",
    "        quant=np.bincount(y+1)\n",
    "    else:\n",
    "        quant=np.bincount(y)\n",
    "    frame=pd.DataFrame({\"cluster\":clusters,\"quant\":quant})\n",
    "    print(\"Número de componentes \\n{}\".format(frame))\n",
    "    "
   ]
  },
  {
   "cell_type": "markdown",
   "metadata": {},
   "source": [
    "## ajustando variáveis"
   ]
  },
  {
   "cell_type": "code",
   "execution_count": null,
   "metadata": {},
   "outputs": [],
   "source": [
    "x=df.values"
   ]
  },
  {
   "cell_type": "markdown",
   "metadata": {},
   "source": [
    "## K-mean\n"
   ]
  },
  {
   "cell_type": "markdown",
   "metadata": {},
   "source": [
    "## Verificando o número de clusters via inércia"
   ]
  },
  {
   "cell_type": "code",
   "execution_count": null,
   "metadata": {},
   "outputs": [],
   "source": [
    "kvalues=range(1,50)\n",
    "kvalues\n",
    "inercia=[]\n",
    "for k in kvalues:\n",
    "    modelo=KMeans(n_clusters=k, init='k-means++')\n",
    "    modelo.fit(x)\n",
    "    inercia.append(modelo.inertia_)\n",
    "df_inercia=pd.DataFrame({\"Inercia\":inercia, \"K\":kvalues}) \n",
    "df_inercia.plot(\"K\",\"Inercia\", marker='o')"
   ]
  },
  {
   "cell_type": "code",
   "execution_count": null,
   "metadata": {},
   "outputs": [],
   "source": [
    "# defining the kmeans function with initialization as k-means++\n",
    "modelo = KMeans(n_clusters=6, init='k-means++')\n",
    "\n",
    "# fitting the k means algorithm on scaled data\n",
    "modelo.fit(x)\n",
    "yhat = modelo.predict(x)\n",
    "clusters = unique(yhat)\n",
    "#print(variaveis_modelo)\n"
   ]
  },
  {
   "cell_type": "code",
   "execution_count": null,
   "metadata": {},
   "outputs": [],
   "source": [
    "plot_pca_2d(x_pca,yhat)\n",
    "plot_pca_3d(x_pca,yhat)\n",
    "plt.figure(figsize=(12, 2))\n",
    "sns.heatmap(df_pca_componentes,annot=True, cmap=\"RdBu\")\n"
   ]
  },
  {
   "cell_type": "code",
   "execution_count": null,
   "metadata": {},
   "outputs": [],
   "source": [
    "df_kmeans=df_original.copy()\n",
    "df_kmeans[\"cluster\"]=yhat\n",
    "df_kmeans.sample(5)"
   ]
  },
  {
   "cell_type": "markdown",
   "metadata": {},
   "source": [
    "## Mean-shift\n"
   ]
  },
  {
   "cell_type": "code",
   "execution_count": null,
   "metadata": {},
   "outputs": [],
   "source": [
    "from sklearn.cluster import MeanShift\n",
    "modelo = MeanShift()\n",
    "# fitting the k means algorithm on scaled data\n",
    "modelo.fit(x)\n",
    "yhat = modelo.predict(x)\n",
    "clusters = unique(yhat)\n",
    "#print(preditores)\n",
    "clusters"
   ]
  },
  {
   "cell_type": "code",
   "execution_count": null,
   "metadata": {},
   "outputs": [],
   "source": [
    "plot_pca_2d(x_pca,yhat)\n",
    "plot_pca_3d(x_pca,yhat)\n",
    "plt.figure(figsize=(12, 2))\n",
    "sns.heatmap(df_pca_componentes,annot=True, cmap=\"RdBu\")\n"
   ]
  },
  {
   "cell_type": "code",
   "execution_count": null,
   "metadata": {},
   "outputs": [],
   "source": [
    "df_mean_s=df_original.copy()\n",
    "df_mean_s[\"cluster\"]=yhat\n",
    "df_mean_s.sample(5)"
   ]
  },
  {
   "cell_type": "code",
   "execution_count": null,
   "metadata": {},
   "outputs": [],
   "source": [
    "## DBSCAN"
   ]
  },
  {
   "cell_type": "code",
   "execution_count": null,
   "metadata": {},
   "outputs": [],
   "source": [
    "from sklearn.cluster import DBSCAN\n",
    "modelo = DBSCAN(eps=0.5, min_samples=3)"
   ]
  },
  {
   "cell_type": "code",
   "execution_count": null,
   "metadata": {},
   "outputs": [],
   "source": [
    "modelo.fit(x)\n",
    "yhat = modelo.fit_predict(x)\n",
    "clusters = unique(yhat)\n",
    "#print(preditores)\n",
    "clusters"
   ]
  },
  {
   "cell_type": "code",
   "execution_count": null,
   "metadata": {},
   "outputs": [],
   "source": [
    "plot_pca_2d(x_pca,yhat)\n",
    "plot_pca_3d(x_pca,yhat)\n",
    "plt.figure(figsize=(12, 2))\n",
    "sns.heatmap(df_pca_componentes,annot=True, cmap=\"RdBu\")\n"
   ]
  },
  {
   "cell_type": "code",
   "execution_count": null,
   "metadata": {},
   "outputs": [],
   "source": [
    "df_dbscan=df_original.copy()\n",
    "df_dbscan[\"cluster\"]=yhat\n",
    "df_dbscan.sample(5)"
   ]
  },
  {
   "cell_type": "markdown",
   "metadata": {},
   "source": [
    "## GMM"
   ]
  },
  {
   "cell_type": "code",
   "execution_count": null,
   "metadata": {},
   "outputs": [],
   "source": [
    "from sklearn.mixture import GaussianMixture\n",
    "modelo = GaussianMixture(n_components=5)\n",
    "modelo.fit(x)\n",
    "yhat = modelo.predict(x)"
   ]
  },
  {
   "cell_type": "code",
   "execution_count": null,
   "metadata": {},
   "outputs": [],
   "source": [
    "plot_pca_2d(x_pca,yhat)\n",
    "plot_pca_3d(x_pca,yhat)\n",
    "plt.figure(figsize=(12, 2))\n",
    "sns.heatmap(df_pca_componentes,annot=True, cmap=\"RdBu\")\n"
   ]
  },
  {
   "cell_type": "code",
   "execution_count": null,
   "metadata": {},
   "outputs": [],
   "source": [
    "df_GMM=df_original.copy()\n",
    "df_GMM[\"cluster\"]=yhat\n",
    "df_GMM.sample(5)"
   ]
  },
  {
   "cell_type": "markdown",
   "metadata": {},
   "source": [
    "## Aglomerative H Cluster"
   ]
  },
  {
   "cell_type": "code",
   "execution_count": null,
   "metadata": {},
   "outputs": [],
   "source": [
    "from sklearn.cluster import AgglomerativeClustering\n",
    "modelo = AgglomerativeClustering(n_clusters=5)\n",
    "yhat = modelo.fit_predict(x)\n",
    "clusters = unique(yhat)"
   ]
  },
  {
   "cell_type": "code",
   "execution_count": null,
   "metadata": {},
   "outputs": [],
   "source": [
    "plot_pca_2d(x_pca,yhat)\n",
    "plot_pca_3d(x_pca,yhat)\n",
    "plt.figure(figsize=(12, 2))\n",
    "sns.heatmap(df_pca_componentes,annot=True, cmap=\"RdBu\")\n"
   ]
  },
  {
   "cell_type": "code",
   "execution_count": null,
   "metadata": {},
   "outputs": [],
   "source": [
    "#df_HC=df_original.copy()\n",
    "df_HC=df.copy()\n",
    "df_HC[\"cluster\"]=yhat\n",
    "df_HC.sample(5)"
   ]
  },
  {
   "cell_type": "markdown",
   "metadata": {},
   "source": [
    "## creating a distance matrix using linkage"
   ]
  },
  {
   "cell_type": "code",
   "execution_count": null,
   "metadata": {},
   "outputs": [],
   "source": [
    "# Import the fcluster and linkage functions\n",
    "from scipy.cluster.hierarchy import linkage, fcluster, dendrogram\n",
    "\n",
    "# Use the linkage() function\n",
    "distance_matrix = linkage(x,method = 'ward', metric = 'euclidean') # method = 'single'/'complete'\n",
    "\n",
    "# Assign cluster labels\n",
    "#comic_con['cluster_labels'] = fcluster(distance_matrix, 2, criterion='maxclust')\n",
    "dendrogram(distance_matrix)"
   ]
  },
  {
   "cell_type": "code",
   "execution_count": null,
   "metadata": {},
   "outputs": [],
   "source": [
    "#dendrogram(distance_matrix)\n",
    "# Use fcluster to extract labels: labels\n",
    "clusters = fcluster(distance_matrix, 1.6, criterion='distance' )\n",
    "df_ch=df_original.copy()\n",
    "df_ch[\"cluster\"]=clusters\n",
    "df_ch.head(5)"
   ]
  },
  {
   "cell_type": "raw",
   "metadata": {},
   "source": [
    "\n",
    "\n",
    "# Create a DataFrame with labels and companies as columns: df\n",
    "df = pd.DataFrame({'labels': labels, 'companies': companies})\n",
    "\n",
    "# Create crosstab: ct\n",
    "ct = pd.crosstab(df['labels'], df['companies'])\n",
    "\n",
    "# transformar uma crosstab em um cluster map\n",
    "sns.clustermap(ct, figsize=(15, 8), cbar_pos=None, dendrogram_ratio=0.001)"
   ]
  },
  {
   "cell_type": "markdown",
   "metadata": {},
   "source": [
    "# Avaliação com ARI Adjusted Rand Score Index"
   ]
  },
  {
   "cell_type": "code",
   "execution_count": null,
   "metadata": {},
   "outputs": [],
   "source": [
    "# adjusted rand score is 1, as the clustering is exactly the same\n",
    "# df_kmeans, df_mean_s, df_dbscan, df_GMM, df_HC, df_ch"
   ]
  },
  {
   "cell_type": "code",
   "execution_count": null,
   "metadata": {},
   "outputs": [],
   "source": [
    "from sklearn.metrics import adjusted_rand_score\n",
    "target=df_HC\n",
    "lista=[df_kmeans,df_mean_s,df_dbscan,df_GMM,df_HC,df_ch]\n",
    "\n",
    "for df in lista:\n",
    "    print(\"ARI: {:.2f}\".format(adjusted_rand_score(target[\"cluster\"].values, df[\"cluster\"].values)))\n"
   ]
  },
  {
   "cell_type": "markdown",
   "metadata": {},
   "source": [
    "## EDA com K-mean"
   ]
  },
  {
   "cell_type": "code",
   "execution_count": null,
   "metadata": {},
   "outputs": [],
   "source": [
    "df=df_HC.copy()"
   ]
  },
  {
   "cell_type": "markdown",
   "metadata": {},
   "source": [
    "## EDA Básico"
   ]
  },
  {
   "cell_type": "code",
   "execution_count": null,
   "metadata": {},
   "outputs": [],
   "source": [
    "df.info()\n",
    "df.describe().round(2)"
   ]
  },
  {
   "cell_type": "code",
   "execution_count": null,
   "metadata": {},
   "outputs": [],
   "source": [
    "#df.fillna(0, inplace=True)\n",
    "#df.info()"
   ]
  },
  {
   "cell_type": "code",
   "execution_count": null,
   "metadata": {},
   "outputs": [],
   "source": [
    "df.describe(include=np.object)"
   ]
  },
  {
   "cell_type": "raw",
   "metadata": {},
   "source": [
    "plt.clf()\n",
    "df.hist(figsize=(10,7))\n",
    "plt.tight_layout()\n",
    "plt.show"
   ]
  },
  {
   "cell_type": "code",
   "execution_count": null,
   "metadata": {},
   "outputs": [],
   "source": [
    "df.info()\n",
    "unicos=df.nunique()\n",
    "unicos"
   ]
  },
  {
   "cell_type": "markdown",
   "metadata": {},
   "source": [
    "## Defindo variaveis categóricas numericas"
   ]
  },
  {
   "cell_type": "code",
   "execution_count": null,
   "metadata": {},
   "outputs": [],
   "source": [
    "def analisa_variaveis(df,variaveis,nunicas):\n",
    "    lista=[]\n",
    "    unicos=df[variaveis].nunique()\n",
    "    for variavel in unicos.index:\n",
    "        quant=unicos.loc[variavel]\n",
    "        if quant <= nunicas:\n",
    "            lista.append(variavel)\n",
    "            print(\"Variavel {}, {} ocorrências únicas\".format(variavel,quant))\n",
    "            print(df[variavel].sort_values().unique())\n",
    "    return lista"
   ]
  },
  {
   "cell_type": "code",
   "execution_count": null,
   "metadata": {},
   "outputs": [],
   "source": [
    "variaveis_numericas= df.select_dtypes(include=[np.number]).columns\n",
    "variaveis_categoricas= df.select_dtypes(include=\"category\").columns\n",
    "df[variaveis_numericas].info()\n",
    "df[variaveis_categoricas].info()"
   ]
  },
  {
   "cell_type": "code",
   "execution_count": null,
   "metadata": {},
   "outputs": [],
   "source": [
    "variaveis_objeto=df.select_dtypes(include=\"object\").columns\n",
    "df[variaveis_objeto].info()"
   ]
  },
  {
   "cell_type": "markdown",
   "metadata": {},
   "source": [
    "### Histogramas"
   ]
  },
  {
   "cell_type": "code",
   "execution_count": null,
   "metadata": {},
   "outputs": [],
   "source": [
    "for variavel in variaveis_categoricas:\n",
    "    df[variavel].value_counts().plot(kind=\"bar\")\n",
    "    plt.xlabel(variavel)\n",
    "    plt.ylabel(\"Contagem\")\n",
    "    plt.title(variavel)\n",
    "    plt.show()"
   ]
  },
  {
   "cell_type": "markdown",
   "metadata": {},
   "source": [
    "### Boxplots - Identificando, verificando e tratando outliers\n"
   ]
  },
  {
   "cell_type": "code",
   "execution_count": null,
   "metadata": {},
   "outputs": [],
   "source": [
    "for cat in variaveis_categoricas:\n",
    "    for num in variaveis_numericas:\n",
    "        sns.boxplot(x=cat, y=num, data=df)\n",
    "        plt.xlabel(cat)\n",
    "        plt.ylabel(num)\n",
    "        plt.title(cat)\n",
    "        plt.show()\n"
   ]
  },
  {
   "cell_type": "code",
   "execution_count": null,
   "metadata": {},
   "outputs": [],
   "source": [
    "df.info()"
   ]
  },
  {
   "cell_type": "code",
   "execution_count": null,
   "metadata": {},
   "outputs": [],
   "source": [
    "variaveis=list(variaveis_numericas)+list(variaveis_categoricas)\n",
    "variaveis.remove(\"cluster\")\n",
    "preditores=variaveis\n",
    "target=[\"cluster\"]\n",
    "variaveis=[\"cluster\"]+variaveis\n",
    "variaveis"
   ]
  },
  {
   "cell_type": "code",
   "execution_count": null,
   "metadata": {},
   "outputs": [],
   "source": [
    "\n",
    "df[\"cluster\"]=df[\"cluster\"].astype(\"int\")\n",
    "df[\"cluster\"]=df[\"cluster\"].astype(\"int\")\n",
    "df[\"cluster\"]=df[\"cluster\"].astype(\"int\")\n",
    "df[\"cluster\"]=df[\"cluster\"].astype(\"int\")\n",
    "df[\"cluster\"]=df[\"cluster\"].astype(\"int\")\n",
    "\n",
    "correlação=df[variaveis].corr()\n",
    "correlação\n",
    "plt.rc('figure', figsize=(12, 8))\n",
    "sns.heatmap(correlação,annot=True, vmin=-1, vmax=1)"
   ]
  },
  {
   "cell_type": "code",
   "execution_count": null,
   "metadata": {},
   "outputs": [],
   "source": [
    "sns.pairplot(df[variaveis], kind=\"scatter\")"
   ]
  },
  {
   "cell_type": "code",
   "execution_count": null,
   "metadata": {},
   "outputs": [],
   "source": [
    "sns.pairplot(df, y_vars=target, x_vars=preditores, hue=target[0])"
   ]
  },
  {
   "cell_type": "code",
   "execution_count": null,
   "metadata": {},
   "outputs": [],
   "source": []
  }
 ],
 "metadata": {
  "kernelspec": {
   "display_name": "Python 3",
   "language": "python",
   "name": "python3"
  },
  "language_info": {
   "codemirror_mode": {
    "name": "ipython",
    "version": 3
   },
   "file_extension": ".py",
   "mimetype": "text/x-python",
   "name": "python",
   "nbconvert_exporter": "python",
   "pygments_lexer": "ipython3",
   "version": "3.7.6"
  }
 },
 "nbformat": 4,
 "nbformat_minor": 4
}

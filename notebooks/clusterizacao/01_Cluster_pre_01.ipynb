{
 "cells": [
  {
   "cell_type": "markdown",
   "metadata": {},
   "source": [
    "# Preprocessamento Cluster"
   ]
  },
  {
   "cell_type": "code",
   "execution_count": 1,
   "metadata": {},
   "outputs": [],
   "source": [
    "import pandas as pd\n",
    "import numpy as np\n",
    "import seaborn as sns\n",
    "import matplotlib.pyplot as plt\n",
    "plt.rc('figure', figsize=(12, 8))\n",
    "import janitor\n",
    "from mpl_toolkits.mplot3d import Axes3D\n",
    "import plotly.express as px\n",
    "\n",
    "import datetime\n",
    "\n",
    "import sqlite3 as sql\n",
    "\n",
    "from sklearn.cluster import KMeans\n",
    "from numpy import unique\n",
    "from numpy import where\n",
    "\n",
    "#nomalizing data to its std (x_new= x/std(x))\n",
    "from scipy.cluster.vq import whiten\n",
    "\n",
    "from IPython.core.interactiveshell import InteractiveShell \n",
    "InteractiveShell.ast_node_interactivity=\"all\""
   ]
  },
  {
   "cell_type": "markdown",
   "metadata": {},
   "source": [
    "## EDA Básico"
   ]
  },
  {
   "cell_type": "code",
   "execution_count": 2,
   "metadata": {},
   "outputs": [
    {
     "name": "stdout",
     "output_type": "stream",
     "text": [
      "base_completa_2020_09_10.db\t   base_completa_2020_09_14.db\n",
      "base_completa_2020_09_13.db\t   base_completa_A.db\n",
      "base_completa_2020_09_13_manhã.db  base_completa.db\n",
      "base_completa_2020_09_13_noite.db  Normalização_03.ipynb\n"
     ]
    }
   ],
   "source": [
    "!ls ../../dados/sql"
   ]
  },
  {
   "cell_type": "code",
   "execution_count": 3,
   "metadata": {},
   "outputs": [],
   "source": [
    "#Dados de parlamentares\n",
    "con = sql.connect(\"../../dados/sql/base_completa.db\")\n",
    "#df=pd.read_sql(\"select * from deputados_cadastro\",con)\n",
    "df=pd.read_sql(\"select * from kpi_cadastro_basico\",con)\n",
    "df_diap=pd.read_sql(\"select * from diap\",con)\n",
    "con.close()"
   ]
  },
  {
   "cell_type": "code",
   "execution_count": 4,
   "metadata": {},
   "outputs": [
    {
     "name": "stdout",
     "output_type": "stream",
     "text": [
      "<class 'pandas.core.frame.DataFrame'>\n",
      "RangeIndex: 516 entries, 0 to 515\n",
      "Data columns (total 66 columns):\n",
      " #   Column                    Non-Null Count  Dtype  \n",
      "---  ------                    --------------  -----  \n",
      " 0   CPF                       516 non-null    object \n",
      " 1   NM_CANDIDATO              516 non-null    object \n",
      " 2   DT_NASCIMENTO             516 non-null    object \n",
      " 3   SG_UF_NASCIMENTO          516 non-null    object \n",
      " 4   NM_MUNICIPIO_NASCIMENTO   516 non-null    object \n",
      " 5   DS_GENERO                 516 non-null    object \n",
      " 6   DS_GRAU_INSTRUCAO         516 non-null    object \n",
      " 7   DS_ESTADO_CIVIL           516 non-null    object \n",
      " 8   DS_COR_RACA               516 non-null    object \n",
      " 9   DS_OCUPACAO               516 non-null    object \n",
      " 10  VL_BENS                   516 non-null    float64\n",
      " 11  ANO_ELEICAO               516 non-null    int64  \n",
      " 12  DS_CARGO                  516 non-null    object \n",
      " 13  SG_PARTIDO                516 non-null    object \n",
      " 14  SG_UE                     516 non-null    object \n",
      " 15  SQ_CANDIDATO              516 non-null    int64  \n",
      " 16  NM_URNA_CANDIDATO         516 non-null    object \n",
      " 17  IDADE                     516 non-null    int64  \n",
      " 18  NM_EMAIL                  516 non-null    object \n",
      " 19  VR_DESPESA_CONTRATADA     516 non-null    float64\n",
      " 20  id                        382 non-null    object \n",
      " 21  followers_count           382 non-null    float64\n",
      " 22  tweets                    382 non-null    float64\n",
      " 23  foto                      382 non-null    object \n",
      " 24  VOTOS_TOTAL_PARL          516 non-null    int64  \n",
      " 25  PERC_VOTOS_PARL_EST       516 non-null    float64\n",
      " 26  IDHM_ponderado            516 non-null    float64\n",
      " 27  ID_CAMARA                 516 non-null    object \n",
      " 28  NM_PUBLICO                516 non-null    object \n",
      " 29  LEG_INICIAL               516 non-null    float64\n",
      " 30  REDE_SOCIAL               165 non-null    object \n",
      " 31  WEB_SITE                  35 non-null     object \n",
      " 32  ID_URL                    516 non-null    object \n",
      " 33  categoria_idhm            516 non-null    object \n",
      " 34  categoria_gasto_campanha  516 non-null    object \n",
      " 35  FOLLOWERS_TIER            516 non-null    object \n",
      " 36  ORGAO_PARTICIPANTE        459 non-null    float64\n",
      " 37  ORGAO_TOTAL               459 non-null    float64\n",
      " 38  ORGAO_GESTOR              459 non-null    float64\n",
      " 39  PERC_PRESENCA             510 non-null    float64\n",
      " 40  categoria_votos           516 non-null    object \n",
      " 41  VL_BENS_TIER              516 non-null    object \n",
      " 42  TOTAL_PROPOSTAS           495 non-null    float64\n",
      " 43  GASTO_GABINETE            511 non-null    float64\n",
      " 44  categoria_gastogabinete   511 non-null    object \n",
      " 45  201901                    511 non-null    float64\n",
      " 46  201902                    511 non-null    float64\n",
      " 47  201903                    511 non-null    float64\n",
      " 48  201904                    511 non-null    float64\n",
      " 49  201905                    511 non-null    float64\n",
      " 50  201906                    511 non-null    float64\n",
      " 51  201907                    511 non-null    float64\n",
      " 52  201908                    511 non-null    float64\n",
      " 53  201909                    511 non-null    float64\n",
      " 54  201910                    511 non-null    float64\n",
      " 55  201911                    511 non-null    float64\n",
      " 56  201912                    511 non-null    float64\n",
      " 57  202001                    511 non-null    float64\n",
      " 58  202002                    511 non-null    float64\n",
      " 59  202003                    511 non-null    float64\n",
      " 60  202004                    511 non-null    float64\n",
      " 61  202005                    511 non-null    float64\n",
      " 62  202006                    511 non-null    float64\n",
      " 63  202007                    511 non-null    float64\n",
      " 64  202008                    511 non-null    float64\n",
      " 65  202009                    511 non-null    float64\n",
      "dtypes: float64(34), int64(4), object(28)\n",
      "memory usage: 266.2+ KB\n",
      "<class 'pandas.core.frame.DataFrame'>\n",
      "RangeIndex: 101 entries, 0 to 100\n",
      "Data columns (total 7 columns):\n",
      " #   Column       Non-Null Count  Dtype  \n",
      "---  ------       --------------  -----  \n",
      " 0   CPF          100 non-null    object \n",
      " 1   mandatos     101 non-null    int64  \n",
      " 2   cabeças      101 non-null    float64\n",
      " 3   debatedor    101 non-null    int64  \n",
      " 4   articulador  101 non-null    int64  \n",
      " 5   formulador   101 non-null    int64  \n",
      " 6   negociador   101 non-null    int64  \n",
      "dtypes: float64(1), int64(5), object(1)\n",
      "memory usage: 5.6+ KB\n"
     ]
    }
   ],
   "source": [
    "df.info()\n",
    "df_diap.info()\n"
   ]
  },
  {
   "cell_type": "code",
   "execution_count": 5,
   "metadata": {},
   "outputs": [
    {
     "data": {
      "text/plain": [
       "Index(['CPF', 'NM_CANDIDATO', 'DT_NASCIMENTO', 'SG_UF_NASCIMENTO',\n",
       "       'NM_MUNICIPIO_NASCIMENTO', 'DS_GENERO', 'DS_GRAU_INSTRUCAO',\n",
       "       'DS_ESTADO_CIVIL', 'DS_COR_RACA', 'DS_OCUPACAO', 'VL_BENS',\n",
       "       'ANO_ELEICAO', 'DS_CARGO', 'SG_PARTIDO', 'SG_UE', 'SQ_CANDIDATO',\n",
       "       'NM_URNA_CANDIDATO', 'IDADE', 'NM_EMAIL', 'VR_DESPESA_CONTRATADA', 'id',\n",
       "       'followers_count', 'tweets', 'foto', 'VOTOS_TOTAL_PARL',\n",
       "       'PERC_VOTOS_PARL_EST', 'IDHM_ponderado', 'ID_CAMARA', 'NM_PUBLICO',\n",
       "       'LEG_INICIAL', 'REDE_SOCIAL', 'WEB_SITE', 'ID_URL', 'categoria_idhm',\n",
       "       'categoria_gasto_campanha', 'FOLLOWERS_TIER', 'ORGAO_PARTICIPANTE',\n",
       "       'ORGAO_TOTAL', 'ORGAO_GESTOR', 'PERC_PRESENCA', 'categoria_votos',\n",
       "       'VL_BENS_TIER', 'TOTAL_PROPOSTAS', 'GASTO_GABINETE',\n",
       "       'categoria_gastogabinete', '201901', '201902', '201903', '201904',\n",
       "       '201905', '201906', '201907', '201908', '201909', '201910', '201911',\n",
       "       '201912', '202001', '202002', '202003', '202004', '202005', '202006',\n",
       "       '202007', '202008', '202009'],\n",
       "      dtype='object')"
      ]
     },
     "execution_count": 5,
     "metadata": {},
     "output_type": "execute_result"
    }
   ],
   "source": [
    "df.columns"
   ]
  },
  {
   "cell_type": "raw",
   "metadata": {},
   "source": [
    "df=pd.merge(df,df_diap, how=\"left\", on=\"CPF\")\n",
    "df.info()"
   ]
  },
  {
   "cell_type": "code",
   "execution_count": 6,
   "metadata": {},
   "outputs": [],
   "source": [
    "#df.info()\n",
    "df.fillna(0, inplace=True)"
   ]
  },
  {
   "cell_type": "code",
   "execution_count": 7,
   "metadata": {},
   "outputs": [],
   "source": [
    "#df.columns\n",
    "df.drop(columns=[\"DS_COR_RACA\",\"DS_ESTADO_CIVIL\",\"IDADE\",\"DS_GENERO\",\n",
    "                 \"SG_UE\",\"SG_UF_NASCIMENTO\",\"SG_UF_NASCIMENTO\", \n",
    "                 \"DS_OCUPACAO\",\"ANO_ELEICAO\",\"DS_CARGO\",\"LEG_INICIAL\",\n",
    "                 \"foto\",\"id\",\"NM_PUBLICO\",\"REDE_SOCIAL\",\"WEB_SITE\",\n",
    "                 \"ID_URL\",\"SQ_CANDIDATO\",\"SG_PARTIDO\",\"201901\", '201902','201903',\n",
    "                 \"201904\", '201905', '201906', '201907', '201908', '201909',\n",
    "                 '201910', '201911', '201912', '202001', '202002', '202003',\n",
    "                 '202004','202005', '202006', '202007', '202008', '202009'], inplace=True)"
   ]
  },
  {
   "cell_type": "markdown",
   "metadata": {},
   "source": [
    "## Defindo variaveis categóricas numericas"
   ]
  },
  {
   "cell_type": "code",
   "execution_count": 8,
   "metadata": {},
   "outputs": [],
   "source": [
    "def analisa_variaveis(df,variaveis,nunicas):\n",
    "    lista=[]\n",
    "    unicos=df[variaveis].nunique()\n",
    "    for variavel in unicos.index:\n",
    "        quant=unicos.loc[variavel]\n",
    "        if quant <= nunicas:\n",
    "            lista.append(variavel)\n",
    "            print(\"Variavel {}, {} ocorrências únicas\".format(variavel,quant))\n",
    "            #print(df[variavel].sort_values().unique())\n",
    "            print(df[variavel].unique())\n",
    "    return lista"
   ]
  },
  {
   "cell_type": "code",
   "execution_count": 9,
   "metadata": {},
   "outputs": [
    {
     "data": {
      "text/plain": [
       "VL_BENS                  489\n",
       "VR_DESPESA_CONTRATADA    513\n",
       "followers_count          371\n",
       "tweets                   364\n",
       "VOTOS_TOTAL_PARL         512\n",
       "PERC_VOTOS_PARL_EST      513\n",
       "IDHM_ponderado           506\n",
       "ORGAO_PARTICIPANTE        15\n",
       "ORGAO_TOTAL               16\n",
       "ORGAO_GESTOR               7\n",
       "PERC_PRESENCA             96\n",
       "TOTAL_PROPOSTAS           87\n",
       "GASTO_GABINETE           509\n",
       "dtype: int64"
      ]
     },
     "execution_count": 9,
     "metadata": {},
     "output_type": "execute_result"
    }
   ],
   "source": [
    "variaveis_numericas= df.select_dtypes(include=[np.number]).columns\n",
    "df[variaveis_numericas].nunique()"
   ]
  },
  {
   "cell_type": "code",
   "execution_count": 10,
   "metadata": {},
   "outputs": [
    {
     "data": {
      "text/plain": [
       "[]"
      ]
     },
     "execution_count": 10,
     "metadata": {},
     "output_type": "execute_result"
    }
   ],
   "source": [
    "cat_numericas=analisa_variaveis(df,variaveis_numericas,2)\n",
    "cat_numericas"
   ]
  },
  {
   "cell_type": "raw",
   "metadata": {},
   "source": [
    "#variaveis_categoricas.remove(\"time_spend_company\")\n",
    "cat_numericas.remove(\"ATS\")\n",
    "cat_numericas.remove(\"INS\")\n",
    "cat_numericas.remove(\"OFS\")\n",
    "cat_numericas.remove(\"PET\")\n",
    "cat_numericas.remove(\"PFS\")\n",
    "cat_numericas.remove(\"R.S\")\n"
   ]
  },
  {
   "cell_type": "raw",
   "metadata": {},
   "source": [
    "cat_numericas.remove(\"debatedor\")\n",
    "cat_numericas.remove(\"articulador\")\n",
    "cat_numericas.remove(\"formulador\")\n",
    "cat_numericas.remove(\"negociador\")"
   ]
  },
  {
   "cell_type": "code",
   "execution_count": 11,
   "metadata": {},
   "outputs": [
    {
     "name": "stdout",
     "output_type": "stream",
     "text": [
      "<class 'pandas.core.frame.DataFrame'>\n",
      "RangeIndex: 516 entries, 0 to 515\n",
      "Empty DataFrame"
     ]
    }
   ],
   "source": [
    "df[cat_numericas].info()\n"
   ]
  },
  {
   "cell_type": "code",
   "execution_count": 12,
   "metadata": {},
   "outputs": [
    {
     "data": {
      "text/plain": [
       "CPF                         513\n",
       "NM_CANDIDATO                513\n",
       "DT_NASCIMENTO               504\n",
       "NM_MUNICIPIO_NASCIMENTO     285\n",
       "DS_GRAU_INSTRUCAO             7\n",
       "NM_URNA_CANDIDATO           511\n",
       "NM_EMAIL                    490\n",
       "ID_CAMARA                   514\n",
       "categoria_idhm                5\n",
       "categoria_gasto_campanha     10\n",
       "FOLLOWERS_TIER                4\n",
       "categoria_votos               6\n",
       "VL_BENS_TIER                  3\n",
       "categoria_gastogabinete       5\n",
       "dtype: int64"
      ]
     },
     "execution_count": 12,
     "metadata": {},
     "output_type": "execute_result"
    }
   ],
   "source": [
    "variaveis_objeto=df.select_dtypes(include=\"object\").columns\n",
    "df[variaveis_objeto].nunique()"
   ]
  },
  {
   "cell_type": "code",
   "execution_count": 13,
   "metadata": {},
   "outputs": [
    {
     "name": "stdout",
     "output_type": "stream",
     "text": [
      "Variavel DS_GRAU_INSTRUCAO, 7 ocorrências únicas\n",
      "['SUPERIOR COMPLETO' 'SUPERIOR INCOMPLETO' 'ENSINO MÉDIO COMPLETO'\n",
      " 'LÊ E ESCREVE' 'ENSINO FUNDAMENTAL COMPLETO' 'ENSINO MÉDIO INCOMPLETO'\n",
      " 'ENSINO FUNDAMENTAL INCOMPLETO']\n",
      "Variavel categoria_idhm, 5 ocorrências únicas\n",
      "['IDHM_alto' 'IDHM_mediano' 'IDHM_baixo' 'IDHM_muitoalto'\n",
      " 'IDHM_muitobaixo']\n",
      "Variavel categoria_gasto_campanha, 10 ocorrências únicas\n",
      "['Gasto_Campanha_Perc10' 'Gasto_Campanha_Perc100' 'Gasto_Campanha_Perc20'\n",
      " 'Gasto_Campanha_Perc30' 'Gasto_Campanha_Perc50' 'Gasto_Campanha_Perc40'\n",
      " 'Gasto_Campanha_Perc60' 'Gasto_Campanha_Perc90' 'Gasto_Campanha_Perc80'\n",
      " 'Gasto_Campanha_Perc70']\n",
      "Variavel FOLLOWERS_TIER, 4 ocorrências únicas\n",
      "['Os Ascendentes' 'Os Analógicos' 'Os Antenados' 'Os influencers']\n",
      "Variavel categoria_votos, 6 ocorrências únicas\n",
      "['1%votos' '5%votos' '7%votos' '>7%votos' '3%votos' '2%votos']\n",
      "Variavel VL_BENS_TIER, 3 ocorrências únicas\n",
      "['Os Póbri' 'Os Rico' 'Os Milionário']\n",
      "Variavel categoria_gastogabinete, 5 ocorrências únicas\n",
      "['Gastão' 'Econômico' 'Muito Gastão' 'Mediano' 0]\n"
     ]
    }
   ],
   "source": [
    "cat_objeto=analisa_variaveis(df,variaveis_objeto,10)\n",
    "#cat_objeto"
   ]
  },
  {
   "cell_type": "raw",
   "metadata": {},
   "source": [
    "df[\"categoria_gastogabinete\"].sort_values()"
   ]
  },
  {
   "cell_type": "code",
   "execution_count": 14,
   "metadata": {},
   "outputs": [
    {
     "data": {
      "text/plain": [
       "['DS_GRAU_INSTRUCAO',\n",
       " 'categoria_idhm',\n",
       " 'categoria_gasto_campanha',\n",
       " 'FOLLOWERS_TIER',\n",
       " 'categoria_votos',\n",
       " 'VL_BENS_TIER',\n",
       " 'categoria_gastogabinete']"
      ]
     },
     "execution_count": 14,
     "metadata": {},
     "output_type": "execute_result"
    }
   ],
   "source": [
    "#variaveis_dummy=variaveis_categoricas[0:3]\n",
    "variaveis_categoricas=cat_numericas+cat_objeto\n",
    "variaveis_categoricas"
   ]
  },
  {
   "cell_type": "code",
   "execution_count": 15,
   "metadata": {},
   "outputs": [
    {
     "name": "stdout",
     "output_type": "stream",
     "text": [
      "<class 'pandas.core.frame.DataFrame'>\n",
      "RangeIndex: 516 entries, 0 to 515\n",
      "Data columns (total 27 columns):\n",
      " #   Column                    Non-Null Count  Dtype   \n",
      "---  ------                    --------------  -----   \n",
      " 0   CPF                       516 non-null    object  \n",
      " 1   NM_CANDIDATO              516 non-null    object  \n",
      " 2   DT_NASCIMENTO             516 non-null    object  \n",
      " 3   NM_MUNICIPIO_NASCIMENTO   516 non-null    object  \n",
      " 4   DS_GRAU_INSTRUCAO         516 non-null    category\n",
      " 5   VL_BENS                   516 non-null    float64 \n",
      " 6   NM_URNA_CANDIDATO         516 non-null    object  \n",
      " 7   NM_EMAIL                  516 non-null    object  \n",
      " 8   VR_DESPESA_CONTRATADA     516 non-null    float64 \n",
      " 9   followers_count           516 non-null    float64 \n",
      " 10  tweets                    516 non-null    float64 \n",
      " 11  VOTOS_TOTAL_PARL          516 non-null    int64   \n",
      " 12  PERC_VOTOS_PARL_EST       516 non-null    float64 \n",
      " 13  IDHM_ponderado            516 non-null    float64 \n",
      " 14  ID_CAMARA                 516 non-null    object  \n",
      " 15  categoria_idhm            516 non-null    category\n",
      " 16  categoria_gasto_campanha  516 non-null    category\n",
      " 17  FOLLOWERS_TIER            516 non-null    category\n",
      " 18  ORGAO_PARTICIPANTE        516 non-null    float64 \n",
      " 19  ORGAO_TOTAL               516 non-null    float64 \n",
      " 20  ORGAO_GESTOR              516 non-null    float64 \n",
      " 21  PERC_PRESENCA             516 non-null    float64 \n",
      " 22  categoria_votos           516 non-null    category\n",
      " 23  VL_BENS_TIER              516 non-null    category\n",
      " 24  TOTAL_PROPOSTAS           516 non-null    float64 \n",
      " 25  GASTO_GABINETE            516 non-null    float64 \n",
      " 26  categoria_gastogabinete   516 non-null    category\n",
      "dtypes: category(7), float64(12), int64(1), object(7)\n",
      "memory usage: 85.9+ KB\n"
     ]
    }
   ],
   "source": [
    "for variavel in variaveis_categoricas:\n",
    "    df[variavel]=df[variavel].astype(\"category\")\n",
    "df.info()\n",
    "#df.describe(include=np.object)"
   ]
  },
  {
   "cell_type": "code",
   "execution_count": 16,
   "metadata": {},
   "outputs": [
    {
     "data": {
      "text/plain": [
       "['VL_BENS',\n",
       " 'VR_DESPESA_CONTRATADA',\n",
       " 'followers_count',\n",
       " 'tweets',\n",
       " 'VOTOS_TOTAL_PARL',\n",
       " 'PERC_VOTOS_PARL_EST',\n",
       " 'IDHM_ponderado',\n",
       " 'ORGAO_PARTICIPANTE',\n",
       " 'ORGAO_TOTAL',\n",
       " 'ORGAO_GESTOR',\n",
       " 'PERC_PRESENCA',\n",
       " 'TOTAL_PROPOSTAS',\n",
       " 'GASTO_GABINETE']"
      ]
     },
     "execution_count": 16,
     "metadata": {},
     "output_type": "execute_result"
    },
    {
     "data": {
      "text/plain": [
       "['DS_GRAU_INSTRUCAO',\n",
       " 'categoria_idhm',\n",
       " 'categoria_gasto_campanha',\n",
       " 'FOLLOWERS_TIER',\n",
       " 'categoria_votos',\n",
       " 'VL_BENS_TIER',\n",
       " 'categoria_gastogabinete']"
      ]
     },
     "execution_count": 16,
     "metadata": {},
     "output_type": "execute_result"
    }
   ],
   "source": [
    "variaveis_numericas= list(df.select_dtypes(include=[np.number]).columns)\n",
    "variaveis_numericas\n",
    "variaveis_categoricas"
   ]
  },
  {
   "cell_type": "markdown",
   "metadata": {
    "slideshow": {
     "slide_type": "slide"
    }
   },
   "source": [
    "## Criação das variáveis dummies, categoricas e numéricas para modelo"
   ]
  },
  {
   "cell_type": "code",
   "execution_count": 17,
   "metadata": {},
   "outputs": [
    {
     "data": {
      "text/plain": [
       "VL_BENS                     489\n",
       "VR_DESPESA_CONTRATADA       513\n",
       "followers_count             371\n",
       "tweets                      364\n",
       "VOTOS_TOTAL_PARL            512\n",
       "PERC_VOTOS_PARL_EST         513\n",
       "IDHM_ponderado              506\n",
       "ORGAO_PARTICIPANTE           15\n",
       "ORGAO_TOTAL                  16\n",
       "ORGAO_GESTOR                  7\n",
       "PERC_PRESENCA                96\n",
       "TOTAL_PROPOSTAS              87\n",
       "GASTO_GABINETE              509\n",
       "DS_GRAU_INSTRUCAO             7\n",
       "categoria_idhm                5\n",
       "categoria_gasto_campanha     10\n",
       "FOLLOWERS_TIER                4\n",
       "categoria_votos               6\n",
       "VL_BENS_TIER                  3\n",
       "categoria_gastogabinete       5\n",
       "dtype: int64"
      ]
     },
     "execution_count": 17,
     "metadata": {},
     "output_type": "execute_result"
    }
   ],
   "source": [
    "variaveis_numericas=list(df.select_dtypes(include=[np.number]).columns)\n",
    "variaveis_categoricas= list(df.select_dtypes(include=\"category\").columns)\n",
    "variaveis_modelo=variaveis_numericas+variaveis_categoricas\n",
    "\n",
    "df[variaveis_modelo].nunique()"
   ]
  },
  {
   "cell_type": "raw",
   "metadata": {},
   "source": [
    "df.drop(columns=[\"DS_GENERO\",\"DS_GRAU_INSTRUCAO\",\n",
    "                 \"DS_ESTADO_CIVIL\",\"DS_COR_RACA\",\n",
    "                 \"DS_OCUPACAO\",\"ANO_ELEICAO\",\"SG_PARTIDO\",\"SG_UE\",\n",
    "                 \"SG_UF_NASCIMENTO\",\"IDADE\"], inplace=True)"
   ]
  },
  {
   "cell_type": "code",
   "execution_count": 18,
   "metadata": {},
   "outputs": [],
   "source": [
    "variaveis_dummy=[]"
   ]
  },
  {
   "cell_type": "code",
   "execution_count": 19,
   "metadata": {},
   "outputs": [
    {
     "data": {
      "text/plain": [
       "['DS_GRAU_INSTRUCAO',\n",
       " 'categoria_idhm',\n",
       " 'categoria_gasto_campanha',\n",
       " 'FOLLOWERS_TIER',\n",
       " 'categoria_votos',\n",
       " 'VL_BENS_TIER',\n",
       " 'categoria_gastogabinete']"
      ]
     },
     "execution_count": 19,
     "metadata": {},
     "output_type": "execute_result"
    }
   ],
   "source": [
    "#variaveis_categoricas.remove(target[0])\n",
    "#variaveis_dummy.remove(target[0])\n",
    "hot_encoding=variaveis_categoricas\n",
    "hot_encoding"
   ]
  },
  {
   "cell_type": "raw",
   "metadata": {},
   "source": [
    "hot_encoding.remove(\"debatedor\")\n",
    "hot_encoding.remove(\"articulador\")\n",
    "hot_encoding.remove(\"formulador\")\n",
    "hot_encoding.remove(\"negociador\")\n",
    "hot_encoding"
   ]
  },
  {
   "cell_type": "code",
   "execution_count": 20,
   "metadata": {},
   "outputs": [],
   "source": [
    "df_original=df.copy()\n"
   ]
  },
  {
   "cell_type": "code",
   "execution_count": 21,
   "metadata": {},
   "outputs": [
    {
     "data": {
      "text/html": [
       "<div>\n",
       "<style scoped>\n",
       "    .dataframe tbody tr th:only-of-type {\n",
       "        vertical-align: middle;\n",
       "    }\n",
       "\n",
       "    .dataframe tbody tr th {\n",
       "        vertical-align: top;\n",
       "    }\n",
       "\n",
       "    .dataframe thead th {\n",
       "        text-align: right;\n",
       "    }\n",
       "</style>\n",
       "<table border=\"1\" class=\"dataframe\">\n",
       "  <thead>\n",
       "    <tr style=\"text-align: right;\">\n",
       "      <th></th>\n",
       "      <th>CPF</th>\n",
       "      <th>NM_CANDIDATO</th>\n",
       "      <th>DT_NASCIMENTO</th>\n",
       "      <th>NM_MUNICIPIO_NASCIMENTO</th>\n",
       "      <th>DS_GRAU_INSTRUCAO</th>\n",
       "      <th>VL_BENS</th>\n",
       "      <th>NM_URNA_CANDIDATO</th>\n",
       "      <th>NM_EMAIL</th>\n",
       "      <th>VR_DESPESA_CONTRATADA</th>\n",
       "      <th>followers_count</th>\n",
       "      <th>...</th>\n",
       "      <th>FOLLOWERS_TIER</th>\n",
       "      <th>ORGAO_PARTICIPANTE</th>\n",
       "      <th>ORGAO_TOTAL</th>\n",
       "      <th>ORGAO_GESTOR</th>\n",
       "      <th>PERC_PRESENCA</th>\n",
       "      <th>categoria_votos</th>\n",
       "      <th>VL_BENS_TIER</th>\n",
       "      <th>TOTAL_PROPOSTAS</th>\n",
       "      <th>GASTO_GABINETE</th>\n",
       "      <th>categoria_gastogabinete</th>\n",
       "    </tr>\n",
       "  </thead>\n",
       "  <tbody>\n",
       "    <tr>\n",
       "      <th>231</th>\n",
       "      <td>74989910478</td>\n",
       "      <td>WOLNEY QUEIROZ MACIEL</td>\n",
       "      <td>12/12/1972</td>\n",
       "      <td>CARUARU</td>\n",
       "      <td>SUPERIOR INCOMPLETO</td>\n",
       "      <td>2181659.00</td>\n",
       "      <td>WOLNEY QUEIROZ</td>\n",
       "      <td>WOLNEYQM@UOL.COM.BR</td>\n",
       "      <td>749731.40</td>\n",
       "      <td>4818.0</td>\n",
       "      <td>...</td>\n",
       "      <td>Os Ascendentes</td>\n",
       "      <td>2.0</td>\n",
       "      <td>3.0</td>\n",
       "      <td>1.0</td>\n",
       "      <td>0.924</td>\n",
       "      <td>3%votos</td>\n",
       "      <td>Os Rico</td>\n",
       "      <td>8.0</td>\n",
       "      <td>531212.24</td>\n",
       "      <td>Mediano</td>\n",
       "    </tr>\n",
       "    <tr>\n",
       "      <th>343</th>\n",
       "      <td>37040642034</td>\n",
       "      <td>JOSÉ ALFONSO EBERT HAMM</td>\n",
       "      <td>25/04/1962</td>\n",
       "      <td>HULHA NEGRE</td>\n",
       "      <td>SUPERIOR COMPLETO</td>\n",
       "      <td>1375438.99</td>\n",
       "      <td>AFONSO HAMM</td>\n",
       "      <td>AFONSOHAMM1166@GMAIL.COM</td>\n",
       "      <td>1465212.43</td>\n",
       "      <td>2936.0</td>\n",
       "      <td>...</td>\n",
       "      <td>Os Ascendentes</td>\n",
       "      <td>2.0</td>\n",
       "      <td>3.0</td>\n",
       "      <td>1.0</td>\n",
       "      <td>0.932</td>\n",
       "      <td>5%votos</td>\n",
       "      <td>Os Rico</td>\n",
       "      <td>4.0</td>\n",
       "      <td>589451.09</td>\n",
       "      <td>Gastão</td>\n",
       "    </tr>\n",
       "    <tr>\n",
       "      <th>448</th>\n",
       "      <td>18746420959</td>\n",
       "      <td>RUBENS BUENO</td>\n",
       "      <td>23/05/1948</td>\n",
       "      <td>SERTANÓPOLIS</td>\n",
       "      <td>SUPERIOR COMPLETO</td>\n",
       "      <td>2030239.54</td>\n",
       "      <td>RUBENS BUENO</td>\n",
       "      <td>RBUENO23@GMAIL.COM</td>\n",
       "      <td>1264162.11</td>\n",
       "      <td>14745.0</td>\n",
       "      <td>...</td>\n",
       "      <td>Os Antenados</td>\n",
       "      <td>2.0</td>\n",
       "      <td>4.0</td>\n",
       "      <td>2.0</td>\n",
       "      <td>0.900</td>\n",
       "      <td>3%votos</td>\n",
       "      <td>Os Rico</td>\n",
       "      <td>54.0</td>\n",
       "      <td>546341.03</td>\n",
       "      <td>Gastão</td>\n",
       "    </tr>\n",
       "    <tr>\n",
       "      <th>395</th>\n",
       "      <td>01818961415</td>\n",
       "      <td>LUCIANO CALDAS BIVAR</td>\n",
       "      <td>29/11/1944</td>\n",
       "      <td>RECIFE</td>\n",
       "      <td>SUPERIOR COMPLETO</td>\n",
       "      <td>17980493.66</td>\n",
       "      <td>LUCIANO BIVAR</td>\n",
       "      <td>SILVANIA@EXCELSIORSEGUROS.COM.BR</td>\n",
       "      <td>1936189.51</td>\n",
       "      <td>1055.0</td>\n",
       "      <td>...</td>\n",
       "      <td>Os Ascendentes</td>\n",
       "      <td>0.0</td>\n",
       "      <td>1.0</td>\n",
       "      <td>1.0</td>\n",
       "      <td>0.680</td>\n",
       "      <td>5%votos</td>\n",
       "      <td>Os Milionário</td>\n",
       "      <td>2.0</td>\n",
       "      <td>273980.94</td>\n",
       "      <td>Econômico</td>\n",
       "    </tr>\n",
       "    <tr>\n",
       "      <th>409</th>\n",
       "      <td>03572972612</td>\n",
       "      <td>MARCELO EDUARDO FREITAS</td>\n",
       "      <td>04/03/1976</td>\n",
       "      <td>MONTES CLAROS</td>\n",
       "      <td>SUPERIOR COMPLETO</td>\n",
       "      <td>1362047.54</td>\n",
       "      <td>DELEGADO MARCELO FREITAS</td>\n",
       "      <td>DELEGADOMARCELOFREITAS@GMAIL.COM</td>\n",
       "      <td>353624.00</td>\n",
       "      <td>3245.0</td>\n",
       "      <td>...</td>\n",
       "      <td>Os Ascendentes</td>\n",
       "      <td>1.0</td>\n",
       "      <td>2.0</td>\n",
       "      <td>1.0</td>\n",
       "      <td>0.956</td>\n",
       "      <td>2%votos</td>\n",
       "      <td>Os Rico</td>\n",
       "      <td>22.0</td>\n",
       "      <td>611747.90</td>\n",
       "      <td>Muito Gastão</td>\n",
       "    </tr>\n",
       "  </tbody>\n",
       "</table>\n",
       "<p>5 rows × 27 columns</p>\n",
       "</div>"
      ],
      "text/plain": [
       "             CPF             NM_CANDIDATO DT_NASCIMENTO  \\\n",
       "231  74989910478    WOLNEY QUEIROZ MACIEL    12/12/1972   \n",
       "343  37040642034  JOSÉ ALFONSO EBERT HAMM    25/04/1962   \n",
       "448  18746420959             RUBENS BUENO    23/05/1948   \n",
       "395  01818961415     LUCIANO CALDAS BIVAR    29/11/1944   \n",
       "409  03572972612  MARCELO EDUARDO FREITAS    04/03/1976   \n",
       "\n",
       "    NM_MUNICIPIO_NASCIMENTO    DS_GRAU_INSTRUCAO      VL_BENS  \\\n",
       "231                 CARUARU  SUPERIOR INCOMPLETO   2181659.00   \n",
       "343             HULHA NEGRE    SUPERIOR COMPLETO   1375438.99   \n",
       "448            SERTANÓPOLIS    SUPERIOR COMPLETO   2030239.54   \n",
       "395                  RECIFE    SUPERIOR COMPLETO  17980493.66   \n",
       "409           MONTES CLAROS    SUPERIOR COMPLETO   1362047.54   \n",
       "\n",
       "            NM_URNA_CANDIDATO                          NM_EMAIL  \\\n",
       "231            WOLNEY QUEIROZ               WOLNEYQM@UOL.COM.BR   \n",
       "343               AFONSO HAMM          AFONSOHAMM1166@GMAIL.COM   \n",
       "448              RUBENS BUENO                RBUENO23@GMAIL.COM   \n",
       "395             LUCIANO BIVAR  SILVANIA@EXCELSIORSEGUROS.COM.BR   \n",
       "409  DELEGADO MARCELO FREITAS  DELEGADOMARCELOFREITAS@GMAIL.COM   \n",
       "\n",
       "     VR_DESPESA_CONTRATADA  followers_count  ...  FOLLOWERS_TIER  \\\n",
       "231              749731.40           4818.0  ...  Os Ascendentes   \n",
       "343             1465212.43           2936.0  ...  Os Ascendentes   \n",
       "448             1264162.11          14745.0  ...    Os Antenados   \n",
       "395             1936189.51           1055.0  ...  Os Ascendentes   \n",
       "409              353624.00           3245.0  ...  Os Ascendentes   \n",
       "\n",
       "     ORGAO_PARTICIPANTE  ORGAO_TOTAL  ORGAO_GESTOR PERC_PRESENCA  \\\n",
       "231                 2.0          3.0           1.0         0.924   \n",
       "343                 2.0          3.0           1.0         0.932   \n",
       "448                 2.0          4.0           2.0         0.900   \n",
       "395                 0.0          1.0           1.0         0.680   \n",
       "409                 1.0          2.0           1.0         0.956   \n",
       "\n",
       "    categoria_votos   VL_BENS_TIER TOTAL_PROPOSTAS  GASTO_GABINETE  \\\n",
       "231         3%votos        Os Rico             8.0       531212.24   \n",
       "343         5%votos        Os Rico             4.0       589451.09   \n",
       "448         3%votos        Os Rico            54.0       546341.03   \n",
       "395         5%votos  Os Milionário             2.0       273980.94   \n",
       "409         2%votos        Os Rico            22.0       611747.90   \n",
       "\n",
       "     categoria_gastogabinete  \n",
       "231                  Mediano  \n",
       "343                   Gastão  \n",
       "448                   Gastão  \n",
       "395                Econômico  \n",
       "409             Muito Gastão  \n",
       "\n",
       "[5 rows x 27 columns]"
      ]
     },
     "execution_count": 21,
     "metadata": {},
     "output_type": "execute_result"
    },
    {
     "data": {
      "text/plain": [
       "Index(['CPF', 'NM_CANDIDATO', 'DT_NASCIMENTO', 'NM_MUNICIPIO_NASCIMENTO',\n",
       "       'DS_GRAU_INSTRUCAO', 'VL_BENS', 'NM_URNA_CANDIDATO', 'NM_EMAIL',\n",
       "       'VR_DESPESA_CONTRATADA', 'followers_count', 'tweets',\n",
       "       'VOTOS_TOTAL_PARL', 'PERC_VOTOS_PARL_EST', 'IDHM_ponderado',\n",
       "       'ID_CAMARA', 'categoria_idhm', 'categoria_gasto_campanha',\n",
       "       'FOLLOWERS_TIER', 'ORGAO_PARTICIPANTE', 'ORGAO_TOTAL', 'ORGAO_GESTOR',\n",
       "       'PERC_PRESENCA', 'categoria_votos', 'VL_BENS_TIER', 'TOTAL_PROPOSTAS',\n",
       "       'GASTO_GABINETE', 'categoria_gastogabinete'],\n",
       "      dtype='object')"
      ]
     },
     "execution_count": 21,
     "metadata": {},
     "output_type": "execute_result"
    }
   ],
   "source": [
    "# Trata variaveis binárias (0-1)\n",
    "#df_original=df.copy()\n",
    "for variavel in variaveis_dummy:\n",
    "    df=pd.concat([df, pd.get_dummies(df[variavel].astype(object), prefix=variavel, drop_first=True)], axis=1)\n",
    "    df.drop(columns=[variavel], inplace=True)\n",
    "df.sample(5)\n",
    "df.columns"
   ]
  },
  {
   "cell_type": "code",
   "execution_count": 22,
   "metadata": {},
   "outputs": [
    {
     "data": {
      "text/plain": [
       "Index(['CPF', 'NM_CANDIDATO', 'DT_NASCIMENTO', 'NM_MUNICIPIO_NASCIMENTO',\n",
       "       'VL_BENS', 'NM_URNA_CANDIDATO', 'NM_EMAIL', 'VR_DESPESA_CONTRATADA',\n",
       "       'followers_count', 'tweets', 'VOTOS_TOTAL_PARL', 'PERC_VOTOS_PARL_EST',\n",
       "       'IDHM_ponderado', 'ID_CAMARA', 'ORGAO_PARTICIPANTE', 'ORGAO_TOTAL',\n",
       "       'ORGAO_GESTOR', 'PERC_PRESENCA', 'TOTAL_PROPOSTAS', 'GASTO_GABINETE',\n",
       "       'DS_GRAU_INSTRUCAO_ENSINO FUNDAMENTAL INCOMPLETO',\n",
       "       'DS_GRAU_INSTRUCAO_ENSINO MÉDIO COMPLETO',\n",
       "       'DS_GRAU_INSTRUCAO_ENSINO MÉDIO INCOMPLETO',\n",
       "       'DS_GRAU_INSTRUCAO_LÊ E ESCREVE', 'DS_GRAU_INSTRUCAO_SUPERIOR COMPLETO',\n",
       "       'DS_GRAU_INSTRUCAO_SUPERIOR INCOMPLETO', 'categoria_idhm_IDHM_baixo',\n",
       "       'categoria_idhm_IDHM_mediano', 'categoria_idhm_IDHM_muitoalto',\n",
       "       'categoria_idhm_IDHM_muitobaixo',\n",
       "       'categoria_gasto_campanha_Gasto_Campanha_Perc100',\n",
       "       'categoria_gasto_campanha_Gasto_Campanha_Perc20',\n",
       "       'categoria_gasto_campanha_Gasto_Campanha_Perc30',\n",
       "       'categoria_gasto_campanha_Gasto_Campanha_Perc40',\n",
       "       'categoria_gasto_campanha_Gasto_Campanha_Perc50',\n",
       "       'categoria_gasto_campanha_Gasto_Campanha_Perc60',\n",
       "       'categoria_gasto_campanha_Gasto_Campanha_Perc70',\n",
       "       'categoria_gasto_campanha_Gasto_Campanha_Perc80',\n",
       "       'categoria_gasto_campanha_Gasto_Campanha_Perc90',\n",
       "       'FOLLOWERS_TIER_Os Antenados', 'FOLLOWERS_TIER_Os Ascendentes',\n",
       "       'FOLLOWERS_TIER_Os influencers', 'categoria_votos_2%votos',\n",
       "       'categoria_votos_3%votos', 'categoria_votos_5%votos',\n",
       "       'categoria_votos_7%votos', 'categoria_votos_>7%votos',\n",
       "       'VL_BENS_TIER_Os Póbri', 'VL_BENS_TIER_Os Rico',\n",
       "       'categoria_gastogabinete_Econômico', 'categoria_gastogabinete_Gastão',\n",
       "       'categoria_gastogabinete_Mediano',\n",
       "       'categoria_gastogabinete_Muito Gastão'],\n",
       "      dtype='object')"
      ]
     },
     "execution_count": 22,
     "metadata": {},
     "output_type": "execute_result"
    }
   ],
   "source": [
    "#Trata variaveis \n",
    "#variaveis_categoricas=list(set(variaveis_categoricas)-set(variaveis_dummy))\n",
    "for variavel in hot_encoding:\n",
    "    df=pd.concat([df, pd.get_dummies(df[variavel].astype(object), prefix=variavel,drop_first=True)], axis=1)\n",
    "    df.drop(columns=[variavel], inplace=True)\n",
    "#df.sample(5)\n",
    "df.columns"
   ]
  },
  {
   "cell_type": "markdown",
   "metadata": {},
   "source": [
    "# Variáveis do modelo"
   ]
  },
  {
   "cell_type": "code",
   "execution_count": 23,
   "metadata": {},
   "outputs": [
    {
     "data": {
      "text/plain": [
       "Index(['CPF', 'NM_CANDIDATO', 'DT_NASCIMENTO', 'NM_MUNICIPIO_NASCIMENTO',\n",
       "       'VL_BENS', 'NM_URNA_CANDIDATO', 'NM_EMAIL', 'VR_DESPESA_CONTRATADA',\n",
       "       'followers_count', 'tweets', 'VOTOS_TOTAL_PARL', 'PERC_VOTOS_PARL_EST',\n",
       "       'IDHM_ponderado', 'ID_CAMARA', 'ORGAO_PARTICIPANTE', 'ORGAO_TOTAL',\n",
       "       'ORGAO_GESTOR', 'PERC_PRESENCA', 'TOTAL_PROPOSTAS', 'GASTO_GABINETE',\n",
       "       'DS_GRAU_INSTRUCAO_ENSINO FUNDAMENTAL INCOMPLETO',\n",
       "       'DS_GRAU_INSTRUCAO_ENSINO MÉDIO COMPLETO',\n",
       "       'DS_GRAU_INSTRUCAO_ENSINO MÉDIO INCOMPLETO',\n",
       "       'DS_GRAU_INSTRUCAO_LÊ E ESCREVE', 'DS_GRAU_INSTRUCAO_SUPERIOR COMPLETO',\n",
       "       'DS_GRAU_INSTRUCAO_SUPERIOR INCOMPLETO', 'categoria_idhm_IDHM_baixo',\n",
       "       'categoria_idhm_IDHM_mediano', 'categoria_idhm_IDHM_muitoalto',\n",
       "       'categoria_idhm_IDHM_muitobaixo',\n",
       "       'categoria_gasto_campanha_Gasto_Campanha_Perc100',\n",
       "       'categoria_gasto_campanha_Gasto_Campanha_Perc20',\n",
       "       'categoria_gasto_campanha_Gasto_Campanha_Perc30',\n",
       "       'categoria_gasto_campanha_Gasto_Campanha_Perc40',\n",
       "       'categoria_gasto_campanha_Gasto_Campanha_Perc50',\n",
       "       'categoria_gasto_campanha_Gasto_Campanha_Perc60',\n",
       "       'categoria_gasto_campanha_Gasto_Campanha_Perc70',\n",
       "       'categoria_gasto_campanha_Gasto_Campanha_Perc80',\n",
       "       'categoria_gasto_campanha_Gasto_Campanha_Perc90',\n",
       "       'FOLLOWERS_TIER_Os Antenados', 'FOLLOWERS_TIER_Os Ascendentes',\n",
       "       'FOLLOWERS_TIER_Os influencers', 'categoria_votos_2%votos',\n",
       "       'categoria_votos_3%votos', 'categoria_votos_5%votos',\n",
       "       'categoria_votos_7%votos', 'categoria_votos_>7%votos',\n",
       "       'VL_BENS_TIER_Os Póbri', 'VL_BENS_TIER_Os Rico',\n",
       "       'categoria_gastogabinete_Econômico', 'categoria_gastogabinete_Gastão',\n",
       "       'categoria_gastogabinete_Mediano',\n",
       "       'categoria_gastogabinete_Muito Gastão'],\n",
       "      dtype='object')"
      ]
     },
     "execution_count": 23,
     "metadata": {},
     "output_type": "execute_result"
    }
   ],
   "source": [
    "df.columns"
   ]
  },
  {
   "cell_type": "code",
   "execution_count": 24,
   "metadata": {},
   "outputs": [
    {
     "name": "stdout",
     "output_type": "stream",
     "text": [
      "<class 'pandas.core.frame.DataFrame'>\n",
      "RangeIndex: 516 entries, 0 to 515\n",
      "Data columns (total 53 columns):\n",
      " #   Column                                           Non-Null Count  Dtype  \n",
      "---  ------                                           --------------  -----  \n",
      " 0   CPF                                              516 non-null    object \n",
      " 1   NM_CANDIDATO                                     516 non-null    object \n",
      " 2   DT_NASCIMENTO                                    516 non-null    object \n",
      " 3   NM_MUNICIPIO_NASCIMENTO                          516 non-null    object \n",
      " 4   VL_BENS                                          516 non-null    float64\n",
      " 5   NM_URNA_CANDIDATO                                516 non-null    object \n",
      " 6   NM_EMAIL                                         516 non-null    object \n",
      " 7   VR_DESPESA_CONTRATADA                            516 non-null    float64\n",
      " 8   followers_count                                  516 non-null    float64\n",
      " 9   tweets                                           516 non-null    float64\n",
      " 10  VOTOS_TOTAL_PARL                                 516 non-null    int64  \n",
      " 11  PERC_VOTOS_PARL_EST                              516 non-null    float64\n",
      " 12  IDHM_ponderado                                   516 non-null    float64\n",
      " 13  ID_CAMARA                                        516 non-null    object \n",
      " 14  ORGAO_PARTICIPANTE                               516 non-null    float64\n",
      " 15  ORGAO_TOTAL                                      516 non-null    float64\n",
      " 16  ORGAO_GESTOR                                     516 non-null    float64\n",
      " 17  PERC_PRESENCA                                    516 non-null    float64\n",
      " 18  TOTAL_PROPOSTAS                                  516 non-null    float64\n",
      " 19  GASTO_GABINETE                                   516 non-null    float64\n",
      " 20  DS_GRAU_INSTRUCAO_ENSINO FUNDAMENTAL INCOMPLETO  516 non-null    uint8  \n",
      " 21  DS_GRAU_INSTRUCAO_ENSINO MÉDIO COMPLETO          516 non-null    uint8  \n",
      " 22  DS_GRAU_INSTRUCAO_ENSINO MÉDIO INCOMPLETO        516 non-null    uint8  \n",
      " 23  DS_GRAU_INSTRUCAO_LÊ E ESCREVE                   516 non-null    uint8  \n",
      " 24  DS_GRAU_INSTRUCAO_SUPERIOR COMPLETO              516 non-null    uint8  \n",
      " 25  DS_GRAU_INSTRUCAO_SUPERIOR INCOMPLETO            516 non-null    uint8  \n",
      " 26  categoria_idhm_IDHM_baixo                        516 non-null    uint8  \n",
      " 27  categoria_idhm_IDHM_mediano                      516 non-null    uint8  \n",
      " 28  categoria_idhm_IDHM_muitoalto                    516 non-null    uint8  \n",
      " 29  categoria_idhm_IDHM_muitobaixo                   516 non-null    uint8  \n",
      " 30  categoria_gasto_campanha_Gasto_Campanha_Perc100  516 non-null    uint8  \n",
      " 31  categoria_gasto_campanha_Gasto_Campanha_Perc20   516 non-null    uint8  \n",
      " 32  categoria_gasto_campanha_Gasto_Campanha_Perc30   516 non-null    uint8  \n",
      " 33  categoria_gasto_campanha_Gasto_Campanha_Perc40   516 non-null    uint8  \n",
      " 34  categoria_gasto_campanha_Gasto_Campanha_Perc50   516 non-null    uint8  \n",
      " 35  categoria_gasto_campanha_Gasto_Campanha_Perc60   516 non-null    uint8  \n",
      " 36  categoria_gasto_campanha_Gasto_Campanha_Perc70   516 non-null    uint8  \n",
      " 37  categoria_gasto_campanha_Gasto_Campanha_Perc80   516 non-null    uint8  \n",
      " 38  categoria_gasto_campanha_Gasto_Campanha_Perc90   516 non-null    uint8  \n",
      " 39  FOLLOWERS_TIER_Os Antenados                      516 non-null    uint8  \n",
      " 40  FOLLOWERS_TIER_Os Ascendentes                    516 non-null    uint8  \n",
      " 41  FOLLOWERS_TIER_Os influencers                    516 non-null    uint8  \n",
      " 42  categoria_votos_2%votos                          516 non-null    uint8  \n",
      " 43  categoria_votos_3%votos                          516 non-null    uint8  \n",
      " 44  categoria_votos_5%votos                          516 non-null    uint8  \n",
      " 45  categoria_votos_7%votos                          516 non-null    uint8  \n",
      " 46  categoria_votos_>7%votos                         516 non-null    uint8  \n",
      " 47  VL_BENS_TIER_Os Póbri                            516 non-null    uint8  \n",
      " 48  VL_BENS_TIER_Os Rico                             516 non-null    uint8  \n",
      " 49  categoria_gastogabinete_Econômico                516 non-null    uint8  \n",
      " 50  categoria_gastogabinete_Gastão                   516 non-null    uint8  \n",
      " 51  categoria_gastogabinete_Mediano                  516 non-null    uint8  \n",
      " 52  categoria_gastogabinete_Muito Gastão             516 non-null    uint8  \n",
      "dtypes: float64(12), int64(1), object(7), uint8(33)\n",
      "memory usage: 97.4+ KB\n"
     ]
    }
   ],
   "source": [
    "variaveis_numericas=list(df.select_dtypes(include=[np.number]).columns)\n",
    "variaveis_categoricas= list(df.select_dtypes(include=\"category\").columns)\n",
    "variaveis_modelo=variaveis_numericas+variaveis_categoricas\n",
    "#df[variaveis_modelo].info()\n",
    "df.info()"
   ]
  },
  {
   "cell_type": "code",
   "execution_count": 25,
   "metadata": {},
   "outputs": [
    {
     "name": "stderr",
     "output_type": "stream",
     "text": [
      "/home/carlos/anaconda3/envs/R/lib/python3.7/site-packages/pandas/core/generic.py:2663: UserWarning: The spaces in these column names will not be changed. In pandas versions < 0.14, spaces were converted to underscores.\n",
      "  method=method,\n"
     ]
    }
   ],
   "source": [
    "con = sql.connect(\"../../dados/sql/base_completa.db\")\n",
    "df.to_sql(\"tabela_analise\",con,if_exists=\"replace\", index=False, index_label=\"CPF\")\n",
    "con.close()"
   ]
  },
  {
   "cell_type": "code",
   "execution_count": 26,
   "metadata": {},
   "outputs": [
    {
     "data": {
      "text/plain": [
       "['CPF',\n",
       " 'NM_CANDIDATO',\n",
       " 'DT_NASCIMENTO',\n",
       " 'NM_MUNICIPIO_NASCIMENTO',\n",
       " 'VL_BENS',\n",
       " 'NM_URNA_CANDIDATO',\n",
       " 'NM_EMAIL',\n",
       " 'VR_DESPESA_CONTRATADA',\n",
       " 'followers_count',\n",
       " 'tweets',\n",
       " 'VOTOS_TOTAL_PARL',\n",
       " 'PERC_VOTOS_PARL_EST',\n",
       " 'IDHM_ponderado',\n",
       " 'ID_CAMARA',\n",
       " 'ORGAO_PARTICIPANTE',\n",
       " 'ORGAO_TOTAL',\n",
       " 'ORGAO_GESTOR',\n",
       " 'PERC_PRESENCA',\n",
       " 'TOTAL_PROPOSTAS',\n",
       " 'GASTO_GABINETE',\n",
       " 'DS_GRAU_INSTRUCAO_ENSINO FUNDAMENTAL INCOMPLETO',\n",
       " 'DS_GRAU_INSTRUCAO_ENSINO MÉDIO COMPLETO',\n",
       " 'DS_GRAU_INSTRUCAO_ENSINO MÉDIO INCOMPLETO',\n",
       " 'DS_GRAU_INSTRUCAO_LÊ E ESCREVE',\n",
       " 'DS_GRAU_INSTRUCAO_SUPERIOR COMPLETO',\n",
       " 'DS_GRAU_INSTRUCAO_SUPERIOR INCOMPLETO',\n",
       " 'categoria_idhm_IDHM_baixo',\n",
       " 'categoria_idhm_IDHM_mediano',\n",
       " 'categoria_idhm_IDHM_muitoalto',\n",
       " 'categoria_idhm_IDHM_muitobaixo',\n",
       " 'categoria_gasto_campanha_Gasto_Campanha_Perc100',\n",
       " 'categoria_gasto_campanha_Gasto_Campanha_Perc20',\n",
       " 'categoria_gasto_campanha_Gasto_Campanha_Perc30',\n",
       " 'categoria_gasto_campanha_Gasto_Campanha_Perc40',\n",
       " 'categoria_gasto_campanha_Gasto_Campanha_Perc50',\n",
       " 'categoria_gasto_campanha_Gasto_Campanha_Perc60',\n",
       " 'categoria_gasto_campanha_Gasto_Campanha_Perc70',\n",
       " 'categoria_gasto_campanha_Gasto_Campanha_Perc80',\n",
       " 'categoria_gasto_campanha_Gasto_Campanha_Perc90',\n",
       " 'FOLLOWERS_TIER_Os Antenados',\n",
       " 'FOLLOWERS_TIER_Os Ascendentes',\n",
       " 'FOLLOWERS_TIER_Os influencers',\n",
       " 'categoria_votos_2%votos',\n",
       " 'categoria_votos_3%votos',\n",
       " 'categoria_votos_5%votos',\n",
       " 'categoria_votos_7%votos',\n",
       " 'categoria_votos_>7%votos',\n",
       " 'VL_BENS_TIER_Os Póbri',\n",
       " 'VL_BENS_TIER_Os Rico',\n",
       " 'categoria_gastogabinete_Econômico',\n",
       " 'categoria_gastogabinete_Gastão',\n",
       " 'categoria_gastogabinete_Mediano',\n",
       " 'categoria_gastogabinete_Muito Gastão']"
      ]
     },
     "execution_count": 26,
     "metadata": {},
     "output_type": "execute_result"
    }
   ],
   "source": [
    "lista_0=list(df.columns)\n",
    "lista_0"
   ]
  },
  {
   "cell_type": "code",
   "execution_count": 27,
   "metadata": {},
   "outputs": [],
   "source": [
    "Lista_continuas=['VL_BENS', 'VR_DESPESA_CONTRATADA', 'followers_count', \n",
    "                 'tweets', 'PERC_VOTOS_PARL_EST','ORGAO_PARTICIPANTE',\n",
    "                 \"ORGAO_TOTAL\", 'ORGAO_GESTOR', 'PERC_PRESENCA', 'TOTAL_PROPOSTAS',\n",
    "                 'GASTO_GABINETE']"
   ]
  },
  {
   "cell_type": "code",
   "execution_count": 28,
   "metadata": {},
   "outputs": [],
   "source": [
    "#df[variaveis_modelo].info()\n",
    "#Variaveis cadastro\n",
    "#variaveis_modelo.remove(\"tweets\")\n",
    "#variaveis_modelo.remove(\"followers_count\")\n",
    "#variaveis_modelo.remove(\"VL_BENS\")\n",
    "#variaveis_modelo.remove(\"VR_DESPESA_CONTRATADA\")\n",
    "\n",
    "# variaveis DIAP\n",
    "#variaveis_modelo.remove(\"mandatos\")\n",
    "#variaveis_modelo.remove(\"cabeças\")\n",
    "#variaveis_modelo.remove(\"formulador\")\n",
    "#variaveis_modelo.remove(\"debatedor\")\n",
    "#variaveis_modelo.remove(\"articulador\")\n",
    "#variaveis_modelo.remove(\"negociador\")\n",
    "\n",
    "# variáveis assiduidade\n",
    "#variaveis_modelo.remove(\"PRESENCA\")\n",
    "#variaveis_modelo.remove(\"AUSENCIA\")\n",
    "\n",
    "#Variáveis propostas\n",
    "#variaveis_modelo.remove(\"PL\")\n",
    "#variaveis_modelo.remove(\"PEC\")\n",
    "#variaveis_modelo.remove(\"REQ\")\n",
    "#variaveis_modelo.remove(\"PROP_TOTAL\")\n",
    "\n",
    "# variáveis cargo\n",
    "#variaveis_modelo.remove(\"MESA_Sim\")\n",
    "#variaveis_modelo.remove(\"LIDERANCA_Sim\")"
   ]
  },
  {
   "cell_type": "raw",
   "metadata": {},
   "source": [
    "df[\"PEC\"]=df[\"PEC\"]**2\n",
    "df[\"PEC\"].describe()"
   ]
  },
  {
   "cell_type": "markdown",
   "metadata": {},
   "source": [
    "## Escala dos preditores"
   ]
  },
  {
   "cell_type": "code",
   "execution_count": 29,
   "metadata": {},
   "outputs": [],
   "source": [
    "def verifica_escala(preditores,df):\n",
    "    x=df[preditores].values\n",
    "    plt.plot(x.min(axis=0),\"o\", label=\"min\")\n",
    "    plt.plot(x.max(axis=0),\"^\", label=\"max\")\n",
    "    plt.legend(loc=\"best\")\n",
    "    plt.xlabel(\"Índice da variável\")\n",
    "    plt.ylabel(\"Magnitude da variável\")\n",
    "    plt.yscale(\"log\")\n",
    "    print(df[preditores].max().round(3))"
   ]
  },
  {
   "cell_type": "code",
   "execution_count": 30,
   "metadata": {},
   "outputs": [
    {
     "name": "stdout",
     "output_type": "stream",
     "text": [
      "VL_BENS                                            1.198105e+08\n",
      "VR_DESPESA_CONTRATADA                              2.591858e+06\n",
      "followers_count                                    2.979333e+06\n",
      "tweets                                             1.121320e+05\n",
      "VOTOS_TOTAL_PARL                                   1.843735e+06\n",
      "PERC_VOTOS_PARL_EST                                2.400000e-01\n",
      "IDHM_ponderado                                     8.240000e-01\n",
      "ORGAO_PARTICIPANTE                                 1.500000e+01\n",
      "ORGAO_TOTAL                                        1.700000e+01\n",
      "ORGAO_GESTOR                                       6.000000e+00\n",
      "PERC_PRESENCA                                      1.000000e+00\n",
      "TOTAL_PROPOSTAS                                    1.940000e+02\n",
      "GASTO_GABINETE                                     8.533977e+05\n",
      "DS_GRAU_INSTRUCAO_ENSINO FUNDAMENTAL INCOMPLETO    1.000000e+00\n",
      "DS_GRAU_INSTRUCAO_ENSINO MÉDIO COMPLETO            1.000000e+00\n",
      "DS_GRAU_INSTRUCAO_ENSINO MÉDIO INCOMPLETO          1.000000e+00\n",
      "DS_GRAU_INSTRUCAO_LÊ E ESCREVE                     1.000000e+00\n",
      "DS_GRAU_INSTRUCAO_SUPERIOR COMPLETO                1.000000e+00\n",
      "DS_GRAU_INSTRUCAO_SUPERIOR INCOMPLETO              1.000000e+00\n",
      "categoria_idhm_IDHM_baixo                          1.000000e+00\n",
      "categoria_idhm_IDHM_mediano                        1.000000e+00\n",
      "categoria_idhm_IDHM_muitoalto                      1.000000e+00\n",
      "categoria_idhm_IDHM_muitobaixo                     1.000000e+00\n",
      "categoria_gasto_campanha_Gasto_Campanha_Perc100    1.000000e+00\n",
      "categoria_gasto_campanha_Gasto_Campanha_Perc20     1.000000e+00\n",
      "categoria_gasto_campanha_Gasto_Campanha_Perc30     1.000000e+00\n",
      "categoria_gasto_campanha_Gasto_Campanha_Perc40     1.000000e+00\n",
      "categoria_gasto_campanha_Gasto_Campanha_Perc50     1.000000e+00\n",
      "categoria_gasto_campanha_Gasto_Campanha_Perc60     1.000000e+00\n",
      "categoria_gasto_campanha_Gasto_Campanha_Perc70     1.000000e+00\n",
      "categoria_gasto_campanha_Gasto_Campanha_Perc80     1.000000e+00\n",
      "categoria_gasto_campanha_Gasto_Campanha_Perc90     1.000000e+00\n",
      "FOLLOWERS_TIER_Os Antenados                        1.000000e+00\n",
      "FOLLOWERS_TIER_Os Ascendentes                      1.000000e+00\n",
      "FOLLOWERS_TIER_Os influencers                      1.000000e+00\n",
      "categoria_votos_2%votos                            1.000000e+00\n",
      "categoria_votos_3%votos                            1.000000e+00\n",
      "categoria_votos_5%votos                            1.000000e+00\n",
      "categoria_votos_7%votos                            1.000000e+00\n",
      "categoria_votos_>7%votos                           1.000000e+00\n",
      "VL_BENS_TIER_Os Póbri                              1.000000e+00\n",
      "VL_BENS_TIER_Os Rico                               1.000000e+00\n",
      "categoria_gastogabinete_Econômico                  1.000000e+00\n",
      "categoria_gastogabinete_Gastão                     1.000000e+00\n",
      "categoria_gastogabinete_Mediano                    1.000000e+00\n",
      "categoria_gastogabinete_Muito Gastão               1.000000e+00\n",
      "dtype: float64\n"
     ]
    },
    {
     "data": {
      "image/png": "[encoded data removed]",
      "text/plain": [
       "<Figure size 864x576 with 1 Axes>"
      ]
     },
     "metadata": {
      "needs_background": "light"
     },
     "output_type": "display_data"
    }
   ],
   "source": [
    "verifica_escala(variaveis_modelo,df)"
   ]
  },
  {
   "cell_type": "code",
   "execution_count": null,
   "metadata": {},
   "outputs": [],
   "source": [
    "from sklearn.preprocessing import MinMaxScaler\n",
    "scaler = MinMaxScaler()\n",
    "scaler.fit(df[variaveis_modelo].values)\n",
    "x=scaler.transform(df[variaveis_modelo].values)\n",
    "df_scaled=pd.DataFrame(x,columns=variaveis_modelo)\n",
    "df_scaled.head()\n",
    "#df_original=df.copy()\n",
    "df=df_scaled.copy()"
   ]
  },
  {
   "cell_type": "code",
   "execution_count": null,
   "metadata": {},
   "outputs": [],
   "source": [
    "df.describe()"
   ]
  },
  {
   "cell_type": "markdown",
   "metadata": {},
   "source": [
    "## Visualizando com PCA"
   ]
  },
  {
   "cell_type": "code",
   "execution_count": null,
   "metadata": {},
   "outputs": [],
   "source": [
    "x=df.values\n",
    "variaveis=list(df.columns)"
   ]
  },
  {
   "cell_type": "code",
   "execution_count": null,
   "metadata": {},
   "outputs": [],
   "source": [
    "from sklearn.decomposition import PCA\n",
    "# keep the first two principal components of the data\n",
    "pca = PCA(n_components=3)\n",
    "# fit PCA model \n",
    "pca.fit(x)\n",
    "# transform data onto the first two principal components\n",
    "x_pca = pca.transform(x)\n",
    "print(\"Original shape: {}\".format(str(x.shape)))\n",
    "print(\"Reduced shape: {}\".format(str(x_pca.shape)))\n",
    "df_pca=pd.DataFrame(x_pca,columns=[\"PC-1\",\"PC-2\",\"PC-3\"])"
   ]
  },
  {
   "cell_type": "code",
   "execution_count": null,
   "metadata": {},
   "outputs": [],
   "source": [
    "# plot first vs. second principal component, colored by class\n",
    "plt.figure(figsize=(8, 8))\n",
    "plt.scatter(x_pca[:, 0], x_pca[:, 1])\n",
    "#plt.legend(cancer.target_names, loc=\"best\")\n",
    "plt.gca().set_aspect(\"equal\")\n",
    "plt.xlabel(\"First principal component\")\n",
    "plt.ylabel(\"Second principal component\")\n"
   ]
  },
  {
   "cell_type": "code",
   "execution_count": null,
   "metadata": {},
   "outputs": [],
   "source": [
    "fig=px.scatter(df_pca, x='PC-1', y='PC-2', opacity=0.7)\n",
    "fig.show()"
   ]
  },
  {
   "cell_type": "raw",
   "metadata": {},
   "source": [
    "from mpl_toolkits.mplot3d import Axes3D\n",
    "fig = plt.figure()\n",
    "ax = fig.add_subplot(111, projection='3d')\n",
    "ax.scatter(df_pca['PC-1'], df_pca['PC-2'], df_pca['PC-3'], c='skyblue', s=30)\n",
    "ax.set_xlabel(\"First principal component\")\n",
    "ax.set_ylabel(\"Second principal component\")\n",
    "ax.set_zlabel(\"third principal component\")\n",
    "ax.view_init(20, -120)\n",
    "plt.show()"
   ]
  },
  {
   "cell_type": "code",
   "execution_count": null,
   "metadata": {},
   "outputs": [],
   "source": [
    "fig=px.scatter_3d(df_pca, x='PC-1', y='PC-2', z='PC-3',size_max=2, opacity=0.7, width=1000, height=900)\n",
    "fig.show()"
   ]
  },
  {
   "cell_type": "code",
   "execution_count": null,
   "metadata": {},
   "outputs": [],
   "source": [
    "df_pca_componentes=pd.DataFrame(pca.components_, columns=variaveis)\n",
    "print(\"PCA component shape: {}\".format(df_pca_componentes.shape))\n",
    "df_pca_componentes\n",
    "plt.figure(figsize=(12, 2))\n",
    "sns.heatmap(df_pca_componentes,annot=True, cmap=\"RdBu\")\n",
    "#(correlação,annot=True, vmin=-1, vmax=1)"
   ]
  },
  {
   "cell_type": "code",
   "execution_count": null,
   "metadata": {},
   "outputs": [],
   "source": [
    "def plot_pca_2d(x,y=True):\n",
    "    plt.figure(figsize=(8, 8))\n",
    "    if y.all():\n",
    "        plt.scatter(x[:, 0], x[:, 1])\n",
    "        plt.gca().set_aspect(\"equal\")\n",
    "    else:\n",
    "        clusters = unique(y)\n",
    "        for cluster in clusters:\n",
    "            row_ix = where(y == cluster)\n",
    "            # create scatter of these samples\n",
    "            plt.scatter(x[row_ix, 0], x[row_ix, 1])\n",
    "    plt.xlabel(\"First principal component\")\n",
    "    plt.ylabel(\"Second principal component\")\n",
    "    plt.legend(clusters, loc=\"best\")\n",
    "    plt.show()\n",
    "    if clusters[0]==-1:\n",
    "        quant=np.bincount(y+1)\n",
    "    else:\n",
    "        quant=np.bincount(y)\n",
    "    frame=pd.DataFrame({\"cluster\":clusters,\"quant\":quant})\n",
    "    print(\"Número de componentes \\n{}\".format(frame))\n",
    "    "
   ]
  },
  {
   "cell_type": "code",
   "execution_count": null,
   "metadata": {},
   "outputs": [],
   "source": [
    "def plot_pca_2d_px(df,cluster):\n",
    "    df[\"cluster\"]=cluster\n",
    "    fig=px.scatter(df, x='PC-1', y='PC-2', color=cluster, opacity=0.7)\n",
    "    fig.show()\n",
    "    if clusters[0]==-1:\n",
    "        quant=np.bincount(cluster+1)\n",
    "    else:\n",
    "        quant=np.bincount(cluster)\n",
    "    frame=pd.DataFrame({\"cluster\":clusters,\"quant\":quant})\n",
    "    print(\"Número de componentes \\n{}\".format(frame))\n",
    "    "
   ]
  },
  {
   "cell_type": "code",
   "execution_count": null,
   "metadata": {},
   "outputs": [],
   "source": [
    "def plot_pca_3d(x,y=True):\n",
    "    fig = plt.figure()\n",
    "    ax = fig.add_subplot(111, projection='3d')\n",
    "    if y.all():\n",
    "        ax.scatter(x[:, 0], x[:, 1],x[:,2])\n",
    "        ax.gca().set_aspect(\"equal\")\n",
    "    else:\n",
    "        clusters = unique(y)\n",
    "        for cluster in clusters:\n",
    "            row_ix = where(y == cluster)\n",
    "            # create scatter of these samples\n",
    "            ax.scatter(x[row_ix, 0], x[row_ix, 1],x[row_ix, 2], s=20)\n",
    "    ax.set_xlabel(\"PC-1\")\n",
    "    ax.set_ylabel(\"PC-2\")\n",
    "    ax.set_zlabel(\"PC-3\")\n",
    "    ax.legend(clusters, loc='upper left')\n",
    "    ax.view_init(35, -120)\n",
    "    plt.show()\n",
    "    if clusters[0]==-1:\n",
    "        quant=np.bincount(y+1)\n",
    "    else:\n",
    "        quant=np.bincount(y)\n",
    "    frame=pd.DataFrame({\"cluster\":clusters,\"quant\":quant})\n",
    "    print(\"Número de componentes \\n{}\".format(frame))\n",
    "    "
   ]
  },
  {
   "cell_type": "code",
   "execution_count": null,
   "metadata": {},
   "outputs": [],
   "source": [
    "def plot_pca_3d_px(df,cluster):\n",
    "    df[\"cluster\"]=cluster\n",
    "    fig=px.scatter_3d(df_pca, x='PC-1', y='PC-2', z='PC-3', color=cluster, opacity=0.7, width=1000, height=900)\n",
    "    fig.show()\n",
    "    if clusters[0]==-1:\n",
    "        quant=np.bincount(cluster+1)\n",
    "    else:\n",
    "        quant=np.bincount(cluster)\n",
    "    frame=pd.DataFrame({\"cluster\":clusters,\"quant\":quant})\n",
    "    print(\"Número de componentes \\n{}\".format(frame))"
   ]
  },
  {
   "cell_type": "markdown",
   "metadata": {},
   "source": [
    "## ajustando variáveis"
   ]
  },
  {
   "cell_type": "code",
   "execution_count": null,
   "metadata": {},
   "outputs": [],
   "source": [
    "x=df.values"
   ]
  },
  {
   "cell_type": "markdown",
   "metadata": {},
   "source": [
    "## K-mean\n"
   ]
  },
  {
   "cell_type": "markdown",
   "metadata": {},
   "source": [
    "## Verificando o número de clusters via inércia"
   ]
  },
  {
   "cell_type": "code",
   "execution_count": null,
   "metadata": {},
   "outputs": [],
   "source": [
    "kvalues=range(1,50)\n",
    "kvalues\n",
    "inercia=[]\n",
    "for k in kvalues:\n",
    "    modelo=KMeans(n_clusters=k, init='k-means++')\n",
    "    modelo.fit(x)\n",
    "    inercia.append(modelo.inertia_)\n",
    "df_inercia=pd.DataFrame({\"Inercia\":inercia, \"K\":kvalues}) \n",
    "df_inercia.plot(\"K\",\"Inercia\", marker='o')"
   ]
  },
  {
   "cell_type": "code",
   "execution_count": null,
   "metadata": {},
   "outputs": [],
   "source": [
    "# defining the kmeans function with initialization as k-means++\n",
    "modelo = KMeans(n_clusters=6, init='k-means++')\n",
    "\n",
    "# fitting the k means algorithm on scaled data\n",
    "modelo.fit(x)\n",
    "yhat = modelo.predict(x)\n",
    "clusters = unique(yhat)\n",
    "#print(variaveis_modelo)\n"
   ]
  },
  {
   "cell_type": "code",
   "execution_count": null,
   "metadata": {},
   "outputs": [],
   "source": [
    "plot_pca_2d(x_pca,yhat)\n",
    "plot_pca_3d(x_pca,yhat)\n",
    "plt.figure(figsize=(12, 2))\n",
    "sns.heatmap(df_pca_componentes,annot=True, cmap=\"RdBu\")\n",
    "plot_pca_2d_px(df_pca,yhat)\n",
    "plot_pca_3d_px(df_pca,yhat)"
   ]
  },
  {
   "cell_type": "code",
   "execution_count": null,
   "metadata": {},
   "outputs": [],
   "source": [
    "df_kmeans=df_original.copy()\n",
    "df_kmeans[\"cluster\"]=yhat\n",
    "df_kmeans.sample(5)"
   ]
  },
  {
   "cell_type": "markdown",
   "metadata": {},
   "source": [
    "## Mean-shift\n"
   ]
  },
  {
   "cell_type": "code",
   "execution_count": null,
   "metadata": {},
   "outputs": [],
   "source": [
    "from sklearn.cluster import MeanShift\n",
    "modelo = MeanShift()\n",
    "# fitting the k means algorithm on scaled data\n",
    "modelo.fit(x)\n",
    "yhat = modelo.predict(x)\n",
    "clusters = unique(yhat)\n",
    "#print(preditores)\n",
    "clusters"
   ]
  },
  {
   "cell_type": "code",
   "execution_count": null,
   "metadata": {},
   "outputs": [],
   "source": [
    "plot_pca_2d(x_pca,yhat)\n",
    "plot_pca_3d(x_pca,yhat)\n",
    "plt.figure(figsize=(12, 2))\n",
    "sns.heatmap(df_pca_componentes,annot=True, cmap=\"RdBu\")\n"
   ]
  },
  {
   "cell_type": "code",
   "execution_count": null,
   "metadata": {},
   "outputs": [],
   "source": [
    "df_mean_s=df_original.copy()\n",
    "df_mean_s[\"cluster\"]=yhat\n",
    "df_mean_s.sample(5)"
   ]
  },
  {
   "cell_type": "code",
   "execution_count": null,
   "metadata": {},
   "outputs": [],
   "source": [
    "## DBSCAN"
   ]
  },
  {
   "cell_type": "code",
   "execution_count": null,
   "metadata": {},
   "outputs": [],
   "source": [
    "from sklearn.cluster import DBSCAN\n",
    "modelo = DBSCAN(eps=0.5, min_samples=3)"
   ]
  },
  {
   "cell_type": "code",
   "execution_count": null,
   "metadata": {},
   "outputs": [],
   "source": [
    "modelo.fit(x)\n",
    "yhat = modelo.fit_predict(x)\n",
    "clusters = unique(yhat)\n",
    "#print(preditores)\n",
    "clusters"
   ]
  },
  {
   "cell_type": "code",
   "execution_count": null,
   "metadata": {},
   "outputs": [],
   "source": [
    "plot_pca_2d(x_pca,yhat)\n",
    "plot_pca_3d(x_pca,yhat)\n",
    "plt.figure(figsize=(12, 2))\n",
    "sns.heatmap(df_pca_componentes,annot=True, cmap=\"RdBu\")\n"
   ]
  },
  {
   "cell_type": "code",
   "execution_count": null,
   "metadata": {},
   "outputs": [],
   "source": [
    "df_dbscan=df_original.copy()\n",
    "df_dbscan[\"cluster\"]=yhat\n",
    "df_dbscan.sample(5)"
   ]
  },
  {
   "cell_type": "markdown",
   "metadata": {},
   "source": [
    "## GMM"
   ]
  },
  {
   "cell_type": "code",
   "execution_count": null,
   "metadata": {},
   "outputs": [],
   "source": [
    "from sklearn.mixture import GaussianMixture\n",
    "modelo = GaussianMixture(n_components=6)\n",
    "modelo.fit(x)\n",
    "yhat = modelo.predict(x)"
   ]
  },
  {
   "cell_type": "code",
   "execution_count": null,
   "metadata": {},
   "outputs": [],
   "source": [
    "plot_pca_2d(x_pca,yhat)\n",
    "plot_pca_3d(x_pca,yhat)\n",
    "plt.figure(figsize=(12, 2))\n",
    "sns.heatmap(df_pca_componentes,annot=True, cmap=\"RdBu\")\n"
   ]
  },
  {
   "cell_type": "code",
   "execution_count": null,
   "metadata": {},
   "outputs": [],
   "source": [
    "df_GMM=df_original.copy()\n",
    "df_GMM[\"cluster\"]=yhat\n",
    "df_GMM.sample(5)"
   ]
  },
  {
   "cell_type": "markdown",
   "metadata": {},
   "source": [
    "## Aglomerative H Cluster"
   ]
  },
  {
   "cell_type": "code",
   "execution_count": null,
   "metadata": {},
   "outputs": [],
   "source": [
    "from sklearn.cluster import AgglomerativeClustering\n",
    "modelo = AgglomerativeClustering(n_clusters=5)\n",
    "yhat = modelo.fit_predict(x)\n",
    "clusters = unique(yhat)"
   ]
  },
  {
   "cell_type": "code",
   "execution_count": null,
   "metadata": {},
   "outputs": [],
   "source": [
    "plot_pca_2d(x_pca,yhat)\n",
    "plot_pca_3d(x_pca,yhat)\n",
    "plt.figure(figsize=(12, 2))\n",
    "sns.heatmap(df_pca_componentes,annot=True, cmap=\"RdBu\")\n"
   ]
  },
  {
   "cell_type": "code",
   "execution_count": null,
   "metadata": {},
   "outputs": [],
   "source": [
    "#df_HC=df_original.copy()\n",
    "df_HC=df.copy()\n",
    "df_HC[\"cluster\"]=yhat\n",
    "df_HC.sample(5)"
   ]
  },
  {
   "cell_type": "markdown",
   "metadata": {},
   "source": [
    "## creating a distance matrix using linkage"
   ]
  },
  {
   "cell_type": "code",
   "execution_count": null,
   "metadata": {},
   "outputs": [],
   "source": [
    "# Import the fcluster and linkage functions\n",
    "from scipy.cluster.hierarchy import linkage, fcluster, dendrogram\n",
    "\n",
    "# Use the linkage() function\n",
    "distance_matrix = linkage(x,method = 'ward', metric = 'euclidean') # method = 'single'/'complete'\n",
    "\n",
    "# Assign cluster labels\n",
    "#comic_con['cluster_labels'] = fcluster(distance_matrix, 2, criterion='maxclust')\n",
    "dendrogram(distance_matrix)"
   ]
  },
  {
   "cell_type": "code",
   "execution_count": null,
   "metadata": {},
   "outputs": [],
   "source": [
    "#dendrogram(distance_matrix)\n",
    "# Use fcluster to extract labels: labels\n",
    "clusters = fcluster(distance_matrix, 1.6, criterion='distance' )\n",
    "df_ch=df_original.copy()\n",
    "df_ch[\"cluster\"]=clusters\n",
    "df_ch.head(5)"
   ]
  },
  {
   "cell_type": "raw",
   "metadata": {},
   "source": [
    "\n",
    "\n",
    "# Create a DataFrame with labels and companies as columns: df\n",
    "df = pd.DataFrame({'labels': labels, 'companies': companies})\n",
    "\n",
    "# Create crosstab: ct\n",
    "ct = pd.crosstab(df['labels'], df['companies'])\n",
    "\n",
    "# transformar uma crosstab em um cluster map\n",
    "sns.clustermap(ct, figsize=(15, 8), cbar_pos=None, dendrogram_ratio=0.001)"
   ]
  },
  {
   "cell_type": "markdown",
   "metadata": {},
   "source": [
    "# Avaliação com ARI Adjusted Rand Score Index"
   ]
  },
  {
   "cell_type": "code",
   "execution_count": null,
   "metadata": {},
   "outputs": [],
   "source": [
    "# adjusted rand score is 1, as the clustering is exactly the same\n",
    "# df_kmeans, df_mean_s, df_dbscan, df_GMM, df_HC, df_ch"
   ]
  },
  {
   "cell_type": "code",
   "execution_count": null,
   "metadata": {},
   "outputs": [],
   "source": [
    "from sklearn.metrics import adjusted_rand_score\n",
    "target=df_HC\n",
    "lista=[df_kmeans,df_mean_s,df_dbscan,df_GMM,df_HC,df_ch]\n",
    "\n",
    "for df in lista:\n",
    "    print(\"ARI: {:.2f}\".format(adjusted_rand_score(target[\"cluster\"].values, df[\"cluster\"].values)))\n"
   ]
  },
  {
   "cell_type": "markdown",
   "metadata": {},
   "source": [
    "## EDA com K-mean"
   ]
  },
  {
   "cell_type": "code",
   "execution_count": null,
   "metadata": {},
   "outputs": [],
   "source": [
    "df=df_HC.copy()"
   ]
  },
  {
   "cell_type": "markdown",
   "metadata": {},
   "source": [
    "## EDA Básico"
   ]
  },
  {
   "cell_type": "code",
   "execution_count": null,
   "metadata": {},
   "outputs": [],
   "source": [
    "df.info()\n",
    "df.describe().round(2)"
   ]
  },
  {
   "cell_type": "code",
   "execution_count": null,
   "metadata": {},
   "outputs": [],
   "source": [
    "#df.fillna(0, inplace=True)\n",
    "#df.info()"
   ]
  },
  {
   "cell_type": "code",
   "execution_count": null,
   "metadata": {},
   "outputs": [],
   "source": [
    "df.describe(include=np.object)"
   ]
  },
  {
   "cell_type": "raw",
   "metadata": {},
   "source": [
    "plt.clf()\n",
    "df.hist(figsize=(10,7))\n",
    "plt.tight_layout()\n",
    "plt.show"
   ]
  },
  {
   "cell_type": "code",
   "execution_count": null,
   "metadata": {},
   "outputs": [],
   "source": [
    "df.info()\n",
    "unicos=df.nunique()\n",
    "unicos"
   ]
  },
  {
   "cell_type": "markdown",
   "metadata": {},
   "source": [
    "## Defindo variaveis categóricas numericas"
   ]
  },
  {
   "cell_type": "code",
   "execution_count": null,
   "metadata": {},
   "outputs": [],
   "source": [
    "def analisa_variaveis(df,variaveis,nunicas):\n",
    "    lista=[]\n",
    "    unicos=df[variaveis].nunique()\n",
    "    for variavel in unicos.index:\n",
    "        quant=unicos.loc[variavel]\n",
    "        if quant <= nunicas:\n",
    "            lista.append(variavel)\n",
    "            print(\"Variavel {}, {} ocorrências únicas\".format(variavel,quant))\n",
    "            print(df[variavel].sort_values().unique())\n",
    "    return lista"
   ]
  },
  {
   "cell_type": "code",
   "execution_count": null,
   "metadata": {},
   "outputs": [],
   "source": [
    "variaveis_numericas= df.select_dtypes(include=[np.number]).columns\n",
    "variaveis_categoricas= df.select_dtypes(include=\"category\").columns\n",
    "df[variaveis_numericas].info()\n",
    "df[variaveis_categoricas].info()"
   ]
  },
  {
   "cell_type": "code",
   "execution_count": null,
   "metadata": {},
   "outputs": [],
   "source": [
    "variaveis_objeto=df.select_dtypes(include=\"object\").columns\n",
    "df[variaveis_objeto].info()"
   ]
  },
  {
   "cell_type": "markdown",
   "metadata": {},
   "source": [
    "### Histogramas"
   ]
  },
  {
   "cell_type": "code",
   "execution_count": null,
   "metadata": {},
   "outputs": [],
   "source": [
    "for variavel in variaveis_categoricas:\n",
    "    df[variavel].value_counts().plot(kind=\"bar\")\n",
    "    plt.xlabel(variavel)\n",
    "    plt.ylabel(\"Contagem\")\n",
    "    plt.title(variavel)\n",
    "    plt.show()"
   ]
  },
  {
   "cell_type": "markdown",
   "metadata": {},
   "source": [
    "### Boxplots - Identificando, verificando e tratando outliers\n"
   ]
  },
  {
   "cell_type": "code",
   "execution_count": null,
   "metadata": {},
   "outputs": [],
   "source": [
    "for cat in variaveis_categoricas:\n",
    "    for num in variaveis_numericas:\n",
    "        sns.boxplot(x=cat, y=num, data=df)\n",
    "        plt.xlabel(cat)\n",
    "        plt.ylabel(num)\n",
    "        plt.title(cat)\n",
    "        plt.show()\n"
   ]
  },
  {
   "cell_type": "code",
   "execution_count": null,
   "metadata": {},
   "outputs": [],
   "source": [
    "df.info()"
   ]
  },
  {
   "cell_type": "code",
   "execution_count": null,
   "metadata": {},
   "outputs": [],
   "source": [
    "variaveis=list(variaveis_numericas)+list(variaveis_categoricas)\n",
    "variaveis.remove(\"cluster\")\n",
    "preditores=variaveis\n",
    "target=[\"cluster\"]\n",
    "variaveis=[\"cluster\"]+variaveis\n",
    "variaveis"
   ]
  },
  {
   "cell_type": "code",
   "execution_count": null,
   "metadata": {},
   "outputs": [],
   "source": [
    "\n",
    "df[\"cluster\"]=df[\"cluster\"].astype(\"int\")\n",
    "df[\"cluster\"]=df[\"cluster\"].astype(\"int\")\n",
    "df[\"cluster\"]=df[\"cluster\"].astype(\"int\")\n",
    "df[\"cluster\"]=df[\"cluster\"].astype(\"int\")\n",
    "df[\"cluster\"]=df[\"cluster\"].astype(\"int\")\n",
    "\n",
    "correlação=df[variaveis].corr()\n",
    "correlação\n",
    "plt.rc('figure', figsize=(12, 8))\n",
    "sns.heatmap(correlação,annot=True, vmin=-1, vmax=1)"
   ]
  },
  {
   "cell_type": "code",
   "execution_count": null,
   "metadata": {},
   "outputs": [],
   "source": [
    "sns.pairplot(df[variaveis], kind=\"scatter\")"
   ]
  },
  {
   "cell_type": "code",
   "execution_count": null,
   "metadata": {},
   "outputs": [],
   "source": [
    "sns.pairplot(df, y_vars=target, x_vars=preditores, hue=target[0])"
   ]
  },
  {
   "cell_type": "code",
   "execution_count": null,
   "metadata": {},
   "outputs": [],
   "source": []
  }
 ],
 "metadata": {
  "kernelspec": {
   "display_name": "Python 3",
   "language": "python",
   "name": "python3"
  },
  "language_info": {
   "codemirror_mode": {
    "name": "ipython",
    "version": 3
   },
   "file_extension": ".py",
   "mimetype": "text/x-python",
   "name": "python",
   "nbconvert_exporter": "python",
   "pygments_lexer": "ipython3",
   "version": "3.7.6"
  }
 },
 "nbformat": 4,
 "nbformat_minor": 4
}

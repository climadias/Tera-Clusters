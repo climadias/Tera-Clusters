{
 "cells": [
  {
   "cell_type": "markdown",
   "metadata": {},
   "source": [
    "# Preprocessamento Cluster"
   ]
  },
  {
   "cell_type": "code",
   "execution_count": 1,
   "metadata": {},
   "outputs": [],
   "source": [
    "import pandas as pd\n",
    "import numpy as np\n",
    "import seaborn as sns\n",
    "import matplotlib.pyplot as plt\n",
    "plt.rc('figure', figsize=(12, 8))\n",
    "import janitor\n",
    "from mpl_toolkits.mplot3d import Axes3D\n",
    "import plotly.express as px\n",
    "\n",
    "import datetime\n",
    "\n",
    "import sqlite3 as sql\n",
    "\n",
    "from sklearn.cluster import KMeans\n",
    "from numpy import unique\n",
    "from numpy import where\n",
    "\n",
    "#nomalizing data to its std (x_new= x/std(x))\n",
    "from scipy.cluster.vq import whiten\n",
    "\n",
    "from IPython.core.interactiveshell import InteractiveShell \n",
    "InteractiveShell.ast_node_interactivity=\"all\""
   ]
  },
  {
   "cell_type": "markdown",
   "metadata": {},
   "source": [
    "## EDA Básico"
   ]
  },
  {
   "cell_type": "code",
   "execution_count": 2,
   "metadata": {},
   "outputs": [
    {
     "name": "stdout",
     "output_type": "stream",
     "text": [
      "base_completa_2020_09_10.db\t   base_completa_2020_09_14.db\n",
      "base_completa_2020_09_13.db\t   base_completa_A.db\n",
      "base_completa_2020_09_13_manhã.db  base_completa.db\n",
      "base_completa_2020_09_13_noite.db  Normalização_03.ipynb\n"
     ]
    }
   ],
   "source": [
    "!ls ../../dados/sql"
   ]
  },
  {
   "cell_type": "code",
   "execution_count": null,
   "metadata": {},
   "outputs": [],
   "source": [
    "#Dados de parlamentares\n",
    "con = sql.connect(\"../../dados/sql/base_completa.db\")\n",
    "df=pd.read_sql(\"select * from deputados_cadastro\",con)\n",
    "#df=pd.read_sql(\"select * from kpi_cadastro_basico\",con)\n",
    "df_diap=pd.read_sql(\"select * from diap\",con)\n",
    "con.close()"
   ]
  },
  {
   "cell_type": "code",
   "execution_count": null,
   "metadata": {},
   "outputs": [],
   "source": [
    "df.info()\n",
    "df_diap.info()\n"
   ]
  },
  {
   "cell_type": "code",
   "execution_count": null,
   "metadata": {},
   "outputs": [],
   "source": [
    "df.columns"
   ]
  },
  {
   "cell_type": "raw",
   "metadata": {},
   "source": [
    "df=pd.merge(df,df_diap, how=\"left\", on=\"CPF\")\n",
    "df.info()"
   ]
  },
  {
   "cell_type": "code",
   "execution_count": null,
   "metadata": {},
   "outputs": [],
   "source": [
    "#df.info()\n",
    "df.fillna(0, inplace=True)"
   ]
  },
  {
   "cell_type": "raw",
   "metadata": {},
   "source": [
    "#df.columns\n",
    "df.drop(columns=[\"DS_COR_RACA\",\"DS_ESTADO_CIVIL\",\"IDADE\",\"DS_GENERO\",\n",
    "                 \"SG_UE\",\"SG_UF_NASCIMENTO\",\"SG_UF_NASCIMENTO\", \n",
    "                 \"DS_OCUPACAO\",\"ANO_ELEICAO\",\"DS_CARGO\",\"LEG_INICIAL\",\n",
    "                 \"foto\",\"id\",\"NM_PUBLICO\",\"REDE_SOCIAL\",\"WEB_SITE\",\n",
    "                 \"ID_URL\",\"SQ_CANDIDATO\",\"SG_PARTIDO\",\"201901\", '201902','201903',\n",
    "                 \"201904\", '201905', '201906', '201907', '201908', '201909',\n",
    "                 '201910', '201911', '201912', '202001', '202002', '202003',\n",
    "                 '202004','202005', '202006', '202007', '202008', '202009'], inplace=True)"
   ]
  },
  {
   "cell_type": "code",
   "execution_count": null,
   "metadata": {},
   "outputs": [],
   "source": [
    "#df.columns\n",
    "df.drop(columns=[\"DS_COR_RACA\",\"DS_ESTADO_CIVIL\",\"IDADE\",\"DS_GENERO\",\n",
    "                 \"SG_UE\",\"SG_UF_NASCIMENTO\",\"SG_UF_NASCIMENTO\", \n",
    "                 \"DS_OCUPACAO\",\"ANO_ELEICAO\",\"DS_CARGO\",\"LEG_INICIAL\",\n",
    "                 \"foto\",\"id\",\"NM_PUBLICO\",\"REDE_SOCIAL\",\"WEB_SITE\",\n",
    "                 \"ID_URL\",\"SQ_CANDIDATO\",\"SG_PARTIDO\",\"201901\", '201902','201903',\n",
    "                 \"201904\", '201905', '201906', '201907', '201908', '201909',\n",
    "                 '201910', '201911', '201912', '202001', '202002', '202003',\n",
    "                 '202004','202005', '202006', '202007', '202008', '202009'], inplace=True)"
   ]
  },
  {
   "cell_type": "markdown",
   "metadata": {},
   "source": [
    "## Defindo variaveis categóricas numericas"
   ]
  },
  {
   "cell_type": "code",
   "execution_count": null,
   "metadata": {},
   "outputs": [],
   "source": [
    "def analisa_variaveis(df,variaveis,nunicas):\n",
    "    lista=[]\n",
    "    unicos=df[variaveis].nunique()\n",
    "    for variavel in unicos.index:\n",
    "        quant=unicos.loc[variavel]\n",
    "        if quant <= nunicas:\n",
    "            lista.append(variavel)\n",
    "            print(\"Variavel {}, {} ocorrências únicas\".format(variavel,quant))\n",
    "            #print(df[variavel].sort_values().unique())\n",
    "            print(df[variavel].unique())\n",
    "    return lista"
   ]
  },
  {
   "cell_type": "code",
   "execution_count": null,
   "metadata": {},
   "outputs": [],
   "source": [
    "variaveis_numericas= df.select_dtypes(include=[np.number]).columns\n",
    "df[variaveis_numericas].nunique()"
   ]
  },
  {
   "cell_type": "code",
   "execution_count": null,
   "metadata": {},
   "outputs": [],
   "source": [
    "cat_numericas=analisa_variaveis(df,variaveis_numericas,2)\n",
    "cat_numericas"
   ]
  },
  {
   "cell_type": "raw",
   "metadata": {},
   "source": [
    "#variaveis_categoricas.remove(\"time_spend_company\")\n",
    "cat_numericas.remove(\"ATS\")\n",
    "cat_numericas.remove(\"INS\")\n",
    "cat_numericas.remove(\"OFS\")\n",
    "cat_numericas.remove(\"PET\")\n",
    "cat_numericas.remove(\"PFS\")\n",
    "cat_numericas.remove(\"R.S\")\n"
   ]
  },
  {
   "cell_type": "raw",
   "metadata": {},
   "source": [
    "cat_numericas.remove(\"debatedor\")\n",
    "cat_numericas.remove(\"articulador\")\n",
    "cat_numericas.remove(\"formulador\")\n",
    "cat_numericas.remove(\"negociador\")"
   ]
  },
  {
   "cell_type": "code",
   "execution_count": null,
   "metadata": {},
   "outputs": [],
   "source": [
    "df[cat_numericas].info()\n"
   ]
  },
  {
   "cell_type": "code",
   "execution_count": null,
   "metadata": {},
   "outputs": [],
   "source": [
    "variaveis_objeto=df.select_dtypes(include=\"object\").columns\n",
    "df[variaveis_objeto].nunique()"
   ]
  },
  {
   "cell_type": "code",
   "execution_count": null,
   "metadata": {},
   "outputs": [],
   "source": [
    "cat_objeto=analisa_variaveis(df,variaveis_objeto,10)\n",
    "#cat_objeto"
   ]
  },
  {
   "cell_type": "raw",
   "metadata": {},
   "source": [
    "df[\"categoria_gastogabinete\"].sort_values()"
   ]
  },
  {
   "cell_type": "code",
   "execution_count": null,
   "metadata": {},
   "outputs": [],
   "source": [
    "#variaveis_dummy=variaveis_categoricas[0:3]\n",
    "variaveis_categoricas=cat_numericas+cat_objeto\n",
    "variaveis_categoricas"
   ]
  },
  {
   "cell_type": "code",
   "execution_count": null,
   "metadata": {},
   "outputs": [],
   "source": [
    "for variavel in variaveis_categoricas:\n",
    "    df[variavel]=df[variavel].astype(\"category\")\n",
    "df.info()\n",
    "#df.describe(include=np.object)"
   ]
  },
  {
   "cell_type": "code",
   "execution_count": null,
   "metadata": {},
   "outputs": [],
   "source": [
    "variaveis_numericas= list(df.select_dtypes(include=[np.number]).columns)\n",
    "variaveis_numericas\n",
    "variaveis_categoricas"
   ]
  },
  {
   "cell_type": "markdown",
   "metadata": {
    "slideshow": {
     "slide_type": "slide"
    }
   },
   "source": [
    "## Criação das variáveis dummies, categoricas e numéricas para modelo"
   ]
  },
  {
   "cell_type": "code",
   "execution_count": null,
   "metadata": {},
   "outputs": [],
   "source": [
    "variaveis_numericas=list(df.select_dtypes(include=[np.number]).columns)\n",
    "variaveis_categoricas= list(df.select_dtypes(include=\"category\").columns)\n",
    "variaveis_modelo=variaveis_numericas+variaveis_categoricas\n",
    "\n",
    "df[variaveis_modelo].nunique()"
   ]
  },
  {
   "cell_type": "raw",
   "metadata": {},
   "source": [
    "df.drop(columns=[\"DS_GENERO\",\"DS_GRAU_INSTRUCAO\",\n",
    "                 \"DS_ESTADO_CIVIL\",\"DS_COR_RACA\",\n",
    "                 \"DS_OCUPACAO\",\"ANO_ELEICAO\",\"SG_PARTIDO\",\"SG_UE\",\n",
    "                 \"SG_UF_NASCIMENTO\",\"IDADE\"], inplace=True)"
   ]
  },
  {
   "cell_type": "code",
   "execution_count": null,
   "metadata": {},
   "outputs": [],
   "source": [
    "variaveis_dummy=[]"
   ]
  },
  {
   "cell_type": "code",
   "execution_count": null,
   "metadata": {},
   "outputs": [],
   "source": [
    "#variaveis_categoricas.remove(target[0])\n",
    "#variaveis_dummy.remove(target[0])\n",
    "hot_encoding=variaveis_categoricas\n",
    "hot_encoding"
   ]
  },
  {
   "cell_type": "raw",
   "metadata": {},
   "source": [
    "hot_encoding.remove(\"debatedor\")\n",
    "hot_encoding.remove(\"articulador\")\n",
    "hot_encoding.remove(\"formulador\")\n",
    "hot_encoding.remove(\"negociador\")\n",
    "hot_encoding"
   ]
  },
  {
   "cell_type": "code",
   "execution_count": null,
   "metadata": {},
   "outputs": [],
   "source": [
    "df_original=df.copy()\n"
   ]
  },
  {
   "cell_type": "code",
   "execution_count": null,
   "metadata": {},
   "outputs": [],
   "source": [
    "# Trata variaveis binárias (0-1)\n",
    "#df_original=df.copy()\n",
    "for variavel in variaveis_dummy:\n",
    "    df=pd.concat([df, pd.get_dummies(df[variavel].astype(object), prefix=variavel, drop_first=True)], axis=1)\n",
    "    df.drop(columns=[variavel], inplace=True)\n",
    "df.sample(5)\n",
    "df.columns"
   ]
  },
  {
   "cell_type": "code",
   "execution_count": null,
   "metadata": {},
   "outputs": [],
   "source": [
    "#Trata variaveis \n",
    "#variaveis_categoricas=list(set(variaveis_categoricas)-set(variaveis_dummy))\n",
    "for variavel in hot_encoding:\n",
    "    df=pd.concat([df, pd.get_dummies(df[variavel].astype(object), prefix=variavel,drop_first=True)], axis=1)\n",
    "    df.drop(columns=[variavel], inplace=True)\n",
    "#df.sample(5)\n",
    "df.columns"
   ]
  },
  {
   "cell_type": "markdown",
   "metadata": {},
   "source": [
    "# Variáveis do modelo"
   ]
  },
  {
   "cell_type": "code",
   "execution_count": null,
   "metadata": {},
   "outputs": [],
   "source": [
    "df.columns"
   ]
  },
  {
   "cell_type": "code",
   "execution_count": null,
   "metadata": {},
   "outputs": [],
   "source": [
    "variaveis_numericas=list(df.select_dtypes(include=[np.number]).columns)\n",
    "variaveis_categoricas= list(df.select_dtypes(include=\"category\").columns)\n",
    "variaveis_modelo=variaveis_numericas+variaveis_categoricas\n",
    "#df[variaveis_modelo].info()\n",
    "df.info()"
   ]
  },
  {
   "cell_type": "code",
   "execution_count": null,
   "metadata": {},
   "outputs": [],
   "source": [
    "con = sql.connect(\"../../dados/sql/base_completa.db\")\n",
    "df.to_sql(\"tabela_analise\",con,if_exists=\"replace\", index=False, index_label=\"CPF\")\n",
    "con.close()"
   ]
  },
  {
   "cell_type": "code",
   "execution_count": null,
   "metadata": {},
   "outputs": [],
   "source": [
    "lista_0=list(df.columns)\n",
    "lista_0"
   ]
  },
  {
   "cell_type": "code",
   "execution_count": null,
   "metadata": {},
   "outputs": [],
   "source": [
    "Lista_continuas=['VL_BENS', 'VR_DESPESA_CONTRATADA', 'followers_count', \n",
    "                 'tweets', 'PERC_VOTOS_PARL_EST','ORGAO_PARTICIPANTE',\n",
    "                 \"ORGAO_TOTAL\", 'ORGAO_GESTOR', 'PERC_PRESENCA', 'TOTAL_PROPOSTAS',\n",
    "                 'GASTO_GABINETE']"
   ]
  },
  {
   "cell_type": "code",
   "execution_count": null,
   "metadata": {},
   "outputs": [],
   "source": [
    "#df[variaveis_modelo].info()\n",
    "#Variaveis cadastro\n",
    "#variaveis_modelo.remove(\"tweets\")\n",
    "#variaveis_modelo.remove(\"followers_count\")\n",
    "#variaveis_modelo.remove(\"VL_BENS\")\n",
    "#variaveis_modelo.remove(\"VR_DESPESA_CONTRATADA\")\n",
    "\n",
    "# variaveis DIAP\n",
    "#variaveis_modelo.remove(\"mandatos\")\n",
    "#variaveis_modelo.remove(\"cabeças\")\n",
    "#variaveis_modelo.remove(\"formulador\")\n",
    "#variaveis_modelo.remove(\"debatedor\")\n",
    "#variaveis_modelo.remove(\"articulador\")\n",
    "#variaveis_modelo.remove(\"negociador\")\n",
    "\n",
    "# variáveis assiduidade\n",
    "#variaveis_modelo.remove(\"PRESENCA\")\n",
    "#variaveis_modelo.remove(\"AUSENCIA\")\n",
    "\n",
    "#Variáveis propostas\n",
    "#variaveis_modelo.remove(\"PL\")\n",
    "#variaveis_modelo.remove(\"PEC\")\n",
    "#variaveis_modelo.remove(\"REQ\")\n",
    "#variaveis_modelo.remove(\"PROP_TOTAL\")\n",
    "\n",
    "# variáveis cargo\n",
    "#variaveis_modelo.remove(\"MESA_Sim\")\n",
    "#variaveis_modelo.remove(\"LIDERANCA_Sim\")"
   ]
  },
  {
   "cell_type": "raw",
   "metadata": {},
   "source": [
    "df[\"PEC\"]=df[\"PEC\"]**2\n",
    "df[\"PEC\"].describe()"
   ]
  },
  {
   "cell_type": "markdown",
   "metadata": {},
   "source": [
    "## Escala dos preditores"
   ]
  },
  {
   "cell_type": "code",
   "execution_count": null,
   "metadata": {},
   "outputs": [],
   "source": [
    "def verifica_escala(preditores,df):\n",
    "    x=df[preditores].values\n",
    "    plt.plot(x.min(axis=0),\"o\", label=\"min\")\n",
    "    plt.plot(x.max(axis=0),\"^\", label=\"max\")\n",
    "    plt.legend(loc=\"best\")\n",
    "    plt.xlabel(\"Feature index\")\n",
    "    plt.ylabel(\"Feature magnitude\")\n",
    "    plt.yscale(\"log\")\n",
    "    print(df[preditores].max().round(3))"
   ]
  },
  {
   "cell_type": "code",
   "execution_count": null,
   "metadata": {},
   "outputs": [],
   "source": [
    "verifica_escala(variaveis_modelo,df)"
   ]
  },
  {
   "cell_type": "code",
   "execution_count": null,
   "metadata": {},
   "outputs": [],
   "source": [
    "from sklearn.preprocessing import MinMaxScaler\n",
    "scaler = MinMaxScaler()\n",
    "scaler.fit(df[variaveis_modelo].values)\n",
    "x=scaler.transform(df[variaveis_modelo].values)\n",
    "df_scaled=pd.DataFrame(x,columns=variaveis_modelo)\n",
    "df_scaled.head()\n",
    "#df_original=df.copy()\n",
    "df=df_scaled.copy()"
   ]
  },
  {
   "cell_type": "code",
   "execution_count": null,
   "metadata": {},
   "outputs": [],
   "source": [
    "df.describe()"
   ]
  },
  {
   "cell_type": "markdown",
   "metadata": {},
   "source": [
    "## Visualizando com PCA"
   ]
  },
  {
   "cell_type": "code",
   "execution_count": null,
   "metadata": {},
   "outputs": [],
   "source": [
    "x=df.values\n",
    "variaveis=list(df.columns)"
   ]
  },
  {
   "cell_type": "code",
   "execution_count": null,
   "metadata": {},
   "outputs": [],
   "source": [
    "from sklearn.decomposition import PCA\n",
    "# keep the first two principal components of the data\n",
    "pca = PCA(n_components=3)\n",
    "# fit PCA model \n",
    "pca.fit(x)\n",
    "# transform data onto the first two principal components\n",
    "x_pca = pca.transform(x)\n",
    "print(\"Original shape: {}\".format(str(x.shape)))\n",
    "print(\"Reduced shape: {}\".format(str(x_pca.shape)))\n",
    "df_pca=pd.DataFrame(x_pca,columns=[\"PC-1\",\"PC-2\",\"PC-3\"])"
   ]
  },
  {
   "cell_type": "code",
   "execution_count": null,
   "metadata": {},
   "outputs": [],
   "source": [
    "# plot first vs. second principal component, colored by class\n",
    "plt.figure(figsize=(8, 8))\n",
    "plt.scatter(x_pca[:, 0], x_pca[:, 1])\n",
    "#plt.legend(cancer.target_names, loc=\"best\")\n",
    "plt.gca().set_aspect(\"equal\")\n",
    "plt.xlabel(\"First principal component\")\n",
    "plt.ylabel(\"Second principal component\")\n"
   ]
  },
  {
   "cell_type": "code",
   "execution_count": null,
   "metadata": {},
   "outputs": [],
   "source": [
    "fig=px.scatter(df_pca, x='PC-1', y='PC-2', opacity=0.7)\n",
    "fig.show()"
   ]
  },
  {
   "cell_type": "raw",
   "metadata": {},
   "source": [
    "from mpl_toolkits.mplot3d import Axes3D\n",
    "fig = plt.figure()\n",
    "ax = fig.add_subplot(111, projection='3d')\n",
    "ax.scatter(df_pca['PC-1'], df_pca['PC-2'], df_pca['PC-3'], c='skyblue', s=30)\n",
    "ax.set_xlabel(\"First principal component\")\n",
    "ax.set_ylabel(\"Second principal component\")\n",
    "ax.set_zlabel(\"third principal component\")\n",
    "ax.view_init(20, -120)\n",
    "plt.show()"
   ]
  },
  {
   "cell_type": "code",
   "execution_count": null,
   "metadata": {},
   "outputs": [],
   "source": [
    "fig=px.scatter_3d(df_pca, x='PC-1', y='PC-2', z='PC-3',size_max=2, opacity=0.7, width=1000, height=900)\n",
    "fig.show()"
   ]
  },
  {
   "cell_type": "code",
   "execution_count": null,
   "metadata": {},
   "outputs": [],
   "source": [
    "df_pca_componentes=pd.DataFrame(pca.components_, columns=variaveis)\n",
    "print(\"PCA component shape: {}\".format(df_pca_componentes.shape))\n",
    "df_pca_componentes\n",
    "plt.figure(figsize=(12, 2))\n",
    "sns.heatmap(df_pca_componentes,annot=True, cmap=\"RdBu\")\n",
    "#(correlação,annot=True, vmin=-1, vmax=1)"
   ]
  },
  {
   "cell_type": "code",
   "execution_count": null,
   "metadata": {},
   "outputs": [],
   "source": [
    "def plot_pca_2d(x,y=True):\n",
    "    plt.figure(figsize=(8, 8))\n",
    "    if y.all():\n",
    "        plt.scatter(x[:, 0], x[:, 1])\n",
    "        plt.gca().set_aspect(\"equal\")\n",
    "    else:\n",
    "        clusters = unique(y)\n",
    "        for cluster in clusters:\n",
    "            row_ix = where(y == cluster)\n",
    "            # create scatter of these samples\n",
    "            plt.scatter(x[row_ix, 0], x[row_ix, 1])\n",
    "    plt.xlabel(\"First principal component\")\n",
    "    plt.ylabel(\"Second principal component\")\n",
    "    plt.legend(clusters, loc=\"best\")\n",
    "    plt.show()\n",
    "    if clusters[0]==-1:\n",
    "        quant=np.bincount(y+1)\n",
    "    else:\n",
    "        quant=np.bincount(y)\n",
    "    frame=pd.DataFrame({\"cluster\":clusters,\"quant\":quant})\n",
    "    print(\"Número de componentes \\n{}\".format(frame))\n",
    "    "
   ]
  },
  {
   "cell_type": "code",
   "execution_count": null,
   "metadata": {},
   "outputs": [],
   "source": [
    "def plot_pca_2d_px(df,cluster):\n",
    "    df[\"cluster\"]=cluster\n",
    "    fig=px.scatter(df, x='PC-1', y='PC-2', color=cluster, opacity=0.7)\n",
    "    fig.show()\n",
    "    if clusters[0]==-1:\n",
    "        quant=np.bincount(cluster+1)\n",
    "    else:\n",
    "        quant=np.bincount(cluster)\n",
    "    frame=pd.DataFrame({\"cluster\":clusters,\"quant\":quant})\n",
    "    print(\"Número de componentes \\n{}\".format(frame))\n",
    "    "
   ]
  },
  {
   "cell_type": "code",
   "execution_count": null,
   "metadata": {},
   "outputs": [],
   "source": [
    "def plot_pca_3d(x,y=True):\n",
    "    fig = plt.figure()\n",
    "    ax = fig.add_subplot(111, projection='3d')\n",
    "    if y.all():\n",
    "        ax.scatter(x[:, 0], x[:, 1],x[:,2])\n",
    "        ax.gca().set_aspect(\"equal\")\n",
    "    else:\n",
    "        clusters = unique(y)\n",
    "        for cluster in clusters:\n",
    "            row_ix = where(y == cluster)\n",
    "            # create scatter of these samples\n",
    "            ax.scatter(x[row_ix, 0], x[row_ix, 1],x[row_ix, 2], s=20)\n",
    "    ax.set_xlabel(\"PC-1\")\n",
    "    ax.set_ylabel(\"PC-2\")\n",
    "    ax.set_zlabel(\"PC-3\")\n",
    "    ax.legend(clusters, loc='upper left')\n",
    "    ax.view_init(35, -120)\n",
    "    plt.show()\n",
    "    if clusters[0]==-1:\n",
    "        quant=np.bincount(y+1)\n",
    "    else:\n",
    "        quant=np.bincount(y)\n",
    "    frame=pd.DataFrame({\"cluster\":clusters,\"quant\":quant})\n",
    "    print(\"Número de componentes \\n{}\".format(frame))\n",
    "    "
   ]
  },
  {
   "cell_type": "code",
   "execution_count": null,
   "metadata": {},
   "outputs": [],
   "source": [
    "def plot_pca_3d_px(df,cluster):\n",
    "    df[\"cluster\"]=cluster\n",
    "    fig=px.scatter_3d(df_pca, x='PC-1', y='PC-2', z='PC-3', color=cluster, opacity=0.7, width=1000, height=900)\n",
    "    fig.show()\n",
    "    if clusters[0]==-1:\n",
    "        quant=np.bincount(cluster+1)\n",
    "    else:\n",
    "        quant=np.bincount(cluster)\n",
    "    frame=pd.DataFrame({\"cluster\":clusters,\"quant\":quant})\n",
    "    print(\"Número de componentes \\n{}\".format(frame))"
   ]
  },
  {
   "cell_type": "markdown",
   "metadata": {},
   "source": [
    "## ajustando variáveis"
   ]
  },
  {
   "cell_type": "code",
   "execution_count": null,
   "metadata": {},
   "outputs": [],
   "source": [
    "x=df.values"
   ]
  },
  {
   "cell_type": "markdown",
   "metadata": {},
   "source": [
    "## K-mean\n"
   ]
  },
  {
   "cell_type": "markdown",
   "metadata": {},
   "source": [
    "## Verificando o número de clusters via inércia"
   ]
  },
  {
   "cell_type": "code",
   "execution_count": null,
   "metadata": {},
   "outputs": [],
   "source": [
    "kvalues=range(1,50)\n",
    "kvalues\n",
    "inercia=[]\n",
    "for k in kvalues:\n",
    "    modelo=KMeans(n_clusters=k, init='k-means++')\n",
    "    modelo.fit(x)\n",
    "    inercia.append(modelo.inertia_)\n",
    "df_inercia=pd.DataFrame({\"Inercia\":inercia, \"K\":kvalues}) \n",
    "df_inercia.plot(\"K\",\"Inercia\", marker='o')"
   ]
  },
  {
   "cell_type": "code",
   "execution_count": null,
   "metadata": {},
   "outputs": [],
   "source": [
    "# defining the kmeans function with initialization as k-means++\n",
    "modelo = KMeans(n_clusters=6, init='k-means++')\n",
    "\n",
    "# fitting the k means algorithm on scaled data\n",
    "modelo.fit(x)\n",
    "yhat = modelo.predict(x)\n",
    "clusters = unique(yhat)\n",
    "#print(variaveis_modelo)\n"
   ]
  },
  {
   "cell_type": "code",
   "execution_count": null,
   "metadata": {},
   "outputs": [],
   "source": [
    "plot_pca_2d(x_pca,yhat)\n",
    "plot_pca_3d(x_pca,yhat)\n",
    "plt.figure(figsize=(12, 2))\n",
    "sns.heatmap(df_pca_componentes,annot=True, cmap=\"RdBu\")\n",
    "plot_pca_2d_px(df_pca,yhat)\n",
    "plot_pca_3d_px(df_pca,yhat)"
   ]
  },
  {
   "cell_type": "code",
   "execution_count": null,
   "metadata": {},
   "outputs": [],
   "source": [
    "df_kmeans=df_original.copy()\n",
    "df_kmeans[\"cluster\"]=yhat\n",
    "df_kmeans.sample(5)"
   ]
  },
  {
   "cell_type": "markdown",
   "metadata": {},
   "source": [
    "## Mean-shift\n"
   ]
  },
  {
   "cell_type": "code",
   "execution_count": null,
   "metadata": {},
   "outputs": [],
   "source": [
    "from sklearn.cluster import MeanShift\n",
    "modelo = MeanShift()\n",
    "# fitting the k means algorithm on scaled data\n",
    "modelo.fit(x)\n",
    "yhat = modelo.predict(x)\n",
    "clusters = unique(yhat)\n",
    "#print(preditores)\n",
    "clusters"
   ]
  },
  {
   "cell_type": "code",
   "execution_count": null,
   "metadata": {},
   "outputs": [],
   "source": [
    "plot_pca_2d(x_pca,yhat)\n",
    "plot_pca_3d(x_pca,yhat)\n",
    "plt.figure(figsize=(12, 2))\n",
    "sns.heatmap(df_pca_componentes,annot=True, cmap=\"RdBu\")\n"
   ]
  },
  {
   "cell_type": "code",
   "execution_count": null,
   "metadata": {},
   "outputs": [],
   "source": [
    "df_mean_s=df_original.copy()\n",
    "df_mean_s[\"cluster\"]=yhat\n",
    "df_mean_s.sample(5)"
   ]
  },
  {
   "cell_type": "code",
   "execution_count": null,
   "metadata": {},
   "outputs": [],
   "source": [
    "## DBSCAN"
   ]
  },
  {
   "cell_type": "code",
   "execution_count": null,
   "metadata": {},
   "outputs": [],
   "source": [
    "from sklearn.cluster import DBSCAN\n",
    "modelo = DBSCAN(eps=0.5, min_samples=3)"
   ]
  },
  {
   "cell_type": "code",
   "execution_count": null,
   "metadata": {},
   "outputs": [],
   "source": [
    "modelo.fit(x)\n",
    "yhat = modelo.fit_predict(x)\n",
    "clusters = unique(yhat)\n",
    "#print(preditores)\n",
    "clusters"
   ]
  },
  {
   "cell_type": "code",
   "execution_count": null,
   "metadata": {},
   "outputs": [],
   "source": [
    "plot_pca_2d(x_pca,yhat)\n",
    "plot_pca_3d(x_pca,yhat)\n",
    "plt.figure(figsize=(12, 2))\n",
    "sns.heatmap(df_pca_componentes,annot=True, cmap=\"RdBu\")\n"
   ]
  },
  {
   "cell_type": "code",
   "execution_count": null,
   "metadata": {},
   "outputs": [],
   "source": [
    "df_dbscan=df_original.copy()\n",
    "df_dbscan[\"cluster\"]=yhat\n",
    "df_dbscan.sample(5)"
   ]
  },
  {
   "cell_type": "markdown",
   "metadata": {},
   "source": [
    "## GMM"
   ]
  },
  {
   "cell_type": "code",
   "execution_count": null,
   "metadata": {},
   "outputs": [],
   "source": [
    "from sklearn.mixture import GaussianMixture\n",
    "modelo = GaussianMixture(n_components=6)\n",
    "modelo.fit(x)\n",
    "yhat = modelo.predict(x)"
   ]
  },
  {
   "cell_type": "code",
   "execution_count": null,
   "metadata": {},
   "outputs": [],
   "source": [
    "plot_pca_2d(x_pca,yhat)\n",
    "plot_pca_3d(x_pca,yhat)\n",
    "plt.figure(figsize=(12, 2))\n",
    "sns.heatmap(df_pca_componentes,annot=True, cmap=\"RdBu\")\n"
   ]
  },
  {
   "cell_type": "code",
   "execution_count": null,
   "metadata": {},
   "outputs": [],
   "source": [
    "df_GMM=df_original.copy()\n",
    "df_GMM[\"cluster\"]=yhat\n",
    "df_GMM.sample(5)"
   ]
  },
  {
   "cell_type": "markdown",
   "metadata": {},
   "source": [
    "## Aglomerative H Cluster"
   ]
  },
  {
   "cell_type": "code",
   "execution_count": null,
   "metadata": {},
   "outputs": [],
   "source": [
    "from sklearn.cluster import AgglomerativeClustering\n",
    "modelo = AgglomerativeClustering(n_clusters=5)\n",
    "yhat = modelo.fit_predict(x)\n",
    "clusters = unique(yhat)"
   ]
  },
  {
   "cell_type": "code",
   "execution_count": null,
   "metadata": {},
   "outputs": [],
   "source": [
    "plot_pca_2d(x_pca,yhat)\n",
    "plot_pca_3d(x_pca,yhat)\n",
    "plt.figure(figsize=(12, 2))\n",
    "sns.heatmap(df_pca_componentes,annot=True, cmap=\"RdBu\")\n"
   ]
  },
  {
   "cell_type": "code",
   "execution_count": null,
   "metadata": {},
   "outputs": [],
   "source": [
    "#df_HC=df_original.copy()\n",
    "df_HC=df.copy()\n",
    "df_HC[\"cluster\"]=yhat\n",
    "df_HC.sample(5)"
   ]
  },
  {
   "cell_type": "markdown",
   "metadata": {},
   "source": [
    "## creating a distance matrix using linkage"
   ]
  },
  {
   "cell_type": "code",
   "execution_count": null,
   "metadata": {},
   "outputs": [],
   "source": [
    "# Import the fcluster and linkage functions\n",
    "from scipy.cluster.hierarchy import linkage, fcluster, dendrogram\n",
    "\n",
    "# Use the linkage() function\n",
    "distance_matrix = linkage(x,method = 'ward', metric = 'euclidean') # method = 'single'/'complete'\n",
    "\n",
    "# Assign cluster labels\n",
    "#comic_con['cluster_labels'] = fcluster(distance_matrix, 2, criterion='maxclust')\n",
    "dendrogram(distance_matrix)"
   ]
  },
  {
   "cell_type": "code",
   "execution_count": null,
   "metadata": {},
   "outputs": [],
   "source": [
    "#dendrogram(distance_matrix)\n",
    "# Use fcluster to extract labels: labels\n",
    "clusters = fcluster(distance_matrix, 1.6, criterion='distance' )\n",
    "df_ch=df_original.copy()\n",
    "df_ch[\"cluster\"]=clusters\n",
    "df_ch.head(5)"
   ]
  },
  {
   "cell_type": "raw",
   "metadata": {},
   "source": [
    "\n",
    "\n",
    "# Create a DataFrame with labels and companies as columns: df\n",
    "df = pd.DataFrame({'labels': labels, 'companies': companies})\n",
    "\n",
    "# Create crosstab: ct\n",
    "ct = pd.crosstab(df['labels'], df['companies'])\n",
    "\n",
    "# transformar uma crosstab em um cluster map\n",
    "sns.clustermap(ct, figsize=(15, 8), cbar_pos=None, dendrogram_ratio=0.001)"
   ]
  },
  {
   "cell_type": "markdown",
   "metadata": {},
   "source": [
    "# Avaliação com ARI Adjusted Rand Score Index"
   ]
  },
  {
   "cell_type": "code",
   "execution_count": null,
   "metadata": {},
   "outputs": [],
   "source": [
    "# adjusted rand score is 1, as the clustering is exactly the same\n",
    "# df_kmeans, df_mean_s, df_dbscan, df_GMM, df_HC, df_ch"
   ]
  },
  {
   "cell_type": "code",
   "execution_count": null,
   "metadata": {},
   "outputs": [],
   "source": [
    "from sklearn.metrics import adjusted_rand_score\n",
    "target=df_HC\n",
    "lista=[df_kmeans,df_mean_s,df_dbscan,df_GMM,df_HC,df_ch]\n",
    "\n",
    "for df in lista:\n",
    "    print(\"ARI: {:.2f}\".format(adjusted_rand_score(target[\"cluster\"].values, df[\"cluster\"].values)))\n"
   ]
  },
  {
   "cell_type": "markdown",
   "metadata": {},
   "source": [
    "## EDA com K-mean"
   ]
  },
  {
   "cell_type": "code",
   "execution_count": null,
   "metadata": {},
   "outputs": [],
   "source": [
    "df=df_HC.copy()"
   ]
  },
  {
   "cell_type": "markdown",
   "metadata": {},
   "source": [
    "## EDA Básico"
   ]
  },
  {
   "cell_type": "code",
   "execution_count": null,
   "metadata": {},
   "outputs": [],
   "source": [
    "df.info()\n",
    "df.describe().round(2)"
   ]
  },
  {
   "cell_type": "code",
   "execution_count": null,
   "metadata": {},
   "outputs": [],
   "source": [
    "#df.fillna(0, inplace=True)\n",
    "#df.info()"
   ]
  },
  {
   "cell_type": "code",
   "execution_count": null,
   "metadata": {},
   "outputs": [],
   "source": [
    "df.describe(include=np.object)"
   ]
  },
  {
   "cell_type": "raw",
   "metadata": {},
   "source": [
    "plt.clf()\n",
    "df.hist(figsize=(10,7))\n",
    "plt.tight_layout()\n",
    "plt.show"
   ]
  },
  {
   "cell_type": "code",
   "execution_count": null,
   "metadata": {},
   "outputs": [],
   "source": [
    "df.info()\n",
    "unicos=df.nunique()\n",
    "unicos"
   ]
  },
  {
   "cell_type": "markdown",
   "metadata": {},
   "source": [
    "## Defindo variaveis categóricas numericas"
   ]
  },
  {
   "cell_type": "code",
   "execution_count": null,
   "metadata": {},
   "outputs": [],
   "source": [
    "def analisa_variaveis(df,variaveis,nunicas):\n",
    "    lista=[]\n",
    "    unicos=df[variaveis].nunique()\n",
    "    for variavel in unicos.index:\n",
    "        quant=unicos.loc[variavel]\n",
    "        if quant <= nunicas:\n",
    "            lista.append(variavel)\n",
    "            print(\"Variavel {}, {} ocorrências únicas\".format(variavel,quant))\n",
    "            print(df[variavel].sort_values().unique())\n",
    "    return lista"
   ]
  },
  {
   "cell_type": "code",
   "execution_count": null,
   "metadata": {},
   "outputs": [],
   "source": [
    "variaveis_numericas= df.select_dtypes(include=[np.number]).columns\n",
    "variaveis_categoricas= df.select_dtypes(include=\"category\").columns\n",
    "df[variaveis_numericas].info()\n",
    "df[variaveis_categoricas].info()"
   ]
  },
  {
   "cell_type": "code",
   "execution_count": null,
   "metadata": {},
   "outputs": [],
   "source": [
    "variaveis_objeto=df.select_dtypes(include=\"object\").columns\n",
    "df[variaveis_objeto].info()"
   ]
  },
  {
   "cell_type": "markdown",
   "metadata": {},
   "source": [
    "### Histogramas"
   ]
  },
  {
   "cell_type": "code",
   "execution_count": null,
   "metadata": {},
   "outputs": [],
   "source": [
    "for variavel in variaveis_categoricas:\n",
    "    df[variavel].value_counts().plot(kind=\"bar\")\n",
    "    plt.xlabel(variavel)\n",
    "    plt.ylabel(\"Contagem\")\n",
    "    plt.title(variavel)\n",
    "    plt.show()"
   ]
  },
  {
   "cell_type": "markdown",
   "metadata": {},
   "source": [
    "### Boxplots - Identificando, verificando e tratando outliers\n"
   ]
  },
  {
   "cell_type": "code",
   "execution_count": null,
   "metadata": {},
   "outputs": [],
   "source": [
    "for cat in variaveis_categoricas:\n",
    "    for num in variaveis_numericas:\n",
    "        sns.boxplot(x=cat, y=num, data=df)\n",
    "        plt.xlabel(cat)\n",
    "        plt.ylabel(num)\n",
    "        plt.title(cat)\n",
    "        plt.show()\n"
   ]
  },
  {
   "cell_type": "code",
   "execution_count": null,
   "metadata": {},
   "outputs": [],
   "source": [
    "df.info()"
   ]
  },
  {
   "cell_type": "code",
   "execution_count": null,
   "metadata": {},
   "outputs": [],
   "source": [
    "variaveis=list(variaveis_numericas)+list(variaveis_categoricas)\n",
    "variaveis.remove(\"cluster\")\n",
    "preditores=variaveis\n",
    "target=[\"cluster\"]\n",
    "variaveis=[\"cluster\"]+variaveis\n",
    "variaveis"
   ]
  },
  {
   "cell_type": "code",
   "execution_count": null,
   "metadata": {},
   "outputs": [],
   "source": [
    "\n",
    "df[\"cluster\"]=df[\"cluster\"].astype(\"int\")\n",
    "df[\"cluster\"]=df[\"cluster\"].astype(\"int\")\n",
    "df[\"cluster\"]=df[\"cluster\"].astype(\"int\")\n",
    "df[\"cluster\"]=df[\"cluster\"].astype(\"int\")\n",
    "df[\"cluster\"]=df[\"cluster\"].astype(\"int\")\n",
    "\n",
    "correlação=df[variaveis].corr()\n",
    "correlação\n",
    "plt.rc('figure', figsize=(12, 8))\n",
    "sns.heatmap(correlação,annot=True, vmin=-1, vmax=1)"
   ]
  },
  {
   "cell_type": "code",
   "execution_count": null,
   "metadata": {},
   "outputs": [],
   "source": [
    "sns.pairplot(df[variaveis], kind=\"scatter\")"
   ]
  },
  {
   "cell_type": "code",
   "execution_count": null,
   "metadata": {},
   "outputs": [],
   "source": [
    "sns.pairplot(df, y_vars=target, x_vars=preditores, hue=target[0])"
   ]
  },
  {
   "cell_type": "code",
   "execution_count": null,
   "metadata": {},
   "outputs": [],
   "source": []
  }
 ],
 "metadata": {
  "kernelspec": {
   "display_name": "Python 3",
   "language": "python",
   "name": "python3"
  },
  "language_info": {
   "codemirror_mode": {
    "name": "ipython",
    "version": 3
   },
   "file_extension": ".py",
   "mimetype": "text/x-python",
   "name": "python",
   "nbconvert_exporter": "python",
   "pygments_lexer": "ipython3",
   "version": "3.7.6"
  }
 },
 "nbformat": 4,
 "nbformat_minor": 4
}

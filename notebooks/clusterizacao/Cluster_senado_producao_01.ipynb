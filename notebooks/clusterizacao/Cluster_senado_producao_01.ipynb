{
 "cells": [
  {
   "cell_type": "markdown",
   "metadata": {},
   "source": [
    "# Senadores - EDA e modelo produção parlamentar"
   ]
  },
  {
   "cell_type": "code",
   "execution_count": 1,
   "metadata": {},
   "outputs": [],
   "source": [
    "import pandas as pd\n",
    "import numpy as np\n",
    "import seaborn as sns\n",
    "import matplotlib.pyplot as plt\n",
    "plt.rc('figure', figsize=(12, 8))\n",
    "import janitor\n",
    "\n",
    "import datetime\n",
    "\n",
    "import sqlite3 as sql\n",
    "\n",
    "from sklearn.cluster import KMeans\n",
    "from numpy import unique\n",
    "from numpy import where\n",
    "\n",
    "#nomalizing data to its std (x_new= x/std(x))\n",
    "from scipy.cluster.vq import whiten\n",
    "\n",
    "from IPython.core.interactiveshell import InteractiveShell \n",
    "InteractiveShell.ast_node_interactivity=\"all\""
   ]
  },
  {
   "cell_type": "markdown",
   "metadata": {},
   "source": [
    "## EDA Básico"
   ]
  },
  {
   "cell_type": "code",
   "execution_count": 2,
   "metadata": {},
   "outputs": [
    {
     "name": "stdout",
     "output_type": "stream",
     "text": [
      "base_completa_2020_09_10.db  base_completa.db  Normalização_03.ipynb\n"
     ]
    }
   ],
   "source": [
    "!ls ../../dados/sql"
   ]
  },
  {
   "cell_type": "code",
   "execution_count": 3,
   "metadata": {},
   "outputs": [],
   "source": [
    "#Dados de parlamentares\n",
    "con = sql.connect(\"../../dados/sql/base_completa.db\")\n",
    "df_sen=pd.read_sql(\"select * from senadores_cadastro\",con)\n",
    "df_sen_prop=pd.read_sql(\"select * from senadores_propostas\",con)\n",
    "df_sen_sess=pd.read_sql(\"select * from senadores_sessoes\",con)\n",
    "df_sen_voto=pd.read_sql(\"select * from senadores_votacoes\",con)\n",
    "df_diap=pd.read_sql(\"select * from diap\",con)\n",
    "con.close()"
   ]
  },
  {
   "cell_type": "code",
   "execution_count": 4,
   "metadata": {},
   "outputs": [],
   "source": [
    "#df_sen.info()\n",
    "#df_diap.info()"
   ]
  },
  {
   "cell_type": "code",
   "execution_count": 6,
   "metadata": {},
   "outputs": [],
   "source": [
    "df_sen.drop(columns=[\"NM_CANDIDATO\",\"NM_MUNICIPIO_NASCIMENTO\",\"SQ_CANDIDATO\",\n",
    "                           \"IDADE\",\"NM_EMAIL\",\"URL_SENADO\",\"FOTO_URI\",\"URL_PARTICULAR\"], inplace=True)"
   ]
  },
  {
   "cell_type": "code",
   "execution_count": 7,
   "metadata": {},
   "outputs": [],
   "source": [
    "#df_sen.sample(5)"
   ]
  },
  {
   "cell_type": "code",
   "execution_count": 8,
   "metadata": {},
   "outputs": [],
   "source": [
    "#df_sen_prop.shape\n",
    "#df_sen_prop.info()\n",
    "#df_sen_prop.head()"
   ]
  },
  {
   "cell_type": "markdown",
   "metadata": {},
   "source": [
    "## Percentual de cada tipo de proposta"
   ]
  },
  {
   "cell_type": "code",
   "execution_count": 9,
   "metadata": {},
   "outputs": [],
   "source": [
    "df_prop_tipos=pd.DataFrame(df_sen_prop[\"TIPO_DESC\"].value_counts())\n",
    "df_prop_tipos.rename(columns={\"TIPO_DESC\":\"QUANT\"}, inplace=True)\n",
    "df_prop_tipos.index.name=\"TIPO_DESC\"\n",
    "#df_prop_tipos"
   ]
  },
  {
   "cell_type": "code",
   "execution_count": 10,
   "metadata": {},
   "outputs": [],
   "source": [
    "f = lambda x: x/x.sum()\n",
    "df_prop_tipos[\"PERC\"]=df_prop_tipos.apply(f)\n",
    "#df_prop_tipos[\"QUANT\"].plot(kind=\"bar\")"
   ]
  },
  {
   "cell_type": "markdown",
   "metadata": {},
   "source": [
    "## Sessões parlamentares com votacção"
   ]
  },
  {
   "cell_type": "code",
   "execution_count": 11,
   "metadata": {},
   "outputs": [],
   "source": [
    "df_sen_sess[\"SESSAO_DATA\"]=df_sen_sess[\"SESSAO_DATA\"].apply(lambda x:datetime.datetime.strptime(x, '%Y-%m-%d'))"
   ]
  },
  {
   "cell_type": "code",
   "execution_count": 12,
   "metadata": {},
   "outputs": [],
   "source": [
    "#df_sen_sess.info()"
   ]
  },
  {
   "cell_type": "code",
   "execution_count": 13,
   "metadata": {},
   "outputs": [],
   "source": [
    "# Ajusta colunas e nomes\n",
    "df_sen_sess=df_sen_sess[[\"SESSAO_DATA\",\"SESSAO\",\"SESSAO_TIPO\",\"SESSAO_DESCRICAO\"]]\n",
    "df_sen_sess.rename({\"SESSAO_DESCRICAO\":\"SESSAO_DESC\"}, axis=1, inplace=True)\n",
    "#df_sen_sess.tail()"
   ]
  },
  {
   "cell_type": "code",
   "execution_count": 14,
   "metadata": {},
   "outputs": [],
   "source": [
    "#df_sen_sess[df_sen_sess[\"SESSAO\"]==86315]"
   ]
  },
  {
   "cell_type": "code",
   "execution_count": 15,
   "metadata": {},
   "outputs": [],
   "source": [
    "df_sen_voto[\"SESSAO\"]=df_sen_voto[\"SESSAO\"].astype(\"object\")\n",
    "df_sen_sess[\"SESSAO\"]=df_sen_sess[\"SESSAO\"].astype(\"object\")\n",
    "#df_sen_voto.info()\n",
    "#df_sen_sess.info()\n",
    "                                        "
   ]
  },
  {
   "cell_type": "code",
   "execution_count": 16,
   "metadata": {},
   "outputs": [],
   "source": [
    "#sessao=df_sen_voto[\"SESSAO\"]==\"192306\"\n",
    "#senador=df_sen_voto[\"ID_SENADO\"]==\"1023\"\n",
    "#df_sen_voto[(sessao & senador)]"
   ]
  },
  {
   "cell_type": "markdown",
   "metadata": {},
   "source": [
    "## Percentual de cada tipo de sessão"
   ]
  },
  {
   "cell_type": "code",
   "execution_count": 17,
   "metadata": {},
   "outputs": [
    {
     "data": {
      "text/html": [
       "<div>\n",
       "<style scoped>\n",
       "    .dataframe tbody tr th:only-of-type {\n",
       "        vertical-align: middle;\n",
       "    }\n",
       "\n",
       "    .dataframe tbody tr th {\n",
       "        vertical-align: top;\n",
       "    }\n",
       "\n",
       "    .dataframe thead th {\n",
       "        text-align: right;\n",
       "    }\n",
       "</style>\n",
       "<table border=\"1\" class=\"dataframe\">\n",
       "  <thead>\n",
       "    <tr style=\"text-align: right;\">\n",
       "      <th></th>\n",
       "      <th>SESSAO_DESC</th>\n",
       "    </tr>\n",
       "  </thead>\n",
       "  <tbody>\n",
       "    <tr>\n",
       "      <th>Sessão Deliberativa Ordinária</th>\n",
       "      <td>224</td>\n",
       "    </tr>\n",
       "    <tr>\n",
       "      <th>Sessão Deliberativa Remota</th>\n",
       "      <td>182</td>\n",
       "    </tr>\n",
       "    <tr>\n",
       "      <th>Sessão Deliberativa Extraordinária</th>\n",
       "      <td>9</td>\n",
       "    </tr>\n",
       "  </tbody>\n",
       "</table>\n",
       "</div>"
      ],
      "text/plain": [
       "                                    SESSAO_DESC\n",
       "Sessão Deliberativa Ordinária               224\n",
       "Sessão Deliberativa Remota                  182\n",
       "Sessão Deliberativa Extraordinária            9"
      ]
     },
     "execution_count": 17,
     "metadata": {},
     "output_type": "execute_result"
    }
   ],
   "source": [
    "#df_sen_sess.info()\n",
    "#df_sen_sess[\"SESSAO_DESC\"].value_counts()\n",
    "df_sess_tipos=pd.DataFrame(df_sen_sess[\"SESSAO_DESC\"].value_counts())\n",
    "df_sess_tipos"
   ]
  },
  {
   "cell_type": "code",
   "execution_count": 18,
   "metadata": {},
   "outputs": [],
   "source": [
    "df_sess_tipos.rename(columns={\"SESSAO_DESC\":\"QUANT\"}, inplace=True)\n",
    "df_sess_tipos.index.name=\"TIPO_DESC\"\n",
    "#df_sess_tipos"
   ]
  },
  {
   "cell_type": "code",
   "execution_count": 19,
   "metadata": {},
   "outputs": [],
   "source": [
    "f = lambda x: x/x.sum()\n",
    "df_sess_tipos[\"PERC\"]=df_sess_tipos.apply(f)\n",
    "#df_sess_tipos[\"QUANT\"].plot(kind=\"bar\")"
   ]
  },
  {
   "cell_type": "code",
   "execution_count": 20,
   "metadata": {},
   "outputs": [],
   "source": [
    "#df_sen_sess.info()\n",
    "#df_sen_voto.info()"
   ]
  },
  {
   "cell_type": "markdown",
   "metadata": {},
   "source": [
    "## Para cada senador"
   ]
  },
  {
   "cell_type": "markdown",
   "metadata": {},
   "source": [
    "### Total de propostas"
   ]
  },
  {
   "cell_type": "code",
   "execution_count": 21,
   "metadata": {},
   "outputs": [],
   "source": [
    "x=df_sen_prop.groupby(\"ID_SENADO\")[\"TIPO\"].value_counts()\n",
    "df_sen_prop_tipos=x.unstack().fillna(0)\n",
    "df_sen_prop_tipos[\"PROP_TOTAL\"]=df_sen_prop_tipos.sum(axis=1)\n",
    "\n",
    "df_sen_prop_tipos.sort_values(\"PROP_TOTAL\", inplace=True, ascending=False)\n",
    "#df_sen_prop_tipos.head()\n",
    "#df_sen_prop_tipos[\"PROP_TOTAL\"].iloc[1:10].plot(kind=\"bar\")"
   ]
  },
  {
   "cell_type": "code",
   "execution_count": 22,
   "metadata": {},
   "outputs": [],
   "source": [
    "df_sen_prop_tipos=df_sen_prop_tipos[[\"REQ\",\"PEC\",\"PL\",\"PROP_TOTAL\"]]"
   ]
  },
  {
   "cell_type": "code",
   "execution_count": 23,
   "metadata": {},
   "outputs": [],
   "source": [
    "df_sen_prod=pd.merge(df_sen,df_sen_prop_tipos, how=\"left\", on=\"ID_SENADO\")\n",
    "#df_sen_prod.info()"
   ]
  },
  {
   "cell_type": "markdown",
   "metadata": {},
   "source": [
    "### Total de votações"
   ]
  },
  {
   "cell_type": "code",
   "execution_count": 24,
   "metadata": {},
   "outputs": [],
   "source": [
    "x=df_sen_voto.groupby(\"ID_SENADO\")[\"VOTO\"].value_counts()\n",
    "#type(x)\n",
    "df_sen_voto_tipos=x.unstack().fillna(0)\n",
    "df_sen_voto_tipos[\"VOTO_TOTAL\"]=df_sen_voto_tipos.sum(axis=1)\n",
    "df_sen_voto_tipos=df_sen_voto_tipos.sort_values(\"NCom\", ascending=False)\n",
    "#df_sen_voto_tipos[\"NCom\"].iloc[1:10].plot(kind=\"bar\")\n",
    "df_sen_voto_tipos[\"AUSENCIA\"]=df_sen_voto_tipos[\"NCom\"]/df_sen_voto_tipos[\"VOTO_TOTAL\"]\n",
    "df_sen_voto_tipos[\"PRESENCA\"]=1-df_sen_voto_tipos[\"AUSENCIA\"]\n",
    "#df_sen_voto_tipos.head()"
   ]
  },
  {
   "cell_type": "code",
   "execution_count": 25,
   "metadata": {},
   "outputs": [],
   "source": [
    "df_sen_assid=df_sen_voto_tipos[[\"PRESENCA\",\"AUSENCIA\"]]"
   ]
  },
  {
   "cell_type": "code",
   "execution_count": 26,
   "metadata": {},
   "outputs": [],
   "source": [
    "df_sen_prod=pd.merge(df_sen_prod,df_sen_assid, how=\"left\", on=\"ID_SENADO\")\n",
    "#df_sen_prod.info()"
   ]
  },
  {
   "cell_type": "code",
   "execution_count": 27,
   "metadata": {},
   "outputs": [],
   "source": [
    "df=pd.merge(df_sen_prod,df_diap, how=\"left\", on=\"CPF\")\n",
    "#df=df_sen_prod"
   ]
  },
  {
   "cell_type": "code",
   "execution_count": 28,
   "metadata": {},
   "outputs": [],
   "source": [
    "#df.info()\n",
    "df.fillna(0, inplace=True)"
   ]
  },
  {
   "cell_type": "raw",
   "metadata": {},
   "source": [
    "df[[\"CPF\",\"NM_URNA_CANDIDATO\",\"MESA\",\"LIDERANCA\",\"cabeças\",\"REQ\",\"PEC\",\"PROP_TOTAL\"]][df[\"PROP_TOTAL\"]>10]"
   ]
  },
  {
   "cell_type": "code",
   "execution_count": 29,
   "metadata": {},
   "outputs": [],
   "source": [
    "hoje=datetime.datetime.now()\n",
    "df[\"IDADE\"]=df[\"DT_NASCIMENTO\"].apply(lambda x:(hoje-datetime.datetime.strptime(x, '%d/%m/%Y')).days//(365.25))"
   ]
  },
  {
   "cell_type": "code",
   "execution_count": 30,
   "metadata": {},
   "outputs": [],
   "source": [
    "#df.sample(5)"
   ]
  },
  {
   "cell_type": "code",
   "execution_count": 31,
   "metadata": {},
   "outputs": [],
   "source": [
    "#df.columns"
   ]
  },
  {
   "cell_type": "code",
   "execution_count": 32,
   "metadata": {},
   "outputs": [],
   "source": [
    "#df.columns\n",
    "df.drop(columns=\"DS_CARGO\", axis=1, inplace=True)"
   ]
  },
  {
   "cell_type": "code",
   "execution_count": 33,
   "metadata": {},
   "outputs": [],
   "source": [
    "#df.shape\n",
    "#df.info()\n",
    "#df.sample(10)"
   ]
  },
  {
   "cell_type": "code",
   "execution_count": 34,
   "metadata": {},
   "outputs": [],
   "source": [
    "#df.info()\n",
    "#df.describe().round(2)"
   ]
  },
  {
   "cell_type": "code",
   "execution_count": 35,
   "metadata": {},
   "outputs": [],
   "source": [
    "#df.fillna(0, inplace=True)\n",
    "#df.info()"
   ]
  },
  {
   "cell_type": "code",
   "execution_count": 36,
   "metadata": {},
   "outputs": [],
   "source": [
    "#df.describe(include=np.object)"
   ]
  },
  {
   "cell_type": "raw",
   "metadata": {},
   "source": [
    "plt.clf()\n",
    "df.hist(figsize=(10,7))\n",
    "plt.tight_layout()\n",
    "plt.show"
   ]
  },
  {
   "cell_type": "code",
   "execution_count": 37,
   "metadata": {},
   "outputs": [],
   "source": [
    "#df.info()\n",
    "#unicos=df.nunique()\n",
    "#unicos"
   ]
  },
  {
   "cell_type": "markdown",
   "metadata": {},
   "source": [
    "## Defindo variaveis categóricas numericas"
   ]
  },
  {
   "cell_type": "code",
   "execution_count": 38,
   "metadata": {},
   "outputs": [],
   "source": [
    "def analisa_variaveis(df,variaveis,nunicas):\n",
    "    lista=[]\n",
    "    unicos=df[variaveis].nunique()\n",
    "    for variavel in unicos.index:\n",
    "        quant=unicos.loc[variavel]\n",
    "        if quant <= nunicas:\n",
    "            lista.append(variavel)\n",
    "            print(\"Variavel {}, {} ocorrências únicas\".format(variavel,quant))\n",
    "            print(df[variavel].sort_values().unique())\n",
    "    return lista"
   ]
  },
  {
   "cell_type": "code",
   "execution_count": 39,
   "metadata": {},
   "outputs": [
    {
     "data": {
      "text/plain": [
       "VL_BENS                  79\n",
       "ANO_ELEICAO               2\n",
       "VR_DESPESA_CONTRATADA    79\n",
       "followers_count          69\n",
       "tweets                   69\n",
       "VOTOS_TOTAL_PARL         79\n",
       "REQ                      27\n",
       "PEC                       5\n",
       "PL                       28\n",
       "PROP_TOTAL               45\n",
       "PRESENCA                 21\n",
       "AUSENCIA                 20\n",
       "mandatos                  5\n",
       "cabeças                  13\n",
       "debatedor                 2\n",
       "articulador               2\n",
       "formulador                2\n",
       "negociador                2\n",
       "IDADE                    32\n",
       "dtype: int64"
      ]
     },
     "execution_count": 39,
     "metadata": {},
     "output_type": "execute_result"
    }
   ],
   "source": [
    "variaveis_numericas= df.select_dtypes(include=[np.number]).columns\n",
    "df[variaveis_numericas].nunique()"
   ]
  },
  {
   "cell_type": "code",
   "execution_count": 40,
   "metadata": {},
   "outputs": [
    {
     "name": "stdout",
     "output_type": "stream",
     "text": [
      "Variavel ANO_ELEICAO, 2 ocorrências únicas\n",
      "[2014 2018]\n",
      "Variavel debatedor, 2 ocorrências únicas\n",
      "[0. 1.]\n",
      "Variavel articulador, 2 ocorrências únicas\n",
      "[0. 1.]\n",
      "Variavel formulador, 2 ocorrências únicas\n",
      "[0. 1.]\n",
      "Variavel negociador, 2 ocorrências únicas\n",
      "[0. 1.]\n"
     ]
    },
    {
     "data": {
      "text/plain": [
       "['ANO_ELEICAO', 'debatedor', 'articulador', 'formulador', 'negociador']"
      ]
     },
     "execution_count": 40,
     "metadata": {},
     "output_type": "execute_result"
    }
   ],
   "source": [
    "cat_numericas=analisa_variaveis(df,variaveis_numericas,2)\n",
    "cat_numericas"
   ]
  },
  {
   "cell_type": "raw",
   "metadata": {},
   "source": [
    "#variaveis_categoricas.remove(\"time_spend_company\")\n",
    "cat_numericas.remove(\"ATS\")\n",
    "cat_numericas.remove(\"INS\")\n",
    "cat_numericas.remove(\"OFS\")\n",
    "cat_numericas.remove(\"PET\")\n",
    "cat_numericas.remove(\"PFS\")\n",
    "cat_numericas.remove(\"R.S\")\n"
   ]
  },
  {
   "cell_type": "code",
   "execution_count": 41,
   "metadata": {},
   "outputs": [
    {
     "name": "stdout",
     "output_type": "stream",
     "text": [
      "<class 'pandas.core.frame.DataFrame'>\n",
      "Int64Index: 79 entries, 0 to 78\n",
      "Data columns (total 5 columns):\n",
      " #   Column       Non-Null Count  Dtype  \n",
      "---  ------       --------------  -----  \n",
      " 0   ANO_ELEICAO  79 non-null     int64  \n",
      " 1   debatedor    79 non-null     float64\n",
      " 2   articulador  79 non-null     float64\n",
      " 3   formulador   79 non-null     float64\n",
      " 4   negociador   79 non-null     float64\n",
      "dtypes: float64(4), int64(1)\n",
      "memory usage: 3.7 KB\n"
     ]
    }
   ],
   "source": [
    "df[cat_numericas].info()\n"
   ]
  },
  {
   "cell_type": "code",
   "execution_count": 42,
   "metadata": {},
   "outputs": [
    {
     "data": {
      "text/plain": [
       "CPF                  79\n",
       "DT_NASCIMENTO        79\n",
       "SG_UF_NASCIMENTO     26\n",
       "DS_GENERO             2\n",
       "DS_GRAU_INSTRUCAO     4\n",
       "DS_ESTADO_CIVIL       5\n",
       "DS_COR_RACA           3\n",
       "DS_OCUPACAO          24\n",
       "SG_PARTIDO           21\n",
       "SG_UE                27\n",
       "NM_URNA_CANDIDATO    79\n",
       "id                   69\n",
       "foto                 69\n",
       "ID_SENADO            77\n",
       "ID_PUB               77\n",
       "MESA                  3\n",
       "LIDERANCA             3\n",
       "dtype: int64"
      ]
     },
     "execution_count": 42,
     "metadata": {},
     "output_type": "execute_result"
    }
   ],
   "source": [
    "variaveis_objeto=df.select_dtypes(include=\"object\").columns\n",
    "df[variaveis_objeto].nunique()"
   ]
  },
  {
   "cell_type": "code",
   "execution_count": 43,
   "metadata": {},
   "outputs": [
    {
     "data": {
      "text/plain": [
       "array(['Não', 0, 'Sim'], dtype=object)"
      ]
     },
     "execution_count": 43,
     "metadata": {},
     "output_type": "execute_result"
    },
    {
     "data": {
      "text/plain": [
       "4     RONALDO CAIADO\n",
       "14            FATIMA\n",
       "16    GLADSON CAMELI\n",
       "Name: NM_URNA_CANDIDATO, dtype: object"
      ]
     },
     "execution_count": 43,
     "metadata": {},
     "output_type": "execute_result"
    },
    {
     "data": {
      "text/plain": [
       "(79, 36)"
      ]
     },
     "execution_count": 43,
     "metadata": {},
     "output_type": "execute_result"
    },
    {
     "data": {
      "text/plain": [
       "(76, 36)"
      ]
     },
     "execution_count": 43,
     "metadata": {},
     "output_type": "execute_result"
    }
   ],
   "source": [
    "# Retirandos os senadores eleitos que não estão ativos\n",
    "df[\"MESA\"].unique()\n",
    "df[\"NM_URNA_CANDIDATO\"][df[\"MESA\"]==0]\n",
    "df.shape\n",
    "df=df[df[\"MESA\"]!=0]\n",
    "\n",
    "df.shape\n"
   ]
  },
  {
   "cell_type": "code",
   "execution_count": 44,
   "metadata": {},
   "outputs": [
    {
     "name": "stdout",
     "output_type": "stream",
     "text": [
      "Variavel SG_UF_NASCIMENTO, 26 ocorrências únicas\n",
      "['AC' 'AL' 'AM' 'AP' 'BA' 'CE' 'DF' 'ES' 'GO' 'MA' 'MG' 'MS' 'MT' 'PA'\n",
      " 'PB' 'PE' 'PI' 'PR' 'RJ' 'RO' 'RR' 'RS' 'SC' 'SE' 'SP' 'TO']\n",
      "Variavel DS_GENERO, 2 ocorrências únicas\n",
      "['FEMININO' 'MASCULINO']\n",
      "Variavel DS_GRAU_INSTRUCAO, 4 ocorrências únicas\n",
      "['ENSINO FUNDAMENTAL INCOMPLETO' 'ENSINO MÉDIO COMPLETO'\n",
      " 'SUPERIOR COMPLETO' 'SUPERIOR INCOMPLETO']\n",
      "Variavel DS_ESTADO_CIVIL, 5 ocorrências únicas\n",
      "['CASADO(A)' 'DIVORCIADO(A)' 'SEPARADO(A) JUDICIALMENTE' 'SOLTEIRO(A)'\n",
      " 'VIÚVO(A)']\n",
      "Variavel DS_COR_RACA, 3 ocorrências únicas\n",
      "['BRANCA' 'PARDA' 'PRETA']\n",
      "Variavel DS_OCUPACAO, 24 ocorrências únicas\n",
      "['ADMINISTRADOR' 'ADVOGADO' 'APOSENTADO (EXCETO SERVIDOR PÚBLICO)'\n",
      " 'ATLETA PROFISSIONAL E TÉCNICO EM DESPORTOS' 'COMERCIANTE' 'CONTADOR'\n",
      " 'DEPUTADO' 'ECONOMISTA' 'EMPRESÁRIO' 'ENGENHEIRO' 'HISTORIADOR'\n",
      " 'INDUSTRIAL' 'JORNALEIRO' 'JORNALISTA E REDATOR' 'MÉDICO' 'OUTROS'\n",
      " 'PEDAGOGO' 'POLICIAL CIVIL' 'POLICIAL MILITAR'\n",
      " 'PROFESSOR DE ENSINO SUPERIOR' 'SENADOR' 'SERVIDOR PÚBLICO ESTADUAL'\n",
      " 'TÉCNICO DE ELETRICIDADE, ELETRÔNICA E TELECOMUNICAÇÕES' 'VEREADOR']\n",
      "Variavel SG_PARTIDO, 21 ocorrências únicas\n",
      "['DEM' 'MDB' 'PDT' 'PHS' 'PMDB' 'PODE' 'PP' 'PPS' 'PR' 'PRB' 'PROS' 'PRP'\n",
      " 'PSB' 'PSC' 'PSD' 'PSDB' 'PSL' 'PT' 'PTB' 'REDE' 'SOLIDARIEDADE']\n",
      "Variavel SG_UE, 27 ocorrências únicas\n",
      "['AC' 'AL' 'AM' 'AP' 'BA' 'CE' 'DF' 'ES' 'GO' 'MA' 'MG' 'MS' 'MT' 'PA'\n",
      " 'PB' 'PE' 'PI' 'PR' 'RJ' 'RN' 'RO' 'RR' 'RS' 'SC' 'SE' 'SP' 'TO']\n",
      "Variavel MESA, 2 ocorrências únicas\n",
      "['Não' 'Sim']\n",
      "Variavel LIDERANCA, 2 ocorrências únicas\n",
      "['Não' 'Sim']\n"
     ]
    }
   ],
   "source": [
    "cat_objeto=analisa_variaveis(df,variaveis_objeto,27)\n",
    "#cat_objeto"
   ]
  },
  {
   "cell_type": "code",
   "execution_count": 45,
   "metadata": {},
   "outputs": [
    {
     "data": {
      "text/plain": [
       "['ANO_ELEICAO',\n",
       " 'debatedor',\n",
       " 'articulador',\n",
       " 'formulador',\n",
       " 'negociador',\n",
       " 'SG_UF_NASCIMENTO',\n",
       " 'DS_GENERO',\n",
       " 'DS_GRAU_INSTRUCAO',\n",
       " 'DS_ESTADO_CIVIL',\n",
       " 'DS_COR_RACA',\n",
       " 'DS_OCUPACAO',\n",
       " 'SG_PARTIDO',\n",
       " 'SG_UE',\n",
       " 'MESA',\n",
       " 'LIDERANCA']"
      ]
     },
     "execution_count": 45,
     "metadata": {},
     "output_type": "execute_result"
    }
   ],
   "source": [
    "#variaveis_dummy=variaveis_categoricas[0:3]\n",
    "variaveis_categoricas=cat_numericas+cat_objeto\n",
    "variaveis_categoricas"
   ]
  },
  {
   "cell_type": "code",
   "execution_count": 46,
   "metadata": {},
   "outputs": [
    {
     "name": "stdout",
     "output_type": "stream",
     "text": [
      "<class 'pandas.core.frame.DataFrame'>\n",
      "Int64Index: 76 entries, 0 to 78\n",
      "Data columns (total 36 columns):\n",
      " #   Column                 Non-Null Count  Dtype   \n",
      "---  ------                 --------------  -----   \n",
      " 0   CPF                    76 non-null     object  \n",
      " 1   DT_NASCIMENTO          76 non-null     object  \n",
      " 2   SG_UF_NASCIMENTO       76 non-null     category\n",
      " 3   DS_GENERO              76 non-null     category\n",
      " 4   DS_GRAU_INSTRUCAO      76 non-null     category\n",
      " 5   DS_ESTADO_CIVIL        76 non-null     category\n",
      " 6   DS_COR_RACA            76 non-null     category\n",
      " 7   DS_OCUPACAO            76 non-null     category\n",
      " 8   VL_BENS                76 non-null     float64 \n",
      " 9   ANO_ELEICAO            76 non-null     category\n",
      " 10  SG_PARTIDO             76 non-null     category\n",
      " 11  SG_UE                  76 non-null     category\n",
      " 12  NM_URNA_CANDIDATO      76 non-null     object  \n",
      " 13  VR_DESPESA_CONTRATADA  76 non-null     float64 \n",
      " 14  id                     76 non-null     object  \n",
      " 15  followers_count        76 non-null     float64 \n",
      " 16  tweets                 76 non-null     float64 \n",
      " 17  foto                   76 non-null     object  \n",
      " 18  VOTOS_TOTAL_PARL       76 non-null     int64   \n",
      " 19  ID_SENADO              76 non-null     object  \n",
      " 20  ID_PUB                 76 non-null     object  \n",
      " 21  MESA                   76 non-null     category\n",
      " 22  LIDERANCA              76 non-null     category\n",
      " 23  REQ                    76 non-null     float64 \n",
      " 24  PEC                    76 non-null     float64 \n",
      " 25  PL                     76 non-null     float64 \n",
      " 26  PROP_TOTAL             76 non-null     float64 \n",
      " 27  PRESENCA               76 non-null     float64 \n",
      " 28  AUSENCIA               76 non-null     float64 \n",
      " 29  mandatos               76 non-null     float64 \n",
      " 30  cabeças                76 non-null     float64 \n",
      " 31  debatedor              76 non-null     category\n",
      " 32  articulador            76 non-null     category\n",
      " 33  formulador             76 non-null     category\n",
      " 34  negociador             76 non-null     category\n",
      " 35  IDADE                  76 non-null     float64 \n",
      "dtypes: category(15), float64(13), int64(1), object(7)\n",
      "memory usage: 19.9+ KB\n"
     ]
    }
   ],
   "source": [
    "for variavel in variaveis_categoricas:\n",
    "    df[variavel]=df[variavel].astype(\"category\")\n",
    "df.info()\n",
    "#df.describe(include=np.object)"
   ]
  },
  {
   "cell_type": "code",
   "execution_count": 47,
   "metadata": {},
   "outputs": [
    {
     "data": {
      "text/plain": [
       "['VL_BENS',\n",
       " 'VR_DESPESA_CONTRATADA',\n",
       " 'followers_count',\n",
       " 'tweets',\n",
       " 'VOTOS_TOTAL_PARL',\n",
       " 'REQ',\n",
       " 'PEC',\n",
       " 'PL',\n",
       " 'PROP_TOTAL',\n",
       " 'PRESENCA',\n",
       " 'AUSENCIA',\n",
       " 'mandatos',\n",
       " 'cabeças',\n",
       " 'IDADE']"
      ]
     },
     "execution_count": 47,
     "metadata": {},
     "output_type": "execute_result"
    },
    {
     "data": {
      "text/plain": [
       "['ANO_ELEICAO',\n",
       " 'debatedor',\n",
       " 'articulador',\n",
       " 'formulador',\n",
       " 'negociador',\n",
       " 'SG_UF_NASCIMENTO',\n",
       " 'DS_GENERO',\n",
       " 'DS_GRAU_INSTRUCAO',\n",
       " 'DS_ESTADO_CIVIL',\n",
       " 'DS_COR_RACA',\n",
       " 'DS_OCUPACAO',\n",
       " 'SG_PARTIDO',\n",
       " 'SG_UE',\n",
       " 'MESA',\n",
       " 'LIDERANCA']"
      ]
     },
     "execution_count": 47,
     "metadata": {},
     "output_type": "execute_result"
    }
   ],
   "source": [
    "variaveis_numericas= list(df.select_dtypes(include=[np.number]).columns)\n",
    "variaveis_numericas\n",
    "variaveis_categoricas"
   ]
  },
  {
   "cell_type": "markdown",
   "metadata": {
    "slideshow": {
     "slide_type": "slide"
    }
   },
   "source": [
    "## Criação das variáveis dummies, categoricas e numéricas para modelo"
   ]
  },
  {
   "cell_type": "code",
   "execution_count": 48,
   "metadata": {},
   "outputs": [
    {
     "data": {
      "text/plain": [
       "VL_BENS                  76\n",
       "VR_DESPESA_CONTRATADA    76\n",
       "followers_count          68\n",
       "tweets                   68\n",
       "VOTOS_TOTAL_PARL         76\n",
       "REQ                      27\n",
       "PEC                       5\n",
       "PL                       28\n",
       "PROP_TOTAL               45\n",
       "PRESENCA                 20\n",
       "AUSENCIA                 20\n",
       "mandatos                  5\n",
       "cabeças                  13\n",
       "IDADE                    32\n",
       "SG_UF_NASCIMENTO         26\n",
       "DS_GENERO                 2\n",
       "DS_GRAU_INSTRUCAO         4\n",
       "DS_ESTADO_CIVIL           5\n",
       "DS_COR_RACA               3\n",
       "DS_OCUPACAO              24\n",
       "ANO_ELEICAO               2\n",
       "SG_PARTIDO               21\n",
       "SG_UE                    27\n",
       "MESA                      2\n",
       "LIDERANCA                 2\n",
       "debatedor                 2\n",
       "articulador               2\n",
       "formulador                2\n",
       "negociador                2\n",
       "dtype: int64"
      ]
     },
     "execution_count": 48,
     "metadata": {},
     "output_type": "execute_result"
    }
   ],
   "source": [
    "variaveis_numericas=variaveis_numericas= list(df.select_dtypes(include=[np.number]).columns)\n",
    "variaveis_categoricas= list(df.select_dtypes(include=\"category\").columns)\n",
    "variaveis_modelo=variaveis_numericas+variaveis_categoricas\n",
    "\n",
    "df[variaveis_modelo].nunique()"
   ]
  },
  {
   "cell_type": "raw",
   "metadata": {},
   "source": [
    "df.drop(columns=[\"DS_GENERO\",\"DS_GRAU_INSTRUCAO\",\n",
    "                 \"DS_ESTADO_CIVIL\",\"DS_COR_RACA\",\n",
    "                 \"DS_OCUPACAO\",\"ANO_ELEICAO\",\"SG_PARTIDO\",\"SG_UE\",\n",
    "                 \"SG_UF_NASCIMENTO\",\"IDADE\"], inplace=True)"
   ]
  },
  {
   "cell_type": "code",
   "execution_count": 49,
   "metadata": {},
   "outputs": [],
   "source": [
    "variaveis_numericas=variaveis_numericas= list(df.select_dtypes(include=[np.number]).columns)\n",
    "variaveis_categoricas= list(df.select_dtypes(include=\"category\").columns)\n",
    "variaveis_modelo=variaveis_numericas+variaveis_categoricas\n",
    "variaveis_dummy=[]"
   ]
  },
  {
   "cell_type": "code",
   "execution_count": 50,
   "metadata": {},
   "outputs": [
    {
     "data": {
      "text/plain": [
       "['SG_UF_NASCIMENTO',\n",
       " 'DS_GENERO',\n",
       " 'DS_GRAU_INSTRUCAO',\n",
       " 'DS_ESTADO_CIVIL',\n",
       " 'DS_COR_RACA',\n",
       " 'DS_OCUPACAO',\n",
       " 'ANO_ELEICAO',\n",
       " 'SG_PARTIDO',\n",
       " 'SG_UE',\n",
       " 'MESA',\n",
       " 'LIDERANCA',\n",
       " 'debatedor',\n",
       " 'articulador',\n",
       " 'formulador',\n",
       " 'negociador']"
      ]
     },
     "execution_count": 50,
     "metadata": {},
     "output_type": "execute_result"
    }
   ],
   "source": [
    "#variaveis_categoricas.remove(target[0])\n",
    "#variaveis_dummy.remove(target[0])\n",
    "hot_encoding=variaveis_categoricas\n",
    "hot_encoding"
   ]
  },
  {
   "cell_type": "code",
   "execution_count": 51,
   "metadata": {},
   "outputs": [
    {
     "data": {
      "text/plain": [
       "['SG_UF_NASCIMENTO',\n",
       " 'DS_GENERO',\n",
       " 'DS_GRAU_INSTRUCAO',\n",
       " 'DS_ESTADO_CIVIL',\n",
       " 'DS_COR_RACA',\n",
       " 'DS_OCUPACAO',\n",
       " 'ANO_ELEICAO',\n",
       " 'SG_PARTIDO',\n",
       " 'SG_UE',\n",
       " 'MESA',\n",
       " 'LIDERANCA']"
      ]
     },
     "execution_count": 51,
     "metadata": {},
     "output_type": "execute_result"
    }
   ],
   "source": [
    "hot_encoding.remove(\"debatedor\")\n",
    "hot_encoding.remove(\"articulador\")\n",
    "hot_encoding.remove(\"formulador\")\n",
    "hot_encoding.remove(\"negociador\")\n",
    "hot_encoding"
   ]
  },
  {
   "cell_type": "code",
   "execution_count": 52,
   "metadata": {},
   "outputs": [],
   "source": [
    "df_original=df.copy()\n"
   ]
  },
  {
   "cell_type": "code",
   "execution_count": 53,
   "metadata": {},
   "outputs": [
    {
     "data": {
      "text/html": [
       "<div>\n",
       "<style scoped>\n",
       "    .dataframe tbody tr th:only-of-type {\n",
       "        vertical-align: middle;\n",
       "    }\n",
       "\n",
       "    .dataframe tbody tr th {\n",
       "        vertical-align: top;\n",
       "    }\n",
       "\n",
       "    .dataframe thead th {\n",
       "        text-align: right;\n",
       "    }\n",
       "</style>\n",
       "<table border=\"1\" class=\"dataframe\">\n",
       "  <thead>\n",
       "    <tr style=\"text-align: right;\">\n",
       "      <th></th>\n",
       "      <th>CPF</th>\n",
       "      <th>DT_NASCIMENTO</th>\n",
       "      <th>SG_UF_NASCIMENTO</th>\n",
       "      <th>DS_GENERO</th>\n",
       "      <th>DS_GRAU_INSTRUCAO</th>\n",
       "      <th>DS_ESTADO_CIVIL</th>\n",
       "      <th>DS_COR_RACA</th>\n",
       "      <th>DS_OCUPACAO</th>\n",
       "      <th>VL_BENS</th>\n",
       "      <th>ANO_ELEICAO</th>\n",
       "      <th>...</th>\n",
       "      <th>PROP_TOTAL</th>\n",
       "      <th>PRESENCA</th>\n",
       "      <th>AUSENCIA</th>\n",
       "      <th>mandatos</th>\n",
       "      <th>cabeças</th>\n",
       "      <th>debatedor</th>\n",
       "      <th>articulador</th>\n",
       "      <th>formulador</th>\n",
       "      <th>negociador</th>\n",
       "      <th>IDADE</th>\n",
       "    </tr>\n",
       "  </thead>\n",
       "  <tbody>\n",
       "    <tr>\n",
       "      <th>33</th>\n",
       "      <td>26471620772</td>\n",
       "      <td>16/03/1951</td>\n",
       "      <td>RJ</td>\n",
       "      <td>MASCULINO</td>\n",
       "      <td>SUPERIOR INCOMPLETO</td>\n",
       "      <td>CASADO(A)</td>\n",
       "      <td>BRANCA</td>\n",
       "      <td>INDUSTRIAL</td>\n",
       "      <td>3355966.73</td>\n",
       "      <td>2018</td>\n",
       "      <td>...</td>\n",
       "      <td>29.0</td>\n",
       "      <td>0.961538</td>\n",
       "      <td>0.038462</td>\n",
       "      <td>1.0</td>\n",
       "      <td>9.0</td>\n",
       "      <td>0.0</td>\n",
       "      <td>1.0</td>\n",
       "      <td>0.0</td>\n",
       "      <td>0.0</td>\n",
       "      <td>69.0</td>\n",
       "    </tr>\n",
       "    <tr>\n",
       "      <th>38</th>\n",
       "      <td>07654871449</td>\n",
       "      <td>23/04/1951</td>\n",
       "      <td>PE</td>\n",
       "      <td>MASCULINO</td>\n",
       "      <td>SUPERIOR COMPLETO</td>\n",
       "      <td>CASADO(A)</td>\n",
       "      <td>PARDA</td>\n",
       "      <td>ENGENHEIRO</td>\n",
       "      <td>1999315.15</td>\n",
       "      <td>2018</td>\n",
       "      <td>...</td>\n",
       "      <td>34.0</td>\n",
       "      <td>1.000000</td>\n",
       "      <td>0.000000</td>\n",
       "      <td>0.0</td>\n",
       "      <td>0.0</td>\n",
       "      <td>0.0</td>\n",
       "      <td>0.0</td>\n",
       "      <td>0.0</td>\n",
       "      <td>0.0</td>\n",
       "      <td>69.0</td>\n",
       "    </tr>\n",
       "    <tr>\n",
       "      <th>62</th>\n",
       "      <td>01195796420</td>\n",
       "      <td>07/02/1977</td>\n",
       "      <td>AC</td>\n",
       "      <td>MASCULINO</td>\n",
       "      <td>SUPERIOR COMPLETO</td>\n",
       "      <td>CASADO(A)</td>\n",
       "      <td>BRANCA</td>\n",
       "      <td>POLICIAL MILITAR</td>\n",
       "      <td>73000.00</td>\n",
       "      <td>2018</td>\n",
       "      <td>...</td>\n",
       "      <td>59.0</td>\n",
       "      <td>1.000000</td>\n",
       "      <td>0.000000</td>\n",
       "      <td>0.0</td>\n",
       "      <td>0.0</td>\n",
       "      <td>0.0</td>\n",
       "      <td>0.0</td>\n",
       "      <td>0.0</td>\n",
       "      <td>0.0</td>\n",
       "      <td>43.0</td>\n",
       "    </tr>\n",
       "    <tr>\n",
       "      <th>19</th>\n",
       "      <td>01099561760</td>\n",
       "      <td>22/02/1970</td>\n",
       "      <td>MS</td>\n",
       "      <td>FEMININO</td>\n",
       "      <td>SUPERIOR COMPLETO</td>\n",
       "      <td>CASADO(A)</td>\n",
       "      <td>BRANCA</td>\n",
       "      <td>OUTROS</td>\n",
       "      <td>1575566.39</td>\n",
       "      <td>2014</td>\n",
       "      <td>...</td>\n",
       "      <td>5.0</td>\n",
       "      <td>1.000000</td>\n",
       "      <td>0.000000</td>\n",
       "      <td>1.0</td>\n",
       "      <td>3.0</td>\n",
       "      <td>0.0</td>\n",
       "      <td>0.0</td>\n",
       "      <td>1.0</td>\n",
       "      <td>0.0</td>\n",
       "      <td>50.0</td>\n",
       "    </tr>\n",
       "    <tr>\n",
       "      <th>64</th>\n",
       "      <td>00445689676</td>\n",
       "      <td>03/11/1976</td>\n",
       "      <td>RO</td>\n",
       "      <td>MASCULINO</td>\n",
       "      <td>SUPERIOR COMPLETO</td>\n",
       "      <td>SEPARADO(A) JUDICIALMENTE</td>\n",
       "      <td>BRANCA</td>\n",
       "      <td>ADVOGADO</td>\n",
       "      <td>22834764.00</td>\n",
       "      <td>2018</td>\n",
       "      <td>...</td>\n",
       "      <td>24.0</td>\n",
       "      <td>1.000000</td>\n",
       "      <td>0.000000</td>\n",
       "      <td>1.0</td>\n",
       "      <td>2.0</td>\n",
       "      <td>0.0</td>\n",
       "      <td>1.0</td>\n",
       "      <td>0.0</td>\n",
       "      <td>0.0</td>\n",
       "      <td>43.0</td>\n",
       "    </tr>\n",
       "  </tbody>\n",
       "</table>\n",
       "<p>5 rows × 36 columns</p>\n",
       "</div>"
      ],
      "text/plain": [
       "            CPF DT_NASCIMENTO SG_UF_NASCIMENTO  DS_GENERO  \\\n",
       "33  26471620772    16/03/1951               RJ  MASCULINO   \n",
       "38  07654871449    23/04/1951               PE  MASCULINO   \n",
       "62  01195796420    07/02/1977               AC  MASCULINO   \n",
       "19  01099561760    22/02/1970               MS   FEMININO   \n",
       "64  00445689676    03/11/1976               RO  MASCULINO   \n",
       "\n",
       "      DS_GRAU_INSTRUCAO            DS_ESTADO_CIVIL DS_COR_RACA  \\\n",
       "33  SUPERIOR INCOMPLETO                  CASADO(A)      BRANCA   \n",
       "38    SUPERIOR COMPLETO                  CASADO(A)       PARDA   \n",
       "62    SUPERIOR COMPLETO                  CASADO(A)      BRANCA   \n",
       "19    SUPERIOR COMPLETO                  CASADO(A)      BRANCA   \n",
       "64    SUPERIOR COMPLETO  SEPARADO(A) JUDICIALMENTE      BRANCA   \n",
       "\n",
       "         DS_OCUPACAO      VL_BENS ANO_ELEICAO  ... PROP_TOTAL  PRESENCA  \\\n",
       "33        INDUSTRIAL   3355966.73        2018  ...       29.0  0.961538   \n",
       "38        ENGENHEIRO   1999315.15        2018  ...       34.0  1.000000   \n",
       "62  POLICIAL MILITAR     73000.00        2018  ...       59.0  1.000000   \n",
       "19            OUTROS   1575566.39        2014  ...        5.0  1.000000   \n",
       "64          ADVOGADO  22834764.00        2018  ...       24.0  1.000000   \n",
       "\n",
       "    AUSENCIA  mandatos cabeças  debatedor  articulador formulador  negociador  \\\n",
       "33  0.038462       1.0     9.0        0.0          1.0        0.0         0.0   \n",
       "38  0.000000       0.0     0.0        0.0          0.0        0.0         0.0   \n",
       "62  0.000000       0.0     0.0        0.0          0.0        0.0         0.0   \n",
       "19  0.000000       1.0     3.0        0.0          0.0        1.0         0.0   \n",
       "64  0.000000       1.0     2.0        0.0          1.0        0.0         0.0   \n",
       "\n",
       "   IDADE  \n",
       "33  69.0  \n",
       "38  69.0  \n",
       "62  43.0  \n",
       "19  50.0  \n",
       "64  43.0  \n",
       "\n",
       "[5 rows x 36 columns]"
      ]
     },
     "execution_count": 53,
     "metadata": {},
     "output_type": "execute_result"
    },
    {
     "data": {
      "text/plain": [
       "Index(['CPF', 'DT_NASCIMENTO', 'SG_UF_NASCIMENTO', 'DS_GENERO',\n",
       "       'DS_GRAU_INSTRUCAO', 'DS_ESTADO_CIVIL', 'DS_COR_RACA', 'DS_OCUPACAO',\n",
       "       'VL_BENS', 'ANO_ELEICAO', 'SG_PARTIDO', 'SG_UE', 'NM_URNA_CANDIDATO',\n",
       "       'VR_DESPESA_CONTRATADA', 'id', 'followers_count', 'tweets', 'foto',\n",
       "       'VOTOS_TOTAL_PARL', 'ID_SENADO', 'ID_PUB', 'MESA', 'LIDERANCA', 'REQ',\n",
       "       'PEC', 'PL', 'PROP_TOTAL', 'PRESENCA', 'AUSENCIA', 'mandatos',\n",
       "       'cabeças', 'debatedor', 'articulador', 'formulador', 'negociador',\n",
       "       'IDADE'],\n",
       "      dtype='object')"
      ]
     },
     "execution_count": 53,
     "metadata": {},
     "output_type": "execute_result"
    }
   ],
   "source": [
    "# Trata variaveis binárias (0-1)\n",
    "#df_original=df.copy()\n",
    "for variavel in variaveis_dummy:\n",
    "    df=pd.concat([df, pd.get_dummies(df[variavel].astype(object), prefix=variavel, drop_first=True)], axis=1)\n",
    "    df.drop(columns=[variavel], inplace=True)\n",
    "df.sample(5)\n",
    "df.columns"
   ]
  },
  {
   "cell_type": "code",
   "execution_count": 54,
   "metadata": {},
   "outputs": [
    {
     "data": {
      "text/plain": [
       "Index(['CPF', 'DT_NASCIMENTO', 'VL_BENS', 'NM_URNA_CANDIDATO',\n",
       "       'VR_DESPESA_CONTRATADA', 'id', 'followers_count', 'tweets', 'foto',\n",
       "       'VOTOS_TOTAL_PARL',\n",
       "       ...\n",
       "       'SG_UE_RN', 'SG_UE_RO', 'SG_UE_RR', 'SG_UE_RS', 'SG_UE_SC', 'SG_UE_SE',\n",
       "       'SG_UE_SP', 'SG_UE_TO', 'MESA_Sim', 'LIDERANCA_Sim'],\n",
       "      dtype='object', length=132)"
      ]
     },
     "execution_count": 54,
     "metadata": {},
     "output_type": "execute_result"
    }
   ],
   "source": [
    "#Trata variaveis \n",
    "#variaveis_categoricas=list(set(variaveis_categoricas)-set(variaveis_dummy))\n",
    "for variavel in hot_encoding:\n",
    "    df=pd.concat([df, pd.get_dummies(df[variavel].astype(object), prefix=variavel,drop_first=True)], axis=1)\n",
    "    df.drop(columns=[variavel], inplace=True)\n",
    "#df.sample(5)\n",
    "df.columns"
   ]
  },
  {
   "cell_type": "markdown",
   "metadata": {},
   "source": [
    "# Variáveis do modelo"
   ]
  },
  {
   "cell_type": "code",
   "execution_count": 55,
   "metadata": {},
   "outputs": [
    {
     "data": {
      "text/plain": [
       "Index(['CPF', 'DT_NASCIMENTO', 'VL_BENS', 'NM_URNA_CANDIDATO',\n",
       "       'VR_DESPESA_CONTRATADA', 'id', 'followers_count', 'tweets', 'foto',\n",
       "       'VOTOS_TOTAL_PARL',\n",
       "       ...\n",
       "       'SG_UE_RN', 'SG_UE_RO', 'SG_UE_RR', 'SG_UE_RS', 'SG_UE_SC', 'SG_UE_SE',\n",
       "       'SG_UE_SP', 'SG_UE_TO', 'MESA_Sim', 'LIDERANCA_Sim'],\n",
       "      dtype='object', length=132)"
      ]
     },
     "execution_count": 55,
     "metadata": {},
     "output_type": "execute_result"
    }
   ],
   "source": [
    "df.columns"
   ]
  },
  {
   "cell_type": "code",
   "execution_count": 56,
   "metadata": {},
   "outputs": [
    {
     "name": "stdout",
     "output_type": "stream",
     "text": [
      "<class 'pandas.core.frame.DataFrame'>\n",
      "Int64Index: 76 entries, 0 to 78\n",
      "Columns: 132 entries, CPF to LIDERANCA_Sim\n",
      "dtypes: category(4), float64(13), int64(1), object(7), uint8(107)\n",
      "memory usage: 21.7+ KB\n"
     ]
    }
   ],
   "source": [
    "variaveis_numericas=list(df.select_dtypes(include=[np.number]).columns)\n",
    "variaveis_categoricas= list(df.select_dtypes(include=\"category\").columns)\n",
    "variaveis_modelo=variaveis_numericas+variaveis_categoricas\n",
    "#df[variaveis_modelo].info()\n",
    "df.info()"
   ]
  },
  {
   "cell_type": "code",
   "execution_count": 57,
   "metadata": {},
   "outputs": [
    {
     "name": "stderr",
     "output_type": "stream",
     "text": [
      "/home/carlos/anaconda3/envs/R/lib/python3.7/site-packages/pandas/core/generic.py:2663: UserWarning: The spaces in these column names will not be changed. In pandas versions < 0.14, spaces were converted to underscores.\n",
      "  method=method,\n"
     ]
    }
   ],
   "source": [
    "con = sql.connect(\"../../dados/sql/base_completa.db\")\n",
    "df.to_sql(\"senadores_tabela_analise\",con,if_exists=\"replace\", index=False, index_label=\"CPF\")\n",
    "con.close()"
   ]
  },
  {
   "cell_type": "code",
   "execution_count": 58,
   "metadata": {},
   "outputs": [
    {
     "data": {
      "text/plain": [
       "Index(['CPF', 'DT_NASCIMENTO', 'VL_BENS', 'NM_URNA_CANDIDATO',\n",
       "       'VR_DESPESA_CONTRATADA', 'id', 'followers_count', 'tweets', 'foto',\n",
       "       'VOTOS_TOTAL_PARL',\n",
       "       ...\n",
       "       'SG_UE_RN', 'SG_UE_RO', 'SG_UE_RR', 'SG_UE_RS', 'SG_UE_SC', 'SG_UE_SE',\n",
       "       'SG_UE_SP', 'SG_UE_TO', 'MESA_Sim', 'LIDERANCA_Sim'],\n",
       "      dtype='object', length=132)"
      ]
     },
     "execution_count": 58,
     "metadata": {},
     "output_type": "execute_result"
    }
   ],
   "source": [
    "df.columns"
   ]
  },
  {
   "cell_type": "code",
   "execution_count": 59,
   "metadata": {},
   "outputs": [],
   "source": [
    "#df[variaveis_modelo].info()\n",
    "#Variaveis cadastro\n",
    "#variaveis_modelo.remove(\"tweets\")\n",
    "#variaveis_modelo.remove(\"followers_count\")\n",
    "#variaveis_modelo.remove(\"VL_BENS\")\n",
    "#variaveis_modelo.remove(\"VR_DESPESA_CONTRATADA\")\n",
    "\n",
    "# variaveis DIAP\n",
    "#variaveis_modelo.remove(\"mandatos\")\n",
    "#variaveis_modelo.remove(\"cabeças\")\n",
    "#variaveis_modelo.remove(\"formulador\")\n",
    "#variaveis_modelo.remove(\"debatedor\")\n",
    "#variaveis_modelo.remove(\"articulador\")\n",
    "#variaveis_modelo.remove(\"negociador\")\n",
    "\n",
    "# variáveis assiduidade\n",
    "variaveis_modelo.remove(\"PRESENCA\")\n",
    "#variaveis_modelo.remove(\"AUSENCIA\")\n",
    "\n",
    "#Variáveis propostas\n",
    "#variaveis_modelo.remove(\"PL\")\n",
    "#variaveis_modelo.remove(\"PEC\")\n",
    "#variaveis_modelo.remove(\"REQ\")\n",
    "variaveis_modelo.remove(\"PROP_TOTAL\")\n",
    "\n",
    "# variáveis cargo\n",
    "#variaveis_modelo.remove(\"MESA_Sim\")\n",
    "#variaveis_modelo.remove(\"LIDERANCA_Sim\")"
   ]
  },
  {
   "cell_type": "code",
   "execution_count": null,
   "metadata": {},
   "outputs": [],
   "source": []
  },
  {
   "cell_type": "raw",
   "metadata": {},
   "source": [
    "df[\"PEC\"]=df[\"PEC\"]**2\n",
    "df[\"PEC\"].describe()"
   ]
  },
  {
   "cell_type": "markdown",
   "metadata": {},
   "source": [
    "## Escala dos preditores"
   ]
  },
  {
   "cell_type": "code",
   "execution_count": 60,
   "metadata": {},
   "outputs": [],
   "source": [
    "def verifica_escala(preditores,df):\n",
    "    x=df[preditores].values\n",
    "    plt.plot(x.min(axis=0),\"o\", label=\"min\")\n",
    "    plt.plot(x.max(axis=0),\"^\", label=\"max\")\n",
    "    plt.legend(loc=\"best\")\n",
    "    plt.xlabel(\"Feature index\")\n",
    "    plt.ylabel(\"Feature magnitude\")\n",
    "    plt.yscale(\"log\")\n",
    "    print(df[preditores].max().round(3))"
   ]
  },
  {
   "cell_type": "code",
   "execution_count": 61,
   "metadata": {},
   "outputs": [
    {
     "name": "stdout",
     "output_type": "stream",
     "text": [
      "VL_BENS                  3.890197e+08\n",
      "VR_DESPESA_CONTRATADA    1.808308e+07\n",
      "followers_count          2.541590e+06\n",
      "tweets                   1.195510e+05\n",
      "VOTOS_TOTAL_PARL         1.110587e+07\n",
      "                             ...     \n",
      "LIDERANCA_Sim            1.000000e+00\n",
      "debatedor                1.000000e+00\n",
      "articulador              1.000000e+00\n",
      "formulador               1.000000e+00\n",
      "negociador               1.000000e+00\n",
      "Length: 123, dtype: float64\n"
     ]
    },
    {
     "data": {
      "image/png": "[encoded data removed]",
      "text/plain": [
       "<Figure size 864x576 with 1 Axes>"
      ]
     },
     "metadata": {
      "needs_background": "light"
     },
     "output_type": "display_data"
    }
   ],
   "source": [
    "verifica_escala(variaveis_modelo,df)"
   ]
  },
  {
   "cell_type": "code",
   "execution_count": 62,
   "metadata": {},
   "outputs": [
    {
     "data": {
      "text/plain": [
       "MinMaxScaler()"
      ]
     },
     "execution_count": 62,
     "metadata": {},
     "output_type": "execute_result"
    },
    {
     "data": {
      "text/html": [
       "<div>\n",
       "<style scoped>\n",
       "    .dataframe tbody tr th:only-of-type {\n",
       "        vertical-align: middle;\n",
       "    }\n",
       "\n",
       "    .dataframe tbody tr th {\n",
       "        vertical-align: top;\n",
       "    }\n",
       "\n",
       "    .dataframe thead th {\n",
       "        text-align: right;\n",
       "    }\n",
       "</style>\n",
       "<table border=\"1\" class=\"dataframe\">\n",
       "  <thead>\n",
       "    <tr style=\"text-align: right;\">\n",
       "      <th></th>\n",
       "      <th>VL_BENS</th>\n",
       "      <th>VR_DESPESA_CONTRATADA</th>\n",
       "      <th>followers_count</th>\n",
       "      <th>tweets</th>\n",
       "      <th>VOTOS_TOTAL_PARL</th>\n",
       "      <th>REQ</th>\n",
       "      <th>PEC</th>\n",
       "      <th>PL</th>\n",
       "      <th>AUSENCIA</th>\n",
       "      <th>mandatos</th>\n",
       "      <th>...</th>\n",
       "      <th>SG_UE_SC</th>\n",
       "      <th>SG_UE_SE</th>\n",
       "      <th>SG_UE_SP</th>\n",
       "      <th>SG_UE_TO</th>\n",
       "      <th>MESA_Sim</th>\n",
       "      <th>LIDERANCA_Sim</th>\n",
       "      <th>debatedor</th>\n",
       "      <th>articulador</th>\n",
       "      <th>formulador</th>\n",
       "      <th>negociador</th>\n",
       "    </tr>\n",
       "  </thead>\n",
       "  <tbody>\n",
       "    <tr>\n",
       "      <th>0</th>\n",
       "      <td>0.022278</td>\n",
       "      <td>0.482061</td>\n",
       "      <td>0.002561</td>\n",
       "      <td>0.049669</td>\n",
       "      <td>0.050903</td>\n",
       "      <td>0.395833</td>\n",
       "      <td>0.25</td>\n",
       "      <td>0.146341</td>\n",
       "      <td>0.0</td>\n",
       "      <td>0.0</td>\n",
       "      <td>...</td>\n",
       "      <td>0.0</td>\n",
       "      <td>0.0</td>\n",
       "      <td>0.0</td>\n",
       "      <td>0.0</td>\n",
       "      <td>0.0</td>\n",
       "      <td>1.0</td>\n",
       "      <td>0.0</td>\n",
       "      <td>0.0</td>\n",
       "      <td>0.0</td>\n",
       "      <td>0.0</td>\n",
       "    </tr>\n",
       "    <tr>\n",
       "      <th>1</th>\n",
       "      <td>0.003994</td>\n",
       "      <td>0.590963</td>\n",
       "      <td>0.567045</td>\n",
       "      <td>0.084516</td>\n",
       "      <td>1.000000</td>\n",
       "      <td>0.062500</td>\n",
       "      <td>0.25</td>\n",
       "      <td>0.073171</td>\n",
       "      <td>0.0</td>\n",
       "      <td>0.5</td>\n",
       "      <td>...</td>\n",
       "      <td>0.0</td>\n",
       "      <td>0.0</td>\n",
       "      <td>1.0</td>\n",
       "      <td>0.0</td>\n",
       "      <td>0.0</td>\n",
       "      <td>0.0</td>\n",
       "      <td>0.0</td>\n",
       "      <td>0.0</td>\n",
       "      <td>1.0</td>\n",
       "      <td>0.0</td>\n",
       "    </tr>\n",
       "    <tr>\n",
       "      <th>2</th>\n",
       "      <td>0.007181</td>\n",
       "      <td>0.019148</td>\n",
       "      <td>0.053827</td>\n",
       "      <td>0.005454</td>\n",
       "      <td>0.067257</td>\n",
       "      <td>0.000000</td>\n",
       "      <td>0.00</td>\n",
       "      <td>0.073171</td>\n",
       "      <td>0.0</td>\n",
       "      <td>0.0</td>\n",
       "      <td>...</td>\n",
       "      <td>0.0</td>\n",
       "      <td>0.0</td>\n",
       "      <td>0.0</td>\n",
       "      <td>0.0</td>\n",
       "      <td>0.0</td>\n",
       "      <td>0.0</td>\n",
       "      <td>0.0</td>\n",
       "      <td>0.0</td>\n",
       "      <td>0.0</td>\n",
       "      <td>0.0</td>\n",
       "    </tr>\n",
       "    <tr>\n",
       "      <th>3</th>\n",
       "      <td>0.007485</td>\n",
       "      <td>0.158104</td>\n",
       "      <td>0.165492</td>\n",
       "      <td>1.000000</td>\n",
       "      <td>0.364455</td>\n",
       "      <td>0.000000</td>\n",
       "      <td>1.00</td>\n",
       "      <td>0.585366</td>\n",
       "      <td>0.0</td>\n",
       "      <td>0.0</td>\n",
       "      <td>...</td>\n",
       "      <td>0.0</td>\n",
       "      <td>0.0</td>\n",
       "      <td>0.0</td>\n",
       "      <td>0.0</td>\n",
       "      <td>0.0</td>\n",
       "      <td>1.0</td>\n",
       "      <td>0.0</td>\n",
       "      <td>0.0</td>\n",
       "      <td>0.0</td>\n",
       "      <td>0.0</td>\n",
       "    </tr>\n",
       "    <tr>\n",
       "      <th>4</th>\n",
       "      <td>0.003370</td>\n",
       "      <td>0.062998</td>\n",
       "      <td>1.000000</td>\n",
       "      <td>0.174101</td>\n",
       "      <td>0.417276</td>\n",
       "      <td>0.458333</td>\n",
       "      <td>0.00</td>\n",
       "      <td>0.170732</td>\n",
       "      <td>0.0</td>\n",
       "      <td>0.0</td>\n",
       "      <td>...</td>\n",
       "      <td>0.0</td>\n",
       "      <td>0.0</td>\n",
       "      <td>0.0</td>\n",
       "      <td>0.0</td>\n",
       "      <td>0.0</td>\n",
       "      <td>0.0</td>\n",
       "      <td>0.0</td>\n",
       "      <td>0.0</td>\n",
       "      <td>0.0</td>\n",
       "      <td>0.0</td>\n",
       "    </tr>\n",
       "  </tbody>\n",
       "</table>\n",
       "<p>5 rows × 123 columns</p>\n",
       "</div>"
      ],
      "text/plain": [
       "    VL_BENS  VR_DESPESA_CONTRATADA  followers_count    tweets  \\\n",
       "0  0.022278               0.482061         0.002561  0.049669   \n",
       "1  0.003994               0.590963         0.567045  0.084516   \n",
       "2  0.007181               0.019148         0.053827  0.005454   \n",
       "3  0.007485               0.158104         0.165492  1.000000   \n",
       "4  0.003370               0.062998         1.000000  0.174101   \n",
       "\n",
       "   VOTOS_TOTAL_PARL       REQ   PEC        PL  AUSENCIA  mandatos  ...  \\\n",
       "0          0.050903  0.395833  0.25  0.146341       0.0       0.0  ...   \n",
       "1          1.000000  0.062500  0.25  0.073171       0.0       0.5  ...   \n",
       "2          0.067257  0.000000  0.00  0.073171       0.0       0.0  ...   \n",
       "3          0.364455  0.000000  1.00  0.585366       0.0       0.0  ...   \n",
       "4          0.417276  0.458333  0.00  0.170732       0.0       0.0  ...   \n",
       "\n",
       "   SG_UE_SC  SG_UE_SE  SG_UE_SP  SG_UE_TO  MESA_Sim  LIDERANCA_Sim  debatedor  \\\n",
       "0       0.0       0.0       0.0       0.0       0.0            1.0        0.0   \n",
       "1       0.0       0.0       1.0       0.0       0.0            0.0        0.0   \n",
       "2       0.0       0.0       0.0       0.0       0.0            0.0        0.0   \n",
       "3       0.0       0.0       0.0       0.0       0.0            1.0        0.0   \n",
       "4       0.0       0.0       0.0       0.0       0.0            0.0        0.0   \n",
       "\n",
       "   articulador  formulador  negociador  \n",
       "0          0.0         0.0         0.0  \n",
       "1          0.0         1.0         0.0  \n",
       "2          0.0         0.0         0.0  \n",
       "3          0.0         0.0         0.0  \n",
       "4          0.0         0.0         0.0  \n",
       "\n",
       "[5 rows x 123 columns]"
      ]
     },
     "execution_count": 62,
     "metadata": {},
     "output_type": "execute_result"
    }
   ],
   "source": [
    "from sklearn.preprocessing import MinMaxScaler\n",
    "scaler = MinMaxScaler()\n",
    "scaler.fit(df[variaveis_modelo].values)\n",
    "x=scaler.transform(df[variaveis_modelo].values)\n",
    "df_scaled=pd.DataFrame(x,columns=variaveis_modelo)\n",
    "df_scaled.head()\n",
    "#df_original=df.copy()\n",
    "df=df_scaled.copy()"
   ]
  },
  {
   "cell_type": "code",
   "execution_count": 63,
   "metadata": {},
   "outputs": [
    {
     "data": {
      "text/html": [
       "<div>\n",
       "<style scoped>\n",
       "    .dataframe tbody tr th:only-of-type {\n",
       "        vertical-align: middle;\n",
       "    }\n",
       "\n",
       "    .dataframe tbody tr th {\n",
       "        vertical-align: top;\n",
       "    }\n",
       "\n",
       "    .dataframe thead th {\n",
       "        text-align: right;\n",
       "    }\n",
       "</style>\n",
       "<table border=\"1\" class=\"dataframe\">\n",
       "  <thead>\n",
       "    <tr style=\"text-align: right;\">\n",
       "      <th></th>\n",
       "      <th>VL_BENS</th>\n",
       "      <th>VR_DESPESA_CONTRATADA</th>\n",
       "      <th>followers_count</th>\n",
       "      <th>tweets</th>\n",
       "      <th>VOTOS_TOTAL_PARL</th>\n",
       "      <th>REQ</th>\n",
       "      <th>PEC</th>\n",
       "      <th>PL</th>\n",
       "      <th>AUSENCIA</th>\n",
       "      <th>mandatos</th>\n",
       "      <th>...</th>\n",
       "      <th>SG_UE_SC</th>\n",
       "      <th>SG_UE_SE</th>\n",
       "      <th>SG_UE_SP</th>\n",
       "      <th>SG_UE_TO</th>\n",
       "      <th>MESA_Sim</th>\n",
       "      <th>LIDERANCA_Sim</th>\n",
       "      <th>debatedor</th>\n",
       "      <th>articulador</th>\n",
       "      <th>formulador</th>\n",
       "      <th>negociador</th>\n",
       "    </tr>\n",
       "  </thead>\n",
       "  <tbody>\n",
       "    <tr>\n",
       "      <th>count</th>\n",
       "      <td>76.000000</td>\n",
       "      <td>76.000000</td>\n",
       "      <td>76.000000</td>\n",
       "      <td>76.000000</td>\n",
       "      <td>76.000000</td>\n",
       "      <td>76.000000</td>\n",
       "      <td>76.000000</td>\n",
       "      <td>76.000000</td>\n",
       "      <td>76.000000</td>\n",
       "      <td>76.000000</td>\n",
       "      <td>...</td>\n",
       "      <td>76.000000</td>\n",
       "      <td>76.000000</td>\n",
       "      <td>76.000000</td>\n",
       "      <td>76.000000</td>\n",
       "      <td>76.000000</td>\n",
       "      <td>76.000000</td>\n",
       "      <td>76.000000</td>\n",
       "      <td>76.000000</td>\n",
       "      <td>76.000000</td>\n",
       "      <td>76.000000</td>\n",
       "    </tr>\n",
       "    <tr>\n",
       "      <th>mean</th>\n",
       "      <td>0.032591</td>\n",
       "      <td>0.145440</td>\n",
       "      <td>0.051044</td>\n",
       "      <td>0.073947</td>\n",
       "      <td>0.145414</td>\n",
       "      <td>0.172971</td>\n",
       "      <td>0.233553</td>\n",
       "      <td>0.216303</td>\n",
       "      <td>0.075525</td>\n",
       "      <td>0.134868</td>\n",
       "      <td>...</td>\n",
       "      <td>0.039474</td>\n",
       "      <td>0.039474</td>\n",
       "      <td>0.039474</td>\n",
       "      <td>0.039474</td>\n",
       "      <td>0.144737</td>\n",
       "      <td>0.486842</td>\n",
       "      <td>0.078947</td>\n",
       "      <td>0.118421</td>\n",
       "      <td>0.118421</td>\n",
       "      <td>0.065789</td>\n",
       "    </tr>\n",
       "    <tr>\n",
       "      <th>std</th>\n",
       "      <td>0.133424</td>\n",
       "      <td>0.152908</td>\n",
       "      <td>0.148597</td>\n",
       "      <td>0.141185</td>\n",
       "      <td>0.177823</td>\n",
       "      <td>0.181526</td>\n",
       "      <td>0.268749</td>\n",
       "      <td>0.220408</td>\n",
       "      <td>0.161576</td>\n",
       "      <td>0.205916</td>\n",
       "      <td>...</td>\n",
       "      <td>0.196013</td>\n",
       "      <td>0.196013</td>\n",
       "      <td>0.196013</td>\n",
       "      <td>0.196013</td>\n",
       "      <td>0.354173</td>\n",
       "      <td>0.503148</td>\n",
       "      <td>0.271448</td>\n",
       "      <td>0.325253</td>\n",
       "      <td>0.325253</td>\n",
       "      <td>0.249561</td>\n",
       "    </tr>\n",
       "    <tr>\n",
       "      <th>min</th>\n",
       "      <td>0.000000</td>\n",
       "      <td>0.000000</td>\n",
       "      <td>0.000000</td>\n",
       "      <td>0.000000</td>\n",
       "      <td>0.000000</td>\n",
       "      <td>0.000000</td>\n",
       "      <td>0.000000</td>\n",
       "      <td>0.000000</td>\n",
       "      <td>0.000000</td>\n",
       "      <td>0.000000</td>\n",
       "      <td>...</td>\n",
       "      <td>0.000000</td>\n",
       "      <td>0.000000</td>\n",
       "      <td>0.000000</td>\n",
       "      <td>0.000000</td>\n",
       "      <td>0.000000</td>\n",
       "      <td>0.000000</td>\n",
       "      <td>0.000000</td>\n",
       "      <td>0.000000</td>\n",
       "      <td>0.000000</td>\n",
       "      <td>0.000000</td>\n",
       "    </tr>\n",
       "    <tr>\n",
       "      <th>25%</th>\n",
       "      <td>0.001861</td>\n",
       "      <td>0.055525</td>\n",
       "      <td>0.002515</td>\n",
       "      <td>0.009814</td>\n",
       "      <td>0.034254</td>\n",
       "      <td>0.041667</td>\n",
       "      <td>0.000000</td>\n",
       "      <td>0.073171</td>\n",
       "      <td>0.000000</td>\n",
       "      <td>0.000000</td>\n",
       "      <td>...</td>\n",
       "      <td>0.000000</td>\n",
       "      <td>0.000000</td>\n",
       "      <td>0.000000</td>\n",
       "      <td>0.000000</td>\n",
       "      <td>0.000000</td>\n",
       "      <td>0.000000</td>\n",
       "      <td>0.000000</td>\n",
       "      <td>0.000000</td>\n",
       "      <td>0.000000</td>\n",
       "      <td>0.000000</td>\n",
       "    </tr>\n",
       "    <tr>\n",
       "      <th>50%</th>\n",
       "      <td>0.004968</td>\n",
       "      <td>0.117729</td>\n",
       "      <td>0.006624</td>\n",
       "      <td>0.035014</td>\n",
       "      <td>0.075370</td>\n",
       "      <td>0.114583</td>\n",
       "      <td>0.250000</td>\n",
       "      <td>0.121951</td>\n",
       "      <td>0.000000</td>\n",
       "      <td>0.000000</td>\n",
       "      <td>...</td>\n",
       "      <td>0.000000</td>\n",
       "      <td>0.000000</td>\n",
       "      <td>0.000000</td>\n",
       "      <td>0.000000</td>\n",
       "      <td>0.000000</td>\n",
       "      <td>0.000000</td>\n",
       "      <td>0.000000</td>\n",
       "      <td>0.000000</td>\n",
       "      <td>0.000000</td>\n",
       "      <td>0.000000</td>\n",
       "    </tr>\n",
       "    <tr>\n",
       "      <th>75%</th>\n",
       "      <td>0.011067</td>\n",
       "      <td>0.169740</td>\n",
       "      <td>0.032058</td>\n",
       "      <td>0.087157</td>\n",
       "      <td>0.190775</td>\n",
       "      <td>0.234375</td>\n",
       "      <td>0.250000</td>\n",
       "      <td>0.274390</td>\n",
       "      <td>0.098696</td>\n",
       "      <td>0.250000</td>\n",
       "      <td>...</td>\n",
       "      <td>0.000000</td>\n",
       "      <td>0.000000</td>\n",
       "      <td>0.000000</td>\n",
       "      <td>0.000000</td>\n",
       "      <td>0.000000</td>\n",
       "      <td>1.000000</td>\n",
       "      <td>0.000000</td>\n",
       "      <td>0.000000</td>\n",
       "      <td>0.000000</td>\n",
       "      <td>0.000000</td>\n",
       "    </tr>\n",
       "    <tr>\n",
       "      <th>max</th>\n",
       "      <td>1.000000</td>\n",
       "      <td>1.000000</td>\n",
       "      <td>1.000000</td>\n",
       "      <td>1.000000</td>\n",
       "      <td>1.000000</td>\n",
       "      <td>1.000000</td>\n",
       "      <td>1.000000</td>\n",
       "      <td>1.000000</td>\n",
       "      <td>1.000000</td>\n",
       "      <td>1.000000</td>\n",
       "      <td>...</td>\n",
       "      <td>1.000000</td>\n",
       "      <td>1.000000</td>\n",
       "      <td>1.000000</td>\n",
       "      <td>1.000000</td>\n",
       "      <td>1.000000</td>\n",
       "      <td>1.000000</td>\n",
       "      <td>1.000000</td>\n",
       "      <td>1.000000</td>\n",
       "      <td>1.000000</td>\n",
       "      <td>1.000000</td>\n",
       "    </tr>\n",
       "  </tbody>\n",
       "</table>\n",
       "<p>8 rows × 123 columns</p>\n",
       "</div>"
      ],
      "text/plain": [
       "         VL_BENS  VR_DESPESA_CONTRATADA  followers_count     tweets  \\\n",
       "count  76.000000              76.000000        76.000000  76.000000   \n",
       "mean    0.032591               0.145440         0.051044   0.073947   \n",
       "std     0.133424               0.152908         0.148597   0.141185   \n",
       "min     0.000000               0.000000         0.000000   0.000000   \n",
       "25%     0.001861               0.055525         0.002515   0.009814   \n",
       "50%     0.004968               0.117729         0.006624   0.035014   \n",
       "75%     0.011067               0.169740         0.032058   0.087157   \n",
       "max     1.000000               1.000000         1.000000   1.000000   \n",
       "\n",
       "       VOTOS_TOTAL_PARL        REQ        PEC         PL   AUSENCIA  \\\n",
       "count         76.000000  76.000000  76.000000  76.000000  76.000000   \n",
       "mean           0.145414   0.172971   0.233553   0.216303   0.075525   \n",
       "std            0.177823   0.181526   0.268749   0.220408   0.161576   \n",
       "min            0.000000   0.000000   0.000000   0.000000   0.000000   \n",
       "25%            0.034254   0.041667   0.000000   0.073171   0.000000   \n",
       "50%            0.075370   0.114583   0.250000   0.121951   0.000000   \n",
       "75%            0.190775   0.234375   0.250000   0.274390   0.098696   \n",
       "max            1.000000   1.000000   1.000000   1.000000   1.000000   \n",
       "\n",
       "        mandatos  ...   SG_UE_SC   SG_UE_SE   SG_UE_SP   SG_UE_TO   MESA_Sim  \\\n",
       "count  76.000000  ...  76.000000  76.000000  76.000000  76.000000  76.000000   \n",
       "mean    0.134868  ...   0.039474   0.039474   0.039474   0.039474   0.144737   \n",
       "std     0.205916  ...   0.196013   0.196013   0.196013   0.196013   0.354173   \n",
       "min     0.000000  ...   0.000000   0.000000   0.000000   0.000000   0.000000   \n",
       "25%     0.000000  ...   0.000000   0.000000   0.000000   0.000000   0.000000   \n",
       "50%     0.000000  ...   0.000000   0.000000   0.000000   0.000000   0.000000   \n",
       "75%     0.250000  ...   0.000000   0.000000   0.000000   0.000000   0.000000   \n",
       "max     1.000000  ...   1.000000   1.000000   1.000000   1.000000   1.000000   \n",
       "\n",
       "       LIDERANCA_Sim  debatedor  articulador  formulador  negociador  \n",
       "count      76.000000  76.000000    76.000000   76.000000   76.000000  \n",
       "mean        0.486842   0.078947     0.118421    0.118421    0.065789  \n",
       "std         0.503148   0.271448     0.325253    0.325253    0.249561  \n",
       "min         0.000000   0.000000     0.000000    0.000000    0.000000  \n",
       "25%         0.000000   0.000000     0.000000    0.000000    0.000000  \n",
       "50%         0.000000   0.000000     0.000000    0.000000    0.000000  \n",
       "75%         1.000000   0.000000     0.000000    0.000000    0.000000  \n",
       "max         1.000000   1.000000     1.000000    1.000000    1.000000  \n",
       "\n",
       "[8 rows x 123 columns]"
      ]
     },
     "execution_count": 63,
     "metadata": {},
     "output_type": "execute_result"
    }
   ],
   "source": [
    "df.describe()"
   ]
  },
  {
   "cell_type": "markdown",
   "metadata": {},
   "source": [
    "## Visualizando com PCA"
   ]
  },
  {
   "cell_type": "code",
   "execution_count": 64,
   "metadata": {},
   "outputs": [],
   "source": [
    "x=df.values\n",
    "variaveis=list(df.columns)"
   ]
  },
  {
   "cell_type": "code",
   "execution_count": 65,
   "metadata": {},
   "outputs": [
    {
     "data": {
      "text/plain": [
       "PCA(n_components=3)"
      ]
     },
     "execution_count": 65,
     "metadata": {},
     "output_type": "execute_result"
    },
    {
     "name": "stdout",
     "output_type": "stream",
     "text": [
      "Original shape: (76, 123)\n",
      "Reduced shape: (76, 3)\n"
     ]
    }
   ],
   "source": [
    "from sklearn.decomposition import PCA\n",
    "# keep the first two principal components of the data\n",
    "pca = PCA(n_components=3)\n",
    "# fit PCA model \n",
    "pca.fit(x)\n",
    "# transform data onto the first two principal components\n",
    "x_pca = pca.transform(x)\n",
    "print(\"Original shape: {}\".format(str(x.shape)))\n",
    "print(\"Reduced shape: {}\".format(str(x_pca.shape)))\n",
    "df_pca=pd.DataFrame(x_pca,columns=[\"PC-1\",\"PC-2\",\"PC-3\"])"
   ]
  },
  {
   "cell_type": "code",
   "execution_count": null,
   "metadata": {},
   "outputs": [],
   "source": [
    "# plot first vs. second principal component, colored by class\n",
    "plt.figure(figsize=(8, 8))\n",
    "plt.scatter(x_pca[:, 0], x_pca[:, 1])\n",
    "#plt.legend(cancer.target_names, loc=\"best\")\n",
    "plt.gca().set_aspect(\"equal\")\n",
    "plt.xlabel(\"First principal component\")\n",
    "plt.ylabel(\"Second principal component\")\n"
   ]
  },
  {
   "cell_type": "code",
   "execution_count": null,
   "metadata": {},
   "outputs": [],
   "source": [
    "from mpl_toolkits.mplot3d import Axes3D\n",
    "fig = plt.figure()\n",
    "ax = fig.add_subplot(111, projection='3d')\n",
    "ax.scatter(df_pca['PC-1'], df_pca['PC-2'], df_pca['PC-3'], c='skyblue', s=30)\n",
    "ax.set_xlabel(\"First principal component\")\n",
    "ax.set_ylabel(\"Second principal component\")\n",
    "ax.set_zlabel(\"third principal component\")\n",
    "ax.view_init(20, -120)\n",
    "plt.show()"
   ]
  },
  {
   "cell_type": "code",
   "execution_count": null,
   "metadata": {},
   "outputs": [],
   "source": [
    "df_pca_componentes=pd.DataFrame(pca.components_, columns=variaveis)\n",
    "print(\"PCA component shape: {}\".format(df_pca_componentes.shape))\n",
    "df_pca_componentes\n",
    "plt.figure(figsize=(12, 2))\n",
    "sns.heatmap(df_pca_componentes,annot=True, cmap=\"RdBu\")\n",
    "#(correlação,annot=True, vmin=-1, vmax=1)"
   ]
  },
  {
   "cell_type": "code",
   "execution_count": null,
   "metadata": {},
   "outputs": [],
   "source": [
    "def plot_pca_2d(x,y=True):\n",
    "    plt.figure(figsize=(8, 8))\n",
    "    if y.all():\n",
    "        plt.scatter(x[:, 0], x[:, 1])\n",
    "        plt.gca().set_aspect(\"equal\")\n",
    "    else:\n",
    "        clusters = unique(y)\n",
    "        for cluster in clusters:\n",
    "            row_ix = where(y == cluster)\n",
    "            # create scatter of these samples\n",
    "            plt.scatter(x[row_ix, 0], x[row_ix, 1])\n",
    "    plt.xlabel(\"First principal component\")\n",
    "    plt.ylabel(\"Second principal component\")\n",
    "    plt.legend(clusters, loc=\"best\")\n",
    "    plt.show()\n",
    "    if clusters[0]==-1:\n",
    "        quant=np.bincount(y+1)\n",
    "    else:\n",
    "        quant=np.bincount(y)\n",
    "    frame=pd.DataFrame({\"cluster\":clusters,\"quant\":quant})\n",
    "    print(\"Número de componentes \\n{}\".format(frame))\n",
    "    "
   ]
  },
  {
   "cell_type": "code",
   "execution_count": null,
   "metadata": {},
   "outputs": [],
   "source": [
    "def plot_pca_3d(x,y=True):\n",
    "    fig = plt.figure()\n",
    "    ax = fig.add_subplot(111, projection='3d')\n",
    "    if y.all():\n",
    "        ax.scatter(x[:, 0], x[:, 1],x[:,2])\n",
    "        ax.gca().set_aspect(\"equal\")\n",
    "    else:\n",
    "        clusters = unique(y)\n",
    "        for cluster in clusters:\n",
    "            row_ix = where(y == cluster)\n",
    "            # create scatter of these samples\n",
    "            ax.scatter(x[row_ix, 0], x[row_ix, 1],x[row_ix, 2], s=20)\n",
    "    ax.set_xlabel(\"PC-1\")\n",
    "    ax.set_ylabel(\"PC-2\")\n",
    "    ax.set_zlabel(\"PC-3\")\n",
    "    ax.legend(clusters, loc='upper left')\n",
    "    ax.view_init(35, -120)\n",
    "    plt.show()\n",
    "    if clusters[0]==-1:\n",
    "        quant=np.bincount(y+1)\n",
    "    else:\n",
    "        quant=np.bincount(y)\n",
    "    frame=pd.DataFrame({\"cluster\":clusters,\"quant\":quant})\n",
    "    print(\"Número de componentes \\n{}\".format(frame))\n",
    "    "
   ]
  },
  {
   "cell_type": "markdown",
   "metadata": {},
   "source": [
    "## ajustando variáveis"
   ]
  },
  {
   "cell_type": "code",
   "execution_count": null,
   "metadata": {},
   "outputs": [],
   "source": [
    "x=df.values"
   ]
  },
  {
   "cell_type": "markdown",
   "metadata": {},
   "source": [
    "## K-mean\n"
   ]
  },
  {
   "cell_type": "markdown",
   "metadata": {},
   "source": [
    "## Verificando o número de clusters via inércia"
   ]
  },
  {
   "cell_type": "code",
   "execution_count": null,
   "metadata": {},
   "outputs": [],
   "source": [
    "kvalues=range(1,50)\n",
    "kvalues\n",
    "inercia=[]\n",
    "for k in kvalues:\n",
    "    modelo=KMeans(n_clusters=k, init='k-means++')\n",
    "    modelo.fit(x)\n",
    "    inercia.append(modelo.inertia_)\n",
    "df_inercia=pd.DataFrame({\"Inercia\":inercia, \"K\":kvalues}) \n",
    "df_inercia.plot(\"K\",\"Inercia\", marker='o')"
   ]
  },
  {
   "cell_type": "code",
   "execution_count": null,
   "metadata": {},
   "outputs": [],
   "source": [
    "# defining the kmeans function with initialization as k-means++\n",
    "modelo = KMeans(n_clusters=6, init='k-means++')\n",
    "\n",
    "# fitting the k means algorithm on scaled data\n",
    "modelo.fit(x)\n",
    "yhat = modelo.predict(x)\n",
    "clusters = unique(yhat)\n",
    "#print(variaveis_modelo)\n"
   ]
  },
  {
   "cell_type": "code",
   "execution_count": null,
   "metadata": {},
   "outputs": [],
   "source": [
    "plot_pca_2d(x_pca,yhat)\n",
    "plot_pca_3d(x_pca,yhat)\n",
    "plt.figure(figsize=(12, 2))\n",
    "sns.heatmap(df_pca_componentes,annot=True, cmap=\"RdBu\")\n"
   ]
  },
  {
   "cell_type": "code",
   "execution_count": null,
   "metadata": {},
   "outputs": [],
   "source": [
    "df_kmeans=df_original.copy()\n",
    "df_kmeans[\"cluster\"]=yhat\n",
    "df_kmeans.sample(5)"
   ]
  },
  {
   "cell_type": "markdown",
   "metadata": {},
   "source": [
    "## Mean-shift\n"
   ]
  },
  {
   "cell_type": "code",
   "execution_count": null,
   "metadata": {},
   "outputs": [],
   "source": [
    "from sklearn.cluster import MeanShift\n",
    "modelo = MeanShift()\n",
    "# fitting the k means algorithm on scaled data\n",
    "modelo.fit(x)\n",
    "yhat = modelo.predict(x)\n",
    "clusters = unique(yhat)\n",
    "#print(preditores)\n",
    "clusters"
   ]
  },
  {
   "cell_type": "code",
   "execution_count": null,
   "metadata": {},
   "outputs": [],
   "source": [
    "plot_pca_2d(x_pca,yhat)\n",
    "plot_pca_3d(x_pca,yhat)\n",
    "plt.figure(figsize=(12, 2))\n",
    "sns.heatmap(df_pca_componentes,annot=True, cmap=\"RdBu\")\n"
   ]
  },
  {
   "cell_type": "code",
   "execution_count": null,
   "metadata": {},
   "outputs": [],
   "source": [
    "df_mean_s=df_original.copy()\n",
    "df_mean_s[\"cluster\"]=yhat\n",
    "df_mean_s.sample(5)"
   ]
  },
  {
   "cell_type": "code",
   "execution_count": null,
   "metadata": {},
   "outputs": [],
   "source": [
    "## DBSCAN"
   ]
  },
  {
   "cell_type": "code",
   "execution_count": null,
   "metadata": {},
   "outputs": [],
   "source": [
    "from sklearn.cluster import DBSCAN\n",
    "modelo = DBSCAN(eps=0.5, min_samples=3)"
   ]
  },
  {
   "cell_type": "code",
   "execution_count": null,
   "metadata": {},
   "outputs": [],
   "source": [
    "modelo.fit(x)\n",
    "yhat = modelo.fit_predict(x)\n",
    "clusters = unique(yhat)\n",
    "#print(preditores)\n",
    "clusters"
   ]
  },
  {
   "cell_type": "code",
   "execution_count": null,
   "metadata": {},
   "outputs": [],
   "source": [
    "plot_pca_2d(x_pca,yhat)\n",
    "plot_pca_3d(x_pca,yhat)\n",
    "plt.figure(figsize=(12, 2))\n",
    "sns.heatmap(df_pca_componentes,annot=True, cmap=\"RdBu\")\n"
   ]
  },
  {
   "cell_type": "code",
   "execution_count": null,
   "metadata": {},
   "outputs": [],
   "source": [
    "df_dbscan=df_original.copy()\n",
    "df_dbscan[\"cluster\"]=yhat\n",
    "df_dbscan.sample(5)"
   ]
  },
  {
   "cell_type": "markdown",
   "metadata": {},
   "source": [
    "## GMM"
   ]
  },
  {
   "cell_type": "code",
   "execution_count": null,
   "metadata": {},
   "outputs": [],
   "source": [
    "from sklearn.mixture import GaussianMixture\n",
    "modelo = GaussianMixture(n_components=6)\n",
    "modelo.fit(x)\n",
    "yhat = modelo.predict(x)"
   ]
  },
  {
   "cell_type": "code",
   "execution_count": null,
   "metadata": {
    "jupyter": {
     "source_hidden": true
    }
   },
   "outputs": [],
   "source": [
    "plot_pca_2d(x_pca,yhat)\n",
    "plot_pca_3d(x_pca,yhat)\n",
    "plt.figure(figsize=(12, 2))\n",
    "sns.heatmap(df_pca_componentes,annot=True, cmap=\"RdBu\")\n"
   ]
  },
  {
   "cell_type": "code",
   "execution_count": null,
   "metadata": {},
   "outputs": [],
   "source": [
    "df_GMM=df_original.copy()\n",
    "df_GMM[\"cluster\"]=yhat\n",
    "df_GMM.sample(5)"
   ]
  },
  {
   "cell_type": "markdown",
   "metadata": {},
   "source": [
    "## Aglomerative H Cluster"
   ]
  },
  {
   "cell_type": "code",
   "execution_count": null,
   "metadata": {},
   "outputs": [],
   "source": [
    "from sklearn.cluster import AgglomerativeClustering\n",
    "modelo = AgglomerativeClustering(n_clusters=5)\n",
    "yhat = modelo.fit_predict(x)\n",
    "clusters = unique(yhat)"
   ]
  },
  {
   "cell_type": "code",
   "execution_count": null,
   "metadata": {},
   "outputs": [],
   "source": [
    "plot_pca_2d(x_pca,yhat)\n",
    "plot_pca_3d(x_pca,yhat)\n",
    "plt.figure(figsize=(12, 2))\n",
    "sns.heatmap(df_pca_componentes,annot=True, cmap=\"RdBu\")\n"
   ]
  },
  {
   "cell_type": "code",
   "execution_count": null,
   "metadata": {},
   "outputs": [],
   "source": [
    "#df_HC=df_original.copy()\n",
    "df_HC=df.copy()\n",
    "df_HC[\"cluster\"]=yhat\n",
    "df_HC.sample(5)"
   ]
  },
  {
   "cell_type": "markdown",
   "metadata": {},
   "source": [
    "## creating a distance matrix using linkage"
   ]
  },
  {
   "cell_type": "code",
   "execution_count": null,
   "metadata": {},
   "outputs": [],
   "source": [
    "# Import the fcluster and linkage functions\n",
    "from scipy.cluster.hierarchy import linkage, fcluster, dendrogram\n",
    "\n",
    "# Use the linkage() function\n",
    "distance_matrix = linkage(x,method = 'ward', metric = 'euclidean') # method = 'single'/'complete'\n",
    "\n",
    "# Assign cluster labels\n",
    "#comic_con['cluster_labels'] = fcluster(distance_matrix, 2, criterion='maxclust')\n",
    "dendrogram(distance_matrix)"
   ]
  },
  {
   "cell_type": "code",
   "execution_count": null,
   "metadata": {},
   "outputs": [],
   "source": [
    "#dendrogram(distance_matrix)\n",
    "# Use fcluster to extract labels: labels\n",
    "clusters = fcluster(distance_matrix, 1.6, criterion='distance' )\n",
    "df_ch=df_original.copy()\n",
    "df_ch[\"cluster\"]=clusters\n",
    "df_ch.head(5)"
   ]
  },
  {
   "cell_type": "raw",
   "metadata": {},
   "source": [
    "\n",
    "\n",
    "# Create a DataFrame with labels and companies as columns: df\n",
    "df = pd.DataFrame({'labels': labels, 'companies': companies})\n",
    "\n",
    "# Create crosstab: ct\n",
    "ct = pd.crosstab(df['labels'], df['companies'])\n",
    "\n",
    "# transformar uma crosstab em um cluster map\n",
    "sns.clustermap(ct, figsize=(15, 8), cbar_pos=None, dendrogram_ratio=0.001)"
   ]
  },
  {
   "cell_type": "markdown",
   "metadata": {},
   "source": [
    "# Avaliação com ARI Adjusted Rand Score Index"
   ]
  },
  {
   "cell_type": "code",
   "execution_count": null,
   "metadata": {},
   "outputs": [],
   "source": [
    "# adjusted rand score is 1, as the clustering is exactly the same\n",
    "# df_kmeans, df_mean_s, df_dbscan, df_GMM, df_HC, df_ch"
   ]
  },
  {
   "cell_type": "code",
   "execution_count": null,
   "metadata": {},
   "outputs": [],
   "source": [
    "from sklearn.metrics import adjusted_rand_score\n",
    "target=df_HC\n",
    "lista=[df_kmeans,df_mean_s,df_dbscan,df_GMM,df_HC,df_ch]\n",
    "\n",
    "for df in lista:\n",
    "    print(\"ARI: {:.2f}\".format(adjusted_rand_score(target[\"cluster\"].values, df[\"cluster\"].values)))\n"
   ]
  },
  {
   "cell_type": "markdown",
   "metadata": {},
   "source": [
    "## EDA com K-mean"
   ]
  },
  {
   "cell_type": "code",
   "execution_count": null,
   "metadata": {},
   "outputs": [],
   "source": [
    "df=df_HC.copy()"
   ]
  },
  {
   "cell_type": "markdown",
   "metadata": {},
   "source": [
    "## EDA Básico"
   ]
  },
  {
   "cell_type": "code",
   "execution_count": null,
   "metadata": {},
   "outputs": [],
   "source": [
    "df.info()\n",
    "df.describe().round(2)"
   ]
  },
  {
   "cell_type": "code",
   "execution_count": null,
   "metadata": {},
   "outputs": [],
   "source": [
    "#df.fillna(0, inplace=True)\n",
    "#df.info()"
   ]
  },
  {
   "cell_type": "code",
   "execution_count": null,
   "metadata": {},
   "outputs": [],
   "source": [
    "df.describe(include=np.object)"
   ]
  },
  {
   "cell_type": "raw",
   "metadata": {},
   "source": [
    "plt.clf()\n",
    "df.hist(figsize=(10,7))\n",
    "plt.tight_layout()\n",
    "plt.show"
   ]
  },
  {
   "cell_type": "code",
   "execution_count": null,
   "metadata": {},
   "outputs": [],
   "source": [
    "df.info()\n",
    "unicos=df.nunique()\n",
    "unicos"
   ]
  },
  {
   "cell_type": "markdown",
   "metadata": {},
   "source": [
    "## Defindo variaveis categóricas numericas"
   ]
  },
  {
   "cell_type": "code",
   "execution_count": null,
   "metadata": {},
   "outputs": [],
   "source": [
    "def analisa_variaveis(df,variaveis,nunicas):\n",
    "    lista=[]\n",
    "    unicos=df[variaveis].nunique()\n",
    "    for variavel in unicos.index:\n",
    "        quant=unicos.loc[variavel]\n",
    "        if quant <= nunicas:\n",
    "            lista.append(variavel)\n",
    "            print(\"Variavel {}, {} ocorrências únicas\".format(variavel,quant))\n",
    "            print(df[variavel].sort_values().unique())\n",
    "    return lista"
   ]
  },
  {
   "cell_type": "code",
   "execution_count": null,
   "metadata": {},
   "outputs": [],
   "source": [
    "variaveis_numericas= df.select_dtypes(include=[np.number]).columns\n",
    "variaveis_categoricas= df.select_dtypes(include=\"category\").columns\n",
    "df[variaveis_numericas].info()\n",
    "df[variaveis_categoricas].info()"
   ]
  },
  {
   "cell_type": "code",
   "execution_count": null,
   "metadata": {},
   "outputs": [],
   "source": [
    "variaveis_objeto=df.select_dtypes(include=\"object\").columns\n",
    "df[variaveis_objeto].info()"
   ]
  },
  {
   "cell_type": "markdown",
   "metadata": {},
   "source": [
    "### Histogramas"
   ]
  },
  {
   "cell_type": "code",
   "execution_count": null,
   "metadata": {},
   "outputs": [],
   "source": [
    "for variavel in variaveis_categoricas:\n",
    "    df[variavel].value_counts().plot(kind=\"bar\")\n",
    "    plt.xlabel(variavel)\n",
    "    plt.ylabel(\"Contagem\")\n",
    "    plt.title(variavel)\n",
    "    plt.show()"
   ]
  },
  {
   "cell_type": "markdown",
   "metadata": {},
   "source": [
    "### Boxplots - Identificando, verificando e tratando outliers\n"
   ]
  },
  {
   "cell_type": "code",
   "execution_count": null,
   "metadata": {},
   "outputs": [],
   "source": [
    "for cat in variaveis_categoricas:\n",
    "    for num in variaveis_numericas:\n",
    "        sns.boxplot(x=cat, y=num, data=df)\n",
    "        plt.xlabel(cat)\n",
    "        plt.ylabel(num)\n",
    "        plt.title(cat)\n",
    "        plt.show()\n"
   ]
  },
  {
   "cell_type": "code",
   "execution_count": null,
   "metadata": {},
   "outputs": [],
   "source": [
    "df.info()"
   ]
  },
  {
   "cell_type": "code",
   "execution_count": null,
   "metadata": {},
   "outputs": [],
   "source": [
    "variaveis=list(variaveis_numericas)+list(variaveis_categoricas)\n",
    "variaveis.remove(\"cluster\")\n",
    "preditores=variaveis\n",
    "target=[\"cluster\"]\n",
    "variaveis=[\"cluster\"]+variaveis\n",
    "variaveis"
   ]
  },
  {
   "cell_type": "code",
   "execution_count": null,
   "metadata": {},
   "outputs": [],
   "source": [
    "\n",
    "df[\"cluster\"]=df[\"cluster\"].astype(\"int\")\n",
    "df[\"cluster\"]=df[\"cluster\"].astype(\"int\")\n",
    "df[\"cluster\"]=df[\"cluster\"].astype(\"int\")\n",
    "df[\"cluster\"]=df[\"cluster\"].astype(\"int\")\n",
    "df[\"cluster\"]=df[\"cluster\"].astype(\"int\")\n",
    "\n",
    "correlação=df[variaveis].corr()\n",
    "correlação\n",
    "plt.rc('figure', figsize=(12, 8))\n",
    "sns.heatmap(correlação,annot=True, vmin=-1, vmax=1)"
   ]
  },
  {
   "cell_type": "code",
   "execution_count": null,
   "metadata": {},
   "outputs": [],
   "source": [
    "sns.pairplot(df[variaveis], kind=\"scatter\")"
   ]
  },
  {
   "cell_type": "code",
   "execution_count": null,
   "metadata": {},
   "outputs": [],
   "source": [
    "sns.pairplot(df, y_vars=target, x_vars=preditores, hue=target[0])"
   ]
  },
  {
   "cell_type": "code",
   "execution_count": null,
   "metadata": {},
   "outputs": [],
   "source": []
  }
 ],
 "metadata": {
  "kernelspec": {
   "display_name": "Python 3",
   "language": "python",
   "name": "python3"
  },
  "language_info": {
   "codemirror_mode": {
    "name": "ipython",
    "version": 3
   },
   "file_extension": ".py",
   "mimetype": "text/x-python",
   "name": "python",
   "nbconvert_exporter": "python",
   "pygments_lexer": "ipython3",
   "version": "3.7.6"
  }
 },
 "nbformat": 4,
 "nbformat_minor": 4
}

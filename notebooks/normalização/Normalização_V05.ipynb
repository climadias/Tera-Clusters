{
 "cells": [
  {
   "cell_type": "markdown",
   "metadata": {},
   "source": [
    "# Normalizaçãodos dados"
   ]
  },
  {
   "cell_type": "code",
   "execution_count": 1,
   "metadata": {},
   "outputs": [],
   "source": [
    "import pandas as pd\n",
    "import geopandas as gpd\n",
    "import matplotlib.pyplot as plt\n",
    "import numpy as np\n",
    "import sqlite3 as sql\n",
    "import seaborn as sns\n",
    "import csv\n",
    "import squarify \n",
    "from unidecode import unidecode\n",
    "import os\n",
    "\n",
    "from IPython.core.interactiveshell import InteractiveShell \n",
    "InteractiveShell.ast_node_interactivity=\"all\""
   ]
  },
  {
   "cell_type": "markdown",
   "metadata": {},
   "source": [
    "# Tratamento dados TSE"
   ]
  },
  {
   "cell_type": "code",
   "execution_count": 2,
   "metadata": {},
   "outputs": [
    {
     "name": "stdout",
     "output_type": "stream",
     "text": [
      "detalhes_municipios.csv  detalhes_parlamentares.csv  output_voto_legenda.csv\n"
     ]
    }
   ],
   "source": [
    "!ls ../dados/tse/dados_limpos"
   ]
  },
  {
   "cell_type": "markdown",
   "metadata": {},
   "source": [
    "### Tratamento dados parlamentares - cadastro base"
   ]
  },
  {
   "cell_type": "code",
   "execution_count": 3,
   "metadata": {},
   "outputs": [],
   "source": [
    "#Dados de parlamentares\n",
    "#enc=\"ISO-8859-3\"\n",
    "enc=\"Latin 1\"\n",
    "df_parlamentares=pd.read_csv(\"../dados/tse/dados_limpos/detalhes_parlamentares.csv\", \n",
    "                             encoding=enc,\n",
    "                             dtype={\"NR_CPF_CANDIDATO\":\"object\"},\n",
    "                             header=0)"
   ]
  },
  {
   "cell_type": "code",
   "execution_count": 4,
   "metadata": {},
   "outputs": [],
   "source": [
    "#df_parlamentares.sample(5)"
   ]
  },
  {
   "cell_type": "code",
   "execution_count": 5,
   "metadata": {},
   "outputs": [],
   "source": [
    "#renomeando CPF\n",
    "df_parlamentares.rename(columns={\"NR_CPF_CANDIDATO\":\"CPF\"}, inplace=True)\n",
    "#df_parlamentares.info()"
   ]
  },
  {
   "cell_type": "code",
   "execution_count": 6,
   "metadata": {},
   "outputs": [],
   "source": [
    "#df_parlamentares.columns"
   ]
  },
  {
   "cell_type": "code",
   "execution_count": 7,
   "metadata": {},
   "outputs": [],
   "source": [
    "#Criando cadastro de parlamentares\n",
    "df_parl_cadastro=df_parlamentares.copy()"
   ]
  },
  {
   "cell_type": "code",
   "execution_count": 8,
   "metadata": {},
   "outputs": [],
   "source": [
    "# Drop nas colunas desnecessárias\n",
    "df_parl_cadastro=df_parl_cadastro.drop([\"DS_SIT_TOT_TURNO\",'ST_REELEICAO',\n",
    "                                        'ST_DECLARAR_BENS', 'CD_TIPO_BEM_CANDIDATO',\n",
    "                                        'DS_TIPO_BEM_CANDIDATO', 'DS_BEM_CANDIDATO', \n",
    "                                        'VR_BEM_CANDIDATO'], axis=1)"
   ]
  },
  {
   "cell_type": "code",
   "execution_count": 9,
   "metadata": {},
   "outputs": [],
   "source": [
    "# retirando linhas duplicadas do cadastro\n",
    "df_parl_cadastro.drop_duplicates(inplace=True)\n",
    "df_parl_cadastro.reset_index(drop=True, inplace=True)\n",
    "#df_parl_cadastr.shape\n",
    "#df_parl_cadastro.column"
   ]
  },
  {
   "cell_type": "markdown",
   "metadata": {},
   "source": [
    "### Tratamento bens de parlamentares"
   ]
  },
  {
   "cell_type": "code",
   "execution_count": 10,
   "metadata": {},
   "outputs": [],
   "source": [
    "#Criando tabela de bens de parmanetares\n",
    "df_parl_bens=df_parlamentares.copy()\n",
    "df_parl_bens=df_parl_bens.drop([\"DS_SIT_TOT_TURNO\",'ST_REELEICAO',\"ANO_ELEICAO\",\n",
    "                                'SG_UE', 'DS_CARGO', 'SQ_CANDIDATO', 'NM_CANDIDATO',\n",
    "                                'NM_URNA_CANDIDATO','NM_EMAIL', 'SG_PARTIDO',\n",
    "                                'SG_UF_NASCIMENTO', 'NM_MUNICIPIO_NASCIMENTO', \n",
    "                                'DT_NASCIMENTO','NR_IDADE_DATA_POSSE', 'DS_GENERO',\n",
    "                                'DS_GRAU_INSTRUCAO','DS_ESTADO_CIVIL', 'DS_COR_RACA', \n",
    "                                'DS_OCUPACAO', 'DS_SIT_TOT_TURNO','ST_REELEICAO'], \n",
    "                               axis=1)\n",
    "df_parl_bens.reset_index(inplace=True, drop=True)\n",
    "#df_parl_bens.shape\n",
    "#df_parl_bens.info()"
   ]
  },
  {
   "cell_type": "markdown",
   "metadata": {},
   "source": [
    "### Ajustando cadastro base com os bens dos parlamentares"
   ]
  },
  {
   "cell_type": "code",
   "execution_count": 11,
   "metadata": {},
   "outputs": [],
   "source": [
    "# Criando valor total de bens dos parlamentares e colocando no cadastro\n",
    "df_parl_cadastro[\"VL_BENS\"]=0.\n",
    "i=0\n",
    "nparl=df_parl_cadastro.shape[0]\n",
    "while i < nparl:\n",
    "    cpf=df_parl_cadastro.iloc[i][\"CPF\"]\n",
    "    total=df_parl_bens[df_parl_bens[\"CPF\"]==cpf][\"VR_BEM_CANDIDATO\"].sum()\n",
    "    #print(\"i-> {} CPF: {}, Valor: {}\".format(i,cpf,total))\n",
    "    #vl_bens[i]=total\n",
    "    df_parl_cadastro.loc[i,\"VL_BENS\"]=total\n",
    "    i+=1\n"
   ]
  },
  {
   "cell_type": "code",
   "execution_count": 12,
   "metadata": {},
   "outputs": [],
   "source": [
    "#df_parl_cadastro.sample(5)"
   ]
  },
  {
   "cell_type": "code",
   "execution_count": 13,
   "metadata": {},
   "outputs": [],
   "source": [
    "#Reordenando colunas\n",
    "df_parl_cadastro=df_parl_cadastro[[\"CPF\",\"NM_CANDIDATO\",\"DT_NASCIMENTO\",\"SG_UF_NASCIMENTO\",\n",
    "                  \"NM_MUNICIPIO_NASCIMENTO\", \"DS_GENERO\", \"DS_GRAU_INSTRUCAO\",\n",
    "                  \"DS_ESTADO_CIVIL\", \"DS_COR_RACA\", \"DS_OCUPACAO\",\"VL_BENS\",\n",
    "                  \"ANO_ELEICAO\", \"DS_CARGO\", \"SG_PARTIDO\",\"SG_UE\",\"SQ_CANDIDATO\",\"NM_URNA_CANDIDATO\",\n",
    "                    \"NR_IDADE_DATA_POSSE\",'NM_EMAIL']]"
   ]
  },
  {
   "cell_type": "code",
   "execution_count": 14,
   "metadata": {},
   "outputs": [],
   "source": [
    "df_parl_cadastro[\"NM_URNA_CANDIDATO\"]=df_parl_cadastro[\"NM_URNA_CANDIDATO\"].apply(lambda x:unidecode(x))"
   ]
  },
  {
   "cell_type": "code",
   "execution_count": 15,
   "metadata": {},
   "outputs": [
    {
     "data": {
      "text/html": [
       "<div>\n",
       "<style scoped>\n",
       "    .dataframe tbody tr th:only-of-type {\n",
       "        vertical-align: middle;\n",
       "    }\n",
       "\n",
       "    .dataframe tbody tr th {\n",
       "        vertical-align: top;\n",
       "    }\n",
       "\n",
       "    .dataframe thead th {\n",
       "        text-align: right;\n",
       "    }\n",
       "</style>\n",
       "<table border=\"1\" class=\"dataframe\">\n",
       "  <thead>\n",
       "    <tr style=\"text-align: right;\">\n",
       "      <th></th>\n",
       "      <th>CPF</th>\n",
       "      <th>NM_CANDIDATO</th>\n",
       "      <th>DT_NASCIMENTO</th>\n",
       "      <th>SG_UF_NASCIMENTO</th>\n",
       "      <th>NM_MUNICIPIO_NASCIMENTO</th>\n",
       "      <th>DS_GENERO</th>\n",
       "      <th>DS_GRAU_INSTRUCAO</th>\n",
       "      <th>DS_ESTADO_CIVIL</th>\n",
       "      <th>DS_COR_RACA</th>\n",
       "      <th>DS_OCUPACAO</th>\n",
       "      <th>VL_BENS</th>\n",
       "      <th>ANO_ELEICAO</th>\n",
       "      <th>DS_CARGO</th>\n",
       "      <th>SG_PARTIDO</th>\n",
       "      <th>SG_UE</th>\n",
       "      <th>SQ_CANDIDATO</th>\n",
       "      <th>NM_URNA_CANDIDATO</th>\n",
       "      <th>NR_IDADE_DATA_POSSE</th>\n",
       "      <th>NM_EMAIL</th>\n",
       "    </tr>\n",
       "  </thead>\n",
       "  <tbody>\n",
       "    <tr>\n",
       "      <th>233</th>\n",
       "      <td>85702609620</td>\n",
       "      <td>ELIEL MARCIO DO CARMO</td>\n",
       "      <td>26/10/1973</td>\n",
       "      <td>MG</td>\n",
       "      <td>CONTAGEM</td>\n",
       "      <td>MASCULINO</td>\n",
       "      <td>SUPERIOR INCOMPLETO</td>\n",
       "      <td>CASADO(A)</td>\n",
       "      <td>PRETA</td>\n",
       "      <td>VEREADOR</td>\n",
       "      <td>721246.26</td>\n",
       "      <td>2018</td>\n",
       "      <td>DEPUTADO FEDERAL</td>\n",
       "      <td>PSL</td>\n",
       "      <td>MG</td>\n",
       "      <td>130000616624</td>\n",
       "      <td>LEO MOTTA</td>\n",
       "      <td>45.0</td>\n",
       "      <td>VEREADORLEOMOTTA@GMAIL.COM</td>\n",
       "    </tr>\n",
       "    <tr>\n",
       "      <th>270</th>\n",
       "      <td>42844924034</td>\n",
       "      <td>PAULO ROBERTO SEVERO PIMENTA</td>\n",
       "      <td>19/03/1965</td>\n",
       "      <td>RS</td>\n",
       "      <td>SANTA MARIA</td>\n",
       "      <td>MASCULINO</td>\n",
       "      <td>SUPERIOR COMPLETO</td>\n",
       "      <td>CASADO(A)</td>\n",
       "      <td>BRANCA</td>\n",
       "      <td>DEPUTADO</td>\n",
       "      <td>566034.12</td>\n",
       "      <td>2018</td>\n",
       "      <td>DEPUTADO FEDERAL</td>\n",
       "      <td>PT</td>\n",
       "      <td>RS</td>\n",
       "      <td>210000611383</td>\n",
       "      <td>PAULO PIMENTA</td>\n",
       "      <td>53.0</td>\n",
       "      <td>ANDREIATURNA@GMAIL.COM</td>\n",
       "    </tr>\n",
       "    <tr>\n",
       "      <th>543</th>\n",
       "      <td>23211253220</td>\n",
       "      <td>JOAO FERRARI JUNIOR</td>\n",
       "      <td>13/07/1967</td>\n",
       "      <td>PA</td>\n",
       "      <td>ORIXIMINA</td>\n",
       "      <td>MASCULINO</td>\n",
       "      <td>SUPERIOR COMPLETO</td>\n",
       "      <td>CASADO(A)</td>\n",
       "      <td>PARDA</td>\n",
       "      <td>DEPUTADO</td>\n",
       "      <td>1796100.70</td>\n",
       "      <td>2018</td>\n",
       "      <td>DEPUTADO FEDERAL</td>\n",
       "      <td>PSD</td>\n",
       "      <td>PA</td>\n",
       "      <td>140000606382</td>\n",
       "      <td>JUNIOR FERRARI</td>\n",
       "      <td>51.0</td>\n",
       "      <td>NIVIA.BOTELHO@YAHOO.COM.BR</td>\n",
       "    </tr>\n",
       "    <tr>\n",
       "      <th>324</th>\n",
       "      <td>71943790582</td>\n",
       "      <td>ALESSANDRO VIEIRA</td>\n",
       "      <td>03/04/1975</td>\n",
       "      <td>RS</td>\n",
       "      <td>PASSO FUNDO</td>\n",
       "      <td>MASCULINO</td>\n",
       "      <td>SUPERIOR COMPLETO</td>\n",
       "      <td>CASADO(A)</td>\n",
       "      <td>PARDA</td>\n",
       "      <td>POLICIAL CIVIL</td>\n",
       "      <td>900000.00</td>\n",
       "      <td>2018</td>\n",
       "      <td>SENADOR</td>\n",
       "      <td>REDE</td>\n",
       "      <td>SE</td>\n",
       "      <td>260000601810</td>\n",
       "      <td>DELEGADO ALESSANDRO VIEIRA</td>\n",
       "      <td>43.0</td>\n",
       "      <td>ALEVIEIRA1975@GMAIL.COM</td>\n",
       "    </tr>\n",
       "    <tr>\n",
       "      <th>27</th>\n",
       "      <td>00413473740</td>\n",
       "      <td>JOZIEL FERREIRA CARLOS</td>\n",
       "      <td>22/04/1966</td>\n",
       "      <td>RJ</td>\n",
       "      <td>SAO JOAO DE MERITI</td>\n",
       "      <td>MASCULINO</td>\n",
       "      <td>SUPERIOR COMPLETO</td>\n",
       "      <td>CASADO(A)</td>\n",
       "      <td>PRETA</td>\n",
       "      <td>MILITAR REFORMADO</td>\n",
       "      <td>0.00</td>\n",
       "      <td>2018</td>\n",
       "      <td>DEPUTADO FEDERAL</td>\n",
       "      <td>PSL</td>\n",
       "      <td>RJ</td>\n",
       "      <td>190000614659</td>\n",
       "      <td>PROFESSOR JOZIEL</td>\n",
       "      <td>52.0</td>\n",
       "      <td>PROFESSORJOZIEL@GMAIL.COM</td>\n",
       "    </tr>\n",
       "  </tbody>\n",
       "</table>\n",
       "</div>"
      ],
      "text/plain": [
       "             CPF                  NM_CANDIDATO DT_NASCIMENTO SG_UF_NASCIMENTO  \\\n",
       "233  85702609620         ELIEL MARCIO DO CARMO    26/10/1973               MG   \n",
       "270  42844924034  PAULO ROBERTO SEVERO PIMENTA    19/03/1965               RS   \n",
       "543  23211253220           JOAO FERRARI JUNIOR    13/07/1967               PA   \n",
       "324  71943790582             ALESSANDRO VIEIRA    03/04/1975               RS   \n",
       "27   00413473740        JOZIEL FERREIRA CARLOS    22/04/1966               RJ   \n",
       "\n",
       "    NM_MUNICIPIO_NASCIMENTO  DS_GENERO    DS_GRAU_INSTRUCAO DS_ESTADO_CIVIL  \\\n",
       "233                CONTAGEM  MASCULINO  SUPERIOR INCOMPLETO       CASADO(A)   \n",
       "270             SANTA MARIA  MASCULINO    SUPERIOR COMPLETO       CASADO(A)   \n",
       "543               ORIXIMINA  MASCULINO    SUPERIOR COMPLETO       CASADO(A)   \n",
       "324             PASSO FUNDO  MASCULINO    SUPERIOR COMPLETO       CASADO(A)   \n",
       "27       SAO JOAO DE MERITI  MASCULINO    SUPERIOR COMPLETO       CASADO(A)   \n",
       "\n",
       "    DS_COR_RACA        DS_OCUPACAO     VL_BENS  ANO_ELEICAO          DS_CARGO  \\\n",
       "233       PRETA           VEREADOR   721246.26         2018  DEPUTADO FEDERAL   \n",
       "270      BRANCA           DEPUTADO   566034.12         2018  DEPUTADO FEDERAL   \n",
       "543       PARDA           DEPUTADO  1796100.70         2018  DEPUTADO FEDERAL   \n",
       "324       PARDA     POLICIAL CIVIL   900000.00         2018           SENADOR   \n",
       "27        PRETA  MILITAR REFORMADO        0.00         2018  DEPUTADO FEDERAL   \n",
       "\n",
       "    SG_PARTIDO SG_UE  SQ_CANDIDATO           NM_URNA_CANDIDATO  \\\n",
       "233        PSL    MG  130000616624                   LEO MOTTA   \n",
       "270         PT    RS  210000611383               PAULO PIMENTA   \n",
       "543        PSD    PA  140000606382              JUNIOR FERRARI   \n",
       "324       REDE    SE  260000601810  DELEGADO ALESSANDRO VIEIRA   \n",
       "27         PSL    RJ  190000614659            PROFESSOR JOZIEL   \n",
       "\n",
       "     NR_IDADE_DATA_POSSE                    NM_EMAIL  \n",
       "233                 45.0  VEREADORLEOMOTTA@GMAIL.COM  \n",
       "270                 53.0      ANDREIATURNA@GMAIL.COM  \n",
       "543                 51.0  NIVIA.BOTELHO@YAHOO.COM.BR  \n",
       "324                 43.0     ALEVIEIRA1975@GMAIL.COM  \n",
       "27                  52.0   PROFESSORJOZIEL@GMAIL.COM  "
      ]
     },
     "execution_count": 15,
     "metadata": {},
     "output_type": "execute_result"
    }
   ],
   "source": [
    "df_parl_cadastro.sample(5)"
   ]
  },
  {
   "cell_type": "markdown",
   "metadata": {},
   "source": [
    "### Dados de votação nos municípios"
   ]
  },
  {
   "cell_type": "code",
   "execution_count": 16,
   "metadata": {},
   "outputs": [],
   "source": [
    "#Dados de municipios e votacão\n",
    "enc=\"ISO-8859-1\"\n",
    "#enc=\"Latin 1\"\n",
    "df_municipios=pd.read_csv(\"../dados/tse/dados_limpos/detalhes_municipios.csv\", \n",
    "                             encoding=enc,\n",
    "                            dtype={\"NR_CPF_CANDIDATO\":\"object\"},\n",
    "                             header=0)"
   ]
  },
  {
   "cell_type": "code",
   "execution_count": 17,
   "metadata": {},
   "outputs": [],
   "source": [
    "#renomeando CPF\n",
    "df_municipios.rename(columns={\"NR_CPF_CANDIDATO\":\"CPF\"}, inplace=True)\n",
    "#df_municipios.head(5)\n",
    "#df_municipios.info()"
   ]
  },
  {
   "cell_type": "code",
   "execution_count": 18,
   "metadata": {},
   "outputs": [],
   "source": [
    "\n",
    "#df_municipios.columns"
   ]
  },
  {
   "cell_type": "code",
   "execution_count": 19,
   "metadata": {},
   "outputs": [],
   "source": [
    "df_parl_votacao=df_municipios[[\"CPF\", \"SG_UF\", \"CD_MUNICIPIO\",\n",
    "                            \"VOTOS_TOTAL_MUN\", 'CODIGO_IBGE']].copy()\n",
    "df_parl_votacao.reset_index(inplace=True, drop=True)"
   ]
  },
  {
   "cell_type": "code",
   "execution_count": 20,
   "metadata": {},
   "outputs": [
    {
     "data": {
      "text/html": [
       "<div>\n",
       "<style scoped>\n",
       "    .dataframe tbody tr th:only-of-type {\n",
       "        vertical-align: middle;\n",
       "    }\n",
       "\n",
       "    .dataframe tbody tr th {\n",
       "        vertical-align: top;\n",
       "    }\n",
       "\n",
       "    .dataframe thead th {\n",
       "        text-align: right;\n",
       "    }\n",
       "</style>\n",
       "<table border=\"1\" class=\"dataframe\">\n",
       "  <thead>\n",
       "    <tr style=\"text-align: right;\">\n",
       "      <th></th>\n",
       "      <th>CPF</th>\n",
       "      <th>SG_UF</th>\n",
       "      <th>CD_MUNICIPIO</th>\n",
       "      <th>VOTOS_TOTAL_MUN</th>\n",
       "      <th>CODIGO_IBGE</th>\n",
       "    </tr>\n",
       "  </thead>\n",
       "  <tbody>\n",
       "    <tr>\n",
       "      <th>0</th>\n",
       "      <td>93565968834</td>\n",
       "      <td>SP</td>\n",
       "      <td>68314</td>\n",
       "      <td>17542</td>\n",
       "      <td>3536505.0</td>\n",
       "    </tr>\n",
       "    <tr>\n",
       "      <th>1</th>\n",
       "      <td>00274003953</td>\n",
       "      <td>PR</td>\n",
       "      <td>79499</td>\n",
       "      <td>2969</td>\n",
       "      <td>4128807.0</td>\n",
       "    </tr>\n",
       "    <tr>\n",
       "      <th>2</th>\n",
       "      <td>01099561760</td>\n",
       "      <td>MS</td>\n",
       "      <td>98094</td>\n",
       "      <td>7110</td>\n",
       "      <td>5007695.0</td>\n",
       "    </tr>\n",
       "    <tr>\n",
       "      <th>3</th>\n",
       "      <td>26472058768</td>\n",
       "      <td>GO</td>\n",
       "      <td>96172</td>\n",
       "      <td>1582</td>\n",
       "      <td>5221007.0</td>\n",
       "    </tr>\n",
       "    <tr>\n",
       "      <th>4</th>\n",
       "      <td>00135968372</td>\n",
       "      <td>PI</td>\n",
       "      <td>12688</td>\n",
       "      <td>1252</td>\n",
       "      <td>2202653.0</td>\n",
       "    </tr>\n",
       "  </tbody>\n",
       "</table>\n",
       "</div>"
      ],
      "text/plain": [
       "           CPF SG_UF  CD_MUNICIPIO  VOTOS_TOTAL_MUN  CODIGO_IBGE\n",
       "0  93565968834    SP         68314            17542    3536505.0\n",
       "1  00274003953    PR         79499             2969    4128807.0\n",
       "2  01099561760    MS         98094             7110    5007695.0\n",
       "3  26472058768    GO         96172             1582    5221007.0\n",
       "4  00135968372    PI         12688             1252    2202653.0"
      ]
     },
     "execution_count": 20,
     "metadata": {},
     "output_type": "execute_result"
    }
   ],
   "source": [
    "df_parl_votacao.head()"
   ]
  },
  {
   "cell_type": "code",
   "execution_count": 24,
   "metadata": {},
   "outputs": [],
   "source": [
    "# Percentual da votação total no municipio\n",
    "df_parl_votacao[\"PERC_VOTOS\"]=df_parl_votacao.groupby(\"CPF\")[\"VOTOS_TOTAL_MUN\"].apply(lambda x:(x / float(x.sum())*100).round(2))\n"
   ]
  },
  {
   "cell_type": "code",
   "execution_count": 25,
   "metadata": {},
   "outputs": [
    {
     "data": {
      "text/html": [
       "<div>\n",
       "<style scoped>\n",
       "    .dataframe tbody tr th:only-of-type {\n",
       "        vertical-align: middle;\n",
       "    }\n",
       "\n",
       "    .dataframe tbody tr th {\n",
       "        vertical-align: top;\n",
       "    }\n",
       "\n",
       "    .dataframe thead th {\n",
       "        text-align: right;\n",
       "    }\n",
       "</style>\n",
       "<table border=\"1\" class=\"dataframe\">\n",
       "  <thead>\n",
       "    <tr style=\"text-align: right;\">\n",
       "      <th></th>\n",
       "      <th>VOTOS_TOTAL_MUN</th>\n",
       "      <th>PERC_VOTOS</th>\n",
       "    </tr>\n",
       "  </thead>\n",
       "  <tbody>\n",
       "    <tr>\n",
       "      <th>0</th>\n",
       "      <td>17542</td>\n",
       "      <td>0.16</td>\n",
       "    </tr>\n",
       "    <tr>\n",
       "      <th>47</th>\n",
       "      <td>54457</td>\n",
       "      <td>0.49</td>\n",
       "    </tr>\n",
       "    <tr>\n",
       "      <th>54</th>\n",
       "      <td>41947</td>\n",
       "      <td>0.38</td>\n",
       "    </tr>\n",
       "    <tr>\n",
       "      <th>56</th>\n",
       "      <td>1789</td>\n",
       "      <td>0.02</td>\n",
       "    </tr>\n",
       "    <tr>\n",
       "      <th>57</th>\n",
       "      <td>1231</td>\n",
       "      <td>0.01</td>\n",
       "    </tr>\n",
       "    <tr>\n",
       "      <th>...</th>\n",
       "      <td>...</td>\n",
       "      <td>...</td>\n",
       "    </tr>\n",
       "    <tr>\n",
       "      <th>5540</th>\n",
       "      <td>1797</td>\n",
       "      <td>0.02</td>\n",
       "    </tr>\n",
       "    <tr>\n",
       "      <th>5546</th>\n",
       "      <td>1648</td>\n",
       "      <td>0.01</td>\n",
       "    </tr>\n",
       "    <tr>\n",
       "      <th>5559</th>\n",
       "      <td>1133</td>\n",
       "      <td>0.01</td>\n",
       "    </tr>\n",
       "    <tr>\n",
       "      <th>5567</th>\n",
       "      <td>908</td>\n",
       "      <td>0.01</td>\n",
       "    </tr>\n",
       "    <tr>\n",
       "      <th>5569</th>\n",
       "      <td>6687</td>\n",
       "      <td>0.06</td>\n",
       "    </tr>\n",
       "  </tbody>\n",
       "</table>\n",
       "<p>645 rows × 2 columns</p>\n",
       "</div>"
      ],
      "text/plain": [
       "      VOTOS_TOTAL_MUN  PERC_VOTOS\n",
       "0               17542        0.16\n",
       "47              54457        0.49\n",
       "54              41947        0.38\n",
       "56               1789        0.02\n",
       "57               1231        0.01\n",
       "...               ...         ...\n",
       "5540             1797        0.02\n",
       "5546             1648        0.01\n",
       "5559             1133        0.01\n",
       "5567              908        0.01\n",
       "5569             6687        0.06\n",
       "\n",
       "[645 rows x 2 columns]"
      ]
     },
     "execution_count": 25,
     "metadata": {},
     "output_type": "execute_result"
    },
    {
     "data": {
      "text/plain": [
       "PERC_VOTOS    100.05\n",
       "dtype: float64"
      ]
     },
     "execution_count": 25,
     "metadata": {},
     "output_type": "execute_result"
    }
   ],
   "source": [
    "df_parl_votacao[df_parl_votacao[\"CPF\"]==\"93565968834\"][[\"VOTOS_TOTAL_MUN\",\"PERC_VOTOS\"]]\n",
    "df_parl_votacao[df_parl_votacao[\"CPF\"]==\"93565968834\"][[\"PERC_VOTOS\"]].sum()\n"
   ]
  },
  {
   "cell_type": "code",
   "execution_count": 26,
   "metadata": {},
   "outputs": [],
   "source": [
    "# Código com groupby para consolidar votação\n",
    "#df_partido=df_partidos_votacao[df_partidos_votacao[\"SG_PARTIDO\"]==\"PSOL\"]\n",
    "#df_partido.groupby(\"SG_UF\",as_index=False)[\"VOTOS_TOTAL_MUN\"].sum().sort_values(\"VOTOS_TOTAL_MUN\",ascending=False)"
   ]
  },
  {
   "cell_type": "code",
   "execution_count": 27,
   "metadata": {},
   "outputs": [],
   "source": [
    "df_votacao=df_parl_cadastro[[\"CPF\",\"DS_CARGO\", \"SG_PARTIDO\",\"SG_UE\"]].copy()\n",
    "df_votacao.reset_index(inplace=True, drop=True)\n",
    "df_votacao=pd.merge(df_votacao, df_parl_votacao, how=\"left\", on=\"CPF\")"
   ]
  },
  {
   "cell_type": "code",
   "execution_count": 28,
   "metadata": {},
   "outputs": [
    {
     "data": {
      "text/html": [
       "<div>\n",
       "<style scoped>\n",
       "    .dataframe tbody tr th:only-of-type {\n",
       "        vertical-align: middle;\n",
       "    }\n",
       "\n",
       "    .dataframe tbody tr th {\n",
       "        vertical-align: top;\n",
       "    }\n",
       "\n",
       "    .dataframe thead th {\n",
       "        text-align: right;\n",
       "    }\n",
       "</style>\n",
       "<table border=\"1\" class=\"dataframe\">\n",
       "  <thead>\n",
       "    <tr style=\"text-align: right;\">\n",
       "      <th></th>\n",
       "      <th>CPF</th>\n",
       "      <th>DS_CARGO</th>\n",
       "      <th>SG_PARTIDO</th>\n",
       "      <th>SG_UE</th>\n",
       "      <th>SG_UF</th>\n",
       "      <th>CD_MUNICIPIO</th>\n",
       "      <th>VOTOS_TOTAL_MUN</th>\n",
       "      <th>CODIGO_IBGE</th>\n",
       "      <th>PERC_VOTOS</th>\n",
       "    </tr>\n",
       "  </thead>\n",
       "  <tbody>\n",
       "    <tr>\n",
       "      <th>0</th>\n",
       "      <td>23019093104</td>\n",
       "      <td>SENADOR</td>\n",
       "      <td>PR</td>\n",
       "      <td>MT</td>\n",
       "      <td>MT</td>\n",
       "      <td>90042</td>\n",
       "      <td>1062</td>\n",
       "      <td>5100359.0</td>\n",
       "      <td>0.16</td>\n",
       "    </tr>\n",
       "    <tr>\n",
       "      <th>1</th>\n",
       "      <td>23019093104</td>\n",
       "      <td>SENADOR</td>\n",
       "      <td>PR</td>\n",
       "      <td>MT</td>\n",
       "      <td>MT</td>\n",
       "      <td>90166</td>\n",
       "      <td>1013</td>\n",
       "      <td>5108857.0</td>\n",
       "      <td>0.16</td>\n",
       "    </tr>\n",
       "    <tr>\n",
       "      <th>2</th>\n",
       "      <td>23019093104</td>\n",
       "      <td>SENADOR</td>\n",
       "      <td>PR</td>\n",
       "      <td>MT</td>\n",
       "      <td>MT</td>\n",
       "      <td>98337</td>\n",
       "      <td>2092</td>\n",
       "      <td>5103452.0</td>\n",
       "      <td>0.32</td>\n",
       "    </tr>\n",
       "    <tr>\n",
       "      <th>3</th>\n",
       "      <td>23019093104</td>\n",
       "      <td>SENADOR</td>\n",
       "      <td>PR</td>\n",
       "      <td>MT</td>\n",
       "      <td>MT</td>\n",
       "      <td>90670</td>\n",
       "      <td>113036</td>\n",
       "      <td>5103403.0</td>\n",
       "      <td>17.49</td>\n",
       "    </tr>\n",
       "    <tr>\n",
       "      <th>4</th>\n",
       "      <td>23019093104</td>\n",
       "      <td>SENADOR</td>\n",
       "      <td>PR</td>\n",
       "      <td>MT</td>\n",
       "      <td>MT</td>\n",
       "      <td>90905</td>\n",
       "      <td>1429</td>\n",
       "      <td>5101852.0</td>\n",
       "      <td>0.22</td>\n",
       "    </tr>\n",
       "  </tbody>\n",
       "</table>\n",
       "</div>"
      ],
      "text/plain": [
       "           CPF DS_CARGO SG_PARTIDO SG_UE SG_UF  CD_MUNICIPIO  VOTOS_TOTAL_MUN  \\\n",
       "0  23019093104  SENADOR         PR    MT    MT         90042             1062   \n",
       "1  23019093104  SENADOR         PR    MT    MT         90166             1013   \n",
       "2  23019093104  SENADOR         PR    MT    MT         98337             2092   \n",
       "3  23019093104  SENADOR         PR    MT    MT         90670           113036   \n",
       "4  23019093104  SENADOR         PR    MT    MT         90905             1429   \n",
       "\n",
       "   CODIGO_IBGE  PERC_VOTOS  \n",
       "0    5100359.0        0.16  \n",
       "1    5108857.0        0.16  \n",
       "2    5103452.0        0.32  \n",
       "3    5103403.0       17.49  \n",
       "4    5101852.0        0.22  "
      ]
     },
     "execution_count": 28,
     "metadata": {},
     "output_type": "execute_result"
    }
   ],
   "source": [
    "#df_votacao.shape\n",
    "#df_votacao.head()\n",
    "df_votacao.head(5)"
   ]
  },
  {
   "cell_type": "markdown",
   "metadata": {},
   "source": [
    "### Tabela consolidando votação dos partidos nos municípios (parlamentares)"
   ]
  },
  {
   "cell_type": "code",
   "execution_count": 29,
   "metadata": {},
   "outputs": [
    {
     "data": {
      "text/plain": [
       "(94846, 5)"
      ]
     },
     "execution_count": 29,
     "metadata": {},
     "output_type": "execute_result"
    }
   ],
   "source": [
    "df_partidos_votacao=df_votacao.groupby([\"SG_PARTIDO\",\"SG_UF\",\"DS_CARGO\",\"CODIGO_IBGE\"], \n",
    "                                      as_index=False)[\"VOTOS_TOTAL_MUN\"].sum()\n",
    "df_partidos_votacao.shape"
   ]
  },
  {
   "cell_type": "code",
   "execution_count": 30,
   "metadata": {},
   "outputs": [],
   "source": [
    "# Código com groupby para consolidar votação\n",
    "#df_partido=df_partidos_votacao[df_partidos_votacao[\"SG_PARTIDO\"]==\"PSOL\"]\n",
    "#df_partido.groupby(\"SG_UF\",as_index=False)[\"VOTOS_TOTAL_MUN\"].sum().sort_values(\"VOTOS_TOTAL_MUN\",ascending=False)"
   ]
  },
  {
   "cell_type": "code",
   "execution_count": 31,
   "metadata": {},
   "outputs": [
    {
     "data": {
      "text/html": [
       "<div>\n",
       "<style scoped>\n",
       "    .dataframe tbody tr th:only-of-type {\n",
       "        vertical-align: middle;\n",
       "    }\n",
       "\n",
       "    .dataframe tbody tr th {\n",
       "        vertical-align: top;\n",
       "    }\n",
       "\n",
       "    .dataframe thead th {\n",
       "        text-align: right;\n",
       "    }\n",
       "</style>\n",
       "<table border=\"1\" class=\"dataframe\">\n",
       "  <thead>\n",
       "    <tr style=\"text-align: right;\">\n",
       "      <th></th>\n",
       "      <th>SG_PARTIDO</th>\n",
       "      <th>SG_UF</th>\n",
       "      <th>DS_CARGO</th>\n",
       "      <th>CODIGO_IBGE</th>\n",
       "      <th>VOTOS_TOTAL_MUN</th>\n",
       "    </tr>\n",
       "  </thead>\n",
       "  <tbody>\n",
       "    <tr>\n",
       "      <th>0</th>\n",
       "      <td>AVANTE</td>\n",
       "      <td>AP</td>\n",
       "      <td>DEPUTADO FEDERAL</td>\n",
       "      <td>1600055.0</td>\n",
       "      <td>74</td>\n",
       "    </tr>\n",
       "    <tr>\n",
       "      <th>1</th>\n",
       "      <td>AVANTE</td>\n",
       "      <td>AP</td>\n",
       "      <td>DEPUTADO FEDERAL</td>\n",
       "      <td>1600105.0</td>\n",
       "      <td>89</td>\n",
       "    </tr>\n",
       "    <tr>\n",
       "      <th>2</th>\n",
       "      <td>AVANTE</td>\n",
       "      <td>AP</td>\n",
       "      <td>DEPUTADO FEDERAL</td>\n",
       "      <td>1600154.0</td>\n",
       "      <td>478</td>\n",
       "    </tr>\n",
       "    <tr>\n",
       "      <th>3</th>\n",
       "      <td>AVANTE</td>\n",
       "      <td>AP</td>\n",
       "      <td>DEPUTADO FEDERAL</td>\n",
       "      <td>1600204.0</td>\n",
       "      <td>22</td>\n",
       "    </tr>\n",
       "    <tr>\n",
       "      <th>4</th>\n",
       "      <td>AVANTE</td>\n",
       "      <td>AP</td>\n",
       "      <td>DEPUTADO FEDERAL</td>\n",
       "      <td>1600212.0</td>\n",
       "      <td>53</td>\n",
       "    </tr>\n",
       "  </tbody>\n",
       "</table>\n",
       "</div>"
      ],
      "text/plain": [
       "  SG_PARTIDO SG_UF          DS_CARGO  CODIGO_IBGE  VOTOS_TOTAL_MUN\n",
       "0     AVANTE    AP  DEPUTADO FEDERAL    1600055.0               74\n",
       "1     AVANTE    AP  DEPUTADO FEDERAL    1600105.0               89\n",
       "2     AVANTE    AP  DEPUTADO FEDERAL    1600154.0              478\n",
       "3     AVANTE    AP  DEPUTADO FEDERAL    1600204.0               22\n",
       "4     AVANTE    AP  DEPUTADO FEDERAL    1600212.0               53"
      ]
     },
     "execution_count": 31,
     "metadata": {},
     "output_type": "execute_result"
    }
   ],
   "source": [
    "df_partidos_votacao.head()"
   ]
  },
  {
   "cell_type": "markdown",
   "metadata": {},
   "source": [
    "### Tabela consolidando votos em legenda nos municípios (legenda)"
   ]
  },
  {
   "cell_type": "code",
   "execution_count": 32,
   "metadata": {},
   "outputs": [],
   "source": [
    "#Dados de municipios e votacão\n",
    "enc=\"ISO-8859-1\"\n",
    "#enc=\"Latin 1\"\n",
    "df_legenda=pd.read_csv(\"../dados/tse/dados_limpos/output_voto_legenda.csv\", \n",
    "                             encoding=enc,\n",
    "                             sep=\";\",\n",
    "                             header=0)"
   ]
  },
  {
   "cell_type": "code",
   "execution_count": 33,
   "metadata": {},
   "outputs": [],
   "source": [
    "#df_legenda.head()\n",
    "#df_legenda.shape"
   ]
  },
  {
   "cell_type": "code",
   "execution_count": 34,
   "metadata": {},
   "outputs": [],
   "source": [
    "df_legendas_votacao=df_legenda.groupby([\"SG_PARTIDO\",\"SG_UF\",\"DS_CARGO\",\"CODIGO_IBGE\"], \n",
    "                                      as_index=False)[\"VOTOS_TOTAL_MUN\"].sum()\n",
    "#df_legendas_votacao.shape\n",
    "#df_legendas_votacao.head(5)\n"
   ]
  },
  {
   "cell_type": "code",
   "execution_count": 35,
   "metadata": {},
   "outputs": [
    {
     "data": {
      "text/html": [
       "<div>\n",
       "<style scoped>\n",
       "    .dataframe tbody tr th:only-of-type {\n",
       "        vertical-align: middle;\n",
       "    }\n",
       "\n",
       "    .dataframe tbody tr th {\n",
       "        vertical-align: top;\n",
       "    }\n",
       "\n",
       "    .dataframe thead th {\n",
       "        text-align: right;\n",
       "    }\n",
       "</style>\n",
       "<table border=\"1\" class=\"dataframe\">\n",
       "  <thead>\n",
       "    <tr style=\"text-align: right;\">\n",
       "      <th></th>\n",
       "      <th>SG_PARTIDO</th>\n",
       "      <th>SG_UF</th>\n",
       "      <th>DS_CARGO</th>\n",
       "      <th>CODIGO_IBGE</th>\n",
       "      <th>VOTOS_TOTAL_MUN</th>\n",
       "    </tr>\n",
       "  </thead>\n",
       "  <tbody>\n",
       "    <tr>\n",
       "      <th>199077</th>\n",
       "      <td>PT</td>\n",
       "      <td>GO</td>\n",
       "      <td>DEPUTADO FEDERAL</td>\n",
       "      <td>5214002.0</td>\n",
       "      <td>43</td>\n",
       "    </tr>\n",
       "    <tr>\n",
       "      <th>124147</th>\n",
       "      <td>PROS</td>\n",
       "      <td>MG</td>\n",
       "      <td>DEPUTADO FEDERAL</td>\n",
       "      <td>3113008.0</td>\n",
       "      <td>2</td>\n",
       "    </tr>\n",
       "    <tr>\n",
       "      <th>157797</th>\n",
       "      <td>PSD</td>\n",
       "      <td>PA</td>\n",
       "      <td>DEPUTADO FEDERAL</td>\n",
       "      <td>1503093.0</td>\n",
       "      <td>79</td>\n",
       "    </tr>\n",
       "    <tr>\n",
       "      <th>50760</th>\n",
       "      <td>PCB</td>\n",
       "      <td>MG</td>\n",
       "      <td>DEPUTADO FEDERAL</td>\n",
       "      <td>3149952.0</td>\n",
       "      <td>0</td>\n",
       "    </tr>\n",
       "    <tr>\n",
       "      <th>23930</th>\n",
       "      <td>MDB</td>\n",
       "      <td>MS</td>\n",
       "      <td>DEPUTADO FEDERAL</td>\n",
       "      <td>5001003.0</td>\n",
       "      <td>62</td>\n",
       "    </tr>\n",
       "  </tbody>\n",
       "</table>\n",
       "</div>"
      ],
      "text/plain": [
       "       SG_PARTIDO SG_UF          DS_CARGO  CODIGO_IBGE  VOTOS_TOTAL_MUN\n",
       "199077         PT    GO  DEPUTADO FEDERAL    5214002.0               43\n",
       "124147       PROS    MG  DEPUTADO FEDERAL    3113008.0                2\n",
       "157797        PSD    PA  DEPUTADO FEDERAL    1503093.0               79\n",
       "50760         PCB    MG  DEPUTADO FEDERAL    3149952.0                0\n",
       "23930         MDB    MS  DEPUTADO FEDERAL    5001003.0               62"
      ]
     },
     "execution_count": 35,
     "metadata": {},
     "output_type": "execute_result"
    }
   ],
   "source": [
    "df_legendas_votacao[\"DS_CARGO\"]=df_legendas_votacao[\"DS_CARGO\"].apply(lambda x:x.upper())\n",
    "df_legendas_votacao.sample(5)"
   ]
  },
  {
   "cell_type": "markdown",
   "metadata": {},
   "source": [
    "### Tabela cadastro com informações dos municípios"
   ]
  },
  {
   "cell_type": "code",
   "execution_count": 36,
   "metadata": {},
   "outputs": [
    {
     "data": {
      "text/html": [
       "<div>\n",
       "<style scoped>\n",
       "    .dataframe tbody tr th:only-of-type {\n",
       "        vertical-align: middle;\n",
       "    }\n",
       "\n",
       "    .dataframe tbody tr th {\n",
       "        vertical-align: top;\n",
       "    }\n",
       "\n",
       "    .dataframe thead th {\n",
       "        text-align: right;\n",
       "    }\n",
       "</style>\n",
       "<table border=\"1\" class=\"dataframe\">\n",
       "  <thead>\n",
       "    <tr style=\"text-align: right;\">\n",
       "      <th></th>\n",
       "      <th>CODIGO_IBGE</th>\n",
       "      <th>SG_UF</th>\n",
       "      <th>NM_MUNICIPIO</th>\n",
       "      <th>IDHM_2010</th>\n",
       "      <th>IDHM_RENDA_2010</th>\n",
       "      <th>IDHM_LONGEV_2010</th>\n",
       "      <th>IDHM_EDUC_2010</th>\n",
       "    </tr>\n",
       "  </thead>\n",
       "  <tbody>\n",
       "    <tr>\n",
       "      <th>0</th>\n",
       "      <td>1200013.0</td>\n",
       "      <td>AC</td>\n",
       "      <td>ACRELANDIA</td>\n",
       "      <td>0.604</td>\n",
       "      <td>0.584</td>\n",
       "      <td>0.808</td>\n",
       "      <td>0.466</td>\n",
       "    </tr>\n",
       "    <tr>\n",
       "      <th>1</th>\n",
       "      <td>1200054.0</td>\n",
       "      <td>AC</td>\n",
       "      <td>ASSIS BRASIL</td>\n",
       "      <td>0.588</td>\n",
       "      <td>0.578</td>\n",
       "      <td>0.770</td>\n",
       "      <td>0.456</td>\n",
       "    </tr>\n",
       "    <tr>\n",
       "      <th>2</th>\n",
       "      <td>1200104.0</td>\n",
       "      <td>AC</td>\n",
       "      <td>BRASILEIA</td>\n",
       "      <td>0.614</td>\n",
       "      <td>0.619</td>\n",
       "      <td>0.770</td>\n",
       "      <td>0.485</td>\n",
       "    </tr>\n",
       "    <tr>\n",
       "      <th>3</th>\n",
       "      <td>1200138.0</td>\n",
       "      <td>AC</td>\n",
       "      <td>BUJARI</td>\n",
       "      <td>0.589</td>\n",
       "      <td>0.603</td>\n",
       "      <td>0.772</td>\n",
       "      <td>0.439</td>\n",
       "    </tr>\n",
       "    <tr>\n",
       "      <th>4</th>\n",
       "      <td>1200179.0</td>\n",
       "      <td>AC</td>\n",
       "      <td>CAPIXABA</td>\n",
       "      <td>0.575</td>\n",
       "      <td>0.601</td>\n",
       "      <td>0.794</td>\n",
       "      <td>0.398</td>\n",
       "    </tr>\n",
       "  </tbody>\n",
       "</table>\n",
       "</div>"
      ],
      "text/plain": [
       "   CODIGO_IBGE SG_UF  NM_MUNICIPIO  IDHM_2010  IDHM_RENDA_2010  \\\n",
       "0    1200013.0    AC    ACRELANDIA      0.604            0.584   \n",
       "1    1200054.0    AC  ASSIS BRASIL      0.588            0.578   \n",
       "2    1200104.0    AC     BRASILEIA      0.614            0.619   \n",
       "3    1200138.0    AC        BUJARI      0.589            0.603   \n",
       "4    1200179.0    AC      CAPIXABA      0.575            0.601   \n",
       "\n",
       "   IDHM_LONGEV_2010  IDHM_EDUC_2010  \n",
       "0             0.808           0.466  \n",
       "1             0.770           0.456  \n",
       "2             0.770           0.485  \n",
       "3             0.772           0.439  \n",
       "4             0.794           0.398  "
      ]
     },
     "execution_count": 36,
     "metadata": {},
     "output_type": "execute_result"
    }
   ],
   "source": [
    "df_municipios=df_municipios[['CODIGO_IBGE','SG_UF','NM_MUNICIPIO',\n",
    "                          'IDHM_2010', 'IDHM_RENDA_2010',\n",
    "                          'IDHM_LONGEV_2010','IDHM_EDUC_2010']].copy()\n",
    "df_municipios.drop_duplicates(inplace=True)\n",
    "df_municipios.sort_values([\"SG_UF\",\"NM_MUNICIPIO\"], inplace=True)\n",
    "df_municipios.reset_index(inplace=True, drop=True)\n",
    "df_municipios.head()"
   ]
  },
  {
   "cell_type": "markdown",
   "metadata": {},
   "source": [
    "## Salvando bases TSE em base sql"
   ]
  },
  {
   "cell_type": "markdown",
   "metadata": {},
   "source": [
    "### Abrindo base sql"
   ]
  },
  {
   "cell_type": "code",
   "execution_count": 37,
   "metadata": {},
   "outputs": [],
   "source": [
    "con = sql.connect(\"../dados/sql/base_completa.db\")"
   ]
  },
  {
   "cell_type": "markdown",
   "metadata": {},
   "source": [
    "### Salvando tabelas"
   ]
  },
  {
   "cell_type": "code",
   "execution_count": 38,
   "metadata": {},
   "outputs": [],
   "source": [
    "df_parl_cadastro.to_sql(\"cadastro\",con,if_exists=\"replace\", index=False, index_label=\"CPF\")\n",
    "df_parl_bens.to_sql(\"parl_bens\",con,if_exists=\"replace\", index=False, index_label=\"CPF\")\n",
    "df_parl_votacao.to_sql(\"parl_votacao\",con,if_exists=\"replace\", index=False, index_label=\"CPF\")\n",
    "df_partidos_votacao.to_sql(\"partidos_votacao\",con,if_exists=\"replace\", index=False, index_label=\"SG_PARTIDO\")\n",
    "df_legendas_votacao.to_sql(\"legendas_votacao\",con,if_exists=\"replace\", index=False, index_label=\"SG_PARTIDO\")\n",
    "df_municipios.to_sql(\"municipios\",con,if_exists=\"replace\", index=False, index_label=\"CODIGO_IBGE\")"
   ]
  },
  {
   "cell_type": "markdown",
   "metadata": {},
   "source": [
    "### fechando base sql"
   ]
  },
  {
   "cell_type": "code",
   "execution_count": 39,
   "metadata": {},
   "outputs": [],
   "source": [
    "con.close()"
   ]
  },
  {
   "cell_type": "markdown",
   "metadata": {},
   "source": [
    "# Tratando diap"
   ]
  },
  {
   "cell_type": "code",
   "execution_count": null,
   "metadata": {},
   "outputs": [],
   "source": [
    "df_diap=pd.read_csv(\"../dados/diap/politicos_diap_cpf.csv\", dtype={\"CPF\":\"object\"})\n",
    "#df_diap.info()"
   ]
  },
  {
   "cell_type": "code",
   "execution_count": null,
   "metadata": {},
   "outputs": [],
   "source": [
    "df_diap.drop(columns=[\"nome\",\"partido\",\"cargo\",\"estado\",\"profissão\"], inplace=True)\n",
    "#df_diap.info()"
   ]
  },
  {
   "cell_type": "code",
   "execution_count": null,
   "metadata": {},
   "outputs": [],
   "source": [
    "df_diap=df_diap[[\"CPF\",\"mandatos\",\"cabeças\",\"debatedor\",\"articulador\",\"formulador\",\"negociador\"]].copy()\n",
    "df_diap.head()"
   ]
  },
  {
   "cell_type": "markdown",
   "metadata": {},
   "source": [
    "### Salvando tabela"
   ]
  },
  {
   "cell_type": "code",
   "execution_count": null,
   "metadata": {},
   "outputs": [],
   "source": [
    "con = sql.connect(\"../dados/sql/base_completa.db\")\n",
    "df_diap.to_sql(\"diap\",con,if_exists=\"replace\", index=False, index_label=\"CPF\")\n",
    "con.close()"
   ]
  },
  {
   "cell_type": "markdown",
   "metadata": {},
   "source": [
    "## Exemplo de abertura de base sql e carga em dataframe"
   ]
  },
  {
   "cell_type": "code",
   "execution_count": null,
   "metadata": {},
   "outputs": [],
   "source": [
    "con = sql.connect(\"../dados/sql/base_completa.db\")"
   ]
  },
  {
   "cell_type": "code",
   "execution_count": null,
   "metadata": {},
   "outputs": [],
   "source": [
    "df=pd.read_sql(\"select * from cadastro\",con)"
   ]
  },
  {
   "cell_type": "code",
   "execution_count": null,
   "metadata": {},
   "outputs": [],
   "source": [
    "df.head()"
   ]
  },
  {
   "cell_type": "code",
   "execution_count": null,
   "metadata": {},
   "outputs": [],
   "source": [
    "df_1=pd.read_sql(\"select * from bens where cpf=274003953\",con)"
   ]
  },
  {
   "cell_type": "code",
   "execution_count": null,
   "metadata": {},
   "outputs": [],
   "source": [
    "df_1"
   ]
  },
  {
   "cell_type": "code",
   "execution_count": null,
   "metadata": {},
   "outputs": [],
   "source": [
    "con.close()"
   ]
  },
  {
   "cell_type": "markdown",
   "metadata": {},
   "source": [
    "# Para verificar o conteúdo da base por uma ferramenta externa utilize\n",
    "# https://sqlitebrowser.org/"
   ]
  },
  {
   "cell_type": "code",
   "execution_count": null,
   "metadata": {},
   "outputs": [],
   "source": []
  }
 ],
 "metadata": {
  "kernelspec": {
   "display_name": "Python 3",
   "language": "python",
   "name": "python3"
  },
  "language_info": {
   "codemirror_mode": {
    "name": "ipython",
    "version": 3
   },
   "file_extension": ".py",
   "mimetype": "text/x-python",
   "name": "python",
   "nbconvert_exporter": "python",
   "pygments_lexer": "ipython3",
   "version": "3.7.6"
  }
 },
 "nbformat": 4,
 "nbformat_minor": 4
}

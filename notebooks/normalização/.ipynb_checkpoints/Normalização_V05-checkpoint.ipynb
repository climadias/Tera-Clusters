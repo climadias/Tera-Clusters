{
 "cells": [
  {
   "cell_type": "markdown",
   "metadata": {},
   "source": [
    "# Normalizaçãodos dados"
   ]
  },
  {
   "cell_type": "code",
   "execution_count": 1,
   "metadata": {},
   "outputs": [],
   "source": [
    "import pandas as pd\n",
    "import geopandas as gpd\n",
    "import matplotlib.pyplot as plt\n",
    "import numpy as np\n",
    "import sqlite3 as sql\n",
    "import seaborn as sns\n",
    "import csv\n",
    "import squarify \n",
    "from unidecode import unidecode\n",
    "import os\n",
    "\n",
    "from IPython.core.interactiveshell import InteractiveShell \n",
    "InteractiveShell.ast_node_interactivity=\"all\""
   ]
  },
  {
   "cell_type": "markdown",
   "metadata": {},
   "source": [
    "# Tratamento dados TSE"
   ]
  },
  {
   "cell_type": "code",
   "execution_count": 2,
   "metadata": {},
   "outputs": [
    {
     "name": "stdout",
     "output_type": "stream",
     "text": [
      "detalhes_municipios.csv  detalhes_parlamentares.csv  output_voto_legenda.csv\n"
     ]
    }
   ],
   "source": [
    "!ls ../dados/tse/dados_limpos"
   ]
  },
  {
   "cell_type": "markdown",
   "metadata": {},
   "source": [
    "### Tratamento dados parlamentares - cadastro base"
   ]
  },
  {
   "cell_type": "code",
   "execution_count": 3,
   "metadata": {},
   "outputs": [],
   "source": [
    "#Dados de parlamentares\n",
    "#enc=\"ISO-8859-3\"\n",
    "enc=\"Latin 1\"\n",
    "df_parlamentares=pd.read_csv(\"../dados/tse/dados_limpos/detalhes_parlamentares.csv\", \n",
    "                             encoding=enc,\n",
    "                             dtype={\"NR_CPF_CANDIDATO\":\"object\"},\n",
    "                             header=0)"
   ]
  },
  {
   "cell_type": "code",
   "execution_count": 4,
   "metadata": {},
   "outputs": [],
   "source": [
    "#df_parlamentares.sample(5)"
   ]
  },
  {
   "cell_type": "code",
   "execution_count": 5,
   "metadata": {},
   "outputs": [],
   "source": [
    "#renomeando CPF\n",
    "df_parlamentares.rename(columns={\"NR_CPF_CANDIDATO\":\"CPF\"}, inplace=True)\n",
    "#df_parlamentares.info()"
   ]
  },
  {
   "cell_type": "code",
   "execution_count": 6,
   "metadata": {},
   "outputs": [],
   "source": [
    "#df_parlamentares.columns"
   ]
  },
  {
   "cell_type": "code",
   "execution_count": 7,
   "metadata": {},
   "outputs": [],
   "source": [
    "#Criando cadastro de parlamentares\n",
    "df_parl_cadastro=df_parlamentares.copy()"
   ]
  },
  {
   "cell_type": "code",
   "execution_count": 8,
   "metadata": {},
   "outputs": [],
   "source": [
    "# Drop nas colunas desnecessárias\n",
    "df_parl_cadastro=df_parl_cadastro.drop([\"DS_SIT_TOT_TURNO\",'ST_REELEICAO',\n",
    "                                        'ST_DECLARAR_BENS', 'CD_TIPO_BEM_CANDIDATO',\n",
    "                                        'DS_TIPO_BEM_CANDIDATO', 'DS_BEM_CANDIDATO', \n",
    "                                        'VR_BEM_CANDIDATO'], axis=1)"
   ]
  },
  {
   "cell_type": "code",
   "execution_count": 9,
   "metadata": {},
   "outputs": [],
   "source": [
    "# retirando linhas duplicadas do cadastro\n",
    "df_parl_cadastro.drop_duplicates(inplace=True)\n",
    "df_parl_cadastro.reset_index(drop=True, inplace=True)\n",
    "#df_parl_cadastr.shape\n",
    "#df_parl_cadastro.column"
   ]
  },
  {
   "cell_type": "markdown",
   "metadata": {},
   "source": [
    "### Tratamento bens de parlamentares"
   ]
  },
  {
   "cell_type": "code",
   "execution_count": 10,
   "metadata": {},
   "outputs": [],
   "source": [
    "#Criando tabela de bens de parmanetares\n",
    "df_parl_bens=df_parlamentares.copy()\n",
    "df_parl_bens=df_parl_bens.drop([\"DS_SIT_TOT_TURNO\",'ST_REELEICAO',\"ANO_ELEICAO\",\n",
    "                                'SG_UE', 'DS_CARGO', 'SQ_CANDIDATO', 'NM_CANDIDATO',\n",
    "                                'NM_URNA_CANDIDATO','NM_EMAIL', 'SG_PARTIDO',\n",
    "                                'SG_UF_NASCIMENTO', 'NM_MUNICIPIO_NASCIMENTO', \n",
    "                                'DT_NASCIMENTO','NR_IDADE_DATA_POSSE', 'DS_GENERO',\n",
    "                                'DS_GRAU_INSTRUCAO','DS_ESTADO_CIVIL', 'DS_COR_RACA', \n",
    "                                'DS_OCUPACAO', 'DS_SIT_TOT_TURNO','ST_REELEICAO'], \n",
    "                               axis=1)\n",
    "df_parl_bens.reset_index(inplace=True, drop=True)\n",
    "#df_parl_bens.shape\n",
    "#df_parl_bens.info()"
   ]
  },
  {
   "cell_type": "markdown",
   "metadata": {},
   "source": [
    "### Ajustando cadastro base com os bens dos parlamentares"
   ]
  },
  {
   "cell_type": "code",
   "execution_count": 11,
   "metadata": {},
   "outputs": [],
   "source": [
    "# Criando valor total de bens dos parlamentares e colocando no cadastro\n",
    "df_parl_cadastro[\"VL_BENS\"]=0.\n",
    "i=0\n",
    "nparl=df_parl_cadastro.shape[0]\n",
    "while i < nparl:\n",
    "    cpf=df_parl_cadastro.iloc[i][\"CPF\"]\n",
    "    total=df_parl_bens[df_parl_bens[\"CPF\"]==cpf][\"VR_BEM_CANDIDATO\"].sum()\n",
    "    #print(\"i-> {} CPF: {}, Valor: {}\".format(i,cpf,total))\n",
    "    #vl_bens[i]=total\n",
    "    df_parl_cadastro.loc[i,\"VL_BENS\"]=total\n",
    "    i+=1\n"
   ]
  },
  {
   "cell_type": "code",
   "execution_count": 12,
   "metadata": {},
   "outputs": [],
   "source": [
    "#df_parl_cadastro.sample(5)"
   ]
  },
  {
   "cell_type": "code",
   "execution_count": 13,
   "metadata": {},
   "outputs": [],
   "source": [
    "#Reordenando colunas\n",
    "df_parl_cadastro=df_parl_cadastro[[\"CPF\",\"NM_CANDIDATO\",\"DT_NASCIMENTO\",\"SG_UF_NASCIMENTO\",\n",
    "                  \"NM_MUNICIPIO_NASCIMENTO\", \"DS_GENERO\", \"DS_GRAU_INSTRUCAO\",\n",
    "                  \"DS_ESTADO_CIVIL\", \"DS_COR_RACA\", \"DS_OCUPACAO\",\"VL_BENS\",\n",
    "                  \"ANO_ELEICAO\", \"DS_CARGO\", \"SG_PARTIDO\",\"SG_UE\",\"SQ_CANDIDATO\",\"NM_URNA_CANDIDATO\",\n",
    "                    \"NR_IDADE_DATA_POSSE\",'NM_EMAIL']]"
   ]
  },
  {
   "cell_type": "code",
   "execution_count": 14,
   "metadata": {},
   "outputs": [],
   "source": [
    "df_parl_cadastro[\"NM_URNA_CANDIDATO\"]=df_parl_cadastro[\"NM_URNA_CANDIDATO\"].apply(lambda x:unidecode(x))"
   ]
  },
  {
   "cell_type": "code",
   "execution_count": 15,
   "metadata": {},
   "outputs": [
    {
     "data": {
      "text/html": [
       "<div>\n",
       "<style scoped>\n",
       "    .dataframe tbody tr th:only-of-type {\n",
       "        vertical-align: middle;\n",
       "    }\n",
       "\n",
       "    .dataframe tbody tr th {\n",
       "        vertical-align: top;\n",
       "    }\n",
       "\n",
       "    .dataframe thead th {\n",
       "        text-align: right;\n",
       "    }\n",
       "</style>\n",
       "<table border=\"1\" class=\"dataframe\">\n",
       "  <thead>\n",
       "    <tr style=\"text-align: right;\">\n",
       "      <th></th>\n",
       "      <th>CPF</th>\n",
       "      <th>NM_CANDIDATO</th>\n",
       "      <th>DT_NASCIMENTO</th>\n",
       "      <th>SG_UF_NASCIMENTO</th>\n",
       "      <th>NM_MUNICIPIO_NASCIMENTO</th>\n",
       "      <th>DS_GENERO</th>\n",
       "      <th>DS_GRAU_INSTRUCAO</th>\n",
       "      <th>DS_ESTADO_CIVIL</th>\n",
       "      <th>DS_COR_RACA</th>\n",
       "      <th>DS_OCUPACAO</th>\n",
       "      <th>VL_BENS</th>\n",
       "      <th>ANO_ELEICAO</th>\n",
       "      <th>DS_CARGO</th>\n",
       "      <th>SG_PARTIDO</th>\n",
       "      <th>SG_UE</th>\n",
       "      <th>SQ_CANDIDATO</th>\n",
       "      <th>NM_URNA_CANDIDATO</th>\n",
       "      <th>NR_IDADE_DATA_POSSE</th>\n",
       "      <th>NM_EMAIL</th>\n",
       "    </tr>\n",
       "  </thead>\n",
       "  <tbody>\n",
       "    <tr>\n",
       "      <th>363</th>\n",
       "      <td>61496880382</td>\n",
       "      <td>WAGNER SOUSA GOMES</td>\n",
       "      <td>21/01/1979</td>\n",
       "      <td>SP</td>\n",
       "      <td>SAO PAULO</td>\n",
       "      <td>MASCULINO</td>\n",
       "      <td>SUPERIOR COMPLETO</td>\n",
       "      <td>CASADO(A)</td>\n",
       "      <td>BRANCA</td>\n",
       "      <td>DEPUTADO</td>\n",
       "      <td>908765.05</td>\n",
       "      <td>2018</td>\n",
       "      <td>DEPUTADO FEDERAL</td>\n",
       "      <td>PROS</td>\n",
       "      <td>CE</td>\n",
       "      <td>60000601233</td>\n",
       "      <td>CAPITAO WAGNER</td>\n",
       "      <td>40.0</td>\n",
       "      <td>CAMPANHAELEICOES2018@GMAIL.COM</td>\n",
       "    </tr>\n",
       "    <tr>\n",
       "      <th>216</th>\n",
       "      <td>55926169291</td>\n",
       "      <td>PABLO OLIVA SOUZA</td>\n",
       "      <td>26/07/1976</td>\n",
       "      <td>AM</td>\n",
       "      <td>MANAUS</td>\n",
       "      <td>MASCULINO</td>\n",
       "      <td>SUPERIOR COMPLETO</td>\n",
       "      <td>CASADO(A)</td>\n",
       "      <td>PARDA</td>\n",
       "      <td>SERVIDOR PÃBLICO FEDERAL</td>\n",
       "      <td>0.00</td>\n",
       "      <td>2018</td>\n",
       "      <td>DEPUTADO FEDERAL</td>\n",
       "      <td>PSL</td>\n",
       "      <td>AM</td>\n",
       "      <td>40000610415</td>\n",
       "      <td>DELEGADO PABLO</td>\n",
       "      <td>42.0</td>\n",
       "      <td>MISTER.PABLO@HOTMAIL.COM</td>\n",
       "    </tr>\n",
       "    <tr>\n",
       "      <th>101</th>\n",
       "      <td>04976912809</td>\n",
       "      <td>MILTON VIEIRA PINTO</td>\n",
       "      <td>16/09/1962</td>\n",
       "      <td>SP</td>\n",
       "      <td>IEPE</td>\n",
       "      <td>MASCULINO</td>\n",
       "      <td>SUPERIOR INCOMPLETO</td>\n",
       "      <td>CASADO(A)</td>\n",
       "      <td>BRANCA</td>\n",
       "      <td>DEPUTADO</td>\n",
       "      <td>995910.07</td>\n",
       "      <td>2018</td>\n",
       "      <td>DEPUTADO FEDERAL</td>\n",
       "      <td>PRB</td>\n",
       "      <td>SP</td>\n",
       "      <td>250000606253</td>\n",
       "      <td>MILTON VIEIRA</td>\n",
       "      <td>56.0</td>\n",
       "      <td>DEP.MILTONVIEIRA@YAHOO.COM.BR</td>\n",
       "    </tr>\n",
       "    <tr>\n",
       "      <th>30</th>\n",
       "      <td>22977040544</td>\n",
       "      <td>MANOEL ISIDORIO DE SANTANA JUNIOR</td>\n",
       "      <td>28/07/1962</td>\n",
       "      <td>BA</td>\n",
       "      <td>SALVADOR</td>\n",
       "      <td>MASCULINO</td>\n",
       "      <td>SUPERIOR INCOMPLETO</td>\n",
       "      <td>CASADO(A)</td>\n",
       "      <td>PRETA</td>\n",
       "      <td>DEPUTADO</td>\n",
       "      <td>400852.64</td>\n",
       "      <td>2018</td>\n",
       "      <td>DEPUTADO FEDERAL</td>\n",
       "      <td>AVANTE</td>\n",
       "      <td>BA</td>\n",
       "      <td>50000608176</td>\n",
       "      <td>PASTOR SARGENTO ISIDORIO</td>\n",
       "      <td>56.0</td>\n",
       "      <td>PASTORISIDORIO@HOTMAIL.COM</td>\n",
       "    </tr>\n",
       "    <tr>\n",
       "      <th>263</th>\n",
       "      <td>53467108415</td>\n",
       "      <td>EDUARDO HENRIQUE DA FONTE DE ALBUQUERQUE SILVA</td>\n",
       "      <td>17/10/1972</td>\n",
       "      <td>PE</td>\n",
       "      <td>RECIFE</td>\n",
       "      <td>MASCULINO</td>\n",
       "      <td>ENSINO MÃDIO COMPLETO</td>\n",
       "      <td>DIVORCIADO(A)</td>\n",
       "      <td>BRANCA</td>\n",
       "      <td>DEPUTADO</td>\n",
       "      <td>1336000.00</td>\n",
       "      <td>2018</td>\n",
       "      <td>DEPUTADO FEDERAL</td>\n",
       "      <td>PP</td>\n",
       "      <td>PE</td>\n",
       "      <td>170000614106</td>\n",
       "      <td>EDUARDO DA FONTE</td>\n",
       "      <td>46.0</td>\n",
       "      <td>DUDU@EDUARDODAFONTE.COM.BR</td>\n",
       "    </tr>\n",
       "  </tbody>\n",
       "</table>\n",
       "</div>"
      ],
      "text/plain": [
       "             CPF                                    NM_CANDIDATO  \\\n",
       "363  61496880382                              WAGNER SOUSA GOMES   \n",
       "216  55926169291                               PABLO OLIVA SOUZA   \n",
       "101  04976912809                             MILTON VIEIRA PINTO   \n",
       "30   22977040544               MANOEL ISIDORIO DE SANTANA JUNIOR   \n",
       "263  53467108415  EDUARDO HENRIQUE DA FONTE DE ALBUQUERQUE SILVA   \n",
       "\n",
       "    DT_NASCIMENTO SG_UF_NASCIMENTO NM_MUNICIPIO_NASCIMENTO  DS_GENERO  \\\n",
       "363    21/01/1979               SP               SAO PAULO  MASCULINO   \n",
       "216    26/07/1976               AM                  MANAUS  MASCULINO   \n",
       "101    16/09/1962               SP                    IEPE  MASCULINO   \n",
       "30     28/07/1962               BA                SALVADOR  MASCULINO   \n",
       "263    17/10/1972               PE                  RECIFE  MASCULINO   \n",
       "\n",
       "          DS_GRAU_INSTRUCAO DS_ESTADO_CIVIL DS_COR_RACA  \\\n",
       "363       SUPERIOR COMPLETO       CASADO(A)      BRANCA   \n",
       "216       SUPERIOR COMPLETO       CASADO(A)       PARDA   \n",
       "101     SUPERIOR INCOMPLETO       CASADO(A)      BRANCA   \n",
       "30      SUPERIOR INCOMPLETO       CASADO(A)       PRETA   \n",
       "263  ENSINO MÃDIO COMPLETO   DIVORCIADO(A)      BRANCA   \n",
       "\n",
       "                   DS_OCUPACAO     VL_BENS  ANO_ELEICAO          DS_CARGO  \\\n",
       "363                   DEPUTADO   908765.05         2018  DEPUTADO FEDERAL   \n",
       "216  SERVIDOR PÃBLICO FEDERAL        0.00         2018  DEPUTADO FEDERAL   \n",
       "101                   DEPUTADO   995910.07         2018  DEPUTADO FEDERAL   \n",
       "30                    DEPUTADO   400852.64         2018  DEPUTADO FEDERAL   \n",
       "263                   DEPUTADO  1336000.00         2018  DEPUTADO FEDERAL   \n",
       "\n",
       "    SG_PARTIDO SG_UE  SQ_CANDIDATO         NM_URNA_CANDIDATO  \\\n",
       "363       PROS    CE   60000601233            CAPITAO WAGNER   \n",
       "216        PSL    AM   40000610415            DELEGADO PABLO   \n",
       "101        PRB    SP  250000606253             MILTON VIEIRA   \n",
       "30      AVANTE    BA   50000608176  PASTOR SARGENTO ISIDORIO   \n",
       "263         PP    PE  170000614106          EDUARDO DA FONTE   \n",
       "\n",
       "     NR_IDADE_DATA_POSSE                        NM_EMAIL  \n",
       "363                 40.0  CAMPANHAELEICOES2018@GMAIL.COM  \n",
       "216                 42.0        MISTER.PABLO@HOTMAIL.COM  \n",
       "101                 56.0   DEP.MILTONVIEIRA@YAHOO.COM.BR  \n",
       "30                  56.0      PASTORISIDORIO@HOTMAIL.COM  \n",
       "263                 46.0      DUDU@EDUARDODAFONTE.COM.BR  "
      ]
     },
     "execution_count": 15,
     "metadata": {},
     "output_type": "execute_result"
    }
   ],
   "source": [
    "df_parl_cadastro.sample(5)"
   ]
  },
  {
   "cell_type": "markdown",
   "metadata": {},
   "source": [
    "### Dados de votação nos municípios"
   ]
  },
  {
   "cell_type": "code",
   "execution_count": 16,
   "metadata": {},
   "outputs": [],
   "source": [
    "#Dados de municipios e votacão\n",
    "enc=\"ISO-8859-1\"\n",
    "#enc=\"Latin 1\"\n",
    "df_municipios=pd.read_csv(\"../dados/tse/dados_limpos/detalhes_municipios.csv\", \n",
    "                             encoding=enc,\n",
    "                            dtype={\"NR_CPF_CANDIDATO\":\"object\"},\n",
    "                             header=0)"
   ]
  },
  {
   "cell_type": "code",
   "execution_count": 17,
   "metadata": {},
   "outputs": [],
   "source": [
    "#renomeando CPF\n",
    "df_municipios.rename(columns={\"NR_CPF_CANDIDATO\":\"CPF\"}, inplace=True)\n",
    "#df_municipios.head(5)\n",
    "#df_municipios.info()"
   ]
  },
  {
   "cell_type": "code",
   "execution_count": 18,
   "metadata": {},
   "outputs": [],
   "source": [
    "\n",
    "#df_municipios.columns"
   ]
  },
  {
   "cell_type": "code",
   "execution_count": 19,
   "metadata": {},
   "outputs": [],
   "source": [
    "df_parl_votacao=df_municipios[[\"CPF\", \"SG_UF\", \"CD_MUNICIPIO\",\n",
    "                            \"VOTOS_TOTAL_MUN\", 'CODIGO_IBGE']].copy()\n",
    "df_parl_votacao.reset_index(inplace=True, drop=True)"
   ]
  },
  {
   "cell_type": "code",
   "execution_count": 20,
   "metadata": {},
   "outputs": [
    {
     "data": {
      "text/html": [
       "<div>\n",
       "<style scoped>\n",
       "    .dataframe tbody tr th:only-of-type {\n",
       "        vertical-align: middle;\n",
       "    }\n",
       "\n",
       "    .dataframe tbody tr th {\n",
       "        vertical-align: top;\n",
       "    }\n",
       "\n",
       "    .dataframe thead th {\n",
       "        text-align: right;\n",
       "    }\n",
       "</style>\n",
       "<table border=\"1\" class=\"dataframe\">\n",
       "  <thead>\n",
       "    <tr style=\"text-align: right;\">\n",
       "      <th></th>\n",
       "      <th>CPF</th>\n",
       "      <th>SG_UF</th>\n",
       "      <th>CD_MUNICIPIO</th>\n",
       "      <th>VOTOS_TOTAL_MUN</th>\n",
       "      <th>CODIGO_IBGE</th>\n",
       "    </tr>\n",
       "  </thead>\n",
       "  <tbody>\n",
       "    <tr>\n",
       "      <th>0</th>\n",
       "      <td>93565968834</td>\n",
       "      <td>SP</td>\n",
       "      <td>68314</td>\n",
       "      <td>17542</td>\n",
       "      <td>3536505.0</td>\n",
       "    </tr>\n",
       "    <tr>\n",
       "      <th>1</th>\n",
       "      <td>00274003953</td>\n",
       "      <td>PR</td>\n",
       "      <td>79499</td>\n",
       "      <td>2969</td>\n",
       "      <td>4128807.0</td>\n",
       "    </tr>\n",
       "    <tr>\n",
       "      <th>2</th>\n",
       "      <td>01099561760</td>\n",
       "      <td>MS</td>\n",
       "      <td>98094</td>\n",
       "      <td>7110</td>\n",
       "      <td>5007695.0</td>\n",
       "    </tr>\n",
       "    <tr>\n",
       "      <th>3</th>\n",
       "      <td>26472058768</td>\n",
       "      <td>GO</td>\n",
       "      <td>96172</td>\n",
       "      <td>1582</td>\n",
       "      <td>5221007.0</td>\n",
       "    </tr>\n",
       "    <tr>\n",
       "      <th>4</th>\n",
       "      <td>00135968372</td>\n",
       "      <td>PI</td>\n",
       "      <td>12688</td>\n",
       "      <td>1252</td>\n",
       "      <td>2202653.0</td>\n",
       "    </tr>\n",
       "  </tbody>\n",
       "</table>\n",
       "</div>"
      ],
      "text/plain": [
       "           CPF SG_UF  CD_MUNICIPIO  VOTOS_TOTAL_MUN  CODIGO_IBGE\n",
       "0  93565968834    SP         68314            17542    3536505.0\n",
       "1  00274003953    PR         79499             2969    4128807.0\n",
       "2  01099561760    MS         98094             7110    5007695.0\n",
       "3  26472058768    GO         96172             1582    5221007.0\n",
       "4  00135968372    PI         12688             1252    2202653.0"
      ]
     },
     "execution_count": 20,
     "metadata": {},
     "output_type": "execute_result"
    }
   ],
   "source": [
    "df_parl_votacao.head()"
   ]
  },
  {
   "cell_type": "code",
   "execution_count": 21,
   "metadata": {},
   "outputs": [],
   "source": [
    "# Percentual da votação total no municipio\n",
    "df_parl_votacao[\"PERC_VOTOS\"]=df_parl_votacao.groupby(\"CPF\")[\"VOTOS_TOTAL_MUN\"].apply(lambda x:(x / float(x.sum()).round(2))*100)\n"
   ]
  },
  {
   "cell_type": "code",
   "execution_count": 23,
   "metadata": {},
   "outputs": [
    {
     "data": {
      "text/html": [
       "<div>\n",
       "<style scoped>\n",
       "    .dataframe tbody tr th:only-of-type {\n",
       "        vertical-align: middle;\n",
       "    }\n",
       "\n",
       "    .dataframe tbody tr th {\n",
       "        vertical-align: top;\n",
       "    }\n",
       "\n",
       "    .dataframe thead th {\n",
       "        text-align: right;\n",
       "    }\n",
       "</style>\n",
       "<table border=\"1\" class=\"dataframe\">\n",
       "  <thead>\n",
       "    <tr style=\"text-align: right;\">\n",
       "      <th></th>\n",
       "      <th>VOTOS_TOTAL_MUN</th>\n",
       "      <th>PERC_VOTOS</th>\n",
       "    </tr>\n",
       "  </thead>\n",
       "  <tbody>\n",
       "    <tr>\n",
       "      <th>0</th>\n",
       "      <td>17542</td>\n",
       "      <td>0.001580</td>\n",
       "    </tr>\n",
       "    <tr>\n",
       "      <th>47</th>\n",
       "      <td>54457</td>\n",
       "      <td>0.004903</td>\n",
       "    </tr>\n",
       "    <tr>\n",
       "      <th>54</th>\n",
       "      <td>41947</td>\n",
       "      <td>0.003777</td>\n",
       "    </tr>\n",
       "    <tr>\n",
       "      <th>56</th>\n",
       "      <td>1789</td>\n",
       "      <td>0.000161</td>\n",
       "    </tr>\n",
       "    <tr>\n",
       "      <th>57</th>\n",
       "      <td>1231</td>\n",
       "      <td>0.000111</td>\n",
       "    </tr>\n",
       "    <tr>\n",
       "      <th>...</th>\n",
       "      <td>...</td>\n",
       "      <td>...</td>\n",
       "    </tr>\n",
       "    <tr>\n",
       "      <th>5540</th>\n",
       "      <td>1797</td>\n",
       "      <td>0.000162</td>\n",
       "    </tr>\n",
       "    <tr>\n",
       "      <th>5546</th>\n",
       "      <td>1648</td>\n",
       "      <td>0.000148</td>\n",
       "    </tr>\n",
       "    <tr>\n",
       "      <th>5559</th>\n",
       "      <td>1133</td>\n",
       "      <td>0.000102</td>\n",
       "    </tr>\n",
       "    <tr>\n",
       "      <th>5567</th>\n",
       "      <td>908</td>\n",
       "      <td>0.000082</td>\n",
       "    </tr>\n",
       "    <tr>\n",
       "      <th>5569</th>\n",
       "      <td>6687</td>\n",
       "      <td>0.000602</td>\n",
       "    </tr>\n",
       "  </tbody>\n",
       "</table>\n",
       "<p>645 rows × 2 columns</p>\n",
       "</div>"
      ],
      "text/plain": [
       "      VOTOS_TOTAL_MUN  PERC_VOTOS\n",
       "0               17542    0.001580\n",
       "47              54457    0.004903\n",
       "54              41947    0.003777\n",
       "56               1789    0.000161\n",
       "57               1231    0.000111\n",
       "...               ...         ...\n",
       "5540             1797    0.000162\n",
       "5546             1648    0.000148\n",
       "5559             1133    0.000102\n",
       "5567              908    0.000082\n",
       "5569             6687    0.000602\n",
       "\n",
       "[645 rows x 2 columns]"
      ]
     },
     "execution_count": 23,
     "metadata": {},
     "output_type": "execute_result"
    },
    {
     "data": {
      "text/plain": [
       "PERC_VOTOS    1.0\n",
       "dtype: float64"
      ]
     },
     "execution_count": 23,
     "metadata": {},
     "output_type": "execute_result"
    }
   ],
   "source": [
    "df_parl_votacao[df_parl_votacao[\"CPF\"]==\"93565968834\"][[\"VOTOS_TOTAL_MUN\",\"PERC_VOTOS\"]]\n",
    "df_parl_votacao[df_parl_votacao[\"CPF\"]==\"93565968834\"][[\"PERC_VOTOS\"]].sum()\n"
   ]
  },
  {
   "cell_type": "code",
   "execution_count": 24,
   "metadata": {},
   "outputs": [],
   "source": [
    "# Código com groupby para consolidar votação\n",
    "#df_partido=df_partidos_votacao[df_partidos_votacao[\"SG_PARTIDO\"]==\"PSOL\"]\n",
    "#df_partido.groupby(\"SG_UF\",as_index=False)[\"VOTOS_TOTAL_MUN\"].sum().sort_values(\"VOTOS_TOTAL_MUN\",ascending=False)"
   ]
  },
  {
   "cell_type": "code",
   "execution_count": 25,
   "metadata": {},
   "outputs": [],
   "source": [
    "df_votacao=df_parl_cadastro[[\"CPF\",\"DS_CARGO\", \"SG_PARTIDO\",\"SG_UE\"]].copy()\n",
    "df_votacao.reset_index(inplace=True, drop=True)\n",
    "df_votacao=pd.merge(df_votacao, df_parl_votacao, how=\"left\", on=\"CPF\")"
   ]
  },
  {
   "cell_type": "code",
   "execution_count": 26,
   "metadata": {},
   "outputs": [
    {
     "data": {
      "text/html": [
       "<div>\n",
       "<style scoped>\n",
       "    .dataframe tbody tr th:only-of-type {\n",
       "        vertical-align: middle;\n",
       "    }\n",
       "\n",
       "    .dataframe tbody tr th {\n",
       "        vertical-align: top;\n",
       "    }\n",
       "\n",
       "    .dataframe thead th {\n",
       "        text-align: right;\n",
       "    }\n",
       "</style>\n",
       "<table border=\"1\" class=\"dataframe\">\n",
       "  <thead>\n",
       "    <tr style=\"text-align: right;\">\n",
       "      <th></th>\n",
       "      <th>CPF</th>\n",
       "      <th>DS_CARGO</th>\n",
       "      <th>SG_PARTIDO</th>\n",
       "      <th>SG_UE</th>\n",
       "      <th>SG_UF</th>\n",
       "      <th>CD_MUNICIPIO</th>\n",
       "      <th>VOTOS_TOTAL_MUN</th>\n",
       "      <th>CODIGO_IBGE</th>\n",
       "      <th>PERC_VOTOS</th>\n",
       "    </tr>\n",
       "  </thead>\n",
       "  <tbody>\n",
       "    <tr>\n",
       "      <th>0</th>\n",
       "      <td>23019093104</td>\n",
       "      <td>SENADOR</td>\n",
       "      <td>PR</td>\n",
       "      <td>MT</td>\n",
       "      <td>MT</td>\n",
       "      <td>90042</td>\n",
       "      <td>1062</td>\n",
       "      <td>5100359.0</td>\n",
       "      <td>0.001643</td>\n",
       "    </tr>\n",
       "    <tr>\n",
       "      <th>1</th>\n",
       "      <td>23019093104</td>\n",
       "      <td>SENADOR</td>\n",
       "      <td>PR</td>\n",
       "      <td>MT</td>\n",
       "      <td>MT</td>\n",
       "      <td>90166</td>\n",
       "      <td>1013</td>\n",
       "      <td>5108857.0</td>\n",
       "      <td>0.001567</td>\n",
       "    </tr>\n",
       "    <tr>\n",
       "      <th>2</th>\n",
       "      <td>23019093104</td>\n",
       "      <td>SENADOR</td>\n",
       "      <td>PR</td>\n",
       "      <td>MT</td>\n",
       "      <td>MT</td>\n",
       "      <td>98337</td>\n",
       "      <td>2092</td>\n",
       "      <td>5103452.0</td>\n",
       "      <td>0.003237</td>\n",
       "    </tr>\n",
       "    <tr>\n",
       "      <th>3</th>\n",
       "      <td>23019093104</td>\n",
       "      <td>SENADOR</td>\n",
       "      <td>PR</td>\n",
       "      <td>MT</td>\n",
       "      <td>MT</td>\n",
       "      <td>90670</td>\n",
       "      <td>113036</td>\n",
       "      <td>5103403.0</td>\n",
       "      <td>0.174885</td>\n",
       "    </tr>\n",
       "    <tr>\n",
       "      <th>4</th>\n",
       "      <td>23019093104</td>\n",
       "      <td>SENADOR</td>\n",
       "      <td>PR</td>\n",
       "      <td>MT</td>\n",
       "      <td>MT</td>\n",
       "      <td>90905</td>\n",
       "      <td>1429</td>\n",
       "      <td>5101852.0</td>\n",
       "      <td>0.002211</td>\n",
       "    </tr>\n",
       "  </tbody>\n",
       "</table>\n",
       "</div>"
      ],
      "text/plain": [
       "           CPF DS_CARGO SG_PARTIDO SG_UE SG_UF  CD_MUNICIPIO  VOTOS_TOTAL_MUN  \\\n",
       "0  23019093104  SENADOR         PR    MT    MT         90042             1062   \n",
       "1  23019093104  SENADOR         PR    MT    MT         90166             1013   \n",
       "2  23019093104  SENADOR         PR    MT    MT         98337             2092   \n",
       "3  23019093104  SENADOR         PR    MT    MT         90670           113036   \n",
       "4  23019093104  SENADOR         PR    MT    MT         90905             1429   \n",
       "\n",
       "   CODIGO_IBGE  PERC_VOTOS  \n",
       "0    5100359.0    0.001643  \n",
       "1    5108857.0    0.001567  \n",
       "2    5103452.0    0.003237  \n",
       "3    5103403.0    0.174885  \n",
       "4    5101852.0    0.002211  "
      ]
     },
     "execution_count": 26,
     "metadata": {},
     "output_type": "execute_result"
    }
   ],
   "source": [
    "#df_votacao.shape\n",
    "#df_votacao.head()\n",
    "df_votacao.head(5)"
   ]
  },
  {
   "cell_type": "markdown",
   "metadata": {},
   "source": [
    "### Tabela consolidando votação dos partidos nos municípios (parlamentares)"
   ]
  },
  {
   "cell_type": "code",
   "execution_count": 27,
   "metadata": {},
   "outputs": [
    {
     "data": {
      "text/plain": [
       "(94846, 5)"
      ]
     },
     "execution_count": 27,
     "metadata": {},
     "output_type": "execute_result"
    }
   ],
   "source": [
    "df_partidos_votacao=df_votacao.groupby([\"SG_PARTIDO\",\"SG_UF\",\"DS_CARGO\",\"CODIGO_IBGE\"], \n",
    "                                      as_index=False)[\"VOTOS_TOTAL_MUN\"].sum()\n",
    "df_partidos_votacao.shape"
   ]
  },
  {
   "cell_type": "code",
   "execution_count": 28,
   "metadata": {},
   "outputs": [],
   "source": [
    "# Código com groupby para consolidar votação\n",
    "#df_partido=df_partidos_votacao[df_partidos_votacao[\"SG_PARTIDO\"]==\"PSOL\"]\n",
    "#df_partido.groupby(\"SG_UF\",as_index=False)[\"VOTOS_TOTAL_MUN\"].sum().sort_values(\"VOTOS_TOTAL_MUN\",ascending=False)"
   ]
  },
  {
   "cell_type": "code",
   "execution_count": 29,
   "metadata": {},
   "outputs": [
    {
     "data": {
      "text/html": [
       "<div>\n",
       "<style scoped>\n",
       "    .dataframe tbody tr th:only-of-type {\n",
       "        vertical-align: middle;\n",
       "    }\n",
       "\n",
       "    .dataframe tbody tr th {\n",
       "        vertical-align: top;\n",
       "    }\n",
       "\n",
       "    .dataframe thead th {\n",
       "        text-align: right;\n",
       "    }\n",
       "</style>\n",
       "<table border=\"1\" class=\"dataframe\">\n",
       "  <thead>\n",
       "    <tr style=\"text-align: right;\">\n",
       "      <th></th>\n",
       "      <th>SG_PARTIDO</th>\n",
       "      <th>SG_UF</th>\n",
       "      <th>DS_CARGO</th>\n",
       "      <th>CODIGO_IBGE</th>\n",
       "      <th>VOTOS_TOTAL_MUN</th>\n",
       "    </tr>\n",
       "  </thead>\n",
       "  <tbody>\n",
       "    <tr>\n",
       "      <th>0</th>\n",
       "      <td>AVANTE</td>\n",
       "      <td>AP</td>\n",
       "      <td>DEPUTADO FEDERAL</td>\n",
       "      <td>1600055.0</td>\n",
       "      <td>74</td>\n",
       "    </tr>\n",
       "    <tr>\n",
       "      <th>1</th>\n",
       "      <td>AVANTE</td>\n",
       "      <td>AP</td>\n",
       "      <td>DEPUTADO FEDERAL</td>\n",
       "      <td>1600105.0</td>\n",
       "      <td>89</td>\n",
       "    </tr>\n",
       "    <tr>\n",
       "      <th>2</th>\n",
       "      <td>AVANTE</td>\n",
       "      <td>AP</td>\n",
       "      <td>DEPUTADO FEDERAL</td>\n",
       "      <td>1600154.0</td>\n",
       "      <td>478</td>\n",
       "    </tr>\n",
       "    <tr>\n",
       "      <th>3</th>\n",
       "      <td>AVANTE</td>\n",
       "      <td>AP</td>\n",
       "      <td>DEPUTADO FEDERAL</td>\n",
       "      <td>1600204.0</td>\n",
       "      <td>22</td>\n",
       "    </tr>\n",
       "    <tr>\n",
       "      <th>4</th>\n",
       "      <td>AVANTE</td>\n",
       "      <td>AP</td>\n",
       "      <td>DEPUTADO FEDERAL</td>\n",
       "      <td>1600212.0</td>\n",
       "      <td>53</td>\n",
       "    </tr>\n",
       "  </tbody>\n",
       "</table>\n",
       "</div>"
      ],
      "text/plain": [
       "  SG_PARTIDO SG_UF          DS_CARGO  CODIGO_IBGE  VOTOS_TOTAL_MUN\n",
       "0     AVANTE    AP  DEPUTADO FEDERAL    1600055.0               74\n",
       "1     AVANTE    AP  DEPUTADO FEDERAL    1600105.0               89\n",
       "2     AVANTE    AP  DEPUTADO FEDERAL    1600154.0              478\n",
       "3     AVANTE    AP  DEPUTADO FEDERAL    1600204.0               22\n",
       "4     AVANTE    AP  DEPUTADO FEDERAL    1600212.0               53"
      ]
     },
     "execution_count": 29,
     "metadata": {},
     "output_type": "execute_result"
    }
   ],
   "source": [
    "df_partidos_votacao.head()"
   ]
  },
  {
   "cell_type": "markdown",
   "metadata": {},
   "source": [
    "### Tabela consolidando votos em legenda nos municípios (legenda)"
   ]
  },
  {
   "cell_type": "code",
   "execution_count": 30,
   "metadata": {},
   "outputs": [],
   "source": [
    "#Dados de municipios e votacão\n",
    "enc=\"ISO-8859-1\"\n",
    "#enc=\"Latin 1\"\n",
    "df_legenda=pd.read_csv(\"../dados/tse/dados_limpos/output_voto_legenda.csv\", \n",
    "                             encoding=enc,\n",
    "                             sep=\";\",\n",
    "                             header=0)"
   ]
  },
  {
   "cell_type": "code",
   "execution_count": 31,
   "metadata": {},
   "outputs": [],
   "source": [
    "#df_legenda.head()\n",
    "#df_legenda.shape"
   ]
  },
  {
   "cell_type": "code",
   "execution_count": 32,
   "metadata": {},
   "outputs": [],
   "source": [
    "df_legendas_votacao=df_legenda.groupby([\"SG_PARTIDO\",\"SG_UF\",\"DS_CARGO\",\"CODIGO_IBGE\"], \n",
    "                                      as_index=False)[\"VOTOS_TOTAL_MUN\"].sum()\n",
    "#df_legendas_votacao.shape\n",
    "#df_legendas_votacao.head(5)\n"
   ]
  },
  {
   "cell_type": "code",
   "execution_count": 33,
   "metadata": {},
   "outputs": [
    {
     "data": {
      "text/html": [
       "<div>\n",
       "<style scoped>\n",
       "    .dataframe tbody tr th:only-of-type {\n",
       "        vertical-align: middle;\n",
       "    }\n",
       "\n",
       "    .dataframe tbody tr th {\n",
       "        vertical-align: top;\n",
       "    }\n",
       "\n",
       "    .dataframe thead th {\n",
       "        text-align: right;\n",
       "    }\n",
       "</style>\n",
       "<table border=\"1\" class=\"dataframe\">\n",
       "  <thead>\n",
       "    <tr style=\"text-align: right;\">\n",
       "      <th></th>\n",
       "      <th>SG_PARTIDO</th>\n",
       "      <th>SG_UF</th>\n",
       "      <th>DS_CARGO</th>\n",
       "      <th>CODIGO_IBGE</th>\n",
       "      <th>VOTOS_TOTAL_MUN</th>\n",
       "    </tr>\n",
       "  </thead>\n",
       "  <tbody>\n",
       "    <tr>\n",
       "      <th>231211</th>\n",
       "      <td>REDE</td>\n",
       "      <td>PR</td>\n",
       "      <td>SENADOR</td>\n",
       "      <td>4108320.0</td>\n",
       "      <td>0</td>\n",
       "    </tr>\n",
       "    <tr>\n",
       "      <th>100790</th>\n",
       "      <td>PPL</td>\n",
       "      <td>PE</td>\n",
       "      <td>DEPUTADO FEDERAL</td>\n",
       "      <td>2601607.0</td>\n",
       "      <td>0</td>\n",
       "    </tr>\n",
       "    <tr>\n",
       "      <th>80713</th>\n",
       "      <td>PMN</td>\n",
       "      <td>RN</td>\n",
       "      <td>DEPUTADO FEDERAL</td>\n",
       "      <td>2413607.0</td>\n",
       "      <td>10</td>\n",
       "    </tr>\n",
       "    <tr>\n",
       "      <th>67263</th>\n",
       "      <td>PHS</td>\n",
       "      <td>MG</td>\n",
       "      <td>DEPUTADO FEDERAL</td>\n",
       "      <td>3102308.0</td>\n",
       "      <td>7</td>\n",
       "    </tr>\n",
       "    <tr>\n",
       "      <th>228198</th>\n",
       "      <td>REDE</td>\n",
       "      <td>MG</td>\n",
       "      <td>DEPUTADO FEDERAL</td>\n",
       "      <td>3161502.0</td>\n",
       "      <td>0</td>\n",
       "    </tr>\n",
       "  </tbody>\n",
       "</table>\n",
       "</div>"
      ],
      "text/plain": [
       "       SG_PARTIDO SG_UF          DS_CARGO  CODIGO_IBGE  VOTOS_TOTAL_MUN\n",
       "231211       REDE    PR           SENADOR    4108320.0                0\n",
       "100790        PPL    PE  DEPUTADO FEDERAL    2601607.0                0\n",
       "80713         PMN    RN  DEPUTADO FEDERAL    2413607.0               10\n",
       "67263         PHS    MG  DEPUTADO FEDERAL    3102308.0                7\n",
       "228198       REDE    MG  DEPUTADO FEDERAL    3161502.0                0"
      ]
     },
     "execution_count": 33,
     "metadata": {},
     "output_type": "execute_result"
    }
   ],
   "source": [
    "df_legendas_votacao[\"DS_CARGO\"]=df_legendas_votacao[\"DS_CARGO\"].apply(lambda x:x.upper())\n",
    "df_legendas_votacao.sample(5)"
   ]
  },
  {
   "cell_type": "markdown",
   "metadata": {},
   "source": [
    "### Tabela cadastro com informações dos municípios"
   ]
  },
  {
   "cell_type": "code",
   "execution_count": 34,
   "metadata": {},
   "outputs": [
    {
     "data": {
      "text/html": [
       "<div>\n",
       "<style scoped>\n",
       "    .dataframe tbody tr th:only-of-type {\n",
       "        vertical-align: middle;\n",
       "    }\n",
       "\n",
       "    .dataframe tbody tr th {\n",
       "        vertical-align: top;\n",
       "    }\n",
       "\n",
       "    .dataframe thead th {\n",
       "        text-align: right;\n",
       "    }\n",
       "</style>\n",
       "<table border=\"1\" class=\"dataframe\">\n",
       "  <thead>\n",
       "    <tr style=\"text-align: right;\">\n",
       "      <th></th>\n",
       "      <th>CODIGO_IBGE</th>\n",
       "      <th>SG_UF</th>\n",
       "      <th>NM_MUNICIPIO</th>\n",
       "      <th>IDHM_2010</th>\n",
       "      <th>IDHM_RENDA_2010</th>\n",
       "      <th>IDHM_LONGEV_2010</th>\n",
       "      <th>IDHM_EDUC_2010</th>\n",
       "    </tr>\n",
       "  </thead>\n",
       "  <tbody>\n",
       "    <tr>\n",
       "      <th>0</th>\n",
       "      <td>1200013.0</td>\n",
       "      <td>AC</td>\n",
       "      <td>ACRELANDIA</td>\n",
       "      <td>0.604</td>\n",
       "      <td>0.584</td>\n",
       "      <td>0.808</td>\n",
       "      <td>0.466</td>\n",
       "    </tr>\n",
       "    <tr>\n",
       "      <th>1</th>\n",
       "      <td>1200054.0</td>\n",
       "      <td>AC</td>\n",
       "      <td>ASSIS BRASIL</td>\n",
       "      <td>0.588</td>\n",
       "      <td>0.578</td>\n",
       "      <td>0.770</td>\n",
       "      <td>0.456</td>\n",
       "    </tr>\n",
       "    <tr>\n",
       "      <th>2</th>\n",
       "      <td>1200104.0</td>\n",
       "      <td>AC</td>\n",
       "      <td>BRASILEIA</td>\n",
       "      <td>0.614</td>\n",
       "      <td>0.619</td>\n",
       "      <td>0.770</td>\n",
       "      <td>0.485</td>\n",
       "    </tr>\n",
       "    <tr>\n",
       "      <th>3</th>\n",
       "      <td>1200138.0</td>\n",
       "      <td>AC</td>\n",
       "      <td>BUJARI</td>\n",
       "      <td>0.589</td>\n",
       "      <td>0.603</td>\n",
       "      <td>0.772</td>\n",
       "      <td>0.439</td>\n",
       "    </tr>\n",
       "    <tr>\n",
       "      <th>4</th>\n",
       "      <td>1200179.0</td>\n",
       "      <td>AC</td>\n",
       "      <td>CAPIXABA</td>\n",
       "      <td>0.575</td>\n",
       "      <td>0.601</td>\n",
       "      <td>0.794</td>\n",
       "      <td>0.398</td>\n",
       "    </tr>\n",
       "  </tbody>\n",
       "</table>\n",
       "</div>"
      ],
      "text/plain": [
       "   CODIGO_IBGE SG_UF  NM_MUNICIPIO  IDHM_2010  IDHM_RENDA_2010  \\\n",
       "0    1200013.0    AC    ACRELANDIA      0.604            0.584   \n",
       "1    1200054.0    AC  ASSIS BRASIL      0.588            0.578   \n",
       "2    1200104.0    AC     BRASILEIA      0.614            0.619   \n",
       "3    1200138.0    AC        BUJARI      0.589            0.603   \n",
       "4    1200179.0    AC      CAPIXABA      0.575            0.601   \n",
       "\n",
       "   IDHM_LONGEV_2010  IDHM_EDUC_2010  \n",
       "0             0.808           0.466  \n",
       "1             0.770           0.456  \n",
       "2             0.770           0.485  \n",
       "3             0.772           0.439  \n",
       "4             0.794           0.398  "
      ]
     },
     "execution_count": 34,
     "metadata": {},
     "output_type": "execute_result"
    }
   ],
   "source": [
    "df_municipios=df_municipios[['CODIGO_IBGE','SG_UF','NM_MUNICIPIO',\n",
    "                          'IDHM_2010', 'IDHM_RENDA_2010',\n",
    "                          'IDHM_LONGEV_2010','IDHM_EDUC_2010']].copy()\n",
    "df_municipios.drop_duplicates(inplace=True)\n",
    "df_municipios.sort_values([\"SG_UF\",\"NM_MUNICIPIO\"], inplace=True)\n",
    "df_municipios.reset_index(inplace=True, drop=True)\n",
    "df_municipios.head()"
   ]
  },
  {
   "cell_type": "markdown",
   "metadata": {},
   "source": [
    "## Salvando bases TSE em base sql"
   ]
  },
  {
   "cell_type": "markdown",
   "metadata": {},
   "source": [
    "### Abrindo base sql"
   ]
  },
  {
   "cell_type": "code",
   "execution_count": 35,
   "metadata": {},
   "outputs": [],
   "source": [
    "con = sql.connect(\"../dados/sql/base_completa.db\")"
   ]
  },
  {
   "cell_type": "markdown",
   "metadata": {},
   "source": [
    "### Salvando tabelas"
   ]
  },
  {
   "cell_type": "code",
   "execution_count": 36,
   "metadata": {},
   "outputs": [],
   "source": [
    "df_parl_cadastro.to_sql(\"cadastro\",con,if_exists=\"replace\", index=False, index_label=\"CPF\")\n",
    "df_parl_bens.to_sql(\"parl_bens\",con,if_exists=\"replace\", index=False, index_label=\"CPF\")\n",
    "df_parl_votacao.to_sql(\"parl_votacao\",con,if_exists=\"replace\", index=False, index_label=\"CPF\")\n",
    "df_partidos_votacao.to_sql(\"partidos_votacao\",con,if_exists=\"replace\", index=False, index_label=\"SG_PARTIDO\")\n",
    "df_legendas_votacao.to_sql(\"legendas_votacao\",con,if_exists=\"replace\", index=False, index_label=\"SG_PARTIDO\")\n",
    "df_municipios.to_sql(\"municipios\",con,if_exists=\"replace\", index=False, index_label=\"CODIGO_IBGE\")"
   ]
  },
  {
   "cell_type": "markdown",
   "metadata": {},
   "source": [
    "### fechando base sql"
   ]
  },
  {
   "cell_type": "code",
   "execution_count": 37,
   "metadata": {},
   "outputs": [],
   "source": [
    "con.close()"
   ]
  },
  {
   "cell_type": "markdown",
   "metadata": {},
   "source": [
    "# Tratando diap"
   ]
  },
  {
   "cell_type": "code",
   "execution_count": 38,
   "metadata": {},
   "outputs": [],
   "source": [
    "df_diap=pd.read_csv(\"../dados/diap/politicos_diap_cpf.csv\", dtype={\"CPF\":\"object\"})\n",
    "#df_diap.info()"
   ]
  },
  {
   "cell_type": "code",
   "execution_count": 39,
   "metadata": {},
   "outputs": [],
   "source": [
    "df_diap.drop(columns=[\"nome\",\"partido\",\"cargo\",\"estado\",\"profissão\"], inplace=True)\n",
    "#df_diap.info()"
   ]
  },
  {
   "cell_type": "code",
   "execution_count": 40,
   "metadata": {},
   "outputs": [
    {
     "data": {
      "text/html": [
       "<div>\n",
       "<style scoped>\n",
       "    .dataframe tbody tr th:only-of-type {\n",
       "        vertical-align: middle;\n",
       "    }\n",
       "\n",
       "    .dataframe tbody tr th {\n",
       "        vertical-align: top;\n",
       "    }\n",
       "\n",
       "    .dataframe thead th {\n",
       "        text-align: right;\n",
       "    }\n",
       "</style>\n",
       "<table border=\"1\" class=\"dataframe\">\n",
       "  <thead>\n",
       "    <tr style=\"text-align: right;\">\n",
       "      <th></th>\n",
       "      <th>CPF</th>\n",
       "      <th>mandatos</th>\n",
       "      <th>cabeças</th>\n",
       "      <th>debatedor</th>\n",
       "      <th>articulador</th>\n",
       "      <th>formulador</th>\n",
       "      <th>negociador</th>\n",
       "    </tr>\n",
       "  </thead>\n",
       "  <tbody>\n",
       "    <tr>\n",
       "      <th>0</th>\n",
       "      <td>09604332287</td>\n",
       "      <td>1</td>\n",
       "      <td>1.0</td>\n",
       "      <td>0</td>\n",
       "      <td>1</td>\n",
       "      <td>0</td>\n",
       "      <td>0</td>\n",
       "    </tr>\n",
       "    <tr>\n",
       "      <th>1</th>\n",
       "      <td>67821090425</td>\n",
       "      <td>3</td>\n",
       "      <td>3.0</td>\n",
       "      <td>0</td>\n",
       "      <td>1</td>\n",
       "      <td>0</td>\n",
       "      <td>0</td>\n",
       "    </tr>\n",
       "    <tr>\n",
       "      <th>2</th>\n",
       "      <td>11078685487</td>\n",
       "      <td>4</td>\n",
       "      <td>23.0</td>\n",
       "      <td>0</td>\n",
       "      <td>1</td>\n",
       "      <td>0</td>\n",
       "      <td>0</td>\n",
       "    </tr>\n",
       "    <tr>\n",
       "      <th>3</th>\n",
       "      <td>50900226234</td>\n",
       "      <td>1</td>\n",
       "      <td>1.0</td>\n",
       "      <td>0</td>\n",
       "      <td>1</td>\n",
       "      <td>0</td>\n",
       "      <td>0</td>\n",
       "    </tr>\n",
       "    <tr>\n",
       "      <th>4</th>\n",
       "      <td>43187943268</td>\n",
       "      <td>2</td>\n",
       "      <td>9.0</td>\n",
       "      <td>1</td>\n",
       "      <td>0</td>\n",
       "      <td>0</td>\n",
       "      <td>0</td>\n",
       "    </tr>\n",
       "  </tbody>\n",
       "</table>\n",
       "</div>"
      ],
      "text/plain": [
       "           CPF  mandatos  cabeças  debatedor  articulador  formulador  \\\n",
       "0  09604332287         1      1.0          0            1           0   \n",
       "1  67821090425         3      3.0          0            1           0   \n",
       "2  11078685487         4     23.0          0            1           0   \n",
       "3  50900226234         1      1.0          0            1           0   \n",
       "4  43187943268         2      9.0          1            0           0   \n",
       "\n",
       "   negociador  \n",
       "0           0  \n",
       "1           0  \n",
       "2           0  \n",
       "3           0  \n",
       "4           0  "
      ]
     },
     "execution_count": 40,
     "metadata": {},
     "output_type": "execute_result"
    }
   ],
   "source": [
    "df_diap=df_diap[[\"CPF\",\"mandatos\",\"cabeças\",\"debatedor\",\"articulador\",\"formulador\",\"negociador\"]].copy()\n",
    "df_diap.head()"
   ]
  },
  {
   "cell_type": "markdown",
   "metadata": {},
   "source": [
    "### Salvando tabela"
   ]
  },
  {
   "cell_type": "code",
   "execution_count": 41,
   "metadata": {},
   "outputs": [],
   "source": [
    "con = sql.connect(\"../dados/sql/base_completa.db\")\n",
    "df_diap.to_sql(\"diap\",con,if_exists=\"replace\", index=False, index_label=\"CPF\")\n",
    "con.close()"
   ]
  },
  {
   "cell_type": "markdown",
   "metadata": {},
   "source": [
    "## Exemplo de abertura de base sql e carga em dataframe"
   ]
  },
  {
   "cell_type": "code",
   "execution_count": 42,
   "metadata": {},
   "outputs": [],
   "source": [
    "con = sql.connect(\"../dados/sql/base_completa.db\")"
   ]
  },
  {
   "cell_type": "code",
   "execution_count": 43,
   "metadata": {},
   "outputs": [],
   "source": [
    "df=pd.read_sql(\"select * from cadastro\",con)"
   ]
  },
  {
   "cell_type": "code",
   "execution_count": 44,
   "metadata": {},
   "outputs": [
    {
     "data": {
      "text/html": [
       "<div>\n",
       "<style scoped>\n",
       "    .dataframe tbody tr th:only-of-type {\n",
       "        vertical-align: middle;\n",
       "    }\n",
       "\n",
       "    .dataframe tbody tr th {\n",
       "        vertical-align: top;\n",
       "    }\n",
       "\n",
       "    .dataframe thead th {\n",
       "        text-align: right;\n",
       "    }\n",
       "</style>\n",
       "<table border=\"1\" class=\"dataframe\">\n",
       "  <thead>\n",
       "    <tr style=\"text-align: right;\">\n",
       "      <th></th>\n",
       "      <th>CPF</th>\n",
       "      <th>NM_CANDIDATO</th>\n",
       "      <th>DT_NASCIMENTO</th>\n",
       "      <th>SG_UF_NASCIMENTO</th>\n",
       "      <th>NM_MUNICIPIO_NASCIMENTO</th>\n",
       "      <th>DS_GENERO</th>\n",
       "      <th>DS_GRAU_INSTRUCAO</th>\n",
       "      <th>DS_ESTADO_CIVIL</th>\n",
       "      <th>DS_COR_RACA</th>\n",
       "      <th>DS_OCUPACAO</th>\n",
       "      <th>VL_BENS</th>\n",
       "      <th>ANO_ELEICAO</th>\n",
       "      <th>DS_CARGO</th>\n",
       "      <th>SG_PARTIDO</th>\n",
       "      <th>SG_UE</th>\n",
       "      <th>SQ_CANDIDATO</th>\n",
       "      <th>NM_URNA_CANDIDATO</th>\n",
       "      <th>NR_IDADE_DATA_POSSE</th>\n",
       "      <th>NM_EMAIL</th>\n",
       "    </tr>\n",
       "  </thead>\n",
       "  <tbody>\n",
       "    <tr>\n",
       "      <th>0</th>\n",
       "      <td>23019093104</td>\n",
       "      <td>WELLINGTON ANTONIO FAGUNDES</td>\n",
       "      <td>31/05/1957</td>\n",
       "      <td>MT</td>\n",
       "      <td>RONDONOPOLIS</td>\n",
       "      <td>MASCULINO</td>\n",
       "      <td>SUPERIOR COMPLETO</td>\n",
       "      <td>CASADO(A)</td>\n",
       "      <td>BRANCA</td>\n",
       "      <td>DEPUTADO</td>\n",
       "      <td>8666604.04</td>\n",
       "      <td>2014</td>\n",
       "      <td>SENADOR</td>\n",
       "      <td>PR</td>\n",
       "      <td>MT</td>\n",
       "      <td>110000000293</td>\n",
       "      <td>WELLINGTON FAGUNDES</td>\n",
       "      <td>57.0</td>\n",
       "      <td>#NULO#</td>\n",
       "    </tr>\n",
       "    <tr>\n",
       "      <th>1</th>\n",
       "      <td>93565968834</td>\n",
       "      <td>JOSE SERRA</td>\n",
       "      <td>19/03/1942</td>\n",
       "      <td>SP</td>\n",
       "      <td>SAO PAULO</td>\n",
       "      <td>MASCULINO</td>\n",
       "      <td>SUPERIOR COMPLETO</td>\n",
       "      <td>CASADO(A)</td>\n",
       "      <td>BRANCA</td>\n",
       "      <td>ECONOMISTA</td>\n",
       "      <td>1553822.22</td>\n",
       "      <td>2014</td>\n",
       "      <td>SENADOR</td>\n",
       "      <td>PSDB</td>\n",
       "      <td>SP</td>\n",
       "      <td>250000001674</td>\n",
       "      <td>JOSE SERRA</td>\n",
       "      <td>72.0</td>\n",
       "      <td>SECRETARIA.SERRA@GMAIL.COM</td>\n",
       "    </tr>\n",
       "    <tr>\n",
       "      <th>2</th>\n",
       "      <td>78229766134</td>\n",
       "      <td>JOSE ANTONIO MACHADO REGUFFE</td>\n",
       "      <td>05/09/1972</td>\n",
       "      <td>RJ</td>\n",
       "      <td>RIO DE JANEIRO</td>\n",
       "      <td>MASCULINO</td>\n",
       "      <td>SUPERIOR COMPLETO</td>\n",
       "      <td>CASADO(A)</td>\n",
       "      <td>BRANCA</td>\n",
       "      <td>DEPUTADO</td>\n",
       "      <td>2793650.22</td>\n",
       "      <td>2014</td>\n",
       "      <td>SENADOR</td>\n",
       "      <td>PDT</td>\n",
       "      <td>DF</td>\n",
       "      <td>70000000436</td>\n",
       "      <td>REGUFFE</td>\n",
       "      <td>42.0</td>\n",
       "      <td>#NULO#</td>\n",
       "    </tr>\n",
       "    <tr>\n",
       "      <th>3</th>\n",
       "      <td>00274003953</td>\n",
       "      <td>ALVARO FERNANDES DIAS</td>\n",
       "      <td>07/12/1944</td>\n",
       "      <td>SP</td>\n",
       "      <td>QUATA</td>\n",
       "      <td>MASCULINO</td>\n",
       "      <td>SUPERIOR COMPLETO</td>\n",
       "      <td>CASADO(A)</td>\n",
       "      <td>BRANCA</td>\n",
       "      <td>SENADOR</td>\n",
       "      <td>2912001.70</td>\n",
       "      <td>2014</td>\n",
       "      <td>SENADOR</td>\n",
       "      <td>PSDB</td>\n",
       "      <td>PR</td>\n",
       "      <td>160000000560</td>\n",
       "      <td>ALVARO DIAS</td>\n",
       "      <td>70.0</td>\n",
       "      <td>ESCRITORIO@ALVARODIAS.COM.BR</td>\n",
       "    </tr>\n",
       "    <tr>\n",
       "      <th>4</th>\n",
       "      <td>26472058768</td>\n",
       "      <td>RONALDO RAMOS CAIADO</td>\n",
       "      <td>25/09/1949</td>\n",
       "      <td>GO</td>\n",
       "      <td>ANAPOLIS</td>\n",
       "      <td>MASCULINO</td>\n",
       "      <td>SUPERIOR COMPLETO</td>\n",
       "      <td>CASADO(A)</td>\n",
       "      <td>BRANCA</td>\n",
       "      <td>MÃDICO</td>\n",
       "      <td>7232461.92</td>\n",
       "      <td>2014</td>\n",
       "      <td>SENADOR</td>\n",
       "      <td>DEM</td>\n",
       "      <td>GO</td>\n",
       "      <td>90000000605</td>\n",
       "      <td>RONALDO CAIADO</td>\n",
       "      <td>65.0</td>\n",
       "      <td>MARCOSMOZAR@HOTMAIL.COM</td>\n",
       "    </tr>\n",
       "  </tbody>\n",
       "</table>\n",
       "</div>"
      ],
      "text/plain": [
       "           CPF                  NM_CANDIDATO DT_NASCIMENTO SG_UF_NASCIMENTO  \\\n",
       "0  23019093104   WELLINGTON ANTONIO FAGUNDES    31/05/1957               MT   \n",
       "1  93565968834                    JOSE SERRA    19/03/1942               SP   \n",
       "2  78229766134  JOSE ANTONIO MACHADO REGUFFE    05/09/1972               RJ   \n",
       "3  00274003953         ALVARO FERNANDES DIAS    07/12/1944               SP   \n",
       "4  26472058768          RONALDO RAMOS CAIADO    25/09/1949               GO   \n",
       "\n",
       "  NM_MUNICIPIO_NASCIMENTO  DS_GENERO  DS_GRAU_INSTRUCAO DS_ESTADO_CIVIL  \\\n",
       "0            RONDONOPOLIS  MASCULINO  SUPERIOR COMPLETO       CASADO(A)   \n",
       "1               SAO PAULO  MASCULINO  SUPERIOR COMPLETO       CASADO(A)   \n",
       "2          RIO DE JANEIRO  MASCULINO  SUPERIOR COMPLETO       CASADO(A)   \n",
       "3                   QUATA  MASCULINO  SUPERIOR COMPLETO       CASADO(A)   \n",
       "4                ANAPOLIS  MASCULINO  SUPERIOR COMPLETO       CASADO(A)   \n",
       "\n",
       "  DS_COR_RACA DS_OCUPACAO     VL_BENS  ANO_ELEICAO DS_CARGO SG_PARTIDO SG_UE  \\\n",
       "0      BRANCA    DEPUTADO  8666604.04         2014  SENADOR         PR    MT   \n",
       "1      BRANCA  ECONOMISTA  1553822.22         2014  SENADOR       PSDB    SP   \n",
       "2      BRANCA    DEPUTADO  2793650.22         2014  SENADOR        PDT    DF   \n",
       "3      BRANCA     SENADOR  2912001.70         2014  SENADOR       PSDB    PR   \n",
       "4      BRANCA     MÃDICO  7232461.92         2014  SENADOR        DEM    GO   \n",
       "\n",
       "   SQ_CANDIDATO    NM_URNA_CANDIDATO  NR_IDADE_DATA_POSSE  \\\n",
       "0  110000000293  WELLINGTON FAGUNDES                 57.0   \n",
       "1  250000001674           JOSE SERRA                 72.0   \n",
       "2   70000000436              REGUFFE                 42.0   \n",
       "3  160000000560          ALVARO DIAS                 70.0   \n",
       "4   90000000605       RONALDO CAIADO                 65.0   \n",
       "\n",
       "                       NM_EMAIL  \n",
       "0                        #NULO#  \n",
       "1    SECRETARIA.SERRA@GMAIL.COM  \n",
       "2                        #NULO#  \n",
       "3  ESCRITORIO@ALVARODIAS.COM.BR  \n",
       "4       MARCOSMOZAR@HOTMAIL.COM  "
      ]
     },
     "execution_count": 44,
     "metadata": {},
     "output_type": "execute_result"
    }
   ],
   "source": [
    "df.head()"
   ]
  },
  {
   "cell_type": "code",
   "execution_count": null,
   "metadata": {},
   "outputs": [],
   "source": [
    "df_1=pd.read_sql(\"select * from bens where cpf=274003953\",con)"
   ]
  },
  {
   "cell_type": "code",
   "execution_count": null,
   "metadata": {},
   "outputs": [],
   "source": [
    "df_1"
   ]
  },
  {
   "cell_type": "code",
   "execution_count": null,
   "metadata": {},
   "outputs": [],
   "source": [
    "con.close()"
   ]
  },
  {
   "cell_type": "markdown",
   "metadata": {},
   "source": [
    "# Para verificar o conteúdo da base por uma ferramenta externa utilize\n",
    "# https://sqlitebrowser.org/"
   ]
  },
  {
   "cell_type": "code",
   "execution_count": null,
   "metadata": {},
   "outputs": [],
   "source": []
  }
 ],
 "metadata": {
  "kernelspec": {
   "display_name": "Python 3",
   "language": "python",
   "name": "python3"
  },
  "language_info": {
   "codemirror_mode": {
    "name": "ipython",
    "version": 3
   },
   "file_extension": ".py",
   "mimetype": "text/x-python",
   "name": "python",
   "nbconvert_exporter": "python",
   "pygments_lexer": "ipython3",
   "version": "3.7.6"
  }
 },
 "nbformat": 4,
 "nbformat_minor": 4
}

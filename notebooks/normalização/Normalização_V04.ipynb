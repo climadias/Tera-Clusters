{
 "cells": [
  {
   "cell_type": "markdown",
   "metadata": {},
   "source": [
    "# Normalizaçãodos dados"
   ]
  },
  {
   "cell_type": "markdown",
   "metadata": {},
   "source": [
    "# Tratamento dados TSE"
   ]
  },
  {
   "cell_type": "code",
   "execution_count": 2,
   "metadata": {},
   "outputs": [
    {
     "name": "stdout",
     "output_type": "stream",
     "text": [
      "detalhes_municipios.csv  detalhes_parlamentares.csv  output_voto_legenda.csv\n"
     ]
    }
   ],
   "source": [
    "!ls ../../dados/tse/dados_limpos"
   ]
  },
  {
   "cell_type": "markdown",
   "metadata": {},
   "source": [
    "### Tratamento dados parlamentares - cadastro base"
   ]
  },
  {
   "cell_type": "code",
   "execution_count": 4,
   "metadata": {},
   "outputs": [],
   "source": [
    "#Dados de parlamentares\n",
    "#enc=\"ISO-8859-3\"\n",
    "enc=\"Latin 1\"\n",
    "df_parlamentares=pd.read_csv(\"../../dados/tse/dados_limpos/detalhes_parlamentares.csv\", \n",
    "                             encoding=enc,\n",
    "                             dtype={\"NR_CPF_CANDIDATO\":\"object\"},\n",
    "                             header=0)"
   ]
  },
  {
   "cell_type": "code",
   "execution_count": 5,
   "metadata": {},
   "outputs": [],
   "source": [
    "#df_parlamentares.sample(5)"
   ]
  },
  {
   "cell_type": "code",
   "execution_count": 6,
   "metadata": {},
   "outputs": [],
   "source": [
    "#renomeando CPF\n",
    "df_parlamentares.rename(columns={\"NR_CPF_CANDIDATO\":\"CPF\"}, inplace=True)\n",
    "#df_parlamentares.info()"
   ]
  },
  {
   "cell_type": "code",
   "execution_count": 7,
   "metadata": {},
   "outputs": [],
   "source": [
    "#df_parlamentares.columns"
   ]
  },
  {
   "cell_type": "code",
   "execution_count": 8,
   "metadata": {},
   "outputs": [],
   "source": [
    "#Criando cadastro de parlamentares\n",
    "df_parl_cadastro=df_parlamentares.copy()"
   ]
  },
  {
   "cell_type": "code",
   "execution_count": 9,
   "metadata": {},
   "outputs": [],
   "source": [
    "# Drop nas colunas desnecessárias\n",
    "df_parl_cadastro=df_parl_cadastro.drop([\"DS_SIT_TOT_TURNO\",'ST_REELEICAO',\n",
    "                                        'ST_DECLARAR_BENS', 'CD_TIPO_BEM_CANDIDATO',\n",
    "                                        'DS_TIPO_BEM_CANDIDATO', 'DS_BEM_CANDIDATO', \n",
    "                                        'VR_BEM_CANDIDATO'], axis=1)"
   ]
  },
  {
   "cell_type": "code",
   "execution_count": 10,
   "metadata": {},
   "outputs": [],
   "source": [
    "# retirando linhas duplicadas do cadastro\n",
    "df_parl_cadastro.drop_duplicates(inplace=True)\n",
    "df_parl_cadastro.reset_index(drop=True, inplace=True)\n",
    "#df_parl_cadastr.shape\n",
    "#df_parl_cadastro.column"
   ]
  },
  {
   "cell_type": "markdown",
   "metadata": {},
   "source": [
    "### Tratamento bens de parlamentares"
   ]
  },
  {
   "cell_type": "code",
   "execution_count": 11,
   "metadata": {},
   "outputs": [],
   "source": [
    "#Criando tabela de bens de parmanetares\n",
    "df_parl_bens=df_parlamentares.copy()\n",
    "df_parl_bens=df_parl_bens.drop([\"DS_SIT_TOT_TURNO\",'ST_REELEICAO',\"ANO_ELEICAO\",\n",
    "                                'SG_UE', 'DS_CARGO', 'SQ_CANDIDATO', 'NM_CANDIDATO',\n",
    "                                'NM_URNA_CANDIDATO','NM_EMAIL', 'SG_PARTIDO',\n",
    "                                'SG_UF_NASCIMENTO', 'NM_MUNICIPIO_NASCIMENTO', \n",
    "                                'DT_NASCIMENTO','NR_IDADE_DATA_POSSE', 'DS_GENERO',\n",
    "                                'DS_GRAU_INSTRUCAO','DS_ESTADO_CIVIL', 'DS_COR_RACA', \n",
    "                                'DS_OCUPACAO', 'DS_SIT_TOT_TURNO','ST_REELEICAO'], \n",
    "                               axis=1)\n",
    "df_parl_bens.reset_index(inplace=True, drop=True)\n",
    "#df_parl_bens.shape\n",
    "#df_parl_bens.info()"
   ]
  },
  {
   "cell_type": "markdown",
   "metadata": {},
   "source": [
    "### Ajustando cadastro base com os bens dos parlamentares"
   ]
  },
  {
   "cell_type": "code",
   "execution_count": 12,
   "metadata": {},
   "outputs": [],
   "source": [
    "# Criando valor total de bens dos parlamentares e colocando no cadastro\n",
    "df_parl_cadastro[\"VL_BENS\"]=0.\n",
    "i=0\n",
    "nparl=df_parl_cadastro.shape[0]\n",
    "while i < nparl:\n",
    "    cpf=df_parl_cadastro.iloc[i][\"CPF\"]\n",
    "    total=df_parl_bens[df_parl_bens[\"CPF\"]==cpf][\"VR_BEM_CANDIDATO\"].sum()\n",
    "    #print(\"i-> {} CPF: {}, Valor: {}\".format(i,cpf,total))\n",
    "    #vl_bens[i]=total\n",
    "    df_parl_cadastro.loc[i,\"VL_BENS\"]=total\n",
    "    i+=1\n"
   ]
  },
  {
   "cell_type": "code",
   "execution_count": 13,
   "metadata": {},
   "outputs": [],
   "source": [
    "#df_parl_cadastro.sample(5)"
   ]
  },
  {
   "cell_type": "code",
   "execution_count": 14,
   "metadata": {},
   "outputs": [],
   "source": [
    "#Reordenando colunas\n",
    "df_parl_cadastro=df_parl_cadastro[[\"CPF\",\"NM_CANDIDATO\",\"DT_NASCIMENTO\",\"SG_UF_NASCIMENTO\",\n",
    "                  \"NM_MUNICIPIO_NASCIMENTO\", \"DS_GENERO\", \"DS_GRAU_INSTRUCAO\",\n",
    "                  \"DS_ESTADO_CIVIL\", \"DS_COR_RACA\", \"DS_OCUPACAO\",\"VL_BENS\",\n",
    "                  \"ANO_ELEICAO\", \"DS_CARGO\", \"SG_PARTIDO\",\"SG_UE\",\"SQ_CANDIDATO\",\"NM_URNA_CANDIDATO\",\n",
    "                    \"NR_IDADE_DATA_POSSE\",'NM_EMAIL']]"
   ]
  },
  {
   "cell_type": "code",
   "execution_count": 15,
   "metadata": {},
   "outputs": [],
   "source": [
    "df_parl_cadastro[\"NM_URNA_CANDIDATO\"]=df_parl_cadastro[\"NM_URNA_CANDIDATO\"].apply(lambda x:unidecode(x))"
   ]
  },
  {
   "cell_type": "code",
   "execution_count": 16,
   "metadata": {},
   "outputs": [
    {
     "data": {
      "text/html": [
       "<div>\n",
       "<style scoped>\n",
       "    .dataframe tbody tr th:only-of-type {\n",
       "        vertical-align: middle;\n",
       "    }\n",
       "\n",
       "    .dataframe tbody tr th {\n",
       "        vertical-align: top;\n",
       "    }\n",
       "\n",
       "    .dataframe thead th {\n",
       "        text-align: right;\n",
       "    }\n",
       "</style>\n",
       "<table border=\"1\" class=\"dataframe\">\n",
       "  <thead>\n",
       "    <tr style=\"text-align: right;\">\n",
       "      <th></th>\n",
       "      <th>CPF</th>\n",
       "      <th>NM_CANDIDATO</th>\n",
       "      <th>DT_NASCIMENTO</th>\n",
       "      <th>SG_UF_NASCIMENTO</th>\n",
       "      <th>NM_MUNICIPIO_NASCIMENTO</th>\n",
       "      <th>DS_GENERO</th>\n",
       "      <th>DS_GRAU_INSTRUCAO</th>\n",
       "      <th>DS_ESTADO_CIVIL</th>\n",
       "      <th>DS_COR_RACA</th>\n",
       "      <th>DS_OCUPACAO</th>\n",
       "      <th>VL_BENS</th>\n",
       "      <th>ANO_ELEICAO</th>\n",
       "      <th>DS_CARGO</th>\n",
       "      <th>SG_PARTIDO</th>\n",
       "      <th>SG_UE</th>\n",
       "      <th>SQ_CANDIDATO</th>\n",
       "      <th>NM_URNA_CANDIDATO</th>\n",
       "      <th>NR_IDADE_DATA_POSSE</th>\n",
       "      <th>NM_EMAIL</th>\n",
       "    </tr>\n",
       "  </thead>\n",
       "  <tbody>\n",
       "    <tr>\n",
       "      <th>103</th>\n",
       "      <td>40448118149</td>\n",
       "      <td>NELSON TRAD FILHO</td>\n",
       "      <td>05/09/1961</td>\n",
       "      <td>MS</td>\n",
       "      <td>CAMPO GRANDE</td>\n",
       "      <td>MASCULINO</td>\n",
       "      <td>SUPERIOR COMPLETO</td>\n",
       "      <td>CASADO(A)</td>\n",
       "      <td>BRANCA</td>\n",
       "      <td>MÃDICO</td>\n",
       "      <td>3225570.89</td>\n",
       "      <td>2018</td>\n",
       "      <td>SENADOR</td>\n",
       "      <td>PTB</td>\n",
       "      <td>MS</td>\n",
       "      <td>120000606866</td>\n",
       "      <td>NELSINHO TRAD</td>\n",
       "      <td>57.0</td>\n",
       "      <td>NTRADFILHO@GMAIL.COM</td>\n",
       "    </tr>\n",
       "    <tr>\n",
       "      <th>546</th>\n",
       "      <td>10448771705</td>\n",
       "      <td>CHRISTINE NOGUEIRA DOS REIS TONIETTO</td>\n",
       "      <td>14/05/1991</td>\n",
       "      <td>RJ</td>\n",
       "      <td>RIO DE JANEIRO</td>\n",
       "      <td>FEMININO</td>\n",
       "      <td>SUPERIOR COMPLETO</td>\n",
       "      <td>SOLTEIRO(A)</td>\n",
       "      <td>PARDA</td>\n",
       "      <td>ADVOGADO</td>\n",
       "      <td>334631.19</td>\n",
       "      <td>2018</td>\n",
       "      <td>DEPUTADO FEDERAL</td>\n",
       "      <td>PSL</td>\n",
       "      <td>RJ</td>\n",
       "      <td>190000614650</td>\n",
       "      <td>CHRIS TONIETTO</td>\n",
       "      <td>27.0</td>\n",
       "      <td>CHRISREIS2@GMAIL.COM</td>\n",
       "    </tr>\n",
       "    <tr>\n",
       "      <th>287</th>\n",
       "      <td>21883547881</td>\n",
       "      <td>NICOLINO BOZZELLA JUNIOR</td>\n",
       "      <td>17/08/1980</td>\n",
       "      <td>SP</td>\n",
       "      <td>SANTOS</td>\n",
       "      <td>MASCULINO</td>\n",
       "      <td>SUPERIOR COMPLETO</td>\n",
       "      <td>SOLTEIRO(A)</td>\n",
       "      <td>BRANCA</td>\n",
       "      <td>EMPRESÃRIO</td>\n",
       "      <td>1256468.44</td>\n",
       "      <td>2018</td>\n",
       "      <td>DEPUTADO FEDERAL</td>\n",
       "      <td>PSL</td>\n",
       "      <td>SP</td>\n",
       "      <td>250000613292</td>\n",
       "      <td>JUNIOR BOZZELLA</td>\n",
       "      <td>38.0</td>\n",
       "      <td>JR.BOZZELLA@HOTMAIL.COM</td>\n",
       "    </tr>\n",
       "    <tr>\n",
       "      <th>273</th>\n",
       "      <td>85290211349</td>\n",
       "      <td>JOSE JUSCELINO DOS SANTOS REZENDE FILHO</td>\n",
       "      <td>06/11/1984</td>\n",
       "      <td>MA</td>\n",
       "      <td>SAO LUIS</td>\n",
       "      <td>MASCULINO</td>\n",
       "      <td>SUPERIOR COMPLETO</td>\n",
       "      <td>CASADO(A)</td>\n",
       "      <td>BRANCA</td>\n",
       "      <td>DEPUTADO</td>\n",
       "      <td>3930767.09</td>\n",
       "      <td>2018</td>\n",
       "      <td>DEPUTADO FEDERAL</td>\n",
       "      <td>DEM</td>\n",
       "      <td>MA</td>\n",
       "      <td>100000601901</td>\n",
       "      <td>JUSCELINO FILHO</td>\n",
       "      <td>34.0</td>\n",
       "      <td>JUSCELINO_RF@HOTMAIL.COM</td>\n",
       "    </tr>\n",
       "    <tr>\n",
       "      <th>294</th>\n",
       "      <td>31812472862</td>\n",
       "      <td>GUILHERME MUSSI FERREIRA</td>\n",
       "      <td>14/10/1982</td>\n",
       "      <td>PR</td>\n",
       "      <td>CURITIBA</td>\n",
       "      <td>MASCULINO</td>\n",
       "      <td>SUPERIOR COMPLETO</td>\n",
       "      <td>DIVORCIADO(A)</td>\n",
       "      <td>BRANCA</td>\n",
       "      <td>DEPUTADO</td>\n",
       "      <td>100000.00</td>\n",
       "      <td>2018</td>\n",
       "      <td>DEPUTADO FEDERAL</td>\n",
       "      <td>PP</td>\n",
       "      <td>SP</td>\n",
       "      <td>250000605453</td>\n",
       "      <td>GUILHERME MUSSI</td>\n",
       "      <td>36.0</td>\n",
       "      <td>ALEXANDRE@BISSOLIADV.COM.BR</td>\n",
       "    </tr>\n",
       "  </tbody>\n",
       "</table>\n",
       "</div>"
      ],
      "text/plain": [
       "             CPF                             NM_CANDIDATO DT_NASCIMENTO  \\\n",
       "103  40448118149                        NELSON TRAD FILHO    05/09/1961   \n",
       "546  10448771705     CHRISTINE NOGUEIRA DOS REIS TONIETTO    14/05/1991   \n",
       "287  21883547881                 NICOLINO BOZZELLA JUNIOR    17/08/1980   \n",
       "273  85290211349  JOSE JUSCELINO DOS SANTOS REZENDE FILHO    06/11/1984   \n",
       "294  31812472862                 GUILHERME MUSSI FERREIRA    14/10/1982   \n",
       "\n",
       "    SG_UF_NASCIMENTO NM_MUNICIPIO_NASCIMENTO  DS_GENERO  DS_GRAU_INSTRUCAO  \\\n",
       "103               MS            CAMPO GRANDE  MASCULINO  SUPERIOR COMPLETO   \n",
       "546               RJ          RIO DE JANEIRO   FEMININO  SUPERIOR COMPLETO   \n",
       "287               SP                  SANTOS  MASCULINO  SUPERIOR COMPLETO   \n",
       "273               MA                SAO LUIS  MASCULINO  SUPERIOR COMPLETO   \n",
       "294               PR                CURITIBA  MASCULINO  SUPERIOR COMPLETO   \n",
       "\n",
       "    DS_ESTADO_CIVIL DS_COR_RACA  DS_OCUPACAO     VL_BENS  ANO_ELEICAO  \\\n",
       "103       CASADO(A)      BRANCA      MÃDICO  3225570.89         2018   \n",
       "546     SOLTEIRO(A)       PARDA     ADVOGADO   334631.19         2018   \n",
       "287     SOLTEIRO(A)      BRANCA  EMPRESÃRIO  1256468.44         2018   \n",
       "273       CASADO(A)      BRANCA     DEPUTADO  3930767.09         2018   \n",
       "294   DIVORCIADO(A)      BRANCA     DEPUTADO   100000.00         2018   \n",
       "\n",
       "             DS_CARGO SG_PARTIDO SG_UE  SQ_CANDIDATO NM_URNA_CANDIDATO  \\\n",
       "103           SENADOR        PTB    MS  120000606866     NELSINHO TRAD   \n",
       "546  DEPUTADO FEDERAL        PSL    RJ  190000614650    CHRIS TONIETTO   \n",
       "287  DEPUTADO FEDERAL        PSL    SP  250000613292   JUNIOR BOZZELLA   \n",
       "273  DEPUTADO FEDERAL        DEM    MA  100000601901   JUSCELINO FILHO   \n",
       "294  DEPUTADO FEDERAL         PP    SP  250000605453   GUILHERME MUSSI   \n",
       "\n",
       "     NR_IDADE_DATA_POSSE                     NM_EMAIL  \n",
       "103                 57.0         NTRADFILHO@GMAIL.COM  \n",
       "546                 27.0         CHRISREIS2@GMAIL.COM  \n",
       "287                 38.0      JR.BOZZELLA@HOTMAIL.COM  \n",
       "273                 34.0     JUSCELINO_RF@HOTMAIL.COM  \n",
       "294                 36.0  ALEXANDRE@BISSOLIADV.COM.BR  "
      ]
     },
     "execution_count": 16,
     "metadata": {},
     "output_type": "execute_result"
    }
   ],
   "source": [
    "df_parl_cadastro.sample(5)"
   ]
  },
  {
   "cell_type": "markdown",
   "metadata": {},
   "source": [
    "### Dados de votação nos municípios"
   ]
  },
  {
   "cell_type": "code",
   "execution_count": 17,
   "metadata": {},
   "outputs": [],
   "source": [
    "#Dados de municipios e votacão\n",
    "enc=\"ISO-8859-1\"\n",
    "#enc=\"Latin 1\"\n",
    "df_municipios=pd.read_csv(\"../../dados/tse/dados_limpos/detalhes_municipios.csv\", \n",
    "                             encoding=enc,\n",
    "                            dtype={\"NR_CPF_CANDIDATO\":\"object\"},\n",
    "                             header=0)"
   ]
  },
  {
   "cell_type": "code",
   "execution_count": 18,
   "metadata": {},
   "outputs": [],
   "source": [
    "#renomeando CPF\n",
    "df_municipios.rename(columns={\"NR_CPF_CANDIDATO\":\"CPF\"}, inplace=True)\n",
    "#df_municipios.head(5)\n",
    "#df_municipios.info()"
   ]
  },
  {
   "cell_type": "code",
   "execution_count": 19,
   "metadata": {},
   "outputs": [],
   "source": [
    "\n",
    "#df_municipios.columns"
   ]
  },
  {
   "cell_type": "code",
   "execution_count": 20,
   "metadata": {},
   "outputs": [],
   "source": [
    "df_parl_votacao=df_municipios[[\"CPF\", \"SG_UF\", \"CD_MUNICIPIO\",\n",
    "                            \"VOTOS_TOTAL_MUN\", 'CODIGO_IBGE']].copy()\n",
    "df_parl_votacao.reset_index(inplace=True, drop=True)"
   ]
  },
  {
   "cell_type": "code",
   "execution_count": 21,
   "metadata": {},
   "outputs": [
    {
     "data": {
      "text/html": [
       "<div>\n",
       "<style scoped>\n",
       "    .dataframe tbody tr th:only-of-type {\n",
       "        vertical-align: middle;\n",
       "    }\n",
       "\n",
       "    .dataframe tbody tr th {\n",
       "        vertical-align: top;\n",
       "    }\n",
       "\n",
       "    .dataframe thead th {\n",
       "        text-align: right;\n",
       "    }\n",
       "</style>\n",
       "<table border=\"1\" class=\"dataframe\">\n",
       "  <thead>\n",
       "    <tr style=\"text-align: right;\">\n",
       "      <th></th>\n",
       "      <th>CPF</th>\n",
       "      <th>SG_UF</th>\n",
       "      <th>CD_MUNICIPIO</th>\n",
       "      <th>VOTOS_TOTAL_MUN</th>\n",
       "      <th>CODIGO_IBGE</th>\n",
       "    </tr>\n",
       "  </thead>\n",
       "  <tbody>\n",
       "    <tr>\n",
       "      <th>0</th>\n",
       "      <td>93565968834</td>\n",
       "      <td>SP</td>\n",
       "      <td>68314</td>\n",
       "      <td>17542</td>\n",
       "      <td>3536505.0</td>\n",
       "    </tr>\n",
       "    <tr>\n",
       "      <th>1</th>\n",
       "      <td>00274003953</td>\n",
       "      <td>PR</td>\n",
       "      <td>79499</td>\n",
       "      <td>2969</td>\n",
       "      <td>4128807.0</td>\n",
       "    </tr>\n",
       "    <tr>\n",
       "      <th>2</th>\n",
       "      <td>01099561760</td>\n",
       "      <td>MS</td>\n",
       "      <td>98094</td>\n",
       "      <td>7110</td>\n",
       "      <td>5007695.0</td>\n",
       "    </tr>\n",
       "    <tr>\n",
       "      <th>3</th>\n",
       "      <td>26472058768</td>\n",
       "      <td>GO</td>\n",
       "      <td>96172</td>\n",
       "      <td>1582</td>\n",
       "      <td>5221007.0</td>\n",
       "    </tr>\n",
       "    <tr>\n",
       "      <th>4</th>\n",
       "      <td>00135968372</td>\n",
       "      <td>PI</td>\n",
       "      <td>12688</td>\n",
       "      <td>1252</td>\n",
       "      <td>2202653.0</td>\n",
       "    </tr>\n",
       "  </tbody>\n",
       "</table>\n",
       "</div>"
      ],
      "text/plain": [
       "           CPF SG_UF  CD_MUNICIPIO  VOTOS_TOTAL_MUN  CODIGO_IBGE\n",
       "0  93565968834    SP         68314            17542    3536505.0\n",
       "1  00274003953    PR         79499             2969    4128807.0\n",
       "2  01099561760    MS         98094             7110    5007695.0\n",
       "3  26472058768    GO         96172             1582    5221007.0\n",
       "4  00135968372    PI         12688             1252    2202653.0"
      ]
     },
     "execution_count": 21,
     "metadata": {},
     "output_type": "execute_result"
    }
   ],
   "source": [
    "df_parl_votacao.head()"
   ]
  },
  {
   "cell_type": "code",
   "execution_count": null,
   "metadata": {},
   "outputs": [],
   "source": [
    "# Percentual da votação total no municipio\n",
    "df_parl_votacao[\"PERC_VOTOS\"]=df_parl_votacao.groupby(\"CPF\")[\"VOTOS_TOTAL_MUN\"].apply(lambda x:x / float(x.sum()))\n",
    "df_parl_votacao"
   ]
  },
  {
   "cell_type": "code",
   "execution_count": null,
   "metadata": {},
   "outputs": [],
   "source": [
    "df_parl_votacao[df_parl_votacao[\"CPF\"]==\"93565968834\"][[\"VOTOS_TOTAL_MUN\",\"PERC_VOTOS\"]]\n",
    "df_parl_votacao[df_parl_votacao[\"CPF\"]==\"93565968834\"][[\"PERC_VOTOS\"]].sum()\n"
   ]
  },
  {
   "cell_type": "code",
   "execution_count": null,
   "metadata": {},
   "outputs": [],
   "source": [
    "# Código com groupby para consolidar votação\n",
    "#df_partido=df_partidos_votacao[df_partidos_votacao[\"SG_PARTIDO\"]==\"PSOL\"]\n",
    "#df_partido.groupby(\"SG_UF\",as_index=False)[\"VOTOS_TOTAL_MUN\"].sum().sort_values(\"VOTOS_TOTAL_MUN\",ascending=False)"
   ]
  },
  {
   "cell_type": "code",
   "execution_count": null,
   "metadata": {},
   "outputs": [],
   "source": [
    "df_votacao=df_parl_cadastro[[\"CPF\",\"DS_CARGO\", \"SG_PARTIDO\",\"SG_UE\"]].copy()\n",
    "df_votacao.reset_index(inplace=True, drop=True)\n",
    "df_votacao=pd.merge(df_votacao, df_parl_votacao, how=\"left\", on=\"CPF\")"
   ]
  },
  {
   "cell_type": "code",
   "execution_count": null,
   "metadata": {},
   "outputs": [],
   "source": [
    "#df_votacao.shape\n",
    "#df_votacao.head()\n",
    "df_votacao.head(5)"
   ]
  },
  {
   "cell_type": "markdown",
   "metadata": {},
   "source": [
    "### Tabela consolidando votação dos partidos nos municípios (parlamentares)"
   ]
  },
  {
   "cell_type": "code",
   "execution_count": null,
   "metadata": {},
   "outputs": [],
   "source": [
    "df_partidos_votacao=df_votacao.groupby([\"SG_PARTIDO\",\"SG_UF\",\"DS_CARGO\",\"CODIGO_IBGE\"], \n",
    "                                      as_index=False)[\"VOTOS_TOTAL_MUN\"].sum()\n",
    "df_partidos_votacao.shape"
   ]
  },
  {
   "cell_type": "code",
   "execution_count": null,
   "metadata": {},
   "outputs": [],
   "source": [
    "# Código com groupby para consolidar votação\n",
    "#df_partido=df_partidos_votacao[df_partidos_votacao[\"SG_PARTIDO\"]==\"PSOL\"]\n",
    "#df_partido.groupby(\"SG_UF\",as_index=False)[\"VOTOS_TOTAL_MUN\"].sum().sort_values(\"VOTOS_TOTAL_MUN\",ascending=False)"
   ]
  },
  {
   "cell_type": "code",
   "execution_count": null,
   "metadata": {},
   "outputs": [],
   "source": [
    "df_partidos_votacao.head()"
   ]
  },
  {
   "cell_type": "markdown",
   "metadata": {},
   "source": [
    "### Tabela consolidando votos em legenda nos municípios (legenda)"
   ]
  },
  {
   "cell_type": "code",
   "execution_count": null,
   "metadata": {},
   "outputs": [],
   "source": [
    "#Dados de municipios e votacão\n",
    "enc=\"ISO-8859-1\"\n",
    "#enc=\"Latin 1\"\n",
    "df_legenda=pd.read_csv(\"../dados/tse/dados_limpos/output_voto_legenda.csv\", \n",
    "                             encoding=enc,\n",
    "                             sep=\";\",\n",
    "                             header=0)"
   ]
  },
  {
   "cell_type": "code",
   "execution_count": null,
   "metadata": {},
   "outputs": [],
   "source": [
    "#df_legenda.head()\n",
    "#df_legenda.shape"
   ]
  },
  {
   "cell_type": "code",
   "execution_count": null,
   "metadata": {},
   "outputs": [],
   "source": [
    "df_legendas_votacao=df_legenda.groupby([\"SG_PARTIDO\",\"SG_UF\",\"DS_CARGO\",\"CODIGO_IBGE\"], \n",
    "                                      as_index=False)[\"VOTOS_TOTAL_MUN\"].sum()\n",
    "#df_legendas_votacao.shape\n",
    "#df_legendas_votacao.head(5)\n"
   ]
  },
  {
   "cell_type": "code",
   "execution_count": null,
   "metadata": {},
   "outputs": [],
   "source": [
    "df_legendas_votacao[\"DS_CARGO\"]=df_legendas_votacao[\"DS_CARGO\"].apply(lambda x:x.upper())\n",
    "df_legendas_votacao.sample(5)"
   ]
  },
  {
   "cell_type": "markdown",
   "metadata": {},
   "source": [
    "### Tabela cadastro com informações dos municípios"
   ]
  },
  {
   "cell_type": "code",
   "execution_count": null,
   "metadata": {},
   "outputs": [],
   "source": [
    "df_municipios=df_municipios[['CODIGO_IBGE','SG_UF','NM_MUNICIPIO',\n",
    "                          'IDHM_2010', 'IDHM_RENDA_2010',\n",
    "                          'IDHM_LONGEV_2010','IDHM_EDUC_2010']].copy()\n",
    "df_municipios.drop_duplicates(inplace=True)\n",
    "df_municipios.sort_values([\"SG_UF\",\"NM_MUNICIPIO\"], inplace=True)\n",
    "df_municipios.reset_index(inplace=True, drop=True)\n",
    "df_municipios.head()"
   ]
  },
  {
   "cell_type": "markdown",
   "metadata": {},
   "source": [
    "## Salvando bases TSE em base sql"
   ]
  },
  {
   "cell_type": "markdown",
   "metadata": {},
   "source": [
    "### Abrindo base sql"
   ]
  },
  {
   "cell_type": "code",
   "execution_count": null,
   "metadata": {},
   "outputs": [],
   "source": [
    "con = sql.connect(\"../dados/sql/base_completa.db\")"
   ]
  },
  {
   "cell_type": "markdown",
   "metadata": {},
   "source": [
    "### Salvando tabelas"
   ]
  },
  {
   "cell_type": "code",
   "execution_count": null,
   "metadata": {},
   "outputs": [],
   "source": [
    "df_parl_cadastro.to_sql(\"cadastro\",con,if_exists=\"replace\", index=False, index_label=\"CPF\")\n",
    "df_parl_bens.to_sql(\"parl_bens\",con,if_exists=\"replace\", index=False, index_label=\"CPF\")\n",
    "df_parl_votacao.to_sql(\"parl_votacao\",con,if_exists=\"replace\", index=False, index_label=\"CPF\")\n",
    "df_partidos_votacao.to_sql(\"partidos_votacao\",con,if_exists=\"replace\", index=False, index_label=\"SG_PARTIDO\")\n",
    "df_legendas_votacao.to_sql(\"legendas_votacao\",con,if_exists=\"replace\", index=False, index_label=\"SG_PARTIDO\")\n",
    "df_municipios.to_sql(\"municipios\",con,if_exists=\"replace\", index=False, index_label=\"CODIGO_IBGE\")"
   ]
  },
  {
   "cell_type": "markdown",
   "metadata": {},
   "source": [
    "### fechando base sql"
   ]
  },
  {
   "cell_type": "code",
   "execution_count": null,
   "metadata": {},
   "outputs": [],
   "source": [
    "con.close()"
   ]
  },
  {
   "cell_type": "markdown",
   "metadata": {},
   "source": [
    "# Tratando diap"
   ]
  },
  {
   "cell_type": "code",
   "execution_count": null,
   "metadata": {},
   "outputs": [],
   "source": [
    "df_diap=pd.read_csv(\"../dados/diap/politicos_diap_cpf.csv\", dtype={\"CPF\":\"object\"})\n",
    "#df_diap.info()"
   ]
  },
  {
   "cell_type": "code",
   "execution_count": null,
   "metadata": {},
   "outputs": [],
   "source": [
    "df_diap.drop(columns=[\"nome\",\"partido\",\"cargo\",\"estado\",\"profissão\"], inplace=True)\n",
    "#df_diap.info()"
   ]
  },
  {
   "cell_type": "code",
   "execution_count": null,
   "metadata": {},
   "outputs": [],
   "source": [
    "df_diap=df_diap[[\"CPF\",\"mandatos\",\"cabeças\",\"debatedor\",\"articulador\",\"formulador\",\"negociador\"]].copy()\n",
    "df_diap.head()"
   ]
  },
  {
   "cell_type": "markdown",
   "metadata": {},
   "source": [
    "### Salvando tabela"
   ]
  },
  {
   "cell_type": "code",
   "execution_count": null,
   "metadata": {},
   "outputs": [],
   "source": [
    "con = sql.connect(\"../dados/sql/base_completa.db\")\n",
    "df_diap.to_sql(\"diap\",con,if_exists=\"replace\", index=False, index_label=\"CPF\")\n",
    "con.close()"
   ]
  },
  {
   "cell_type": "markdown",
   "metadata": {},
   "source": [
    "## Exemplo de abertura de base sql e carga em dataframe"
   ]
  },
  {
   "cell_type": "code",
   "execution_count": null,
   "metadata": {},
   "outputs": [],
   "source": [
    "con = sql.connect(\"../dados/sql/base_completa.db\")"
   ]
  },
  {
   "cell_type": "code",
   "execution_count": null,
   "metadata": {},
   "outputs": [],
   "source": [
    "df=pd.read_sql(\"select * from cadastro\",con)"
   ]
  },
  {
   "cell_type": "code",
   "execution_count": null,
   "metadata": {},
   "outputs": [],
   "source": [
    "df.head()"
   ]
  },
  {
   "cell_type": "code",
   "execution_count": null,
   "metadata": {},
   "outputs": [],
   "source": [
    "df_1=pd.read_sql(\"select * from bens where cpf=274003953\",con)"
   ]
  },
  {
   "cell_type": "code",
   "execution_count": null,
   "metadata": {},
   "outputs": [],
   "source": [
    "df_1"
   ]
  },
  {
   "cell_type": "code",
   "execution_count": null,
   "metadata": {},
   "outputs": [],
   "source": [
    "con.close()"
   ]
  },
  {
   "cell_type": "markdown",
   "metadata": {},
   "source": [
    "# Para verificar o conteúdo da base por uma ferramenta externa utilize\n",
    "# https://sqlitebrowser.org/"
   ]
  },
  {
   "cell_type": "code",
   "execution_count": null,
   "metadata": {},
   "outputs": [],
   "source": []
  }
 ],
 "metadata": {
  "kernelspec": {
   "display_name": "Python 3",
   "language": "python",
   "name": "python3"
  },
  "language_info": {
   "codemirror_mode": {
    "name": "ipython",
    "version": 3
   },
   "file_extension": ".py",
   "mimetype": "text/x-python",
   "name": "python",
   "nbconvert_exporter": "python",
   "pygments_lexer": "ipython3",
   "version": "3.7.6"
  }
 },
 "nbformat": 4,
 "nbformat_minor": 4
}

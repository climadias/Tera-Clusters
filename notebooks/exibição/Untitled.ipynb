{
 "cells": [
  {
   "cell_type": "code",
   "execution_count": null,
   "metadata": {},
   "outputs": [],
   "source": [
    "df_parlamentares, df_parl_bens, df_deputados, df_gastos_gabinete = carga_parlamentares()\n",
    "df_municipios_votacao, df_municipios = carga_municipios_votacao()\n",
    "df_mapa_brasil = carga_municipios_geo()\n",
    "df_municipios, df_municipios_votacao = ajusta_colunas_rafael()\n",
    "# Carrega os dados de atuação parlamentar\n",
    "df_dep_eventos, df_dep_eventos_presenca =carga_atuacao_deputados()\n"
   ]
  }
 ],
 "metadata": {
  "kernelspec": {
   "display_name": "Python 3",
   "language": "python",
   "name": "python3"
  },
  "language_info": {
   "codemirror_mode": {
    "name": "ipython",
    "version": 3
   },
   "file_extension": ".py",
   "mimetype": "text/x-python",
   "name": "python",
   "nbconvert_exporter": "python",
   "pygments_lexer": "ipython3",
   "version": "3.7.6"
  }
 },
 "nbformat": 4,
 "nbformat_minor": 4
}

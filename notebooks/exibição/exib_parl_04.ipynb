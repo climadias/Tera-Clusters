{
 "cells": [
  {
   "cell_type": "markdown",
   "metadata": {},
   "source": [
    "# Exibição de informações dos parlamentares"
   ]
  },
  {
   "cell_type": "code",
   "execution_count": 1,
   "metadata": {},
   "outputs": [],
   "source": [
    "import pandas as pd\n",
    "import geopandas as gpd\n",
    "import matplotlib.pyplot as plt\n",
    "import numpy as np\n",
    "import sqlite3 as sql\n",
    "\n",
    "import seaborn as sns\n",
    "import csv\n",
    "import squarify \n",
    "\n",
    "import os\n",
    "\n",
    "from IPython.core.interactiveshell import InteractiveShell \n",
    "InteractiveShell.ast_node_interactivity=\"all\""
   ]
  },
  {
   "cell_type": "markdown",
   "metadata": {},
   "source": [
    "## Carga de infos básicas. "
   ]
  },
  {
   "cell_type": "code",
   "execution_count": 2,
   "metadata": {},
   "outputs": [],
   "source": [
    "#!ls ../dados/tse/ibg"
   ]
  },
  {
   "cell_type": "markdown",
   "metadata": {},
   "source": [
    "### Carga de parlamentares"
   ]
  },
  {
   "cell_type": "code",
   "execution_count": 3,
   "metadata": {},
   "outputs": [],
   "source": [
    "#Dados de parlamentares\n",
    "con = sql.connect(\"../dados/sql/base_completa.db\")\n",
    "df_parlamentares=pd.read_sql(\"select * from cadastro\",con)\n",
    "con.close()"
   ]
  },
  {
   "cell_type": "code",
   "execution_count": 4,
   "metadata": {},
   "outputs": [
    {
     "name": "stdout",
     "output_type": "stream",
     "text": [
      "<class 'pandas.core.frame.DataFrame'>\n",
      "RangeIndex: 592 entries, 0 to 591\n",
      "Data columns (total 19 columns):\n",
      " #   Column                   Non-Null Count  Dtype  \n",
      "---  ------                   --------------  -----  \n",
      " 0   CPF                      592 non-null    object \n",
      " 1   NM_CANDIDATO             592 non-null    object \n",
      " 2   DT_NASCIMENTO            592 non-null    object \n",
      " 3   SG_UF_NASCIMENTO         592 non-null    object \n",
      " 4   NM_MUNICIPIO_NASCIMENTO  592 non-null    object \n",
      " 5   DS_GENERO                592 non-null    object \n",
      " 6   DS_GRAU_INSTRUCAO        592 non-null    object \n",
      " 7   DS_ESTADO_CIVIL          592 non-null    object \n",
      " 8   DS_COR_RACA              592 non-null    object \n",
      " 9   DS_OCUPACAO              592 non-null    object \n",
      " 10  VL_BENS                  592 non-null    float64\n",
      " 11  ANO_ELEICAO              592 non-null    int64  \n",
      " 12  DS_CARGO                 592 non-null    object \n",
      " 13  SG_PARTIDO               592 non-null    object \n",
      " 14  SG_UE                    592 non-null    object \n",
      " 15  SQ_CANDIDATO             592 non-null    int64  \n",
      " 16  NM_URNA_CANDIDATO        592 non-null    object \n",
      " 17  NR_IDADE_DATA_POSSE      592 non-null    float64\n",
      " 18  NM_EMAIL                 592 non-null    object \n",
      "dtypes: float64(2), int64(2), object(15)\n",
      "memory usage: 88.0+ KB\n"
     ]
    }
   ],
   "source": [
    "df_parlamentares.info()"
   ]
  },
  {
   "cell_type": "markdown",
   "metadata": {},
   "source": [
    "## Carga de municipios e votação"
   ]
  },
  {
   "cell_type": "code",
   "execution_count": 5,
   "metadata": {},
   "outputs": [],
   "source": [
    "#Dados de municípios\n",
    "con = sql.connect(\"../dados/sql/base_completa.db\")\n",
    "df_municipios_votacao=pd.read_sql(\"select * from parl_votacao\",con)\n",
    "df_municipios=pd.read_sql(\"select * from municipios\",con)\n",
    "con.close()"
   ]
  },
  {
   "cell_type": "code",
   "execution_count": 6,
   "metadata": {},
   "outputs": [
    {
     "name": "stdout",
     "output_type": "stream",
     "text": [
      "<class 'pandas.core.frame.DataFrame'>\n",
      "RangeIndex: 191313 entries, 0 to 191312\n",
      "Data columns (total 6 columns):\n",
      " #   Column           Non-Null Count   Dtype  \n",
      "---  ------           --------------   -----  \n",
      " 0   CPF              191313 non-null  object \n",
      " 1   SG_UF            191313 non-null  object \n",
      " 2   CD_MUNICIPIO     191313 non-null  int64  \n",
      " 3   VOTOS_TOTAL_MUN  191313 non-null  int64  \n",
      " 4   CODIGO_IBGE      190671 non-null  float64\n",
      " 5   PERC_VOTOS       191313 non-null  float64\n",
      "dtypes: float64(2), int64(2), object(2)\n",
      "memory usage: 8.8+ MB\n",
      "<class 'pandas.core.frame.DataFrame'>\n",
      "RangeIndex: 5570 entries, 0 to 5569\n",
      "Data columns (total 7 columns):\n",
      " #   Column            Non-Null Count  Dtype  \n",
      "---  ------            --------------  -----  \n",
      " 0   CODIGO_IBGE       5546 non-null   float64\n",
      " 1   SG_UF             5570 non-null   object \n",
      " 2   NM_MUNICIPIO      5570 non-null   object \n",
      " 3   IDHM_2010         5546 non-null   float64\n",
      " 4   IDHM_RENDA_2010   5546 non-null   float64\n",
      " 5   IDHM_LONGEV_2010  5546 non-null   float64\n",
      " 6   IDHM_EDUC_2010    5546 non-null   float64\n",
      "dtypes: float64(5), object(2)\n",
      "memory usage: 304.7+ KB\n"
     ]
    }
   ],
   "source": [
    "#df_municipios.columns[18]\n",
    "#df_municipios.head()\n",
    "df_municipios_votacao.info()\n",
    "df_municipios.info()"
   ]
  },
  {
   "cell_type": "markdown",
   "metadata": {},
   "source": [
    "## Carga de informações geograficas dos municípios"
   ]
  },
  {
   "cell_type": "code",
   "execution_count": 7,
   "metadata": {},
   "outputs": [],
   "source": [
    "# informação geográfica dos municípios\n",
    "lista_uf=list(df_municipios_votacao[\"SG_UF\"].unique())\n",
    "df_mapa_brasil=pd.DataFrame()"
   ]
  },
  {
   "cell_type": "code",
   "execution_count": 8,
   "metadata": {},
   "outputs": [],
   "source": [
    "for uf in lista_uf:\n",
    "    diretorio=\"../dados/ibge/shapes/\"+uf\n",
    "    arquivos=os.listdir(diretorio)\n",
    "    shapefile = [arq for arq in arquivos if \".shp\" in arq][0]\n",
    "    arq=diretorio+\"/\"+shapefile\n",
    "    df_uf= gpd.read_file(arq)\n",
    "    df_uf[\"SG_UF\"]=uf\n",
    "    df_mapa_brasil=pd.concat([df_mapa_brasil,df_uf])\n",
    "    "
   ]
  },
  {
   "cell_type": "code",
   "execution_count": 9,
   "metadata": {},
   "outputs": [],
   "source": [
    "#df_mapa_brasil.info()"
   ]
  },
  {
   "cell_type": "code",
   "execution_count": 10,
   "metadata": {},
   "outputs": [],
   "source": [
    "df_mapa_brasil=df_mapa_brasil.astype({\"CD_GEOCODM\":\"float64\"})\n",
    "df_mapa_brasil.rename(columns={\"CD_GEOCODM\":\"CODIGO_IBGE\"}, inplace=True)\n",
    "#df_mapa_brasil.info()"
   ]
  },
  {
   "cell_type": "code",
   "execution_count": 11,
   "metadata": {},
   "outputs": [],
   "source": [
    "#df_mapa_brasil.head()\n",
    "#df_mapa_brasil.to_csv(\"../dados/ibge/mapa_brasil.csv\")"
   ]
  },
  {
   "cell_type": "raw",
   "metadata": {},
   "source": [
    "ax = df_mapa_brasil[df_mapa_brasil[\"SG_UF\"] == 'RJ'].plot(color='black', edgecolor='black')\n",
    "df_mapa_brasil.plot(ax=ax)\n",
    "plt.show()"
   ]
  },
  {
   "cell_type": "markdown",
   "metadata": {},
   "source": [
    "# Funções de exibição"
   ]
  },
  {
   "cell_type": "code",
   "execution_count": 12,
   "metadata": {},
   "outputs": [],
   "source": [
    "# Plot estado e municipios com indicador\n",
    "def plot_estado(estado,indicador,titulo, minimo,maximo, cor):\n",
    "    vmin=minimo\n",
    "    vmax=maximo\n",
    "    fig, ax = plt.subplots(figsize=(12,8))\n",
    "    estado.plot(ax=ax, column=indicador, cmap=cor, edgecolor=\"black\", linewidth=0.2)\n",
    "    sm = plt.cm.ScalarMappable(cmap=cor, norm=plt.Normalize(vmin=vmax, vmax=vmin))\n",
    "    sm._A = []\n",
    "    cbar = fig.colorbar(sm)\n",
    "    plt.title(titulo, fontsize=40, color=\"grey\")\n",
    "    ax.axis('off')\n",
    "    plt.axis(\"equal\")\n",
    "    plt.show()\n",
    "    return"
   ]
  },
  {
   "cell_type": "code",
   "execution_count": 13,
   "metadata": {},
   "outputs": [],
   "source": [
    "def plot_treemap(estado,indicador,titulo, minimo,maximo, cor):\n",
    "    estado[\"NOME_IDH\"]=estado[\"NM_MUNICIPIO\"]+\"\\n IDH - \"+estado[\"IDHM_2010\"].round(6).astype(str)+\"\\n Votos - \"+(estado[\"PERC_VOTOS\"]*100).round(2).astype(str)+\"%\"\n",
    "    vmin=maximo\n",
    "    vmax=minimo\n",
    "    cmap = plt.cm.RdBu\n",
    "    norm = plt.Normalize(vmin=vmax, vmax=vmin)\n",
    "    colors = [cmap(norm(value)) for value in estado[indicador]]\n",
    "    fig, ax = plt.subplots(figsize=(16,12))\n",
    "    sm = plt.cm.ScalarMappable(cmap=cor, norm=plt.Normalize(vmin=vmax, vmax=vmin))\n",
    "    sm._A = []\n",
    "    cbar = fig.colorbar(sm)\n",
    "    plt.title(titulo, fontsize=40, color=\"grey\")\n",
    "    ax.axis('off')\n",
    "    plt.axis(\"equal\")\n",
    "    squarify.plot(ax=ax, sizes=estado['VOTOS_TOTAL_MUN'][0:20], \n",
    "                  label=estado['NOME_IDH'][0:20], \n",
    "                  color=colors[0:20],\n",
    "                  alpha=.8 )\n",
    "    "
   ]
  },
  {
   "cell_type": "raw",
   "metadata": {},
   "source": [
    "Exibir\n",
    "+NM_URNA_CANDIDATO\n",
    "+NM_CANDIDATO\n",
    "+DT_NASCIMENTO\n",
    "+DS_COR_RACA\n",
    "+DS_GRAU_INSTRUCAO\n",
    "+DS_OCUPACAO\n",
    "+VR_BEM_CANDIDATO\n",
    "+ FOTO!!!\n",
    "\n",
    "PASSAR CUSTOS DE CAMPANHA PARA RAFAEL"
   ]
  },
  {
   "cell_type": "code",
   "execution_count": 14,
   "metadata": {},
   "outputs": [],
   "source": [
    "def exibe_cadastro(cpf):\n",
    "    df_parlamentar=df_parlamentares[df_parlamentares[\"CPF\"]==cpf]\n",
    "    valor_bens=df_parlamentar[\"VL_BENS\"]\n",
    "    campos=[\"NM_URNA_CANDIDATO\",\"NM_CANDIDATO\",\"DT_NASCIMENTO\",\"DS_COR_RACA\",\n",
    "            \"DS_GRAU_INSTRUCAO\",\"DS_OCUPACAO\"]\n",
    "    parlamentar=df_parlamentar[campos].to_dict(orient=\"records\")[0]\n",
    "    parlamentar[\"BENS\"]=valor_bens.round(2)\n",
    "    print(parlamentar)\n",
    "    return\n"
   ]
  },
  {
   "cell_type": "code",
   "execution_count": 15,
   "metadata": {},
   "outputs": [],
   "source": [
    "def exibe_votacao_estado(cpf, cpf_votacao):\n",
    "    uf=cpf_votacao[\"SG_UF\"].iloc[0]\n",
    "    nome=cpf[\"NM_URNA_CANDIDATO\"].iloc[0]\n",
    "    cpf_municipios=df_mapa_brasil[df_mapa_brasil[\"SG_UF\"]==uf]\n",
    "    cpf_municipios=pd.merge(cpf_municipios,cpf_votacao, how=\"left\", on=\"CODIGO_IBGE\")\n",
    "    cpf_municipios=pd.merge(cpf_municipios,df_municipios, how=\"left\", on=\"CODIGO_IBGE\")\n",
    "    cpf_municipios=cpf_municipios.sort_values('VOTOS_TOTAL_MUN', ascending=False)\n",
    "    indicador=indicador=\"IDHM_2010\"\n",
    "    print(cpf_municipios.columns)\n",
    "    titulo=uf+\" - \"+\"IDHM Municípios\"\n",
    "    minimo=0\n",
    "    maximo=1\n",
    "    cor=\"RdBu\"\n",
    "    plot_estado(cpf_municipios, indicador, titulo, minimo ,maximo, cor)\n",
    "    indicador=\"VOTOS_TOTAL_MUN\"\n",
    "    titulo=nome+\" - \"+\"Votos por município\"\n",
    "    minimo=0\n",
    "    maximo=cpf_municipios[indicador].max()\n",
    "    cor=\"Blues\"\n",
    "    plot_estado(cpf_municipios, indicador, titulo, minimo ,maximo, cor)\n",
    "    indicador=indicador=\"IDHM_2010\"\n",
    "    titulo=nome+\" - \"+\"IDHM e Votos por município\"\n",
    "    minimo=0\n",
    "    maximo=1\n",
    "    cor=\"RdBu\"\n",
    "    plot_treemap(cpf_municipios, indicador, titulo, minimo ,maximo, cor)\n",
    "    return"
   ]
  },
  {
   "cell_type": "markdown",
   "metadata": {},
   "source": [
    "# Escolhe randomicamente um CPF e chama as funções"
   ]
  },
  {
   "cell_type": "code",
   "execution_count": 40,
   "metadata": {},
   "outputs": [
    {
     "data": {
      "text/plain": [
       "array(['MT', 'SP', 'DF', 'PR', 'GO', 'RJ', 'PE', 'AP', 'SC', 'ES', 'RO',\n",
       "       'AM', 'CE', 'AL', 'RN', 'PI', 'AC', 'SE', 'TO', 'MS', 'MA', 'RR',\n",
       "       'PA', 'BA', 'PB', 'RS', 'MG'], dtype=object)"
      ]
     },
     "execution_count": 40,
     "metadata": {},
     "output_type": "execute_result"
    },
    {
     "data": {
      "text/plain": [
       "['MT',\n",
       " 'SP',\n",
       " 'DF',\n",
       " 'PR',\n",
       " 'GO',\n",
       " 'RJ',\n",
       " 'PE',\n",
       " 'AP',\n",
       " 'SC',\n",
       " 'ES',\n",
       " 'RO',\n",
       " 'AM',\n",
       " 'CE',\n",
       " 'AL',\n",
       " 'RN',\n",
       " 'PI',\n",
       " 'AC',\n",
       " 'SE',\n",
       " 'TO',\n",
       " 'MS',\n",
       " 'MA',\n",
       " 'RR',\n",
       " 'PA',\n",
       " 'BA',\n",
       " 'PB',\n",
       " 'RS',\n",
       " 'MG']"
      ]
     },
     "execution_count": 40,
     "metadata": {},
     "output_type": "execute_result"
    },
    {
     "data": {
      "text/plain": [
       "['AC',\n",
       " 'AL',\n",
       " 'AM',\n",
       " 'AP',\n",
       " 'BA',\n",
       " 'CE',\n",
       " 'DF',\n",
       " 'ES',\n",
       " 'GO',\n",
       " 'MA',\n",
       " 'MG',\n",
       " 'MS',\n",
       " 'MT',\n",
       " 'PA',\n",
       " 'PB',\n",
       " 'PE',\n",
       " 'PI',\n",
       " 'PR',\n",
       " 'RJ',\n",
       " 'RN',\n",
       " 'RO',\n",
       " 'RR',\n",
       " 'RS',\n",
       " 'SC',\n",
       " 'SE',\n",
       " 'SP',\n",
       " 'TO']"
      ]
     },
     "execution_count": 40,
     "metadata": {},
     "output_type": "execute_result"
    }
   ],
   "source": [
    "lista_1=df_parlamentares[\"SG_UE\"].unique()\n",
    "lista_1\n",
    "lista_2=list(lista_1)\n",
    "lista_2\n",
    "lista_3=sorted(lista_2)\n",
    "lista_3"
   ]
  },
  {
   "cell_type": "code",
   "execution_count": null,
   "metadata": {},
   "outputs": [],
   "source": [
    "cpf=df_parlamentares[\"CPF\"].sample(n=1).iloc[0]\n",
    "cpf\n",
    "df_cpf_votacao=df_municipios_votacao[df_municipios_votacao[\"CPF\"]==cpf]\n",
    "df_cpf=df_parlamentares[df_parlamentares[\"CPF\"]==cpf]\n",
    "exibe_cadastro(cpf)\n",
    "exibe_votacao_estado(df_cpf, df_cpf_votacao)"
   ]
  },
  {
   "cell_type": "code",
   "execution_count": null,
   "metadata": {},
   "outputs": [],
   "source": [
    "#df['Volume'] = df.Length*df.Height*df.Depth\n",
    "#df.assign(Area=lambda df: df.Length*df.Height)\n",
    "#f[\"period\"] = df[\"Year\"] + df[\"quarter\"]\n",
    "df_cpf_votacao.head()\n",
    "x=pd.DataFrame()\n",
    "df_cpf_votacao[\"CD_PERC\"]=df_cpf_votacao[\"SG_UF\"]+df_cpf_votacao[\"PERC_VOTOS\"].round(6).astype(str)\n",
    "#+str(df_cpf_votacao[\"PERC_VOTOS\"])\n",
    "df_cpf_votacao.head()"
   ]
  },
  {
   "cell_type": "code",
   "execution_count": null,
   "metadata": {},
   "outputs": [],
   "source": [
    "df_cpf\n",
    "df_cpf_votacao.head()"
   ]
  },
  {
   "cell_type": "code",
   "execution_count": null,
   "metadata": {},
   "outputs": [],
   "source": [
    "df_parlamentares.columns"
   ]
  },
  {
   "cell_type": "code",
   "execution_count": null,
   "metadata": {},
   "outputs": [],
   "source": [
    "df_cpf_municipios.columns\n",
    "df_municipios=df_cpf_municipios.sort_values(\"NM_MUNICIPIO\").head()\n",
    "df_cpf_municipios.shape"
   ]
  },
  {
   "cell_type": "code",
   "execution_count": null,
   "metadata": {},
   "outputs": [],
   "source": [
    "df_cpf_votacao=df_cpf_municipios[[\"NM_MUNICIP\",\"QT_VOTOS_NOMINAIS\"]].sort_values(\"QT_VOTOS_NOMINAIS\", \n",
    "                                                                                 ascending=False)"
   ]
  },
  {
   "cell_type": "code",
   "execution_count": null,
   "metadata": {},
   "outputs": [],
   "source": [
    "df_cpf_votacao.head(10)\n",
    "df_cpf_votacao.shape"
   ]
  },
  {
   "cell_type": "code",
   "execution_count": null,
   "metadata": {},
   "outputs": [],
   "source": [
    "total=df_cpf_votacao[\"QT_VOTOS_NOMINAIS\"].sum()\n",
    "df_cpf_votacao[\"PERCENT\"]=df_cpf_votacao[\"QT_VOTOS_NOMINAIS\"]/total"
   ]
  },
  {
   "cell_type": "code",
   "execution_count": null,
   "metadata": {},
   "outputs": [],
   "source": [
    "df_cpf_votacao.head()\n",
    "df_cpf_votacao.shape\n",
    "total"
   ]
  },
  {
   "cell_type": "code",
   "execution_count": null,
   "metadata": {},
   "outputs": [],
   "source": [
    "import streamlit as st"
   ]
  },
  {
   "cell_type": "code",
   "execution_count": null,
   "metadata": {},
   "outputs": [],
   "source": [
    "# libraries\n",
    "import matplotlib.pyplot as plt\n",
    "import squarify    # pip install squarify (algorithm for treemap)\n",
    " \n",
    "# If you have 2 lists\n",
    "squarify.plot(sizes=[13,22,35,5], label=[\"group A\", \"group B\", \"group C\", \"group D\"], alpha=.7 )\n",
    "plt.axis('off')\n",
    "plt.show()\n",
    " \n",
    "# If you have a data frame?\n",
    "import pandas as pd\n",
    "df = pd.DataFrame({'nb_people':[8,3,4,2], 'group':[\"group A\", \"group B\", \"group C\", \"group D\"] })\n",
    "squarify.plot(sizes=df['nb_people'], label=df['MUNICIPIO'], alpha=.8 )\n",
    "plt.axis('off')\n",
    "plt.show() "
   ]
  },
  {
   "cell_type": "code",
   "execution_count": null,
   "metadata": {},
   "outputs": [],
   "source": [
    "#libraries\n",
    "import matplotlib\n",
    "import matplotlib.pyplot as plt\n",
    "import pandas as pd\n",
    "import squarify # pip install squarify (algorithm for treemap)&lt;/pre&gt;\n",
    " \n",
    "# Create a dataset:\n",
    "my_values=[i**3 for i in range(1,100)]\n",
    " \n",
    "# create a color palette, mapped to these values\n",
    "cmap = matplotlib.cm.Blues\n",
    "mini=min(my_values)\n",
    "maxi=max(my_values)\n",
    "norm = matplotlib.colors.Normalize(vmin=mini, vmax=maxi)\n",
    "colors = [cmap(norm(value)) for value in my_values]\n",
    " \n",
    "# Change color\n",
    "squarify.plot(sizes=my_values, alpha=.8, color=colors )\n",
    "plt.axis('off')\n",
    "plt.show()"
   ]
  }
 ],
 "metadata": {
  "kernelspec": {
   "display_name": "Python 3",
   "language": "python",
   "name": "python3"
  },
  "language_info": {
   "codemirror_mode": {
    "name": "ipython",
    "version": 3
   },
   "file_extension": ".py",
   "mimetype": "text/x-python",
   "name": "python",
   "nbconvert_exporter": "python",
   "pygments_lexer": "ipython3",
   "version": "3.7.6"
  }
 },
 "nbformat": 4,
 "nbformat_minor": 4
}

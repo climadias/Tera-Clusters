{
 "cells": [
  {
   "cell_type": "markdown",
   "metadata": {},
   "source": [
    "# Exibição de informações dos parlamentares"
   ]
  },
  {
   "cell_type": "code",
   "execution_count": null,
   "metadata": {},
   "outputs": [],
   "source": [
    "import pandas as pd\n",
    "import geopandas as gpd\n",
    "import matplotlib.pyplot as plt\n",
    "import numpy as np\n",
    "import sqlite3 as sql\n",
    "import plotly.express as px\n",
    "\n",
    "import seaborn as sns\n",
    "import csv\n",
    "import squarify \n",
    "\n",
    "import plotly.express as px\n",
    "import plotly.offline as pyo\n",
    "\n",
    "pyo.init_notebook_mode()\n",
    "\n",
    "import os\n",
    "\n",
    "from IPython.core.interactiveshell import InteractiveShell \n",
    "InteractiveShell.ast_node_interactivity=\"all\""
   ]
  },
  {
   "cell_type": "markdown",
   "metadata": {},
   "source": [
    "## Carga de infos básicas. "
   ]
  },
  {
   "cell_type": "code",
   "execution_count": null,
   "metadata": {},
   "outputs": [],
   "source": [
    "#!ls ../dados/tse/ibg"
   ]
  },
  {
   "cell_type": "markdown",
   "metadata": {},
   "source": [
    "### Carga de parlamentares"
   ]
  },
  {
   "cell_type": "code",
   "execution_count": null,
   "metadata": {},
   "outputs": [],
   "source": [
    "#Dados de parlamentares\n",
    "con = sql.connect(\"../dados/sql/base_completa.db\")\n",
    "df_parlamentares=pd.read_sql(\"select * from cadastro\",con)\n",
    "con.close()"
   ]
  },
  {
   "cell_type": "code",
   "execution_count": null,
   "metadata": {},
   "outputs": [],
   "source": [
    "df_parlamentares.info()"
   ]
  },
  {
   "cell_type": "markdown",
   "metadata": {},
   "source": [
    "## Carga de municipios e votação"
   ]
  },
  {
   "cell_type": "code",
   "execution_count": null,
   "metadata": {},
   "outputs": [],
   "source": [
    "#Dados de municípios\n",
    "con = sql.connect(\"../dados/sql/base_completa.db\")\n",
    "df_municipios_votacao=pd.read_sql(\"select * from parl_votacao\",con)\n",
    "df_municipios=pd.read_sql(\"select * from municipios\",con)\n",
    "con.close()"
   ]
  },
  {
   "cell_type": "code",
   "execution_count": null,
   "metadata": {},
   "outputs": [],
   "source": [
    "#df_municipios.columns[18]\n",
    "#df_municipios.head()\n",
    "df_municipios_votacao.info()\n",
    "df_municipios.info()"
   ]
  },
  {
   "cell_type": "markdown",
   "metadata": {},
   "source": [
    "## Carga de informações geograficas dos municípios"
   ]
  },
  {
   "cell_type": "code",
   "execution_count": null,
   "metadata": {},
   "outputs": [],
   "source": [
    "# informação geográfica dos municípios\n",
    "lista_uf=list(df_municipios_votacao[\"SG_UF\"].unique())\n",
    "df_mapa_brasil=pd.DataFrame()"
   ]
  },
  {
   "cell_type": "code",
   "execution_count": null,
   "metadata": {},
   "outputs": [],
   "source": [
    "for uf in lista_uf:\n",
    "    diretorio=\"../dados/ibge/shapes/\"+uf\n",
    "    arquivos=os.listdir(diretorio)\n",
    "    shapefile = [arq for arq in arquivos if \".shp\" in arq][0]\n",
    "    arq=diretorio+\"/\"+shapefile\n",
    "    df_uf= gpd.read_file(arq)\n",
    "    df_uf[\"SG_UF\"]=uf\n",
    "    df_mapa_brasil=pd.concat([df_mapa_brasil,df_uf])\n",
    "    "
   ]
  },
  {
   "cell_type": "code",
   "execution_count": null,
   "metadata": {},
   "outputs": [],
   "source": [
    "#df_mapa_brasil.info()"
   ]
  },
  {
   "cell_type": "code",
   "execution_count": null,
   "metadata": {},
   "outputs": [],
   "source": [
    "df_mapa_brasil=df_mapa_brasil.astype({\"CD_GEOCODM\":\"float64\"})\n",
    "df_mapa_brasil.rename(columns={\"CD_GEOCODM\":\"CODIGO_IBGE\"}, inplace=True)\n",
    "#df_mapa_brasil.info()"
   ]
  },
  {
   "cell_type": "code",
   "execution_count": null,
   "metadata": {},
   "outputs": [],
   "source": [
    "#df_mapa_brasil.head()\n",
    "#df_mapa_brasil.to_csv(\"../dados/ibge/mapa_brasil.csv\")"
   ]
  },
  {
   "cell_type": "raw",
   "metadata": {},
   "source": [
    "ax = df_mapa_brasil[df_mapa_brasil[\"SG_UF\"] == 'RJ'].plot(color='black', edgecolor='black')\n",
    "df_mapa_brasil.plot(ax=ax)\n",
    "plt.show()"
   ]
  },
  {
   "cell_type": "markdown",
   "metadata": {},
   "source": [
    "# Funções de exibição"
   ]
  },
  {
   "cell_type": "code",
   "execution_count": null,
   "metadata": {},
   "outputs": [],
   "source": [
    "# Plot estado e municipios com indicador\n",
    "def plot_estado(estado,indicador,titulo, minimo,maximo, cor):\n",
    "    vmin=minimo\n",
    "    vmax=maximo\n",
    "    fig, ax = plt.subplots(figsize=(12,8))\n",
    "    estado.plot(ax=ax, column=indicador, cmap=cor, edgecolor=\"black\", linewidth=0.2)\n",
    "    sm = plt.cm.ScalarMappable(cmap=cor, norm=plt.Normalize(vmin=vmax, vmax=vmin))\n",
    "    sm._A = []\n",
    "    cbar = fig.colorbar(sm)\n",
    "    plt.title(titulo, fontsize=40, color=\"grey\")\n",
    "    ax.axis('off')\n",
    "    plt.axis(\"equal\")\n",
    "    plt.show()\n",
    "    return"
   ]
  },
  {
   "cell_type": "code",
   "execution_count": null,
   "metadata": {},
   "outputs": [],
   "source": [
    "def plot_treemap(estado,indicador,titulo, minimo,maximo, cor):\n",
    "    estado[\"NOME_IDH\"]=estado[\"NM_MUNICIPIO\"]+\"\\n IDH - \"+estado[\"IDHM_2010\"].round(6).astype(str)+\"\\n Votos - \"+(estado[\"PERC_VOTOS\"]*100).round(2).astype(str)+\"%\"\n",
    "    vmin=maximo\n",
    "    vmax=minimo\n",
    "    cmap = plt.cm.RdBu\n",
    "    norm = plt.Normalize(vmin=vmax, vmax=vmin)\n",
    "    colors = [cmap(norm(value)) for value in estado[indicador]]\n",
    "    fig, ax = plt.subplots(figsize=(16,12))\n",
    "    sm = plt.cm.ScalarMappable(cmap=cor, norm=plt.Normalize(vmin=vmax, vmax=vmin))\n",
    "    sm._A = []\n",
    "    cbar = fig.colorbar(sm)\n",
    "    plt.title(titulo, fontsize=40, color=\"grey\")\n",
    "    ax.axis('off')\n",
    "    plt.axis(\"equal\")\n",
    "    squarify.plot(ax=ax, sizes=estado['VOTOS_TOTAL_MUN'][0:20], \n",
    "                  label=estado['NOME_IDH'][0:20], \n",
    "                  color=colors[0:20],\n",
    "                  alpha=.8 )\n",
    "    "
   ]
  },
  {
   "cell_type": "code",
   "execution_count": null,
   "metadata": {},
   "outputs": [],
   "source": [
    "def plot_px_treemap(estado,indicador,titulo, minimo,maximo, cor):\n",
    "    estado[\"NOME_IDH\"]=estado[\"NM_MUNICIPIO\"]+\"\\n IDH - \"+estado[\"IDHM_2010\"].round(6).astype(str)+\"\\n Votos - \"+(estado[\"PERC_VOTOS\"]*100).round(2).astype(str)+\"%\"\n",
    "    vmin=maximo\n",
    "    vmax=minimo\n",
    "    estado=estado[estado[\"VOTOS_TOTAL_MUN\"]>0]\n",
    "    fig = px.treemap(estado, path=['SG_UF', 'NM_MUNICIPIO'], values='VOTOS_TOTAL_MUN',\n",
    "                  color='IDHM_2010', hover_data=['PERC_VOTOS'],\n",
    "                  color_continuous_scale='RdBu',\n",
    "                  range_color=[0,1],\n",
    "                  title=titulo)\n",
    "    fig.show()\n",
    "    return"
   ]
  },
  {
   "cell_type": "code",
   "execution_count": null,
   "metadata": {},
   "outputs": [],
   "source": [
    "def exibe_cadastro(cpf):\n",
    "    df_parlamentar=df_parlamentares[df_parlamentares[\"CPF\"]==cpf]\n",
    "    valor_bens=df_parlamentar[\"VL_BENS\"]\n",
    "    campos=[\"NM_URNA_CANDIDATO\",\"NM_CANDIDATO\",\"DT_NASCIMENTO\",\"DS_COR_RACA\",\n",
    "            \"DS_GRAU_INSTRUCAO\",\"DS_OCUPACAO\"]\n",
    "    parlamentar=df_parlamentar[campos].to_dict(orient=\"records\")[0]\n",
    "    parlamentar[\"BENS\"]=valor_bens.round(2)\n",
    "    print(parlamentar)\n",
    "    return\n"
   ]
  },
  {
   "cell_type": "code",
   "execution_count": null,
   "metadata": {},
   "outputs": [],
   "source": [
    "def exibe_votacao_estado(cpf, cpf_votacao):\n",
    "    uf=cpf_votacao[\"SG_UF\"].iloc[0]\n",
    "    nome=cpf[\"NM_URNA_CANDIDATO\"].iloc[0]\n",
    "    cpf_municipios=df_mapa_brasil[df_mapa_brasil[\"SG_UF\"]==uf]\n",
    "    cpf_municipios=pd.merge(cpf_municipios,cpf_votacao, how=\"left\", on=\"CODIGO_IBGE\")\n",
    "    cpf_municipios=pd.merge(cpf_municipios,df_municipios, how=\"left\", on=\"CODIGO_IBGE\")\n",
    "    cpf_municipios=cpf_municipios.sort_values('VOTOS_TOTAL_MUN', ascending=False)\n",
    "    indicador=indicador=\"IDHM_2010\"\n",
    "    print(cpf_municipios.columns)\n",
    "    titulo=uf+\" - \"+\"IDHM Municípios\"\n",
    "    minimo=0\n",
    "    maximo=1\n",
    "    cor=\"RdBu\"\n",
    "    plot_estado(cpf_municipios, indicador, titulo, minimo ,maximo, cor)\n",
    "    indicador=\"VOTOS_TOTAL_MUN\"\n",
    "    titulo=nome+\" - \"+\"Votos por município\"\n",
    "    minimo=0\n",
    "    maximo=cpf_municipios[indicador].max()\n",
    "    cor=\"Blues\"\n",
    "    plot_estado(cpf_municipios, indicador, titulo, minimo ,maximo, cor)\n",
    "    indicador=indicador=\"IDHM_2010\"\n",
    "    titulo=nome+\" - \"+\"IDHM e Votos por município\"\n",
    "    minimo=0\n",
    "    maximo=1\n",
    "    cor=\"RdBu\"\n",
    "    #plot_treemap(cpf_municipios, indicador, titulo, minimo ,maximo, cor)\n",
    "    plot_px_treemap(cpf_municipios, indicador, titulo, minimo ,maximo, cor)\n",
    "    return"
   ]
  },
  {
   "cell_type": "markdown",
   "metadata": {},
   "source": [
    "# Escolhe randomicamente um CPF e chama as funções"
   ]
  },
  {
   "cell_type": "code",
   "execution_count": null,
   "metadata": {},
   "outputs": [],
   "source": [
    "cpf=df_parlamentares[\"CPF\"].sample(n=1).iloc[0]\n",
    "cpf\n",
    "df_cpf_votacao=df_municipios_votacao[df_municipios_votacao[\"CPF\"]==cpf]\n",
    "df_cpf=df_parlamentares[df_parlamentares[\"CPF\"]==cpf]\n",
    "exibe_cadastro(cpf)\n",
    "exibe_votacao_estado(df_cpf, df_cpf_votacao)"
   ]
  },
  {
   "cell_type": "code",
   "execution_count": null,
   "metadata": {},
   "outputs": [],
   "source": [
    "nome=\"ALUISIO GUIMARAES MENDES FILHO\"\n",
    "#nome=\"FRANCISCO PLINIO VALERIO TOMAZ\"\n",
    "cpf=df_parlamentares[df_parlamentares[\"NM_CANDIDATO\"]==nome][\"CPF\"].iloc[0]\n",
    "cpf\n",
    "df_cpf_votacao=df_municipios_votacao[df_municipios_votacao[\"CPF\"]==cpf]\n",
    "df_cpf=df_parlamentares[df_parlamentares[\"CPF\"]==cpf]\n",
    "exibe_cadastro(cpf)\n",
    "exibe_votacao_estado(df_cpf, df_cpf_votacao)"
   ]
  },
  {
   "cell_type": "code",
   "execution_count": null,
   "metadata": {},
   "outputs": [],
   "source": [
    "df_cpf_votacao.info()\n",
    "df_cpf_votacao.head()\n",
    "df_cpf_votacao. describe()"
   ]
  },
  {
   "cell_type": "code",
   "execution_count": null,
   "metadata": {},
   "outputs": [],
   "source": [
    "df_cpf"
   ]
  },
  {
   "cell_type": "code",
   "execution_count": null,
   "metadata": {},
   "outputs": [],
   "source": [
    "df_teste=pd.DataFrame({\"Estado\":[\"RJ\",\"RJ\",\"RJ\"], \"Mun\":[\"Rio\",\"Niteroi\",\"Campos\"],\n",
    "                      \"Pop\":[20,10,0]})"
   ]
  },
  {
   "cell_type": "code",
   "execution_count": null,
   "metadata": {},
   "outputs": [],
   "source": [
    "df_teste"
   ]
  },
  {
   "cell_type": "code",
   "execution_count": null,
   "metadata": {},
   "outputs": [],
   "source": [
    "x=df_teste[df_teste[\"Pop\"]>0]\n",
    "x"
   ]
  },
  {
   "cell_type": "code",
   "execution_count": null,
   "metadata": {},
   "outputs": [],
   "source": [
    "fig = px.treemap(df_teste, path=['Estado', 'Mun'], values='Pop',\n",
    "                  color='Pop', hover_data=['Mun'],\n",
    "                  color_continuous_scale='RdBu',\n",
    "                      range_color=[0,20],\n",
    "                     title=\"Teste\")\n",
    "fig.show()"
   ]
  },
  {
   "cell_type": "code",
   "execution_count": null,
   "metadata": {},
   "outputs": [],
   "source": []
  }
 ],
 "metadata": {
  "kernelspec": {
   "display_name": "Python 3",
   "language": "python",
   "name": "python3"
  },
  "language_info": {
   "codemirror_mode": {
    "name": "ipython",
    "version": 3
   },
   "file_extension": ".py",
   "mimetype": "text/x-python",
   "name": "python",
   "nbconvert_exporter": "python",
   "pygments_lexer": "ipython3",
   "version": "3.7.6"
  }
 },
 "nbformat": 4,
 "nbformat_minor": 4
}

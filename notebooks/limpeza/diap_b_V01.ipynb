{
 "cells": [
  {
   "cell_type": "markdown",
   "metadata": {},
   "source": [
    "# Ajuste de CPF diap"
   ]
  },
  {
   "cell_type": "code",
   "execution_count": 23,
   "metadata": {},
   "outputs": [],
   "source": [
    "import pandas as pd\n",
    "import geopandas as gpd\n",
    "import matplotlib.pyplot as plt\n",
    "import numpy as np\n",
    "import sqlite3 as sql\n",
    "import seaborn as sns\n",
    "import csv\n",
    "import squarify \n",
    "from unidecode import unidecode\n",
    "\n",
    "import os\n",
    "\n",
    "from IPython.core.interactiveshell import InteractiveShell \n",
    "InteractiveShell.ast_node_interactivity=\"all\""
   ]
  },
  {
   "cell_type": "markdown",
   "metadata": {},
   "source": [
    "# Recuperando cadastro parlamentares do sql"
   ]
  },
  {
   "cell_type": "code",
   "execution_count": 24,
   "metadata": {},
   "outputs": [],
   "source": [
    "con = sql.connect(\"../dados/sql/base_completa.db\")"
   ]
  },
  {
   "cell_type": "code",
   "execution_count": 25,
   "metadata": {},
   "outputs": [],
   "source": [
    "df=pd.read_sql(\"select * from cadastro\",con)\n",
    "con.close()"
   ]
  },
  {
   "cell_type": "code",
   "execution_count": 26,
   "metadata": {},
   "outputs": [],
   "source": [
    "#df.head()"
   ]
  },
  {
   "cell_type": "code",
   "execution_count": 27,
   "metadata": {},
   "outputs": [],
   "source": [
    "df_diap=pd.read_csv('../dados/diap/politicos_diap.csv')\n",
    "#df_diap"
   ]
  },
  {
   "cell_type": "code",
   "execution_count": 28,
   "metadata": {},
   "outputs": [
    {
     "data": {
      "text/html": [
       "<div>\n",
       "<style scoped>\n",
       "    .dataframe tbody tr th:only-of-type {\n",
       "        vertical-align: middle;\n",
       "    }\n",
       "\n",
       "    .dataframe tbody tr th {\n",
       "        vertical-align: top;\n",
       "    }\n",
       "\n",
       "    .dataframe thead th {\n",
       "        text-align: right;\n",
       "    }\n",
       "</style>\n",
       "<table border=\"1\" class=\"dataframe\">\n",
       "  <thead>\n",
       "    <tr style=\"text-align: right;\">\n",
       "      <th></th>\n",
       "      <th>nome</th>\n",
       "      <th>partido</th>\n",
       "      <th>cargo</th>\n",
       "      <th>estado</th>\n",
       "      <th>profissão</th>\n",
       "      <th>mandatos</th>\n",
       "      <th>cabeças</th>\n",
       "      <th>debatedor</th>\n",
       "      <th>articulador</th>\n",
       "      <th>formulador</th>\n",
       "      <th>negociador</th>\n",
       "    </tr>\n",
       "  </thead>\n",
       "  <tbody>\n",
       "    <tr>\n",
       "      <th>0</th>\n",
       "      <td>PETECAO</td>\n",
       "      <td>PSD</td>\n",
       "      <td>Senador</td>\n",
       "      <td>ACRE</td>\n",
       "      <td>Empresário</td>\n",
       "      <td>1</td>\n",
       "      <td>1.0</td>\n",
       "      <td>0</td>\n",
       "      <td>1</td>\n",
       "      <td>0</td>\n",
       "      <td>0</td>\n",
       "    </tr>\n",
       "    <tr>\n",
       "      <th>1</th>\n",
       "      <td>ARTHUR LIRA</td>\n",
       "      <td>PP</td>\n",
       "      <td>Deputado</td>\n",
       "      <td>ALAGOAS</td>\n",
       "      <td>Empresário</td>\n",
       "      <td>3</td>\n",
       "      <td>3.0</td>\n",
       "      <td>0</td>\n",
       "      <td>1</td>\n",
       "      <td>0</td>\n",
       "      <td>0</td>\n",
       "    </tr>\n",
       "    <tr>\n",
       "      <th>2</th>\n",
       "      <td>RENAN</td>\n",
       "      <td>MDB</td>\n",
       "      <td>Senador</td>\n",
       "      <td>ALAGOAS</td>\n",
       "      <td>Produtor Rural</td>\n",
       "      <td>4</td>\n",
       "      <td>23.0</td>\n",
       "      <td>0</td>\n",
       "      <td>1</td>\n",
       "      <td>0</td>\n",
       "      <td>0</td>\n",
       "    </tr>\n",
       "    <tr>\n",
       "      <th>3</th>\n",
       "      <td>DAVI ALCOLUMBRE</td>\n",
       "      <td>DEM</td>\n",
       "      <td>Senador</td>\n",
       "      <td>AMAPÁ</td>\n",
       "      <td>Comerciante</td>\n",
       "      <td>1</td>\n",
       "      <td>1.0</td>\n",
       "      <td>0</td>\n",
       "      <td>1</td>\n",
       "      <td>0</td>\n",
       "      <td>0</td>\n",
       "    </tr>\n",
       "    <tr>\n",
       "      <th>4</th>\n",
       "      <td>RANDOLFE</td>\n",
       "      <td>REDE</td>\n",
       "      <td>Senador</td>\n",
       "      <td>AMAPÁ</td>\n",
       "      <td>Professor</td>\n",
       "      <td>2</td>\n",
       "      <td>9.0</td>\n",
       "      <td>1</td>\n",
       "      <td>0</td>\n",
       "      <td>0</td>\n",
       "      <td>0</td>\n",
       "    </tr>\n",
       "  </tbody>\n",
       "</table>\n",
       "</div>"
      ],
      "text/plain": [
       "              nome partido     cargo   estado       profissão  mandatos  \\\n",
       "0          PETECAO     PSD   Senador     ACRE      Empresário         1   \n",
       "1      ARTHUR LIRA      PP  Deputado  ALAGOAS      Empresário         3   \n",
       "2            RENAN     MDB   Senador  ALAGOAS  Produtor Rural         4   \n",
       "3  DAVI ALCOLUMBRE     DEM   Senador    AMAPÁ     Comerciante         1   \n",
       "4        RANDOLFE     REDE   Senador    AMAPÁ       Professor         2   \n",
       "\n",
       "   cabeças  debatedor  articulador  formulador  negociador  \n",
       "0      1.0          0            1           0           0  \n",
       "1      3.0          0            1           0           0  \n",
       "2     23.0          0            1           0           0  \n",
       "3      1.0          0            1           0           0  \n",
       "4      9.0          1            0           0           0  "
      ]
     },
     "execution_count": 28,
     "metadata": {},
     "output_type": "execute_result"
    }
   ],
   "source": [
    "df_diap[\"nome\"]=df_diap[\"nome\"].apply(lambda x:unidecode(x.upper()))\n",
    "df_diap.head()"
   ]
  },
  {
   "cell_type": "code",
   "execution_count": 29,
   "metadata": {},
   "outputs": [
    {
     "name": "stdout",
     "output_type": "stream",
     "text": [
      "<class 'pandas.core.frame.DataFrame'>\n",
      "RangeIndex: 592 entries, 0 to 591\n",
      "Data columns (total 2 columns):\n",
      " #   Column  Non-Null Count  Dtype \n",
      "---  ------  --------------  ----- \n",
      " 0   nome    592 non-null    object\n",
      " 1   CPF     592 non-null    object\n",
      "dtypes: object(2)\n",
      "memory usage: 9.4+ KB\n",
      "<class 'pandas.core.frame.DataFrame'>\n",
      "RangeIndex: 100 entries, 0 to 99\n",
      "Data columns (total 11 columns):\n",
      " #   Column       Non-Null Count  Dtype  \n",
      "---  ------       --------------  -----  \n",
      " 0   nome         100 non-null    object \n",
      " 1   partido      100 non-null    object \n",
      " 2   cargo        100 non-null    object \n",
      " 3   estado       100 non-null    object \n",
      " 4   profissão    100 non-null    object \n",
      " 5   mandatos     100 non-null    int64  \n",
      " 6   cabeças      100 non-null    float64\n",
      " 7   debatedor    100 non-null    int64  \n",
      " 8   articulador  100 non-null    int64  \n",
      " 9   formulador   100 non-null    int64  \n",
      " 10  negociador   100 non-null    int64  \n",
      "dtypes: float64(1), int64(5), object(5)\n",
      "memory usage: 8.7+ KB\n"
     ]
    }
   ],
   "source": [
    "cpfs=df[[\"NM_URNA_CANDIDATO\",\"CPF\"]].copy()\n",
    "cpfs.rename(columns={\"NM_URNA_CANDIDATO\":\"nome\"},inplace=True)\n",
    "cpfs.info()\n",
    "df_diap.info()"
   ]
  },
  {
   "cell_type": "code",
   "execution_count": 30,
   "metadata": {},
   "outputs": [],
   "source": [
    "df_diap=pd.merge(df_diap,cpfs, how=\"left\", on=\"nome\")\n"
   ]
  },
  {
   "cell_type": "code",
   "execution_count": 31,
   "metadata": {},
   "outputs": [
    {
     "data": {
      "text/html": [
       "<div>\n",
       "<style scoped>\n",
       "    .dataframe tbody tr th:only-of-type {\n",
       "        vertical-align: middle;\n",
       "    }\n",
       "\n",
       "    .dataframe tbody tr th {\n",
       "        vertical-align: top;\n",
       "    }\n",
       "\n",
       "    .dataframe thead th {\n",
       "        text-align: right;\n",
       "    }\n",
       "</style>\n",
       "<table border=\"1\" class=\"dataframe\">\n",
       "  <thead>\n",
       "    <tr style=\"text-align: right;\">\n",
       "      <th></th>\n",
       "      <th>nome</th>\n",
       "      <th>partido</th>\n",
       "      <th>cargo</th>\n",
       "      <th>estado</th>\n",
       "      <th>profissão</th>\n",
       "      <th>mandatos</th>\n",
       "      <th>cabeças</th>\n",
       "      <th>debatedor</th>\n",
       "      <th>articulador</th>\n",
       "      <th>formulador</th>\n",
       "      <th>negociador</th>\n",
       "      <th>CPF</th>\n",
       "    </tr>\n",
       "  </thead>\n",
       "  <tbody>\n",
       "    <tr>\n",
       "      <th>51</th>\n",
       "      <td>DANIEL COELHO</td>\n",
       "      <td>CIDADANIA</td>\n",
       "      <td>Deputado</td>\n",
       "      <td>PERNAMBUCO</td>\n",
       "      <td>Empresário</td>\n",
       "      <td>2</td>\n",
       "      <td>1.0</td>\n",
       "      <td>0</td>\n",
       "      <td>1</td>\n",
       "      <td>0</td>\n",
       "      <td>0</td>\n",
       "      <td>02513878442</td>\n",
       "    </tr>\n",
       "    <tr>\n",
       "      <th>9</th>\n",
       "      <td>ALICE PORTUGAL</td>\n",
       "      <td>PCdoB</td>\n",
       "      <td>Deputada</td>\n",
       "      <td>BAHIA</td>\n",
       "      <td>Farmacêutica Bioquímica</td>\n",
       "      <td>5</td>\n",
       "      <td>10.0</td>\n",
       "      <td>1</td>\n",
       "      <td>0</td>\n",
       "      <td>0</td>\n",
       "      <td>0</td>\n",
       "      <td>12377392504</td>\n",
       "    </tr>\n",
       "    <tr>\n",
       "      <th>14</th>\n",
       "      <td>OTTO ALENCAR</td>\n",
       "      <td>PSD</td>\n",
       "      <td>Senador</td>\n",
       "      <td>BAHIA</td>\n",
       "      <td>Médico</td>\n",
       "      <td>1</td>\n",
       "      <td>3.0</td>\n",
       "      <td>0</td>\n",
       "      <td>0</td>\n",
       "      <td>1</td>\n",
       "      <td>0</td>\n",
       "      <td>05985234568</td>\n",
       "    </tr>\n",
       "    <tr>\n",
       "      <th>90</th>\n",
       "      <td>MAJOR OLIMPIO</td>\n",
       "      <td>PSL</td>\n",
       "      <td>Senador</td>\n",
       "      <td>SÃO PAULO</td>\n",
       "      <td>Policial Militar</td>\n",
       "      <td>1</td>\n",
       "      <td>1.0</td>\n",
       "      <td>0</td>\n",
       "      <td>0</td>\n",
       "      <td>0</td>\n",
       "      <td>1</td>\n",
       "      <td>00502302801</td>\n",
       "    </tr>\n",
       "    <tr>\n",
       "      <th>20</th>\n",
       "      <td>DELEGADO WALDIR</td>\n",
       "      <td>PSL</td>\n",
       "      <td>Deputado</td>\n",
       "      <td>GOIÁS</td>\n",
       "      <td>Delegado</td>\n",
       "      <td>3</td>\n",
       "      <td>1.0</td>\n",
       "      <td>1</td>\n",
       "      <td>0</td>\n",
       "      <td>0</td>\n",
       "      <td>0</td>\n",
       "      <td>46228357972</td>\n",
       "    </tr>\n",
       "  </tbody>\n",
       "</table>\n",
       "</div>"
      ],
      "text/plain": [
       "               nome    partido     cargo      estado                profissão  \\\n",
       "51    DANIEL COELHO  CIDADANIA  Deputado  PERNAMBUCO               Empresário   \n",
       "9    ALICE PORTUGAL      PCdoB  Deputada       BAHIA  Farmacêutica Bioquímica   \n",
       "14     OTTO ALENCAR        PSD   Senador       BAHIA                   Médico   \n",
       "90    MAJOR OLIMPIO        PSL   Senador   SÃO PAULO         Policial Militar   \n",
       "20  DELEGADO WALDIR        PSL  Deputado       GOIÁS                 Delegado   \n",
       "\n",
       "    mandatos  cabeças  debatedor  articulador  formulador  negociador  \\\n",
       "51         2      1.0          0            1           0           0   \n",
       "9          5     10.0          1            0           0           0   \n",
       "14         1      3.0          0            0           1           0   \n",
       "90         1      1.0          0            0           0           1   \n",
       "20         3      1.0          1            0           0           0   \n",
       "\n",
       "            CPF  \n",
       "51  02513878442  \n",
       "9   12377392504  \n",
       "14  05985234568  \n",
       "90  00502302801  \n",
       "20  46228357972  "
      ]
     },
     "execution_count": 31,
     "metadata": {},
     "output_type": "execute_result"
    },
    {
     "data": {
      "text/plain": [
       "nome           0\n",
       "partido        0\n",
       "cargo          0\n",
       "estado         0\n",
       "profissão      0\n",
       "mandatos       0\n",
       "cabeças        0\n",
       "debatedor      0\n",
       "articulador    0\n",
       "formulador     0\n",
       "negociador     0\n",
       "CPF            1\n",
       "dtype: int64"
      ]
     },
     "execution_count": 31,
     "metadata": {},
     "output_type": "execute_result"
    }
   ],
   "source": [
    "df_diap.sample(5)\n",
    "df_diap.isnull().sum()"
   ]
  },
  {
   "cell_type": "code",
   "execution_count": 32,
   "metadata": {},
   "outputs": [
    {
     "data": {
      "text/html": [
       "<div>\n",
       "<style scoped>\n",
       "    .dataframe tbody tr th:only-of-type {\n",
       "        vertical-align: middle;\n",
       "    }\n",
       "\n",
       "    .dataframe tbody tr th {\n",
       "        vertical-align: top;\n",
       "    }\n",
       "\n",
       "    .dataframe thead th {\n",
       "        text-align: right;\n",
       "    }\n",
       "</style>\n",
       "<table border=\"1\" class=\"dataframe\">\n",
       "  <thead>\n",
       "    <tr style=\"text-align: right;\">\n",
       "      <th></th>\n",
       "      <th>nome</th>\n",
       "      <th>cargo</th>\n",
       "      <th>partido</th>\n",
       "      <th>estado</th>\n",
       "      <th>profissão</th>\n",
       "    </tr>\n",
       "  </thead>\n",
       "  <tbody>\n",
       "    <tr>\n",
       "      <th>69</th>\n",
       "      <td>DARCISIO PERONDI</td>\n",
       "      <td>Deputado</td>\n",
       "      <td>MDB</td>\n",
       "      <td>RIO GRANDE DO SUL</td>\n",
       "      <td>Médico</td>\n",
       "    </tr>\n",
       "  </tbody>\n",
       "</table>\n",
       "</div>"
      ],
      "text/plain": [
       "                nome     cargo partido             estado profissão\n",
       "69  DARCISIO PERONDI  Deputado     MDB  RIO GRANDE DO SUL    Médico"
      ]
     },
     "execution_count": 32,
     "metadata": {},
     "output_type": "execute_result"
    }
   ],
   "source": [
    "df_diap[df_diap[\"CPF\"].isnull()][[\"nome\",\"cargo\",\"partido\",\"estado\",\"profissão\"]]"
   ]
  },
  {
   "cell_type": "code",
   "execution_count": 34,
   "metadata": {},
   "outputs": [
    {
     "data": {
      "text/plain": [
       "Index(['nome', 'partido', 'cargo', 'estado', 'profissão', 'mandatos',\n",
       "       'cabeças', 'debatedor', 'articulador', 'formulador', 'negociador',\n",
       "       'CPF'],\n",
       "      dtype='object')"
      ]
     },
     "execution_count": 34,
     "metadata": {},
     "output_type": "execute_result"
    }
   ],
   "source": [
    "df_diap.columns"
   ]
  },
  {
   "cell_type": "code",
   "execution_count": 35,
   "metadata": {},
   "outputs": [],
   "source": [
    "df_diap.to_csv(\"../dados/diap/politicos_diap_cpf.csv\",index=False)"
   ]
  },
  {
   "cell_type": "code",
   "execution_count": null,
   "metadata": {},
   "outputs": [],
   "source": []
  }
 ],
 "metadata": {
  "kernelspec": {
   "display_name": "Python 3",
   "language": "python",
   "name": "python3"
  },
  "language_info": {
   "codemirror_mode": {
    "name": "ipython",
    "version": 3
   },
   "file_extension": ".py",
   "mimetype": "text/x-python",
   "name": "python",
   "nbconvert_exporter": "python",
   "pygments_lexer": "ipython3",
   "version": "3.7.6"
  }
 },
 "nbformat": 4,
 "nbformat_minor": 4
}

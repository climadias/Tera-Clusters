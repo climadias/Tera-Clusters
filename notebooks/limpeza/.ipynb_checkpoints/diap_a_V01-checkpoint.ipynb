{
 "cells": [
  {
   "cell_type": "code",
   "execution_count": null,
   "metadata": {},
   "outputs": [],
   "source": [
    "import pandas as pd\n",
    "import numpy as np\n",
    "import matplotlib.pyplot as plt\n",
    "import seaborn as sns\n",
    "from IPython.core.interactiveshell import InteractiveShell \n",
    "InteractiveShell.ast_node_interactivity=\"all\""
   ]
  },
  {
   "cell_type": "code",
   "execution_count": 2,
   "metadata": {},
   "outputs": [],
   "source": [
    "#import PyPDF2"
   ]
  },
  {
   "cell_type": "code",
   "execution_count": 21,
   "metadata": {},
   "outputs": [],
   "source": [
    "def cria_lista_1(df):\n",
    "    df=df[df[\"profissão\"]!=\"SEM REPRESENTAÇÃO NA LISTA\"]\n",
    "    estados=[\"ACRE\",\"ALAGOAS\",\"AMAPÁ\",\"AMAZONAS\",\"BAHIA\",\n",
    "         \"CEARÁ\",\"DISTRITO FEDERAL\",\"ESPÍRITO SANTO\",\"GOIÁS\",\n",
    "        \"MARANHÃO\",\"MATO GROSSO\",\"MATO GROSSO DO SUL\",\"MINAS GERAIS\",\"PARÁ\",\"PARAÍBA\",\"PARANÁ\",\n",
    "           \"PERNAMBUCO\",\"PIAUÍ\",\"RIO DE JANEIRO\",\"RIO GRANDE DO NORTE\",\"RIO GRANDE DO SUL\",\n",
    "           \"RONDÔNIA\",\"RORAIMA\",\"SANTA CATARINA\",\"SÃO PAULO\",\"SERGIPE\",\"TOCANTINS\"]\n",
    "    lista=[]\n",
    "    linhas=len(df)\n",
    "    i=0\n",
    "    while i < linhas:\n",
    "        profissão=df.iloc[i][\"profissão\"]\n",
    "        if profissão in estados:\n",
    "            estado=profissão\n",
    "            print(estado)\n",
    "        else:\n",
    "            reg={}\n",
    "            nome_part=df.iloc[i][\"Nome-partido\"]\n",
    "            reg[\"nome\"]=nome_part.split(\"-\")[0].title()\n",
    "            reg[\"partido\"]=nome_part.split(\"-\")[1]\n",
    "            reg[\"estado\"]=estado\n",
    "            reg[\"profissão\"]=df.iloc[i][\"profissão\"]\n",
    "            reg[\"mandatos\"]=df.iloc[i][\"mandatos\"]\n",
    "            reg[\"cabeças\"]=df.iloc[i][\"cabeças\"]\n",
    "            reg[\"debatedor\"]=df.iloc[i][\"debatedor\"]\n",
    "            reg[\"articulador\"]=df.iloc[i][\"articulador\"]\n",
    "            reg[\"formulador\"]=df.iloc[i][\"formulador\"]\n",
    "            reg[\"negociador\"]=df.iloc[i][\"negociador\"]\n",
    "            print(\"Nome: {}, Estado: {}, Partido: {}\".format(reg[\"nome\"],reg[\"estado\"],reg[\"partido\"]))\n",
    "            lista.append(reg)\n",
    "        i+=1\n",
    "    return lista"
   ]
  },
  {
   "cell_type": "code",
   "execution_count": 4,
   "metadata": {},
   "outputs": [
    {
     "name": "stdout",
     "output_type": "stream",
     "text": [
      "oscabecasdocongressonacional_2019.pdf  pag_17.csv  pag_18.csv\n"
     ]
    }
   ],
   "source": [
    "!ls ../dados"
   ]
  },
  {
   "cell_type": "code",
   "execution_count": 5,
   "metadata": {},
   "outputs": [
    {
     "data": {
      "text/plain": [
       "(66, 9)"
      ]
     },
     "execution_count": 5,
     "metadata": {},
     "output_type": "execute_result"
    },
    {
     "name": "stdout",
     "output_type": "stream",
     "text": [
      "<class 'pandas.core.frame.DataFrame'>\n",
      "RangeIndex: 66 entries, 0 to 65\n",
      "Data columns (total 9 columns):\n",
      " #   Column        Non-Null Count  Dtype  \n",
      "---  ------        --------------  -----  \n",
      " 0   cargo         47 non-null     object \n",
      " 1   Nome-partido  47 non-null     object \n",
      " 2   profissão     66 non-null     object \n",
      " 3   mandatos      47 non-null     object \n",
      " 4   cabeças       47 non-null     float64\n",
      " 5   debatedor     11 non-null     object \n",
      " 6   articulador   16 non-null     object \n",
      " 7   formulador    9 non-null      object \n",
      " 8   negociador    11 non-null     object \n",
      "dtypes: float64(1), object(8)\n",
      "memory usage: 4.8+ KB\n"
     ]
    }
   ],
   "source": [
    "pag_17=pd.read_csv(\"../dados/pag_17.csv\")\n",
    "pag_17.shape\n",
    "pag_17.info()"
   ]
  },
  {
   "cell_type": "code",
   "execution_count": 6,
   "metadata": {},
   "outputs": [
    {
     "data": {
      "text/html": [
       "<div>\n",
       "<style scoped>\n",
       "    .dataframe tbody tr th:only-of-type {\n",
       "        vertical-align: middle;\n",
       "    }\n",
       "\n",
       "    .dataframe tbody tr th {\n",
       "        vertical-align: top;\n",
       "    }\n",
       "\n",
       "    .dataframe thead th {\n",
       "        text-align: right;\n",
       "    }\n",
       "</style>\n",
       "<table border=\"1\" class=\"dataframe\">\n",
       "  <thead>\n",
       "    <tr style=\"text-align: right;\">\n",
       "      <th></th>\n",
       "      <th>cargo</th>\n",
       "      <th>Nome-partido</th>\n",
       "      <th>profissão</th>\n",
       "      <th>mandatos</th>\n",
       "      <th>cabeças</th>\n",
       "      <th>debatedor</th>\n",
       "      <th>articulador</th>\n",
       "      <th>formulador</th>\n",
       "      <th>negociador</th>\n",
       "    </tr>\n",
       "  </thead>\n",
       "  <tbody>\n",
       "    <tr>\n",
       "      <th>0</th>\n",
       "      <td>NaN</td>\n",
       "      <td>NaN</td>\n",
       "      <td>ACRE</td>\n",
       "      <td>NaN</td>\n",
       "      <td>NaN</td>\n",
       "      <td>NaN</td>\n",
       "      <td>NaN</td>\n",
       "      <td>NaN</td>\n",
       "      <td>NaN</td>\n",
       "    </tr>\n",
       "    <tr>\n",
       "      <th>1</th>\n",
       "      <td>SENADOR</td>\n",
       "      <td>SÉRGIO PETECÃO - PSD</td>\n",
       "      <td>EMPRESÁRIO</td>\n",
       "      <td>1o</td>\n",
       "      <td>1.0</td>\n",
       "      <td>NaN</td>\n",
       "      <td>X</td>\n",
       "      <td>NaN</td>\n",
       "      <td>NaN</td>\n",
       "    </tr>\n",
       "    <tr>\n",
       "      <th>2</th>\n",
       "      <td>NaN</td>\n",
       "      <td>NaN</td>\n",
       "      <td>ALAGOAS</td>\n",
       "      <td>NaN</td>\n",
       "      <td>NaN</td>\n",
       "      <td>NaN</td>\n",
       "      <td>NaN</td>\n",
       "      <td>NaN</td>\n",
       "      <td>NaN</td>\n",
       "    </tr>\n",
       "    <tr>\n",
       "      <th>3</th>\n",
       "      <td>Deputado</td>\n",
       "      <td>Arthur Lira - PP</td>\n",
       "      <td>Empresário</td>\n",
       "      <td>3°</td>\n",
       "      <td>3.0</td>\n",
       "      <td>NaN</td>\n",
       "      <td>X</td>\n",
       "      <td>NaN</td>\n",
       "      <td>NaN</td>\n",
       "    </tr>\n",
       "    <tr>\n",
       "      <th>4</th>\n",
       "      <td>Senador</td>\n",
       "      <td>Renan Calheiros - MDB</td>\n",
       "      <td>Produtor Rural</td>\n",
       "      <td>4°</td>\n",
       "      <td>23.0</td>\n",
       "      <td>NaN</td>\n",
       "      <td>X</td>\n",
       "      <td>NaN</td>\n",
       "      <td>NaN</td>\n",
       "    </tr>\n",
       "  </tbody>\n",
       "</table>\n",
       "</div>"
      ],
      "text/plain": [
       "      cargo           Nome-partido       profissão mandatos  cabeças  \\\n",
       "0       NaN                    NaN            ACRE      NaN      NaN   \n",
       "1   SENADOR   SÉRGIO PETECÃO - PSD      EMPRESÁRIO       1o      1.0   \n",
       "2       NaN                    NaN         ALAGOAS      NaN      NaN   \n",
       "3  Deputado       Arthur Lira - PP      Empresário       3°      3.0   \n",
       "4   Senador  Renan Calheiros - MDB  Produtor Rural       4°     23.0   \n",
       "\n",
       "  debatedor articulador formulador negociador  \n",
       "0       NaN         NaN        NaN        NaN  \n",
       "1       NaN           X        NaN        NaN  \n",
       "2       NaN         NaN        NaN        NaN  \n",
       "3       NaN           X        NaN        NaN  \n",
       "4       NaN           X        NaN        NaN  "
      ]
     },
     "execution_count": 6,
     "metadata": {},
     "output_type": "execute_result"
    }
   ],
   "source": [
    "pag_17.head()"
   ]
  },
  {
   "cell_type": "code",
   "execution_count": 8,
   "metadata": {},
   "outputs": [
    {
     "name": "stdout",
     "output_type": "stream",
     "text": [
      "ACRE\n",
      "Nome: SÉRGIO PETECÃO , Estado: ACRE, Partido:  PSD\n",
      "ALAGOAS\n",
      "Nome: Arthur Lira , Estado: ALAGOAS, Partido:  PP\n",
      "Nome: Renan Calheiros , Estado: ALAGOAS, Partido:  MDB\n",
      "AMAPÁ\n",
      "Nome: DAVI ALCOLUMBRE , Estado: AMAPÁ, Partido:  DEM\n",
      "Nome: Randolfe Rodrigues , Estado: AMAPÁ, Partido:  REDE\n",
      "AMAZONAS\n",
      "Nome: EDUARDO BRAGA , Estado: AMAZONAS, Partido:  MDB\n",
      "Nome: MARCELO RAMOS , Estado: AMAZONAS, Partido:  PL\n",
      "Nome: OMAR AZIZ , Estado: AMAZONAS, Partido:  PSD\n",
      "BAHIA\n",
      "Nome: Afonso Florence , Estado: BAHIA, Partido:  PT\n",
      "Nome: Alice Portugal , Estado: BAHIA, Partido:  PCdoB\n",
      "Nome: Daniel Almeida , Estado: BAHIA, Partido:  PCdoB\n",
      "Nome: ELMAR NASCIMENTO , Estado: BAHIA, Partido:  DEM\n",
      "Nome: JAQUES WAGNER , Estado: BAHIA, Partido:  PT1\n",
      "Nome: JOÃO ROMA , Estado: BAHIA, Partido:  PRB\n",
      "Nome: Otto Alencar , Estado: BAHIA, Partido:  PSD\n",
      "CEARÁ\n",
      "Nome: André Figueiredo , Estado: CEARÁ, Partido:  PDT\n",
      "Nome: CID GOMES , Estado: CEARÁ, Partido:  PDT\n",
      "Nome: José Guimarães , Estado: CEARÁ, Partido:  PT\n",
      "Nome: Tasso Jereissati , Estado: CEARÁ, Partido:  PSDB\n",
      "DISTRITO FEDERAL\n",
      "Nome: Erika Kokay , Estado: DISTRITO FEDERAL, Partido:  PT\n",
      "ESPÍRITO SANTO\n",
      "GOIÁS\n",
      "Nome: DELEGADO WALDIR , Estado: GOIÁS, Partido:  PSL\n",
      "Nome: JOÃO CAMPOS , Estado: GOIÁS, Partido:  PRB\n",
      "Nome: MAJOR VITOR HUGO , Estado: GOIÁS, Partido:  PSL\n",
      "MARANHÃO\n",
      "Nome: ROBERTO ROCHA , Estado: MARANHÃO, Partido:  PSDB\n",
      "Nome: Weverton Rocha , Estado: MARANHÃO, Partido:  PDT\n",
      "MATO GROSSO\n",
      "MATO GROSSO DO SUL\n",
      "Nome: Fábio Trad , Estado: MATO GROSSO DO SUL, Partido:  PSD\n",
      "Nome: Simone Tebet , Estado: MATO GROSSO DO SUL, Partido:  MDB\n",
      "MINAS GERAIS\n",
      "Nome: Aécio Neves , Estado: MINAS GERAIS, Partido:  PSDB\n",
      "Nome: Antonio Anastasia , Estado: MINAS GERAIS, Partido:  PSDB\n",
      "Nome: FRED COSTA , Estado: MINAS GERAIS, Partido:  PATRIOTA\n",
      "Nome: Júlio Delgado , Estado: MINAS GERAIS, Partido:  PSB\n",
      "Nome: Lincoln Portela , Estado: MINAS GERAIS, Partido:  PL\n",
      "Nome: Paulo Abi, Estado: MINAS GERAIS, Partido: Ackel \n",
      "Nome: RODRIGO PACHECO , Estado: MINAS GERAIS, Partido:  DEM\n",
      "PARÁ\n",
      "PARAÍBA\n",
      "Nome: Aguinaldo Ribeiro , Estado: PARAÍBA, Partido:  PP\n",
      "Nome: DANIELLA RIBEIRO , Estado: PARAÍBA, Partido:  PP\n",
      "Nome: Efraim Filho , Estado: PARAÍBA, Partido:  DEM\n",
      "Nome: VENEZIANO VITAL DO RÊGO , Estado: PARAÍBA, Partido:  PSB\n",
      "Nome: WELLINGTON ROBERTO , Estado: PARAÍBA, Partido:  PL\n",
      "PARANÁ\n",
      "Nome: ENIO VERRI , Estado: PARANÁ, Partido:  PT\n",
      "Nome: FELIPE FRANCISCHINI , Estado: PARANÁ, Partido:  PSL\n",
      "Nome: FILIPE BARROS , Estado: PARANÁ, Partido:  PSL\n",
      "Nome: Gleisi Hoffmann , Estado: PARANÁ, Partido:  PT1\n",
      "Nome: GUSTAVO FRUET , Estado: PARANÁ, Partido:  PDT\n",
      "Nome: Ricardo Barros , Estado: PARANÁ, Partido:  PP\n",
      "Nome: Rubens Bueno , Estado: PARANÁ, Partido:  CIDADANIA\n",
      "Nome: SÉRGIO SOUZA , Estado: PARANÁ, Partido:  MDB\n"
     ]
    }
   ],
   "source": [
    "lista_pag_17=cria_lista_1(pag_17)\n"
   ]
  },
  {
   "cell_type": "code",
   "execution_count": 9,
   "metadata": {},
   "outputs": [
    {
     "data": {
      "text/plain": [
       "(66, 9)"
      ]
     },
     "execution_count": 9,
     "metadata": {},
     "output_type": "execute_result"
    },
    {
     "name": "stdout",
     "output_type": "stream",
     "text": [
      "<class 'pandas.core.frame.DataFrame'>\n",
      "RangeIndex: 66 entries, 0 to 65\n",
      "Data columns (total 9 columns):\n",
      " #   Column        Non-Null Count  Dtype  \n",
      "---  ------        --------------  -----  \n",
      " 0   cargo         53 non-null     object \n",
      " 1   Nome-partido  66 non-null     object \n",
      " 2   profissão     0 non-null      float64\n",
      " 3   mandatos      53 non-null     object \n",
      " 4   cabeças       53 non-null     float64\n",
      " 5   debatedor     15 non-null     object \n",
      " 6   articulador   21 non-null     object \n",
      " 7   formulador    7 non-null      object \n",
      " 8   negociador    10 non-null     object \n",
      "dtypes: float64(2), object(7)\n",
      "memory usage: 4.8+ KB\n"
     ]
    },
    {
     "data": {
      "text/html": [
       "<div>\n",
       "<style scoped>\n",
       "    .dataframe tbody tr th:only-of-type {\n",
       "        vertical-align: middle;\n",
       "    }\n",
       "\n",
       "    .dataframe tbody tr th {\n",
       "        vertical-align: top;\n",
       "    }\n",
       "\n",
       "    .dataframe thead th {\n",
       "        text-align: right;\n",
       "    }\n",
       "</style>\n",
       "<table border=\"1\" class=\"dataframe\">\n",
       "  <thead>\n",
       "    <tr style=\"text-align: right;\">\n",
       "      <th></th>\n",
       "      <th>cargo</th>\n",
       "      <th>Nome-partido</th>\n",
       "      <th>profissão</th>\n",
       "      <th>mandatos</th>\n",
       "      <th>cabeças</th>\n",
       "      <th>debatedor</th>\n",
       "      <th>articulador</th>\n",
       "      <th>formulador</th>\n",
       "      <th>negociador</th>\n",
       "    </tr>\n",
       "  </thead>\n",
       "  <tbody>\n",
       "    <tr>\n",
       "      <th>0</th>\n",
       "      <td>NaN</td>\n",
       "      <td>PERNAMBUCO</td>\n",
       "      <td>NaN</td>\n",
       "      <td>NaN</td>\n",
       "      <td>NaN</td>\n",
       "      <td>NaN</td>\n",
       "      <td>NaN</td>\n",
       "      <td>NaN</td>\n",
       "      <td>NaN</td>\n",
       "    </tr>\n",
       "    <tr>\n",
       "      <th>1</th>\n",
       "      <td>DEPUTADO</td>\n",
       "      <td>ANDRÉ DE PAULA - PSD ADVOGADO</td>\n",
       "      <td>NaN</td>\n",
       "      <td>6o</td>\n",
       "      <td>1.0</td>\n",
       "      <td>NaN</td>\n",
       "      <td>X</td>\n",
       "      <td>NaN</td>\n",
       "      <td>NaN</td>\n",
       "    </tr>\n",
       "    <tr>\n",
       "      <th>2</th>\n",
       "      <td>DEPUTADO</td>\n",
       "      <td>ANDRÉ FERREIRA - PSC EMPRESÁRIO</td>\n",
       "      <td>NaN</td>\n",
       "      <td>1o</td>\n",
       "      <td>1.0</td>\n",
       "      <td>NaN</td>\n",
       "      <td>NaN</td>\n",
       "      <td>NaN</td>\n",
       "      <td>X</td>\n",
       "    </tr>\n",
       "    <tr>\n",
       "      <th>3</th>\n",
       "      <td>DEPUTADO</td>\n",
       "      <td>AUGUSTO COUTINHO - SOLIDARIEDADE ENGENHEIRO CIVIL</td>\n",
       "      <td>NaN</td>\n",
       "      <td>3o</td>\n",
       "      <td>1.0</td>\n",
       "      <td>NaN</td>\n",
       "      <td>NaN</td>\n",
       "      <td>NaN</td>\n",
       "      <td>X</td>\n",
       "    </tr>\n",
       "    <tr>\n",
       "      <th>4</th>\n",
       "      <td>DEPUTADO</td>\n",
       "      <td>DANIEL COELHO - CIDADANIA EMPRESÁRIO</td>\n",
       "      <td>NaN</td>\n",
       "      <td>2o</td>\n",
       "      <td>1.0</td>\n",
       "      <td>NaN</td>\n",
       "      <td>X</td>\n",
       "      <td>NaN</td>\n",
       "      <td>NaN</td>\n",
       "    </tr>\n",
       "  </tbody>\n",
       "</table>\n",
       "</div>"
      ],
      "text/plain": [
       "      cargo                                       Nome-partido  profissão  \\\n",
       "0       NaN                                         PERNAMBUCO        NaN   \n",
       "1  DEPUTADO                      ANDRÉ DE PAULA - PSD ADVOGADO        NaN   \n",
       "2  DEPUTADO                    ANDRÉ FERREIRA - PSC EMPRESÁRIO        NaN   \n",
       "3  DEPUTADO  AUGUSTO COUTINHO - SOLIDARIEDADE ENGENHEIRO CIVIL        NaN   \n",
       "4  DEPUTADO               DANIEL COELHO - CIDADANIA EMPRESÁRIO        NaN   \n",
       "\n",
       "  mandatos  cabeças debatedor articulador formulador negociador  \n",
       "0      NaN      NaN       NaN         NaN        NaN        NaN  \n",
       "1       6o      1.0       NaN           X        NaN        NaN  \n",
       "2       1o      1.0       NaN         NaN        NaN          X  \n",
       "3       3o      1.0       NaN         NaN        NaN          X  \n",
       "4       2o      1.0       NaN           X        NaN        NaN  "
      ]
     },
     "execution_count": 9,
     "metadata": {},
     "output_type": "execute_result"
    }
   ],
   "source": [
    "pag_18=pd.read_csv(\"../dados/pag_18.csv\")\n",
    "pag_18.shape\n",
    "pag_18.info()\n",
    "pag_18.head()"
   ]
  },
  {
   "cell_type": "code",
   "execution_count": 10,
   "metadata": {},
   "outputs": [
    {
     "data": {
      "text/plain": [
       "['AUGUSTO COUTINHO ', ' SOLIDARIEDADE ENGENHEIRO CIVIL']"
      ]
     },
     "execution_count": 10,
     "metadata": {},
     "output_type": "execute_result"
    },
    {
     "data": {
      "text/plain": [
       "'AUGUSTO COUTINHO'"
      ]
     },
     "execution_count": 10,
     "metadata": {},
     "output_type": "execute_result"
    },
    {
     "data": {
      "text/plain": [
       "'SOLIDARIEDADE ENGENHEIRO CIVIL'"
      ]
     },
     "execution_count": 10,
     "metadata": {},
     "output_type": "execute_result"
    },
    {
     "data": {
      "text/plain": [
       "'SOLIDARIEDADE'"
      ]
     },
     "execution_count": 10,
     "metadata": {},
     "output_type": "execute_result"
    },
    {
     "data": {
      "text/plain": [
       "'ENGENHEIRO CIVIL'"
      ]
     },
     "execution_count": 10,
     "metadata": {},
     "output_type": "execute_result"
    }
   ],
   "source": [
    "nome_partido_profissão=pag_18.iloc[3][\"Nome-partido\"]\n",
    "nome_partido_profissão.split(\"-\")\n",
    "nome=nome_partido_profissão.split(\"-\")[0].strip()\n",
    "nome\n",
    "partido_profissão=nome_partido_profissão.split(\"-\")[1].strip()\n",
    "partido_profissão\n",
    "partido=partido_profissão.split(\" \")[0]\n",
    "partido\n",
    "profissão=partido_profissão.partition(\" \")[2]\n",
    "profissão\n",
    "#partido[1].partition(\" \")"
   ]
  },
  {
   "cell_type": "code",
   "execution_count": 32,
   "metadata": {},
   "outputs": [],
   "source": [
    "def cria_lista_2(df):\n",
    "    df=df[df[\"Nome-partido\"]!=\"SEM REPRESENTAÇÃO NA LISTA\"]\n",
    "    estados=[\"ACRE\",\"ALAGOAS\",\"AMAPÁ\",\"AMAZONAS\",\"BAHIA\",\n",
    "         \"CEARÁ\",\"DISTRITO FEDERAL\",\"ESPÍRITO SANTO\",\"GOIÁS\",\n",
    "        \"MARANHÃO\",\"MATO GROSSO\",\"MATO GROSSO DO SUL\",\"MINAS GERAIS\",\"PARÁ\",\"PARAÍBA\",\"PARANÁ\",\n",
    "           \"PERNAMBUCO\",\"PIAUÍ\",\"RIO DE JANEIRO\",\"RIO GRANDE DO NORTE\",\"RIO GRANDE DO SUL\",\n",
    "           \"RONDÔNIA\",\"RORAIMA\",\"SANTA CATARINA\",\"SÃO PAULO\",\"SERGIPE\",\"TOCANTINS\"]\n",
    "    lista=[]\n",
    "    linhas=len(df)\n",
    "    i=0\n",
    "    while i < linhas:\n",
    "        nome_partido_profissão=df.iloc[i][\"Nome-partido\"]\n",
    "        if nome_partido_profissão in estados:\n",
    "            estado=nome_partido_profissão\n",
    "            print(estado)\n",
    "        else:\n",
    "            reg={}\n",
    "            nome_partido_profissão=nome_partido_profissão.replace(\"–\",\"-\")\n",
    "            reg[\"nome\"]=nome_partido_profissão.split(\"-\")[0].strip()\n",
    "            partido_profissão=nome_partido_profissão.split(\"-\")[1].strip()\n",
    "            reg[\"partido\"]=partido_profissão.split(\" \")[0]\n",
    "            reg[\"profissão\"]=partido_profissão.partition(\" \")[2]\n",
    "            reg[\"estado\"]=estado\n",
    "            reg[\"mandatos\"]=df.iloc[i][\"mandatos\"]\n",
    "            reg[\"cabeças\"]=df.iloc[i][\"cabeças\"]\n",
    "            reg[\"debatedor\"]=df.iloc[i][\"debatedor\"]\n",
    "            reg[\"articulador\"]=df.iloc[i][\"articulador\"]\n",
    "            reg[\"formulador\"]=df.iloc[i][\"formulador\"]\n",
    "            reg[\"negociador\"]=df.iloc[i][\"negociador\"]\n",
    "            print(\"Nome: {}, Estado: {}, Partido: {}\".format(reg[\"nome\"],reg[\"estado\"],reg[\"partido\"]))\n",
    "            lista.append(reg)\n",
    "        i+=1\n",
    "    return lista"
   ]
  },
  {
   "cell_type": "code",
   "execution_count": 33,
   "metadata": {},
   "outputs": [
    {
     "name": "stdout",
     "output_type": "stream",
     "text": [
      "PERNAMBUCO\n",
      "Nome: ANDRÉ DE PAULA, Estado: PERNAMBUCO, Partido: PSD\n",
      "Nome: ANDRÉ FERREIRA, Estado: PERNAMBUCO, Partido: PSC\n",
      "Nome: AUGUSTO COUTINHO, Estado: PERNAMBUCO, Partido: SOLIDARIEDADE\n",
      "Nome: DANIEL COELHO, Estado: PERNAMBUCO, Partido: CIDADANIA\n",
      "Nome: DANILO CABRAL, Estado: PERNAMBUCO, Partido: PSB\n",
      "Nome: Fernando Bezerra Coelho, Estado: PERNAMBUCO, Partido: MDB\n",
      "Nome: Humberto Costa, Estado: PERNAMBUCO, Partido: PT\n",
      "Nome: RENILDO CALHEIROS, Estado: PERNAMBUCO, Partido: PCdoB\n",
      "Nome: SILVIO COSTA FILHO, Estado: PERNAMBUCO, Partido: PRB\n",
      "Nome: Tadeu Alencar, Estado: PERNAMBUCO, Partido: PSB\n",
      "PIAUÍ\n",
      "Nome: Ciro Nogueira, Estado: PIAUÍ, Partido: PP\n",
      "Nome: MARCELO CASTRO, Estado: PIAUÍ, Partido: MDB\n",
      "RIO DE JANEIRO\n",
      "Nome: Alessandro Molon, Estado: RIO DE JANEIRO, Partido: PSB\n",
      "Nome: AUREO RIBEIRO, Estado: RIO DE JANEIRO, Partido: SOLIDARIEDADE\n",
      "Nome: FLÁVIO BOLSONARO, Estado: RIO DE JANEIRO, Partido: PSL\n",
      "Nome: Glauber Braga, Estado: RIO DE JANEIRO, Partido: PSol\n",
      "Nome: Jandira Feghali, Estado: RIO DE JANEIRO, Partido: PCdoB\n",
      "Nome: MARCELO FREIXO, Estado: RIO DE JANEIRO, Partido: PSOL\n",
      "Nome: Rodrigo Maia, Estado: RIO DE JANEIRO, Partido: DEM\n",
      "RIO GRANDE DO NORTE\n",
      "RIO GRANDE DO SUL\n",
      "Nome: AFONSO MOTTA, Estado: RIO GRANDE DO SUL, Partido: PDT\n",
      "Nome: ALCEU MOREIRA, Estado: RIO GRANDE DO SUL, Partido: MDB\n",
      "Nome: Darcísio Perondi, Estado: RIO GRANDE DO SUL, Partido: MDB\n",
      "Nome: Henrique Fontana, Estado: RIO GRANDE DO SUL, Partido: PT\n",
      "Nome: MARCEL VAN HATTEM, Estado: RIO GRANDE DO SUL, Partido: NOVO\n",
      "Nome: Paulo Paim, Estado: RIO GRANDE DO SUL, Partido: PT\n",
      "Nome: Paulo Pimenta, Estado: RIO GRANDE DO SUL, Partido: PT\n",
      "RONDÔNIA\n",
      "Nome: MARCOS ROGÉRIO, Estado: RONDÔNIA, Partido: DEM\n",
      "RORAIMA\n",
      "SANTA CATARINA\n",
      "Nome: CARMEN ZANOTTO, Estado: SANTA CATARINA, Partido: CIDADANIA\n",
      "Nome: ESPIRIDIÃO AMIN, Estado: SANTA CATARINA, Partido: PP\n",
      "SÃO PAULO\n",
      "Nome: ALEXANDRE PADILHA, Estado: SÃO PAULO, Partido: PT\n",
      "Nome: Arlindo Chinaglia, Estado: SÃO PAULO, Partido: PT\n",
      "Nome: ARNALDO JARDIM, Estado: SÃO PAULO, Partido: CIDADANIA\n",
      "Nome: Baleia Rossi, Estado: SÃO PAULO, Partido: MDB\n",
      "Nome: Carlos Sampaio, Estado: SÃO PAULO, Partido: PSDB\n",
      "Nome: Carlos Zarattini, Estado: SÃO PAULO, Partido: PT\n",
      "Nome: EDUARDO BOLSONARO, Estado: SÃO PAULO, Partido: PSL\n",
      "Nome: EDUARDO CURY, Estado: SÃO PAULO, Partido: PSDB\n",
      "Nome: Ivan Valente, Estado: SÃO PAULO, Partido: PSol\n",
      "Nome: JOICE HASSELMANN, Estado: SÃO PAULO, Partido: PSL\n",
      "Nome: José Serra, Estado: SÃO PAULO, Partido: PSDB\n",
      "Nome: KIM KATAGUIRI, Estado: SÃO PAULO, Partido: DEM\n",
      "Nome: Luiza Erundina, Estado: SÃO PAULO, Partido: PSol\n",
      "Nome: MAJOR OLÍMPIO, Estado: SÃO PAULO, Partido: PSL\n",
      "Nome: MARCOS PEREIRA, Estado: SÃO PAULO, Partido: PRB\n",
      "Nome: Orlando Silva, Estado: SÃO PAULO, Partido: PCdoB\n",
      "Nome: Paulo Pereira da Silva, Estado: SÃO PAULO, Partido: Solidariedade\n",
      "Nome: Paulo Teixeira, Estado: SÃO PAULO, Partido: PT\n",
      "Nome: RUI FALCÃO, Estado: SÃO PAULO, Partido: PT\n",
      "Nome: SAMUEL MOREIRA, Estado: SÃO PAULO, Partido: PSDB\n",
      "Nome: TABATA AMARAL, Estado: SÃO PAULO, Partido: PDT\n",
      "SERGIPE\n",
      "Nome: Laercio Oliveira, Estado: SERGIPE, Partido: PP\n",
      "Nome: ROGÉRIO CARVALHO, Estado: SERGIPE, Partido: PT\n",
      "TOCANTINS\n",
      "Nome: EDUARDO GOMES, Estado: TOCANTINS, Partido: MDB\n"
     ]
    }
   ],
   "source": [
    "lista_pag_18=cria_lista_2(pag_18)"
   ]
  },
  {
   "cell_type": "code",
   "execution_count": 36,
   "metadata": {},
   "outputs": [
    {
     "data": {
      "text/plain": [
       "100"
      ]
     },
     "execution_count": 36,
     "metadata": {},
     "output_type": "execute_result"
    },
    {
     "data": {
      "text/html": [
       "<div>\n",
       "<style scoped>\n",
       "    .dataframe tbody tr th:only-of-type {\n",
       "        vertical-align: middle;\n",
       "    }\n",
       "\n",
       "    .dataframe tbody tr th {\n",
       "        vertical-align: top;\n",
       "    }\n",
       "\n",
       "    .dataframe thead th {\n",
       "        text-align: right;\n",
       "    }\n",
       "</style>\n",
       "<table border=\"1\" class=\"dataframe\">\n",
       "  <thead>\n",
       "    <tr style=\"text-align: right;\">\n",
       "      <th></th>\n",
       "      <th>nome</th>\n",
       "      <th>partido</th>\n",
       "      <th>estado</th>\n",
       "      <th>profissão</th>\n",
       "      <th>mandatos</th>\n",
       "      <th>cabeças</th>\n",
       "      <th>debatedor</th>\n",
       "      <th>articulador</th>\n",
       "      <th>formulador</th>\n",
       "      <th>negociador</th>\n",
       "    </tr>\n",
       "  </thead>\n",
       "  <tbody>\n",
       "    <tr>\n",
       "      <th>0</th>\n",
       "      <td>SÉRGIO PETECÃO</td>\n",
       "      <td>PSD</td>\n",
       "      <td>ACRE</td>\n",
       "      <td>EMPRESÁRIO</td>\n",
       "      <td>1o</td>\n",
       "      <td>1.0</td>\n",
       "      <td>NaN</td>\n",
       "      <td>X</td>\n",
       "      <td>NaN</td>\n",
       "      <td>NaN</td>\n",
       "    </tr>\n",
       "    <tr>\n",
       "      <th>1</th>\n",
       "      <td>Arthur Lira</td>\n",
       "      <td>PP</td>\n",
       "      <td>ALAGOAS</td>\n",
       "      <td>Empresário</td>\n",
       "      <td>3°</td>\n",
       "      <td>3.0</td>\n",
       "      <td>NaN</td>\n",
       "      <td>X</td>\n",
       "      <td>NaN</td>\n",
       "      <td>NaN</td>\n",
       "    </tr>\n",
       "    <tr>\n",
       "      <th>2</th>\n",
       "      <td>Renan Calheiros</td>\n",
       "      <td>MDB</td>\n",
       "      <td>ALAGOAS</td>\n",
       "      <td>Produtor Rural</td>\n",
       "      <td>4°</td>\n",
       "      <td>23.0</td>\n",
       "      <td>NaN</td>\n",
       "      <td>X</td>\n",
       "      <td>NaN</td>\n",
       "      <td>NaN</td>\n",
       "    </tr>\n",
       "    <tr>\n",
       "      <th>3</th>\n",
       "      <td>DAVI ALCOLUMBRE</td>\n",
       "      <td>DEM</td>\n",
       "      <td>AMAPÁ</td>\n",
       "      <td>COMERCIANTE</td>\n",
       "      <td>1o</td>\n",
       "      <td>1.0</td>\n",
       "      <td>NaN</td>\n",
       "      <td>X</td>\n",
       "      <td>NaN</td>\n",
       "      <td>NaN</td>\n",
       "    </tr>\n",
       "    <tr>\n",
       "      <th>4</th>\n",
       "      <td>Randolfe Rodrigues</td>\n",
       "      <td>REDE</td>\n",
       "      <td>AMAPÁ</td>\n",
       "      <td>Professor</td>\n",
       "      <td>2°</td>\n",
       "      <td>9.0</td>\n",
       "      <td>X</td>\n",
       "      <td>NaN</td>\n",
       "      <td>NaN</td>\n",
       "      <td>NaN</td>\n",
       "    </tr>\n",
       "  </tbody>\n",
       "</table>\n",
       "</div>"
      ],
      "text/plain": [
       "                  nome partido   estado       profissão mandatos  cabeças  \\\n",
       "0      SÉRGIO PETECÃO      PSD     ACRE      EMPRESÁRIO       1o      1.0   \n",
       "1         Arthur Lira       PP  ALAGOAS      Empresário       3°      3.0   \n",
       "2     Renan Calheiros      MDB  ALAGOAS  Produtor Rural       4°     23.0   \n",
       "3     DAVI ALCOLUMBRE      DEM    AMAPÁ     COMERCIANTE       1o      1.0   \n",
       "4  Randolfe Rodrigues     REDE    AMAPÁ       Professor       2°      9.0   \n",
       "\n",
       "  debatedor articulador formulador negociador  \n",
       "0       NaN           X        NaN        NaN  \n",
       "1       NaN           X        NaN        NaN  \n",
       "2       NaN           X        NaN        NaN  \n",
       "3       NaN           X        NaN        NaN  \n",
       "4         X         NaN        NaN        NaN  "
      ]
     },
     "execution_count": 36,
     "metadata": {},
     "output_type": "execute_result"
    }
   ],
   "source": [
    "lista_full=[]\n",
    "lista_full=lista_pag_17+lista_pag_18\n",
    "len(lista_full)\n",
    "politicos_diap=pd.DataFrame(lista_full)\n",
    "politicos_diap.head()"
   ]
  },
  {
   "cell_type": "code",
   "execution_count": 29,
   "metadata": {},
   "outputs": [
    {
     "data": {
      "text/plain": [
       "'EDUARDO GOMES – MDB EMPRESÁRIO'"
      ]
     },
     "execution_count": 29,
     "metadata": {},
     "output_type": "execute_result"
    }
   ],
   "source": [
    "nome_partido_profissão\n"
   ]
  },
  {
   "cell_type": "code",
   "execution_count": null,
   "metadata": {},
   "outputs": [],
   "source": [
    "– - ------"
   ]
  }
 ],
 "metadata": {
  "kernelspec": {
   "display_name": "Python 3",
   "language": "python",
   "name": "python3"
  },
  "language_info": {
   "codemirror_mode": {
    "name": "ipython",
    "version": 3
   },
   "file_extension": ".py",
   "mimetype": "text/x-python",
   "name": "python",
   "nbconvert_exporter": "python",
   "pygments_lexer": "ipython3",
   "version": "3.7.6"
  }
 },
 "nbformat": 4,
 "nbformat_minor": 4
}

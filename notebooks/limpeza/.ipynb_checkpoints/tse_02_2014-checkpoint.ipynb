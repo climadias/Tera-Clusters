{
 "cells": [
  {
   "cell_type": "code",
   "execution_count": null,
   "metadata": {},
   "outputs": [],
   "source": [
    "import pandas as pd\n",
    "import numpy as np\n",
    "import matplotlib.pyplot as plt\n",
    "import seaborn as sns\n",
    "import csv\n",
    "from IPython.core.interactiveshell import InteractiveShell \n",
    "InteractiveShell.ast_node_interactivity=\"all\""
   ]
  },
  {
   "cell_type": "code",
   "execution_count": null,
   "metadata": {},
   "outputs": [],
   "source": [
    "!ls ../dados/tse"
   ]
  },
  {
   "cell_type": "markdown",
   "metadata": {},
   "source": [
    "# Base de parlamentares"
   ]
  },
  {
   "cell_type": "markdown",
   "metadata": {},
   "source": [
    "## 2014 Senadores"
   ]
  },
  {
   "cell_type": "code",
   "execution_count": null,
   "metadata": {},
   "outputs": [],
   "source": [
    "df_parlamentares=pd.read_csv(\"../dados/tse/candidatos2014.csv\", encoding=\"Latin 1\",header=0)"
   ]
  },
  {
   "cell_type": "code",
   "execution_count": null,
   "metadata": {},
   "outputs": [],
   "source": [
    "df_parlamentares.shape\n",
    "df_parlamentares.info()"
   ]
  },
  {
   "cell_type": "code",
   "execution_count": null,
   "metadata": {},
   "outputs": [],
   "source": [
    "#df_parlamentares.columns"
   ]
  },
  {
   "cell_type": "code",
   "execution_count": null,
   "metadata": {},
   "outputs": [],
   "source": [
    "df_parlamentares=df_parlamentares.drop(columns=['Unnamed: 0',\"SQ_CANDIDATO\", \"NM_SOCIAL_CANDIDATO\",'ANO_ELEICAO', \n",
    "                    'TP_ABRANGENCIA',\n",
    "                    'NM_EMAIL', 'CD_SITUACAO_CANDIDATURA', 'DS_SITUACAO_CANDIDATURA',\n",
    "                    'CD_DETALHE_SITUACAO_CAND', 'DS_DETALHE_SITUACAO_CAND', 'TP_AGREMIACAO',\n",
    "                    'SQ_COLIGACAO','NM_COLIGACAO', 'DS_COMPOSICAO_COLIGACAO', 'CD_NACIONALIDADE',\n",
    "                    'DS_NACIONALIDADE', 'SG_UF_NASCIMENTO', 'CD_MUNICIPIO_NASCIMENTO',\n",
    "                    'NM_MUNICIPIO_NASCIMENTO', 'DT_NASCIMENTO', 'NR_IDADE_DATA_POSSE',\n",
    "                    'NR_TITULO_ELEITORAL_CANDIDATO', 'CD_GENERO', 'DS_GENERO',\n",
    "                    'CD_GRAU_INSTRUCAO', 'DS_GRAU_INSTRUCAO', 'CD_ESTADO_CIVIL',\n",
    "                    'DS_ESTADO_CIVIL', 'CD_COR_RACA', 'DS_COR_RACA', 'CD_OCUPACAO',\n",
    "                    'DS_OCUPACAO', 'NR_DESPESA_MAX_CAMPANHA', 'CD_SIT_TOT_TURNO',\n",
    "                    'DS_SIT_TOT_TURNO', 'ST_REELEICAO', 'ST_DECLARAR_BENS',\n",
    "                    'NR_PROTOCOLO_CANDIDATURA', 'NR_PROCESSO '])\n",
    "df_parlamentares.shape\n",
    "#df_parlamentares.head()"
   ]
  },
  {
   "cell_type": "code",
   "execution_count": null,
   "metadata": {},
   "outputs": [],
   "source": [
    "# Apenas senadores\n",
    "df_parlamentares=df_parlamentares[df_parlamentares[\"DS_CARGO\"]==\"SENADOR\"]\n",
    "df_parlamentares.shape"
   ]
  },
  {
   "cell_type": "code",
   "execution_count": null,
   "metadata": {},
   "outputs": [],
   "source": [
    "lista_uf=list(df_parlamentares[\"SG_UF\"].unique())\n",
    "#lista_uf=[]\n",
    "#lista_uf.append(\"RJ\")\n",
    "lista_uf\n",
    "df_mapa_geral=pd.DataFrame()\n",
    "campos=[\"NR_CPF_CANDIDATO\",\"NR_CANDIDATO\",\"SG_UF\"]"
   ]
  },
  {
   "cell_type": "code",
   "execution_count": null,
   "metadata": {},
   "outputs": [],
   "source": [
    "!ls ../dados/tse/dados_brutos/votação"
   ]
  },
  {
   "cell_type": "code",
   "execution_count": null,
   "metadata": {},
   "outputs": [],
   "source": [
    "colunas=[\"DATA_GERACAO\",\"HORA_GERACAO\",\"ANO_ELEICAO\",\"NUM_TURNO\", \"DESCRICAO_ELEICAO\",\n",
    "         \"SIGLA_UF\",\"SIGLA_UE\",\"CODIGO_MUNICIPIO\",\"NOME_MUNICIPIO\",\"NR_ZONA\",\"NUM_SECAO\",\n",
    "         \"CODIGO_CARGO\",\"DESCRICAO_CARGO\",\"NR_VOTAVEL\",\"QT_VOTOS\"]"
   ]
  },
  {
   "cell_type": "code",
   "execution_count": null,
   "metadata": {},
   "outputs": [],
   "source": [
    "for uf in lista_uf:\n",
    "    df_parl_uf=df_parlamentares[campos][df_parlamentares[\"SG_UF\"]==uf]\n",
    "    n_parlamentares=df_parl_uf.shape[0]\n",
    "    arq=\"../dados/tse/dados_brutos/votação/votacao_secao_2014_\"+uf+\".txt\"\n",
    "    print(arq)\n",
    "    df=pd.read_csv(arq, encoding=\"Latin 1\", sep=\";\",names=colunas)\n",
    "    i=0\n",
    "    while i < n_parlamentares:\n",
    "        numero=df_parl_uf.iloc[i][\"NR_CANDIDATO\"]\n",
    "        cpf=df_parl_uf.iloc[i][\"NR_CPF_CANDIDATO\"]\n",
    "        df_votavel=df[df[\"NR_VOTAVEL\"]==numero]\n",
    "        mapa=df_votavel.groupby(\"NR_ZONA\")[\"QT_VOTOS\"].sum()\n",
    "        parlamentar=pd.DataFrame(mapa, index=None)\n",
    "        parlamentar[\"NR_CANDIDATO\"]=numero\n",
    "        parlamentar[\"NR_CPF_CANDIDATO\"]=cpf\n",
    "        parlamentar[\"SG_UF\"]=uf\n",
    "        parlamentar.reset_index(inplace=True)\n",
    "        df_mapa_geral= df_mapa_geral.append(parlamentar, ignore_index = True)\n",
    "        print(\"Número: {}, Votos: {}\".format(numero,mapa.sum()))\n",
    "        i+=1"
   ]
  },
  {
   "cell_type": "code",
   "execution_count": null,
   "metadata": {},
   "outputs": [],
   "source": [
    "uf"
   ]
  },
  {
   "cell_type": "code",
   "execution_count": null,
   "metadata": {},
   "outputs": [],
   "source": [
    "df_mapa_geral.shape"
   ]
  },
  {
   "cell_type": "code",
   "execution_count": null,
   "metadata": {},
   "outputs": [],
   "source": [
    "df_mapa_geral.head()"
   ]
  },
  {
   "cell_type": "code",
   "execution_count": null,
   "metadata": {},
   "outputs": [],
   "source": [
    "df_mapa_geral.tail()"
   ]
  },
  {
   "cell_type": "code",
   "execution_count": null,
   "metadata": {},
   "outputs": [],
   "source": [
    "df_mapa_geral.to_csv(\"../dados/tse/mapa_geral.csv\")"
   ]
  },
  {
   "cell_type": "code",
   "execution_count": null,
   "metadata": {},
   "outputs": [],
   "source": []
  }
 ],
 "metadata": {
  "kernelspec": {
   "display_name": "Python 3",
   "language": "python",
   "name": "python3"
  },
  "language_info": {
   "codemirror_mode": {
    "name": "ipython",
    "version": 3
   },
   "file_extension": ".py",
   "mimetype": "text/x-python",
   "name": "python",
   "nbconvert_exporter": "python",
   "pygments_lexer": "ipython3",
   "version": "3.7.6"
  }
 },
 "nbformat": 4,
 "nbformat_minor": 4
}

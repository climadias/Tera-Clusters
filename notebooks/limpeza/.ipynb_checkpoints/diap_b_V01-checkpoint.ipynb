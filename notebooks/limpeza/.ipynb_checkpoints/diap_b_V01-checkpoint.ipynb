{
 "cells": [
  {
   "cell_type": "markdown",
   "metadata": {},
   "source": [
    "# Ajuste de CPF diap"
   ]
  },
  {
   "cell_type": "code",
   "execution_count": null,
   "metadata": {},
   "outputs": [],
   "source": [
    "import pandas as pd\n",
    "import geopandas as gpd\n",
    "import matplotlib.pyplot as plt\n",
    "import numpy as np\n",
    "import sqlite3 as sql\n",
    "import seaborn as sns\n",
    "import csv\n",
    "import squarify \n",
    "\n",
    "import os\n",
    "\n",
    "from IPython.core.interactiveshell import InteractiveShell \n",
    "InteractiveShell.ast_node_interactivity=\"all\""
   ]
  },
  {
   "cell_type": "markdown",
   "metadata": {},
   "source": [
    "# Recuperando cadastro parlamentares do sql"
   ]
  },
  {
   "cell_type": "code",
   "execution_count": null,
   "metadata": {},
   "outputs": [],
   "source": [
    "con = sql.connect(\"../dados/sql/base_completa.db\")"
   ]
  },
  {
   "cell_type": "code",
   "execution_count": null,
   "metadata": {},
   "outputs": [],
   "source": [
    "df=pd.read_sql(\"select * from cadastro\",con)"
   ]
  },
  {
   "cell_type": "code",
   "execution_count": null,
   "metadata": {},
   "outputs": [],
   "source": [
    "df.head()"
   ]
  },
  {
   "cell_type": "code",
   "execution_count": null,
   "metadata": {},
   "outputs": [],
   "source": [
    "politicos_diap.to_csv('../dados/diap/politicos_diap.csv', index=False)"
   ]
  },
  {
   "cell_type": "code",
   "execution_count": null,
   "metadata": {},
   "outputs": [],
   "source": [
    "!ls ../dados/tse/dados_limpos"
   ]
  },
  {
   "cell_type": "markdown",
   "metadata": {},
   "source": [
    "### Tratamento dados parlamentares - cadastro base"
   ]
  },
  {
   "cell_type": "code",
   "execution_count": null,
   "metadata": {},
   "outputs": [],
   "source": [
    "#Dados de parlamentares\n",
    "#enc=\"ISO-8859-1\"\n",
    "enc=\"Latin 1\"\n",
    "df_parlamentares=pd.read_csv(\"../dados/tse/dados_limpos/detalhes_parlamentares.csv\", \n",
    "                             encoding=enc,\n",
    "                             header=0)"
   ]
  },
  {
   "cell_type": "code",
   "execution_count": null,
   "metadata": {},
   "outputs": [],
   "source": [
    "#renomeando CPF\n",
    "df_parlamentares.rename(columns={\"NR_CPF_CANDIDATO\":\"CPF\"}, inplace=True)\n"
   ]
  },
  {
   "cell_type": "code",
   "execution_count": null,
   "metadata": {},
   "outputs": [],
   "source": [
    "#df_parlamentares.columns"
   ]
  },
  {
   "cell_type": "code",
   "execution_count": null,
   "metadata": {},
   "outputs": [],
   "source": [
    "#Criando cadastro de parlamentares\n",
    "df_parl_cadastro=df_parlamentares.copy()"
   ]
  },
  {
   "cell_type": "code",
   "execution_count": null,
   "metadata": {},
   "outputs": [],
   "source": [
    "# Drop nas colunas desnecessárias\n",
    "df_parl_cadastro=df_parl_cadastro.drop([\"DS_SIT_TOT_TURNO\",'ST_REELEICAO',\n",
    "                                        'ST_DECLARAR_BENS', 'CD_TIPO_BEM_CANDIDATO',\n",
    "                                        'DS_TIPO_BEM_CANDIDATO', 'DS_BEM_CANDIDATO', \n",
    "                                        'VR_BEM_CANDIDATO'], axis=1)"
   ]
  },
  {
   "cell_type": "code",
   "execution_count": null,
   "metadata": {},
   "outputs": [],
   "source": [
    "# retirando linhas duplicadas do cadastro\n",
    "df_parl_cadastro.drop_duplicates(inplace=True)\n",
    "df_parl_cadastro.reset_index(drop=True, inplace=True)\n",
    "#df_parl_cadastr.shape\n",
    "#df_parl_cadastro.column"
   ]
  },
  {
   "cell_type": "markdown",
   "metadata": {},
   "source": [
    "### Tratamento bens de parlamentares"
   ]
  },
  {
   "cell_type": "code",
   "execution_count": null,
   "metadata": {},
   "outputs": [],
   "source": [
    "#Criando tabela de bens de parmanetares\n",
    "df_parl_bens=df_parlamentares.copy()\n",
    "df_parl_bens=df_parl_bens.drop([\"DS_SIT_TOT_TURNO\",'ST_REELEICAO',\"ANO_ELEICAO\",\n",
    "                                'SG_UE', 'DS_CARGO', 'SQ_CANDIDATO', 'NM_CANDIDATO',\n",
    "                                'NM_URNA_CANDIDATO','NM_EMAIL', 'SG_PARTIDO',\n",
    "                                'SG_UF_NASCIMENTO', 'NM_MUNICIPIO_NASCIMENTO', \n",
    "                                'DT_NASCIMENTO','NR_IDADE_DATA_POSSE', 'DS_GENERO',\n",
    "                                'DS_GRAU_INSTRUCAO','DS_ESTADO_CIVIL', 'DS_COR_RACA', \n",
    "                                'DS_OCUPACAO', 'DS_SIT_TOT_TURNO','ST_REELEICAO'], \n",
    "                               axis=1)\n",
    "df_parl_bens.reset_index(inplace=True, drop=True)\n",
    "#df_parl_bens.shape\n",
    "#df_parl_bens.info()"
   ]
  },
  {
   "cell_type": "markdown",
   "metadata": {},
   "source": [
    "### Ajustando cadastro base com os bens dos parlamentares"
   ]
  },
  {
   "cell_type": "code",
   "execution_count": null,
   "metadata": {},
   "outputs": [],
   "source": [
    "# Criando valor total de bens dos parlamentares e colocando no cadastro\n",
    "df_parl_cadastro[\"VL_BENS\"]=0.\n",
    "i=0\n",
    "nparl=df_parl_cadastro.shape[0]\n",
    "while i < nparl:\n",
    "    cpf=df_parl_cadastro.iloc[i][\"CPF\"]\n",
    "    total=df_parl_bens[df_parl_bens[\"CPF\"]==cpf][\"VR_BEM_CANDIDATO\"].sum()\n",
    "    #print(\"i-> {} CPF: {}, Valor: {}\".format(i,cpf,total))\n",
    "    #vl_bens[i]=total\n",
    "    df_parl_cadastro.loc[i,\"VL_BENS\"]=total\n",
    "    i+=1\n"
   ]
  },
  {
   "cell_type": "code",
   "execution_count": null,
   "metadata": {},
   "outputs": [],
   "source": [
    "#df_parl_cadastro.sample(5)"
   ]
  },
  {
   "cell_type": "code",
   "execution_count": null,
   "metadata": {},
   "outputs": [],
   "source": [
    "#Reordenando colunas\n",
    "df_parl_cadastro=df_parl_cadastro[[\"CPF\",\"NM_CANDIDATO\",\"DT_NASCIMENTO\",\"SG_UF_NASCIMENTO\",\n",
    "                  \"NM_MUNICIPIO_NASCIMENTO\", \"DS_GENERO\", \"DS_GRAU_INSTRUCAO\",\n",
    "                  \"DS_ESTADO_CIVIL\", \"DS_COR_RACA\", \"DS_OCUPACAO\",\"VL_BENS\",\n",
    "                  \"ANO_ELEICAO\", \"DS_CARGO\", \"SG_PARTIDO\",\"SG_UE\",\"SQ_CANDIDATO\",\"NM_URNA_CANDIDATO\",\n",
    "                    \"NR_IDADE_DATA_POSSE\",'NM_EMAIL']]"
   ]
  },
  {
   "cell_type": "markdown",
   "metadata": {},
   "source": [
    "### Dados de votação nos municípios"
   ]
  },
  {
   "cell_type": "code",
   "execution_count": null,
   "metadata": {},
   "outputs": [],
   "source": [
    "#Dados de municipios e votacão\n",
    "enc=\"ISO-8859-1\"\n",
    "#enc=\"Latin 1\"\n",
    "df_municipios=pd.read_csv(\"../dados/tse/dados_limpos/detalhes_municipios.csv\", \n",
    "                             encoding=enc,\n",
    "                             header=0)"
   ]
  },
  {
   "cell_type": "code",
   "execution_count": null,
   "metadata": {},
   "outputs": [],
   "source": [
    "#renomeando CPF\n",
    "df_municipios.rename(columns={\"NR_CPF_CANDIDATO\":\"CPF\"}, inplace=True)\n",
    "#df_municipios.head(5)\n",
    "#df_municipios.info()"
   ]
  },
  {
   "cell_type": "code",
   "execution_count": null,
   "metadata": {},
   "outputs": [],
   "source": [
    "\n",
    "#df_municipios.columns"
   ]
  },
  {
   "cell_type": "code",
   "execution_count": null,
   "metadata": {},
   "outputs": [],
   "source": [
    "df_parl_votacao=df_municipios[[\"CPF\", \"SG_UF\", \"CD_MUNICIPIO\", \"NM_MUNICIPIO\",\n",
    "                            \"VOTOS_TOTAL_MUN\", 'CODIGO_IBGE']].copy()\n",
    "df_parl_votacao.reset_index(inplace=True, drop=True)"
   ]
  },
  {
   "cell_type": "code",
   "execution_count": null,
   "metadata": {},
   "outputs": [],
   "source": [
    "#df_parl_votacao.head()"
   ]
  },
  {
   "cell_type": "code",
   "execution_count": null,
   "metadata": {},
   "outputs": [],
   "source": [
    "df_votacao=df_parl_cadastro[[\"CPF\",\"DS_CARGO\", \"SG_PARTIDO\",\"SG_UE\"]].copy()\n",
    "df_votacao.reset_index(inplace=True, drop=True)\n",
    "df_votacao=pd.merge(df_votacao, df_parl_votacao, how=\"left\", on=\"CPF\")"
   ]
  },
  {
   "cell_type": "code",
   "execution_count": null,
   "metadata": {},
   "outputs": [],
   "source": [
    "df_votacao.shape\n",
    "df_votacao.head()"
   ]
  },
  {
   "cell_type": "markdown",
   "metadata": {},
   "source": [
    "### Tabela consolidando votação dos partidos nos municípios (parlamentares)"
   ]
  },
  {
   "cell_type": "code",
   "execution_count": null,
   "metadata": {},
   "outputs": [],
   "source": [
    "df_partidos_votacao=df_votacao.groupby([\"SG_PARTIDO\",\"SG_UF\",\"DS_CARGO\",\"CODIGO_IBGE\"], \n",
    "                                      as_index=False)[\"VOTOS_TOTAL_MUN\"].sum()\n",
    "df_partidos_votacao.shape"
   ]
  },
  {
   "cell_type": "code",
   "execution_count": null,
   "metadata": {},
   "outputs": [],
   "source": [
    "df_partidos_votacao.head()"
   ]
  },
  {
   "cell_type": "code",
   "execution_count": null,
   "metadata": {},
   "outputs": [],
   "source": [
    "# Código com groupby para consolidar votação\n",
    "#df_partido=df_partidos_votacao[df_partidos_votacao[\"SG_PARTIDO\"]==\"PSOL\"]\n",
    "#df_partido.groupby(\"SG_UF\",as_index=False)[\"VOTOS_TOTAL_MUN\"].sum().sort_values(\"VOTOS_TOTAL_MUN\",ascending=False)"
   ]
  },
  {
   "cell_type": "markdown",
   "metadata": {},
   "source": [
    "### Tabela consolidando votos em legenda nos municípios (legenda)"
   ]
  },
  {
   "cell_type": "code",
   "execution_count": null,
   "metadata": {},
   "outputs": [],
   "source": [
    "#Dados de municipios e votacão\n",
    "enc=\"ISO-8859-1\"\n",
    "#enc=\"Latin 1\"\n",
    "df_legenda=pd.read_csv(\"../dados/tse/dados_limpos/output_voto_legenda.csv\", \n",
    "                             encoding=enc,\n",
    "                             sep=\";\",\n",
    "                             header=0)"
   ]
  },
  {
   "cell_type": "code",
   "execution_count": null,
   "metadata": {},
   "outputs": [],
   "source": [
    "df_legenda.head()\n",
    "df_legenda.shape"
   ]
  },
  {
   "cell_type": "code",
   "execution_count": null,
   "metadata": {},
   "outputs": [],
   "source": [
    "df_legendas_votacao=df_legenda.groupby([\"SG_PARTIDO\",\"SG_UF\",\"DS_CARGO\",\"CODIGO_IBGE\"], \n",
    "                                      as_index=False)[\"VOTOS_TOTAL_MUN\"].sum()\n",
    "df_legendas_votacao.shape\n",
    "df_legendas_votacao.head(5)\n"
   ]
  },
  {
   "cell_type": "markdown",
   "metadata": {},
   "source": [
    "### Tabela cadastro com informações dos municípios"
   ]
  },
  {
   "cell_type": "code",
   "execution_count": null,
   "metadata": {},
   "outputs": [],
   "source": [
    "df_municipios=df_municipios[['CODIGO_IBGE','SG_UF','NM_MUNICIPIO',\n",
    "                          'IDHM_2010', 'IDHM_RENDA_2010',\n",
    "                          'IDHM_LONGEV_2010','IDHM_EDUC_2010']].copy()\n",
    "df_municipios.drop_duplicates(inplace=True)\n",
    "df_municipios.sort_values([\"SG_UF\",\"NM_MUNICIPIO\"], inplace=True)\n",
    "df_municipios.reset_index(inplace=True, drop=True)\n",
    "df_municipios.head()"
   ]
  },
  {
   "cell_type": "markdown",
   "metadata": {},
   "source": [
    "## Salvando bases TSE em base sql"
   ]
  },
  {
   "cell_type": "markdown",
   "metadata": {},
   "source": [
    "### Abrindo base sql"
   ]
  },
  {
   "cell_type": "code",
   "execution_count": null,
   "metadata": {},
   "outputs": [],
   "source": [
    "con = sql.connect(\"../dados/sql/base_completa.db\")"
   ]
  },
  {
   "cell_type": "markdown",
   "metadata": {},
   "source": [
    "### Salvando tabelas"
   ]
  },
  {
   "cell_type": "code",
   "execution_count": null,
   "metadata": {},
   "outputs": [],
   "source": [
    "df_parl_cadastro.to_sql(\"cadastro\",con,if_exists=\"replace\", index=False, index_label=\"CPF\")\n",
    "df_parl_bens.to_sql(\"parl_bens\",con,if_exists=\"replace\", index=False, index_label=\"CPF\")\n",
    "df_parl_votacao.to_sql(\"parl_votacao\",con,if_exists=\"replace\", index=False, index_label=\"CPF\")\n",
    "df_partidos_votacao.to_sql(\"partidos_votacao\",con,if_exists=\"replace\", index=False, index_label=\"SG_PARTIDO\")\n",
    "df_legendas_votacao.to_sql(\"legendas_votacao\",con,if_exists=\"replace\", index=False, index_label=\"SG_PARTIDO\")\n",
    "df_municipios.to_sql(\"municipios\",con,if_exists=\"replace\", index=False, index_label=\"CODIGO_IBGE\")"
   ]
  },
  {
   "cell_type": "markdown",
   "metadata": {},
   "source": [
    "### fechando base sql"
   ]
  },
  {
   "cell_type": "code",
   "execution_count": null,
   "metadata": {},
   "outputs": [],
   "source": [
    "con.close()"
   ]
  },
  {
   "cell_type": "markdown",
   "metadata": {},
   "source": [
    "## Exemplo de abertura de base sql e carga em dataframe"
   ]
  },
  {
   "cell_type": "code",
   "execution_count": null,
   "metadata": {},
   "outputs": [],
   "source": [
    "df_1=pd.read_sql(\"select * from bens where cpf=274003953\",con)"
   ]
  },
  {
   "cell_type": "code",
   "execution_count": null,
   "metadata": {},
   "outputs": [],
   "source": [
    "df_1"
   ]
  },
  {
   "cell_type": "code",
   "execution_count": null,
   "metadata": {},
   "outputs": [],
   "source": [
    "con.close()"
   ]
  },
  {
   "cell_type": "code",
   "execution_count": null,
   "metadata": {},
   "outputs": [],
   "source": [
    "# Tratamento diap"
   ]
  },
  {
   "cell_type": "markdown",
   "metadata": {},
   "source": [
    "# Para verificar o conteúdo da base por uma ferramenta externa utilize\n",
    "# https://sqlitebrowser.org/"
   ]
  },
  {
   "cell_type": "code",
   "execution_count": null,
   "metadata": {},
   "outputs": [],
   "source": []
  }
 ],
 "metadata": {
  "kernelspec": {
   "display_name": "Python 3",
   "language": "python",
   "name": "python3"
  },
  "language_info": {
   "codemirror_mode": {
    "name": "ipython",
    "version": 3
   },
   "file_extension": ".py",
   "mimetype": "text/x-python",
   "name": "python",
   "nbconvert_exporter": "python",
   "pygments_lexer": "ipython3",
   "version": "3.7.6"
  }
 },
 "nbformat": 4,
 "nbformat_minor": 4
}

{
 "cells": [
  {
   "cell_type": "code",
   "execution_count": 1,
   "metadata": {},
   "outputs": [],
   "source": [
    "import pandas as pd\n",
    "import numpy as np\n",
    "import matplotlib.pyplot as plt\n",
    "import seaborn as sns\n",
    "import csv\n",
    "from IPython.core.interactiveshell import InteractiveShell \n",
    "InteractiveShell.ast_node_interactivity=\"all\""
   ]
  },
  {
   "cell_type": "code",
   "execution_count": 2,
   "metadata": {},
   "outputs": [
    {
     "name": "stdout",
     "output_type": "stream",
     "text": [
      " BWEB_1t_RJ_101020181938.zip  'Dados Brutos-20200621T222156Z-001.zip'\n",
      " bweb_1t_RJ_101020182014.csv   leiame-boletimurnaweb.pdf\n",
      " candidatos2014.csv\t       leiame.pdf\n",
      " candidatos2018.csv\t       mapa_geral_2014.csv\n",
      " consulta_cand_2018.zip        mapa_geral_2018.csv\n",
      " dados_brutos\n"
     ]
    }
   ],
   "source": [
    "!ls ../dados/tse"
   ]
  },
  {
   "cell_type": "markdown",
   "metadata": {},
   "source": [
    "# Base de parlamentares"
   ]
  },
  {
   "cell_type": "markdown",
   "metadata": {},
   "source": [
    "## 2014 Senadores"
   ]
  },
  {
   "cell_type": "code",
   "execution_count": 3,
   "metadata": {},
   "outputs": [],
   "source": [
    "df_parlamentares=pd.read_csv(\"../dados/tse/candidatos2014.csv\", encoding=\"Latin 1\",header=0)"
   ]
  },
  {
   "cell_type": "code",
   "execution_count": 4,
   "metadata": {},
   "outputs": [
    {
     "data": {
      "text/plain": [
       "(540, 49)"
      ]
     },
     "execution_count": 4,
     "metadata": {},
     "output_type": "execute_result"
    },
    {
     "name": "stdout",
     "output_type": "stream",
     "text": [
      "<class 'pandas.core.frame.DataFrame'>\n",
      "RangeIndex: 540 entries, 0 to 539\n",
      "Data columns (total 49 columns):\n",
      " #   Column                         Non-Null Count  Dtype  \n",
      "---  ------                         --------------  -----  \n",
      " 0   Unnamed: 0                     540 non-null    int64  \n",
      " 1   ANO_ELEICAO                    540 non-null    int64  \n",
      " 2   TP_ABRANGENCIA                 540 non-null    object \n",
      " 3   SG_UF                          540 non-null    object \n",
      " 4   CD_CARGO                       540 non-null    int64  \n",
      " 5   DS_CARGO                       540 non-null    object \n",
      " 6   SQ_CANDIDATO                   540 non-null    int64  \n",
      " 7   NR_CANDIDATO                   540 non-null    int64  \n",
      " 8   NM_CANDIDATO                   540 non-null    object \n",
      " 9   NM_URNA_CANDIDATO              540 non-null    object \n",
      " 10  NM_SOCIAL_CANDIDATO            540 non-null    object \n",
      " 11  NR_CPF_CANDIDATO               540 non-null    int64  \n",
      " 12  NM_EMAIL                       540 non-null    object \n",
      " 13  CD_SITUACAO_CANDIDATURA        540 non-null    int64  \n",
      " 14  DS_SITUACAO_CANDIDATURA        540 non-null    object \n",
      " 15  CD_DETALHE_SITUACAO_CAND       540 non-null    int64  \n",
      " 16  DS_DETALHE_SITUACAO_CAND       540 non-null    object \n",
      " 17  TP_AGREMIACAO                  540 non-null    object \n",
      " 18  NR_PARTIDO                     540 non-null    int64  \n",
      " 19  SG_PARTIDO                     540 non-null    object \n",
      " 20  NM_PARTIDO                     540 non-null    object \n",
      " 21  SQ_COLIGACAO                   540 non-null    int64  \n",
      " 22  NM_COLIGACAO                   540 non-null    object \n",
      " 23  DS_COMPOSICAO_COLIGACAO        540 non-null    object \n",
      " 24  CD_NACIONALIDADE               540 non-null    int64  \n",
      " 25  DS_NACIONALIDADE               540 non-null    object \n",
      " 26  SG_UF_NASCIMENTO               540 non-null    object \n",
      " 27  CD_MUNICIPIO_NASCIMENTO        540 non-null    int64  \n",
      " 28  NM_MUNICIPIO_NASCIMENTO        540 non-null    object \n",
      " 29  DT_NASCIMENTO                  540 non-null    object \n",
      " 30  NR_IDADE_DATA_POSSE            540 non-null    float64\n",
      " 31  NR_TITULO_ELEITORAL_CANDIDATO  540 non-null    int64  \n",
      " 32  CD_GENERO                      540 non-null    int64  \n",
      " 33  DS_GENERO                      540 non-null    object \n",
      " 34  CD_GRAU_INSTRUCAO              540 non-null    int64  \n",
      " 35  DS_GRAU_INSTRUCAO              540 non-null    object \n",
      " 36  CD_ESTADO_CIVIL                540 non-null    int64  \n",
      " 37  DS_ESTADO_CIVIL                540 non-null    object \n",
      " 38  CD_COR_RACA                    540 non-null    int64  \n",
      " 39  DS_COR_RACA                    540 non-null    object \n",
      " 40  CD_OCUPACAO                    540 non-null    int64  \n",
      " 41  DS_OCUPACAO                    540 non-null    object \n",
      " 42  NR_DESPESA_MAX_CAMPANHA        540 non-null    int64  \n",
      " 43  CD_SIT_TOT_TURNO               540 non-null    int64  \n",
      " 44  DS_SIT_TOT_TURNO               540 non-null    object \n",
      " 45  ST_REELEICAO                   540 non-null    object \n",
      " 46  ST_DECLARAR_BENS               540 non-null    object \n",
      " 47  NR_PROTOCOLO_CANDIDATURA       540 non-null    int64  \n",
      " 48  NR_PROCESSO                    540 non-null    int64  \n",
      "dtypes: float64(1), int64(22), object(26)\n",
      "memory usage: 206.8+ KB\n"
     ]
    }
   ],
   "source": [
    "df_parlamentares.shape\n",
    "df_parlamentares.info()"
   ]
  },
  {
   "cell_type": "code",
   "execution_count": 5,
   "metadata": {},
   "outputs": [],
   "source": [
    "#df_parlamentares.columns"
   ]
  },
  {
   "cell_type": "code",
   "execution_count": 6,
   "metadata": {},
   "outputs": [
    {
     "data": {
      "text/plain": [
       "(540, 10)"
      ]
     },
     "execution_count": 6,
     "metadata": {},
     "output_type": "execute_result"
    }
   ],
   "source": [
    "df_parlamentares=df_parlamentares.drop(columns=['Unnamed: 0',\"SQ_CANDIDATO\", \"NM_SOCIAL_CANDIDATO\",'ANO_ELEICAO', \n",
    "                    'TP_ABRANGENCIA',\n",
    "                    'NM_EMAIL', 'CD_SITUACAO_CANDIDATURA', 'DS_SITUACAO_CANDIDATURA',\n",
    "                    'CD_DETALHE_SITUACAO_CAND', 'DS_DETALHE_SITUACAO_CAND', 'TP_AGREMIACAO',\n",
    "                    'SQ_COLIGACAO','NM_COLIGACAO', 'DS_COMPOSICAO_COLIGACAO', 'CD_NACIONALIDADE',\n",
    "                    'DS_NACIONALIDADE', 'SG_UF_NASCIMENTO', 'CD_MUNICIPIO_NASCIMENTO',\n",
    "                    'NM_MUNICIPIO_NASCIMENTO', 'DT_NASCIMENTO', 'NR_IDADE_DATA_POSSE',\n",
    "                    'NR_TITULO_ELEITORAL_CANDIDATO', 'CD_GENERO', 'DS_GENERO',\n",
    "                    'CD_GRAU_INSTRUCAO', 'DS_GRAU_INSTRUCAO', 'CD_ESTADO_CIVIL',\n",
    "                    'DS_ESTADO_CIVIL', 'CD_COR_RACA', 'DS_COR_RACA', 'CD_OCUPACAO',\n",
    "                    'DS_OCUPACAO', 'NR_DESPESA_MAX_CAMPANHA', 'CD_SIT_TOT_TURNO',\n",
    "                    'DS_SIT_TOT_TURNO', 'ST_REELEICAO', 'ST_DECLARAR_BENS',\n",
    "                    'NR_PROTOCOLO_CANDIDATURA', 'NR_PROCESSO '])\n",
    "df_parlamentares.shape\n",
    "#df_parlamentares.head()"
   ]
  },
  {
   "cell_type": "code",
   "execution_count": 7,
   "metadata": {},
   "outputs": [
    {
     "data": {
      "text/plain": [
       "(27, 10)"
      ]
     },
     "execution_count": 7,
     "metadata": {},
     "output_type": "execute_result"
    }
   ],
   "source": [
    "# Apenas senadores\n",
    "df_parlamentares=df_parlamentares[df_parlamentares[\"DS_CARGO\"]==\"SENADOR\"]\n",
    "df_parlamentares.shape"
   ]
  },
  {
   "cell_type": "code",
   "execution_count": 8,
   "metadata": {},
   "outputs": [
    {
     "data": {
      "text/plain": [
       "['MT',\n",
       " 'SP',\n",
       " 'DF',\n",
       " 'PR',\n",
       " 'GO',\n",
       " 'RJ',\n",
       " 'PE',\n",
       " 'AP',\n",
       " 'SC',\n",
       " 'ES',\n",
       " 'RO',\n",
       " 'AM',\n",
       " 'CE',\n",
       " 'AL',\n",
       " 'RN',\n",
       " 'PI',\n",
       " 'AC',\n",
       " 'SE',\n",
       " 'TO',\n",
       " 'MS',\n",
       " 'MA',\n",
       " 'RR',\n",
       " 'PA',\n",
       " 'BA',\n",
       " 'PB',\n",
       " 'RS',\n",
       " 'MG']"
      ]
     },
     "execution_count": 8,
     "metadata": {},
     "output_type": "execute_result"
    }
   ],
   "source": [
    "lista_uf=list(df_parlamentares[\"SG_UF\"].unique())\n",
    "#lista_uf=[]\n",
    "#lista_uf.append(\"RJ\")\n",
    "lista_uf\n",
    "df_mapa_geral=pd.DataFrame()\n",
    "campos=[\"NR_CPF_CANDIDATO\",\"NR_CANDIDATO\",\"SG_UF\"]"
   ]
  },
  {
   "cell_type": "code",
   "execution_count": 9,
   "metadata": {},
   "outputs": [
    {
     "name": "stdout",
     "output_type": "stream",
     "text": [
      "LEIAME.pdf\t\t   votacao_secao_2014_MA.txt  votacao_secao_2014_RN.txt\n",
      "votacao_secao_2014_AC.txt  votacao_secao_2014_MG.txt  votacao_secao_2014_RO.txt\n",
      "votacao_secao_2014_AL.txt  votacao_secao_2014_MS.txt  votacao_secao_2014_RR.txt\n",
      "votacao_secao_2014_AM.txt  votacao_secao_2014_MT.txt  votacao_secao_2014_RS.txt\n",
      "votacao_secao_2014_AP.txt  votacao_secao_2014_PA.txt  votacao_secao_2014_SC.txt\n",
      "votacao_secao_2014_BA.txt  votacao_secao_2014_PB.txt  votacao_secao_2014_SE.txt\n",
      "votacao_secao_2014_CE.txt  votacao_secao_2014_PE.txt  votacao_secao_2014_SP.txt\n",
      "votacao_secao_2014_DF.txt  votacao_secao_2014_PI.txt  votacao_secao_2014_TO.txt\n",
      "votacao_secao_2014_ES.txt  votacao_secao_2014_PR.txt\n",
      "votacao_secao_2014_GO.txt  votacao_secao_2014_RJ.txt\n"
     ]
    }
   ],
   "source": [
    "!ls ../dados/tse/dados_brutos/votação"
   ]
  },
  {
   "cell_type": "code",
   "execution_count": 10,
   "metadata": {},
   "outputs": [],
   "source": [
    "colunas=[\"DATA_GERACAO\",\"HORA_GERACAO\",\"ANO_ELEICAO\",\"NUM_TURNO\", \"DESCRICAO_ELEICAO\",\n",
    "         \"SIGLA_UF\",\"SIGLA_UE\",\"CODIGO_MUNICIPIO\",\"NOME_MUNICIPIO\",\"NR_ZONA\",\"NUM_SECAO\",\n",
    "         \"CODIGO_CARGO\",\"DESCRICAO_CARGO\",\"NR_VOTAVEL\",\"QT_VOTOS\"]"
   ]
  },
  {
   "cell_type": "code",
   "execution_count": 11,
   "metadata": {},
   "outputs": [
    {
     "name": "stdout",
     "output_type": "stream",
     "text": [
      "../dados/tse/dados_brutos/votação/votacao_secao_2014_MT.txt\n",
      "Número: 222, Votos: 646344\n",
      "../dados/tse/dados_brutos/votação/votacao_secao_2014_SP.txt\n",
      "Número: 456, Votos: 11105874\n",
      "../dados/tse/dados_brutos/votação/votacao_secao_2014_DF.txt\n",
      "Número: 123, Votos: 826576\n",
      "../dados/tse/dados_brutos/votação/votacao_secao_2014_PR.txt\n",
      "Número: 456, Votos: 4101848\n",
      "../dados/tse/dados_brutos/votação/votacao_secao_2014_GO.txt\n",
      "Número: 251, Votos: 1283665\n",
      "../dados/tse/dados_brutos/votação/votacao_secao_2014_RJ.txt\n",
      "Número: 400, Votos: 4683963\n",
      "../dados/tse/dados_brutos/votação/votacao_secao_2014_PE.txt\n",
      "Número: 400, Votos: 2655912\n",
      "../dados/tse/dados_brutos/votação/votacao_secao_2014_AP.txt\n",
      "Número: 255, Votos: 131695\n",
      "../dados/tse/dados_brutos/votação/votacao_secao_2014_SC.txt\n",
      "Número: 155, Votos: 1308521\n",
      "../dados/tse/dados_brutos/votação/votacao_secao_2014_ES.txt\n",
      "Número: 156, Votos: 776978\n",
      "../dados/tse/dados_brutos/votação/votacao_secao_2014_RO.txt\n",
      "Número: 123, Votos: 312614\n",
      "../dados/tse/dados_brutos/votação/votacao_secao_2014_AM.txt\n",
      "Número: 555, Votos: 933996\n",
      "../dados/tse/dados_brutos/votação/votacao_secao_2014_CE.txt\n",
      "Número: 456, Votos: 2314796\n",
      "../dados/tse/dados_brutos/votação/votacao_secao_2014_AL.txt\n",
      "Número: 144, Votos: 689266\n",
      "../dados/tse/dados_brutos/votação/votacao_secao_2014_RN.txt\n",
      "Número: 131, Votos: 808055\n",
      "../dados/tse/dados_brutos/votação/votacao_secao_2014_PI.txt\n",
      "Número: 141, Votos: 981219\n",
      "../dados/tse/dados_brutos/votação/votacao_secao_2014_AC.txt\n",
      "Número: 111, Votos: 218756\n",
      "../dados/tse/dados_brutos/votação/votacao_secao_2014_SE.txt\n",
      "Número: 251, Votos: 448102\n",
      "../dados/tse/dados_brutos/votação/votacao_secao_2014_TO.txt\n",
      "Número: 155, Votos: 282052\n",
      "../dados/tse/dados_brutos/votação/votacao_secao_2014_MS.txt\n",
      "Número: 151, Votos: 640336\n",
      "../dados/tse/dados_brutos/votação/votacao_secao_2014_MA.txt\n",
      "Número: 400, Votos: 1476840\n",
      "../dados/tse/dados_brutos/votação/votacao_secao_2014_RR.txt\n",
      "Número: 123, Votos: 96888\n",
      "../dados/tse/dados_brutos/votação/votacao_secao_2014_PA.txt\n",
      "Número: 131, Votos: 1566350\n",
      "../dados/tse/dados_brutos/votação/votacao_secao_2014_BA.txt\n",
      "Número: 555, Votos: 3341111\n",
      "../dados/tse/dados_brutos/votação/votacao_secao_2014_PB.txt\n",
      "Número: 155, Votos: 647271\n",
      "../dados/tse/dados_brutos/votação/votacao_secao_2014_RS.txt\n",
      "Número: 123, Votos: 2145479\n",
      "../dados/tse/dados_brutos/votação/votacao_secao_2014_MG.txt\n",
      "Número: 456, Votos: 5102987\n"
     ]
    }
   ],
   "source": [
    "for uf in lista_uf:\n",
    "    df_parl_uf=df_parlamentares[campos][df_parlamentares[\"SG_UF\"]==uf]\n",
    "    n_parlamentares=df_parl_uf.shape[0]\n",
    "    arq=\"../dados/tse/dados_brutos/votação/votacao_secao_2014_\"+uf+\".txt\"\n",
    "    print(arq)\n",
    "    df=pd.read_csv(arq, encoding=\"Latin 1\", sep=\";\",names=colunas)\n",
    "    i=0\n",
    "    while i < n_parlamentares:\n",
    "        numero=df_parl_uf.iloc[i][\"NR_CANDIDATO\"]\n",
    "        cpf=df_parl_uf.iloc[i][\"NR_CPF_CANDIDATO\"]\n",
    "        df_votavel=df[df[\"NR_VOTAVEL\"]==numero]\n",
    "        mapa=df_votavel.groupby(\"NR_ZONA\")[\"QT_VOTOS\"].sum()\n",
    "        parlamentar=pd.DataFrame(mapa, index=None)\n",
    "        parlamentar[\"NR_CANDIDATO\"]=numero\n",
    "        parlamentar[\"NR_CPF_CANDIDATO\"]=cpf\n",
    "        parlamentar[\"SG_UF\"]=uf\n",
    "        parlamentar.reset_index(inplace=True)\n",
    "        df_mapa_geral= df_mapa_geral.append(parlamentar, ignore_index = True)\n",
    "        print(\"Número: {}, Votos: {}\".format(numero,mapa.sum()))\n",
    "        i+=1"
   ]
  },
  {
   "cell_type": "code",
   "execution_count": 12,
   "metadata": {},
   "outputs": [
    {
     "data": {
      "text/plain": [
       "'MG'"
      ]
     },
     "execution_count": 12,
     "metadata": {},
     "output_type": "execute_result"
    }
   ],
   "source": [
    "uf"
   ]
  },
  {
   "cell_type": "code",
   "execution_count": 13,
   "metadata": {},
   "outputs": [
    {
     "data": {
      "text/plain": [
       "(3032, 5)"
      ]
     },
     "execution_count": 13,
     "metadata": {},
     "output_type": "execute_result"
    }
   ],
   "source": [
    "df_mapa_geral.shape"
   ]
  },
  {
   "cell_type": "code",
   "execution_count": 14,
   "metadata": {},
   "outputs": [
    {
     "data": {
      "text/html": [
       "<div>\n",
       "<style scoped>\n",
       "    .dataframe tbody tr th:only-of-type {\n",
       "        vertical-align: middle;\n",
       "    }\n",
       "\n",
       "    .dataframe tbody tr th {\n",
       "        vertical-align: top;\n",
       "    }\n",
       "\n",
       "    .dataframe thead th {\n",
       "        text-align: right;\n",
       "    }\n",
       "</style>\n",
       "<table border=\"1\" class=\"dataframe\">\n",
       "  <thead>\n",
       "    <tr style=\"text-align: right;\">\n",
       "      <th></th>\n",
       "      <th>NR_ZONA</th>\n",
       "      <th>QT_VOTOS</th>\n",
       "      <th>NR_CANDIDATO</th>\n",
       "      <th>NR_CPF_CANDIDATO</th>\n",
       "      <th>SG_UF</th>\n",
       "    </tr>\n",
       "  </thead>\n",
       "  <tbody>\n",
       "    <tr>\n",
       "      <th>0</th>\n",
       "      <td>1</td>\n",
       "      <td>12842</td>\n",
       "      <td>222</td>\n",
       "      <td>23019093104</td>\n",
       "      <td>MT</td>\n",
       "    </tr>\n",
       "    <tr>\n",
       "      <th>1</th>\n",
       "      <td>2</td>\n",
       "      <td>3343</td>\n",
       "      <td>222</td>\n",
       "      <td>23019093104</td>\n",
       "      <td>MT</td>\n",
       "    </tr>\n",
       "    <tr>\n",
       "      <th>2</th>\n",
       "      <td>3</td>\n",
       "      <td>9321</td>\n",
       "      <td>222</td>\n",
       "      <td>23019093104</td>\n",
       "      <td>MT</td>\n",
       "    </tr>\n",
       "    <tr>\n",
       "      <th>3</th>\n",
       "      <td>4</td>\n",
       "      <td>7730</td>\n",
       "      <td>222</td>\n",
       "      <td>23019093104</td>\n",
       "      <td>MT</td>\n",
       "    </tr>\n",
       "    <tr>\n",
       "      <th>4</th>\n",
       "      <td>5</td>\n",
       "      <td>4422</td>\n",
       "      <td>222</td>\n",
       "      <td>23019093104</td>\n",
       "      <td>MT</td>\n",
       "    </tr>\n",
       "  </tbody>\n",
       "</table>\n",
       "</div>"
      ],
      "text/plain": [
       "   NR_ZONA  QT_VOTOS  NR_CANDIDATO  NR_CPF_CANDIDATO SG_UF\n",
       "0        1     12842           222       23019093104    MT\n",
       "1        2      3343           222       23019093104    MT\n",
       "2        3      9321           222       23019093104    MT\n",
       "3        4      7730           222       23019093104    MT\n",
       "4        5      4422           222       23019093104    MT"
      ]
     },
     "execution_count": 14,
     "metadata": {},
     "output_type": "execute_result"
    }
   ],
   "source": [
    "df_mapa_geral.head()"
   ]
  },
  {
   "cell_type": "code",
   "execution_count": 15,
   "metadata": {},
   "outputs": [
    {
     "data": {
      "text/html": [
       "<div>\n",
       "<style scoped>\n",
       "    .dataframe tbody tr th:only-of-type {\n",
       "        vertical-align: middle;\n",
       "    }\n",
       "\n",
       "    .dataframe tbody tr th {\n",
       "        vertical-align: top;\n",
       "    }\n",
       "\n",
       "    .dataframe thead th {\n",
       "        text-align: right;\n",
       "    }\n",
       "</style>\n",
       "<table border=\"1\" class=\"dataframe\">\n",
       "  <thead>\n",
       "    <tr style=\"text-align: right;\">\n",
       "      <th></th>\n",
       "      <th>NR_ZONA</th>\n",
       "      <th>QT_VOTOS</th>\n",
       "      <th>NR_CANDIDATO</th>\n",
       "      <th>NR_CPF_CANDIDATO</th>\n",
       "      <th>SG_UF</th>\n",
       "    </tr>\n",
       "  </thead>\n",
       "  <tbody>\n",
       "    <tr>\n",
       "      <th>3027</th>\n",
       "      <td>347</td>\n",
       "      <td>14027</td>\n",
       "      <td>456</td>\n",
       "      <td>47555882604</td>\n",
       "      <td>MG</td>\n",
       "    </tr>\n",
       "    <tr>\n",
       "      <th>3028</th>\n",
       "      <td>348</td>\n",
       "      <td>17468</td>\n",
       "      <td>456</td>\n",
       "      <td>47555882604</td>\n",
       "      <td>MG</td>\n",
       "    </tr>\n",
       "    <tr>\n",
       "      <th>3029</th>\n",
       "      <td>349</td>\n",
       "      <td>16922</td>\n",
       "      <td>456</td>\n",
       "      <td>47555882604</td>\n",
       "      <td>MG</td>\n",
       "    </tr>\n",
       "    <tr>\n",
       "      <th>3030</th>\n",
       "      <td>350</td>\n",
       "      <td>22253</td>\n",
       "      <td>456</td>\n",
       "      <td>47555882604</td>\n",
       "      <td>MG</td>\n",
       "    </tr>\n",
       "    <tr>\n",
       "      <th>3031</th>\n",
       "      <td>351</td>\n",
       "      <td>19595</td>\n",
       "      <td>456</td>\n",
       "      <td>47555882604</td>\n",
       "      <td>MG</td>\n",
       "    </tr>\n",
       "  </tbody>\n",
       "</table>\n",
       "</div>"
      ],
      "text/plain": [
       "      NR_ZONA  QT_VOTOS  NR_CANDIDATO  NR_CPF_CANDIDATO SG_UF\n",
       "3027      347     14027           456       47555882604    MG\n",
       "3028      348     17468           456       47555882604    MG\n",
       "3029      349     16922           456       47555882604    MG\n",
       "3030      350     22253           456       47555882604    MG\n",
       "3031      351     19595           456       47555882604    MG"
      ]
     },
     "execution_count": 15,
     "metadata": {},
     "output_type": "execute_result"
    }
   ],
   "source": [
    "df_mapa_geral.tail()"
   ]
  },
  {
   "cell_type": "code",
   "execution_count": 17,
   "metadata": {},
   "outputs": [],
   "source": [
    "df_mapa_geral.to_csv(\"../dados/tse/mapa_geral_2014.csv\", index=False)"
   ]
  },
  {
   "cell_type": "code",
   "execution_count": 18,
   "metadata": {},
   "outputs": [],
   "source": [
    "df_mapa_geral_2018=pd.read_csv(\"../dados/tse/mapa_geral_2018.csv\")\n",
    "df_mapa_geral_2018=df_mapa_geral_2018.drop(columns=\"Unnamed: 0\")\n",
    "df_mapa_geral_final=df_mapa_geral.append(df_mapa_geral_2018, ignore_index = True)             "
   ]
  },
  {
   "cell_type": "code",
   "execution_count": 19,
   "metadata": {},
   "outputs": [
    {
     "data": {
      "text/plain": [
       "(93794, 5)"
      ]
     },
     "execution_count": 19,
     "metadata": {},
     "output_type": "execute_result"
    },
    {
     "data": {
      "text/html": [
       "<div>\n",
       "<style scoped>\n",
       "    .dataframe tbody tr th:only-of-type {\n",
       "        vertical-align: middle;\n",
       "    }\n",
       "\n",
       "    .dataframe tbody tr th {\n",
       "        vertical-align: top;\n",
       "    }\n",
       "\n",
       "    .dataframe thead th {\n",
       "        text-align: right;\n",
       "    }\n",
       "</style>\n",
       "<table border=\"1\" class=\"dataframe\">\n",
       "  <thead>\n",
       "    <tr style=\"text-align: right;\">\n",
       "      <th></th>\n",
       "      <th>NR_ZONA</th>\n",
       "      <th>QT_VOTOS</th>\n",
       "      <th>NR_CANDIDATO</th>\n",
       "      <th>NR_CPF_CANDIDATO</th>\n",
       "      <th>SG_UF</th>\n",
       "    </tr>\n",
       "  </thead>\n",
       "  <tbody>\n",
       "    <tr>\n",
       "      <th>0</th>\n",
       "      <td>1</td>\n",
       "      <td>12842</td>\n",
       "      <td>222</td>\n",
       "      <td>23019093104</td>\n",
       "      <td>MT</td>\n",
       "    </tr>\n",
       "    <tr>\n",
       "      <th>1</th>\n",
       "      <td>2</td>\n",
       "      <td>3343</td>\n",
       "      <td>222</td>\n",
       "      <td>23019093104</td>\n",
       "      <td>MT</td>\n",
       "    </tr>\n",
       "    <tr>\n",
       "      <th>2</th>\n",
       "      <td>3</td>\n",
       "      <td>9321</td>\n",
       "      <td>222</td>\n",
       "      <td>23019093104</td>\n",
       "      <td>MT</td>\n",
       "    </tr>\n",
       "    <tr>\n",
       "      <th>3</th>\n",
       "      <td>4</td>\n",
       "      <td>7730</td>\n",
       "      <td>222</td>\n",
       "      <td>23019093104</td>\n",
       "      <td>MT</td>\n",
       "    </tr>\n",
       "    <tr>\n",
       "      <th>4</th>\n",
       "      <td>5</td>\n",
       "      <td>4422</td>\n",
       "      <td>222</td>\n",
       "      <td>23019093104</td>\n",
       "      <td>MT</td>\n",
       "    </tr>\n",
       "  </tbody>\n",
       "</table>\n",
       "</div>"
      ],
      "text/plain": [
       "   NR_ZONA  QT_VOTOS  NR_CANDIDATO  NR_CPF_CANDIDATO SG_UF\n",
       "0        1     12842           222       23019093104    MT\n",
       "1        2      3343           222       23019093104    MT\n",
       "2        3      9321           222       23019093104    MT\n",
       "3        4      7730           222       23019093104    MT\n",
       "4        5      4422           222       23019093104    MT"
      ]
     },
     "execution_count": 19,
     "metadata": {},
     "output_type": "execute_result"
    },
    {
     "data": {
      "text/html": [
       "<div>\n",
       "<style scoped>\n",
       "    .dataframe tbody tr th:only-of-type {\n",
       "        vertical-align: middle;\n",
       "    }\n",
       "\n",
       "    .dataframe tbody tr th {\n",
       "        vertical-align: top;\n",
       "    }\n",
       "\n",
       "    .dataframe thead th {\n",
       "        text-align: right;\n",
       "    }\n",
       "</style>\n",
       "<table border=\"1\" class=\"dataframe\">\n",
       "  <thead>\n",
       "    <tr style=\"text-align: right;\">\n",
       "      <th></th>\n",
       "      <th>NR_ZONA</th>\n",
       "      <th>QT_VOTOS</th>\n",
       "      <th>NR_CANDIDATO</th>\n",
       "      <th>NR_CPF_CANDIDATO</th>\n",
       "      <th>SG_UF</th>\n",
       "    </tr>\n",
       "  </thead>\n",
       "  <tbody>\n",
       "    <tr>\n",
       "      <th>93789</th>\n",
       "      <td>29</td>\n",
       "      <td>1048</td>\n",
       "      <td>1777</td>\n",
       "      <td>70335591787</td>\n",
       "      <td>RO</td>\n",
       "    </tr>\n",
       "    <tr>\n",
       "      <th>93790</th>\n",
       "      <td>30</td>\n",
       "      <td>865</td>\n",
       "      <td>1777</td>\n",
       "      <td>70335591787</td>\n",
       "      <td>RO</td>\n",
       "    </tr>\n",
       "    <tr>\n",
       "      <th>93791</th>\n",
       "      <td>32</td>\n",
       "      <td>354</td>\n",
       "      <td>1777</td>\n",
       "      <td>70335591787</td>\n",
       "      <td>RO</td>\n",
       "    </tr>\n",
       "    <tr>\n",
       "      <th>93792</th>\n",
       "      <td>34</td>\n",
       "      <td>648</td>\n",
       "      <td>1777</td>\n",
       "      <td>70335591787</td>\n",
       "      <td>RO</td>\n",
       "    </tr>\n",
       "    <tr>\n",
       "      <th>93793</th>\n",
       "      <td>35</td>\n",
       "      <td>173</td>\n",
       "      <td>1777</td>\n",
       "      <td>70335591787</td>\n",
       "      <td>RO</td>\n",
       "    </tr>\n",
       "  </tbody>\n",
       "</table>\n",
       "</div>"
      ],
      "text/plain": [
       "       NR_ZONA  QT_VOTOS  NR_CANDIDATO  NR_CPF_CANDIDATO SG_UF\n",
       "93789       29      1048          1777       70335591787    RO\n",
       "93790       30       865          1777       70335591787    RO\n",
       "93791       32       354          1777       70335591787    RO\n",
       "93792       34       648          1777       70335591787    RO\n",
       "93793       35       173          1777       70335591787    RO"
      ]
     },
     "execution_count": 19,
     "metadata": {},
     "output_type": "execute_result"
    }
   ],
   "source": [
    "df_mapa_geral_final.shape\n",
    "df_mapa_geral_final.head()\n",
    "df_mapa_geral_final.tail()"
   ]
  },
  {
   "cell_type": "code",
   "execution_count": 21,
   "metadata": {},
   "outputs": [],
   "source": [
    "df_mapa_geral.to_csv(\"../dados/tse/mapa_geral_final.csv\", index=False)"
   ]
  },
  {
   "cell_type": "code",
   "execution_count": null,
   "metadata": {},
   "outputs": [],
   "source": []
  }
 ],
 "metadata": {
  "kernelspec": {
   "display_name": "Python 3",
   "language": "python",
   "name": "python3"
  },
  "language_info": {
   "codemirror_mode": {
    "name": "ipython",
    "version": 3
   },
   "file_extension": ".py",
   "mimetype": "text/x-python",
   "name": "python",
   "nbconvert_exporter": "python",
   "pygments_lexer": "ipython3",
   "version": "3.7.6"
  }
 },
 "nbformat": 4,
 "nbformat_minor": 4
}
